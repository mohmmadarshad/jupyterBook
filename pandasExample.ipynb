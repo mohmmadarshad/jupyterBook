{
 "cells": [
  {
   "cell_type": "code",
   "execution_count": 2,
   "metadata": {},
   "outputs": [],
   "source": [
    "import numpy as np\n",
    "import pandas as pd"
   ]
  },
  {
   "cell_type": "code",
   "execution_count": 5,
   "metadata": {},
   "outputs": [],
   "source": [
    "x=['a','b','c','d','e','f','g','h','i']\n",
    "y=[1,2,3,4,5,6,7,8,9]\n",
    "z={'a':1,'b':2,'c':3,'d':4,'e':5,'f':6,'g':7,'h':8,'i':9,'j':10,\n",
    "   'k':11,'l':11,'m':13,'n':14,'o':15,'p':16,'q':17,'r':18,'s':19,'t':20,\n",
    "   'u':21,'v':22,'w':23,'x':24,'y':25,'z':26}"
   ]
  },
  {
   "cell_type": "code",
   "execution_count": 6,
   "metadata": {},
   "outputs": [],
   "source": [
    "v=pd.Series(x,y)\n",
    "s=pd.Series(y,x)"
   ]
  },
  {
   "cell_type": "code",
   "execution_count": 7,
   "metadata": {},
   "outputs": [
    {
     "output_type": "execute_result",
     "data": {
      "text/plain": "1    a\n2    b\n3    c\n4    d\n5    e\n6    f\n7    g\n8    h\n9    i\ndtype: object"
     },
     "metadata": {},
     "execution_count": 7
    }
   ],
   "source": [
    "v"
   ]
  },
  {
   "cell_type": "code",
   "execution_count": 8,
   "metadata": {},
   "outputs": [
    {
     "output_type": "execute_result",
     "data": {
      "text/plain": "a    1\nb    2\nc    3\nd    4\ne    5\nf    6\ng    7\nh    8\ni    9\ndtype: int64"
     },
     "metadata": {},
     "execution_count": 8
    }
   ],
   "source": [
    "s"
   ]
  },
  {
   "cell_type": "code",
   "execution_count": 26,
   "metadata": {},
   "outputs": [],
   "source": [
    "A=[1,2,3,4]\n",
    "B=[5,6,7,8]\n",
    "C=[9,10,11,12]\n",
    "D=[13,12,13,43]\n",
    "E=[14,324,42,12]\n",
    "\n",
    "df=pd.DataFrame([A,B,C,D,E],['a','b','c','d','e'],['w','x','y','z'])"
   ]
  },
  {
   "cell_type": "code",
   "execution_count": 29,
   "metadata": {},
   "outputs": [
    {
     "output_type": "execute_result",
     "data": {
      "text/plain": "    w    x   y   z\na   1    2   3   4\nb   5    6   7   8\nc   9   10  11  12\nd  13   12  13  43\ne  14  324  42  12",
      "text/html": "<div>\n<style scoped>\n    .dataframe tbody tr th:only-of-type {\n        vertical-align: middle;\n    }\n\n    .dataframe tbody tr th {\n        vertical-align: top;\n    }\n\n    .dataframe thead th {\n        text-align: right;\n    }\n</style>\n<table border=\"1\" class=\"dataframe\">\n  <thead>\n    <tr style=\"text-align: right;\">\n      <th></th>\n      <th>w</th>\n      <th>x</th>\n      <th>y</th>\n      <th>z</th>\n    </tr>\n  </thead>\n  <tbody>\n    <tr>\n      <th>a</th>\n      <td>1</td>\n      <td>2</td>\n      <td>3</td>\n      <td>4</td>\n    </tr>\n    <tr>\n      <th>b</th>\n      <td>5</td>\n      <td>6</td>\n      <td>7</td>\n      <td>8</td>\n    </tr>\n    <tr>\n      <th>c</th>\n      <td>9</td>\n      <td>10</td>\n      <td>11</td>\n      <td>12</td>\n    </tr>\n    <tr>\n      <th>d</th>\n      <td>13</td>\n      <td>12</td>\n      <td>13</td>\n      <td>43</td>\n    </tr>\n    <tr>\n      <th>e</th>\n      <td>14</td>\n      <td>324</td>\n      <td>42</td>\n      <td>12</td>\n    </tr>\n  </tbody>\n</table>\n</div>"
     },
     "metadata": {},
     "execution_count": 29
    }
   ],
   "source": [
    "df"
   ]
  },
  {
   "cell_type": "code",
   "execution_count": 30,
   "metadata": {},
   "outputs": [],
   "source": [
    "df['Total w+x']=df['w']+df['x']"
   ]
  },
  {
   "cell_type": "code",
   "execution_count": 31,
   "metadata": {},
   "outputs": [
    {
     "output_type": "execute_result",
     "data": {
      "text/plain": "    w    x   y   z  Total w+x\na   1    2   3   4          3\nb   5    6   7   8         11\nc   9   10  11  12         19\nd  13   12  13  43         25\ne  14  324  42  12        338",
      "text/html": "<div>\n<style scoped>\n    .dataframe tbody tr th:only-of-type {\n        vertical-align: middle;\n    }\n\n    .dataframe tbody tr th {\n        vertical-align: top;\n    }\n\n    .dataframe thead th {\n        text-align: right;\n    }\n</style>\n<table border=\"1\" class=\"dataframe\">\n  <thead>\n    <tr style=\"text-align: right;\">\n      <th></th>\n      <th>w</th>\n      <th>x</th>\n      <th>y</th>\n      <th>z</th>\n      <th>Total w+x</th>\n    </tr>\n  </thead>\n  <tbody>\n    <tr>\n      <th>a</th>\n      <td>1</td>\n      <td>2</td>\n      <td>3</td>\n      <td>4</td>\n      <td>3</td>\n    </tr>\n    <tr>\n      <th>b</th>\n      <td>5</td>\n      <td>6</td>\n      <td>7</td>\n      <td>8</td>\n      <td>11</td>\n    </tr>\n    <tr>\n      <th>c</th>\n      <td>9</td>\n      <td>10</td>\n      <td>11</td>\n      <td>12</td>\n      <td>19</td>\n    </tr>\n    <tr>\n      <th>d</th>\n      <td>13</td>\n      <td>12</td>\n      <td>13</td>\n      <td>43</td>\n      <td>25</td>\n    </tr>\n    <tr>\n      <th>e</th>\n      <td>14</td>\n      <td>324</td>\n      <td>42</td>\n      <td>12</td>\n      <td>338</td>\n    </tr>\n  </tbody>\n</table>\n</div>"
     },
     "metadata": {},
     "execution_count": 31
    }
   ],
   "source": [
    "df"
   ]
  },
  {
   "cell_type": "code",
   "execution_count": 32,
   "metadata": {},
   "outputs": [],
   "source": [
    "df['w*z']=df['w']*df['z']"
   ]
  },
  {
   "cell_type": "code",
   "execution_count": 33,
   "metadata": {},
   "outputs": [
    {
     "output_type": "execute_result",
     "data": {
      "text/plain": "    w    x   y   z  Total w+x  w*z\na   1    2   3   4          3    4\nb   5    6   7   8         11   40\nc   9   10  11  12         19  108\nd  13   12  13  43         25  559\ne  14  324  42  12        338  168",
      "text/html": "<div>\n<style scoped>\n    .dataframe tbody tr th:only-of-type {\n        vertical-align: middle;\n    }\n\n    .dataframe tbody tr th {\n        vertical-align: top;\n    }\n\n    .dataframe thead th {\n        text-align: right;\n    }\n</style>\n<table border=\"1\" class=\"dataframe\">\n  <thead>\n    <tr style=\"text-align: right;\">\n      <th></th>\n      <th>w</th>\n      <th>x</th>\n      <th>y</th>\n      <th>z</th>\n      <th>Total w+x</th>\n      <th>w*z</th>\n    </tr>\n  </thead>\n  <tbody>\n    <tr>\n      <th>a</th>\n      <td>1</td>\n      <td>2</td>\n      <td>3</td>\n      <td>4</td>\n      <td>3</td>\n      <td>4</td>\n    </tr>\n    <tr>\n      <th>b</th>\n      <td>5</td>\n      <td>6</td>\n      <td>7</td>\n      <td>8</td>\n      <td>11</td>\n      <td>40</td>\n    </tr>\n    <tr>\n      <th>c</th>\n      <td>9</td>\n      <td>10</td>\n      <td>11</td>\n      <td>12</td>\n      <td>19</td>\n      <td>108</td>\n    </tr>\n    <tr>\n      <th>d</th>\n      <td>13</td>\n      <td>12</td>\n      <td>13</td>\n      <td>43</td>\n      <td>25</td>\n      <td>559</td>\n    </tr>\n    <tr>\n      <th>e</th>\n      <td>14</td>\n      <td>324</td>\n      <td>42</td>\n      <td>12</td>\n      <td>338</td>\n      <td>168</td>\n    </tr>\n  </tbody>\n</table>\n</div>"
     },
     "metadata": {},
     "execution_count": 33
    }
   ],
   "source": [
    "df"
   ]
  },
  {
   "cell_type": "code",
   "execution_count": 34,
   "metadata": {},
   "outputs": [],
   "source": [
    "df['z/x']=df['z']/df['x']"
   ]
  },
  {
   "cell_type": "code",
   "execution_count": 35,
   "metadata": {},
   "outputs": [
    {
     "output_type": "execute_result",
     "data": {
      "text/plain": "    w    x   y   z  Total w+x  w*z       z/x\na   1    2   3   4          3    4  2.000000\nb   5    6   7   8         11   40  1.333333\nc   9   10  11  12         19  108  1.200000\nd  13   12  13  43         25  559  3.583333\ne  14  324  42  12        338  168  0.037037",
      "text/html": "<div>\n<style scoped>\n    .dataframe tbody tr th:only-of-type {\n        vertical-align: middle;\n    }\n\n    .dataframe tbody tr th {\n        vertical-align: top;\n    }\n\n    .dataframe thead th {\n        text-align: right;\n    }\n</style>\n<table border=\"1\" class=\"dataframe\">\n  <thead>\n    <tr style=\"text-align: right;\">\n      <th></th>\n      <th>w</th>\n      <th>x</th>\n      <th>y</th>\n      <th>z</th>\n      <th>Total w+x</th>\n      <th>w*z</th>\n      <th>z/x</th>\n    </tr>\n  </thead>\n  <tbody>\n    <tr>\n      <th>a</th>\n      <td>1</td>\n      <td>2</td>\n      <td>3</td>\n      <td>4</td>\n      <td>3</td>\n      <td>4</td>\n      <td>2.000000</td>\n    </tr>\n    <tr>\n      <th>b</th>\n      <td>5</td>\n      <td>6</td>\n      <td>7</td>\n      <td>8</td>\n      <td>11</td>\n      <td>40</td>\n      <td>1.333333</td>\n    </tr>\n    <tr>\n      <th>c</th>\n      <td>9</td>\n      <td>10</td>\n      <td>11</td>\n      <td>12</td>\n      <td>19</td>\n      <td>108</td>\n      <td>1.200000</td>\n    </tr>\n    <tr>\n      <th>d</th>\n      <td>13</td>\n      <td>12</td>\n      <td>13</td>\n      <td>43</td>\n      <td>25</td>\n      <td>559</td>\n      <td>3.583333</td>\n    </tr>\n    <tr>\n      <th>e</th>\n      <td>14</td>\n      <td>324</td>\n      <td>42</td>\n      <td>12</td>\n      <td>338</td>\n      <td>168</td>\n      <td>0.037037</td>\n    </tr>\n  </tbody>\n</table>\n</div>"
     },
     "metadata": {},
     "execution_count": 35
    }
   ],
   "source": [
    "df"
   ]
  },
  {
   "cell_type": "code",
   "execution_count": 36,
   "metadata": {},
   "outputs": [],
   "source": [
    "df['y-z']=df['y']-df['z']"
   ]
  },
  {
   "cell_type": "code",
   "execution_count": 37,
   "metadata": {},
   "outputs": [
    {
     "output_type": "execute_result",
     "data": {
      "text/plain": "    w    x   y   z  Total w+x  w*z       z/x  y-z\na   1    2   3   4          3    4  2.000000   -1\nb   5    6   7   8         11   40  1.333333   -1\nc   9   10  11  12         19  108  1.200000   -1\nd  13   12  13  43         25  559  3.583333  -30\ne  14  324  42  12        338  168  0.037037   30",
      "text/html": "<div>\n<style scoped>\n    .dataframe tbody tr th:only-of-type {\n        vertical-align: middle;\n    }\n\n    .dataframe tbody tr th {\n        vertical-align: top;\n    }\n\n    .dataframe thead th {\n        text-align: right;\n    }\n</style>\n<table border=\"1\" class=\"dataframe\">\n  <thead>\n    <tr style=\"text-align: right;\">\n      <th></th>\n      <th>w</th>\n      <th>x</th>\n      <th>y</th>\n      <th>z</th>\n      <th>Total w+x</th>\n      <th>w*z</th>\n      <th>z/x</th>\n      <th>y-z</th>\n    </tr>\n  </thead>\n  <tbody>\n    <tr>\n      <th>a</th>\n      <td>1</td>\n      <td>2</td>\n      <td>3</td>\n      <td>4</td>\n      <td>3</td>\n      <td>4</td>\n      <td>2.000000</td>\n      <td>-1</td>\n    </tr>\n    <tr>\n      <th>b</th>\n      <td>5</td>\n      <td>6</td>\n      <td>7</td>\n      <td>8</td>\n      <td>11</td>\n      <td>40</td>\n      <td>1.333333</td>\n      <td>-1</td>\n    </tr>\n    <tr>\n      <th>c</th>\n      <td>9</td>\n      <td>10</td>\n      <td>11</td>\n      <td>12</td>\n      <td>19</td>\n      <td>108</td>\n      <td>1.200000</td>\n      <td>-1</td>\n    </tr>\n    <tr>\n      <th>d</th>\n      <td>13</td>\n      <td>12</td>\n      <td>13</td>\n      <td>43</td>\n      <td>25</td>\n      <td>559</td>\n      <td>3.583333</td>\n      <td>-30</td>\n    </tr>\n    <tr>\n      <th>e</th>\n      <td>14</td>\n      <td>324</td>\n      <td>42</td>\n      <td>12</td>\n      <td>338</td>\n      <td>168</td>\n      <td>0.037037</td>\n      <td>30</td>\n    </tr>\n  </tbody>\n</table>\n</div>"
     },
     "metadata": {},
     "execution_count": 37
    }
   ],
   "source": [
    "df"
   ]
  },
  {
   "cell_type": "code",
   "execution_count": 38,
   "metadata": {},
   "outputs": [
    {
     "output_type": "execute_result",
     "data": {
      "text/plain": "    w    x   y   z  Total w+x  w*z       z/x  y-z\nb   5    6   7   8         11   40  1.333333   -1\nc   9   10  11  12         19  108  1.200000   -1\nd  13   12  13  43         25  559  3.583333  -30\ne  14  324  42  12        338  168  0.037037   30",
      "text/html": "<div>\n<style scoped>\n    .dataframe tbody tr th:only-of-type {\n        vertical-align: middle;\n    }\n\n    .dataframe tbody tr th {\n        vertical-align: top;\n    }\n\n    .dataframe thead th {\n        text-align: right;\n    }\n</style>\n<table border=\"1\" class=\"dataframe\">\n  <thead>\n    <tr style=\"text-align: right;\">\n      <th></th>\n      <th>w</th>\n      <th>x</th>\n      <th>y</th>\n      <th>z</th>\n      <th>Total w+x</th>\n      <th>w*z</th>\n      <th>z/x</th>\n      <th>y-z</th>\n    </tr>\n  </thead>\n  <tbody>\n    <tr>\n      <th>b</th>\n      <td>5</td>\n      <td>6</td>\n      <td>7</td>\n      <td>8</td>\n      <td>11</td>\n      <td>40</td>\n      <td>1.333333</td>\n      <td>-1</td>\n    </tr>\n    <tr>\n      <th>c</th>\n      <td>9</td>\n      <td>10</td>\n      <td>11</td>\n      <td>12</td>\n      <td>19</td>\n      <td>108</td>\n      <td>1.200000</td>\n      <td>-1</td>\n    </tr>\n    <tr>\n      <th>d</th>\n      <td>13</td>\n      <td>12</td>\n      <td>13</td>\n      <td>43</td>\n      <td>25</td>\n      <td>559</td>\n      <td>3.583333</td>\n      <td>-30</td>\n    </tr>\n    <tr>\n      <th>e</th>\n      <td>14</td>\n      <td>324</td>\n      <td>42</td>\n      <td>12</td>\n      <td>338</td>\n      <td>168</td>\n      <td>0.037037</td>\n      <td>30</td>\n    </tr>\n  </tbody>\n</table>\n</div>"
     },
     "metadata": {},
     "execution_count": 38
    }
   ],
   "source": [
    "df.drop('a')"
   ]
  },
  {
   "cell_type": "code",
   "execution_count": 39,
   "metadata": {},
   "outputs": [
    {
     "output_type": "execute_result",
     "data": {
      "text/plain": "    w    x   y   z  Total w+x  w*z       z/x  y-z\na   1    2   3   4          3    4  2.000000   -1\nb   5    6   7   8         11   40  1.333333   -1\nc   9   10  11  12         19  108  1.200000   -1\nd  13   12  13  43         25  559  3.583333  -30\ne  14  324  42  12        338  168  0.037037   30",
      "text/html": "<div>\n<style scoped>\n    .dataframe tbody tr th:only-of-type {\n        vertical-align: middle;\n    }\n\n    .dataframe tbody tr th {\n        vertical-align: top;\n    }\n\n    .dataframe thead th {\n        text-align: right;\n    }\n</style>\n<table border=\"1\" class=\"dataframe\">\n  <thead>\n    <tr style=\"text-align: right;\">\n      <th></th>\n      <th>w</th>\n      <th>x</th>\n      <th>y</th>\n      <th>z</th>\n      <th>Total w+x</th>\n      <th>w*z</th>\n      <th>z/x</th>\n      <th>y-z</th>\n    </tr>\n  </thead>\n  <tbody>\n    <tr>\n      <th>a</th>\n      <td>1</td>\n      <td>2</td>\n      <td>3</td>\n      <td>4</td>\n      <td>3</td>\n      <td>4</td>\n      <td>2.000000</td>\n      <td>-1</td>\n    </tr>\n    <tr>\n      <th>b</th>\n      <td>5</td>\n      <td>6</td>\n      <td>7</td>\n      <td>8</td>\n      <td>11</td>\n      <td>40</td>\n      <td>1.333333</td>\n      <td>-1</td>\n    </tr>\n    <tr>\n      <th>c</th>\n      <td>9</td>\n      <td>10</td>\n      <td>11</td>\n      <td>12</td>\n      <td>19</td>\n      <td>108</td>\n      <td>1.200000</td>\n      <td>-1</td>\n    </tr>\n    <tr>\n      <th>d</th>\n      <td>13</td>\n      <td>12</td>\n      <td>13</td>\n      <td>43</td>\n      <td>25</td>\n      <td>559</td>\n      <td>3.583333</td>\n      <td>-30</td>\n    </tr>\n    <tr>\n      <th>e</th>\n      <td>14</td>\n      <td>324</td>\n      <td>42</td>\n      <td>12</td>\n      <td>338</td>\n      <td>168</td>\n      <td>0.037037</td>\n      <td>30</td>\n    </tr>\n  </tbody>\n</table>\n</div>"
     },
     "metadata": {},
     "execution_count": 39
    }
   ],
   "source": [
    "df"
   ]
  },
  {
   "cell_type": "code",
   "execution_count": 40,
   "metadata": {},
   "outputs": [],
   "source": [
    "df.drop('e',inplace=True)"
   ]
  },
  {
   "cell_type": "code",
   "execution_count": 41,
   "metadata": {},
   "outputs": [
    {
     "output_type": "execute_result",
     "data": {
      "text/plain": "    w   x   y   z  Total w+x  w*z       z/x  y-z\na   1   2   3   4          3    4  2.000000   -1\nb   5   6   7   8         11   40  1.333333   -1\nc   9  10  11  12         19  108  1.200000   -1\nd  13  12  13  43         25  559  3.583333  -30",
      "text/html": "<div>\n<style scoped>\n    .dataframe tbody tr th:only-of-type {\n        vertical-align: middle;\n    }\n\n    .dataframe tbody tr th {\n        vertical-align: top;\n    }\n\n    .dataframe thead th {\n        text-align: right;\n    }\n</style>\n<table border=\"1\" class=\"dataframe\">\n  <thead>\n    <tr style=\"text-align: right;\">\n      <th></th>\n      <th>w</th>\n      <th>x</th>\n      <th>y</th>\n      <th>z</th>\n      <th>Total w+x</th>\n      <th>w*z</th>\n      <th>z/x</th>\n      <th>y-z</th>\n    </tr>\n  </thead>\n  <tbody>\n    <tr>\n      <th>a</th>\n      <td>1</td>\n      <td>2</td>\n      <td>3</td>\n      <td>4</td>\n      <td>3</td>\n      <td>4</td>\n      <td>2.000000</td>\n      <td>-1</td>\n    </tr>\n    <tr>\n      <th>b</th>\n      <td>5</td>\n      <td>6</td>\n      <td>7</td>\n      <td>8</td>\n      <td>11</td>\n      <td>40</td>\n      <td>1.333333</td>\n      <td>-1</td>\n    </tr>\n    <tr>\n      <th>c</th>\n      <td>9</td>\n      <td>10</td>\n      <td>11</td>\n      <td>12</td>\n      <td>19</td>\n      <td>108</td>\n      <td>1.200000</td>\n      <td>-1</td>\n    </tr>\n    <tr>\n      <th>d</th>\n      <td>13</td>\n      <td>12</td>\n      <td>13</td>\n      <td>43</td>\n      <td>25</td>\n      <td>559</td>\n      <td>3.583333</td>\n      <td>-30</td>\n    </tr>\n  </tbody>\n</table>\n</div>"
     },
     "metadata": {},
     "execution_count": 41
    }
   ],
   "source": [
    "df"
   ]
  },
  {
   "cell_type": "code",
   "execution_count": 25,
   "metadata": {},
   "outputs": [
    {
     "output_type": "execute_result",
     "data": {
      "text/plain": "    w   x   y   z  Total w+x  w*z       z/x  y-z\na   1   2   3   4          3    4  2.000000   -1\nb   5   6   7   8         11   40  1.333333   -1\nc   9  10  11  12         19  108  1.200000   -1\nd  13  12  13  43         25  559  3.583333  -30",
      "text/html": "<div>\n<style scoped>\n    .dataframe tbody tr th:only-of-type {\n        vertical-align: middle;\n    }\n\n    .dataframe tbody tr th {\n        vertical-align: top;\n    }\n\n    .dataframe thead th {\n        text-align: right;\n    }\n</style>\n<table border=\"1\" class=\"dataframe\">\n  <thead>\n    <tr style=\"text-align: right;\">\n      <th></th>\n      <th>w</th>\n      <th>x</th>\n      <th>y</th>\n      <th>z</th>\n      <th>Total w+x</th>\n      <th>w*z</th>\n      <th>z/x</th>\n      <th>y-z</th>\n    </tr>\n  </thead>\n  <tbody>\n    <tr>\n      <th>a</th>\n      <td>1</td>\n      <td>2</td>\n      <td>3</td>\n      <td>4</td>\n      <td>3</td>\n      <td>4</td>\n      <td>2.000000</td>\n      <td>-1</td>\n    </tr>\n    <tr>\n      <th>b</th>\n      <td>5</td>\n      <td>6</td>\n      <td>7</td>\n      <td>8</td>\n      <td>11</td>\n      <td>40</td>\n      <td>1.333333</td>\n      <td>-1</td>\n    </tr>\n    <tr>\n      <th>c</th>\n      <td>9</td>\n      <td>10</td>\n      <td>11</td>\n      <td>12</td>\n      <td>19</td>\n      <td>108</td>\n      <td>1.200000</td>\n      <td>-1</td>\n    </tr>\n    <tr>\n      <th>d</th>\n      <td>13</td>\n      <td>12</td>\n      <td>13</td>\n      <td>43</td>\n      <td>25</td>\n      <td>559</td>\n      <td>3.583333</td>\n      <td>-30</td>\n    </tr>\n  </tbody>\n</table>\n</div>"
     },
     "metadata": {},
     "execution_count": 25
    }
   ],
   "source": [
    "df"
   ]
  },
  {
   "cell_type": "code",
   "execution_count": 26,
   "metadata": {},
   "outputs": [
    {
     "output_type": "execute_result",
     "data": {
      "text/plain": "a     1\nb     5\nc     9\nd    13\nName: w, dtype: int64"
     },
     "metadata": {},
     "execution_count": 26
    }
   ],
   "source": [
    "df['w']"
   ]
  },
  {
   "cell_type": "code",
   "execution_count": 27,
   "metadata": {},
   "outputs": [
    {
     "output_type": "execute_result",
     "data": {
      "text/plain": "w              9.0\nx             10.0\ny             11.0\nz             12.0\nTotal w+x     19.0\nw*z          108.0\nz/x            1.2\ny-z           -1.0\nName: c, dtype: float64"
     },
     "metadata": {},
     "execution_count": 27
    }
   ],
   "source": [
    "df.loc['c']"
   ]
  },
  {
   "cell_type": "code",
   "execution_count": 28,
   "metadata": {},
   "outputs": [],
   "source": [
    "#addtion of df\n",
    "g=df.loc['b','w']+df.loc['c','Total w+x']"
   ]
  },
  {
   "cell_type": "code",
   "execution_count": 29,
   "metadata": {},
   "outputs": [
    {
     "output_type": "execute_result",
     "data": {
      "text/plain": "24"
     },
     "metadata": {},
     "execution_count": 29
    }
   ],
   "source": [
    "g"
   ]
  },
  {
   "cell_type": "code",
   "execution_count": 30,
   "metadata": {},
   "outputs": [
    {
     "output_type": "execute_result",
     "data": {
      "text/plain": "       w      x      y      z  Total w+x    w*z    z/x    y-z\na  False  False  False  False      False  False  False  False\nb   True   True   True   True       True   True  False  False\nc   True   True   True   True       True   True  False  False\nd   True   True   True   True       True   True  False  False",
      "text/html": "<div>\n<style scoped>\n    .dataframe tbody tr th:only-of-type {\n        vertical-align: middle;\n    }\n\n    .dataframe tbody tr th {\n        vertical-align: top;\n    }\n\n    .dataframe thead th {\n        text-align: right;\n    }\n</style>\n<table border=\"1\" class=\"dataframe\">\n  <thead>\n    <tr style=\"text-align: right;\">\n      <th></th>\n      <th>w</th>\n      <th>x</th>\n      <th>y</th>\n      <th>z</th>\n      <th>Total w+x</th>\n      <th>w*z</th>\n      <th>z/x</th>\n      <th>y-z</th>\n    </tr>\n  </thead>\n  <tbody>\n    <tr>\n      <th>a</th>\n      <td>False</td>\n      <td>False</td>\n      <td>False</td>\n      <td>False</td>\n      <td>False</td>\n      <td>False</td>\n      <td>False</td>\n      <td>False</td>\n    </tr>\n    <tr>\n      <th>b</th>\n      <td>True</td>\n      <td>True</td>\n      <td>True</td>\n      <td>True</td>\n      <td>True</td>\n      <td>True</td>\n      <td>False</td>\n      <td>False</td>\n    </tr>\n    <tr>\n      <th>c</th>\n      <td>True</td>\n      <td>True</td>\n      <td>True</td>\n      <td>True</td>\n      <td>True</td>\n      <td>True</td>\n      <td>False</td>\n      <td>False</td>\n    </tr>\n    <tr>\n      <th>d</th>\n      <td>True</td>\n      <td>True</td>\n      <td>True</td>\n      <td>True</td>\n      <td>True</td>\n      <td>True</td>\n      <td>False</td>\n      <td>False</td>\n    </tr>\n  </tbody>\n</table>\n</div>"
     },
     "metadata": {},
     "execution_count": 30
    }
   ],
   "source": [
    "df>4"
   ]
  },
  {
   "cell_type": "code",
   "execution_count": 31,
   "metadata": {},
   "outputs": [
    {
     "output_type": "execute_result",
     "data": {
      "text/plain": "       w      x      y      z  Total w+x    w*z    z/x   y-z\na   True  False  False  False      False  False  False  True\nb  False  False  False  False      False  False   True  True\nc  False  False  False  False      False  False   True  True\nd  False  False  False  False      False  False  False  True",
      "text/html": "<div>\n<style scoped>\n    .dataframe tbody tr th:only-of-type {\n        vertical-align: middle;\n    }\n\n    .dataframe tbody tr th {\n        vertical-align: top;\n    }\n\n    .dataframe thead th {\n        text-align: right;\n    }\n</style>\n<table border=\"1\" class=\"dataframe\">\n  <thead>\n    <tr style=\"text-align: right;\">\n      <th></th>\n      <th>w</th>\n      <th>x</th>\n      <th>y</th>\n      <th>z</th>\n      <th>Total w+x</th>\n      <th>w*z</th>\n      <th>z/x</th>\n      <th>y-z</th>\n    </tr>\n  </thead>\n  <tbody>\n    <tr>\n      <th>a</th>\n      <td>True</td>\n      <td>False</td>\n      <td>False</td>\n      <td>False</td>\n      <td>False</td>\n      <td>False</td>\n      <td>False</td>\n      <td>True</td>\n    </tr>\n    <tr>\n      <th>b</th>\n      <td>False</td>\n      <td>False</td>\n      <td>False</td>\n      <td>False</td>\n      <td>False</td>\n      <td>False</td>\n      <td>True</td>\n      <td>True</td>\n    </tr>\n    <tr>\n      <th>c</th>\n      <td>False</td>\n      <td>False</td>\n      <td>False</td>\n      <td>False</td>\n      <td>False</td>\n      <td>False</td>\n      <td>True</td>\n      <td>True</td>\n    </tr>\n    <tr>\n      <th>d</th>\n      <td>False</td>\n      <td>False</td>\n      <td>False</td>\n      <td>False</td>\n      <td>False</td>\n      <td>False</td>\n      <td>False</td>\n      <td>True</td>\n    </tr>\n  </tbody>\n</table>\n</div>"
     },
     "metadata": {},
     "execution_count": 31
    }
   ],
   "source": [
    "df<2"
   ]
  },
  {
   "cell_type": "code",
   "execution_count": 32,
   "metadata": {},
   "outputs": [
    {
     "output_type": "execute_result",
     "data": {
      "text/plain": "    w   x   y   z  Total w+x  w*z       z/x  y-z\nd  13  12  13  43         25  559  3.583333  -30",
      "text/html": "<div>\n<style scoped>\n    .dataframe tbody tr th:only-of-type {\n        vertical-align: middle;\n    }\n\n    .dataframe tbody tr th {\n        vertical-align: top;\n    }\n\n    .dataframe thead th {\n        text-align: right;\n    }\n</style>\n<table border=\"1\" class=\"dataframe\">\n  <thead>\n    <tr style=\"text-align: right;\">\n      <th></th>\n      <th>w</th>\n      <th>x</th>\n      <th>y</th>\n      <th>z</th>\n      <th>Total w+x</th>\n      <th>w*z</th>\n      <th>z/x</th>\n      <th>y-z</th>\n    </tr>\n  </thead>\n  <tbody>\n    <tr>\n      <th>d</th>\n      <td>13</td>\n      <td>12</td>\n      <td>13</td>\n      <td>43</td>\n      <td>25</td>\n      <td>559</td>\n      <td>3.583333</td>\n      <td>-30</td>\n    </tr>\n  </tbody>\n</table>\n</div>"
     },
     "metadata": {},
     "execution_count": 32
    }
   ],
   "source": [
    "df[(df['w']>8) & (df['y']>11)]"
   ]
  },
  {
   "cell_type": "code",
   "execution_count": 33,
   "metadata": {},
   "outputs": [
    {
     "output_type": "execute_result",
     "data": {
      "text/plain": "    w   x   y   z  Total w+x  w*z       z/x  y-z\nc   9  10  11  12         19  108  1.200000   -1\nd  13  12  13  43         25  559  3.583333  -30",
      "text/html": "<div>\n<style scoped>\n    .dataframe tbody tr th:only-of-type {\n        vertical-align: middle;\n    }\n\n    .dataframe tbody tr th {\n        vertical-align: top;\n    }\n\n    .dataframe thead th {\n        text-align: right;\n    }\n</style>\n<table border=\"1\" class=\"dataframe\">\n  <thead>\n    <tr style=\"text-align: right;\">\n      <th></th>\n      <th>w</th>\n      <th>x</th>\n      <th>y</th>\n      <th>z</th>\n      <th>Total w+x</th>\n      <th>w*z</th>\n      <th>z/x</th>\n      <th>y-z</th>\n    </tr>\n  </thead>\n  <tbody>\n    <tr>\n      <th>c</th>\n      <td>9</td>\n      <td>10</td>\n      <td>11</td>\n      <td>12</td>\n      <td>19</td>\n      <td>108</td>\n      <td>1.200000</td>\n      <td>-1</td>\n    </tr>\n    <tr>\n      <th>d</th>\n      <td>13</td>\n      <td>12</td>\n      <td>13</td>\n      <td>43</td>\n      <td>25</td>\n      <td>559</td>\n      <td>3.583333</td>\n      <td>-30</td>\n    </tr>\n  </tbody>\n</table>\n</div>"
     },
     "metadata": {},
     "execution_count": 33
    }
   ],
   "source": [
    "df[(df['w']>8) | (df['y']>11)]"
   ]
  },
  {
   "cell_type": "markdown",
   "metadata": {},
   "source": [
    "#pandas Data Analayic tuts"
   ]
  },
  {
   "cell_type": "code",
   "execution_count": 34,
   "metadata": {},
   "outputs": [],
   "source": [
    "e={'a':[1,2,3,4],'b':[2,4,5,np.nan],'c':[4,1,np.nan,2],'d':[4,2,np.nan,np.nan],'e':[5,np.nan,np.nan,np.nan]}"
   ]
  },
  {
   "cell_type": "code",
   "execution_count": 35,
   "metadata": {},
   "outputs": [
    {
     "output_type": "execute_result",
     "data": {
      "text/plain": "{'a': [1, 2, 3, 4],\n 'b': [2, 4, 5, nan],\n 'c': [4, 1, nan, 2],\n 'd': [4, 2, nan, nan],\n 'e': [5, nan, nan, nan]}"
     },
     "metadata": {},
     "execution_count": 35
    }
   ],
   "source": [
    "e"
   ]
  },
  {
   "cell_type": "code",
   "execution_count": 36,
   "metadata": {},
   "outputs": [],
   "source": [
    "e=pd.DataFrame(e)"
   ]
  },
  {
   "cell_type": "code",
   "execution_count": 37,
   "metadata": {},
   "outputs": [
    {
     "output_type": "execute_result",
     "data": {
      "text/plain": "   a    b    c    d    e\n0  1  2.0  4.0  4.0  5.0\n1  2  4.0  1.0  2.0  NaN\n2  3  5.0  NaN  NaN  NaN\n3  4  NaN  2.0  NaN  NaN",
      "text/html": "<div>\n<style scoped>\n    .dataframe tbody tr th:only-of-type {\n        vertical-align: middle;\n    }\n\n    .dataframe tbody tr th {\n        vertical-align: top;\n    }\n\n    .dataframe thead th {\n        text-align: right;\n    }\n</style>\n<table border=\"1\" class=\"dataframe\">\n  <thead>\n    <tr style=\"text-align: right;\">\n      <th></th>\n      <th>a</th>\n      <th>b</th>\n      <th>c</th>\n      <th>d</th>\n      <th>e</th>\n    </tr>\n  </thead>\n  <tbody>\n    <tr>\n      <th>0</th>\n      <td>1</td>\n      <td>2.0</td>\n      <td>4.0</td>\n      <td>4.0</td>\n      <td>5.0</td>\n    </tr>\n    <tr>\n      <th>1</th>\n      <td>2</td>\n      <td>4.0</td>\n      <td>1.0</td>\n      <td>2.0</td>\n      <td>NaN</td>\n    </tr>\n    <tr>\n      <th>2</th>\n      <td>3</td>\n      <td>5.0</td>\n      <td>NaN</td>\n      <td>NaN</td>\n      <td>NaN</td>\n    </tr>\n    <tr>\n      <th>3</th>\n      <td>4</td>\n      <td>NaN</td>\n      <td>2.0</td>\n      <td>NaN</td>\n      <td>NaN</td>\n    </tr>\n  </tbody>\n</table>\n</div>"
     },
     "metadata": {},
     "execution_count": 37
    }
   ],
   "source": [
    "e"
   ]
  },
  {
   "cell_type": "code",
   "execution_count": 38,
   "metadata": {},
   "outputs": [
    {
     "output_type": "execute_result",
     "data": {
      "text/plain": "   a    b    c    d    e\n0  1  2.0  4.0  4.0  5.0",
      "text/html": "<div>\n<style scoped>\n    .dataframe tbody tr th:only-of-type {\n        vertical-align: middle;\n    }\n\n    .dataframe tbody tr th {\n        vertical-align: top;\n    }\n\n    .dataframe thead th {\n        text-align: right;\n    }\n</style>\n<table border=\"1\" class=\"dataframe\">\n  <thead>\n    <tr style=\"text-align: right;\">\n      <th></th>\n      <th>a</th>\n      <th>b</th>\n      <th>c</th>\n      <th>d</th>\n      <th>e</th>\n    </tr>\n  </thead>\n  <tbody>\n    <tr>\n      <th>0</th>\n      <td>1</td>\n      <td>2.0</td>\n      <td>4.0</td>\n      <td>4.0</td>\n      <td>5.0</td>\n    </tr>\n  </tbody>\n</table>\n</div>"
     },
     "metadata": {},
     "execution_count": 38
    }
   ],
   "source": [
    "e.dropna(axis=0)"
   ]
  },
  {
   "cell_type": "code",
   "execution_count": 39,
   "metadata": {},
   "outputs": [
    {
     "output_type": "execute_result",
     "data": {
      "text/plain": "   a\n0  1\n1  2\n2  3\n3  4",
      "text/html": "<div>\n<style scoped>\n    .dataframe tbody tr th:only-of-type {\n        vertical-align: middle;\n    }\n\n    .dataframe tbody tr th {\n        vertical-align: top;\n    }\n\n    .dataframe thead th {\n        text-align: right;\n    }\n</style>\n<table border=\"1\" class=\"dataframe\">\n  <thead>\n    <tr style=\"text-align: right;\">\n      <th></th>\n      <th>a</th>\n    </tr>\n  </thead>\n  <tbody>\n    <tr>\n      <th>0</th>\n      <td>1</td>\n    </tr>\n    <tr>\n      <th>1</th>\n      <td>2</td>\n    </tr>\n    <tr>\n      <th>2</th>\n      <td>3</td>\n    </tr>\n    <tr>\n      <th>3</th>\n      <td>4</td>\n    </tr>\n  </tbody>\n</table>\n</div>"
     },
     "metadata": {},
     "execution_count": 39
    }
   ],
   "source": [
    "e.dropna(axis=1)"
   ]
  },
  {
   "cell_type": "code",
   "execution_count": 40,
   "metadata": {},
   "outputs": [
    {
     "output_type": "execute_result",
     "data": {
      "text/plain": "   a    b    c    d    e\n0  1  2.0  4.0  4.0  5.0\n1  2  4.0  1.0  2.0  NaN",
      "text/html": "<div>\n<style scoped>\n    .dataframe tbody tr th:only-of-type {\n        vertical-align: middle;\n    }\n\n    .dataframe tbody tr th {\n        vertical-align: top;\n    }\n\n    .dataframe thead th {\n        text-align: right;\n    }\n</style>\n<table border=\"1\" class=\"dataframe\">\n  <thead>\n    <tr style=\"text-align: right;\">\n      <th></th>\n      <th>a</th>\n      <th>b</th>\n      <th>c</th>\n      <th>d</th>\n      <th>e</th>\n    </tr>\n  </thead>\n  <tbody>\n    <tr>\n      <th>0</th>\n      <td>1</td>\n      <td>2.0</td>\n      <td>4.0</td>\n      <td>4.0</td>\n      <td>5.0</td>\n    </tr>\n    <tr>\n      <th>1</th>\n      <td>2</td>\n      <td>4.0</td>\n      <td>1.0</td>\n      <td>2.0</td>\n      <td>NaN</td>\n    </tr>\n  </tbody>\n</table>\n</div>"
     },
     "metadata": {},
     "execution_count": 40
    }
   ],
   "source": [
    "e.dropna(thresh=3)"
   ]
  },
  {
   "cell_type": "code",
   "execution_count": 41,
   "metadata": {},
   "outputs": [
    {
     "output_type": "execute_result",
     "data": {
      "text/plain": "   a    b    c    d    e\n0  1  2.0  4.0  4.0  5.0",
      "text/html": "<div>\n<style scoped>\n    .dataframe tbody tr th:only-of-type {\n        vertical-align: middle;\n    }\n\n    .dataframe tbody tr th {\n        vertical-align: top;\n    }\n\n    .dataframe thead th {\n        text-align: right;\n    }\n</style>\n<table border=\"1\" class=\"dataframe\">\n  <thead>\n    <tr style=\"text-align: right;\">\n      <th></th>\n      <th>a</th>\n      <th>b</th>\n      <th>c</th>\n      <th>d</th>\n      <th>e</th>\n    </tr>\n  </thead>\n  <tbody>\n    <tr>\n      <th>0</th>\n      <td>1</td>\n      <td>2.0</td>\n      <td>4.0</td>\n      <td>4.0</td>\n      <td>5.0</td>\n    </tr>\n  </tbody>\n</table>\n</div>"
     },
     "metadata": {},
     "execution_count": 41
    }
   ],
   "source": [
    "e.dropna(thresh=5)"
   ]
  },
  {
   "cell_type": "code",
   "execution_count": 42,
   "metadata": {},
   "outputs": [
    {
     "output_type": "execute_result",
     "data": {
      "text/plain": "   a    b    c    d    e\n0  1  2.0  4.0  4.0  5.0\n1  2  4.0  1.0  2.0  NaN",
      "text/html": "<div>\n<style scoped>\n    .dataframe tbody tr th:only-of-type {\n        vertical-align: middle;\n    }\n\n    .dataframe tbody tr th {\n        vertical-align: top;\n    }\n\n    .dataframe thead th {\n        text-align: right;\n    }\n</style>\n<table border=\"1\" class=\"dataframe\">\n  <thead>\n    <tr style=\"text-align: right;\">\n      <th></th>\n      <th>a</th>\n      <th>b</th>\n      <th>c</th>\n      <th>d</th>\n      <th>e</th>\n    </tr>\n  </thead>\n  <tbody>\n    <tr>\n      <th>0</th>\n      <td>1</td>\n      <td>2.0</td>\n      <td>4.0</td>\n      <td>4.0</td>\n      <td>5.0</td>\n    </tr>\n    <tr>\n      <th>1</th>\n      <td>2</td>\n      <td>4.0</td>\n      <td>1.0</td>\n      <td>2.0</td>\n      <td>NaN</td>\n    </tr>\n  </tbody>\n</table>\n</div>"
     },
     "metadata": {},
     "execution_count": 42
    }
   ],
   "source": [
    "e.dropna(thresh=4)"
   ]
  },
  {
   "cell_type": "code",
   "execution_count": 43,
   "metadata": {},
   "outputs": [
    {
     "output_type": "execute_result",
     "data": {
      "text/plain": "   a    b    c    d    e\n0  1  2.0  4.0  4.0  5.0\n1  2  4.0  1.0  2.0  2.0\n2  3  5.0  2.0  2.0  2.0\n3  4  2.0  2.0  2.0  2.0",
      "text/html": "<div>\n<style scoped>\n    .dataframe tbody tr th:only-of-type {\n        vertical-align: middle;\n    }\n\n    .dataframe tbody tr th {\n        vertical-align: top;\n    }\n\n    .dataframe thead th {\n        text-align: right;\n    }\n</style>\n<table border=\"1\" class=\"dataframe\">\n  <thead>\n    <tr style=\"text-align: right;\">\n      <th></th>\n      <th>a</th>\n      <th>b</th>\n      <th>c</th>\n      <th>d</th>\n      <th>e</th>\n    </tr>\n  </thead>\n  <tbody>\n    <tr>\n      <th>0</th>\n      <td>1</td>\n      <td>2.0</td>\n      <td>4.0</td>\n      <td>4.0</td>\n      <td>5.0</td>\n    </tr>\n    <tr>\n      <th>1</th>\n      <td>2</td>\n      <td>4.0</td>\n      <td>1.0</td>\n      <td>2.0</td>\n      <td>2.0</td>\n    </tr>\n    <tr>\n      <th>2</th>\n      <td>3</td>\n      <td>5.0</td>\n      <td>2.0</td>\n      <td>2.0</td>\n      <td>2.0</td>\n    </tr>\n    <tr>\n      <th>3</th>\n      <td>4</td>\n      <td>2.0</td>\n      <td>2.0</td>\n      <td>2.0</td>\n      <td>2.0</td>\n    </tr>\n  </tbody>\n</table>\n</div>"
     },
     "metadata": {},
     "execution_count": 43
    }
   ],
   "source": [
    "e.fillna(2)"
   ]
  },
  {
   "cell_type": "code",
   "execution_count": 44,
   "metadata": {},
   "outputs": [
    {
     "output_type": "execute_result",
     "data": {
      "text/plain": "   a    b    c    d    e\n0  1  2.0  4.0  4.0  5.0\n1  2  4.0  1.0  2.0  NaN\n2  3  5.0  NaN  NaN  NaN\n3  4  NaN  2.0  NaN  NaN",
      "text/html": "<div>\n<style scoped>\n    .dataframe tbody tr th:only-of-type {\n        vertical-align: middle;\n    }\n\n    .dataframe tbody tr th {\n        vertical-align: top;\n    }\n\n    .dataframe thead th {\n        text-align: right;\n    }\n</style>\n<table border=\"1\" class=\"dataframe\">\n  <thead>\n    <tr style=\"text-align: right;\">\n      <th></th>\n      <th>a</th>\n      <th>b</th>\n      <th>c</th>\n      <th>d</th>\n      <th>e</th>\n    </tr>\n  </thead>\n  <tbody>\n    <tr>\n      <th>0</th>\n      <td>1</td>\n      <td>2.0</td>\n      <td>4.0</td>\n      <td>4.0</td>\n      <td>5.0</td>\n    </tr>\n    <tr>\n      <th>1</th>\n      <td>2</td>\n      <td>4.0</td>\n      <td>1.0</td>\n      <td>2.0</td>\n      <td>NaN</td>\n    </tr>\n    <tr>\n      <th>2</th>\n      <td>3</td>\n      <td>5.0</td>\n      <td>NaN</td>\n      <td>NaN</td>\n      <td>NaN</td>\n    </tr>\n    <tr>\n      <th>3</th>\n      <td>4</td>\n      <td>NaN</td>\n      <td>2.0</td>\n      <td>NaN</td>\n      <td>NaN</td>\n    </tr>\n  </tbody>\n</table>\n</div>"
     },
     "metadata": {},
     "execution_count": 44
    }
   ],
   "source": [
    "e"
   ]
  },
  {
   "cell_type": "code",
   "execution_count": 45,
   "metadata": {},
   "outputs": [
    {
     "output_type": "execute_result",
     "data": {
      "text/plain": "0    2.0\n1    4.0\n2    5.0\n3    NaN\nName: b, dtype: float64"
     },
     "metadata": {},
     "execution_count": 45
    }
   ],
   "source": [
    "e['b']"
   ]
  },
  {
   "cell_type": "code",
   "execution_count": 46,
   "metadata": {},
   "outputs": [
    {
     "output_type": "execute_result",
     "data": {
      "text/plain": "0    2.000000\n1    4.000000\n2    5.000000\n3    3.666667\nName: b, dtype: float64"
     },
     "metadata": {},
     "execution_count": 46
    }
   ],
   "source": [
    "e['b'].fillna(value=e['b'].mean())"
   ]
  },
  {
   "cell_type": "code",
   "execution_count": 47,
   "metadata": {},
   "outputs": [
    {
     "output_type": "execute_result",
     "data": {
      "text/plain": "3.6666666666666665"
     },
     "metadata": {},
     "execution_count": 47
    }
   ],
   "source": [
    "#mean() the average function\n",
    "(2+4+5)/3"
   ]
  },
  {
   "cell_type": "code",
   "execution_count": 48,
   "metadata": {},
   "outputs": [
    {
     "output_type": "execute_result",
     "data": {
      "text/plain": "a    1.0\nb    2.0\nc    4.0\nd    4.0\ne    5.0\nName: 0, dtype: float64"
     },
     "metadata": {},
     "execution_count": 48
    }
   ],
   "source": [
    "e.loc[0].fillna(value=e.loc[3].mean(),)"
   ]
  },
  {
   "cell_type": "code",
   "execution_count": 49,
   "metadata": {},
   "outputs": [
    {
     "output_type": "execute_result",
     "data": {
      "text/plain": "   a    b    c    d    e\n0  1  2.0  4.0  4.0  5.0\n1  2  4.0  1.0  2.0  NaN\n2  3  5.0  NaN  NaN  NaN\n3  4  NaN  2.0  NaN  NaN",
      "text/html": "<div>\n<style scoped>\n    .dataframe tbody tr th:only-of-type {\n        vertical-align: middle;\n    }\n\n    .dataframe tbody tr th {\n        vertical-align: top;\n    }\n\n    .dataframe thead th {\n        text-align: right;\n    }\n</style>\n<table border=\"1\" class=\"dataframe\">\n  <thead>\n    <tr style=\"text-align: right;\">\n      <th></th>\n      <th>a</th>\n      <th>b</th>\n      <th>c</th>\n      <th>d</th>\n      <th>e</th>\n    </tr>\n  </thead>\n  <tbody>\n    <tr>\n      <th>0</th>\n      <td>1</td>\n      <td>2.0</td>\n      <td>4.0</td>\n      <td>4.0</td>\n      <td>5.0</td>\n    </tr>\n    <tr>\n      <th>1</th>\n      <td>2</td>\n      <td>4.0</td>\n      <td>1.0</td>\n      <td>2.0</td>\n      <td>NaN</td>\n    </tr>\n    <tr>\n      <th>2</th>\n      <td>3</td>\n      <td>5.0</td>\n      <td>NaN</td>\n      <td>NaN</td>\n      <td>NaN</td>\n    </tr>\n    <tr>\n      <th>3</th>\n      <td>4</td>\n      <td>NaN</td>\n      <td>2.0</td>\n      <td>NaN</td>\n      <td>NaN</td>\n    </tr>\n  </tbody>\n</table>\n</div>"
     },
     "metadata": {},
     "execution_count": 49
    }
   ],
   "source": [
    "e"
   ]
  },
  {
   "cell_type": "code",
   "execution_count": 50,
   "metadata": {},
   "outputs": [],
   "source": [
    "puu={'item':['apple','apple','bannan','bannan','gunne','gunne','gunne'],'days':['mon','tus','wed','ths','fri','sta','sun'],'sales':[100,23,42,14,13,41,51]}"
   ]
  },
  {
   "cell_type": "code",
   "execution_count": 51,
   "metadata": {},
   "outputs": [
    {
     "output_type": "execute_result",
     "data": {
      "text/plain": "{'item': ['apple', 'apple', 'bannan', 'bannan', 'gunne', 'gunne', 'gunne'],\n 'days': ['mon', 'tus', 'wed', 'ths', 'fri', 'sta', 'sun'],\n 'sales': [100, 23, 42, 14, 13, 41, 51]}"
     },
     "metadata": {},
     "execution_count": 51
    }
   ],
   "source": [
    "puu"
   ]
  },
  {
   "cell_type": "code",
   "execution_count": 52,
   "metadata": {},
   "outputs": [],
   "source": [
    "p=pd.DataFrame(puu)"
   ]
  },
  {
   "cell_type": "code",
   "execution_count": 53,
   "metadata": {},
   "outputs": [
    {
     "output_type": "execute_result",
     "data": {
      "text/plain": "     item days  sales\n0   apple  mon    100\n1   apple  tus     23\n2  bannan  wed     42\n3  bannan  ths     14\n4   gunne  fri     13\n5   gunne  sta     41\n6   gunne  sun     51",
      "text/html": "<div>\n<style scoped>\n    .dataframe tbody tr th:only-of-type {\n        vertical-align: middle;\n    }\n\n    .dataframe tbody tr th {\n        vertical-align: top;\n    }\n\n    .dataframe thead th {\n        text-align: right;\n    }\n</style>\n<table border=\"1\" class=\"dataframe\">\n  <thead>\n    <tr style=\"text-align: right;\">\n      <th></th>\n      <th>item</th>\n      <th>days</th>\n      <th>sales</th>\n    </tr>\n  </thead>\n  <tbody>\n    <tr>\n      <th>0</th>\n      <td>apple</td>\n      <td>mon</td>\n      <td>100</td>\n    </tr>\n    <tr>\n      <th>1</th>\n      <td>apple</td>\n      <td>tus</td>\n      <td>23</td>\n    </tr>\n    <tr>\n      <th>2</th>\n      <td>bannan</td>\n      <td>wed</td>\n      <td>42</td>\n    </tr>\n    <tr>\n      <th>3</th>\n      <td>bannan</td>\n      <td>ths</td>\n      <td>14</td>\n    </tr>\n    <tr>\n      <th>4</th>\n      <td>gunne</td>\n      <td>fri</td>\n      <td>13</td>\n    </tr>\n    <tr>\n      <th>5</th>\n      <td>gunne</td>\n      <td>sta</td>\n      <td>41</td>\n    </tr>\n    <tr>\n      <th>6</th>\n      <td>gunne</td>\n      <td>sun</td>\n      <td>51</td>\n    </tr>\n  </tbody>\n</table>\n</div>"
     },
     "metadata": {},
     "execution_count": 53
    }
   ],
   "source": [
    "p"
   ]
  },
  {
   "cell_type": "code",
   "execution_count": 54,
   "metadata": {},
   "outputs": [],
   "source": [
    "x=p.groupby('item')"
   ]
  },
  {
   "cell_type": "code",
   "execution_count": 55,
   "metadata": {},
   "outputs": [
    {
     "output_type": "execute_result",
     "data": {
      "text/plain": "        sales\nitem         \napple    61.5\nbannan   28.0\ngunne    35.0",
      "text/html": "<div>\n<style scoped>\n    .dataframe tbody tr th:only-of-type {\n        vertical-align: middle;\n    }\n\n    .dataframe tbody tr th {\n        vertical-align: top;\n    }\n\n    .dataframe thead th {\n        text-align: right;\n    }\n</style>\n<table border=\"1\" class=\"dataframe\">\n  <thead>\n    <tr style=\"text-align: right;\">\n      <th></th>\n      <th>sales</th>\n    </tr>\n    <tr>\n      <th>item</th>\n      <th></th>\n    </tr>\n  </thead>\n  <tbody>\n    <tr>\n      <th>apple</th>\n      <td>61.5</td>\n    </tr>\n    <tr>\n      <th>bannan</th>\n      <td>28.0</td>\n    </tr>\n    <tr>\n      <th>gunne</th>\n      <td>35.0</td>\n    </tr>\n  </tbody>\n</table>\n</div>"
     },
     "metadata": {},
     "execution_count": 55
    }
   ],
   "source": [
    "#mean\n",
    "x.mean()"
   ]
  },
  {
   "cell_type": "code",
   "execution_count": 56,
   "metadata": {},
   "outputs": [
    {
     "output_type": "execute_result",
     "data": {
      "text/plain": "            sales\nitem             \napple   54.447222\nbannan  19.798990\ngunne   19.697716",
      "text/html": "<div>\n<style scoped>\n    .dataframe tbody tr th:only-of-type {\n        vertical-align: middle;\n    }\n\n    .dataframe tbody tr th {\n        vertical-align: top;\n    }\n\n    .dataframe thead th {\n        text-align: right;\n    }\n</style>\n<table border=\"1\" class=\"dataframe\">\n  <thead>\n    <tr style=\"text-align: right;\">\n      <th></th>\n      <th>sales</th>\n    </tr>\n    <tr>\n      <th>item</th>\n      <th></th>\n    </tr>\n  </thead>\n  <tbody>\n    <tr>\n      <th>apple</th>\n      <td>54.447222</td>\n    </tr>\n    <tr>\n      <th>bannan</th>\n      <td>19.798990</td>\n    </tr>\n    <tr>\n      <th>gunne</th>\n      <td>19.697716</td>\n    </tr>\n  </tbody>\n</table>\n</div>"
     },
     "metadata": {},
     "execution_count": 56
    }
   ],
   "source": [
    "#standard\n",
    "x.std()"
   ]
  },
  {
   "cell_type": "code",
   "execution_count": 57,
   "metadata": {},
   "outputs": [
    {
     "output_type": "execute_result",
     "data": {
      "text/plain": "        days  sales\nitem               \napple      2      2\nbannan     2      2\ngunne      3      3",
      "text/html": "<div>\n<style scoped>\n    .dataframe tbody tr th:only-of-type {\n        vertical-align: middle;\n    }\n\n    .dataframe tbody tr th {\n        vertical-align: top;\n    }\n\n    .dataframe thead th {\n        text-align: right;\n    }\n</style>\n<table border=\"1\" class=\"dataframe\">\n  <thead>\n    <tr style=\"text-align: right;\">\n      <th></th>\n      <th>days</th>\n      <th>sales</th>\n    </tr>\n    <tr>\n      <th>item</th>\n      <th></th>\n      <th></th>\n    </tr>\n  </thead>\n  <tbody>\n    <tr>\n      <th>apple</th>\n      <td>2</td>\n      <td>2</td>\n    </tr>\n    <tr>\n      <th>bannan</th>\n      <td>2</td>\n      <td>2</td>\n    </tr>\n    <tr>\n      <th>gunne</th>\n      <td>3</td>\n      <td>3</td>\n    </tr>\n  </tbody>\n</table>\n</div>"
     },
     "metadata": {},
     "execution_count": 57
    }
   ],
   "source": [
    "x.count()"
   ]
  },
  {
   "cell_type": "code",
   "execution_count": 58,
   "metadata": {},
   "outputs": [
    {
     "output_type": "execute_result",
     "data": {
      "text/plain": "       days  sales\nitem              \napple   tus    100\nbannan  wed     42\ngunne   sun     51",
      "text/html": "<div>\n<style scoped>\n    .dataframe tbody tr th:only-of-type {\n        vertical-align: middle;\n    }\n\n    .dataframe tbody tr th {\n        vertical-align: top;\n    }\n\n    .dataframe thead th {\n        text-align: right;\n    }\n</style>\n<table border=\"1\" class=\"dataframe\">\n  <thead>\n    <tr style=\"text-align: right;\">\n      <th></th>\n      <th>days</th>\n      <th>sales</th>\n    </tr>\n    <tr>\n      <th>item</th>\n      <th></th>\n      <th></th>\n    </tr>\n  </thead>\n  <tbody>\n    <tr>\n      <th>apple</th>\n      <td>tus</td>\n      <td>100</td>\n    </tr>\n    <tr>\n      <th>bannan</th>\n      <td>wed</td>\n      <td>42</td>\n    </tr>\n    <tr>\n      <th>gunne</th>\n      <td>sun</td>\n      <td>51</td>\n    </tr>\n  </tbody>\n</table>\n</div>"
     },
     "metadata": {},
     "execution_count": 58
    }
   ],
   "source": [
    "x.max()"
   ]
  },
  {
   "cell_type": "code",
   "execution_count": 59,
   "metadata": {},
   "outputs": [
    {
     "output_type": "execute_result",
     "data": {
      "text/plain": "       days  sales\nitem              \napple   mon     23\nbannan  ths     14\ngunne   fri     13",
      "text/html": "<div>\n<style scoped>\n    .dataframe tbody tr th:only-of-type {\n        vertical-align: middle;\n    }\n\n    .dataframe tbody tr th {\n        vertical-align: top;\n    }\n\n    .dataframe thead th {\n        text-align: right;\n    }\n</style>\n<table border=\"1\" class=\"dataframe\">\n  <thead>\n    <tr style=\"text-align: right;\">\n      <th></th>\n      <th>days</th>\n      <th>sales</th>\n    </tr>\n    <tr>\n      <th>item</th>\n      <th></th>\n      <th></th>\n    </tr>\n  </thead>\n  <tbody>\n    <tr>\n      <th>apple</th>\n      <td>mon</td>\n      <td>23</td>\n    </tr>\n    <tr>\n      <th>bannan</th>\n      <td>ths</td>\n      <td>14</td>\n    </tr>\n    <tr>\n      <th>gunne</th>\n      <td>fri</td>\n      <td>13</td>\n    </tr>\n  </tbody>\n</table>\n</div>"
     },
     "metadata": {},
     "execution_count": 59
    }
   ],
   "source": [
    "x.min()"
   ]
  },
  {
   "cell_type": "code",
   "execution_count": 60,
   "metadata": {},
   "outputs": [
    {
     "output_type": "execute_result",
     "data": {
      "text/plain": "     item days  sales\n0   apple  mon    100\n1   apple  tus     23\n2  bannan  wed     42\n3  bannan  ths     14\n4   gunne  fri     13\n5   gunne  sta     41\n6   gunne  sun     51",
      "text/html": "<div>\n<style scoped>\n    .dataframe tbody tr th:only-of-type {\n        vertical-align: middle;\n    }\n\n    .dataframe tbody tr th {\n        vertical-align: top;\n    }\n\n    .dataframe thead th {\n        text-align: right;\n    }\n</style>\n<table border=\"1\" class=\"dataframe\">\n  <thead>\n    <tr style=\"text-align: right;\">\n      <th></th>\n      <th>item</th>\n      <th>days</th>\n      <th>sales</th>\n    </tr>\n  </thead>\n  <tbody>\n    <tr>\n      <th>0</th>\n      <td>apple</td>\n      <td>mon</td>\n      <td>100</td>\n    </tr>\n    <tr>\n      <th>1</th>\n      <td>apple</td>\n      <td>tus</td>\n      <td>23</td>\n    </tr>\n    <tr>\n      <th>2</th>\n      <td>bannan</td>\n      <td>wed</td>\n      <td>42</td>\n    </tr>\n    <tr>\n      <th>3</th>\n      <td>bannan</td>\n      <td>ths</td>\n      <td>14</td>\n    </tr>\n    <tr>\n      <th>4</th>\n      <td>gunne</td>\n      <td>fri</td>\n      <td>13</td>\n    </tr>\n    <tr>\n      <th>5</th>\n      <td>gunne</td>\n      <td>sta</td>\n      <td>41</td>\n    </tr>\n    <tr>\n      <th>6</th>\n      <td>gunne</td>\n      <td>sun</td>\n      <td>51</td>\n    </tr>\n  </tbody>\n</table>\n</div>"
     },
     "metadata": {},
     "execution_count": 60
    }
   ],
   "source": [
    "p"
   ]
  },
  {
   "cell_type": "code",
   "execution_count": 61,
   "metadata": {},
   "outputs": [
    {
     "output_type": "execute_result",
     "data": {
      "text/plain": "       sales                                                  \n       count  mean        std   min    25%   50%    75%    max\nitem                                                          \napple    2.0  61.5  54.447222  23.0  42.25  61.5  80.75  100.0\nbannan   2.0  28.0  19.798990  14.0  21.00  28.0  35.00   42.0\ngunne    3.0  35.0  19.697716  13.0  27.00  41.0  46.00   51.0",
      "text/html": "<div>\n<style scoped>\n    .dataframe tbody tr th:only-of-type {\n        vertical-align: middle;\n    }\n\n    .dataframe tbody tr th {\n        vertical-align: top;\n    }\n\n    .dataframe thead tr th {\n        text-align: left;\n    }\n\n    .dataframe thead tr:last-of-type th {\n        text-align: right;\n    }\n</style>\n<table border=\"1\" class=\"dataframe\">\n  <thead>\n    <tr>\n      <th></th>\n      <th colspan=\"8\" halign=\"left\">sales</th>\n    </tr>\n    <tr>\n      <th></th>\n      <th>count</th>\n      <th>mean</th>\n      <th>std</th>\n      <th>min</th>\n      <th>25%</th>\n      <th>50%</th>\n      <th>75%</th>\n      <th>max</th>\n    </tr>\n    <tr>\n      <th>item</th>\n      <th></th>\n      <th></th>\n      <th></th>\n      <th></th>\n      <th></th>\n      <th></th>\n      <th></th>\n      <th></th>\n    </tr>\n  </thead>\n  <tbody>\n    <tr>\n      <th>apple</th>\n      <td>2.0</td>\n      <td>61.5</td>\n      <td>54.447222</td>\n      <td>23.0</td>\n      <td>42.25</td>\n      <td>61.5</td>\n      <td>80.75</td>\n      <td>100.0</td>\n    </tr>\n    <tr>\n      <th>bannan</th>\n      <td>2.0</td>\n      <td>28.0</td>\n      <td>19.798990</td>\n      <td>14.0</td>\n      <td>21.00</td>\n      <td>28.0</td>\n      <td>35.00</td>\n      <td>42.0</td>\n    </tr>\n    <tr>\n      <th>gunne</th>\n      <td>3.0</td>\n      <td>35.0</td>\n      <td>19.697716</td>\n      <td>13.0</td>\n      <td>27.00</td>\n      <td>41.0</td>\n      <td>46.00</td>\n      <td>51.0</td>\n    </tr>\n  </tbody>\n</table>\n</div>"
     },
     "metadata": {},
     "execution_count": 61
    }
   ],
   "source": [
    "x.describe()"
   ]
  },
  {
   "cell_type": "code",
   "execution_count": 62,
   "metadata": {},
   "outputs": [
    {
     "output_type": "execute_result",
     "data": {
      "text/plain": "item              apple    bannan      gunne\nsales count    2.000000   2.00000   3.000000\n      mean    61.500000  28.00000  35.000000\n      std     54.447222  19.79899  19.697716\n      min     23.000000  14.00000  13.000000\n      25%     42.250000  21.00000  27.000000\n      50%     61.500000  28.00000  41.000000\n      75%     80.750000  35.00000  46.000000\n      max    100.000000  42.00000  51.000000",
      "text/html": "<div>\n<style scoped>\n    .dataframe tbody tr th:only-of-type {\n        vertical-align: middle;\n    }\n\n    .dataframe tbody tr th {\n        vertical-align: top;\n    }\n\n    .dataframe thead th {\n        text-align: right;\n    }\n</style>\n<table border=\"1\" class=\"dataframe\">\n  <thead>\n    <tr style=\"text-align: right;\">\n      <th></th>\n      <th>item</th>\n      <th>apple</th>\n      <th>bannan</th>\n      <th>gunne</th>\n    </tr>\n  </thead>\n  <tbody>\n    <tr>\n      <th rowspan=\"8\" valign=\"top\">sales</th>\n      <th>count</th>\n      <td>2.000000</td>\n      <td>2.00000</td>\n      <td>3.000000</td>\n    </tr>\n    <tr>\n      <th>mean</th>\n      <td>61.500000</td>\n      <td>28.00000</td>\n      <td>35.000000</td>\n    </tr>\n    <tr>\n      <th>std</th>\n      <td>54.447222</td>\n      <td>19.79899</td>\n      <td>19.697716</td>\n    </tr>\n    <tr>\n      <th>min</th>\n      <td>23.000000</td>\n      <td>14.00000</td>\n      <td>13.000000</td>\n    </tr>\n    <tr>\n      <th>25%</th>\n      <td>42.250000</td>\n      <td>21.00000</td>\n      <td>27.000000</td>\n    </tr>\n    <tr>\n      <th>50%</th>\n      <td>61.500000</td>\n      <td>28.00000</td>\n      <td>41.000000</td>\n    </tr>\n    <tr>\n      <th>75%</th>\n      <td>80.750000</td>\n      <td>35.00000</td>\n      <td>46.000000</td>\n    </tr>\n    <tr>\n      <th>max</th>\n      <td>100.000000</td>\n      <td>42.00000</td>\n      <td>51.000000</td>\n    </tr>\n  </tbody>\n</table>\n</div>"
     },
     "metadata": {},
     "execution_count": 62
    }
   ],
   "source": [
    "x.describe().transpose()"
   ]
  },
  {
   "cell_type": "code",
   "execution_count": 63,
   "metadata": {},
   "outputs": [],
   "source": [
    "f={'a':[1,2,3],'b':[4,5,6]}\n",
    "g={'c':[1,2,3],'d':[10,11,12]}"
   ]
  },
  {
   "cell_type": "code",
   "execution_count": 64,
   "metadata": {},
   "outputs": [],
   "source": [
    "f=pd.DataFrame(f,index=['p1','p2','p3'])"
   ]
  },
  {
   "cell_type": "code",
   "execution_count": 65,
   "metadata": {},
   "outputs": [],
   "source": [
    "g=pd.DataFrame(g,index=['p4','p5','p6'])"
   ]
  },
  {
   "cell_type": "code",
   "execution_count": 66,
   "metadata": {},
   "outputs": [
    {
     "output_type": "execute_result",
     "data": {
      "text/plain": "    a  b\np1  1  4\np2  2  5\np3  3  6",
      "text/html": "<div>\n<style scoped>\n    .dataframe tbody tr th:only-of-type {\n        vertical-align: middle;\n    }\n\n    .dataframe tbody tr th {\n        vertical-align: top;\n    }\n\n    .dataframe thead th {\n        text-align: right;\n    }\n</style>\n<table border=\"1\" class=\"dataframe\">\n  <thead>\n    <tr style=\"text-align: right;\">\n      <th></th>\n      <th>a</th>\n      <th>b</th>\n    </tr>\n  </thead>\n  <tbody>\n    <tr>\n      <th>p1</th>\n      <td>1</td>\n      <td>4</td>\n    </tr>\n    <tr>\n      <th>p2</th>\n      <td>2</td>\n      <td>5</td>\n    </tr>\n    <tr>\n      <th>p3</th>\n      <td>3</td>\n      <td>6</td>\n    </tr>\n  </tbody>\n</table>\n</div>"
     },
     "metadata": {},
     "execution_count": 66
    }
   ],
   "source": [
    "f"
   ]
  },
  {
   "cell_type": "code",
   "execution_count": 67,
   "metadata": {},
   "outputs": [
    {
     "output_type": "execute_result",
     "data": {
      "text/plain": "    c   d\np4  1  10\np5  2  11\np6  3  12",
      "text/html": "<div>\n<style scoped>\n    .dataframe tbody tr th:only-of-type {\n        vertical-align: middle;\n    }\n\n    .dataframe tbody tr th {\n        vertical-align: top;\n    }\n\n    .dataframe thead th {\n        text-align: right;\n    }\n</style>\n<table border=\"1\" class=\"dataframe\">\n  <thead>\n    <tr style=\"text-align: right;\">\n      <th></th>\n      <th>c</th>\n      <th>d</th>\n    </tr>\n  </thead>\n  <tbody>\n    <tr>\n      <th>p4</th>\n      <td>1</td>\n      <td>10</td>\n    </tr>\n    <tr>\n      <th>p5</th>\n      <td>2</td>\n      <td>11</td>\n    </tr>\n    <tr>\n      <th>p6</th>\n      <td>3</td>\n      <td>12</td>\n    </tr>\n  </tbody>\n</table>\n</div>"
     },
     "metadata": {},
     "execution_count": 67
    }
   ],
   "source": [
    "g"
   ]
  },
  {
   "cell_type": "code",
   "execution_count": 68,
   "metadata": {},
   "outputs": [
    {
     "output_type": "execute_result",
     "data": {
      "text/plain": "      a    b    c     d\np1  1.0  4.0  NaN   NaN\np2  2.0  5.0  NaN   NaN\np3  3.0  6.0  NaN   NaN\np4  NaN  NaN  1.0  10.0\np5  NaN  NaN  2.0  11.0\np6  NaN  NaN  3.0  12.0",
      "text/html": "<div>\n<style scoped>\n    .dataframe tbody tr th:only-of-type {\n        vertical-align: middle;\n    }\n\n    .dataframe tbody tr th {\n        vertical-align: top;\n    }\n\n    .dataframe thead th {\n        text-align: right;\n    }\n</style>\n<table border=\"1\" class=\"dataframe\">\n  <thead>\n    <tr style=\"text-align: right;\">\n      <th></th>\n      <th>a</th>\n      <th>b</th>\n      <th>c</th>\n      <th>d</th>\n    </tr>\n  </thead>\n  <tbody>\n    <tr>\n      <th>p1</th>\n      <td>1.0</td>\n      <td>4.0</td>\n      <td>NaN</td>\n      <td>NaN</td>\n    </tr>\n    <tr>\n      <th>p2</th>\n      <td>2.0</td>\n      <td>5.0</td>\n      <td>NaN</td>\n      <td>NaN</td>\n    </tr>\n    <tr>\n      <th>p3</th>\n      <td>3.0</td>\n      <td>6.0</td>\n      <td>NaN</td>\n      <td>NaN</td>\n    </tr>\n    <tr>\n      <th>p4</th>\n      <td>NaN</td>\n      <td>NaN</td>\n      <td>1.0</td>\n      <td>10.0</td>\n    </tr>\n    <tr>\n      <th>p5</th>\n      <td>NaN</td>\n      <td>NaN</td>\n      <td>2.0</td>\n      <td>11.0</td>\n    </tr>\n    <tr>\n      <th>p6</th>\n      <td>NaN</td>\n      <td>NaN</td>\n      <td>3.0</td>\n      <td>12.0</td>\n    </tr>\n  </tbody>\n</table>\n</div>"
     },
     "metadata": {},
     "execution_count": 68
    }
   ],
   "source": [
    "f.join(g,how='outer')"
   ]
  },
  {
   "cell_type": "code",
   "execution_count": null,
   "metadata": {},
   "outputs": [],
   "source": []
  },
  {
   "cell_type": "code",
   "execution_count": 5,
   "metadata": {},
   "outputs": [],
   "source": [
    "a={'a':[1,1,3,4,5],'b':[2,2,4,5,6],'c':[3,3,2,1,3],'e':[4,2,4,3,4],'d':[4,3,4,3,4]}\n",
    "b={'a':[1,1,1,1,1],'d':[2,2,2,2,2],'f':[3,3,3,3,3],'e':[4,4,4,4,4],'r':[6,6,6,6,6]}\n",
    "c={'a':[1,1,1,1,1],'b':[2,2,2,2,2],'c':[3,3,3,3,3],'e':[4,4,4,4,4],'d':[4,4,4,4,4]}"
   ]
  },
  {
   "cell_type": "code",
   "execution_count": 6,
   "metadata": {},
   "outputs": [
    {
     "output_type": "execute_result",
     "data": {
      "text/plain": "{'a': [1, 1, 3, 4, 5],\n 'b': [2, 2, 4, 5, 6],\n 'c': [3, 3, 2, 1, 3],\n 'e': [4, 2, 4, 3, 4],\n 'd': [4, 3, 4, 3, 4]}"
     },
     "metadata": {},
     "execution_count": 6
    }
   ],
   "source": [
    "a"
   ]
  },
  {
   "cell_type": "code",
   "execution_count": 12,
   "metadata": {},
   "outputs": [],
   "source": [
    "a=pd.DataFrame(a,index=[1,2,3,4,5])\n",
    "b=pd.DataFrame(b,index=[1,2,3,4,5])\n",
    "cr=pd.DataFrame(c,index=[1,2,3,4,5])"
   ]
  },
  {
   "cell_type": "code",
   "execution_count": 13,
   "metadata": {},
   "outputs": [
    {
     "output_type": "execute_result",
     "data": {
      "text/plain": "   a  b  c  e  d\n1  1  2  3  4  4\n2  1  2  3  2  3\n3  3  4  2  4  4\n4  4  5  1  3  3\n5  5  6  3  4  4",
      "text/html": "<div>\n<style scoped>\n    .dataframe tbody tr th:only-of-type {\n        vertical-align: middle;\n    }\n\n    .dataframe tbody tr th {\n        vertical-align: top;\n    }\n\n    .dataframe thead th {\n        text-align: right;\n    }\n</style>\n<table border=\"1\" class=\"dataframe\">\n  <thead>\n    <tr style=\"text-align: right;\">\n      <th></th>\n      <th>a</th>\n      <th>b</th>\n      <th>c</th>\n      <th>e</th>\n      <th>d</th>\n    </tr>\n  </thead>\n  <tbody>\n    <tr>\n      <th>1</th>\n      <td>1</td>\n      <td>2</td>\n      <td>3</td>\n      <td>4</td>\n      <td>4</td>\n    </tr>\n    <tr>\n      <th>2</th>\n      <td>1</td>\n      <td>2</td>\n      <td>3</td>\n      <td>2</td>\n      <td>3</td>\n    </tr>\n    <tr>\n      <th>3</th>\n      <td>3</td>\n      <td>4</td>\n      <td>2</td>\n      <td>4</td>\n      <td>4</td>\n    </tr>\n    <tr>\n      <th>4</th>\n      <td>4</td>\n      <td>5</td>\n      <td>1</td>\n      <td>3</td>\n      <td>3</td>\n    </tr>\n    <tr>\n      <th>5</th>\n      <td>5</td>\n      <td>6</td>\n      <td>3</td>\n      <td>4</td>\n      <td>4</td>\n    </tr>\n  </tbody>\n</table>\n</div>"
     },
     "metadata": {},
     "execution_count": 13
    }
   ],
   "source": [
    "a"
   ]
  },
  {
   "cell_type": "code",
   "execution_count": 14,
   "metadata": {},
   "outputs": [
    {
     "output_type": "execute_result",
     "data": {
      "text/plain": "   a  b  c  e  d  a  d  f  e  r\n1  1  2  3  4  4  1  2  3  4  6\n2  1  2  3  2  3  1  2  3  4  6\n3  3  4  2  4  4  1  2  3  4  6\n4  4  5  1  3  3  1  2  3  4  6\n5  5  6  3  4  4  1  2  3  4  6",
      "text/html": "<div>\n<style scoped>\n    .dataframe tbody tr th:only-of-type {\n        vertical-align: middle;\n    }\n\n    .dataframe tbody tr th {\n        vertical-align: top;\n    }\n\n    .dataframe thead th {\n        text-align: right;\n    }\n</style>\n<table border=\"1\" class=\"dataframe\">\n  <thead>\n    <tr style=\"text-align: right;\">\n      <th></th>\n      <th>a</th>\n      <th>b</th>\n      <th>c</th>\n      <th>e</th>\n      <th>d</th>\n      <th>a</th>\n      <th>d</th>\n      <th>f</th>\n      <th>e</th>\n      <th>r</th>\n    </tr>\n  </thead>\n  <tbody>\n    <tr>\n      <th>1</th>\n      <td>1</td>\n      <td>2</td>\n      <td>3</td>\n      <td>4</td>\n      <td>4</td>\n      <td>1</td>\n      <td>2</td>\n      <td>3</td>\n      <td>4</td>\n      <td>6</td>\n    </tr>\n    <tr>\n      <th>2</th>\n      <td>1</td>\n      <td>2</td>\n      <td>3</td>\n      <td>2</td>\n      <td>3</td>\n      <td>1</td>\n      <td>2</td>\n      <td>3</td>\n      <td>4</td>\n      <td>6</td>\n    </tr>\n    <tr>\n      <th>3</th>\n      <td>3</td>\n      <td>4</td>\n      <td>2</td>\n      <td>4</td>\n      <td>4</td>\n      <td>1</td>\n      <td>2</td>\n      <td>3</td>\n      <td>4</td>\n      <td>6</td>\n    </tr>\n    <tr>\n      <th>4</th>\n      <td>4</td>\n      <td>5</td>\n      <td>1</td>\n      <td>3</td>\n      <td>3</td>\n      <td>1</td>\n      <td>2</td>\n      <td>3</td>\n      <td>4</td>\n      <td>6</td>\n    </tr>\n    <tr>\n      <th>5</th>\n      <td>5</td>\n      <td>6</td>\n      <td>3</td>\n      <td>4</td>\n      <td>4</td>\n      <td>1</td>\n      <td>2</td>\n      <td>3</td>\n      <td>4</td>\n      <td>6</td>\n    </tr>\n  </tbody>\n</table>\n</div>"
     },
     "metadata": {},
     "execution_count": 14
    }
   ],
   "source": [
    "pd.concat([a,b],axis=1)"
   ]
  },
  {
   "cell_type": "code",
   "execution_count": 15,
   "metadata": {},
   "outputs": [],
   "source": [
    "def inc(x):\n",
    "    if x>=1:\n",
    "        x=x+10    "
   ]
  },
  {
   "cell_type": "code",
   "execution_count": 21,
   "metadata": {},
   "outputs": [
    {
     "output_type": "execute_result",
     "data": {
      "text/plain": "4"
     },
     "metadata": {},
     "execution_count": 21
    }
   ],
   "source": [
    "a['b'].nunique()"
   ]
  },
  {
   "cell_type": "code",
   "execution_count": 23,
   "metadata": {},
   "outputs": [
    {
     "output_type": "execute_result",
     "data": {
      "text/plain": "3    3\n2    1\n1    1\nName: c, dtype: int64"
     },
     "metadata": {},
     "execution_count": 23
    }
   ],
   "source": [
    "a['c'].value_counts()"
   ]
  },
  {
   "cell_type": "code",
   "execution_count": 24,
   "metadata": {},
   "outputs": [
    {
     "output_type": "execute_result",
     "data": {
      "text/plain": "       a      b      c      e      d\n1  False  False  False  False  False\n2  False  False  False  False  False\n3  False  False  False  False  False\n4  False  False  False  False  False\n5  False  False  False  False  False",
      "text/html": "<div>\n<style scoped>\n    .dataframe tbody tr th:only-of-type {\n        vertical-align: middle;\n    }\n\n    .dataframe tbody tr th {\n        vertical-align: top;\n    }\n\n    .dataframe thead th {\n        text-align: right;\n    }\n</style>\n<table border=\"1\" class=\"dataframe\">\n  <thead>\n    <tr style=\"text-align: right;\">\n      <th></th>\n      <th>a</th>\n      <th>b</th>\n      <th>c</th>\n      <th>e</th>\n      <th>d</th>\n    </tr>\n  </thead>\n  <tbody>\n    <tr>\n      <th>1</th>\n      <td>False</td>\n      <td>False</td>\n      <td>False</td>\n      <td>False</td>\n      <td>False</td>\n    </tr>\n    <tr>\n      <th>2</th>\n      <td>False</td>\n      <td>False</td>\n      <td>False</td>\n      <td>False</td>\n      <td>False</td>\n    </tr>\n    <tr>\n      <th>3</th>\n      <td>False</td>\n      <td>False</td>\n      <td>False</td>\n      <td>False</td>\n      <td>False</td>\n    </tr>\n    <tr>\n      <th>4</th>\n      <td>False</td>\n      <td>False</td>\n      <td>False</td>\n      <td>False</td>\n      <td>False</td>\n    </tr>\n    <tr>\n      <th>5</th>\n      <td>False</td>\n      <td>False</td>\n      <td>False</td>\n      <td>False</td>\n      <td>False</td>\n    </tr>\n  </tbody>\n</table>\n</div>"
     },
     "metadata": {},
     "execution_count": 24
    }
   ],
   "source": [
    "a.isnull()"
   ]
  },
  {
   "cell_type": "code",
   "execution_count": 48,
   "metadata": {},
   "outputs": [],
   "source": [
    "fe=pd.read_csv('employees.csv',header=0,escapechar='\\\\')"
   ]
  },
  {
   "cell_type": "code",
   "execution_count": 49,
   "metadata": {},
   "outputs": [
    {
     "output_type": "execute_result",
     "data": {
      "text/plain": "   EmployeeID   LastName FirstName                     Title TitleOfCourtesy  \\\n0           1    Davolio     Nancy      Sales Representative             Ms.   \n1           2     Fuller    Andrew      Vice President Sales             Dr.   \n2           3  Leverling     Janet      Sales Representative             Ms.   \n3           4    Peacock  Margaret      Sales Representative            Mrs.   \n4           5   Buchanan    Steven             Sales Manager             Mr.   \n5           6     Suyama   Michael      Sales Representative             Mr.   \n6           7       King    Robert      Sales Representative             Mr.   \n7           8   Callahan     Laura  Inside Sales Coordinator             Ms.   \n8           9  Dodsworth      Anne      Sales Representative             Ms.   \n\n                 BirthDate                 HireDate  \\\n0  1948-12-08 00:00:00.000  1992-05-01 00:00:00.000   \n1  1952-02-19 00:00:00.000  1992-08-14 00:00:00.000   \n2  1963-08-30 00:00:00.000  1992-04-01 00:00:00.000   \n3  1937-09-19 00:00:00.000  1993-05-03 00:00:00.000   \n4  1955-03-04 00:00:00.000  1993-10-17 00:00:00.000   \n5  1963-07-02 00:00:00.000  1993-10-17 00:00:00.000   \n6  1960-05-29 00:00:00.000  1994-01-02 00:00:00.000   \n7  1958-01-09 00:00:00.000  1994-03-05 00:00:00.000   \n8  1966-01-27 00:00:00.000  1994-11-15 00:00:00.000   \n\n                        Address      City Region PostalCode Country  \\\n0     507 - 20th Ave. E.Apt. 2A   Seattle     WA      98122     USA   \n1            908 W. Capital Way    Tacoma     WA      98401     USA   \n2            722 Moss Bay Blvd.  Kirkland     WA      98033     USA   \n3          4110 Old Redmond Rd.   Redmond     WA      98052     USA   \n4               14 Garrett Hill    London    NaN    SW1 8JR      UK   \n5       Coventry HouseMiner Rd.    London    NaN    EC2 7JR      UK   \n6  Edgeham HollowWinchester Way    London    NaN    RG1 9SP      UK   \n7         4726 - 11th Ave. N.E.   Seattle     WA      98105     USA   \n8             7 Houndstooth Rd.    London    NaN    WG2 7LT      UK   \n\n        HomePhone  Extension  \\\n0  (206) 555-9857       5467   \n1  (206) 555-9482       3457   \n2  (206) 555-3412       3355   \n3  (206) 555-8122       5176   \n4   (71) 555-4848       3453   \n5   (71) 555-7773        428   \n6   (71) 555-5598        465   \n7  (206) 555-1189       2344   \n8   (71) 555-4444        452   \n\n                                               Photo  \\\n0  0x151C2F00020000000D000E0014002100FFFFFFFF4269...   \n1  0x151C2F00020000000D000E0014002100FFFFFFFF4269...   \n2  0x151C2F00020000000D000E0014002100FFFFFFFF4269...   \n3  0x151C2F00020000000D000E0014002100FFFFFFFF4269...   \n4  0x151C2F00020000000D000E0014002100FFFFFFFF4269...   \n5  0x151C2F00020000000D000E0014002100FFFFFFFF4269...   \n6  0x151C2F00020000000D000E0014002100FFFFFFFF4269...   \n7  0x151C2F00020000000D000E0014002100FFFFFFFF4269...   \n8  0x151C2F00020000000D000E0014002100FFFFFFFF4269...   \n\n                                               Notes  ReportsTo  \\\n0  Education includes a BA in psychology from Col...        2.0   \n1  Andrew received his BTS commercial in 1974 and...        NaN   \n2  Janet has a BS degree in chemistry from Boston...        2.0   \n3  Margaret holds a BA in English literature from...        2.0   \n4  Steven Buchanan graduated from St. Andrews Uni...        2.0   \n5  Michael is a graduate of Sussex University (MA...        5.0   \n6  Robert King served in the Peace Corps and trav...        5.0   \n7  Laura received a BA in psychology from the Uni...        2.0   \n8  Anne has a BA degree in English from St. Lawre...        5.0   \n\n                                PhotoPath  \n0    http://accweb/emmployees/davolio.bmp  \n1     http://accweb/emmployees/fuller.bmp  \n2  http://accweb/emmployees/leverling.bmp  \n3    http://accweb/emmployees/peacock.bmp  \n4   http://accweb/emmployees/buchanan.bmp  \n5    http://accweb/emmployees/davolio.bmp  \n6    http://accweb/emmployees/davolio.bmp  \n7    http://accweb/emmployees/davolio.bmp  \n8    http://accweb/emmployees/davolio.bmp  ",
      "text/html": "<div>\n<style scoped>\n    .dataframe tbody tr th:only-of-type {\n        vertical-align: middle;\n    }\n\n    .dataframe tbody tr th {\n        vertical-align: top;\n    }\n\n    .dataframe thead th {\n        text-align: right;\n    }\n</style>\n<table border=\"1\" class=\"dataframe\">\n  <thead>\n    <tr style=\"text-align: right;\">\n      <th></th>\n      <th>EmployeeID</th>\n      <th>LastName</th>\n      <th>FirstName</th>\n      <th>Title</th>\n      <th>TitleOfCourtesy</th>\n      <th>BirthDate</th>\n      <th>HireDate</th>\n      <th>Address</th>\n      <th>City</th>\n      <th>Region</th>\n      <th>PostalCode</th>\n      <th>Country</th>\n      <th>HomePhone</th>\n      <th>Extension</th>\n      <th>Photo</th>\n      <th>Notes</th>\n      <th>ReportsTo</th>\n      <th>PhotoPath</th>\n    </tr>\n  </thead>\n  <tbody>\n    <tr>\n      <th>0</th>\n      <td>1</td>\n      <td>Davolio</td>\n      <td>Nancy</td>\n      <td>Sales Representative</td>\n      <td>Ms.</td>\n      <td>1948-12-08 00:00:00.000</td>\n      <td>1992-05-01 00:00:00.000</td>\n      <td>507 - 20th Ave. E.Apt. 2A</td>\n      <td>Seattle</td>\n      <td>WA</td>\n      <td>98122</td>\n      <td>USA</td>\n      <td>(206) 555-9857</td>\n      <td>5467</td>\n      <td>0x151C2F00020000000D000E0014002100FFFFFFFF4269...</td>\n      <td>Education includes a BA in psychology from Col...</td>\n      <td>2.0</td>\n      <td>http://accweb/emmployees/davolio.bmp</td>\n    </tr>\n    <tr>\n      <th>1</th>\n      <td>2</td>\n      <td>Fuller</td>\n      <td>Andrew</td>\n      <td>Vice President Sales</td>\n      <td>Dr.</td>\n      <td>1952-02-19 00:00:00.000</td>\n      <td>1992-08-14 00:00:00.000</td>\n      <td>908 W. Capital Way</td>\n      <td>Tacoma</td>\n      <td>WA</td>\n      <td>98401</td>\n      <td>USA</td>\n      <td>(206) 555-9482</td>\n      <td>3457</td>\n      <td>0x151C2F00020000000D000E0014002100FFFFFFFF4269...</td>\n      <td>Andrew received his BTS commercial in 1974 and...</td>\n      <td>NaN</td>\n      <td>http://accweb/emmployees/fuller.bmp</td>\n    </tr>\n    <tr>\n      <th>2</th>\n      <td>3</td>\n      <td>Leverling</td>\n      <td>Janet</td>\n      <td>Sales Representative</td>\n      <td>Ms.</td>\n      <td>1963-08-30 00:00:00.000</td>\n      <td>1992-04-01 00:00:00.000</td>\n      <td>722 Moss Bay Blvd.</td>\n      <td>Kirkland</td>\n      <td>WA</td>\n      <td>98033</td>\n      <td>USA</td>\n      <td>(206) 555-3412</td>\n      <td>3355</td>\n      <td>0x151C2F00020000000D000E0014002100FFFFFFFF4269...</td>\n      <td>Janet has a BS degree in chemistry from Boston...</td>\n      <td>2.0</td>\n      <td>http://accweb/emmployees/leverling.bmp</td>\n    </tr>\n    <tr>\n      <th>3</th>\n      <td>4</td>\n      <td>Peacock</td>\n      <td>Margaret</td>\n      <td>Sales Representative</td>\n      <td>Mrs.</td>\n      <td>1937-09-19 00:00:00.000</td>\n      <td>1993-05-03 00:00:00.000</td>\n      <td>4110 Old Redmond Rd.</td>\n      <td>Redmond</td>\n      <td>WA</td>\n      <td>98052</td>\n      <td>USA</td>\n      <td>(206) 555-8122</td>\n      <td>5176</td>\n      <td>0x151C2F00020000000D000E0014002100FFFFFFFF4269...</td>\n      <td>Margaret holds a BA in English literature from...</td>\n      <td>2.0</td>\n      <td>http://accweb/emmployees/peacock.bmp</td>\n    </tr>\n    <tr>\n      <th>4</th>\n      <td>5</td>\n      <td>Buchanan</td>\n      <td>Steven</td>\n      <td>Sales Manager</td>\n      <td>Mr.</td>\n      <td>1955-03-04 00:00:00.000</td>\n      <td>1993-10-17 00:00:00.000</td>\n      <td>14 Garrett Hill</td>\n      <td>London</td>\n      <td>NaN</td>\n      <td>SW1 8JR</td>\n      <td>UK</td>\n      <td>(71) 555-4848</td>\n      <td>3453</td>\n      <td>0x151C2F00020000000D000E0014002100FFFFFFFF4269...</td>\n      <td>Steven Buchanan graduated from St. Andrews Uni...</td>\n      <td>2.0</td>\n      <td>http://accweb/emmployees/buchanan.bmp</td>\n    </tr>\n    <tr>\n      <th>5</th>\n      <td>6</td>\n      <td>Suyama</td>\n      <td>Michael</td>\n      <td>Sales Representative</td>\n      <td>Mr.</td>\n      <td>1963-07-02 00:00:00.000</td>\n      <td>1993-10-17 00:00:00.000</td>\n      <td>Coventry HouseMiner Rd.</td>\n      <td>London</td>\n      <td>NaN</td>\n      <td>EC2 7JR</td>\n      <td>UK</td>\n      <td>(71) 555-7773</td>\n      <td>428</td>\n      <td>0x151C2F00020000000D000E0014002100FFFFFFFF4269...</td>\n      <td>Michael is a graduate of Sussex University (MA...</td>\n      <td>5.0</td>\n      <td>http://accweb/emmployees/davolio.bmp</td>\n    </tr>\n    <tr>\n      <th>6</th>\n      <td>7</td>\n      <td>King</td>\n      <td>Robert</td>\n      <td>Sales Representative</td>\n      <td>Mr.</td>\n      <td>1960-05-29 00:00:00.000</td>\n      <td>1994-01-02 00:00:00.000</td>\n      <td>Edgeham HollowWinchester Way</td>\n      <td>London</td>\n      <td>NaN</td>\n      <td>RG1 9SP</td>\n      <td>UK</td>\n      <td>(71) 555-5598</td>\n      <td>465</td>\n      <td>0x151C2F00020000000D000E0014002100FFFFFFFF4269...</td>\n      <td>Robert King served in the Peace Corps and trav...</td>\n      <td>5.0</td>\n      <td>http://accweb/emmployees/davolio.bmp</td>\n    </tr>\n    <tr>\n      <th>7</th>\n      <td>8</td>\n      <td>Callahan</td>\n      <td>Laura</td>\n      <td>Inside Sales Coordinator</td>\n      <td>Ms.</td>\n      <td>1958-01-09 00:00:00.000</td>\n      <td>1994-03-05 00:00:00.000</td>\n      <td>4726 - 11th Ave. N.E.</td>\n      <td>Seattle</td>\n      <td>WA</td>\n      <td>98105</td>\n      <td>USA</td>\n      <td>(206) 555-1189</td>\n      <td>2344</td>\n      <td>0x151C2F00020000000D000E0014002100FFFFFFFF4269...</td>\n      <td>Laura received a BA in psychology from the Uni...</td>\n      <td>2.0</td>\n      <td>http://accweb/emmployees/davolio.bmp</td>\n    </tr>\n    <tr>\n      <th>8</th>\n      <td>9</td>\n      <td>Dodsworth</td>\n      <td>Anne</td>\n      <td>Sales Representative</td>\n      <td>Ms.</td>\n      <td>1966-01-27 00:00:00.000</td>\n      <td>1994-11-15 00:00:00.000</td>\n      <td>7 Houndstooth Rd.</td>\n      <td>London</td>\n      <td>NaN</td>\n      <td>WG2 7LT</td>\n      <td>UK</td>\n      <td>(71) 555-4444</td>\n      <td>452</td>\n      <td>0x151C2F00020000000D000E0014002100FFFFFFFF4269...</td>\n      <td>Anne has a BA degree in English from St. Lawre...</td>\n      <td>5.0</td>\n      <td>http://accweb/emmployees/davolio.bmp</td>\n    </tr>\n  </tbody>\n</table>\n</div>"
     },
     "metadata": {},
     "execution_count": 49
    }
   ],
   "source": [
    "fe"
   ]
  },
  {
   "cell_type": "code",
   "execution_count": null,
   "metadata": {},
   "outputs": [],
   "source": []
  }
 ],
 "metadata": {
  "kernelspec": {
   "display_name": "Python 3.7.7 64-bit",
   "language": "python",
   "name": "python37764bitd9d0c0a2af2e42a4a2dd6218ec467f3d"
  },
  "language_info": {
   "codemirror_mode": {
    "name": "ipython",
    "version": 3
   },
   "file_extension": ".py",
   "mimetype": "text/x-python",
   "name": "python",
   "nbconvert_exporter": "python",
   "pygments_lexer": "ipython3",
   "version": "3.7.7-final"
  }
 },
 "nbformat": 4,
 "nbformat_minor": 4
}