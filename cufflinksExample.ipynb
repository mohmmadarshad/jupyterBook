{
 "nbformat": 4,
 "nbformat_minor": 2,
 "metadata": {
  "language_info": {
   "name": "python",
   "codemirror_mode": {
    "name": "ipython",
    "version": 3
   },
   "version": "3.7.7-final"
  },
  "orig_nbformat": 2,
  "file_extension": ".py",
  "mimetype": "text/x-python",
  "name": "python",
  "npconvert_exporter": "python",
  "pygments_lexer": "ipython3",
  "version": 3,
  "kernelspec": {
   "name": "python37764bitd9d0c0a2af2e42a4a2dd6218ec467f3d",
   "display_name": "Python 3.7.7 64-bit"
  }
 },
 "cells": [
  {
   "cell_type": "code",
   "execution_count": 1,
   "metadata": {},
   "outputs": [],
   "source": [
    "import numpy as np\n",
    "import pandas as pd\n",
    "%matplotlib inline"
   ]
  },
  {
   "cell_type": "code",
   "execution_count": 2,
   "metadata": {},
   "outputs": [],
   "source": [
    "import plotly as pl\n",
    "import cufflinks as cf"
   ]
  },
  {
   "cell_type": "code",
   "execution_count": 3,
   "metadata": {},
   "outputs": [],
   "source": [
    "import plotly.offline as po"
   ]
  },
  {
   "cell_type": "code",
   "execution_count": 4,
   "metadata": {},
   "outputs": [
    {
     "output_type": "display_data",
     "data": {
      "text/html": "        <script type=\"text/javascript\">\n        window.PlotlyConfig = {MathJaxConfig: 'local'};\n        if (window.MathJax) {MathJax.Hub.Config({SVG: {font: \"STIX-Web\"}});}\n        if (typeof require !== 'undefined') {\n        require.undef(\"plotly\");\n        requirejs.config({\n            paths: {\n                'plotly': ['https://cdn.plot.ly/plotly-latest.min']\n            }\n        });\n        require(['plotly'], function(Plotly) {\n            window._Plotly = Plotly;\n        });\n        }\n        </script>\n        "
     },
     "metadata": {}
    }
   ],
   "source": [
    "po.init_notebook_mode(connected=True)"
   ]
  },
  {
   "cell_type": "code",
   "execution_count": 5,
   "metadata": {},
   "outputs": [
    {
     "output_type": "display_data",
     "data": {
      "text/html": "        <script type=\"text/javascript\">\n        window.PlotlyConfig = {MathJaxConfig: 'local'};\n        if (window.MathJax) {MathJax.Hub.Config({SVG: {font: \"STIX-Web\"}});}\n        if (typeof require !== 'undefined') {\n        require.undef(\"plotly\");\n        requirejs.config({\n            paths: {\n                'plotly': ['https://cdn.plot.ly/plotly-latest.min']\n            }\n        });\n        require(['plotly'], function(Plotly) {\n            window._Plotly = Plotly;\n        });\n        }\n        </script>\n        "
     },
     "metadata": {}
    }
   ],
   "source": [
    "cf.go_offline()"
   ]
  },
  {
   "cell_type": "code",
   "execution_count": 6,
   "metadata": {},
   "outputs": [],
   "source": [
    "df=pd.DataFrame(np.random.rand(100,5),columns=['a','b','c','d','e'])"
   ]
  },
  {
   "cell_type": "code",
   "execution_count": 7,
   "metadata": {},
   "outputs": [
    {
     "output_type": "execute_result",
     "data": {
      "text/plain": "          a         b         c         d         e\n0  0.066644  0.170853  0.604968  0.094421  0.638625\n1  0.540762  0.794764  0.263319  0.278887  0.523023\n2  0.668915  0.126661  0.709350  0.897103  0.334425\n3  0.721092  0.370473  0.830286  0.970309  0.141119\n4  0.375980  0.426823  0.486283  0.881713  0.543655",
      "text/html": "<div>\n<style scoped>\n    .dataframe tbody tr th:only-of-type {\n        vertical-align: middle;\n    }\n\n    .dataframe tbody tr th {\n        vertical-align: top;\n    }\n\n    .dataframe thead th {\n        text-align: right;\n    }\n</style>\n<table border=\"1\" class=\"dataframe\">\n  <thead>\n    <tr style=\"text-align: right;\">\n      <th></th>\n      <th>a</th>\n      <th>b</th>\n      <th>c</th>\n      <th>d</th>\n      <th>e</th>\n    </tr>\n  </thead>\n  <tbody>\n    <tr>\n      <th>0</th>\n      <td>0.066644</td>\n      <td>0.170853</td>\n      <td>0.604968</td>\n      <td>0.094421</td>\n      <td>0.638625</td>\n    </tr>\n    <tr>\n      <th>1</th>\n      <td>0.540762</td>\n      <td>0.794764</td>\n      <td>0.263319</td>\n      <td>0.278887</td>\n      <td>0.523023</td>\n    </tr>\n    <tr>\n      <th>2</th>\n      <td>0.668915</td>\n      <td>0.126661</td>\n      <td>0.709350</td>\n      <td>0.897103</td>\n      <td>0.334425</td>\n    </tr>\n    <tr>\n      <th>3</th>\n      <td>0.721092</td>\n      <td>0.370473</td>\n      <td>0.830286</td>\n      <td>0.970309</td>\n      <td>0.141119</td>\n    </tr>\n    <tr>\n      <th>4</th>\n      <td>0.375980</td>\n      <td>0.426823</td>\n      <td>0.486283</td>\n      <td>0.881713</td>\n      <td>0.543655</td>\n    </tr>\n  </tbody>\n</table>\n</div>"
     },
     "metadata": {},
     "execution_count": 7
    }
   ],
   "source": [
    "df.head()"
   ]
  },
  {
   "cell_type": "code",
   "execution_count": 15,
   "metadata": {},
   "outputs": [],
   "source": [
    "df1=pd.DataFrame({'x':[1,2,3,7,12],'y':[1,2,3,4,5],'z':[6,7,8,9,4]})"
   ]
  },
  {
   "cell_type": "code",
   "execution_count": 9,
   "metadata": {},
   "outputs": [
    {
     "output_type": "execute_result",
     "data": {
      "text/plain": "   x  y  z\n0  a  1  6\n1  b  2  7\n2  c  3  8\n3  d  4  9\n4  e  5  4",
      "text/html": "<div>\n<style scoped>\n    .dataframe tbody tr th:only-of-type {\n        vertical-align: middle;\n    }\n\n    .dataframe tbody tr th {\n        vertical-align: top;\n    }\n\n    .dataframe thead th {\n        text-align: right;\n    }\n</style>\n<table border=\"1\" class=\"dataframe\">\n  <thead>\n    <tr style=\"text-align: right;\">\n      <th></th>\n      <th>x</th>\n      <th>y</th>\n      <th>z</th>\n    </tr>\n  </thead>\n  <tbody>\n    <tr>\n      <th>0</th>\n      <td>a</td>\n      <td>1</td>\n      <td>6</td>\n    </tr>\n    <tr>\n      <th>1</th>\n      <td>b</td>\n      <td>2</td>\n      <td>7</td>\n    </tr>\n    <tr>\n      <th>2</th>\n      <td>c</td>\n      <td>3</td>\n      <td>8</td>\n    </tr>\n    <tr>\n      <th>3</th>\n      <td>d</td>\n      <td>4</td>\n      <td>9</td>\n    </tr>\n    <tr>\n      <th>4</th>\n      <td>e</td>\n      <td>5</td>\n      <td>4</td>\n    </tr>\n  </tbody>\n</table>\n</div>"
     },
     "metadata": {},
     "execution_count": 9
    }
   ],
   "source": [
    "df1"
   ]
  },
  {
   "cell_type": "code",
   "execution_count": 13,
   "metadata": {},
   "outputs": [
    {
     "output_type": "display_data",
     "data": {
      "application/vnd.plotly.v1+json": {
       "config": {
        "linkText": "Export to plot.ly",
        "plotlyServerURL": "https://plot.ly",
        "showLink": true
       },
       "data": [
        {
         "line": {
          "color": "rgba(255, 153, 51, 1.0)",
          "dash": "solid",
          "shape": "linear",
          "width": 1.3
         },
         "marker": {
          "size": 7,
          "symbol": "circle"
         },
         "mode": "markers",
         "name": "b",
         "text": "",
         "type": "scatter",
         "x": [
          0.06664371620244847,
          0.5407620947234574,
          0.6689151881233841,
          0.721092412348836,
          0.3759797914497993,
          0.39527735063052827,
          0.4934522395805472,
          0.855897801465149,
          0.7374102580018511,
          0.7287535440658456,
          0.9087893119029362,
          0.0389729107276543,
          0.9131979511127855,
          0.40962089859421325,
          0.47657514104573917,
          0.08720299353607297,
          0.13690164698888896,
          0.5035481247163679,
          0.266135761384094,
          0.6549949357531493,
          0.08051241257947772,
          0.9214281008363931,
          0.2829524471881053,
          0.6527173363263697,
          0.18800592724027765,
          0.5581934203599891,
          0.56098202587155,
          0.4601468637306919,
          0.7818563913340485,
          0.5536017893406393,
          0.2076552401035373,
          0.35928237992313494,
          0.6587218084028461,
          0.811613083395124,
          0.25420805654115597,
          0.6840002810466673,
          0.6111164582393296,
          0.2938576195012119,
          0.5111691101046774,
          0.3875542277771037,
          0.7451045436127167,
          0.9501473884996332,
          0.004498032004161545,
          0.5092605688140478,
          0.6564632643610027,
          0.6201931780594065,
          0.6842706981054051,
          0.2709670378722623,
          0.2120575730857116,
          0.8134311075392741,
          0.24116333321833616,
          0.23103251700435679,
          0.008515506141043239,
          0.39050763129267874,
          0.029665479583302568,
          0.3045989776296153,
          0.26725801998027643,
          0.26039194932627807,
          0.12224282846630519,
          0.6330862699036091,
          0.5457474773327132,
          0.4180438341797862,
          0.46736457227967254,
          0.2185566342291806,
          0.08059260147056657,
          0.38368185010623335,
          0.3086118649520281,
          0.2908710248091253,
          0.21329586658150246,
          0.15006898078339448,
          0.5450323688265107,
          0.5531789726038746,
          0.9480092589771546,
          0.061642493465942194,
          0.4105801261150056,
          0.6296851450210539,
          0.6368558770397965,
          0.01642034253496527,
          0.30064919685985814,
          0.1130722453206362,
          0.9458354659747372,
          0.631307464603639,
          0.6938179081613992,
          0.8876160139563236,
          0.2637635757689851,
          0.7855477777304667,
          0.22261139352906356,
          0.004728933024584991,
          0.9885717734657872,
          0.6468037364293703,
          0.8205938194632254,
          0.46987932516763353,
          0.10891344024228955,
          0.5532588345858189,
          0.3828403044919656,
          0.6048392490123118,
          0.12306666157306034,
          0.7889998286430977,
          0.9125580422545567,
          0.013538786394112545
         ],
         "y": [
          0.1708528654602024,
          0.7947643961159381,
          0.12666139207012694,
          0.3704731100280987,
          0.4268231835968821,
          0.35764351148766405,
          0.2305666365210597,
          0.5538324288018692,
          0.594848156221167,
          0.9200479583746664,
          0.07590398582031088,
          0.9671854096015232,
          0.7125727126759903,
          0.8271226920363048,
          0.7927056070623242,
          0.8726781316595718,
          0.8439521568895053,
          0.09259317145482682,
          0.23178163096381899,
          0.09344484466459091,
          0.5209866753943617,
          0.2827883678792852,
          0.7060326111475312,
          0.8269352626736227,
          0.07581189650262699,
          0.5534557276357995,
          0.4709639927533994,
          0.5077795018414701,
          0.8146512167413209,
          0.0632160619388743,
          0.3784684778530909,
          0.11831403628208981,
          0.6604793256512019,
          0.8508837419021006,
          0.07326909011979632,
          0.1707061886641288,
          0.24602297556450203,
          0.32942390765767826,
          0.7827689079006152,
          0.5707580434972809,
          0.4557217240085497,
          0.3213546954349775,
          0.959796038755243,
          0.6792786524938019,
          0.6221080084291316,
          0.7916085199812986,
          0.196691226645063,
          0.23166202663976354,
          0.9871650353364658,
          0.5609852351224877,
          0.23060749190256702,
          0.6030149483879629,
          0.5418942503693233,
          0.8313579981419337,
          0.5005334875818716,
          0.17581835788597155,
          0.06043898969061501,
          0.1513690889963779,
          0.4965519044757296,
          0.6845533661268685,
          0.9632402423903895,
          0.15123322447511456,
          0.05491020331362695,
          0.06992307697450528,
          0.9251471556135247,
          0.07302669974492837,
          0.8412452325410701,
          0.052016817071149024,
          0.8937151859836213,
          0.7394998538110885,
          0.3726497227625558,
          0.6433686562554597,
          0.7862230059861702,
          0.8116612066335772,
          0.38686238605025935,
          0.3060482999038615,
          0.6352252249607443,
          0.7774964614027035,
          0.7629484316044388,
          0.987975440479305,
          0.8664798150644375,
          0.020203965710475558,
          0.3398395293157366,
          0.1122650337145874,
          0.07152937015646599,
          0.5787200279474213,
          0.6593323504043507,
          0.37568271757463945,
          0.6662653070220816,
          0.7340273240332108,
          0.8256606515853963,
          0.6375461978363576,
          0.8841503987586986,
          0.7621034473804962,
          0.04889787877109286,
          0.0060500550690697485,
          0.4195028769104727,
          0.209559422638408,
          0.044830301159018204,
          0.7621977253010859
         ]
        }
       ],
       "layout": {
        "legend": {
         "bgcolor": "#F5F6F9",
         "font": {
          "color": "#4D5663"
         }
        },
        "paper_bgcolor": "#F5F6F9",
        "plot_bgcolor": "#F5F6F9",
        "template": {
         "data": {
          "bar": [
           {
            "error_x": {
             "color": "#2a3f5f"
            },
            "error_y": {
             "color": "#2a3f5f"
            },
            "marker": {
             "line": {
              "color": "#E5ECF6",
              "width": 0.5
             }
            },
            "type": "bar"
           }
          ],
          "barpolar": [
           {
            "marker": {
             "line": {
              "color": "#E5ECF6",
              "width": 0.5
             }
            },
            "type": "barpolar"
           }
          ],
          "carpet": [
           {
            "aaxis": {
             "endlinecolor": "#2a3f5f",
             "gridcolor": "white",
             "linecolor": "white",
             "minorgridcolor": "white",
             "startlinecolor": "#2a3f5f"
            },
            "baxis": {
             "endlinecolor": "#2a3f5f",
             "gridcolor": "white",
             "linecolor": "white",
             "minorgridcolor": "white",
             "startlinecolor": "#2a3f5f"
            },
            "type": "carpet"
           }
          ],
          "choropleth": [
           {
            "colorbar": {
             "outlinewidth": 0,
             "ticks": ""
            },
            "type": "choropleth"
           }
          ],
          "contour": [
           {
            "colorbar": {
             "outlinewidth": 0,
             "ticks": ""
            },
            "colorscale": [
             [
              0,
              "#0d0887"
             ],
             [
              0.1111111111111111,
              "#46039f"
             ],
             [
              0.2222222222222222,
              "#7201a8"
             ],
             [
              0.3333333333333333,
              "#9c179e"
             ],
             [
              0.4444444444444444,
              "#bd3786"
             ],
             [
              0.5555555555555556,
              "#d8576b"
             ],
             [
              0.6666666666666666,
              "#ed7953"
             ],
             [
              0.7777777777777778,
              "#fb9f3a"
             ],
             [
              0.8888888888888888,
              "#fdca26"
             ],
             [
              1,
              "#f0f921"
             ]
            ],
            "type": "contour"
           }
          ],
          "contourcarpet": [
           {
            "colorbar": {
             "outlinewidth": 0,
             "ticks": ""
            },
            "type": "contourcarpet"
           }
          ],
          "heatmap": [
           {
            "colorbar": {
             "outlinewidth": 0,
             "ticks": ""
            },
            "colorscale": [
             [
              0,
              "#0d0887"
             ],
             [
              0.1111111111111111,
              "#46039f"
             ],
             [
              0.2222222222222222,
              "#7201a8"
             ],
             [
              0.3333333333333333,
              "#9c179e"
             ],
             [
              0.4444444444444444,
              "#bd3786"
             ],
             [
              0.5555555555555556,
              "#d8576b"
             ],
             [
              0.6666666666666666,
              "#ed7953"
             ],
             [
              0.7777777777777778,
              "#fb9f3a"
             ],
             [
              0.8888888888888888,
              "#fdca26"
             ],
             [
              1,
              "#f0f921"
             ]
            ],
            "type": "heatmap"
           }
          ],
          "heatmapgl": [
           {
            "colorbar": {
             "outlinewidth": 0,
             "ticks": ""
            },
            "colorscale": [
             [
              0,
              "#0d0887"
             ],
             [
              0.1111111111111111,
              "#46039f"
             ],
             [
              0.2222222222222222,
              "#7201a8"
             ],
             [
              0.3333333333333333,
              "#9c179e"
             ],
             [
              0.4444444444444444,
              "#bd3786"
             ],
             [
              0.5555555555555556,
              "#d8576b"
             ],
             [
              0.6666666666666666,
              "#ed7953"
             ],
             [
              0.7777777777777778,
              "#fb9f3a"
             ],
             [
              0.8888888888888888,
              "#fdca26"
             ],
             [
              1,
              "#f0f921"
             ]
            ],
            "type": "heatmapgl"
           }
          ],
          "histogram": [
           {
            "marker": {
             "colorbar": {
              "outlinewidth": 0,
              "ticks": ""
             }
            },
            "type": "histogram"
           }
          ],
          "histogram2d": [
           {
            "colorbar": {
             "outlinewidth": 0,
             "ticks": ""
            },
            "colorscale": [
             [
              0,
              "#0d0887"
             ],
             [
              0.1111111111111111,
              "#46039f"
             ],
             [
              0.2222222222222222,
              "#7201a8"
             ],
             [
              0.3333333333333333,
              "#9c179e"
             ],
             [
              0.4444444444444444,
              "#bd3786"
             ],
             [
              0.5555555555555556,
              "#d8576b"
             ],
             [
              0.6666666666666666,
              "#ed7953"
             ],
             [
              0.7777777777777778,
              "#fb9f3a"
             ],
             [
              0.8888888888888888,
              "#fdca26"
             ],
             [
              1,
              "#f0f921"
             ]
            ],
            "type": "histogram2d"
           }
          ],
          "histogram2dcontour": [
           {
            "colorbar": {
             "outlinewidth": 0,
             "ticks": ""
            },
            "colorscale": [
             [
              0,
              "#0d0887"
             ],
             [
              0.1111111111111111,
              "#46039f"
             ],
             [
              0.2222222222222222,
              "#7201a8"
             ],
             [
              0.3333333333333333,
              "#9c179e"
             ],
             [
              0.4444444444444444,
              "#bd3786"
             ],
             [
              0.5555555555555556,
              "#d8576b"
             ],
             [
              0.6666666666666666,
              "#ed7953"
             ],
             [
              0.7777777777777778,
              "#fb9f3a"
             ],
             [
              0.8888888888888888,
              "#fdca26"
             ],
             [
              1,
              "#f0f921"
             ]
            ],
            "type": "histogram2dcontour"
           }
          ],
          "mesh3d": [
           {
            "colorbar": {
             "outlinewidth": 0,
             "ticks": ""
            },
            "type": "mesh3d"
           }
          ],
          "parcoords": [
           {
            "line": {
             "colorbar": {
              "outlinewidth": 0,
              "ticks": ""
             }
            },
            "type": "parcoords"
           }
          ],
          "pie": [
           {
            "automargin": true,
            "type": "pie"
           }
          ],
          "scatter": [
           {
            "marker": {
             "colorbar": {
              "outlinewidth": 0,
              "ticks": ""
             }
            },
            "type": "scatter"
           }
          ],
          "scatter3d": [
           {
            "line": {
             "colorbar": {
              "outlinewidth": 0,
              "ticks": ""
             }
            },
            "marker": {
             "colorbar": {
              "outlinewidth": 0,
              "ticks": ""
             }
            },
            "type": "scatter3d"
           }
          ],
          "scattercarpet": [
           {
            "marker": {
             "colorbar": {
              "outlinewidth": 0,
              "ticks": ""
             }
            },
            "type": "scattercarpet"
           }
          ],
          "scattergeo": [
           {
            "marker": {
             "colorbar": {
              "outlinewidth": 0,
              "ticks": ""
             }
            },
            "type": "scattergeo"
           }
          ],
          "scattergl": [
           {
            "marker": {
             "colorbar": {
              "outlinewidth": 0,
              "ticks": ""
             }
            },
            "type": "scattergl"
           }
          ],
          "scattermapbox": [
           {
            "marker": {
             "colorbar": {
              "outlinewidth": 0,
              "ticks": ""
             }
            },
            "type": "scattermapbox"
           }
          ],
          "scatterpolar": [
           {
            "marker": {
             "colorbar": {
              "outlinewidth": 0,
              "ticks": ""
             }
            },
            "type": "scatterpolar"
           }
          ],
          "scatterpolargl": [
           {
            "marker": {
             "colorbar": {
              "outlinewidth": 0,
              "ticks": ""
             }
            },
            "type": "scatterpolargl"
           }
          ],
          "scatterternary": [
           {
            "marker": {
             "colorbar": {
              "outlinewidth": 0,
              "ticks": ""
             }
            },
            "type": "scatterternary"
           }
          ],
          "surface": [
           {
            "colorbar": {
             "outlinewidth": 0,
             "ticks": ""
            },
            "colorscale": [
             [
              0,
              "#0d0887"
             ],
             [
              0.1111111111111111,
              "#46039f"
             ],
             [
              0.2222222222222222,
              "#7201a8"
             ],
             [
              0.3333333333333333,
              "#9c179e"
             ],
             [
              0.4444444444444444,
              "#bd3786"
             ],
             [
              0.5555555555555556,
              "#d8576b"
             ],
             [
              0.6666666666666666,
              "#ed7953"
             ],
             [
              0.7777777777777778,
              "#fb9f3a"
             ],
             [
              0.8888888888888888,
              "#fdca26"
             ],
             [
              1,
              "#f0f921"
             ]
            ],
            "type": "surface"
           }
          ],
          "table": [
           {
            "cells": {
             "fill": {
              "color": "#EBF0F8"
             },
             "line": {
              "color": "white"
             }
            },
            "header": {
             "fill": {
              "color": "#C8D4E3"
             },
             "line": {
              "color": "white"
             }
            },
            "type": "table"
           }
          ]
         },
         "layout": {
          "annotationdefaults": {
           "arrowcolor": "#2a3f5f",
           "arrowhead": 0,
           "arrowwidth": 1
          },
          "coloraxis": {
           "colorbar": {
            "outlinewidth": 0,
            "ticks": ""
           }
          },
          "colorscale": {
           "diverging": [
            [
             0,
             "#8e0152"
            ],
            [
             0.1,
             "#c51b7d"
            ],
            [
             0.2,
             "#de77ae"
            ],
            [
             0.3,
             "#f1b6da"
            ],
            [
             0.4,
             "#fde0ef"
            ],
            [
             0.5,
             "#f7f7f7"
            ],
            [
             0.6,
             "#e6f5d0"
            ],
            [
             0.7,
             "#b8e186"
            ],
            [
             0.8,
             "#7fbc41"
            ],
            [
             0.9,
             "#4d9221"
            ],
            [
             1,
             "#276419"
            ]
           ],
           "sequential": [
            [
             0,
             "#0d0887"
            ],
            [
             0.1111111111111111,
             "#46039f"
            ],
            [
             0.2222222222222222,
             "#7201a8"
            ],
            [
             0.3333333333333333,
             "#9c179e"
            ],
            [
             0.4444444444444444,
             "#bd3786"
            ],
            [
             0.5555555555555556,
             "#d8576b"
            ],
            [
             0.6666666666666666,
             "#ed7953"
            ],
            [
             0.7777777777777778,
             "#fb9f3a"
            ],
            [
             0.8888888888888888,
             "#fdca26"
            ],
            [
             1,
             "#f0f921"
            ]
           ],
           "sequentialminus": [
            [
             0,
             "#0d0887"
            ],
            [
             0.1111111111111111,
             "#46039f"
            ],
            [
             0.2222222222222222,
             "#7201a8"
            ],
            [
             0.3333333333333333,
             "#9c179e"
            ],
            [
             0.4444444444444444,
             "#bd3786"
            ],
            [
             0.5555555555555556,
             "#d8576b"
            ],
            [
             0.6666666666666666,
             "#ed7953"
            ],
            [
             0.7777777777777778,
             "#fb9f3a"
            ],
            [
             0.8888888888888888,
             "#fdca26"
            ],
            [
             1,
             "#f0f921"
            ]
           ]
          },
          "colorway": [
           "#636efa",
           "#EF553B",
           "#00cc96",
           "#ab63fa",
           "#FFA15A",
           "#19d3f3",
           "#FF6692",
           "#B6E880",
           "#FF97FF",
           "#FECB52"
          ],
          "font": {
           "color": "#2a3f5f"
          },
          "geo": {
           "bgcolor": "white",
           "lakecolor": "white",
           "landcolor": "#E5ECF6",
           "showlakes": true,
           "showland": true,
           "subunitcolor": "white"
          },
          "hoverlabel": {
           "align": "left"
          },
          "hovermode": "closest",
          "mapbox": {
           "style": "light"
          },
          "paper_bgcolor": "white",
          "plot_bgcolor": "#E5ECF6",
          "polar": {
           "angularaxis": {
            "gridcolor": "white",
            "linecolor": "white",
            "ticks": ""
           },
           "bgcolor": "#E5ECF6",
           "radialaxis": {
            "gridcolor": "white",
            "linecolor": "white",
            "ticks": ""
           }
          },
          "scene": {
           "xaxis": {
            "backgroundcolor": "#E5ECF6",
            "gridcolor": "white",
            "gridwidth": 2,
            "linecolor": "white",
            "showbackground": true,
            "ticks": "",
            "zerolinecolor": "white"
           },
           "yaxis": {
            "backgroundcolor": "#E5ECF6",
            "gridcolor": "white",
            "gridwidth": 2,
            "linecolor": "white",
            "showbackground": true,
            "ticks": "",
            "zerolinecolor": "white"
           },
           "zaxis": {
            "backgroundcolor": "#E5ECF6",
            "gridcolor": "white",
            "gridwidth": 2,
            "linecolor": "white",
            "showbackground": true,
            "ticks": "",
            "zerolinecolor": "white"
           }
          },
          "shapedefaults": {
           "line": {
            "color": "#2a3f5f"
           }
          },
          "ternary": {
           "aaxis": {
            "gridcolor": "white",
            "linecolor": "white",
            "ticks": ""
           },
           "baxis": {
            "gridcolor": "white",
            "linecolor": "white",
            "ticks": ""
           },
           "bgcolor": "#E5ECF6",
           "caxis": {
            "gridcolor": "white",
            "linecolor": "white",
            "ticks": ""
           }
          },
          "title": {
           "x": 0.05
          },
          "xaxis": {
           "automargin": true,
           "gridcolor": "white",
           "linecolor": "white",
           "ticks": "",
           "title": {
            "standoff": 15
           },
           "zerolinecolor": "white",
           "zerolinewidth": 2
          },
          "yaxis": {
           "automargin": true,
           "gridcolor": "white",
           "linecolor": "white",
           "ticks": "",
           "title": {
            "standoff": 15
           },
           "zerolinecolor": "white",
           "zerolinewidth": 2
          }
         }
        },
        "title": {
         "font": {
          "color": "#4D5663"
         }
        },
        "xaxis": {
         "gridcolor": "#E1E5ED",
         "showgrid": true,
         "tickfont": {
          "color": "#4D5663"
         },
         "title": {
          "font": {
           "color": "#4D5663"
          },
          "text": ""
         },
         "zerolinecolor": "#E1E5ED"
        },
        "yaxis": {
         "gridcolor": "#E1E5ED",
         "showgrid": true,
         "tickfont": {
          "color": "#4D5663"
         },
         "title": {
          "font": {
           "color": "#4D5663"
          },
          "text": ""
         },
         "zerolinecolor": "#E1E5ED"
        }
       }
      },
      "text/html": "<div>\n        \n        \n            <div id=\"1888f8ed-2f49-4b33-8f9c-ee1995d11715\" class=\"plotly-graph-div\" style=\"height:525px; width:100%;\"></div>\n            <script type=\"text/javascript\">\n                require([\"plotly\"], function(Plotly) {\n                    window.PLOTLYENV=window.PLOTLYENV || {};\n                    window.PLOTLYENV.BASE_URL='https://plot.ly';\n                    \n                if (document.getElementById(\"1888f8ed-2f49-4b33-8f9c-ee1995d11715\")) {\n                    Plotly.newPlot(\n                        '1888f8ed-2f49-4b33-8f9c-ee1995d11715',\n                        [{\"line\": {\"color\": \"rgba(255, 153, 51, 1.0)\", \"dash\": \"solid\", \"shape\": \"linear\", \"width\": 1.3}, \"marker\": {\"size\": 7, \"symbol\": \"circle\"}, \"mode\": \"markers\", \"name\": \"b\", \"text\": \"\", \"type\": \"scatter\", \"x\": [0.06664371620244847, 0.5407620947234574, 0.6689151881233841, 0.721092412348836, 0.3759797914497993, 0.39527735063052827, 0.4934522395805472, 0.855897801465149, 0.7374102580018511, 0.7287535440658456, 0.9087893119029362, 0.0389729107276543, 0.9131979511127855, 0.40962089859421325, 0.47657514104573917, 0.08720299353607297, 0.13690164698888896, 0.5035481247163679, 0.266135761384094, 0.6549949357531493, 0.08051241257947772, 0.9214281008363931, 0.2829524471881053, 0.6527173363263697, 0.18800592724027765, 0.5581934203599891, 0.56098202587155, 0.4601468637306919, 0.7818563913340485, 0.5536017893406393, 0.2076552401035373, 0.35928237992313494, 0.6587218084028461, 0.811613083395124, 0.25420805654115597, 0.6840002810466673, 0.6111164582393296, 0.2938576195012119, 0.5111691101046774, 0.3875542277771037, 0.7451045436127167, 0.9501473884996332, 0.004498032004161545, 0.5092605688140478, 0.6564632643610027, 0.6201931780594065, 0.6842706981054051, 0.2709670378722623, 0.2120575730857116, 0.8134311075392741, 0.24116333321833616, 0.23103251700435679, 0.008515506141043239, 0.39050763129267874, 0.029665479583302568, 0.3045989776296153, 0.26725801998027643, 0.26039194932627807, 0.12224282846630519, 0.6330862699036091, 0.5457474773327132, 0.4180438341797862, 0.46736457227967254, 0.2185566342291806, 0.08059260147056657, 0.38368185010623335, 0.3086118649520281, 0.2908710248091253, 0.21329586658150246, 0.15006898078339448, 0.5450323688265107, 0.5531789726038746, 0.9480092589771546, 0.061642493465942194, 0.4105801261150056, 0.6296851450210539, 0.6368558770397965, 0.01642034253496527, 0.30064919685985814, 0.1130722453206362, 0.9458354659747372, 0.631307464603639, 0.6938179081613992, 0.8876160139563236, 0.2637635757689851, 0.7855477777304667, 0.22261139352906356, 0.004728933024584991, 0.9885717734657872, 0.6468037364293703, 0.8205938194632254, 0.46987932516763353, 0.10891344024228955, 0.5532588345858189, 0.3828403044919656, 0.6048392490123118, 0.12306666157306034, 0.7889998286430977, 0.9125580422545567, 0.013538786394112545], \"y\": [0.1708528654602024, 0.7947643961159381, 0.12666139207012694, 0.3704731100280987, 0.4268231835968821, 0.35764351148766405, 0.2305666365210597, 0.5538324288018692, 0.594848156221167, 0.9200479583746664, 0.07590398582031088, 0.9671854096015232, 0.7125727126759903, 0.8271226920363048, 0.7927056070623242, 0.8726781316595718, 0.8439521568895053, 0.09259317145482682, 0.23178163096381899, 0.09344484466459091, 0.5209866753943617, 0.2827883678792852, 0.7060326111475312, 0.8269352626736227, 0.07581189650262699, 0.5534557276357995, 0.4709639927533994, 0.5077795018414701, 0.8146512167413209, 0.0632160619388743, 0.3784684778530909, 0.11831403628208981, 0.6604793256512019, 0.8508837419021006, 0.07326909011979632, 0.1707061886641288, 0.24602297556450203, 0.32942390765767826, 0.7827689079006152, 0.5707580434972809, 0.4557217240085497, 0.3213546954349775, 0.959796038755243, 0.6792786524938019, 0.6221080084291316, 0.7916085199812986, 0.196691226645063, 0.23166202663976354, 0.9871650353364658, 0.5609852351224877, 0.23060749190256702, 0.6030149483879629, 0.5418942503693233, 0.8313579981419337, 0.5005334875818716, 0.17581835788597155, 0.06043898969061501, 0.1513690889963779, 0.4965519044757296, 0.6845533661268685, 0.9632402423903895, 0.15123322447511456, 0.05491020331362695, 0.06992307697450528, 0.9251471556135247, 0.07302669974492837, 0.8412452325410701, 0.052016817071149024, 0.8937151859836213, 0.7394998538110885, 0.3726497227625558, 0.6433686562554597, 0.7862230059861702, 0.8116612066335772, 0.38686238605025935, 0.3060482999038615, 0.6352252249607443, 0.7774964614027035, 0.7629484316044388, 0.987975440479305, 0.8664798150644375, 0.020203965710475558, 0.3398395293157366, 0.1122650337145874, 0.07152937015646599, 0.5787200279474213, 0.6593323504043507, 0.37568271757463945, 0.6662653070220816, 0.7340273240332108, 0.8256606515853963, 0.6375461978363576, 0.8841503987586986, 0.7621034473804962, 0.04889787877109286, 0.0060500550690697485, 0.4195028769104727, 0.209559422638408, 0.044830301159018204, 0.7621977253010859]}],\n                        {\"legend\": {\"bgcolor\": \"#F5F6F9\", \"font\": {\"color\": \"#4D5663\"}}, \"paper_bgcolor\": \"#F5F6F9\", \"plot_bgcolor\": \"#F5F6F9\", \"template\": {\"data\": {\"bar\": [{\"error_x\": {\"color\": \"#2a3f5f\"}, \"error_y\": {\"color\": \"#2a3f5f\"}, \"marker\": {\"line\": {\"color\": \"#E5ECF6\", \"width\": 0.5}}, \"type\": \"bar\"}], \"barpolar\": [{\"marker\": {\"line\": {\"color\": \"#E5ECF6\", \"width\": 0.5}}, \"type\": \"barpolar\"}], \"carpet\": [{\"aaxis\": {\"endlinecolor\": \"#2a3f5f\", \"gridcolor\": \"white\", \"linecolor\": \"white\", \"minorgridcolor\": \"white\", \"startlinecolor\": \"#2a3f5f\"}, \"baxis\": {\"endlinecolor\": \"#2a3f5f\", \"gridcolor\": \"white\", \"linecolor\": \"white\", \"minorgridcolor\": \"white\", \"startlinecolor\": \"#2a3f5f\"}, \"type\": \"carpet\"}], \"choropleth\": [{\"colorbar\": {\"outlinewidth\": 0, \"ticks\": \"\"}, \"type\": \"choropleth\"}], \"contour\": [{\"colorbar\": {\"outlinewidth\": 0, \"ticks\": \"\"}, \"colorscale\": [[0.0, \"#0d0887\"], [0.1111111111111111, \"#46039f\"], [0.2222222222222222, \"#7201a8\"], [0.3333333333333333, \"#9c179e\"], [0.4444444444444444, \"#bd3786\"], [0.5555555555555556, \"#d8576b\"], [0.6666666666666666, \"#ed7953\"], [0.7777777777777778, \"#fb9f3a\"], [0.8888888888888888, \"#fdca26\"], [1.0, \"#f0f921\"]], \"type\": \"contour\"}], \"contourcarpet\": [{\"colorbar\": {\"outlinewidth\": 0, \"ticks\": \"\"}, \"type\": \"contourcarpet\"}], \"heatmap\": [{\"colorbar\": {\"outlinewidth\": 0, \"ticks\": \"\"}, \"colorscale\": [[0.0, \"#0d0887\"], [0.1111111111111111, \"#46039f\"], [0.2222222222222222, \"#7201a8\"], [0.3333333333333333, \"#9c179e\"], [0.4444444444444444, \"#bd3786\"], [0.5555555555555556, \"#d8576b\"], [0.6666666666666666, \"#ed7953\"], [0.7777777777777778, \"#fb9f3a\"], [0.8888888888888888, \"#fdca26\"], [1.0, \"#f0f921\"]], \"type\": \"heatmap\"}], \"heatmapgl\": [{\"colorbar\": {\"outlinewidth\": 0, \"ticks\": \"\"}, \"colorscale\": [[0.0, \"#0d0887\"], [0.1111111111111111, \"#46039f\"], [0.2222222222222222, \"#7201a8\"], [0.3333333333333333, \"#9c179e\"], [0.4444444444444444, \"#bd3786\"], [0.5555555555555556, \"#d8576b\"], [0.6666666666666666, \"#ed7953\"], [0.7777777777777778, \"#fb9f3a\"], [0.8888888888888888, \"#fdca26\"], [1.0, \"#f0f921\"]], \"type\": \"heatmapgl\"}], \"histogram\": [{\"marker\": {\"colorbar\": {\"outlinewidth\": 0, \"ticks\": \"\"}}, \"type\": \"histogram\"}], \"histogram2d\": [{\"colorbar\": {\"outlinewidth\": 0, \"ticks\": \"\"}, \"colorscale\": [[0.0, \"#0d0887\"], [0.1111111111111111, \"#46039f\"], [0.2222222222222222, \"#7201a8\"], [0.3333333333333333, \"#9c179e\"], [0.4444444444444444, \"#bd3786\"], [0.5555555555555556, \"#d8576b\"], [0.6666666666666666, \"#ed7953\"], [0.7777777777777778, \"#fb9f3a\"], [0.8888888888888888, \"#fdca26\"], [1.0, \"#f0f921\"]], \"type\": \"histogram2d\"}], \"histogram2dcontour\": [{\"colorbar\": {\"outlinewidth\": 0, \"ticks\": \"\"}, \"colorscale\": [[0.0, \"#0d0887\"], [0.1111111111111111, \"#46039f\"], [0.2222222222222222, \"#7201a8\"], [0.3333333333333333, \"#9c179e\"], [0.4444444444444444, \"#bd3786\"], [0.5555555555555556, \"#d8576b\"], [0.6666666666666666, \"#ed7953\"], [0.7777777777777778, \"#fb9f3a\"], [0.8888888888888888, \"#fdca26\"], [1.0, \"#f0f921\"]], \"type\": \"histogram2dcontour\"}], \"mesh3d\": [{\"colorbar\": {\"outlinewidth\": 0, \"ticks\": \"\"}, \"type\": \"mesh3d\"}], \"parcoords\": [{\"line\": {\"colorbar\": {\"outlinewidth\": 0, \"ticks\": \"\"}}, \"type\": \"parcoords\"}], \"pie\": [{\"automargin\": true, \"type\": \"pie\"}], \"scatter\": [{\"marker\": {\"colorbar\": {\"outlinewidth\": 0, \"ticks\": \"\"}}, \"type\": \"scatter\"}], \"scatter3d\": [{\"line\": {\"colorbar\": {\"outlinewidth\": 0, \"ticks\": \"\"}}, \"marker\": {\"colorbar\": {\"outlinewidth\": 0, \"ticks\": \"\"}}, \"type\": \"scatter3d\"}], \"scattercarpet\": [{\"marker\": {\"colorbar\": {\"outlinewidth\": 0, \"ticks\": \"\"}}, \"type\": \"scattercarpet\"}], \"scattergeo\": [{\"marker\": {\"colorbar\": {\"outlinewidth\": 0, \"ticks\": \"\"}}, \"type\": \"scattergeo\"}], \"scattergl\": [{\"marker\": {\"colorbar\": {\"outlinewidth\": 0, \"ticks\": \"\"}}, \"type\": \"scattergl\"}], \"scattermapbox\": [{\"marker\": {\"colorbar\": {\"outlinewidth\": 0, \"ticks\": \"\"}}, \"type\": \"scattermapbox\"}], \"scatterpolar\": [{\"marker\": {\"colorbar\": {\"outlinewidth\": 0, \"ticks\": \"\"}}, \"type\": \"scatterpolar\"}], \"scatterpolargl\": [{\"marker\": {\"colorbar\": {\"outlinewidth\": 0, \"ticks\": \"\"}}, \"type\": \"scatterpolargl\"}], \"scatterternary\": [{\"marker\": {\"colorbar\": {\"outlinewidth\": 0, \"ticks\": \"\"}}, \"type\": \"scatterternary\"}], \"surface\": [{\"colorbar\": {\"outlinewidth\": 0, \"ticks\": \"\"}, \"colorscale\": [[0.0, \"#0d0887\"], [0.1111111111111111, \"#46039f\"], [0.2222222222222222, \"#7201a8\"], [0.3333333333333333, \"#9c179e\"], [0.4444444444444444, \"#bd3786\"], [0.5555555555555556, \"#d8576b\"], [0.6666666666666666, \"#ed7953\"], [0.7777777777777778, \"#fb9f3a\"], [0.8888888888888888, \"#fdca26\"], [1.0, \"#f0f921\"]], \"type\": \"surface\"}], \"table\": [{\"cells\": {\"fill\": {\"color\": \"#EBF0F8\"}, \"line\": {\"color\": \"white\"}}, \"header\": {\"fill\": {\"color\": \"#C8D4E3\"}, \"line\": {\"color\": \"white\"}}, \"type\": \"table\"}]}, \"layout\": {\"annotationdefaults\": {\"arrowcolor\": \"#2a3f5f\", \"arrowhead\": 0, \"arrowwidth\": 1}, \"coloraxis\": {\"colorbar\": {\"outlinewidth\": 0, \"ticks\": \"\"}}, \"colorscale\": {\"diverging\": [[0, \"#8e0152\"], [0.1, \"#c51b7d\"], [0.2, \"#de77ae\"], [0.3, \"#f1b6da\"], [0.4, \"#fde0ef\"], [0.5, \"#f7f7f7\"], [0.6, \"#e6f5d0\"], [0.7, \"#b8e186\"], [0.8, \"#7fbc41\"], [0.9, \"#4d9221\"], [1, \"#276419\"]], \"sequential\": [[0.0, \"#0d0887\"], [0.1111111111111111, \"#46039f\"], [0.2222222222222222, \"#7201a8\"], [0.3333333333333333, \"#9c179e\"], [0.4444444444444444, \"#bd3786\"], [0.5555555555555556, \"#d8576b\"], [0.6666666666666666, \"#ed7953\"], [0.7777777777777778, \"#fb9f3a\"], [0.8888888888888888, \"#fdca26\"], [1.0, \"#f0f921\"]], \"sequentialminus\": [[0.0, \"#0d0887\"], [0.1111111111111111, \"#46039f\"], [0.2222222222222222, \"#7201a8\"], [0.3333333333333333, \"#9c179e\"], [0.4444444444444444, \"#bd3786\"], [0.5555555555555556, \"#d8576b\"], [0.6666666666666666, \"#ed7953\"], [0.7777777777777778, \"#fb9f3a\"], [0.8888888888888888, \"#fdca26\"], [1.0, \"#f0f921\"]]}, \"colorway\": [\"#636efa\", \"#EF553B\", \"#00cc96\", \"#ab63fa\", \"#FFA15A\", \"#19d3f3\", \"#FF6692\", \"#B6E880\", \"#FF97FF\", \"#FECB52\"], \"font\": {\"color\": \"#2a3f5f\"}, \"geo\": {\"bgcolor\": \"white\", \"lakecolor\": \"white\", \"landcolor\": \"#E5ECF6\", \"showlakes\": true, \"showland\": true, \"subunitcolor\": \"white\"}, \"hoverlabel\": {\"align\": \"left\"}, \"hovermode\": \"closest\", \"mapbox\": {\"style\": \"light\"}, \"paper_bgcolor\": \"white\", \"plot_bgcolor\": \"#E5ECF6\", \"polar\": {\"angularaxis\": {\"gridcolor\": \"white\", \"linecolor\": \"white\", \"ticks\": \"\"}, \"bgcolor\": \"#E5ECF6\", \"radialaxis\": {\"gridcolor\": \"white\", \"linecolor\": \"white\", \"ticks\": \"\"}}, \"scene\": {\"xaxis\": {\"backgroundcolor\": \"#E5ECF6\", \"gridcolor\": \"white\", \"gridwidth\": 2, \"linecolor\": \"white\", \"showbackground\": true, \"ticks\": \"\", \"zerolinecolor\": \"white\"}, \"yaxis\": {\"backgroundcolor\": \"#E5ECF6\", \"gridcolor\": \"white\", \"gridwidth\": 2, \"linecolor\": \"white\", \"showbackground\": true, \"ticks\": \"\", \"zerolinecolor\": \"white\"}, \"zaxis\": {\"backgroundcolor\": \"#E5ECF6\", \"gridcolor\": \"white\", \"gridwidth\": 2, \"linecolor\": \"white\", \"showbackground\": true, \"ticks\": \"\", \"zerolinecolor\": \"white\"}}, \"shapedefaults\": {\"line\": {\"color\": \"#2a3f5f\"}}, \"ternary\": {\"aaxis\": {\"gridcolor\": \"white\", \"linecolor\": \"white\", \"ticks\": \"\"}, \"baxis\": {\"gridcolor\": \"white\", \"linecolor\": \"white\", \"ticks\": \"\"}, \"bgcolor\": \"#E5ECF6\", \"caxis\": {\"gridcolor\": \"white\", \"linecolor\": \"white\", \"ticks\": \"\"}}, \"title\": {\"x\": 0.05}, \"xaxis\": {\"automargin\": true, \"gridcolor\": \"white\", \"linecolor\": \"white\", \"ticks\": \"\", \"title\": {\"standoff\": 15}, \"zerolinecolor\": \"white\", \"zerolinewidth\": 2}, \"yaxis\": {\"automargin\": true, \"gridcolor\": \"white\", \"linecolor\": \"white\", \"ticks\": \"\", \"title\": {\"standoff\": 15}, \"zerolinecolor\": \"white\", \"zerolinewidth\": 2}}}, \"title\": {\"font\": {\"color\": \"#4D5663\"}}, \"xaxis\": {\"gridcolor\": \"#E1E5ED\", \"showgrid\": true, \"tickfont\": {\"color\": \"#4D5663\"}, \"title\": {\"font\": {\"color\": \"#4D5663\"}, \"text\": \"\"}, \"zerolinecolor\": \"#E1E5ED\"}, \"yaxis\": {\"gridcolor\": \"#E1E5ED\", \"showgrid\": true, \"tickfont\": {\"color\": \"#4D5663\"}, \"title\": {\"font\": {\"color\": \"#4D5663\"}, \"text\": \"\"}, \"zerolinecolor\": \"#E1E5ED\"}},\n                        {\"showLink\": true, \"linkText\": \"Export to plot.ly\", \"plotlyServerURL\": \"https://plot.ly\", \"responsive\": true}\n                    ).then(function(){\n                            \nvar gd = document.getElementById('1888f8ed-2f49-4b33-8f9c-ee1995d11715');\nvar x = new MutationObserver(function (mutations, observer) {{\n        var display = window.getComputedStyle(gd).display;\n        if (!display || display === 'none') {{\n            console.log([gd, 'removed!']);\n            Plotly.purge(gd);\n            observer.disconnect();\n        }}\n}});\n\n// Listen for the removal of the full notebook cells\nvar notebookContainer = gd.closest('#notebook-container');\nif (notebookContainer) {{\n    x.observe(notebookContainer, {childList: true});\n}}\n\n// Listen for the clearing of the current output cell\nvar outputEl = gd.closest('.output');\nif (outputEl) {{\n    x.observe(outputEl, {childList: true});\n}}\n\n                        })\n                };\n                });\n            </script>\n        </div>"
     },
     "metadata": {}
    }
   ],
   "source": [
    "df.iplot(kind='scatter',x='a',y='b',mode='markers',size=7)"
   ]
  },
  {
   "cell_type": "code",
   "execution_count": 14,
   "metadata": {},
   "outputs": [
    {
     "output_type": "display_data",
     "data": {
      "application/vnd.plotly.v1+json": {
       "config": {
        "linkText": "Export to plot.ly",
        "plotlyServerURL": "https://plot.ly",
        "showLink": true
       },
       "data": [
        {
         "histfunc": "count",
         "histnorm": "",
         "marker": {
          "color": "rgba(255, 153, 51, 1.0)",
          "line": {
           "color": "#4D5663",
           "width": 1.3
          }
         },
         "name": "a",
         "nbinsx": 10,
         "opacity": 0.8,
         "orientation": "v",
         "type": "histogram",
         "x": [
          0.06664371620244847,
          0.5407620947234574,
          0.6689151881233841,
          0.721092412348836,
          0.3759797914497993,
          0.39527735063052827,
          0.4934522395805472,
          0.855897801465149,
          0.7374102580018511,
          0.7287535440658456,
          0.9087893119029362,
          0.0389729107276543,
          0.9131979511127855,
          0.40962089859421325,
          0.47657514104573917,
          0.08720299353607297,
          0.13690164698888896,
          0.5035481247163679,
          0.266135761384094,
          0.6549949357531493,
          0.08051241257947772,
          0.9214281008363931,
          0.2829524471881053,
          0.6527173363263697,
          0.18800592724027765,
          0.5581934203599891,
          0.56098202587155,
          0.4601468637306919,
          0.7818563913340485,
          0.5536017893406393,
          0.2076552401035373,
          0.35928237992313494,
          0.6587218084028461,
          0.811613083395124,
          0.25420805654115597,
          0.6840002810466673,
          0.6111164582393296,
          0.2938576195012119,
          0.5111691101046774,
          0.3875542277771037,
          0.7451045436127167,
          0.9501473884996332,
          0.004498032004161545,
          0.5092605688140478,
          0.6564632643610027,
          0.6201931780594065,
          0.6842706981054051,
          0.2709670378722623,
          0.2120575730857116,
          0.8134311075392741,
          0.24116333321833616,
          0.23103251700435679,
          0.008515506141043239,
          0.39050763129267874,
          0.029665479583302568,
          0.3045989776296153,
          0.26725801998027643,
          0.26039194932627807,
          0.12224282846630519,
          0.6330862699036091,
          0.5457474773327132,
          0.4180438341797862,
          0.46736457227967254,
          0.2185566342291806,
          0.08059260147056657,
          0.38368185010623335,
          0.3086118649520281,
          0.2908710248091253,
          0.21329586658150246,
          0.15006898078339448,
          0.5450323688265107,
          0.5531789726038746,
          0.9480092589771546,
          0.061642493465942194,
          0.4105801261150056,
          0.6296851450210539,
          0.6368558770397965,
          0.01642034253496527,
          0.30064919685985814,
          0.1130722453206362,
          0.9458354659747372,
          0.631307464603639,
          0.6938179081613992,
          0.8876160139563236,
          0.2637635757689851,
          0.7855477777304667,
          0.22261139352906356,
          0.004728933024584991,
          0.9885717734657872,
          0.6468037364293703,
          0.8205938194632254,
          0.46987932516763353,
          0.10891344024228955,
          0.5532588345858189,
          0.3828403044919656,
          0.6048392490123118,
          0.12306666157306034,
          0.7889998286430977,
          0.9125580422545567,
          0.013538786394112545
         ],
         "xaxis": "x",
         "yaxis": "y"
        },
        {
         "line": {
          "color": "rgba(128, 128, 128, 1.0)",
          "dash": "solid",
          "shape": "linear",
          "width": 1.3
         },
         "marker": {
          "size": 2,
          "symbol": "circle"
         },
         "mode": "markers",
         "name": "a",
         "text": "",
         "type": "scatter",
         "x": [
          0.1708528654602024,
          0.7947643961159381,
          0.12666139207012694,
          0.3704731100280987,
          0.4268231835968821,
          0.35764351148766405,
          0.2305666365210597,
          0.5538324288018692,
          0.594848156221167,
          0.9200479583746664,
          0.07590398582031088,
          0.9671854096015232,
          0.7125727126759903,
          0.8271226920363048,
          0.7927056070623242,
          0.8726781316595718,
          0.8439521568895053,
          0.09259317145482682,
          0.23178163096381899,
          0.09344484466459091,
          0.5209866753943617,
          0.2827883678792852,
          0.7060326111475312,
          0.8269352626736227,
          0.07581189650262699,
          0.5534557276357995,
          0.4709639927533994,
          0.5077795018414701,
          0.8146512167413209,
          0.0632160619388743,
          0.3784684778530909,
          0.11831403628208981,
          0.6604793256512019,
          0.8508837419021006,
          0.07326909011979632,
          0.1707061886641288,
          0.24602297556450203,
          0.32942390765767826,
          0.7827689079006152,
          0.5707580434972809,
          0.4557217240085497,
          0.3213546954349775,
          0.959796038755243,
          0.6792786524938019,
          0.6221080084291316,
          0.7916085199812986,
          0.196691226645063,
          0.23166202663976354,
          0.9871650353364658,
          0.5609852351224877,
          0.23060749190256702,
          0.6030149483879629,
          0.5418942503693233,
          0.8313579981419337,
          0.5005334875818716,
          0.17581835788597155,
          0.06043898969061501,
          0.1513690889963779,
          0.4965519044757296,
          0.6845533661268685,
          0.9632402423903895,
          0.15123322447511456,
          0.05491020331362695,
          0.06992307697450528,
          0.9251471556135247,
          0.07302669974492837,
          0.8412452325410701,
          0.052016817071149024,
          0.8937151859836213,
          0.7394998538110885,
          0.3726497227625558,
          0.6433686562554597,
          0.7862230059861702,
          0.8116612066335772,
          0.38686238605025935,
          0.3060482999038615,
          0.6352252249607443,
          0.7774964614027035,
          0.7629484316044388,
          0.987975440479305,
          0.8664798150644375,
          0.020203965710475558,
          0.3398395293157366,
          0.1122650337145874,
          0.07152937015646599,
          0.5787200279474213,
          0.6593323504043507,
          0.37568271757463945,
          0.6662653070220816,
          0.7340273240332108,
          0.8256606515853963,
          0.6375461978363576,
          0.8841503987586986,
          0.7621034473804962,
          0.04889787877109286,
          0.0060500550690697485,
          0.4195028769104727,
          0.209559422638408,
          0.044830301159018204,
          0.7621977253010859
         ],
         "xaxis": "x2",
         "y": [
          0.06664371620244847,
          0.5407620947234574,
          0.6689151881233841,
          0.721092412348836,
          0.3759797914497993,
          0.39527735063052827,
          0.4934522395805472,
          0.855897801465149,
          0.7374102580018511,
          0.7287535440658456,
          0.9087893119029362,
          0.0389729107276543,
          0.9131979511127855,
          0.40962089859421325,
          0.47657514104573917,
          0.08720299353607297,
          0.13690164698888896,
          0.5035481247163679,
          0.266135761384094,
          0.6549949357531493,
          0.08051241257947772,
          0.9214281008363931,
          0.2829524471881053,
          0.6527173363263697,
          0.18800592724027765,
          0.5581934203599891,
          0.56098202587155,
          0.4601468637306919,
          0.7818563913340485,
          0.5536017893406393,
          0.2076552401035373,
          0.35928237992313494,
          0.6587218084028461,
          0.811613083395124,
          0.25420805654115597,
          0.6840002810466673,
          0.6111164582393296,
          0.2938576195012119,
          0.5111691101046774,
          0.3875542277771037,
          0.7451045436127167,
          0.9501473884996332,
          0.004498032004161545,
          0.5092605688140478,
          0.6564632643610027,
          0.6201931780594065,
          0.6842706981054051,
          0.2709670378722623,
          0.2120575730857116,
          0.8134311075392741,
          0.24116333321833616,
          0.23103251700435679,
          0.008515506141043239,
          0.39050763129267874,
          0.029665479583302568,
          0.3045989776296153,
          0.26725801998027643,
          0.26039194932627807,
          0.12224282846630519,
          0.6330862699036091,
          0.5457474773327132,
          0.4180438341797862,
          0.46736457227967254,
          0.2185566342291806,
          0.08059260147056657,
          0.38368185010623335,
          0.3086118649520281,
          0.2908710248091253,
          0.21329586658150246,
          0.15006898078339448,
          0.5450323688265107,
          0.5531789726038746,
          0.9480092589771546,
          0.061642493465942194,
          0.4105801261150056,
          0.6296851450210539,
          0.6368558770397965,
          0.01642034253496527,
          0.30064919685985814,
          0.1130722453206362,
          0.9458354659747372,
          0.631307464603639,
          0.6938179081613992,
          0.8876160139563236,
          0.2637635757689851,
          0.7855477777304667,
          0.22261139352906356,
          0.004728933024584991,
          0.9885717734657872,
          0.6468037364293703,
          0.8205938194632254,
          0.46987932516763353,
          0.10891344024228955,
          0.5532588345858189,
          0.3828403044919656,
          0.6048392490123118,
          0.12306666157306034,
          0.7889998286430977,
          0.9125580422545567,
          0.013538786394112545
         ],
         "yaxis": "y2"
        },
        {
         "line": {
          "color": "rgba(128, 128, 128, 1.0)",
          "dash": "solid",
          "shape": "linear",
          "width": 1.3
         },
         "marker": {
          "size": 2,
          "symbol": "circle"
         },
         "mode": "markers",
         "name": "a",
         "text": "",
         "type": "scatter",
         "x": [
          0.6049675436787881,
          0.26331913223246295,
          0.7093497387667826,
          0.8302857557323808,
          0.48628347640271563,
          0.5522401841546365,
          0.7228291561339886,
          0.3503155514198716,
          0.9914397301772295,
          0.3954321460490898,
          0.7843116835894328,
          0.8098075082347174,
          0.5932842876821278,
          0.02674830381482962,
          0.4766817949581674,
          0.23002742439608903,
          0.4602265437259899,
          0.5296780990255819,
          0.6942283623392663,
          0.6045974354017074,
          0.8693925106877225,
          0.1021380012277443,
          0.7117917702159499,
          0.7969334337405094,
          0.2717788438852057,
          0.43278204581902957,
          0.3045708377684585,
          0.2282920528355673,
          0.04597442807158014,
          0.26481441120906113,
          0.5211219007698088,
          0.27106703862801573,
          0.28702898825297607,
          0.9765162555913119,
          0.008257253692387834,
          0.5447918657135943,
          0.21141605255341878,
          0.09488071847727797,
          0.9043563093859569,
          0.288312049701824,
          0.7012557608593932,
          0.7256966546072516,
          0.9648880018708532,
          0.08717577188783832,
          0.4642191069010462,
          0.549304958948628,
          0.7012884961099369,
          0.6533582657360641,
          0.6276470849845789,
          0.9648159983530032,
          0.15600081458444204,
          0.5406290404996967,
          0.8863212327369236,
          0.1677634545916583,
          0.5178539995027887,
          0.3458429211423141,
          0.1448387562693667,
          0.381641212123084,
          0.3032667861950964,
          0.44372221360820363,
          0.5546848039087976,
          0.9720986463159164,
          0.7225295342207287,
          0.8947220777447558,
          0.9939324520057288,
          0.3263708279645252,
          0.0389664589280303,
          0.3158165877803921,
          0.04255771826746191,
          0.1849139335235478,
          0.3255720367741921,
          0.5113739914773018,
          0.16448770269175927,
          0.6566682569750413,
          0.5776520171077744,
          0.39676481813118003,
          0.8791928748221031,
          0.22739878817605397,
          0.06252907684031028,
          0.6272718635098893,
          0.11487809601356624,
          0.06732377536573741,
          0.5171878499166007,
          0.9172784823751415,
          0.8984754395357885,
          0.6360555404818192,
          0.40243266758619434,
          0.2475992299753933,
          0.1669422365112384,
          0.1906078764389888,
          0.9050301876983026,
          0.13610968306657167,
          0.608100963689494,
          0.533425961720379,
          0.3415471049417095,
          0.8586314676846226,
          0.9259990637093486,
          0.9634106051485283,
          0.02013274749745053,
          0.840859076418451
         ],
         "xaxis": "x3",
         "y": [
          0.06664371620244847,
          0.5407620947234574,
          0.6689151881233841,
          0.721092412348836,
          0.3759797914497993,
          0.39527735063052827,
          0.4934522395805472,
          0.855897801465149,
          0.7374102580018511,
          0.7287535440658456,
          0.9087893119029362,
          0.0389729107276543,
          0.9131979511127855,
          0.40962089859421325,
          0.47657514104573917,
          0.08720299353607297,
          0.13690164698888896,
          0.5035481247163679,
          0.266135761384094,
          0.6549949357531493,
          0.08051241257947772,
          0.9214281008363931,
          0.2829524471881053,
          0.6527173363263697,
          0.18800592724027765,
          0.5581934203599891,
          0.56098202587155,
          0.4601468637306919,
          0.7818563913340485,
          0.5536017893406393,
          0.2076552401035373,
          0.35928237992313494,
          0.6587218084028461,
          0.811613083395124,
          0.25420805654115597,
          0.6840002810466673,
          0.6111164582393296,
          0.2938576195012119,
          0.5111691101046774,
          0.3875542277771037,
          0.7451045436127167,
          0.9501473884996332,
          0.004498032004161545,
          0.5092605688140478,
          0.6564632643610027,
          0.6201931780594065,
          0.6842706981054051,
          0.2709670378722623,
          0.2120575730857116,
          0.8134311075392741,
          0.24116333321833616,
          0.23103251700435679,
          0.008515506141043239,
          0.39050763129267874,
          0.029665479583302568,
          0.3045989776296153,
          0.26725801998027643,
          0.26039194932627807,
          0.12224282846630519,
          0.6330862699036091,
          0.5457474773327132,
          0.4180438341797862,
          0.46736457227967254,
          0.2185566342291806,
          0.08059260147056657,
          0.38368185010623335,
          0.3086118649520281,
          0.2908710248091253,
          0.21329586658150246,
          0.15006898078339448,
          0.5450323688265107,
          0.5531789726038746,
          0.9480092589771546,
          0.061642493465942194,
          0.4105801261150056,
          0.6296851450210539,
          0.6368558770397965,
          0.01642034253496527,
          0.30064919685985814,
          0.1130722453206362,
          0.9458354659747372,
          0.631307464603639,
          0.6938179081613992,
          0.8876160139563236,
          0.2637635757689851,
          0.7855477777304667,
          0.22261139352906356,
          0.004728933024584991,
          0.9885717734657872,
          0.6468037364293703,
          0.8205938194632254,
          0.46987932516763353,
          0.10891344024228955,
          0.5532588345858189,
          0.3828403044919656,
          0.6048392490123118,
          0.12306666157306034,
          0.7889998286430977,
          0.9125580422545567,
          0.013538786394112545
         ],
         "yaxis": "y3"
        },
        {
         "line": {
          "color": "rgba(128, 128, 128, 1.0)",
          "dash": "solid",
          "shape": "linear",
          "width": 1.3
         },
         "marker": {
          "size": 2,
          "symbol": "circle"
         },
         "mode": "markers",
         "name": "a",
         "text": "",
         "type": "scatter",
         "x": [
          0.0944209317690835,
          0.27888666415576524,
          0.8971027826540451,
          0.9703086965990342,
          0.8817130309071713,
          0.09213840503236637,
          0.2506508366662863,
          0.34751131338191643,
          0.5632382537529974,
          0.7839079806829057,
          0.14136094541839772,
          0.1239181574356889,
          0.5183709155587094,
          0.8879671011492536,
          0.8862415126627536,
          0.8273976397723527,
          0.9681081716610408,
          0.6508327487564848,
          0.4882846998643292,
          0.2111779063802618,
          0.429923493368606,
          0.053978396884075575,
          0.6752913629339222,
          0.818297863533424,
          0.10834792608354837,
          0.7416729809867745,
          0.3628775786642817,
          0.012018942217303707,
          0.7945365042022574,
          0.18279967366125482,
          0.08793474635131249,
          0.28965013916749427,
          0.3867428066940999,
          0.47335651636728804,
          0.9712780949068064,
          0.2695543242698041,
          0.5920388619175281,
          0.8329440168983173,
          0.5821376074664862,
          0.7341441427248303,
          0.6227624864398681,
          0.6250052644894432,
          0.694038336600421,
          0.8832295899648193,
          0.6707685780149996,
          0.38746302379405706,
          0.8033371860928065,
          0.5236804851053737,
          0.77120374541525,
          0.604409150379552,
          0.987876295354519,
          0.09435569749284856,
          0.8072141448542798,
          0.5435456856502564,
          0.30227499214234754,
          0.3214213942919856,
          0.8702064837054988,
          0.12449571669631243,
          0.48026960273559016,
          0.45892143122601836,
          0.8007569335567352,
          0.4519647917046654,
          0.7658123844705579,
          0.9790941401922512,
          0.22129019065848288,
          0.8548704194015775,
          0.14665882650627815,
          0.9265345989674076,
          0.26461309397666444,
          0.5502597317163734,
          0.2839928253284473,
          0.7089222343874108,
          0.49096149864752403,
          0.32516205928596875,
          0.03897640035641359,
          0.3017764549665125,
          0.6906203045462328,
          0.7351264083570286,
          0.2311181454583905,
          0.06924175796310938,
          0.6003762149625248,
          0.7739289795749544,
          0.27240372360692,
          0.5774631792329177,
          0.9215225335910446,
          0.12239180219434853,
          0.7578831314505952,
          0.2750102253255118,
          0.398221968230527,
          0.952935903177787,
          0.7242616900052973,
          0.11175707736807117,
          0.5597984111910187,
          0.017122938015978084,
          0.287362995132462,
          0.6575270669889517,
          0.6494382732812658,
          0.3225819514359911,
          0.31842776744005963,
          0.2227059466347322
         ],
         "xaxis": "x4",
         "y": [
          0.06664371620244847,
          0.5407620947234574,
          0.6689151881233841,
          0.721092412348836,
          0.3759797914497993,
          0.39527735063052827,
          0.4934522395805472,
          0.855897801465149,
          0.7374102580018511,
          0.7287535440658456,
          0.9087893119029362,
          0.0389729107276543,
          0.9131979511127855,
          0.40962089859421325,
          0.47657514104573917,
          0.08720299353607297,
          0.13690164698888896,
          0.5035481247163679,
          0.266135761384094,
          0.6549949357531493,
          0.08051241257947772,
          0.9214281008363931,
          0.2829524471881053,
          0.6527173363263697,
          0.18800592724027765,
          0.5581934203599891,
          0.56098202587155,
          0.4601468637306919,
          0.7818563913340485,
          0.5536017893406393,
          0.2076552401035373,
          0.35928237992313494,
          0.6587218084028461,
          0.811613083395124,
          0.25420805654115597,
          0.6840002810466673,
          0.6111164582393296,
          0.2938576195012119,
          0.5111691101046774,
          0.3875542277771037,
          0.7451045436127167,
          0.9501473884996332,
          0.004498032004161545,
          0.5092605688140478,
          0.6564632643610027,
          0.6201931780594065,
          0.6842706981054051,
          0.2709670378722623,
          0.2120575730857116,
          0.8134311075392741,
          0.24116333321833616,
          0.23103251700435679,
          0.008515506141043239,
          0.39050763129267874,
          0.029665479583302568,
          0.3045989776296153,
          0.26725801998027643,
          0.26039194932627807,
          0.12224282846630519,
          0.6330862699036091,
          0.5457474773327132,
          0.4180438341797862,
          0.46736457227967254,
          0.2185566342291806,
          0.08059260147056657,
          0.38368185010623335,
          0.3086118649520281,
          0.2908710248091253,
          0.21329586658150246,
          0.15006898078339448,
          0.5450323688265107,
          0.5531789726038746,
          0.9480092589771546,
          0.061642493465942194,
          0.4105801261150056,
          0.6296851450210539,
          0.6368558770397965,
          0.01642034253496527,
          0.30064919685985814,
          0.1130722453206362,
          0.9458354659747372,
          0.631307464603639,
          0.6938179081613992,
          0.8876160139563236,
          0.2637635757689851,
          0.7855477777304667,
          0.22261139352906356,
          0.004728933024584991,
          0.9885717734657872,
          0.6468037364293703,
          0.8205938194632254,
          0.46987932516763353,
          0.10891344024228955,
          0.5532588345858189,
          0.3828403044919656,
          0.6048392490123118,
          0.12306666157306034,
          0.7889998286430977,
          0.9125580422545567,
          0.013538786394112545
         ],
         "yaxis": "y4"
        },
        {
         "line": {
          "color": "rgba(128, 128, 128, 1.0)",
          "dash": "solid",
          "shape": "linear",
          "width": 1.3
         },
         "marker": {
          "size": 2,
          "symbol": "circle"
         },
         "mode": "markers",
         "name": "a",
         "text": "",
         "type": "scatter",
         "x": [
          0.6386248483159467,
          0.5230234794175541,
          0.334425400642009,
          0.14111906583561784,
          0.5436551242044353,
          0.057507016432407077,
          0.12954892887776326,
          0.9474162278384648,
          0.8873319252212756,
          0.0798116475475571,
          0.6845187303329766,
          0.9279149655444716,
          0.5751229833911761,
          0.5385265455177648,
          0.41254552892304297,
          0.7467804729749405,
          0.7303742318613662,
          0.19959853092484137,
          0.9148640423520675,
          0.8952233533479554,
          0.3587099037823809,
          0.8947079475764166,
          0.7527801623028844,
          0.43988726169127124,
          0.979617189922973,
          0.5981527430743774,
          0.6613938719103097,
          0.9096486529907447,
          0.9040336650769615,
          0.16372620539699945,
          0.8322795437762803,
          0.544529289185489,
          0.490062206093244,
          0.6259842236675176,
          0.04725902504622792,
          0.3140694265487689,
          0.6127478881057613,
          0.5722154499196853,
          0.8374012010977401,
          0.1400318206160982,
          0.37280908452990746,
          0.6661735631596962,
          0.6925771504123995,
          0.3853243054847725,
          0.6508946678902378,
          0.1700645517449968,
          0.5857517349687471,
          0.1079471753868666,
          0.4120106730585339,
          0.42498087958855335,
          0.47051532678457186,
          0.02972428590138876,
          0.8474471912941407,
          0.22001161029189775,
          0.15420345160899263,
          0.22976532588681176,
          0.3369691691451099,
          0.9176119660182019,
          0.011858422487131981,
          0.010595137724684345,
          0.7029634195276654,
          0.9154269395651924,
          0.048411896943233224,
          0.37245727074263757,
          0.0970408691674347,
          0.628711412980803,
          0.1650999098586574,
          0.9866845038179446,
          0.93974413929864,
          0.6074254936914476,
          0.881871442159823,
          0.484109551417512,
          0.7605425257232539,
          0.23709920904711146,
          0.9376266121601954,
          0.3520017586732076,
          0.9009032391342261,
          0.3524375275421264,
          0.6525345794432336,
          0.2802068582966859,
          0.9769727521546657,
          0.6925087981863739,
          0.06564350783284423,
          0.38019462296902584,
          0.11830225307683995,
          0.5464968311252386,
          0.6515165595388999,
          0.5763863815496948,
          0.04558971712433424,
          0.1096354810225646,
          0.13246756152069228,
          0.4098089587672449,
          0.6538457126437346,
          0.823988445540373,
          0.451042162777353,
          0.3730107195331247,
          0.13183630769941235,
          0.28695527760987427,
          0.6429468693737694,
          0.7815839940458188
         ],
         "xaxis": "x5",
         "y": [
          0.06664371620244847,
          0.5407620947234574,
          0.6689151881233841,
          0.721092412348836,
          0.3759797914497993,
          0.39527735063052827,
          0.4934522395805472,
          0.855897801465149,
          0.7374102580018511,
          0.7287535440658456,
          0.9087893119029362,
          0.0389729107276543,
          0.9131979511127855,
          0.40962089859421325,
          0.47657514104573917,
          0.08720299353607297,
          0.13690164698888896,
          0.5035481247163679,
          0.266135761384094,
          0.6549949357531493,
          0.08051241257947772,
          0.9214281008363931,
          0.2829524471881053,
          0.6527173363263697,
          0.18800592724027765,
          0.5581934203599891,
          0.56098202587155,
          0.4601468637306919,
          0.7818563913340485,
          0.5536017893406393,
          0.2076552401035373,
          0.35928237992313494,
          0.6587218084028461,
          0.811613083395124,
          0.25420805654115597,
          0.6840002810466673,
          0.6111164582393296,
          0.2938576195012119,
          0.5111691101046774,
          0.3875542277771037,
          0.7451045436127167,
          0.9501473884996332,
          0.004498032004161545,
          0.5092605688140478,
          0.6564632643610027,
          0.6201931780594065,
          0.6842706981054051,
          0.2709670378722623,
          0.2120575730857116,
          0.8134311075392741,
          0.24116333321833616,
          0.23103251700435679,
          0.008515506141043239,
          0.39050763129267874,
          0.029665479583302568,
          0.3045989776296153,
          0.26725801998027643,
          0.26039194932627807,
          0.12224282846630519,
          0.6330862699036091,
          0.5457474773327132,
          0.4180438341797862,
          0.46736457227967254,
          0.2185566342291806,
          0.08059260147056657,
          0.38368185010623335,
          0.3086118649520281,
          0.2908710248091253,
          0.21329586658150246,
          0.15006898078339448,
          0.5450323688265107,
          0.5531789726038746,
          0.9480092589771546,
          0.061642493465942194,
          0.4105801261150056,
          0.6296851450210539,
          0.6368558770397965,
          0.01642034253496527,
          0.30064919685985814,
          0.1130722453206362,
          0.9458354659747372,
          0.631307464603639,
          0.6938179081613992,
          0.8876160139563236,
          0.2637635757689851,
          0.7855477777304667,
          0.22261139352906356,
          0.004728933024584991,
          0.9885717734657872,
          0.6468037364293703,
          0.8205938194632254,
          0.46987932516763353,
          0.10891344024228955,
          0.5532588345858189,
          0.3828403044919656,
          0.6048392490123118,
          0.12306666157306034,
          0.7889998286430977,
          0.9125580422545567,
          0.013538786394112545
         ],
         "yaxis": "y5"
        },
        {
         "line": {
          "color": "rgba(128, 128, 128, 1.0)",
          "dash": "solid",
          "shape": "linear",
          "width": 1.3
         },
         "marker": {
          "size": 2,
          "symbol": "circle"
         },
         "mode": "markers",
         "name": "b",
         "text": "",
         "type": "scatter",
         "x": [
          0.06664371620244847,
          0.5407620947234574,
          0.6689151881233841,
          0.721092412348836,
          0.3759797914497993,
          0.39527735063052827,
          0.4934522395805472,
          0.855897801465149,
          0.7374102580018511,
          0.7287535440658456,
          0.9087893119029362,
          0.0389729107276543,
          0.9131979511127855,
          0.40962089859421325,
          0.47657514104573917,
          0.08720299353607297,
          0.13690164698888896,
          0.5035481247163679,
          0.266135761384094,
          0.6549949357531493,
          0.08051241257947772,
          0.9214281008363931,
          0.2829524471881053,
          0.6527173363263697,
          0.18800592724027765,
          0.5581934203599891,
          0.56098202587155,
          0.4601468637306919,
          0.7818563913340485,
          0.5536017893406393,
          0.2076552401035373,
          0.35928237992313494,
          0.6587218084028461,
          0.811613083395124,
          0.25420805654115597,
          0.6840002810466673,
          0.6111164582393296,
          0.2938576195012119,
          0.5111691101046774,
          0.3875542277771037,
          0.7451045436127167,
          0.9501473884996332,
          0.004498032004161545,
          0.5092605688140478,
          0.6564632643610027,
          0.6201931780594065,
          0.6842706981054051,
          0.2709670378722623,
          0.2120575730857116,
          0.8134311075392741,
          0.24116333321833616,
          0.23103251700435679,
          0.008515506141043239,
          0.39050763129267874,
          0.029665479583302568,
          0.3045989776296153,
          0.26725801998027643,
          0.26039194932627807,
          0.12224282846630519,
          0.6330862699036091,
          0.5457474773327132,
          0.4180438341797862,
          0.46736457227967254,
          0.2185566342291806,
          0.08059260147056657,
          0.38368185010623335,
          0.3086118649520281,
          0.2908710248091253,
          0.21329586658150246,
          0.15006898078339448,
          0.5450323688265107,
          0.5531789726038746,
          0.9480092589771546,
          0.061642493465942194,
          0.4105801261150056,
          0.6296851450210539,
          0.6368558770397965,
          0.01642034253496527,
          0.30064919685985814,
          0.1130722453206362,
          0.9458354659747372,
          0.631307464603639,
          0.6938179081613992,
          0.8876160139563236,
          0.2637635757689851,
          0.7855477777304667,
          0.22261139352906356,
          0.004728933024584991,
          0.9885717734657872,
          0.6468037364293703,
          0.8205938194632254,
          0.46987932516763353,
          0.10891344024228955,
          0.5532588345858189,
          0.3828403044919656,
          0.6048392490123118,
          0.12306666157306034,
          0.7889998286430977,
          0.9125580422545567,
          0.013538786394112545
         ],
         "xaxis": "x6",
         "y": [
          0.1708528654602024,
          0.7947643961159381,
          0.12666139207012694,
          0.3704731100280987,
          0.4268231835968821,
          0.35764351148766405,
          0.2305666365210597,
          0.5538324288018692,
          0.594848156221167,
          0.9200479583746664,
          0.07590398582031088,
          0.9671854096015232,
          0.7125727126759903,
          0.8271226920363048,
          0.7927056070623242,
          0.8726781316595718,
          0.8439521568895053,
          0.09259317145482682,
          0.23178163096381899,
          0.09344484466459091,
          0.5209866753943617,
          0.2827883678792852,
          0.7060326111475312,
          0.8269352626736227,
          0.07581189650262699,
          0.5534557276357995,
          0.4709639927533994,
          0.5077795018414701,
          0.8146512167413209,
          0.0632160619388743,
          0.3784684778530909,
          0.11831403628208981,
          0.6604793256512019,
          0.8508837419021006,
          0.07326909011979632,
          0.1707061886641288,
          0.24602297556450203,
          0.32942390765767826,
          0.7827689079006152,
          0.5707580434972809,
          0.4557217240085497,
          0.3213546954349775,
          0.959796038755243,
          0.6792786524938019,
          0.6221080084291316,
          0.7916085199812986,
          0.196691226645063,
          0.23166202663976354,
          0.9871650353364658,
          0.5609852351224877,
          0.23060749190256702,
          0.6030149483879629,
          0.5418942503693233,
          0.8313579981419337,
          0.5005334875818716,
          0.17581835788597155,
          0.06043898969061501,
          0.1513690889963779,
          0.4965519044757296,
          0.6845533661268685,
          0.9632402423903895,
          0.15123322447511456,
          0.05491020331362695,
          0.06992307697450528,
          0.9251471556135247,
          0.07302669974492837,
          0.8412452325410701,
          0.052016817071149024,
          0.8937151859836213,
          0.7394998538110885,
          0.3726497227625558,
          0.6433686562554597,
          0.7862230059861702,
          0.8116612066335772,
          0.38686238605025935,
          0.3060482999038615,
          0.6352252249607443,
          0.7774964614027035,
          0.7629484316044388,
          0.987975440479305,
          0.8664798150644375,
          0.020203965710475558,
          0.3398395293157366,
          0.1122650337145874,
          0.07152937015646599,
          0.5787200279474213,
          0.6593323504043507,
          0.37568271757463945,
          0.6662653070220816,
          0.7340273240332108,
          0.8256606515853963,
          0.6375461978363576,
          0.8841503987586986,
          0.7621034473804962,
          0.04889787877109286,
          0.0060500550690697485,
          0.4195028769104727,
          0.209559422638408,
          0.044830301159018204,
          0.7621977253010859
         ],
         "yaxis": "y6"
        },
        {
         "histfunc": "count",
         "histnorm": "",
         "marker": {
          "color": "rgba(55, 128, 191, 1.0)",
          "line": {
           "color": "#4D5663",
           "width": 1.3
          }
         },
         "name": "b",
         "nbinsx": 10,
         "opacity": 0.8,
         "orientation": "v",
         "type": "histogram",
         "x": [
          0.1708528654602024,
          0.7947643961159381,
          0.12666139207012694,
          0.3704731100280987,
          0.4268231835968821,
          0.35764351148766405,
          0.2305666365210597,
          0.5538324288018692,
          0.594848156221167,
          0.9200479583746664,
          0.07590398582031088,
          0.9671854096015232,
          0.7125727126759903,
          0.8271226920363048,
          0.7927056070623242,
          0.8726781316595718,
          0.8439521568895053,
          0.09259317145482682,
          0.23178163096381899,
          0.09344484466459091,
          0.5209866753943617,
          0.2827883678792852,
          0.7060326111475312,
          0.8269352626736227,
          0.07581189650262699,
          0.5534557276357995,
          0.4709639927533994,
          0.5077795018414701,
          0.8146512167413209,
          0.0632160619388743,
          0.3784684778530909,
          0.11831403628208981,
          0.6604793256512019,
          0.8508837419021006,
          0.07326909011979632,
          0.1707061886641288,
          0.24602297556450203,
          0.32942390765767826,
          0.7827689079006152,
          0.5707580434972809,
          0.4557217240085497,
          0.3213546954349775,
          0.959796038755243,
          0.6792786524938019,
          0.6221080084291316,
          0.7916085199812986,
          0.196691226645063,
          0.23166202663976354,
          0.9871650353364658,
          0.5609852351224877,
          0.23060749190256702,
          0.6030149483879629,
          0.5418942503693233,
          0.8313579981419337,
          0.5005334875818716,
          0.17581835788597155,
          0.06043898969061501,
          0.1513690889963779,
          0.4965519044757296,
          0.6845533661268685,
          0.9632402423903895,
          0.15123322447511456,
          0.05491020331362695,
          0.06992307697450528,
          0.9251471556135247,
          0.07302669974492837,
          0.8412452325410701,
          0.052016817071149024,
          0.8937151859836213,
          0.7394998538110885,
          0.3726497227625558,
          0.6433686562554597,
          0.7862230059861702,
          0.8116612066335772,
          0.38686238605025935,
          0.3060482999038615,
          0.6352252249607443,
          0.7774964614027035,
          0.7629484316044388,
          0.987975440479305,
          0.8664798150644375,
          0.020203965710475558,
          0.3398395293157366,
          0.1122650337145874,
          0.07152937015646599,
          0.5787200279474213,
          0.6593323504043507,
          0.37568271757463945,
          0.6662653070220816,
          0.7340273240332108,
          0.8256606515853963,
          0.6375461978363576,
          0.8841503987586986,
          0.7621034473804962,
          0.04889787877109286,
          0.0060500550690697485,
          0.4195028769104727,
          0.209559422638408,
          0.044830301159018204,
          0.7621977253010859
         ],
         "xaxis": "x7",
         "yaxis": "y7"
        },
        {
         "line": {
          "color": "rgba(128, 128, 128, 1.0)",
          "dash": "solid",
          "shape": "linear",
          "width": 1.3
         },
         "marker": {
          "size": 2,
          "symbol": "circle"
         },
         "mode": "markers",
         "name": "b",
         "text": "",
         "type": "scatter",
         "x": [
          0.6049675436787881,
          0.26331913223246295,
          0.7093497387667826,
          0.8302857557323808,
          0.48628347640271563,
          0.5522401841546365,
          0.7228291561339886,
          0.3503155514198716,
          0.9914397301772295,
          0.3954321460490898,
          0.7843116835894328,
          0.8098075082347174,
          0.5932842876821278,
          0.02674830381482962,
          0.4766817949581674,
          0.23002742439608903,
          0.4602265437259899,
          0.5296780990255819,
          0.6942283623392663,
          0.6045974354017074,
          0.8693925106877225,
          0.1021380012277443,
          0.7117917702159499,
          0.7969334337405094,
          0.2717788438852057,
          0.43278204581902957,
          0.3045708377684585,
          0.2282920528355673,
          0.04597442807158014,
          0.26481441120906113,
          0.5211219007698088,
          0.27106703862801573,
          0.28702898825297607,
          0.9765162555913119,
          0.008257253692387834,
          0.5447918657135943,
          0.21141605255341878,
          0.09488071847727797,
          0.9043563093859569,
          0.288312049701824,
          0.7012557608593932,
          0.7256966546072516,
          0.9648880018708532,
          0.08717577188783832,
          0.4642191069010462,
          0.549304958948628,
          0.7012884961099369,
          0.6533582657360641,
          0.6276470849845789,
          0.9648159983530032,
          0.15600081458444204,
          0.5406290404996967,
          0.8863212327369236,
          0.1677634545916583,
          0.5178539995027887,
          0.3458429211423141,
          0.1448387562693667,
          0.381641212123084,
          0.3032667861950964,
          0.44372221360820363,
          0.5546848039087976,
          0.9720986463159164,
          0.7225295342207287,
          0.8947220777447558,
          0.9939324520057288,
          0.3263708279645252,
          0.0389664589280303,
          0.3158165877803921,
          0.04255771826746191,
          0.1849139335235478,
          0.3255720367741921,
          0.5113739914773018,
          0.16448770269175927,
          0.6566682569750413,
          0.5776520171077744,
          0.39676481813118003,
          0.8791928748221031,
          0.22739878817605397,
          0.06252907684031028,
          0.6272718635098893,
          0.11487809601356624,
          0.06732377536573741,
          0.5171878499166007,
          0.9172784823751415,
          0.8984754395357885,
          0.6360555404818192,
          0.40243266758619434,
          0.2475992299753933,
          0.1669422365112384,
          0.1906078764389888,
          0.9050301876983026,
          0.13610968306657167,
          0.608100963689494,
          0.533425961720379,
          0.3415471049417095,
          0.8586314676846226,
          0.9259990637093486,
          0.9634106051485283,
          0.02013274749745053,
          0.840859076418451
         ],
         "xaxis": "x8",
         "y": [
          0.1708528654602024,
          0.7947643961159381,
          0.12666139207012694,
          0.3704731100280987,
          0.4268231835968821,
          0.35764351148766405,
          0.2305666365210597,
          0.5538324288018692,
          0.594848156221167,
          0.9200479583746664,
          0.07590398582031088,
          0.9671854096015232,
          0.7125727126759903,
          0.8271226920363048,
          0.7927056070623242,
          0.8726781316595718,
          0.8439521568895053,
          0.09259317145482682,
          0.23178163096381899,
          0.09344484466459091,
          0.5209866753943617,
          0.2827883678792852,
          0.7060326111475312,
          0.8269352626736227,
          0.07581189650262699,
          0.5534557276357995,
          0.4709639927533994,
          0.5077795018414701,
          0.8146512167413209,
          0.0632160619388743,
          0.3784684778530909,
          0.11831403628208981,
          0.6604793256512019,
          0.8508837419021006,
          0.07326909011979632,
          0.1707061886641288,
          0.24602297556450203,
          0.32942390765767826,
          0.7827689079006152,
          0.5707580434972809,
          0.4557217240085497,
          0.3213546954349775,
          0.959796038755243,
          0.6792786524938019,
          0.6221080084291316,
          0.7916085199812986,
          0.196691226645063,
          0.23166202663976354,
          0.9871650353364658,
          0.5609852351224877,
          0.23060749190256702,
          0.6030149483879629,
          0.5418942503693233,
          0.8313579981419337,
          0.5005334875818716,
          0.17581835788597155,
          0.06043898969061501,
          0.1513690889963779,
          0.4965519044757296,
          0.6845533661268685,
          0.9632402423903895,
          0.15123322447511456,
          0.05491020331362695,
          0.06992307697450528,
          0.9251471556135247,
          0.07302669974492837,
          0.8412452325410701,
          0.052016817071149024,
          0.8937151859836213,
          0.7394998538110885,
          0.3726497227625558,
          0.6433686562554597,
          0.7862230059861702,
          0.8116612066335772,
          0.38686238605025935,
          0.3060482999038615,
          0.6352252249607443,
          0.7774964614027035,
          0.7629484316044388,
          0.987975440479305,
          0.8664798150644375,
          0.020203965710475558,
          0.3398395293157366,
          0.1122650337145874,
          0.07152937015646599,
          0.5787200279474213,
          0.6593323504043507,
          0.37568271757463945,
          0.6662653070220816,
          0.7340273240332108,
          0.8256606515853963,
          0.6375461978363576,
          0.8841503987586986,
          0.7621034473804962,
          0.04889787877109286,
          0.0060500550690697485,
          0.4195028769104727,
          0.209559422638408,
          0.044830301159018204,
          0.7621977253010859
         ],
         "yaxis": "y8"
        },
        {
         "line": {
          "color": "rgba(128, 128, 128, 1.0)",
          "dash": "solid",
          "shape": "linear",
          "width": 1.3
         },
         "marker": {
          "size": 2,
          "symbol": "circle"
         },
         "mode": "markers",
         "name": "b",
         "text": "",
         "type": "scatter",
         "x": [
          0.0944209317690835,
          0.27888666415576524,
          0.8971027826540451,
          0.9703086965990342,
          0.8817130309071713,
          0.09213840503236637,
          0.2506508366662863,
          0.34751131338191643,
          0.5632382537529974,
          0.7839079806829057,
          0.14136094541839772,
          0.1239181574356889,
          0.5183709155587094,
          0.8879671011492536,
          0.8862415126627536,
          0.8273976397723527,
          0.9681081716610408,
          0.6508327487564848,
          0.4882846998643292,
          0.2111779063802618,
          0.429923493368606,
          0.053978396884075575,
          0.6752913629339222,
          0.818297863533424,
          0.10834792608354837,
          0.7416729809867745,
          0.3628775786642817,
          0.012018942217303707,
          0.7945365042022574,
          0.18279967366125482,
          0.08793474635131249,
          0.28965013916749427,
          0.3867428066940999,
          0.47335651636728804,
          0.9712780949068064,
          0.2695543242698041,
          0.5920388619175281,
          0.8329440168983173,
          0.5821376074664862,
          0.7341441427248303,
          0.6227624864398681,
          0.6250052644894432,
          0.694038336600421,
          0.8832295899648193,
          0.6707685780149996,
          0.38746302379405706,
          0.8033371860928065,
          0.5236804851053737,
          0.77120374541525,
          0.604409150379552,
          0.987876295354519,
          0.09435569749284856,
          0.8072141448542798,
          0.5435456856502564,
          0.30227499214234754,
          0.3214213942919856,
          0.8702064837054988,
          0.12449571669631243,
          0.48026960273559016,
          0.45892143122601836,
          0.8007569335567352,
          0.4519647917046654,
          0.7658123844705579,
          0.9790941401922512,
          0.22129019065848288,
          0.8548704194015775,
          0.14665882650627815,
          0.9265345989674076,
          0.26461309397666444,
          0.5502597317163734,
          0.2839928253284473,
          0.7089222343874108,
          0.49096149864752403,
          0.32516205928596875,
          0.03897640035641359,
          0.3017764549665125,
          0.6906203045462328,
          0.7351264083570286,
          0.2311181454583905,
          0.06924175796310938,
          0.6003762149625248,
          0.7739289795749544,
          0.27240372360692,
          0.5774631792329177,
          0.9215225335910446,
          0.12239180219434853,
          0.7578831314505952,
          0.2750102253255118,
          0.398221968230527,
          0.952935903177787,
          0.7242616900052973,
          0.11175707736807117,
          0.5597984111910187,
          0.017122938015978084,
          0.287362995132462,
          0.6575270669889517,
          0.6494382732812658,
          0.3225819514359911,
          0.31842776744005963,
          0.2227059466347322
         ],
         "xaxis": "x9",
         "y": [
          0.1708528654602024,
          0.7947643961159381,
          0.12666139207012694,
          0.3704731100280987,
          0.4268231835968821,
          0.35764351148766405,
          0.2305666365210597,
          0.5538324288018692,
          0.594848156221167,
          0.9200479583746664,
          0.07590398582031088,
          0.9671854096015232,
          0.7125727126759903,
          0.8271226920363048,
          0.7927056070623242,
          0.8726781316595718,
          0.8439521568895053,
          0.09259317145482682,
          0.23178163096381899,
          0.09344484466459091,
          0.5209866753943617,
          0.2827883678792852,
          0.7060326111475312,
          0.8269352626736227,
          0.07581189650262699,
          0.5534557276357995,
          0.4709639927533994,
          0.5077795018414701,
          0.8146512167413209,
          0.0632160619388743,
          0.3784684778530909,
          0.11831403628208981,
          0.6604793256512019,
          0.8508837419021006,
          0.07326909011979632,
          0.1707061886641288,
          0.24602297556450203,
          0.32942390765767826,
          0.7827689079006152,
          0.5707580434972809,
          0.4557217240085497,
          0.3213546954349775,
          0.959796038755243,
          0.6792786524938019,
          0.6221080084291316,
          0.7916085199812986,
          0.196691226645063,
          0.23166202663976354,
          0.9871650353364658,
          0.5609852351224877,
          0.23060749190256702,
          0.6030149483879629,
          0.5418942503693233,
          0.8313579981419337,
          0.5005334875818716,
          0.17581835788597155,
          0.06043898969061501,
          0.1513690889963779,
          0.4965519044757296,
          0.6845533661268685,
          0.9632402423903895,
          0.15123322447511456,
          0.05491020331362695,
          0.06992307697450528,
          0.9251471556135247,
          0.07302669974492837,
          0.8412452325410701,
          0.052016817071149024,
          0.8937151859836213,
          0.7394998538110885,
          0.3726497227625558,
          0.6433686562554597,
          0.7862230059861702,
          0.8116612066335772,
          0.38686238605025935,
          0.3060482999038615,
          0.6352252249607443,
          0.7774964614027035,
          0.7629484316044388,
          0.987975440479305,
          0.8664798150644375,
          0.020203965710475558,
          0.3398395293157366,
          0.1122650337145874,
          0.07152937015646599,
          0.5787200279474213,
          0.6593323504043507,
          0.37568271757463945,
          0.6662653070220816,
          0.7340273240332108,
          0.8256606515853963,
          0.6375461978363576,
          0.8841503987586986,
          0.7621034473804962,
          0.04889787877109286,
          0.0060500550690697485,
          0.4195028769104727,
          0.209559422638408,
          0.044830301159018204,
          0.7621977253010859
         ],
         "yaxis": "y9"
        },
        {
         "line": {
          "color": "rgba(128, 128, 128, 1.0)",
          "dash": "solid",
          "shape": "linear",
          "width": 1.3
         },
         "marker": {
          "size": 2,
          "symbol": "circle"
         },
         "mode": "markers",
         "name": "b",
         "text": "",
         "type": "scatter",
         "x": [
          0.6386248483159467,
          0.5230234794175541,
          0.334425400642009,
          0.14111906583561784,
          0.5436551242044353,
          0.057507016432407077,
          0.12954892887776326,
          0.9474162278384648,
          0.8873319252212756,
          0.0798116475475571,
          0.6845187303329766,
          0.9279149655444716,
          0.5751229833911761,
          0.5385265455177648,
          0.41254552892304297,
          0.7467804729749405,
          0.7303742318613662,
          0.19959853092484137,
          0.9148640423520675,
          0.8952233533479554,
          0.3587099037823809,
          0.8947079475764166,
          0.7527801623028844,
          0.43988726169127124,
          0.979617189922973,
          0.5981527430743774,
          0.6613938719103097,
          0.9096486529907447,
          0.9040336650769615,
          0.16372620539699945,
          0.8322795437762803,
          0.544529289185489,
          0.490062206093244,
          0.6259842236675176,
          0.04725902504622792,
          0.3140694265487689,
          0.6127478881057613,
          0.5722154499196853,
          0.8374012010977401,
          0.1400318206160982,
          0.37280908452990746,
          0.6661735631596962,
          0.6925771504123995,
          0.3853243054847725,
          0.6508946678902378,
          0.1700645517449968,
          0.5857517349687471,
          0.1079471753868666,
          0.4120106730585339,
          0.42498087958855335,
          0.47051532678457186,
          0.02972428590138876,
          0.8474471912941407,
          0.22001161029189775,
          0.15420345160899263,
          0.22976532588681176,
          0.3369691691451099,
          0.9176119660182019,
          0.011858422487131981,
          0.010595137724684345,
          0.7029634195276654,
          0.9154269395651924,
          0.048411896943233224,
          0.37245727074263757,
          0.0970408691674347,
          0.628711412980803,
          0.1650999098586574,
          0.9866845038179446,
          0.93974413929864,
          0.6074254936914476,
          0.881871442159823,
          0.484109551417512,
          0.7605425257232539,
          0.23709920904711146,
          0.9376266121601954,
          0.3520017586732076,
          0.9009032391342261,
          0.3524375275421264,
          0.6525345794432336,
          0.2802068582966859,
          0.9769727521546657,
          0.6925087981863739,
          0.06564350783284423,
          0.38019462296902584,
          0.11830225307683995,
          0.5464968311252386,
          0.6515165595388999,
          0.5763863815496948,
          0.04558971712433424,
          0.1096354810225646,
          0.13246756152069228,
          0.4098089587672449,
          0.6538457126437346,
          0.823988445540373,
          0.451042162777353,
          0.3730107195331247,
          0.13183630769941235,
          0.28695527760987427,
          0.6429468693737694,
          0.7815839940458188
         ],
         "xaxis": "x10",
         "y": [
          0.1708528654602024,
          0.7947643961159381,
          0.12666139207012694,
          0.3704731100280987,
          0.4268231835968821,
          0.35764351148766405,
          0.2305666365210597,
          0.5538324288018692,
          0.594848156221167,
          0.9200479583746664,
          0.07590398582031088,
          0.9671854096015232,
          0.7125727126759903,
          0.8271226920363048,
          0.7927056070623242,
          0.8726781316595718,
          0.8439521568895053,
          0.09259317145482682,
          0.23178163096381899,
          0.09344484466459091,
          0.5209866753943617,
          0.2827883678792852,
          0.7060326111475312,
          0.8269352626736227,
          0.07581189650262699,
          0.5534557276357995,
          0.4709639927533994,
          0.5077795018414701,
          0.8146512167413209,
          0.0632160619388743,
          0.3784684778530909,
          0.11831403628208981,
          0.6604793256512019,
          0.8508837419021006,
          0.07326909011979632,
          0.1707061886641288,
          0.24602297556450203,
          0.32942390765767826,
          0.7827689079006152,
          0.5707580434972809,
          0.4557217240085497,
          0.3213546954349775,
          0.959796038755243,
          0.6792786524938019,
          0.6221080084291316,
          0.7916085199812986,
          0.196691226645063,
          0.23166202663976354,
          0.9871650353364658,
          0.5609852351224877,
          0.23060749190256702,
          0.6030149483879629,
          0.5418942503693233,
          0.8313579981419337,
          0.5005334875818716,
          0.17581835788597155,
          0.06043898969061501,
          0.1513690889963779,
          0.4965519044757296,
          0.6845533661268685,
          0.9632402423903895,
          0.15123322447511456,
          0.05491020331362695,
          0.06992307697450528,
          0.9251471556135247,
          0.07302669974492837,
          0.8412452325410701,
          0.052016817071149024,
          0.8937151859836213,
          0.7394998538110885,
          0.3726497227625558,
          0.6433686562554597,
          0.7862230059861702,
          0.8116612066335772,
          0.38686238605025935,
          0.3060482999038615,
          0.6352252249607443,
          0.7774964614027035,
          0.7629484316044388,
          0.987975440479305,
          0.8664798150644375,
          0.020203965710475558,
          0.3398395293157366,
          0.1122650337145874,
          0.07152937015646599,
          0.5787200279474213,
          0.6593323504043507,
          0.37568271757463945,
          0.6662653070220816,
          0.7340273240332108,
          0.8256606515853963,
          0.6375461978363576,
          0.8841503987586986,
          0.7621034473804962,
          0.04889787877109286,
          0.0060500550690697485,
          0.4195028769104727,
          0.209559422638408,
          0.044830301159018204,
          0.7621977253010859
         ],
         "yaxis": "y10"
        },
        {
         "line": {
          "color": "rgba(128, 128, 128, 1.0)",
          "dash": "solid",
          "shape": "linear",
          "width": 1.3
         },
         "marker": {
          "size": 2,
          "symbol": "circle"
         },
         "mode": "markers",
         "name": "c",
         "text": "",
         "type": "scatter",
         "x": [
          0.06664371620244847,
          0.5407620947234574,
          0.6689151881233841,
          0.721092412348836,
          0.3759797914497993,
          0.39527735063052827,
          0.4934522395805472,
          0.855897801465149,
          0.7374102580018511,
          0.7287535440658456,
          0.9087893119029362,
          0.0389729107276543,
          0.9131979511127855,
          0.40962089859421325,
          0.47657514104573917,
          0.08720299353607297,
          0.13690164698888896,
          0.5035481247163679,
          0.266135761384094,
          0.6549949357531493,
          0.08051241257947772,
          0.9214281008363931,
          0.2829524471881053,
          0.6527173363263697,
          0.18800592724027765,
          0.5581934203599891,
          0.56098202587155,
          0.4601468637306919,
          0.7818563913340485,
          0.5536017893406393,
          0.2076552401035373,
          0.35928237992313494,
          0.6587218084028461,
          0.811613083395124,
          0.25420805654115597,
          0.6840002810466673,
          0.6111164582393296,
          0.2938576195012119,
          0.5111691101046774,
          0.3875542277771037,
          0.7451045436127167,
          0.9501473884996332,
          0.004498032004161545,
          0.5092605688140478,
          0.6564632643610027,
          0.6201931780594065,
          0.6842706981054051,
          0.2709670378722623,
          0.2120575730857116,
          0.8134311075392741,
          0.24116333321833616,
          0.23103251700435679,
          0.008515506141043239,
          0.39050763129267874,
          0.029665479583302568,
          0.3045989776296153,
          0.26725801998027643,
          0.26039194932627807,
          0.12224282846630519,
          0.6330862699036091,
          0.5457474773327132,
          0.4180438341797862,
          0.46736457227967254,
          0.2185566342291806,
          0.08059260147056657,
          0.38368185010623335,
          0.3086118649520281,
          0.2908710248091253,
          0.21329586658150246,
          0.15006898078339448,
          0.5450323688265107,
          0.5531789726038746,
          0.9480092589771546,
          0.061642493465942194,
          0.4105801261150056,
          0.6296851450210539,
          0.6368558770397965,
          0.01642034253496527,
          0.30064919685985814,
          0.1130722453206362,
          0.9458354659747372,
          0.631307464603639,
          0.6938179081613992,
          0.8876160139563236,
          0.2637635757689851,
          0.7855477777304667,
          0.22261139352906356,
          0.004728933024584991,
          0.9885717734657872,
          0.6468037364293703,
          0.8205938194632254,
          0.46987932516763353,
          0.10891344024228955,
          0.5532588345858189,
          0.3828403044919656,
          0.6048392490123118,
          0.12306666157306034,
          0.7889998286430977,
          0.9125580422545567,
          0.013538786394112545
         ],
         "xaxis": "x11",
         "y": [
          0.6049675436787881,
          0.26331913223246295,
          0.7093497387667826,
          0.8302857557323808,
          0.48628347640271563,
          0.5522401841546365,
          0.7228291561339886,
          0.3503155514198716,
          0.9914397301772295,
          0.3954321460490898,
          0.7843116835894328,
          0.8098075082347174,
          0.5932842876821278,
          0.02674830381482962,
          0.4766817949581674,
          0.23002742439608903,
          0.4602265437259899,
          0.5296780990255819,
          0.6942283623392663,
          0.6045974354017074,
          0.8693925106877225,
          0.1021380012277443,
          0.7117917702159499,
          0.7969334337405094,
          0.2717788438852057,
          0.43278204581902957,
          0.3045708377684585,
          0.2282920528355673,
          0.04597442807158014,
          0.26481441120906113,
          0.5211219007698088,
          0.27106703862801573,
          0.28702898825297607,
          0.9765162555913119,
          0.008257253692387834,
          0.5447918657135943,
          0.21141605255341878,
          0.09488071847727797,
          0.9043563093859569,
          0.288312049701824,
          0.7012557608593932,
          0.7256966546072516,
          0.9648880018708532,
          0.08717577188783832,
          0.4642191069010462,
          0.549304958948628,
          0.7012884961099369,
          0.6533582657360641,
          0.6276470849845789,
          0.9648159983530032,
          0.15600081458444204,
          0.5406290404996967,
          0.8863212327369236,
          0.1677634545916583,
          0.5178539995027887,
          0.3458429211423141,
          0.1448387562693667,
          0.381641212123084,
          0.3032667861950964,
          0.44372221360820363,
          0.5546848039087976,
          0.9720986463159164,
          0.7225295342207287,
          0.8947220777447558,
          0.9939324520057288,
          0.3263708279645252,
          0.0389664589280303,
          0.3158165877803921,
          0.04255771826746191,
          0.1849139335235478,
          0.3255720367741921,
          0.5113739914773018,
          0.16448770269175927,
          0.6566682569750413,
          0.5776520171077744,
          0.39676481813118003,
          0.8791928748221031,
          0.22739878817605397,
          0.06252907684031028,
          0.6272718635098893,
          0.11487809601356624,
          0.06732377536573741,
          0.5171878499166007,
          0.9172784823751415,
          0.8984754395357885,
          0.6360555404818192,
          0.40243266758619434,
          0.2475992299753933,
          0.1669422365112384,
          0.1906078764389888,
          0.9050301876983026,
          0.13610968306657167,
          0.608100963689494,
          0.533425961720379,
          0.3415471049417095,
          0.8586314676846226,
          0.9259990637093486,
          0.9634106051485283,
          0.02013274749745053,
          0.840859076418451
         ],
         "yaxis": "y11"
        },
        {
         "line": {
          "color": "rgba(128, 128, 128, 1.0)",
          "dash": "solid",
          "shape": "linear",
          "width": 1.3
         },
         "marker": {
          "size": 2,
          "symbol": "circle"
         },
         "mode": "markers",
         "name": "c",
         "text": "",
         "type": "scatter",
         "x": [
          0.1708528654602024,
          0.7947643961159381,
          0.12666139207012694,
          0.3704731100280987,
          0.4268231835968821,
          0.35764351148766405,
          0.2305666365210597,
          0.5538324288018692,
          0.594848156221167,
          0.9200479583746664,
          0.07590398582031088,
          0.9671854096015232,
          0.7125727126759903,
          0.8271226920363048,
          0.7927056070623242,
          0.8726781316595718,
          0.8439521568895053,
          0.09259317145482682,
          0.23178163096381899,
          0.09344484466459091,
          0.5209866753943617,
          0.2827883678792852,
          0.7060326111475312,
          0.8269352626736227,
          0.07581189650262699,
          0.5534557276357995,
          0.4709639927533994,
          0.5077795018414701,
          0.8146512167413209,
          0.0632160619388743,
          0.3784684778530909,
          0.11831403628208981,
          0.6604793256512019,
          0.8508837419021006,
          0.07326909011979632,
          0.1707061886641288,
          0.24602297556450203,
          0.32942390765767826,
          0.7827689079006152,
          0.5707580434972809,
          0.4557217240085497,
          0.3213546954349775,
          0.959796038755243,
          0.6792786524938019,
          0.6221080084291316,
          0.7916085199812986,
          0.196691226645063,
          0.23166202663976354,
          0.9871650353364658,
          0.5609852351224877,
          0.23060749190256702,
          0.6030149483879629,
          0.5418942503693233,
          0.8313579981419337,
          0.5005334875818716,
          0.17581835788597155,
          0.06043898969061501,
          0.1513690889963779,
          0.4965519044757296,
          0.6845533661268685,
          0.9632402423903895,
          0.15123322447511456,
          0.05491020331362695,
          0.06992307697450528,
          0.9251471556135247,
          0.07302669974492837,
          0.8412452325410701,
          0.052016817071149024,
          0.8937151859836213,
          0.7394998538110885,
          0.3726497227625558,
          0.6433686562554597,
          0.7862230059861702,
          0.8116612066335772,
          0.38686238605025935,
          0.3060482999038615,
          0.6352252249607443,
          0.7774964614027035,
          0.7629484316044388,
          0.987975440479305,
          0.8664798150644375,
          0.020203965710475558,
          0.3398395293157366,
          0.1122650337145874,
          0.07152937015646599,
          0.5787200279474213,
          0.6593323504043507,
          0.37568271757463945,
          0.6662653070220816,
          0.7340273240332108,
          0.8256606515853963,
          0.6375461978363576,
          0.8841503987586986,
          0.7621034473804962,
          0.04889787877109286,
          0.0060500550690697485,
          0.4195028769104727,
          0.209559422638408,
          0.044830301159018204,
          0.7621977253010859
         ],
         "xaxis": "x12",
         "y": [
          0.6049675436787881,
          0.26331913223246295,
          0.7093497387667826,
          0.8302857557323808,
          0.48628347640271563,
          0.5522401841546365,
          0.7228291561339886,
          0.3503155514198716,
          0.9914397301772295,
          0.3954321460490898,
          0.7843116835894328,
          0.8098075082347174,
          0.5932842876821278,
          0.02674830381482962,
          0.4766817949581674,
          0.23002742439608903,
          0.4602265437259899,
          0.5296780990255819,
          0.6942283623392663,
          0.6045974354017074,
          0.8693925106877225,
          0.1021380012277443,
          0.7117917702159499,
          0.7969334337405094,
          0.2717788438852057,
          0.43278204581902957,
          0.3045708377684585,
          0.2282920528355673,
          0.04597442807158014,
          0.26481441120906113,
          0.5211219007698088,
          0.27106703862801573,
          0.28702898825297607,
          0.9765162555913119,
          0.008257253692387834,
          0.5447918657135943,
          0.21141605255341878,
          0.09488071847727797,
          0.9043563093859569,
          0.288312049701824,
          0.7012557608593932,
          0.7256966546072516,
          0.9648880018708532,
          0.08717577188783832,
          0.4642191069010462,
          0.549304958948628,
          0.7012884961099369,
          0.6533582657360641,
          0.6276470849845789,
          0.9648159983530032,
          0.15600081458444204,
          0.5406290404996967,
          0.8863212327369236,
          0.1677634545916583,
          0.5178539995027887,
          0.3458429211423141,
          0.1448387562693667,
          0.381641212123084,
          0.3032667861950964,
          0.44372221360820363,
          0.5546848039087976,
          0.9720986463159164,
          0.7225295342207287,
          0.8947220777447558,
          0.9939324520057288,
          0.3263708279645252,
          0.0389664589280303,
          0.3158165877803921,
          0.04255771826746191,
          0.1849139335235478,
          0.3255720367741921,
          0.5113739914773018,
          0.16448770269175927,
          0.6566682569750413,
          0.5776520171077744,
          0.39676481813118003,
          0.8791928748221031,
          0.22739878817605397,
          0.06252907684031028,
          0.6272718635098893,
          0.11487809601356624,
          0.06732377536573741,
          0.5171878499166007,
          0.9172784823751415,
          0.8984754395357885,
          0.6360555404818192,
          0.40243266758619434,
          0.2475992299753933,
          0.1669422365112384,
          0.1906078764389888,
          0.9050301876983026,
          0.13610968306657167,
          0.608100963689494,
          0.533425961720379,
          0.3415471049417095,
          0.8586314676846226,
          0.9259990637093486,
          0.9634106051485283,
          0.02013274749745053,
          0.840859076418451
         ],
         "yaxis": "y12"
        },
        {
         "histfunc": "count",
         "histnorm": "",
         "marker": {
          "color": "rgba(50, 171, 96, 1.0)",
          "line": {
           "color": "#4D5663",
           "width": 1.3
          }
         },
         "name": "c",
         "nbinsx": 10,
         "opacity": 0.8,
         "orientation": "v",
         "type": "histogram",
         "x": [
          0.6049675436787881,
          0.26331913223246295,
          0.7093497387667826,
          0.8302857557323808,
          0.48628347640271563,
          0.5522401841546365,
          0.7228291561339886,
          0.3503155514198716,
          0.9914397301772295,
          0.3954321460490898,
          0.7843116835894328,
          0.8098075082347174,
          0.5932842876821278,
          0.02674830381482962,
          0.4766817949581674,
          0.23002742439608903,
          0.4602265437259899,
          0.5296780990255819,
          0.6942283623392663,
          0.6045974354017074,
          0.8693925106877225,
          0.1021380012277443,
          0.7117917702159499,
          0.7969334337405094,
          0.2717788438852057,
          0.43278204581902957,
          0.3045708377684585,
          0.2282920528355673,
          0.04597442807158014,
          0.26481441120906113,
          0.5211219007698088,
          0.27106703862801573,
          0.28702898825297607,
          0.9765162555913119,
          0.008257253692387834,
          0.5447918657135943,
          0.21141605255341878,
          0.09488071847727797,
          0.9043563093859569,
          0.288312049701824,
          0.7012557608593932,
          0.7256966546072516,
          0.9648880018708532,
          0.08717577188783832,
          0.4642191069010462,
          0.549304958948628,
          0.7012884961099369,
          0.6533582657360641,
          0.6276470849845789,
          0.9648159983530032,
          0.15600081458444204,
          0.5406290404996967,
          0.8863212327369236,
          0.1677634545916583,
          0.5178539995027887,
          0.3458429211423141,
          0.1448387562693667,
          0.381641212123084,
          0.3032667861950964,
          0.44372221360820363,
          0.5546848039087976,
          0.9720986463159164,
          0.7225295342207287,
          0.8947220777447558,
          0.9939324520057288,
          0.3263708279645252,
          0.0389664589280303,
          0.3158165877803921,
          0.04255771826746191,
          0.1849139335235478,
          0.3255720367741921,
          0.5113739914773018,
          0.16448770269175927,
          0.6566682569750413,
          0.5776520171077744,
          0.39676481813118003,
          0.8791928748221031,
          0.22739878817605397,
          0.06252907684031028,
          0.6272718635098893,
          0.11487809601356624,
          0.06732377536573741,
          0.5171878499166007,
          0.9172784823751415,
          0.8984754395357885,
          0.6360555404818192,
          0.40243266758619434,
          0.2475992299753933,
          0.1669422365112384,
          0.1906078764389888,
          0.9050301876983026,
          0.13610968306657167,
          0.608100963689494,
          0.533425961720379,
          0.3415471049417095,
          0.8586314676846226,
          0.9259990637093486,
          0.9634106051485283,
          0.02013274749745053,
          0.840859076418451
         ],
         "xaxis": "x13",
         "yaxis": "y13"
        },
        {
         "line": {
          "color": "rgba(128, 128, 128, 1.0)",
          "dash": "solid",
          "shape": "linear",
          "width": 1.3
         },
         "marker": {
          "size": 2,
          "symbol": "circle"
         },
         "mode": "markers",
         "name": "c",
         "text": "",
         "type": "scatter",
         "x": [
          0.0944209317690835,
          0.27888666415576524,
          0.8971027826540451,
          0.9703086965990342,
          0.8817130309071713,
          0.09213840503236637,
          0.2506508366662863,
          0.34751131338191643,
          0.5632382537529974,
          0.7839079806829057,
          0.14136094541839772,
          0.1239181574356889,
          0.5183709155587094,
          0.8879671011492536,
          0.8862415126627536,
          0.8273976397723527,
          0.9681081716610408,
          0.6508327487564848,
          0.4882846998643292,
          0.2111779063802618,
          0.429923493368606,
          0.053978396884075575,
          0.6752913629339222,
          0.818297863533424,
          0.10834792608354837,
          0.7416729809867745,
          0.3628775786642817,
          0.012018942217303707,
          0.7945365042022574,
          0.18279967366125482,
          0.08793474635131249,
          0.28965013916749427,
          0.3867428066940999,
          0.47335651636728804,
          0.9712780949068064,
          0.2695543242698041,
          0.5920388619175281,
          0.8329440168983173,
          0.5821376074664862,
          0.7341441427248303,
          0.6227624864398681,
          0.6250052644894432,
          0.694038336600421,
          0.8832295899648193,
          0.6707685780149996,
          0.38746302379405706,
          0.8033371860928065,
          0.5236804851053737,
          0.77120374541525,
          0.604409150379552,
          0.987876295354519,
          0.09435569749284856,
          0.8072141448542798,
          0.5435456856502564,
          0.30227499214234754,
          0.3214213942919856,
          0.8702064837054988,
          0.12449571669631243,
          0.48026960273559016,
          0.45892143122601836,
          0.8007569335567352,
          0.4519647917046654,
          0.7658123844705579,
          0.9790941401922512,
          0.22129019065848288,
          0.8548704194015775,
          0.14665882650627815,
          0.9265345989674076,
          0.26461309397666444,
          0.5502597317163734,
          0.2839928253284473,
          0.7089222343874108,
          0.49096149864752403,
          0.32516205928596875,
          0.03897640035641359,
          0.3017764549665125,
          0.6906203045462328,
          0.7351264083570286,
          0.2311181454583905,
          0.06924175796310938,
          0.6003762149625248,
          0.7739289795749544,
          0.27240372360692,
          0.5774631792329177,
          0.9215225335910446,
          0.12239180219434853,
          0.7578831314505952,
          0.2750102253255118,
          0.398221968230527,
          0.952935903177787,
          0.7242616900052973,
          0.11175707736807117,
          0.5597984111910187,
          0.017122938015978084,
          0.287362995132462,
          0.6575270669889517,
          0.6494382732812658,
          0.3225819514359911,
          0.31842776744005963,
          0.2227059466347322
         ],
         "xaxis": "x14",
         "y": [
          0.6049675436787881,
          0.26331913223246295,
          0.7093497387667826,
          0.8302857557323808,
          0.48628347640271563,
          0.5522401841546365,
          0.7228291561339886,
          0.3503155514198716,
          0.9914397301772295,
          0.3954321460490898,
          0.7843116835894328,
          0.8098075082347174,
          0.5932842876821278,
          0.02674830381482962,
          0.4766817949581674,
          0.23002742439608903,
          0.4602265437259899,
          0.5296780990255819,
          0.6942283623392663,
          0.6045974354017074,
          0.8693925106877225,
          0.1021380012277443,
          0.7117917702159499,
          0.7969334337405094,
          0.2717788438852057,
          0.43278204581902957,
          0.3045708377684585,
          0.2282920528355673,
          0.04597442807158014,
          0.26481441120906113,
          0.5211219007698088,
          0.27106703862801573,
          0.28702898825297607,
          0.9765162555913119,
          0.008257253692387834,
          0.5447918657135943,
          0.21141605255341878,
          0.09488071847727797,
          0.9043563093859569,
          0.288312049701824,
          0.7012557608593932,
          0.7256966546072516,
          0.9648880018708532,
          0.08717577188783832,
          0.4642191069010462,
          0.549304958948628,
          0.7012884961099369,
          0.6533582657360641,
          0.6276470849845789,
          0.9648159983530032,
          0.15600081458444204,
          0.5406290404996967,
          0.8863212327369236,
          0.1677634545916583,
          0.5178539995027887,
          0.3458429211423141,
          0.1448387562693667,
          0.381641212123084,
          0.3032667861950964,
          0.44372221360820363,
          0.5546848039087976,
          0.9720986463159164,
          0.7225295342207287,
          0.8947220777447558,
          0.9939324520057288,
          0.3263708279645252,
          0.0389664589280303,
          0.3158165877803921,
          0.04255771826746191,
          0.1849139335235478,
          0.3255720367741921,
          0.5113739914773018,
          0.16448770269175927,
          0.6566682569750413,
          0.5776520171077744,
          0.39676481813118003,
          0.8791928748221031,
          0.22739878817605397,
          0.06252907684031028,
          0.6272718635098893,
          0.11487809601356624,
          0.06732377536573741,
          0.5171878499166007,
          0.9172784823751415,
          0.8984754395357885,
          0.6360555404818192,
          0.40243266758619434,
          0.2475992299753933,
          0.1669422365112384,
          0.1906078764389888,
          0.9050301876983026,
          0.13610968306657167,
          0.608100963689494,
          0.533425961720379,
          0.3415471049417095,
          0.8586314676846226,
          0.9259990637093486,
          0.9634106051485283,
          0.02013274749745053,
          0.840859076418451
         ],
         "yaxis": "y14"
        },
        {
         "line": {
          "color": "rgba(128, 128, 128, 1.0)",
          "dash": "solid",
          "shape": "linear",
          "width": 1.3
         },
         "marker": {
          "size": 2,
          "symbol": "circle"
         },
         "mode": "markers",
         "name": "c",
         "text": "",
         "type": "scatter",
         "x": [
          0.6386248483159467,
          0.5230234794175541,
          0.334425400642009,
          0.14111906583561784,
          0.5436551242044353,
          0.057507016432407077,
          0.12954892887776326,
          0.9474162278384648,
          0.8873319252212756,
          0.0798116475475571,
          0.6845187303329766,
          0.9279149655444716,
          0.5751229833911761,
          0.5385265455177648,
          0.41254552892304297,
          0.7467804729749405,
          0.7303742318613662,
          0.19959853092484137,
          0.9148640423520675,
          0.8952233533479554,
          0.3587099037823809,
          0.8947079475764166,
          0.7527801623028844,
          0.43988726169127124,
          0.979617189922973,
          0.5981527430743774,
          0.6613938719103097,
          0.9096486529907447,
          0.9040336650769615,
          0.16372620539699945,
          0.8322795437762803,
          0.544529289185489,
          0.490062206093244,
          0.6259842236675176,
          0.04725902504622792,
          0.3140694265487689,
          0.6127478881057613,
          0.5722154499196853,
          0.8374012010977401,
          0.1400318206160982,
          0.37280908452990746,
          0.6661735631596962,
          0.6925771504123995,
          0.3853243054847725,
          0.6508946678902378,
          0.1700645517449968,
          0.5857517349687471,
          0.1079471753868666,
          0.4120106730585339,
          0.42498087958855335,
          0.47051532678457186,
          0.02972428590138876,
          0.8474471912941407,
          0.22001161029189775,
          0.15420345160899263,
          0.22976532588681176,
          0.3369691691451099,
          0.9176119660182019,
          0.011858422487131981,
          0.010595137724684345,
          0.7029634195276654,
          0.9154269395651924,
          0.048411896943233224,
          0.37245727074263757,
          0.0970408691674347,
          0.628711412980803,
          0.1650999098586574,
          0.9866845038179446,
          0.93974413929864,
          0.6074254936914476,
          0.881871442159823,
          0.484109551417512,
          0.7605425257232539,
          0.23709920904711146,
          0.9376266121601954,
          0.3520017586732076,
          0.9009032391342261,
          0.3524375275421264,
          0.6525345794432336,
          0.2802068582966859,
          0.9769727521546657,
          0.6925087981863739,
          0.06564350783284423,
          0.38019462296902584,
          0.11830225307683995,
          0.5464968311252386,
          0.6515165595388999,
          0.5763863815496948,
          0.04558971712433424,
          0.1096354810225646,
          0.13246756152069228,
          0.4098089587672449,
          0.6538457126437346,
          0.823988445540373,
          0.451042162777353,
          0.3730107195331247,
          0.13183630769941235,
          0.28695527760987427,
          0.6429468693737694,
          0.7815839940458188
         ],
         "xaxis": "x15",
         "y": [
          0.6049675436787881,
          0.26331913223246295,
          0.7093497387667826,
          0.8302857557323808,
          0.48628347640271563,
          0.5522401841546365,
          0.7228291561339886,
          0.3503155514198716,
          0.9914397301772295,
          0.3954321460490898,
          0.7843116835894328,
          0.8098075082347174,
          0.5932842876821278,
          0.02674830381482962,
          0.4766817949581674,
          0.23002742439608903,
          0.4602265437259899,
          0.5296780990255819,
          0.6942283623392663,
          0.6045974354017074,
          0.8693925106877225,
          0.1021380012277443,
          0.7117917702159499,
          0.7969334337405094,
          0.2717788438852057,
          0.43278204581902957,
          0.3045708377684585,
          0.2282920528355673,
          0.04597442807158014,
          0.26481441120906113,
          0.5211219007698088,
          0.27106703862801573,
          0.28702898825297607,
          0.9765162555913119,
          0.008257253692387834,
          0.5447918657135943,
          0.21141605255341878,
          0.09488071847727797,
          0.9043563093859569,
          0.288312049701824,
          0.7012557608593932,
          0.7256966546072516,
          0.9648880018708532,
          0.08717577188783832,
          0.4642191069010462,
          0.549304958948628,
          0.7012884961099369,
          0.6533582657360641,
          0.6276470849845789,
          0.9648159983530032,
          0.15600081458444204,
          0.5406290404996967,
          0.8863212327369236,
          0.1677634545916583,
          0.5178539995027887,
          0.3458429211423141,
          0.1448387562693667,
          0.381641212123084,
          0.3032667861950964,
          0.44372221360820363,
          0.5546848039087976,
          0.9720986463159164,
          0.7225295342207287,
          0.8947220777447558,
          0.9939324520057288,
          0.3263708279645252,
          0.0389664589280303,
          0.3158165877803921,
          0.04255771826746191,
          0.1849139335235478,
          0.3255720367741921,
          0.5113739914773018,
          0.16448770269175927,
          0.6566682569750413,
          0.5776520171077744,
          0.39676481813118003,
          0.8791928748221031,
          0.22739878817605397,
          0.06252907684031028,
          0.6272718635098893,
          0.11487809601356624,
          0.06732377536573741,
          0.5171878499166007,
          0.9172784823751415,
          0.8984754395357885,
          0.6360555404818192,
          0.40243266758619434,
          0.2475992299753933,
          0.1669422365112384,
          0.1906078764389888,
          0.9050301876983026,
          0.13610968306657167,
          0.608100963689494,
          0.533425961720379,
          0.3415471049417095,
          0.8586314676846226,
          0.9259990637093486,
          0.9634106051485283,
          0.02013274749745053,
          0.840859076418451
         ],
         "yaxis": "y15"
        },
        {
         "line": {
          "color": "rgba(128, 128, 128, 1.0)",
          "dash": "solid",
          "shape": "linear",
          "width": 1.3
         },
         "marker": {
          "size": 2,
          "symbol": "circle"
         },
         "mode": "markers",
         "name": "d",
         "text": "",
         "type": "scatter",
         "x": [
          0.06664371620244847,
          0.5407620947234574,
          0.6689151881233841,
          0.721092412348836,
          0.3759797914497993,
          0.39527735063052827,
          0.4934522395805472,
          0.855897801465149,
          0.7374102580018511,
          0.7287535440658456,
          0.9087893119029362,
          0.0389729107276543,
          0.9131979511127855,
          0.40962089859421325,
          0.47657514104573917,
          0.08720299353607297,
          0.13690164698888896,
          0.5035481247163679,
          0.266135761384094,
          0.6549949357531493,
          0.08051241257947772,
          0.9214281008363931,
          0.2829524471881053,
          0.6527173363263697,
          0.18800592724027765,
          0.5581934203599891,
          0.56098202587155,
          0.4601468637306919,
          0.7818563913340485,
          0.5536017893406393,
          0.2076552401035373,
          0.35928237992313494,
          0.6587218084028461,
          0.811613083395124,
          0.25420805654115597,
          0.6840002810466673,
          0.6111164582393296,
          0.2938576195012119,
          0.5111691101046774,
          0.3875542277771037,
          0.7451045436127167,
          0.9501473884996332,
          0.004498032004161545,
          0.5092605688140478,
          0.6564632643610027,
          0.6201931780594065,
          0.6842706981054051,
          0.2709670378722623,
          0.2120575730857116,
          0.8134311075392741,
          0.24116333321833616,
          0.23103251700435679,
          0.008515506141043239,
          0.39050763129267874,
          0.029665479583302568,
          0.3045989776296153,
          0.26725801998027643,
          0.26039194932627807,
          0.12224282846630519,
          0.6330862699036091,
          0.5457474773327132,
          0.4180438341797862,
          0.46736457227967254,
          0.2185566342291806,
          0.08059260147056657,
          0.38368185010623335,
          0.3086118649520281,
          0.2908710248091253,
          0.21329586658150246,
          0.15006898078339448,
          0.5450323688265107,
          0.5531789726038746,
          0.9480092589771546,
          0.061642493465942194,
          0.4105801261150056,
          0.6296851450210539,
          0.6368558770397965,
          0.01642034253496527,
          0.30064919685985814,
          0.1130722453206362,
          0.9458354659747372,
          0.631307464603639,
          0.6938179081613992,
          0.8876160139563236,
          0.2637635757689851,
          0.7855477777304667,
          0.22261139352906356,
          0.004728933024584991,
          0.9885717734657872,
          0.6468037364293703,
          0.8205938194632254,
          0.46987932516763353,
          0.10891344024228955,
          0.5532588345858189,
          0.3828403044919656,
          0.6048392490123118,
          0.12306666157306034,
          0.7889998286430977,
          0.9125580422545567,
          0.013538786394112545
         ],
         "xaxis": "x16",
         "y": [
          0.0944209317690835,
          0.27888666415576524,
          0.8971027826540451,
          0.9703086965990342,
          0.8817130309071713,
          0.09213840503236637,
          0.2506508366662863,
          0.34751131338191643,
          0.5632382537529974,
          0.7839079806829057,
          0.14136094541839772,
          0.1239181574356889,
          0.5183709155587094,
          0.8879671011492536,
          0.8862415126627536,
          0.8273976397723527,
          0.9681081716610408,
          0.6508327487564848,
          0.4882846998643292,
          0.2111779063802618,
          0.429923493368606,
          0.053978396884075575,
          0.6752913629339222,
          0.818297863533424,
          0.10834792608354837,
          0.7416729809867745,
          0.3628775786642817,
          0.012018942217303707,
          0.7945365042022574,
          0.18279967366125482,
          0.08793474635131249,
          0.28965013916749427,
          0.3867428066940999,
          0.47335651636728804,
          0.9712780949068064,
          0.2695543242698041,
          0.5920388619175281,
          0.8329440168983173,
          0.5821376074664862,
          0.7341441427248303,
          0.6227624864398681,
          0.6250052644894432,
          0.694038336600421,
          0.8832295899648193,
          0.6707685780149996,
          0.38746302379405706,
          0.8033371860928065,
          0.5236804851053737,
          0.77120374541525,
          0.604409150379552,
          0.987876295354519,
          0.09435569749284856,
          0.8072141448542798,
          0.5435456856502564,
          0.30227499214234754,
          0.3214213942919856,
          0.8702064837054988,
          0.12449571669631243,
          0.48026960273559016,
          0.45892143122601836,
          0.8007569335567352,
          0.4519647917046654,
          0.7658123844705579,
          0.9790941401922512,
          0.22129019065848288,
          0.8548704194015775,
          0.14665882650627815,
          0.9265345989674076,
          0.26461309397666444,
          0.5502597317163734,
          0.2839928253284473,
          0.7089222343874108,
          0.49096149864752403,
          0.32516205928596875,
          0.03897640035641359,
          0.3017764549665125,
          0.6906203045462328,
          0.7351264083570286,
          0.2311181454583905,
          0.06924175796310938,
          0.6003762149625248,
          0.7739289795749544,
          0.27240372360692,
          0.5774631792329177,
          0.9215225335910446,
          0.12239180219434853,
          0.7578831314505952,
          0.2750102253255118,
          0.398221968230527,
          0.952935903177787,
          0.7242616900052973,
          0.11175707736807117,
          0.5597984111910187,
          0.017122938015978084,
          0.287362995132462,
          0.6575270669889517,
          0.6494382732812658,
          0.3225819514359911,
          0.31842776744005963,
          0.2227059466347322
         ],
         "yaxis": "y16"
        },
        {
         "line": {
          "color": "rgba(128, 128, 128, 1.0)",
          "dash": "solid",
          "shape": "linear",
          "width": 1.3
         },
         "marker": {
          "size": 2,
          "symbol": "circle"
         },
         "mode": "markers",
         "name": "d",
         "text": "",
         "type": "scatter",
         "x": [
          0.1708528654602024,
          0.7947643961159381,
          0.12666139207012694,
          0.3704731100280987,
          0.4268231835968821,
          0.35764351148766405,
          0.2305666365210597,
          0.5538324288018692,
          0.594848156221167,
          0.9200479583746664,
          0.07590398582031088,
          0.9671854096015232,
          0.7125727126759903,
          0.8271226920363048,
          0.7927056070623242,
          0.8726781316595718,
          0.8439521568895053,
          0.09259317145482682,
          0.23178163096381899,
          0.09344484466459091,
          0.5209866753943617,
          0.2827883678792852,
          0.7060326111475312,
          0.8269352626736227,
          0.07581189650262699,
          0.5534557276357995,
          0.4709639927533994,
          0.5077795018414701,
          0.8146512167413209,
          0.0632160619388743,
          0.3784684778530909,
          0.11831403628208981,
          0.6604793256512019,
          0.8508837419021006,
          0.07326909011979632,
          0.1707061886641288,
          0.24602297556450203,
          0.32942390765767826,
          0.7827689079006152,
          0.5707580434972809,
          0.4557217240085497,
          0.3213546954349775,
          0.959796038755243,
          0.6792786524938019,
          0.6221080084291316,
          0.7916085199812986,
          0.196691226645063,
          0.23166202663976354,
          0.9871650353364658,
          0.5609852351224877,
          0.23060749190256702,
          0.6030149483879629,
          0.5418942503693233,
          0.8313579981419337,
          0.5005334875818716,
          0.17581835788597155,
          0.06043898969061501,
          0.1513690889963779,
          0.4965519044757296,
          0.6845533661268685,
          0.9632402423903895,
          0.15123322447511456,
          0.05491020331362695,
          0.06992307697450528,
          0.9251471556135247,
          0.07302669974492837,
          0.8412452325410701,
          0.052016817071149024,
          0.8937151859836213,
          0.7394998538110885,
          0.3726497227625558,
          0.6433686562554597,
          0.7862230059861702,
          0.8116612066335772,
          0.38686238605025935,
          0.3060482999038615,
          0.6352252249607443,
          0.7774964614027035,
          0.7629484316044388,
          0.987975440479305,
          0.8664798150644375,
          0.020203965710475558,
          0.3398395293157366,
          0.1122650337145874,
          0.07152937015646599,
          0.5787200279474213,
          0.6593323504043507,
          0.37568271757463945,
          0.6662653070220816,
          0.7340273240332108,
          0.8256606515853963,
          0.6375461978363576,
          0.8841503987586986,
          0.7621034473804962,
          0.04889787877109286,
          0.0060500550690697485,
          0.4195028769104727,
          0.209559422638408,
          0.044830301159018204,
          0.7621977253010859
         ],
         "xaxis": "x17",
         "y": [
          0.0944209317690835,
          0.27888666415576524,
          0.8971027826540451,
          0.9703086965990342,
          0.8817130309071713,
          0.09213840503236637,
          0.2506508366662863,
          0.34751131338191643,
          0.5632382537529974,
          0.7839079806829057,
          0.14136094541839772,
          0.1239181574356889,
          0.5183709155587094,
          0.8879671011492536,
          0.8862415126627536,
          0.8273976397723527,
          0.9681081716610408,
          0.6508327487564848,
          0.4882846998643292,
          0.2111779063802618,
          0.429923493368606,
          0.053978396884075575,
          0.6752913629339222,
          0.818297863533424,
          0.10834792608354837,
          0.7416729809867745,
          0.3628775786642817,
          0.012018942217303707,
          0.7945365042022574,
          0.18279967366125482,
          0.08793474635131249,
          0.28965013916749427,
          0.3867428066940999,
          0.47335651636728804,
          0.9712780949068064,
          0.2695543242698041,
          0.5920388619175281,
          0.8329440168983173,
          0.5821376074664862,
          0.7341441427248303,
          0.6227624864398681,
          0.6250052644894432,
          0.694038336600421,
          0.8832295899648193,
          0.6707685780149996,
          0.38746302379405706,
          0.8033371860928065,
          0.5236804851053737,
          0.77120374541525,
          0.604409150379552,
          0.987876295354519,
          0.09435569749284856,
          0.8072141448542798,
          0.5435456856502564,
          0.30227499214234754,
          0.3214213942919856,
          0.8702064837054988,
          0.12449571669631243,
          0.48026960273559016,
          0.45892143122601836,
          0.8007569335567352,
          0.4519647917046654,
          0.7658123844705579,
          0.9790941401922512,
          0.22129019065848288,
          0.8548704194015775,
          0.14665882650627815,
          0.9265345989674076,
          0.26461309397666444,
          0.5502597317163734,
          0.2839928253284473,
          0.7089222343874108,
          0.49096149864752403,
          0.32516205928596875,
          0.03897640035641359,
          0.3017764549665125,
          0.6906203045462328,
          0.7351264083570286,
          0.2311181454583905,
          0.06924175796310938,
          0.6003762149625248,
          0.7739289795749544,
          0.27240372360692,
          0.5774631792329177,
          0.9215225335910446,
          0.12239180219434853,
          0.7578831314505952,
          0.2750102253255118,
          0.398221968230527,
          0.952935903177787,
          0.7242616900052973,
          0.11175707736807117,
          0.5597984111910187,
          0.017122938015978084,
          0.287362995132462,
          0.6575270669889517,
          0.6494382732812658,
          0.3225819514359911,
          0.31842776744005963,
          0.2227059466347322
         ],
         "yaxis": "y17"
        },
        {
         "line": {
          "color": "rgba(128, 128, 128, 1.0)",
          "dash": "solid",
          "shape": "linear",
          "width": 1.3
         },
         "marker": {
          "size": 2,
          "symbol": "circle"
         },
         "mode": "markers",
         "name": "d",
         "text": "",
         "type": "scatter",
         "x": [
          0.6049675436787881,
          0.26331913223246295,
          0.7093497387667826,
          0.8302857557323808,
          0.48628347640271563,
          0.5522401841546365,
          0.7228291561339886,
          0.3503155514198716,
          0.9914397301772295,
          0.3954321460490898,
          0.7843116835894328,
          0.8098075082347174,
          0.5932842876821278,
          0.02674830381482962,
          0.4766817949581674,
          0.23002742439608903,
          0.4602265437259899,
          0.5296780990255819,
          0.6942283623392663,
          0.6045974354017074,
          0.8693925106877225,
          0.1021380012277443,
          0.7117917702159499,
          0.7969334337405094,
          0.2717788438852057,
          0.43278204581902957,
          0.3045708377684585,
          0.2282920528355673,
          0.04597442807158014,
          0.26481441120906113,
          0.5211219007698088,
          0.27106703862801573,
          0.28702898825297607,
          0.9765162555913119,
          0.008257253692387834,
          0.5447918657135943,
          0.21141605255341878,
          0.09488071847727797,
          0.9043563093859569,
          0.288312049701824,
          0.7012557608593932,
          0.7256966546072516,
          0.9648880018708532,
          0.08717577188783832,
          0.4642191069010462,
          0.549304958948628,
          0.7012884961099369,
          0.6533582657360641,
          0.6276470849845789,
          0.9648159983530032,
          0.15600081458444204,
          0.5406290404996967,
          0.8863212327369236,
          0.1677634545916583,
          0.5178539995027887,
          0.3458429211423141,
          0.1448387562693667,
          0.381641212123084,
          0.3032667861950964,
          0.44372221360820363,
          0.5546848039087976,
          0.9720986463159164,
          0.7225295342207287,
          0.8947220777447558,
          0.9939324520057288,
          0.3263708279645252,
          0.0389664589280303,
          0.3158165877803921,
          0.04255771826746191,
          0.1849139335235478,
          0.3255720367741921,
          0.5113739914773018,
          0.16448770269175927,
          0.6566682569750413,
          0.5776520171077744,
          0.39676481813118003,
          0.8791928748221031,
          0.22739878817605397,
          0.06252907684031028,
          0.6272718635098893,
          0.11487809601356624,
          0.06732377536573741,
          0.5171878499166007,
          0.9172784823751415,
          0.8984754395357885,
          0.6360555404818192,
          0.40243266758619434,
          0.2475992299753933,
          0.1669422365112384,
          0.1906078764389888,
          0.9050301876983026,
          0.13610968306657167,
          0.608100963689494,
          0.533425961720379,
          0.3415471049417095,
          0.8586314676846226,
          0.9259990637093486,
          0.9634106051485283,
          0.02013274749745053,
          0.840859076418451
         ],
         "xaxis": "x18",
         "y": [
          0.0944209317690835,
          0.27888666415576524,
          0.8971027826540451,
          0.9703086965990342,
          0.8817130309071713,
          0.09213840503236637,
          0.2506508366662863,
          0.34751131338191643,
          0.5632382537529974,
          0.7839079806829057,
          0.14136094541839772,
          0.1239181574356889,
          0.5183709155587094,
          0.8879671011492536,
          0.8862415126627536,
          0.8273976397723527,
          0.9681081716610408,
          0.6508327487564848,
          0.4882846998643292,
          0.2111779063802618,
          0.429923493368606,
          0.053978396884075575,
          0.6752913629339222,
          0.818297863533424,
          0.10834792608354837,
          0.7416729809867745,
          0.3628775786642817,
          0.012018942217303707,
          0.7945365042022574,
          0.18279967366125482,
          0.08793474635131249,
          0.28965013916749427,
          0.3867428066940999,
          0.47335651636728804,
          0.9712780949068064,
          0.2695543242698041,
          0.5920388619175281,
          0.8329440168983173,
          0.5821376074664862,
          0.7341441427248303,
          0.6227624864398681,
          0.6250052644894432,
          0.694038336600421,
          0.8832295899648193,
          0.6707685780149996,
          0.38746302379405706,
          0.8033371860928065,
          0.5236804851053737,
          0.77120374541525,
          0.604409150379552,
          0.987876295354519,
          0.09435569749284856,
          0.8072141448542798,
          0.5435456856502564,
          0.30227499214234754,
          0.3214213942919856,
          0.8702064837054988,
          0.12449571669631243,
          0.48026960273559016,
          0.45892143122601836,
          0.8007569335567352,
          0.4519647917046654,
          0.7658123844705579,
          0.9790941401922512,
          0.22129019065848288,
          0.8548704194015775,
          0.14665882650627815,
          0.9265345989674076,
          0.26461309397666444,
          0.5502597317163734,
          0.2839928253284473,
          0.7089222343874108,
          0.49096149864752403,
          0.32516205928596875,
          0.03897640035641359,
          0.3017764549665125,
          0.6906203045462328,
          0.7351264083570286,
          0.2311181454583905,
          0.06924175796310938,
          0.6003762149625248,
          0.7739289795749544,
          0.27240372360692,
          0.5774631792329177,
          0.9215225335910446,
          0.12239180219434853,
          0.7578831314505952,
          0.2750102253255118,
          0.398221968230527,
          0.952935903177787,
          0.7242616900052973,
          0.11175707736807117,
          0.5597984111910187,
          0.017122938015978084,
          0.287362995132462,
          0.6575270669889517,
          0.6494382732812658,
          0.3225819514359911,
          0.31842776744005963,
          0.2227059466347322
         ],
         "yaxis": "y18"
        },
        {
         "histfunc": "count",
         "histnorm": "",
         "marker": {
          "color": "rgba(128, 0, 128, 1.0)",
          "line": {
           "color": "#4D5663",
           "width": 1.3
          }
         },
         "name": "d",
         "nbinsx": 10,
         "opacity": 0.8,
         "orientation": "v",
         "type": "histogram",
         "x": [
          0.0944209317690835,
          0.27888666415576524,
          0.8971027826540451,
          0.9703086965990342,
          0.8817130309071713,
          0.09213840503236637,
          0.2506508366662863,
          0.34751131338191643,
          0.5632382537529974,
          0.7839079806829057,
          0.14136094541839772,
          0.1239181574356889,
          0.5183709155587094,
          0.8879671011492536,
          0.8862415126627536,
          0.8273976397723527,
          0.9681081716610408,
          0.6508327487564848,
          0.4882846998643292,
          0.2111779063802618,
          0.429923493368606,
          0.053978396884075575,
          0.6752913629339222,
          0.818297863533424,
          0.10834792608354837,
          0.7416729809867745,
          0.3628775786642817,
          0.012018942217303707,
          0.7945365042022574,
          0.18279967366125482,
          0.08793474635131249,
          0.28965013916749427,
          0.3867428066940999,
          0.47335651636728804,
          0.9712780949068064,
          0.2695543242698041,
          0.5920388619175281,
          0.8329440168983173,
          0.5821376074664862,
          0.7341441427248303,
          0.6227624864398681,
          0.6250052644894432,
          0.694038336600421,
          0.8832295899648193,
          0.6707685780149996,
          0.38746302379405706,
          0.8033371860928065,
          0.5236804851053737,
          0.77120374541525,
          0.604409150379552,
          0.987876295354519,
          0.09435569749284856,
          0.8072141448542798,
          0.5435456856502564,
          0.30227499214234754,
          0.3214213942919856,
          0.8702064837054988,
          0.12449571669631243,
          0.48026960273559016,
          0.45892143122601836,
          0.8007569335567352,
          0.4519647917046654,
          0.7658123844705579,
          0.9790941401922512,
          0.22129019065848288,
          0.8548704194015775,
          0.14665882650627815,
          0.9265345989674076,
          0.26461309397666444,
          0.5502597317163734,
          0.2839928253284473,
          0.7089222343874108,
          0.49096149864752403,
          0.32516205928596875,
          0.03897640035641359,
          0.3017764549665125,
          0.6906203045462328,
          0.7351264083570286,
          0.2311181454583905,
          0.06924175796310938,
          0.6003762149625248,
          0.7739289795749544,
          0.27240372360692,
          0.5774631792329177,
          0.9215225335910446,
          0.12239180219434853,
          0.7578831314505952,
          0.2750102253255118,
          0.398221968230527,
          0.952935903177787,
          0.7242616900052973,
          0.11175707736807117,
          0.5597984111910187,
          0.017122938015978084,
          0.287362995132462,
          0.6575270669889517,
          0.6494382732812658,
          0.3225819514359911,
          0.31842776744005963,
          0.2227059466347322
         ],
         "xaxis": "x19",
         "yaxis": "y19"
        },
        {
         "line": {
          "color": "rgba(128, 128, 128, 1.0)",
          "dash": "solid",
          "shape": "linear",
          "width": 1.3
         },
         "marker": {
          "size": 2,
          "symbol": "circle"
         },
         "mode": "markers",
         "name": "d",
         "text": "",
         "type": "scatter",
         "x": [
          0.6386248483159467,
          0.5230234794175541,
          0.334425400642009,
          0.14111906583561784,
          0.5436551242044353,
          0.057507016432407077,
          0.12954892887776326,
          0.9474162278384648,
          0.8873319252212756,
          0.0798116475475571,
          0.6845187303329766,
          0.9279149655444716,
          0.5751229833911761,
          0.5385265455177648,
          0.41254552892304297,
          0.7467804729749405,
          0.7303742318613662,
          0.19959853092484137,
          0.9148640423520675,
          0.8952233533479554,
          0.3587099037823809,
          0.8947079475764166,
          0.7527801623028844,
          0.43988726169127124,
          0.979617189922973,
          0.5981527430743774,
          0.6613938719103097,
          0.9096486529907447,
          0.9040336650769615,
          0.16372620539699945,
          0.8322795437762803,
          0.544529289185489,
          0.490062206093244,
          0.6259842236675176,
          0.04725902504622792,
          0.3140694265487689,
          0.6127478881057613,
          0.5722154499196853,
          0.8374012010977401,
          0.1400318206160982,
          0.37280908452990746,
          0.6661735631596962,
          0.6925771504123995,
          0.3853243054847725,
          0.6508946678902378,
          0.1700645517449968,
          0.5857517349687471,
          0.1079471753868666,
          0.4120106730585339,
          0.42498087958855335,
          0.47051532678457186,
          0.02972428590138876,
          0.8474471912941407,
          0.22001161029189775,
          0.15420345160899263,
          0.22976532588681176,
          0.3369691691451099,
          0.9176119660182019,
          0.011858422487131981,
          0.010595137724684345,
          0.7029634195276654,
          0.9154269395651924,
          0.048411896943233224,
          0.37245727074263757,
          0.0970408691674347,
          0.628711412980803,
          0.1650999098586574,
          0.9866845038179446,
          0.93974413929864,
          0.6074254936914476,
          0.881871442159823,
          0.484109551417512,
          0.7605425257232539,
          0.23709920904711146,
          0.9376266121601954,
          0.3520017586732076,
          0.9009032391342261,
          0.3524375275421264,
          0.6525345794432336,
          0.2802068582966859,
          0.9769727521546657,
          0.6925087981863739,
          0.06564350783284423,
          0.38019462296902584,
          0.11830225307683995,
          0.5464968311252386,
          0.6515165595388999,
          0.5763863815496948,
          0.04558971712433424,
          0.1096354810225646,
          0.13246756152069228,
          0.4098089587672449,
          0.6538457126437346,
          0.823988445540373,
          0.451042162777353,
          0.3730107195331247,
          0.13183630769941235,
          0.28695527760987427,
          0.6429468693737694,
          0.7815839940458188
         ],
         "xaxis": "x20",
         "y": [
          0.0944209317690835,
          0.27888666415576524,
          0.8971027826540451,
          0.9703086965990342,
          0.8817130309071713,
          0.09213840503236637,
          0.2506508366662863,
          0.34751131338191643,
          0.5632382537529974,
          0.7839079806829057,
          0.14136094541839772,
          0.1239181574356889,
          0.5183709155587094,
          0.8879671011492536,
          0.8862415126627536,
          0.8273976397723527,
          0.9681081716610408,
          0.6508327487564848,
          0.4882846998643292,
          0.2111779063802618,
          0.429923493368606,
          0.053978396884075575,
          0.6752913629339222,
          0.818297863533424,
          0.10834792608354837,
          0.7416729809867745,
          0.3628775786642817,
          0.012018942217303707,
          0.7945365042022574,
          0.18279967366125482,
          0.08793474635131249,
          0.28965013916749427,
          0.3867428066940999,
          0.47335651636728804,
          0.9712780949068064,
          0.2695543242698041,
          0.5920388619175281,
          0.8329440168983173,
          0.5821376074664862,
          0.7341441427248303,
          0.6227624864398681,
          0.6250052644894432,
          0.694038336600421,
          0.8832295899648193,
          0.6707685780149996,
          0.38746302379405706,
          0.8033371860928065,
          0.5236804851053737,
          0.77120374541525,
          0.604409150379552,
          0.987876295354519,
          0.09435569749284856,
          0.8072141448542798,
          0.5435456856502564,
          0.30227499214234754,
          0.3214213942919856,
          0.8702064837054988,
          0.12449571669631243,
          0.48026960273559016,
          0.45892143122601836,
          0.8007569335567352,
          0.4519647917046654,
          0.7658123844705579,
          0.9790941401922512,
          0.22129019065848288,
          0.8548704194015775,
          0.14665882650627815,
          0.9265345989674076,
          0.26461309397666444,
          0.5502597317163734,
          0.2839928253284473,
          0.7089222343874108,
          0.49096149864752403,
          0.32516205928596875,
          0.03897640035641359,
          0.3017764549665125,
          0.6906203045462328,
          0.7351264083570286,
          0.2311181454583905,
          0.06924175796310938,
          0.6003762149625248,
          0.7739289795749544,
          0.27240372360692,
          0.5774631792329177,
          0.9215225335910446,
          0.12239180219434853,
          0.7578831314505952,
          0.2750102253255118,
          0.398221968230527,
          0.952935903177787,
          0.7242616900052973,
          0.11175707736807117,
          0.5597984111910187,
          0.017122938015978084,
          0.287362995132462,
          0.6575270669889517,
          0.6494382732812658,
          0.3225819514359911,
          0.31842776744005963,
          0.2227059466347322
         ],
         "yaxis": "y20"
        },
        {
         "line": {
          "color": "rgba(128, 128, 128, 1.0)",
          "dash": "solid",
          "shape": "linear",
          "width": 1.3
         },
         "marker": {
          "size": 2,
          "symbol": "circle"
         },
         "mode": "markers",
         "name": "e",
         "text": "",
         "type": "scatter",
         "x": [
          0.06664371620244847,
          0.5407620947234574,
          0.6689151881233841,
          0.721092412348836,
          0.3759797914497993,
          0.39527735063052827,
          0.4934522395805472,
          0.855897801465149,
          0.7374102580018511,
          0.7287535440658456,
          0.9087893119029362,
          0.0389729107276543,
          0.9131979511127855,
          0.40962089859421325,
          0.47657514104573917,
          0.08720299353607297,
          0.13690164698888896,
          0.5035481247163679,
          0.266135761384094,
          0.6549949357531493,
          0.08051241257947772,
          0.9214281008363931,
          0.2829524471881053,
          0.6527173363263697,
          0.18800592724027765,
          0.5581934203599891,
          0.56098202587155,
          0.4601468637306919,
          0.7818563913340485,
          0.5536017893406393,
          0.2076552401035373,
          0.35928237992313494,
          0.6587218084028461,
          0.811613083395124,
          0.25420805654115597,
          0.6840002810466673,
          0.6111164582393296,
          0.2938576195012119,
          0.5111691101046774,
          0.3875542277771037,
          0.7451045436127167,
          0.9501473884996332,
          0.004498032004161545,
          0.5092605688140478,
          0.6564632643610027,
          0.6201931780594065,
          0.6842706981054051,
          0.2709670378722623,
          0.2120575730857116,
          0.8134311075392741,
          0.24116333321833616,
          0.23103251700435679,
          0.008515506141043239,
          0.39050763129267874,
          0.029665479583302568,
          0.3045989776296153,
          0.26725801998027643,
          0.26039194932627807,
          0.12224282846630519,
          0.6330862699036091,
          0.5457474773327132,
          0.4180438341797862,
          0.46736457227967254,
          0.2185566342291806,
          0.08059260147056657,
          0.38368185010623335,
          0.3086118649520281,
          0.2908710248091253,
          0.21329586658150246,
          0.15006898078339448,
          0.5450323688265107,
          0.5531789726038746,
          0.9480092589771546,
          0.061642493465942194,
          0.4105801261150056,
          0.6296851450210539,
          0.6368558770397965,
          0.01642034253496527,
          0.30064919685985814,
          0.1130722453206362,
          0.9458354659747372,
          0.631307464603639,
          0.6938179081613992,
          0.8876160139563236,
          0.2637635757689851,
          0.7855477777304667,
          0.22261139352906356,
          0.004728933024584991,
          0.9885717734657872,
          0.6468037364293703,
          0.8205938194632254,
          0.46987932516763353,
          0.10891344024228955,
          0.5532588345858189,
          0.3828403044919656,
          0.6048392490123118,
          0.12306666157306034,
          0.7889998286430977,
          0.9125580422545567,
          0.013538786394112545
         ],
         "xaxis": "x21",
         "y": [
          0.6386248483159467,
          0.5230234794175541,
          0.334425400642009,
          0.14111906583561784,
          0.5436551242044353,
          0.057507016432407077,
          0.12954892887776326,
          0.9474162278384648,
          0.8873319252212756,
          0.0798116475475571,
          0.6845187303329766,
          0.9279149655444716,
          0.5751229833911761,
          0.5385265455177648,
          0.41254552892304297,
          0.7467804729749405,
          0.7303742318613662,
          0.19959853092484137,
          0.9148640423520675,
          0.8952233533479554,
          0.3587099037823809,
          0.8947079475764166,
          0.7527801623028844,
          0.43988726169127124,
          0.979617189922973,
          0.5981527430743774,
          0.6613938719103097,
          0.9096486529907447,
          0.9040336650769615,
          0.16372620539699945,
          0.8322795437762803,
          0.544529289185489,
          0.490062206093244,
          0.6259842236675176,
          0.04725902504622792,
          0.3140694265487689,
          0.6127478881057613,
          0.5722154499196853,
          0.8374012010977401,
          0.1400318206160982,
          0.37280908452990746,
          0.6661735631596962,
          0.6925771504123995,
          0.3853243054847725,
          0.6508946678902378,
          0.1700645517449968,
          0.5857517349687471,
          0.1079471753868666,
          0.4120106730585339,
          0.42498087958855335,
          0.47051532678457186,
          0.02972428590138876,
          0.8474471912941407,
          0.22001161029189775,
          0.15420345160899263,
          0.22976532588681176,
          0.3369691691451099,
          0.9176119660182019,
          0.011858422487131981,
          0.010595137724684345,
          0.7029634195276654,
          0.9154269395651924,
          0.048411896943233224,
          0.37245727074263757,
          0.0970408691674347,
          0.628711412980803,
          0.1650999098586574,
          0.9866845038179446,
          0.93974413929864,
          0.6074254936914476,
          0.881871442159823,
          0.484109551417512,
          0.7605425257232539,
          0.23709920904711146,
          0.9376266121601954,
          0.3520017586732076,
          0.9009032391342261,
          0.3524375275421264,
          0.6525345794432336,
          0.2802068582966859,
          0.9769727521546657,
          0.6925087981863739,
          0.06564350783284423,
          0.38019462296902584,
          0.11830225307683995,
          0.5464968311252386,
          0.6515165595388999,
          0.5763863815496948,
          0.04558971712433424,
          0.1096354810225646,
          0.13246756152069228,
          0.4098089587672449,
          0.6538457126437346,
          0.823988445540373,
          0.451042162777353,
          0.3730107195331247,
          0.13183630769941235,
          0.28695527760987427,
          0.6429468693737694,
          0.7815839940458188
         ],
         "yaxis": "y21"
        },
        {
         "line": {
          "color": "rgba(128, 128, 128, 1.0)",
          "dash": "solid",
          "shape": "linear",
          "width": 1.3
         },
         "marker": {
          "size": 2,
          "symbol": "circle"
         },
         "mode": "markers",
         "name": "e",
         "text": "",
         "type": "scatter",
         "x": [
          0.1708528654602024,
          0.7947643961159381,
          0.12666139207012694,
          0.3704731100280987,
          0.4268231835968821,
          0.35764351148766405,
          0.2305666365210597,
          0.5538324288018692,
          0.594848156221167,
          0.9200479583746664,
          0.07590398582031088,
          0.9671854096015232,
          0.7125727126759903,
          0.8271226920363048,
          0.7927056070623242,
          0.8726781316595718,
          0.8439521568895053,
          0.09259317145482682,
          0.23178163096381899,
          0.09344484466459091,
          0.5209866753943617,
          0.2827883678792852,
          0.7060326111475312,
          0.8269352626736227,
          0.07581189650262699,
          0.5534557276357995,
          0.4709639927533994,
          0.5077795018414701,
          0.8146512167413209,
          0.0632160619388743,
          0.3784684778530909,
          0.11831403628208981,
          0.6604793256512019,
          0.8508837419021006,
          0.07326909011979632,
          0.1707061886641288,
          0.24602297556450203,
          0.32942390765767826,
          0.7827689079006152,
          0.5707580434972809,
          0.4557217240085497,
          0.3213546954349775,
          0.959796038755243,
          0.6792786524938019,
          0.6221080084291316,
          0.7916085199812986,
          0.196691226645063,
          0.23166202663976354,
          0.9871650353364658,
          0.5609852351224877,
          0.23060749190256702,
          0.6030149483879629,
          0.5418942503693233,
          0.8313579981419337,
          0.5005334875818716,
          0.17581835788597155,
          0.06043898969061501,
          0.1513690889963779,
          0.4965519044757296,
          0.6845533661268685,
          0.9632402423903895,
          0.15123322447511456,
          0.05491020331362695,
          0.06992307697450528,
          0.9251471556135247,
          0.07302669974492837,
          0.8412452325410701,
          0.052016817071149024,
          0.8937151859836213,
          0.7394998538110885,
          0.3726497227625558,
          0.6433686562554597,
          0.7862230059861702,
          0.8116612066335772,
          0.38686238605025935,
          0.3060482999038615,
          0.6352252249607443,
          0.7774964614027035,
          0.7629484316044388,
          0.987975440479305,
          0.8664798150644375,
          0.020203965710475558,
          0.3398395293157366,
          0.1122650337145874,
          0.07152937015646599,
          0.5787200279474213,
          0.6593323504043507,
          0.37568271757463945,
          0.6662653070220816,
          0.7340273240332108,
          0.8256606515853963,
          0.6375461978363576,
          0.8841503987586986,
          0.7621034473804962,
          0.04889787877109286,
          0.0060500550690697485,
          0.4195028769104727,
          0.209559422638408,
          0.044830301159018204,
          0.7621977253010859
         ],
         "xaxis": "x22",
         "y": [
          0.6386248483159467,
          0.5230234794175541,
          0.334425400642009,
          0.14111906583561784,
          0.5436551242044353,
          0.057507016432407077,
          0.12954892887776326,
          0.9474162278384648,
          0.8873319252212756,
          0.0798116475475571,
          0.6845187303329766,
          0.9279149655444716,
          0.5751229833911761,
          0.5385265455177648,
          0.41254552892304297,
          0.7467804729749405,
          0.7303742318613662,
          0.19959853092484137,
          0.9148640423520675,
          0.8952233533479554,
          0.3587099037823809,
          0.8947079475764166,
          0.7527801623028844,
          0.43988726169127124,
          0.979617189922973,
          0.5981527430743774,
          0.6613938719103097,
          0.9096486529907447,
          0.9040336650769615,
          0.16372620539699945,
          0.8322795437762803,
          0.544529289185489,
          0.490062206093244,
          0.6259842236675176,
          0.04725902504622792,
          0.3140694265487689,
          0.6127478881057613,
          0.5722154499196853,
          0.8374012010977401,
          0.1400318206160982,
          0.37280908452990746,
          0.6661735631596962,
          0.6925771504123995,
          0.3853243054847725,
          0.6508946678902378,
          0.1700645517449968,
          0.5857517349687471,
          0.1079471753868666,
          0.4120106730585339,
          0.42498087958855335,
          0.47051532678457186,
          0.02972428590138876,
          0.8474471912941407,
          0.22001161029189775,
          0.15420345160899263,
          0.22976532588681176,
          0.3369691691451099,
          0.9176119660182019,
          0.011858422487131981,
          0.010595137724684345,
          0.7029634195276654,
          0.9154269395651924,
          0.048411896943233224,
          0.37245727074263757,
          0.0970408691674347,
          0.628711412980803,
          0.1650999098586574,
          0.9866845038179446,
          0.93974413929864,
          0.6074254936914476,
          0.881871442159823,
          0.484109551417512,
          0.7605425257232539,
          0.23709920904711146,
          0.9376266121601954,
          0.3520017586732076,
          0.9009032391342261,
          0.3524375275421264,
          0.6525345794432336,
          0.2802068582966859,
          0.9769727521546657,
          0.6925087981863739,
          0.06564350783284423,
          0.38019462296902584,
          0.11830225307683995,
          0.5464968311252386,
          0.6515165595388999,
          0.5763863815496948,
          0.04558971712433424,
          0.1096354810225646,
          0.13246756152069228,
          0.4098089587672449,
          0.6538457126437346,
          0.823988445540373,
          0.451042162777353,
          0.3730107195331247,
          0.13183630769941235,
          0.28695527760987427,
          0.6429468693737694,
          0.7815839940458188
         ],
         "yaxis": "y22"
        },
        {
         "line": {
          "color": "rgba(128, 128, 128, 1.0)",
          "dash": "solid",
          "shape": "linear",
          "width": 1.3
         },
         "marker": {
          "size": 2,
          "symbol": "circle"
         },
         "mode": "markers",
         "name": "e",
         "text": "",
         "type": "scatter",
         "x": [
          0.6049675436787881,
          0.26331913223246295,
          0.7093497387667826,
          0.8302857557323808,
          0.48628347640271563,
          0.5522401841546365,
          0.7228291561339886,
          0.3503155514198716,
          0.9914397301772295,
          0.3954321460490898,
          0.7843116835894328,
          0.8098075082347174,
          0.5932842876821278,
          0.02674830381482962,
          0.4766817949581674,
          0.23002742439608903,
          0.4602265437259899,
          0.5296780990255819,
          0.6942283623392663,
          0.6045974354017074,
          0.8693925106877225,
          0.1021380012277443,
          0.7117917702159499,
          0.7969334337405094,
          0.2717788438852057,
          0.43278204581902957,
          0.3045708377684585,
          0.2282920528355673,
          0.04597442807158014,
          0.26481441120906113,
          0.5211219007698088,
          0.27106703862801573,
          0.28702898825297607,
          0.9765162555913119,
          0.008257253692387834,
          0.5447918657135943,
          0.21141605255341878,
          0.09488071847727797,
          0.9043563093859569,
          0.288312049701824,
          0.7012557608593932,
          0.7256966546072516,
          0.9648880018708532,
          0.08717577188783832,
          0.4642191069010462,
          0.549304958948628,
          0.7012884961099369,
          0.6533582657360641,
          0.6276470849845789,
          0.9648159983530032,
          0.15600081458444204,
          0.5406290404996967,
          0.8863212327369236,
          0.1677634545916583,
          0.5178539995027887,
          0.3458429211423141,
          0.1448387562693667,
          0.381641212123084,
          0.3032667861950964,
          0.44372221360820363,
          0.5546848039087976,
          0.9720986463159164,
          0.7225295342207287,
          0.8947220777447558,
          0.9939324520057288,
          0.3263708279645252,
          0.0389664589280303,
          0.3158165877803921,
          0.04255771826746191,
          0.1849139335235478,
          0.3255720367741921,
          0.5113739914773018,
          0.16448770269175927,
          0.6566682569750413,
          0.5776520171077744,
          0.39676481813118003,
          0.8791928748221031,
          0.22739878817605397,
          0.06252907684031028,
          0.6272718635098893,
          0.11487809601356624,
          0.06732377536573741,
          0.5171878499166007,
          0.9172784823751415,
          0.8984754395357885,
          0.6360555404818192,
          0.40243266758619434,
          0.2475992299753933,
          0.1669422365112384,
          0.1906078764389888,
          0.9050301876983026,
          0.13610968306657167,
          0.608100963689494,
          0.533425961720379,
          0.3415471049417095,
          0.8586314676846226,
          0.9259990637093486,
          0.9634106051485283,
          0.02013274749745053,
          0.840859076418451
         ],
         "xaxis": "x23",
         "y": [
          0.6386248483159467,
          0.5230234794175541,
          0.334425400642009,
          0.14111906583561784,
          0.5436551242044353,
          0.057507016432407077,
          0.12954892887776326,
          0.9474162278384648,
          0.8873319252212756,
          0.0798116475475571,
          0.6845187303329766,
          0.9279149655444716,
          0.5751229833911761,
          0.5385265455177648,
          0.41254552892304297,
          0.7467804729749405,
          0.7303742318613662,
          0.19959853092484137,
          0.9148640423520675,
          0.8952233533479554,
          0.3587099037823809,
          0.8947079475764166,
          0.7527801623028844,
          0.43988726169127124,
          0.979617189922973,
          0.5981527430743774,
          0.6613938719103097,
          0.9096486529907447,
          0.9040336650769615,
          0.16372620539699945,
          0.8322795437762803,
          0.544529289185489,
          0.490062206093244,
          0.6259842236675176,
          0.04725902504622792,
          0.3140694265487689,
          0.6127478881057613,
          0.5722154499196853,
          0.8374012010977401,
          0.1400318206160982,
          0.37280908452990746,
          0.6661735631596962,
          0.6925771504123995,
          0.3853243054847725,
          0.6508946678902378,
          0.1700645517449968,
          0.5857517349687471,
          0.1079471753868666,
          0.4120106730585339,
          0.42498087958855335,
          0.47051532678457186,
          0.02972428590138876,
          0.8474471912941407,
          0.22001161029189775,
          0.15420345160899263,
          0.22976532588681176,
          0.3369691691451099,
          0.9176119660182019,
          0.011858422487131981,
          0.010595137724684345,
          0.7029634195276654,
          0.9154269395651924,
          0.048411896943233224,
          0.37245727074263757,
          0.0970408691674347,
          0.628711412980803,
          0.1650999098586574,
          0.9866845038179446,
          0.93974413929864,
          0.6074254936914476,
          0.881871442159823,
          0.484109551417512,
          0.7605425257232539,
          0.23709920904711146,
          0.9376266121601954,
          0.3520017586732076,
          0.9009032391342261,
          0.3524375275421264,
          0.6525345794432336,
          0.2802068582966859,
          0.9769727521546657,
          0.6925087981863739,
          0.06564350783284423,
          0.38019462296902584,
          0.11830225307683995,
          0.5464968311252386,
          0.6515165595388999,
          0.5763863815496948,
          0.04558971712433424,
          0.1096354810225646,
          0.13246756152069228,
          0.4098089587672449,
          0.6538457126437346,
          0.823988445540373,
          0.451042162777353,
          0.3730107195331247,
          0.13183630769941235,
          0.28695527760987427,
          0.6429468693737694,
          0.7815839940458188
         ],
         "yaxis": "y23"
        },
        {
         "line": {
          "color": "rgba(128, 128, 128, 1.0)",
          "dash": "solid",
          "shape": "linear",
          "width": 1.3
         },
         "marker": {
          "size": 2,
          "symbol": "circle"
         },
         "mode": "markers",
         "name": "e",
         "text": "",
         "type": "scatter",
         "x": [
          0.0944209317690835,
          0.27888666415576524,
          0.8971027826540451,
          0.9703086965990342,
          0.8817130309071713,
          0.09213840503236637,
          0.2506508366662863,
          0.34751131338191643,
          0.5632382537529974,
          0.7839079806829057,
          0.14136094541839772,
          0.1239181574356889,
          0.5183709155587094,
          0.8879671011492536,
          0.8862415126627536,
          0.8273976397723527,
          0.9681081716610408,
          0.6508327487564848,
          0.4882846998643292,
          0.2111779063802618,
          0.429923493368606,
          0.053978396884075575,
          0.6752913629339222,
          0.818297863533424,
          0.10834792608354837,
          0.7416729809867745,
          0.3628775786642817,
          0.012018942217303707,
          0.7945365042022574,
          0.18279967366125482,
          0.08793474635131249,
          0.28965013916749427,
          0.3867428066940999,
          0.47335651636728804,
          0.9712780949068064,
          0.2695543242698041,
          0.5920388619175281,
          0.8329440168983173,
          0.5821376074664862,
          0.7341441427248303,
          0.6227624864398681,
          0.6250052644894432,
          0.694038336600421,
          0.8832295899648193,
          0.6707685780149996,
          0.38746302379405706,
          0.8033371860928065,
          0.5236804851053737,
          0.77120374541525,
          0.604409150379552,
          0.987876295354519,
          0.09435569749284856,
          0.8072141448542798,
          0.5435456856502564,
          0.30227499214234754,
          0.3214213942919856,
          0.8702064837054988,
          0.12449571669631243,
          0.48026960273559016,
          0.45892143122601836,
          0.8007569335567352,
          0.4519647917046654,
          0.7658123844705579,
          0.9790941401922512,
          0.22129019065848288,
          0.8548704194015775,
          0.14665882650627815,
          0.9265345989674076,
          0.26461309397666444,
          0.5502597317163734,
          0.2839928253284473,
          0.7089222343874108,
          0.49096149864752403,
          0.32516205928596875,
          0.03897640035641359,
          0.3017764549665125,
          0.6906203045462328,
          0.7351264083570286,
          0.2311181454583905,
          0.06924175796310938,
          0.6003762149625248,
          0.7739289795749544,
          0.27240372360692,
          0.5774631792329177,
          0.9215225335910446,
          0.12239180219434853,
          0.7578831314505952,
          0.2750102253255118,
          0.398221968230527,
          0.952935903177787,
          0.7242616900052973,
          0.11175707736807117,
          0.5597984111910187,
          0.017122938015978084,
          0.287362995132462,
          0.6575270669889517,
          0.6494382732812658,
          0.3225819514359911,
          0.31842776744005963,
          0.2227059466347322
         ],
         "xaxis": "x24",
         "y": [
          0.6386248483159467,
          0.5230234794175541,
          0.334425400642009,
          0.14111906583561784,
          0.5436551242044353,
          0.057507016432407077,
          0.12954892887776326,
          0.9474162278384648,
          0.8873319252212756,
          0.0798116475475571,
          0.6845187303329766,
          0.9279149655444716,
          0.5751229833911761,
          0.5385265455177648,
          0.41254552892304297,
          0.7467804729749405,
          0.7303742318613662,
          0.19959853092484137,
          0.9148640423520675,
          0.8952233533479554,
          0.3587099037823809,
          0.8947079475764166,
          0.7527801623028844,
          0.43988726169127124,
          0.979617189922973,
          0.5981527430743774,
          0.6613938719103097,
          0.9096486529907447,
          0.9040336650769615,
          0.16372620539699945,
          0.8322795437762803,
          0.544529289185489,
          0.490062206093244,
          0.6259842236675176,
          0.04725902504622792,
          0.3140694265487689,
          0.6127478881057613,
          0.5722154499196853,
          0.8374012010977401,
          0.1400318206160982,
          0.37280908452990746,
          0.6661735631596962,
          0.6925771504123995,
          0.3853243054847725,
          0.6508946678902378,
          0.1700645517449968,
          0.5857517349687471,
          0.1079471753868666,
          0.4120106730585339,
          0.42498087958855335,
          0.47051532678457186,
          0.02972428590138876,
          0.8474471912941407,
          0.22001161029189775,
          0.15420345160899263,
          0.22976532588681176,
          0.3369691691451099,
          0.9176119660182019,
          0.011858422487131981,
          0.010595137724684345,
          0.7029634195276654,
          0.9154269395651924,
          0.048411896943233224,
          0.37245727074263757,
          0.0970408691674347,
          0.628711412980803,
          0.1650999098586574,
          0.9866845038179446,
          0.93974413929864,
          0.6074254936914476,
          0.881871442159823,
          0.484109551417512,
          0.7605425257232539,
          0.23709920904711146,
          0.9376266121601954,
          0.3520017586732076,
          0.9009032391342261,
          0.3524375275421264,
          0.6525345794432336,
          0.2802068582966859,
          0.9769727521546657,
          0.6925087981863739,
          0.06564350783284423,
          0.38019462296902584,
          0.11830225307683995,
          0.5464968311252386,
          0.6515165595388999,
          0.5763863815496948,
          0.04558971712433424,
          0.1096354810225646,
          0.13246756152069228,
          0.4098089587672449,
          0.6538457126437346,
          0.823988445540373,
          0.451042162777353,
          0.3730107195331247,
          0.13183630769941235,
          0.28695527760987427,
          0.6429468693737694,
          0.7815839940458188
         ],
         "yaxis": "y24"
        },
        {
         "histfunc": "count",
         "histnorm": "",
         "marker": {
          "color": "rgba(219, 64, 82, 1.0)",
          "line": {
           "color": "#4D5663",
           "width": 1.3
          }
         },
         "name": "e",
         "nbinsx": 10,
         "opacity": 0.8,
         "orientation": "v",
         "type": "histogram",
         "x": [
          0.6386248483159467,
          0.5230234794175541,
          0.334425400642009,
          0.14111906583561784,
          0.5436551242044353,
          0.057507016432407077,
          0.12954892887776326,
          0.9474162278384648,
          0.8873319252212756,
          0.0798116475475571,
          0.6845187303329766,
          0.9279149655444716,
          0.5751229833911761,
          0.5385265455177648,
          0.41254552892304297,
          0.7467804729749405,
          0.7303742318613662,
          0.19959853092484137,
          0.9148640423520675,
          0.8952233533479554,
          0.3587099037823809,
          0.8947079475764166,
          0.7527801623028844,
          0.43988726169127124,
          0.979617189922973,
          0.5981527430743774,
          0.6613938719103097,
          0.9096486529907447,
          0.9040336650769615,
          0.16372620539699945,
          0.8322795437762803,
          0.544529289185489,
          0.490062206093244,
          0.6259842236675176,
          0.04725902504622792,
          0.3140694265487689,
          0.6127478881057613,
          0.5722154499196853,
          0.8374012010977401,
          0.1400318206160982,
          0.37280908452990746,
          0.6661735631596962,
          0.6925771504123995,
          0.3853243054847725,
          0.6508946678902378,
          0.1700645517449968,
          0.5857517349687471,
          0.1079471753868666,
          0.4120106730585339,
          0.42498087958855335,
          0.47051532678457186,
          0.02972428590138876,
          0.8474471912941407,
          0.22001161029189775,
          0.15420345160899263,
          0.22976532588681176,
          0.3369691691451099,
          0.9176119660182019,
          0.011858422487131981,
          0.010595137724684345,
          0.7029634195276654,
          0.9154269395651924,
          0.048411896943233224,
          0.37245727074263757,
          0.0970408691674347,
          0.628711412980803,
          0.1650999098586574,
          0.9866845038179446,
          0.93974413929864,
          0.6074254936914476,
          0.881871442159823,
          0.484109551417512,
          0.7605425257232539,
          0.23709920904711146,
          0.9376266121601954,
          0.3520017586732076,
          0.9009032391342261,
          0.3524375275421264,
          0.6525345794432336,
          0.2802068582966859,
          0.9769727521546657,
          0.6925087981863739,
          0.06564350783284423,
          0.38019462296902584,
          0.11830225307683995,
          0.5464968311252386,
          0.6515165595388999,
          0.5763863815496948,
          0.04558971712433424,
          0.1096354810225646,
          0.13246756152069228,
          0.4098089587672449,
          0.6538457126437346,
          0.823988445540373,
          0.451042162777353,
          0.3730107195331247,
          0.13183630769941235,
          0.28695527760987427,
          0.6429468693737694,
          0.7815839940458188
         ],
         "xaxis": "x25",
         "yaxis": "y25"
        }
       ],
       "layout": {
        "bargap": 0.02,
        "legend": {
         "bgcolor": "#F5F6F9",
         "font": {
          "color": "#4D5663"
         }
        },
        "paper_bgcolor": "#F5F6F9",
        "plot_bgcolor": "#F5F6F9",
        "showlegend": false,
        "template": {
         "data": {
          "bar": [
           {
            "error_x": {
             "color": "#2a3f5f"
            },
            "error_y": {
             "color": "#2a3f5f"
            },
            "marker": {
             "line": {
              "color": "#E5ECF6",
              "width": 0.5
             }
            },
            "type": "bar"
           }
          ],
          "barpolar": [
           {
            "marker": {
             "line": {
              "color": "#E5ECF6",
              "width": 0.5
             }
            },
            "type": "barpolar"
           }
          ],
          "carpet": [
           {
            "aaxis": {
             "endlinecolor": "#2a3f5f",
             "gridcolor": "white",
             "linecolor": "white",
             "minorgridcolor": "white",
             "startlinecolor": "#2a3f5f"
            },
            "baxis": {
             "endlinecolor": "#2a3f5f",
             "gridcolor": "white",
             "linecolor": "white",
             "minorgridcolor": "white",
             "startlinecolor": "#2a3f5f"
            },
            "type": "carpet"
           }
          ],
          "choropleth": [
           {
            "colorbar": {
             "outlinewidth": 0,
             "ticks": ""
            },
            "type": "choropleth"
           }
          ],
          "contour": [
           {
            "colorbar": {
             "outlinewidth": 0,
             "ticks": ""
            },
            "colorscale": [
             [
              0,
              "#0d0887"
             ],
             [
              0.1111111111111111,
              "#46039f"
             ],
             [
              0.2222222222222222,
              "#7201a8"
             ],
             [
              0.3333333333333333,
              "#9c179e"
             ],
             [
              0.4444444444444444,
              "#bd3786"
             ],
             [
              0.5555555555555556,
              "#d8576b"
             ],
             [
              0.6666666666666666,
              "#ed7953"
             ],
             [
              0.7777777777777778,
              "#fb9f3a"
             ],
             [
              0.8888888888888888,
              "#fdca26"
             ],
             [
              1,
              "#f0f921"
             ]
            ],
            "type": "contour"
           }
          ],
          "contourcarpet": [
           {
            "colorbar": {
             "outlinewidth": 0,
             "ticks": ""
            },
            "type": "contourcarpet"
           }
          ],
          "heatmap": [
           {
            "colorbar": {
             "outlinewidth": 0,
             "ticks": ""
            },
            "colorscale": [
             [
              0,
              "#0d0887"
             ],
             [
              0.1111111111111111,
              "#46039f"
             ],
             [
              0.2222222222222222,
              "#7201a8"
             ],
             [
              0.3333333333333333,
              "#9c179e"
             ],
             [
              0.4444444444444444,
              "#bd3786"
             ],
             [
              0.5555555555555556,
              "#d8576b"
             ],
             [
              0.6666666666666666,
              "#ed7953"
             ],
             [
              0.7777777777777778,
              "#fb9f3a"
             ],
             [
              0.8888888888888888,
              "#fdca26"
             ],
             [
              1,
              "#f0f921"
             ]
            ],
            "type": "heatmap"
           }
          ],
          "heatmapgl": [
           {
            "colorbar": {
             "outlinewidth": 0,
             "ticks": ""
            },
            "colorscale": [
             [
              0,
              "#0d0887"
             ],
             [
              0.1111111111111111,
              "#46039f"
             ],
             [
              0.2222222222222222,
              "#7201a8"
             ],
             [
              0.3333333333333333,
              "#9c179e"
             ],
             [
              0.4444444444444444,
              "#bd3786"
             ],
             [
              0.5555555555555556,
              "#d8576b"
             ],
             [
              0.6666666666666666,
              "#ed7953"
             ],
             [
              0.7777777777777778,
              "#fb9f3a"
             ],
             [
              0.8888888888888888,
              "#fdca26"
             ],
             [
              1,
              "#f0f921"
             ]
            ],
            "type": "heatmapgl"
           }
          ],
          "histogram": [
           {
            "marker": {
             "colorbar": {
              "outlinewidth": 0,
              "ticks": ""
             }
            },
            "type": "histogram"
           }
          ],
          "histogram2d": [
           {
            "colorbar": {
             "outlinewidth": 0,
             "ticks": ""
            },
            "colorscale": [
             [
              0,
              "#0d0887"
             ],
             [
              0.1111111111111111,
              "#46039f"
             ],
             [
              0.2222222222222222,
              "#7201a8"
             ],
             [
              0.3333333333333333,
              "#9c179e"
             ],
             [
              0.4444444444444444,
              "#bd3786"
             ],
             [
              0.5555555555555556,
              "#d8576b"
             ],
             [
              0.6666666666666666,
              "#ed7953"
             ],
             [
              0.7777777777777778,
              "#fb9f3a"
             ],
             [
              0.8888888888888888,
              "#fdca26"
             ],
             [
              1,
              "#f0f921"
             ]
            ],
            "type": "histogram2d"
           }
          ],
          "histogram2dcontour": [
           {
            "colorbar": {
             "outlinewidth": 0,
             "ticks": ""
            },
            "colorscale": [
             [
              0,
              "#0d0887"
             ],
             [
              0.1111111111111111,
              "#46039f"
             ],
             [
              0.2222222222222222,
              "#7201a8"
             ],
             [
              0.3333333333333333,
              "#9c179e"
             ],
             [
              0.4444444444444444,
              "#bd3786"
             ],
             [
              0.5555555555555556,
              "#d8576b"
             ],
             [
              0.6666666666666666,
              "#ed7953"
             ],
             [
              0.7777777777777778,
              "#fb9f3a"
             ],
             [
              0.8888888888888888,
              "#fdca26"
             ],
             [
              1,
              "#f0f921"
             ]
            ],
            "type": "histogram2dcontour"
           }
          ],
          "mesh3d": [
           {
            "colorbar": {
             "outlinewidth": 0,
             "ticks": ""
            },
            "type": "mesh3d"
           }
          ],
          "parcoords": [
           {
            "line": {
             "colorbar": {
              "outlinewidth": 0,
              "ticks": ""
             }
            },
            "type": "parcoords"
           }
          ],
          "pie": [
           {
            "automargin": true,
            "type": "pie"
           }
          ],
          "scatter": [
           {
            "marker": {
             "colorbar": {
              "outlinewidth": 0,
              "ticks": ""
             }
            },
            "type": "scatter"
           }
          ],
          "scatter3d": [
           {
            "line": {
             "colorbar": {
              "outlinewidth": 0,
              "ticks": ""
             }
            },
            "marker": {
             "colorbar": {
              "outlinewidth": 0,
              "ticks": ""
             }
            },
            "type": "scatter3d"
           }
          ],
          "scattercarpet": [
           {
            "marker": {
             "colorbar": {
              "outlinewidth": 0,
              "ticks": ""
             }
            },
            "type": "scattercarpet"
           }
          ],
          "scattergeo": [
           {
            "marker": {
             "colorbar": {
              "outlinewidth": 0,
              "ticks": ""
             }
            },
            "type": "scattergeo"
           }
          ],
          "scattergl": [
           {
            "marker": {
             "colorbar": {
              "outlinewidth": 0,
              "ticks": ""
             }
            },
            "type": "scattergl"
           }
          ],
          "scattermapbox": [
           {
            "marker": {
             "colorbar": {
              "outlinewidth": 0,
              "ticks": ""
             }
            },
            "type": "scattermapbox"
           }
          ],
          "scatterpolar": [
           {
            "marker": {
             "colorbar": {
              "outlinewidth": 0,
              "ticks": ""
             }
            },
            "type": "scatterpolar"
           }
          ],
          "scatterpolargl": [
           {
            "marker": {
             "colorbar": {
              "outlinewidth": 0,
              "ticks": ""
             }
            },
            "type": "scatterpolargl"
           }
          ],
          "scatterternary": [
           {
            "marker": {
             "colorbar": {
              "outlinewidth": 0,
              "ticks": ""
             }
            },
            "type": "scatterternary"
           }
          ],
          "surface": [
           {
            "colorbar": {
             "outlinewidth": 0,
             "ticks": ""
            },
            "colorscale": [
             [
              0,
              "#0d0887"
             ],
             [
              0.1111111111111111,
              "#46039f"
             ],
             [
              0.2222222222222222,
              "#7201a8"
             ],
             [
              0.3333333333333333,
              "#9c179e"
             ],
             [
              0.4444444444444444,
              "#bd3786"
             ],
             [
              0.5555555555555556,
              "#d8576b"
             ],
             [
              0.6666666666666666,
              "#ed7953"
             ],
             [
              0.7777777777777778,
              "#fb9f3a"
             ],
             [
              0.8888888888888888,
              "#fdca26"
             ],
             [
              1,
              "#f0f921"
             ]
            ],
            "type": "surface"
           }
          ],
          "table": [
           {
            "cells": {
             "fill": {
              "color": "#EBF0F8"
             },
             "line": {
              "color": "white"
             }
            },
            "header": {
             "fill": {
              "color": "#C8D4E3"
             },
             "line": {
              "color": "white"
             }
            },
            "type": "table"
           }
          ]
         },
         "layout": {
          "annotationdefaults": {
           "arrowcolor": "#2a3f5f",
           "arrowhead": 0,
           "arrowwidth": 1
          },
          "coloraxis": {
           "colorbar": {
            "outlinewidth": 0,
            "ticks": ""
           }
          },
          "colorscale": {
           "diverging": [
            [
             0,
             "#8e0152"
            ],
            [
             0.1,
             "#c51b7d"
            ],
            [
             0.2,
             "#de77ae"
            ],
            [
             0.3,
             "#f1b6da"
            ],
            [
             0.4,
             "#fde0ef"
            ],
            [
             0.5,
             "#f7f7f7"
            ],
            [
             0.6,
             "#e6f5d0"
            ],
            [
             0.7,
             "#b8e186"
            ],
            [
             0.8,
             "#7fbc41"
            ],
            [
             0.9,
             "#4d9221"
            ],
            [
             1,
             "#276419"
            ]
           ],
           "sequential": [
            [
             0,
             "#0d0887"
            ],
            [
             0.1111111111111111,
             "#46039f"
            ],
            [
             0.2222222222222222,
             "#7201a8"
            ],
            [
             0.3333333333333333,
             "#9c179e"
            ],
            [
             0.4444444444444444,
             "#bd3786"
            ],
            [
             0.5555555555555556,
             "#d8576b"
            ],
            [
             0.6666666666666666,
             "#ed7953"
            ],
            [
             0.7777777777777778,
             "#fb9f3a"
            ],
            [
             0.8888888888888888,
             "#fdca26"
            ],
            [
             1,
             "#f0f921"
            ]
           ],
           "sequentialminus": [
            [
             0,
             "#0d0887"
            ],
            [
             0.1111111111111111,
             "#46039f"
            ],
            [
             0.2222222222222222,
             "#7201a8"
            ],
            [
             0.3333333333333333,
             "#9c179e"
            ],
            [
             0.4444444444444444,
             "#bd3786"
            ],
            [
             0.5555555555555556,
             "#d8576b"
            ],
            [
             0.6666666666666666,
             "#ed7953"
            ],
            [
             0.7777777777777778,
             "#fb9f3a"
            ],
            [
             0.8888888888888888,
             "#fdca26"
            ],
            [
             1,
             "#f0f921"
            ]
           ]
          },
          "colorway": [
           "#636efa",
           "#EF553B",
           "#00cc96",
           "#ab63fa",
           "#FFA15A",
           "#19d3f3",
           "#FF6692",
           "#B6E880",
           "#FF97FF",
           "#FECB52"
          ],
          "font": {
           "color": "#2a3f5f"
          },
          "geo": {
           "bgcolor": "white",
           "lakecolor": "white",
           "landcolor": "#E5ECF6",
           "showlakes": true,
           "showland": true,
           "subunitcolor": "white"
          },
          "hoverlabel": {
           "align": "left"
          },
          "hovermode": "closest",
          "mapbox": {
           "style": "light"
          },
          "paper_bgcolor": "white",
          "plot_bgcolor": "#E5ECF6",
          "polar": {
           "angularaxis": {
            "gridcolor": "white",
            "linecolor": "white",
            "ticks": ""
           },
           "bgcolor": "#E5ECF6",
           "radialaxis": {
            "gridcolor": "white",
            "linecolor": "white",
            "ticks": ""
           }
          },
          "scene": {
           "xaxis": {
            "backgroundcolor": "#E5ECF6",
            "gridcolor": "white",
            "gridwidth": 2,
            "linecolor": "white",
            "showbackground": true,
            "ticks": "",
            "zerolinecolor": "white"
           },
           "yaxis": {
            "backgroundcolor": "#E5ECF6",
            "gridcolor": "white",
            "gridwidth": 2,
            "linecolor": "white",
            "showbackground": true,
            "ticks": "",
            "zerolinecolor": "white"
           },
           "zaxis": {
            "backgroundcolor": "#E5ECF6",
            "gridcolor": "white",
            "gridwidth": 2,
            "linecolor": "white",
            "showbackground": true,
            "ticks": "",
            "zerolinecolor": "white"
           }
          },
          "shapedefaults": {
           "line": {
            "color": "#2a3f5f"
           }
          },
          "ternary": {
           "aaxis": {
            "gridcolor": "white",
            "linecolor": "white",
            "ticks": ""
           },
           "baxis": {
            "gridcolor": "white",
            "linecolor": "white",
            "ticks": ""
           },
           "bgcolor": "#E5ECF6",
           "caxis": {
            "gridcolor": "white",
            "linecolor": "white",
            "ticks": ""
           }
          },
          "title": {
           "x": 0.05
          },
          "xaxis": {
           "automargin": true,
           "gridcolor": "white",
           "linecolor": "white",
           "ticks": "",
           "title": {
            "standoff": 15
           },
           "zerolinecolor": "white",
           "zerolinewidth": 2
          },
          "yaxis": {
           "automargin": true,
           "gridcolor": "white",
           "linecolor": "white",
           "ticks": "",
           "title": {
            "standoff": 15
           },
           "zerolinecolor": "white",
           "zerolinewidth": 2
          }
         }
        },
        "title": {
         "font": {
          "color": "#4D5663"
         }
        },
        "xaxis": {
         "anchor": "y",
         "domain": [
          0,
          0.16
         ],
         "gridcolor": "#E1E5ED",
         "showgrid": false,
         "tickfont": {
          "color": "#4D5663"
         },
         "title": {
          "font": {
           "color": "#4D5663"
          },
          "text": ""
         },
         "zerolinecolor": "#E1E5ED"
        },
        "xaxis10": {
         "anchor": "y10",
         "domain": [
          0.8400000000000001,
          1
         ],
         "gridcolor": "#E1E5ED",
         "showgrid": false,
         "tickfont": {
          "color": "#4D5663"
         },
         "title": {
          "font": {
           "color": "#4D5663"
          },
          "text": ""
         },
         "zerolinecolor": "#E1E5ED"
        },
        "xaxis11": {
         "anchor": "y11",
         "domain": [
          0,
          0.16
         ],
         "gridcolor": "#E1E5ED",
         "showgrid": false,
         "tickfont": {
          "color": "#4D5663"
         },
         "title": {
          "font": {
           "color": "#4D5663"
          },
          "text": ""
         },
         "zerolinecolor": "#E1E5ED"
        },
        "xaxis12": {
         "anchor": "y12",
         "domain": [
          0.21000000000000002,
          0.37
         ],
         "gridcolor": "#E1E5ED",
         "showgrid": false,
         "tickfont": {
          "color": "#4D5663"
         },
         "title": {
          "font": {
           "color": "#4D5663"
          },
          "text": ""
         },
         "zerolinecolor": "#E1E5ED"
        },
        "xaxis13": {
         "anchor": "y13",
         "domain": [
          0.42000000000000004,
          0.5800000000000001
         ],
         "gridcolor": "#E1E5ED",
         "showgrid": false,
         "tickfont": {
          "color": "#4D5663"
         },
         "title": {
          "font": {
           "color": "#4D5663"
          },
          "text": ""
         },
         "zerolinecolor": "#E1E5ED"
        },
        "xaxis14": {
         "anchor": "y14",
         "domain": [
          0.63,
          0.79
         ],
         "gridcolor": "#E1E5ED",
         "showgrid": false,
         "tickfont": {
          "color": "#4D5663"
         },
         "title": {
          "font": {
           "color": "#4D5663"
          },
          "text": ""
         },
         "zerolinecolor": "#E1E5ED"
        },
        "xaxis15": {
         "anchor": "y15",
         "domain": [
          0.8400000000000001,
          1
         ],
         "gridcolor": "#E1E5ED",
         "showgrid": false,
         "tickfont": {
          "color": "#4D5663"
         },
         "title": {
          "font": {
           "color": "#4D5663"
          },
          "text": ""
         },
         "zerolinecolor": "#E1E5ED"
        },
        "xaxis16": {
         "anchor": "y16",
         "domain": [
          0,
          0.16
         ],
         "gridcolor": "#E1E5ED",
         "showgrid": false,
         "tickfont": {
          "color": "#4D5663"
         },
         "title": {
          "font": {
           "color": "#4D5663"
          },
          "text": ""
         },
         "zerolinecolor": "#E1E5ED"
        },
        "xaxis17": {
         "anchor": "y17",
         "domain": [
          0.21000000000000002,
          0.37
         ],
         "gridcolor": "#E1E5ED",
         "showgrid": false,
         "tickfont": {
          "color": "#4D5663"
         },
         "title": {
          "font": {
           "color": "#4D5663"
          },
          "text": ""
         },
         "zerolinecolor": "#E1E5ED"
        },
        "xaxis18": {
         "anchor": "y18",
         "domain": [
          0.42000000000000004,
          0.5800000000000001
         ],
         "gridcolor": "#E1E5ED",
         "showgrid": false,
         "tickfont": {
          "color": "#4D5663"
         },
         "title": {
          "font": {
           "color": "#4D5663"
          },
          "text": ""
         },
         "zerolinecolor": "#E1E5ED"
        },
        "xaxis19": {
         "anchor": "y19",
         "domain": [
          0.63,
          0.79
         ],
         "gridcolor": "#E1E5ED",
         "showgrid": false,
         "tickfont": {
          "color": "#4D5663"
         },
         "title": {
          "font": {
           "color": "#4D5663"
          },
          "text": ""
         },
         "zerolinecolor": "#E1E5ED"
        },
        "xaxis2": {
         "anchor": "y2",
         "domain": [
          0.21000000000000002,
          0.37
         ],
         "gridcolor": "#E1E5ED",
         "showgrid": false,
         "tickfont": {
          "color": "#4D5663"
         },
         "title": {
          "font": {
           "color": "#4D5663"
          },
          "text": ""
         },
         "zerolinecolor": "#E1E5ED"
        },
        "xaxis20": {
         "anchor": "y20",
         "domain": [
          0.8400000000000001,
          1
         ],
         "gridcolor": "#E1E5ED",
         "showgrid": false,
         "tickfont": {
          "color": "#4D5663"
         },
         "title": {
          "font": {
           "color": "#4D5663"
          },
          "text": ""
         },
         "zerolinecolor": "#E1E5ED"
        },
        "xaxis21": {
         "anchor": "y21",
         "domain": [
          0,
          0.16
         ],
         "gridcolor": "#E1E5ED",
         "showgrid": false,
         "tickfont": {
          "color": "#4D5663"
         },
         "title": {
          "font": {
           "color": "#4D5663"
          },
          "text": ""
         },
         "zerolinecolor": "#E1E5ED"
        },
        "xaxis22": {
         "anchor": "y22",
         "domain": [
          0.21000000000000002,
          0.37
         ],
         "gridcolor": "#E1E5ED",
         "showgrid": false,
         "tickfont": {
          "color": "#4D5663"
         },
         "title": {
          "font": {
           "color": "#4D5663"
          },
          "text": ""
         },
         "zerolinecolor": "#E1E5ED"
        },
        "xaxis23": {
         "anchor": "y23",
         "domain": [
          0.42000000000000004,
          0.5800000000000001
         ],
         "gridcolor": "#E1E5ED",
         "showgrid": false,
         "tickfont": {
          "color": "#4D5663"
         },
         "title": {
          "font": {
           "color": "#4D5663"
          },
          "text": ""
         },
         "zerolinecolor": "#E1E5ED"
        },
        "xaxis24": {
         "anchor": "y24",
         "domain": [
          0.63,
          0.79
         ],
         "gridcolor": "#E1E5ED",
         "showgrid": false,
         "tickfont": {
          "color": "#4D5663"
         },
         "title": {
          "font": {
           "color": "#4D5663"
          },
          "text": ""
         },
         "zerolinecolor": "#E1E5ED"
        },
        "xaxis25": {
         "anchor": "y25",
         "domain": [
          0.8400000000000001,
          1
         ],
         "gridcolor": "#E1E5ED",
         "showgrid": false,
         "tickfont": {
          "color": "#4D5663"
         },
         "title": {
          "font": {
           "color": "#4D5663"
          },
          "text": ""
         },
         "zerolinecolor": "#E1E5ED"
        },
        "xaxis3": {
         "anchor": "y3",
         "domain": [
          0.42000000000000004,
          0.5800000000000001
         ],
         "gridcolor": "#E1E5ED",
         "showgrid": false,
         "tickfont": {
          "color": "#4D5663"
         },
         "title": {
          "font": {
           "color": "#4D5663"
          },
          "text": ""
         },
         "zerolinecolor": "#E1E5ED"
        },
        "xaxis4": {
         "anchor": "y4",
         "domain": [
          0.63,
          0.79
         ],
         "gridcolor": "#E1E5ED",
         "showgrid": false,
         "tickfont": {
          "color": "#4D5663"
         },
         "title": {
          "font": {
           "color": "#4D5663"
          },
          "text": ""
         },
         "zerolinecolor": "#E1E5ED"
        },
        "xaxis5": {
         "anchor": "y5",
         "domain": [
          0.8400000000000001,
          1
         ],
         "gridcolor": "#E1E5ED",
         "showgrid": false,
         "tickfont": {
          "color": "#4D5663"
         },
         "title": {
          "font": {
           "color": "#4D5663"
          },
          "text": ""
         },
         "zerolinecolor": "#E1E5ED"
        },
        "xaxis6": {
         "anchor": "y6",
         "domain": [
          0,
          0.16
         ],
         "gridcolor": "#E1E5ED",
         "showgrid": false,
         "tickfont": {
          "color": "#4D5663"
         },
         "title": {
          "font": {
           "color": "#4D5663"
          },
          "text": ""
         },
         "zerolinecolor": "#E1E5ED"
        },
        "xaxis7": {
         "anchor": "y7",
         "domain": [
          0.21000000000000002,
          0.37
         ],
         "gridcolor": "#E1E5ED",
         "showgrid": false,
         "tickfont": {
          "color": "#4D5663"
         },
         "title": {
          "font": {
           "color": "#4D5663"
          },
          "text": ""
         },
         "zerolinecolor": "#E1E5ED"
        },
        "xaxis8": {
         "anchor": "y8",
         "domain": [
          0.42000000000000004,
          0.5800000000000001
         ],
         "gridcolor": "#E1E5ED",
         "showgrid": false,
         "tickfont": {
          "color": "#4D5663"
         },
         "title": {
          "font": {
           "color": "#4D5663"
          },
          "text": ""
         },
         "zerolinecolor": "#E1E5ED"
        },
        "xaxis9": {
         "anchor": "y9",
         "domain": [
          0.63,
          0.79
         ],
         "gridcolor": "#E1E5ED",
         "showgrid": false,
         "tickfont": {
          "color": "#4D5663"
         },
         "title": {
          "font": {
           "color": "#4D5663"
          },
          "text": ""
         },
         "zerolinecolor": "#E1E5ED"
        },
        "yaxis": {
         "anchor": "x",
         "domain": [
          0.856,
          1
         ],
         "gridcolor": "#E1E5ED",
         "showgrid": false,
         "tickfont": {
          "color": "#4D5663"
         },
         "title": {
          "font": {
           "color": "#4D5663"
          },
          "text": ""
         },
         "zerolinecolor": "#E1E5ED"
        },
        "yaxis10": {
         "anchor": "x10",
         "domain": [
          0.6419999999999999,
          0.7859999999999999
         ],
         "gridcolor": "#E1E5ED",
         "showgrid": false,
         "tickfont": {
          "color": "#4D5663"
         },
         "title": {
          "font": {
           "color": "#4D5663"
          },
          "text": ""
         },
         "zerolinecolor": "#E1E5ED"
        },
        "yaxis11": {
         "anchor": "x11",
         "domain": [
          0.428,
          0.572
         ],
         "gridcolor": "#E1E5ED",
         "showgrid": false,
         "tickfont": {
          "color": "#4D5663"
         },
         "title": {
          "font": {
           "color": "#4D5663"
          },
          "text": ""
         },
         "zerolinecolor": "#E1E5ED"
        },
        "yaxis12": {
         "anchor": "x12",
         "domain": [
          0.428,
          0.572
         ],
         "gridcolor": "#E1E5ED",
         "showgrid": false,
         "tickfont": {
          "color": "#4D5663"
         },
         "title": {
          "font": {
           "color": "#4D5663"
          },
          "text": ""
         },
         "zerolinecolor": "#E1E5ED"
        },
        "yaxis13": {
         "anchor": "x13",
         "domain": [
          0.428,
          0.572
         ],
         "gridcolor": "#E1E5ED",
         "showgrid": false,
         "tickfont": {
          "color": "#4D5663"
         },
         "title": {
          "font": {
           "color": "#4D5663"
          },
          "text": ""
         },
         "zerolinecolor": "#E1E5ED"
        },
        "yaxis14": {
         "anchor": "x14",
         "domain": [
          0.428,
          0.572
         ],
         "gridcolor": "#E1E5ED",
         "showgrid": false,
         "tickfont": {
          "color": "#4D5663"
         },
         "title": {
          "font": {
           "color": "#4D5663"
          },
          "text": ""
         },
         "zerolinecolor": "#E1E5ED"
        },
        "yaxis15": {
         "anchor": "x15",
         "domain": [
          0.428,
          0.572
         ],
         "gridcolor": "#E1E5ED",
         "showgrid": false,
         "tickfont": {
          "color": "#4D5663"
         },
         "title": {
          "font": {
           "color": "#4D5663"
          },
          "text": ""
         },
         "zerolinecolor": "#E1E5ED"
        },
        "yaxis16": {
         "anchor": "x16",
         "domain": [
          0.214,
          0.358
         ],
         "gridcolor": "#E1E5ED",
         "showgrid": false,
         "tickfont": {
          "color": "#4D5663"
         },
         "title": {
          "font": {
           "color": "#4D5663"
          },
          "text": ""
         },
         "zerolinecolor": "#E1E5ED"
        },
        "yaxis17": {
         "anchor": "x17",
         "domain": [
          0.214,
          0.358
         ],
         "gridcolor": "#E1E5ED",
         "showgrid": false,
         "tickfont": {
          "color": "#4D5663"
         },
         "title": {
          "font": {
           "color": "#4D5663"
          },
          "text": ""
         },
         "zerolinecolor": "#E1E5ED"
        },
        "yaxis18": {
         "anchor": "x18",
         "domain": [
          0.214,
          0.358
         ],
         "gridcolor": "#E1E5ED",
         "showgrid": false,
         "tickfont": {
          "color": "#4D5663"
         },
         "title": {
          "font": {
           "color": "#4D5663"
          },
          "text": ""
         },
         "zerolinecolor": "#E1E5ED"
        },
        "yaxis19": {
         "anchor": "x19",
         "domain": [
          0.214,
          0.358
         ],
         "gridcolor": "#E1E5ED",
         "showgrid": false,
         "tickfont": {
          "color": "#4D5663"
         },
         "title": {
          "font": {
           "color": "#4D5663"
          },
          "text": ""
         },
         "zerolinecolor": "#E1E5ED"
        },
        "yaxis2": {
         "anchor": "x2",
         "domain": [
          0.856,
          1
         ],
         "gridcolor": "#E1E5ED",
         "showgrid": false,
         "tickfont": {
          "color": "#4D5663"
         },
         "title": {
          "font": {
           "color": "#4D5663"
          },
          "text": ""
         },
         "zerolinecolor": "#E1E5ED"
        },
        "yaxis20": {
         "anchor": "x20",
         "domain": [
          0.214,
          0.358
         ],
         "gridcolor": "#E1E5ED",
         "showgrid": false,
         "tickfont": {
          "color": "#4D5663"
         },
         "title": {
          "font": {
           "color": "#4D5663"
          },
          "text": ""
         },
         "zerolinecolor": "#E1E5ED"
        },
        "yaxis21": {
         "anchor": "x21",
         "domain": [
          0,
          0.144
         ],
         "gridcolor": "#E1E5ED",
         "showgrid": false,
         "tickfont": {
          "color": "#4D5663"
         },
         "title": {
          "font": {
           "color": "#4D5663"
          },
          "text": ""
         },
         "zerolinecolor": "#E1E5ED"
        },
        "yaxis22": {
         "anchor": "x22",
         "domain": [
          0,
          0.144
         ],
         "gridcolor": "#E1E5ED",
         "showgrid": false,
         "tickfont": {
          "color": "#4D5663"
         },
         "title": {
          "font": {
           "color": "#4D5663"
          },
          "text": ""
         },
         "zerolinecolor": "#E1E5ED"
        },
        "yaxis23": {
         "anchor": "x23",
         "domain": [
          0,
          0.144
         ],
         "gridcolor": "#E1E5ED",
         "showgrid": false,
         "tickfont": {
          "color": "#4D5663"
         },
         "title": {
          "font": {
           "color": "#4D5663"
          },
          "text": ""
         },
         "zerolinecolor": "#E1E5ED"
        },
        "yaxis24": {
         "anchor": "x24",
         "domain": [
          0,
          0.144
         ],
         "gridcolor": "#E1E5ED",
         "showgrid": false,
         "tickfont": {
          "color": "#4D5663"
         },
         "title": {
          "font": {
           "color": "#4D5663"
          },
          "text": ""
         },
         "zerolinecolor": "#E1E5ED"
        },
        "yaxis25": {
         "anchor": "x25",
         "domain": [
          0,
          0.144
         ],
         "gridcolor": "#E1E5ED",
         "showgrid": false,
         "tickfont": {
          "color": "#4D5663"
         },
         "title": {
          "font": {
           "color": "#4D5663"
          },
          "text": ""
         },
         "zerolinecolor": "#E1E5ED"
        },
        "yaxis3": {
         "anchor": "x3",
         "domain": [
          0.856,
          1
         ],
         "gridcolor": "#E1E5ED",
         "showgrid": false,
         "tickfont": {
          "color": "#4D5663"
         },
         "title": {
          "font": {
           "color": "#4D5663"
          },
          "text": ""
         },
         "zerolinecolor": "#E1E5ED"
        },
        "yaxis4": {
         "anchor": "x4",
         "domain": [
          0.856,
          1
         ],
         "gridcolor": "#E1E5ED",
         "showgrid": false,
         "tickfont": {
          "color": "#4D5663"
         },
         "title": {
          "font": {
           "color": "#4D5663"
          },
          "text": ""
         },
         "zerolinecolor": "#E1E5ED"
        },
        "yaxis5": {
         "anchor": "x5",
         "domain": [
          0.856,
          1
         ],
         "gridcolor": "#E1E5ED",
         "showgrid": false,
         "tickfont": {
          "color": "#4D5663"
         },
         "title": {
          "font": {
           "color": "#4D5663"
          },
          "text": ""
         },
         "zerolinecolor": "#E1E5ED"
        },
        "yaxis6": {
         "anchor": "x6",
         "domain": [
          0.6419999999999999,
          0.7859999999999999
         ],
         "gridcolor": "#E1E5ED",
         "showgrid": false,
         "tickfont": {
          "color": "#4D5663"
         },
         "title": {
          "font": {
           "color": "#4D5663"
          },
          "text": ""
         },
         "zerolinecolor": "#E1E5ED"
        },
        "yaxis7": {
         "anchor": "x7",
         "domain": [
          0.6419999999999999,
          0.7859999999999999
         ],
         "gridcolor": "#E1E5ED",
         "showgrid": false,
         "tickfont": {
          "color": "#4D5663"
         },
         "title": {
          "font": {
           "color": "#4D5663"
          },
          "text": ""
         },
         "zerolinecolor": "#E1E5ED"
        },
        "yaxis8": {
         "anchor": "x8",
         "domain": [
          0.6419999999999999,
          0.7859999999999999
         ],
         "gridcolor": "#E1E5ED",
         "showgrid": false,
         "tickfont": {
          "color": "#4D5663"
         },
         "title": {
          "font": {
           "color": "#4D5663"
          },
          "text": ""
         },
         "zerolinecolor": "#E1E5ED"
        },
        "yaxis9": {
         "anchor": "x9",
         "domain": [
          0.6419999999999999,
          0.7859999999999999
         ],
         "gridcolor": "#E1E5ED",
         "showgrid": false,
         "tickfont": {
          "color": "#4D5663"
         },
         "title": {
          "font": {
           "color": "#4D5663"
          },
          "text": ""
         },
         "zerolinecolor": "#E1E5ED"
        }
       }
      },
      "text/html": "<div>\n        \n        \n            <div id=\"e5fce2e9-8343-4b87-bcf5-43bc2e728cbe\" class=\"plotly-graph-div\" style=\"height:525px; width:100%;\"></div>\n            <script type=\"text/javascript\">\n                require([\"plotly\"], function(Plotly) {\n                    window.PLOTLYENV=window.PLOTLYENV || {};\n                    window.PLOTLYENV.BASE_URL='https://plot.ly';\n                    \n                if (document.getElementById(\"e5fce2e9-8343-4b87-bcf5-43bc2e728cbe\")) {\n                    Plotly.newPlot(\n                        'e5fce2e9-8343-4b87-bcf5-43bc2e728cbe',\n                        [{\"histfunc\": \"count\", \"histnorm\": \"\", \"marker\": {\"color\": \"rgba(255, 153, 51, 1.0)\", \"line\": {\"color\": \"#4D5663\", \"width\": 1.3}}, \"name\": \"a\", \"nbinsx\": 10, \"opacity\": 0.8, \"orientation\": \"v\", \"type\": \"histogram\", \"x\": [0.06664371620244847, 0.5407620947234574, 0.6689151881233841, 0.721092412348836, 0.3759797914497993, 0.39527735063052827, 0.4934522395805472, 0.855897801465149, 0.7374102580018511, 0.7287535440658456, 0.9087893119029362, 0.0389729107276543, 0.9131979511127855, 0.40962089859421325, 0.47657514104573917, 0.08720299353607297, 0.13690164698888896, 0.5035481247163679, 0.266135761384094, 0.6549949357531493, 0.08051241257947772, 0.9214281008363931, 0.2829524471881053, 0.6527173363263697, 0.18800592724027765, 0.5581934203599891, 0.56098202587155, 0.4601468637306919, 0.7818563913340485, 0.5536017893406393, 0.2076552401035373, 0.35928237992313494, 0.6587218084028461, 0.811613083395124, 0.25420805654115597, 0.6840002810466673, 0.6111164582393296, 0.2938576195012119, 0.5111691101046774, 0.3875542277771037, 0.7451045436127167, 0.9501473884996332, 0.004498032004161545, 0.5092605688140478, 0.6564632643610027, 0.6201931780594065, 0.6842706981054051, 0.2709670378722623, 0.2120575730857116, 0.8134311075392741, 0.24116333321833616, 0.23103251700435679, 0.008515506141043239, 0.39050763129267874, 0.029665479583302568, 0.3045989776296153, 0.26725801998027643, 0.26039194932627807, 0.12224282846630519, 0.6330862699036091, 0.5457474773327132, 0.4180438341797862, 0.46736457227967254, 0.2185566342291806, 0.08059260147056657, 0.38368185010623335, 0.3086118649520281, 0.2908710248091253, 0.21329586658150246, 0.15006898078339448, 0.5450323688265107, 0.5531789726038746, 0.9480092589771546, 0.061642493465942194, 0.4105801261150056, 0.6296851450210539, 0.6368558770397965, 0.01642034253496527, 0.30064919685985814, 0.1130722453206362, 0.9458354659747372, 0.631307464603639, 0.6938179081613992, 0.8876160139563236, 0.2637635757689851, 0.7855477777304667, 0.22261139352906356, 0.004728933024584991, 0.9885717734657872, 0.6468037364293703, 0.8205938194632254, 0.46987932516763353, 0.10891344024228955, 0.5532588345858189, 0.3828403044919656, 0.6048392490123118, 0.12306666157306034, 0.7889998286430977, 0.9125580422545567, 0.013538786394112545], \"xaxis\": \"x\", \"yaxis\": \"y\"}, {\"line\": {\"color\": \"rgba(128, 128, 128, 1.0)\", \"dash\": \"solid\", \"shape\": \"linear\", \"width\": 1.3}, \"marker\": {\"size\": 2, \"symbol\": \"circle\"}, \"mode\": \"markers\", \"name\": \"a\", \"text\": \"\", \"type\": \"scatter\", \"x\": [0.1708528654602024, 0.7947643961159381, 0.12666139207012694, 0.3704731100280987, 0.4268231835968821, 0.35764351148766405, 0.2305666365210597, 0.5538324288018692, 0.594848156221167, 0.9200479583746664, 0.07590398582031088, 0.9671854096015232, 0.7125727126759903, 0.8271226920363048, 0.7927056070623242, 0.8726781316595718, 0.8439521568895053, 0.09259317145482682, 0.23178163096381899, 0.09344484466459091, 0.5209866753943617, 0.2827883678792852, 0.7060326111475312, 0.8269352626736227, 0.07581189650262699, 0.5534557276357995, 0.4709639927533994, 0.5077795018414701, 0.8146512167413209, 0.0632160619388743, 0.3784684778530909, 0.11831403628208981, 0.6604793256512019, 0.8508837419021006, 0.07326909011979632, 0.1707061886641288, 0.24602297556450203, 0.32942390765767826, 0.7827689079006152, 0.5707580434972809, 0.4557217240085497, 0.3213546954349775, 0.959796038755243, 0.6792786524938019, 0.6221080084291316, 0.7916085199812986, 0.196691226645063, 0.23166202663976354, 0.9871650353364658, 0.5609852351224877, 0.23060749190256702, 0.6030149483879629, 0.5418942503693233, 0.8313579981419337, 0.5005334875818716, 0.17581835788597155, 0.06043898969061501, 0.1513690889963779, 0.4965519044757296, 0.6845533661268685, 0.9632402423903895, 0.15123322447511456, 0.05491020331362695, 0.06992307697450528, 0.9251471556135247, 0.07302669974492837, 0.8412452325410701, 0.052016817071149024, 0.8937151859836213, 0.7394998538110885, 0.3726497227625558, 0.6433686562554597, 0.7862230059861702, 0.8116612066335772, 0.38686238605025935, 0.3060482999038615, 0.6352252249607443, 0.7774964614027035, 0.7629484316044388, 0.987975440479305, 0.8664798150644375, 0.020203965710475558, 0.3398395293157366, 0.1122650337145874, 0.07152937015646599, 0.5787200279474213, 0.6593323504043507, 0.37568271757463945, 0.6662653070220816, 0.7340273240332108, 0.8256606515853963, 0.6375461978363576, 0.8841503987586986, 0.7621034473804962, 0.04889787877109286, 0.0060500550690697485, 0.4195028769104727, 0.209559422638408, 0.044830301159018204, 0.7621977253010859], \"xaxis\": \"x2\", \"y\": [0.06664371620244847, 0.5407620947234574, 0.6689151881233841, 0.721092412348836, 0.3759797914497993, 0.39527735063052827, 0.4934522395805472, 0.855897801465149, 0.7374102580018511, 0.7287535440658456, 0.9087893119029362, 0.0389729107276543, 0.9131979511127855, 0.40962089859421325, 0.47657514104573917, 0.08720299353607297, 0.13690164698888896, 0.5035481247163679, 0.266135761384094, 0.6549949357531493, 0.08051241257947772, 0.9214281008363931, 0.2829524471881053, 0.6527173363263697, 0.18800592724027765, 0.5581934203599891, 0.56098202587155, 0.4601468637306919, 0.7818563913340485, 0.5536017893406393, 0.2076552401035373, 0.35928237992313494, 0.6587218084028461, 0.811613083395124, 0.25420805654115597, 0.6840002810466673, 0.6111164582393296, 0.2938576195012119, 0.5111691101046774, 0.3875542277771037, 0.7451045436127167, 0.9501473884996332, 0.004498032004161545, 0.5092605688140478, 0.6564632643610027, 0.6201931780594065, 0.6842706981054051, 0.2709670378722623, 0.2120575730857116, 0.8134311075392741, 0.24116333321833616, 0.23103251700435679, 0.008515506141043239, 0.39050763129267874, 0.029665479583302568, 0.3045989776296153, 0.26725801998027643, 0.26039194932627807, 0.12224282846630519, 0.6330862699036091, 0.5457474773327132, 0.4180438341797862, 0.46736457227967254, 0.2185566342291806, 0.08059260147056657, 0.38368185010623335, 0.3086118649520281, 0.2908710248091253, 0.21329586658150246, 0.15006898078339448, 0.5450323688265107, 0.5531789726038746, 0.9480092589771546, 0.061642493465942194, 0.4105801261150056, 0.6296851450210539, 0.6368558770397965, 0.01642034253496527, 0.30064919685985814, 0.1130722453206362, 0.9458354659747372, 0.631307464603639, 0.6938179081613992, 0.8876160139563236, 0.2637635757689851, 0.7855477777304667, 0.22261139352906356, 0.004728933024584991, 0.9885717734657872, 0.6468037364293703, 0.8205938194632254, 0.46987932516763353, 0.10891344024228955, 0.5532588345858189, 0.3828403044919656, 0.6048392490123118, 0.12306666157306034, 0.7889998286430977, 0.9125580422545567, 0.013538786394112545], \"yaxis\": \"y2\"}, {\"line\": {\"color\": \"rgba(128, 128, 128, 1.0)\", \"dash\": \"solid\", \"shape\": \"linear\", \"width\": 1.3}, \"marker\": {\"size\": 2, \"symbol\": \"circle\"}, \"mode\": \"markers\", \"name\": \"a\", \"text\": \"\", \"type\": \"scatter\", \"x\": [0.6049675436787881, 0.26331913223246295, 0.7093497387667826, 0.8302857557323808, 0.48628347640271563, 0.5522401841546365, 0.7228291561339886, 0.3503155514198716, 0.9914397301772295, 0.3954321460490898, 0.7843116835894328, 0.8098075082347174, 0.5932842876821278, 0.02674830381482962, 0.4766817949581674, 0.23002742439608903, 0.4602265437259899, 0.5296780990255819, 0.6942283623392663, 0.6045974354017074, 0.8693925106877225, 0.1021380012277443, 0.7117917702159499, 0.7969334337405094, 0.2717788438852057, 0.43278204581902957, 0.3045708377684585, 0.2282920528355673, 0.04597442807158014, 0.26481441120906113, 0.5211219007698088, 0.27106703862801573, 0.28702898825297607, 0.9765162555913119, 0.008257253692387834, 0.5447918657135943, 0.21141605255341878, 0.09488071847727797, 0.9043563093859569, 0.288312049701824, 0.7012557608593932, 0.7256966546072516, 0.9648880018708532, 0.08717577188783832, 0.4642191069010462, 0.549304958948628, 0.7012884961099369, 0.6533582657360641, 0.6276470849845789, 0.9648159983530032, 0.15600081458444204, 0.5406290404996967, 0.8863212327369236, 0.1677634545916583, 0.5178539995027887, 0.3458429211423141, 0.1448387562693667, 0.381641212123084, 0.3032667861950964, 0.44372221360820363, 0.5546848039087976, 0.9720986463159164, 0.7225295342207287, 0.8947220777447558, 0.9939324520057288, 0.3263708279645252, 0.0389664589280303, 0.3158165877803921, 0.04255771826746191, 0.1849139335235478, 0.3255720367741921, 0.5113739914773018, 0.16448770269175927, 0.6566682569750413, 0.5776520171077744, 0.39676481813118003, 0.8791928748221031, 0.22739878817605397, 0.06252907684031028, 0.6272718635098893, 0.11487809601356624, 0.06732377536573741, 0.5171878499166007, 0.9172784823751415, 0.8984754395357885, 0.6360555404818192, 0.40243266758619434, 0.2475992299753933, 0.1669422365112384, 0.1906078764389888, 0.9050301876983026, 0.13610968306657167, 0.608100963689494, 0.533425961720379, 0.3415471049417095, 0.8586314676846226, 0.9259990637093486, 0.9634106051485283, 0.02013274749745053, 0.840859076418451], \"xaxis\": \"x3\", \"y\": [0.06664371620244847, 0.5407620947234574, 0.6689151881233841, 0.721092412348836, 0.3759797914497993, 0.39527735063052827, 0.4934522395805472, 0.855897801465149, 0.7374102580018511, 0.7287535440658456, 0.9087893119029362, 0.0389729107276543, 0.9131979511127855, 0.40962089859421325, 0.47657514104573917, 0.08720299353607297, 0.13690164698888896, 0.5035481247163679, 0.266135761384094, 0.6549949357531493, 0.08051241257947772, 0.9214281008363931, 0.2829524471881053, 0.6527173363263697, 0.18800592724027765, 0.5581934203599891, 0.56098202587155, 0.4601468637306919, 0.7818563913340485, 0.5536017893406393, 0.2076552401035373, 0.35928237992313494, 0.6587218084028461, 0.811613083395124, 0.25420805654115597, 0.6840002810466673, 0.6111164582393296, 0.2938576195012119, 0.5111691101046774, 0.3875542277771037, 0.7451045436127167, 0.9501473884996332, 0.004498032004161545, 0.5092605688140478, 0.6564632643610027, 0.6201931780594065, 0.6842706981054051, 0.2709670378722623, 0.2120575730857116, 0.8134311075392741, 0.24116333321833616, 0.23103251700435679, 0.008515506141043239, 0.39050763129267874, 0.029665479583302568, 0.3045989776296153, 0.26725801998027643, 0.26039194932627807, 0.12224282846630519, 0.6330862699036091, 0.5457474773327132, 0.4180438341797862, 0.46736457227967254, 0.2185566342291806, 0.08059260147056657, 0.38368185010623335, 0.3086118649520281, 0.2908710248091253, 0.21329586658150246, 0.15006898078339448, 0.5450323688265107, 0.5531789726038746, 0.9480092589771546, 0.061642493465942194, 0.4105801261150056, 0.6296851450210539, 0.6368558770397965, 0.01642034253496527, 0.30064919685985814, 0.1130722453206362, 0.9458354659747372, 0.631307464603639, 0.6938179081613992, 0.8876160139563236, 0.2637635757689851, 0.7855477777304667, 0.22261139352906356, 0.004728933024584991, 0.9885717734657872, 0.6468037364293703, 0.8205938194632254, 0.46987932516763353, 0.10891344024228955, 0.5532588345858189, 0.3828403044919656, 0.6048392490123118, 0.12306666157306034, 0.7889998286430977, 0.9125580422545567, 0.013538786394112545], \"yaxis\": \"y3\"}, {\"line\": {\"color\": \"rgba(128, 128, 128, 1.0)\", \"dash\": \"solid\", \"shape\": \"linear\", \"width\": 1.3}, \"marker\": {\"size\": 2, \"symbol\": \"circle\"}, \"mode\": \"markers\", \"name\": \"a\", \"text\": \"\", \"type\": \"scatter\", \"x\": [0.0944209317690835, 0.27888666415576524, 0.8971027826540451, 0.9703086965990342, 0.8817130309071713, 0.09213840503236637, 0.2506508366662863, 0.34751131338191643, 0.5632382537529974, 0.7839079806829057, 0.14136094541839772, 0.1239181574356889, 0.5183709155587094, 0.8879671011492536, 0.8862415126627536, 0.8273976397723527, 0.9681081716610408, 0.6508327487564848, 0.4882846998643292, 0.2111779063802618, 0.429923493368606, 0.053978396884075575, 0.6752913629339222, 0.818297863533424, 0.10834792608354837, 0.7416729809867745, 0.3628775786642817, 0.012018942217303707, 0.7945365042022574, 0.18279967366125482, 0.08793474635131249, 0.28965013916749427, 0.3867428066940999, 0.47335651636728804, 0.9712780949068064, 0.2695543242698041, 0.5920388619175281, 0.8329440168983173, 0.5821376074664862, 0.7341441427248303, 0.6227624864398681, 0.6250052644894432, 0.694038336600421, 0.8832295899648193, 0.6707685780149996, 0.38746302379405706, 0.8033371860928065, 0.5236804851053737, 0.77120374541525, 0.604409150379552, 0.987876295354519, 0.09435569749284856, 0.8072141448542798, 0.5435456856502564, 0.30227499214234754, 0.3214213942919856, 0.8702064837054988, 0.12449571669631243, 0.48026960273559016, 0.45892143122601836, 0.8007569335567352, 0.4519647917046654, 0.7658123844705579, 0.9790941401922512, 0.22129019065848288, 0.8548704194015775, 0.14665882650627815, 0.9265345989674076, 0.26461309397666444, 0.5502597317163734, 0.2839928253284473, 0.7089222343874108, 0.49096149864752403, 0.32516205928596875, 0.03897640035641359, 0.3017764549665125, 0.6906203045462328, 0.7351264083570286, 0.2311181454583905, 0.06924175796310938, 0.6003762149625248, 0.7739289795749544, 0.27240372360692, 0.5774631792329177, 0.9215225335910446, 0.12239180219434853, 0.7578831314505952, 0.2750102253255118, 0.398221968230527, 0.952935903177787, 0.7242616900052973, 0.11175707736807117, 0.5597984111910187, 0.017122938015978084, 0.287362995132462, 0.6575270669889517, 0.6494382732812658, 0.3225819514359911, 0.31842776744005963, 0.2227059466347322], \"xaxis\": \"x4\", \"y\": [0.06664371620244847, 0.5407620947234574, 0.6689151881233841, 0.721092412348836, 0.3759797914497993, 0.39527735063052827, 0.4934522395805472, 0.855897801465149, 0.7374102580018511, 0.7287535440658456, 0.9087893119029362, 0.0389729107276543, 0.9131979511127855, 0.40962089859421325, 0.47657514104573917, 0.08720299353607297, 0.13690164698888896, 0.5035481247163679, 0.266135761384094, 0.6549949357531493, 0.08051241257947772, 0.9214281008363931, 0.2829524471881053, 0.6527173363263697, 0.18800592724027765, 0.5581934203599891, 0.56098202587155, 0.4601468637306919, 0.7818563913340485, 0.5536017893406393, 0.2076552401035373, 0.35928237992313494, 0.6587218084028461, 0.811613083395124, 0.25420805654115597, 0.6840002810466673, 0.6111164582393296, 0.2938576195012119, 0.5111691101046774, 0.3875542277771037, 0.7451045436127167, 0.9501473884996332, 0.004498032004161545, 0.5092605688140478, 0.6564632643610027, 0.6201931780594065, 0.6842706981054051, 0.2709670378722623, 0.2120575730857116, 0.8134311075392741, 0.24116333321833616, 0.23103251700435679, 0.008515506141043239, 0.39050763129267874, 0.029665479583302568, 0.3045989776296153, 0.26725801998027643, 0.26039194932627807, 0.12224282846630519, 0.6330862699036091, 0.5457474773327132, 0.4180438341797862, 0.46736457227967254, 0.2185566342291806, 0.08059260147056657, 0.38368185010623335, 0.3086118649520281, 0.2908710248091253, 0.21329586658150246, 0.15006898078339448, 0.5450323688265107, 0.5531789726038746, 0.9480092589771546, 0.061642493465942194, 0.4105801261150056, 0.6296851450210539, 0.6368558770397965, 0.01642034253496527, 0.30064919685985814, 0.1130722453206362, 0.9458354659747372, 0.631307464603639, 0.6938179081613992, 0.8876160139563236, 0.2637635757689851, 0.7855477777304667, 0.22261139352906356, 0.004728933024584991, 0.9885717734657872, 0.6468037364293703, 0.8205938194632254, 0.46987932516763353, 0.10891344024228955, 0.5532588345858189, 0.3828403044919656, 0.6048392490123118, 0.12306666157306034, 0.7889998286430977, 0.9125580422545567, 0.013538786394112545], \"yaxis\": \"y4\"}, {\"line\": {\"color\": \"rgba(128, 128, 128, 1.0)\", \"dash\": \"solid\", \"shape\": \"linear\", \"width\": 1.3}, \"marker\": {\"size\": 2, \"symbol\": \"circle\"}, \"mode\": \"markers\", \"name\": \"a\", \"text\": \"\", \"type\": \"scatter\", \"x\": [0.6386248483159467, 0.5230234794175541, 0.334425400642009, 0.14111906583561784, 0.5436551242044353, 0.057507016432407077, 0.12954892887776326, 0.9474162278384648, 0.8873319252212756, 0.0798116475475571, 0.6845187303329766, 0.9279149655444716, 0.5751229833911761, 0.5385265455177648, 0.41254552892304297, 0.7467804729749405, 0.7303742318613662, 0.19959853092484137, 0.9148640423520675, 0.8952233533479554, 0.3587099037823809, 0.8947079475764166, 0.7527801623028844, 0.43988726169127124, 0.979617189922973, 0.5981527430743774, 0.6613938719103097, 0.9096486529907447, 0.9040336650769615, 0.16372620539699945, 0.8322795437762803, 0.544529289185489, 0.490062206093244, 0.6259842236675176, 0.04725902504622792, 0.3140694265487689, 0.6127478881057613, 0.5722154499196853, 0.8374012010977401, 0.1400318206160982, 0.37280908452990746, 0.6661735631596962, 0.6925771504123995, 0.3853243054847725, 0.6508946678902378, 0.1700645517449968, 0.5857517349687471, 0.1079471753868666, 0.4120106730585339, 0.42498087958855335, 0.47051532678457186, 0.02972428590138876, 0.8474471912941407, 0.22001161029189775, 0.15420345160899263, 0.22976532588681176, 0.3369691691451099, 0.9176119660182019, 0.011858422487131981, 0.010595137724684345, 0.7029634195276654, 0.9154269395651924, 0.048411896943233224, 0.37245727074263757, 0.0970408691674347, 0.628711412980803, 0.1650999098586574, 0.9866845038179446, 0.93974413929864, 0.6074254936914476, 0.881871442159823, 0.484109551417512, 0.7605425257232539, 0.23709920904711146, 0.9376266121601954, 0.3520017586732076, 0.9009032391342261, 0.3524375275421264, 0.6525345794432336, 0.2802068582966859, 0.9769727521546657, 0.6925087981863739, 0.06564350783284423, 0.38019462296902584, 0.11830225307683995, 0.5464968311252386, 0.6515165595388999, 0.5763863815496948, 0.04558971712433424, 0.1096354810225646, 0.13246756152069228, 0.4098089587672449, 0.6538457126437346, 0.823988445540373, 0.451042162777353, 0.3730107195331247, 0.13183630769941235, 0.28695527760987427, 0.6429468693737694, 0.7815839940458188], \"xaxis\": \"x5\", \"y\": [0.06664371620244847, 0.5407620947234574, 0.6689151881233841, 0.721092412348836, 0.3759797914497993, 0.39527735063052827, 0.4934522395805472, 0.855897801465149, 0.7374102580018511, 0.7287535440658456, 0.9087893119029362, 0.0389729107276543, 0.9131979511127855, 0.40962089859421325, 0.47657514104573917, 0.08720299353607297, 0.13690164698888896, 0.5035481247163679, 0.266135761384094, 0.6549949357531493, 0.08051241257947772, 0.9214281008363931, 0.2829524471881053, 0.6527173363263697, 0.18800592724027765, 0.5581934203599891, 0.56098202587155, 0.4601468637306919, 0.7818563913340485, 0.5536017893406393, 0.2076552401035373, 0.35928237992313494, 0.6587218084028461, 0.811613083395124, 0.25420805654115597, 0.6840002810466673, 0.6111164582393296, 0.2938576195012119, 0.5111691101046774, 0.3875542277771037, 0.7451045436127167, 0.9501473884996332, 0.004498032004161545, 0.5092605688140478, 0.6564632643610027, 0.6201931780594065, 0.6842706981054051, 0.2709670378722623, 0.2120575730857116, 0.8134311075392741, 0.24116333321833616, 0.23103251700435679, 0.008515506141043239, 0.39050763129267874, 0.029665479583302568, 0.3045989776296153, 0.26725801998027643, 0.26039194932627807, 0.12224282846630519, 0.6330862699036091, 0.5457474773327132, 0.4180438341797862, 0.46736457227967254, 0.2185566342291806, 0.08059260147056657, 0.38368185010623335, 0.3086118649520281, 0.2908710248091253, 0.21329586658150246, 0.15006898078339448, 0.5450323688265107, 0.5531789726038746, 0.9480092589771546, 0.061642493465942194, 0.4105801261150056, 0.6296851450210539, 0.6368558770397965, 0.01642034253496527, 0.30064919685985814, 0.1130722453206362, 0.9458354659747372, 0.631307464603639, 0.6938179081613992, 0.8876160139563236, 0.2637635757689851, 0.7855477777304667, 0.22261139352906356, 0.004728933024584991, 0.9885717734657872, 0.6468037364293703, 0.8205938194632254, 0.46987932516763353, 0.10891344024228955, 0.5532588345858189, 0.3828403044919656, 0.6048392490123118, 0.12306666157306034, 0.7889998286430977, 0.9125580422545567, 0.013538786394112545], \"yaxis\": \"y5\"}, {\"line\": {\"color\": \"rgba(128, 128, 128, 1.0)\", \"dash\": \"solid\", \"shape\": \"linear\", \"width\": 1.3}, \"marker\": {\"size\": 2, \"symbol\": \"circle\"}, \"mode\": \"markers\", \"name\": \"b\", \"text\": \"\", \"type\": \"scatter\", \"x\": [0.06664371620244847, 0.5407620947234574, 0.6689151881233841, 0.721092412348836, 0.3759797914497993, 0.39527735063052827, 0.4934522395805472, 0.855897801465149, 0.7374102580018511, 0.7287535440658456, 0.9087893119029362, 0.0389729107276543, 0.9131979511127855, 0.40962089859421325, 0.47657514104573917, 0.08720299353607297, 0.13690164698888896, 0.5035481247163679, 0.266135761384094, 0.6549949357531493, 0.08051241257947772, 0.9214281008363931, 0.2829524471881053, 0.6527173363263697, 0.18800592724027765, 0.5581934203599891, 0.56098202587155, 0.4601468637306919, 0.7818563913340485, 0.5536017893406393, 0.2076552401035373, 0.35928237992313494, 0.6587218084028461, 0.811613083395124, 0.25420805654115597, 0.6840002810466673, 0.6111164582393296, 0.2938576195012119, 0.5111691101046774, 0.3875542277771037, 0.7451045436127167, 0.9501473884996332, 0.004498032004161545, 0.5092605688140478, 0.6564632643610027, 0.6201931780594065, 0.6842706981054051, 0.2709670378722623, 0.2120575730857116, 0.8134311075392741, 0.24116333321833616, 0.23103251700435679, 0.008515506141043239, 0.39050763129267874, 0.029665479583302568, 0.3045989776296153, 0.26725801998027643, 0.26039194932627807, 0.12224282846630519, 0.6330862699036091, 0.5457474773327132, 0.4180438341797862, 0.46736457227967254, 0.2185566342291806, 0.08059260147056657, 0.38368185010623335, 0.3086118649520281, 0.2908710248091253, 0.21329586658150246, 0.15006898078339448, 0.5450323688265107, 0.5531789726038746, 0.9480092589771546, 0.061642493465942194, 0.4105801261150056, 0.6296851450210539, 0.6368558770397965, 0.01642034253496527, 0.30064919685985814, 0.1130722453206362, 0.9458354659747372, 0.631307464603639, 0.6938179081613992, 0.8876160139563236, 0.2637635757689851, 0.7855477777304667, 0.22261139352906356, 0.004728933024584991, 0.9885717734657872, 0.6468037364293703, 0.8205938194632254, 0.46987932516763353, 0.10891344024228955, 0.5532588345858189, 0.3828403044919656, 0.6048392490123118, 0.12306666157306034, 0.7889998286430977, 0.9125580422545567, 0.013538786394112545], \"xaxis\": \"x6\", \"y\": [0.1708528654602024, 0.7947643961159381, 0.12666139207012694, 0.3704731100280987, 0.4268231835968821, 0.35764351148766405, 0.2305666365210597, 0.5538324288018692, 0.594848156221167, 0.9200479583746664, 0.07590398582031088, 0.9671854096015232, 0.7125727126759903, 0.8271226920363048, 0.7927056070623242, 0.8726781316595718, 0.8439521568895053, 0.09259317145482682, 0.23178163096381899, 0.09344484466459091, 0.5209866753943617, 0.2827883678792852, 0.7060326111475312, 0.8269352626736227, 0.07581189650262699, 0.5534557276357995, 0.4709639927533994, 0.5077795018414701, 0.8146512167413209, 0.0632160619388743, 0.3784684778530909, 0.11831403628208981, 0.6604793256512019, 0.8508837419021006, 0.07326909011979632, 0.1707061886641288, 0.24602297556450203, 0.32942390765767826, 0.7827689079006152, 0.5707580434972809, 0.4557217240085497, 0.3213546954349775, 0.959796038755243, 0.6792786524938019, 0.6221080084291316, 0.7916085199812986, 0.196691226645063, 0.23166202663976354, 0.9871650353364658, 0.5609852351224877, 0.23060749190256702, 0.6030149483879629, 0.5418942503693233, 0.8313579981419337, 0.5005334875818716, 0.17581835788597155, 0.06043898969061501, 0.1513690889963779, 0.4965519044757296, 0.6845533661268685, 0.9632402423903895, 0.15123322447511456, 0.05491020331362695, 0.06992307697450528, 0.9251471556135247, 0.07302669974492837, 0.8412452325410701, 0.052016817071149024, 0.8937151859836213, 0.7394998538110885, 0.3726497227625558, 0.6433686562554597, 0.7862230059861702, 0.8116612066335772, 0.38686238605025935, 0.3060482999038615, 0.6352252249607443, 0.7774964614027035, 0.7629484316044388, 0.987975440479305, 0.8664798150644375, 0.020203965710475558, 0.3398395293157366, 0.1122650337145874, 0.07152937015646599, 0.5787200279474213, 0.6593323504043507, 0.37568271757463945, 0.6662653070220816, 0.7340273240332108, 0.8256606515853963, 0.6375461978363576, 0.8841503987586986, 0.7621034473804962, 0.04889787877109286, 0.0060500550690697485, 0.4195028769104727, 0.209559422638408, 0.044830301159018204, 0.7621977253010859], \"yaxis\": \"y6\"}, {\"histfunc\": \"count\", \"histnorm\": \"\", \"marker\": {\"color\": \"rgba(55, 128, 191, 1.0)\", \"line\": {\"color\": \"#4D5663\", \"width\": 1.3}}, \"name\": \"b\", \"nbinsx\": 10, \"opacity\": 0.8, \"orientation\": \"v\", \"type\": \"histogram\", \"x\": [0.1708528654602024, 0.7947643961159381, 0.12666139207012694, 0.3704731100280987, 0.4268231835968821, 0.35764351148766405, 0.2305666365210597, 0.5538324288018692, 0.594848156221167, 0.9200479583746664, 0.07590398582031088, 0.9671854096015232, 0.7125727126759903, 0.8271226920363048, 0.7927056070623242, 0.8726781316595718, 0.8439521568895053, 0.09259317145482682, 0.23178163096381899, 0.09344484466459091, 0.5209866753943617, 0.2827883678792852, 0.7060326111475312, 0.8269352626736227, 0.07581189650262699, 0.5534557276357995, 0.4709639927533994, 0.5077795018414701, 0.8146512167413209, 0.0632160619388743, 0.3784684778530909, 0.11831403628208981, 0.6604793256512019, 0.8508837419021006, 0.07326909011979632, 0.1707061886641288, 0.24602297556450203, 0.32942390765767826, 0.7827689079006152, 0.5707580434972809, 0.4557217240085497, 0.3213546954349775, 0.959796038755243, 0.6792786524938019, 0.6221080084291316, 0.7916085199812986, 0.196691226645063, 0.23166202663976354, 0.9871650353364658, 0.5609852351224877, 0.23060749190256702, 0.6030149483879629, 0.5418942503693233, 0.8313579981419337, 0.5005334875818716, 0.17581835788597155, 0.06043898969061501, 0.1513690889963779, 0.4965519044757296, 0.6845533661268685, 0.9632402423903895, 0.15123322447511456, 0.05491020331362695, 0.06992307697450528, 0.9251471556135247, 0.07302669974492837, 0.8412452325410701, 0.052016817071149024, 0.8937151859836213, 0.7394998538110885, 0.3726497227625558, 0.6433686562554597, 0.7862230059861702, 0.8116612066335772, 0.38686238605025935, 0.3060482999038615, 0.6352252249607443, 0.7774964614027035, 0.7629484316044388, 0.987975440479305, 0.8664798150644375, 0.020203965710475558, 0.3398395293157366, 0.1122650337145874, 0.07152937015646599, 0.5787200279474213, 0.6593323504043507, 0.37568271757463945, 0.6662653070220816, 0.7340273240332108, 0.8256606515853963, 0.6375461978363576, 0.8841503987586986, 0.7621034473804962, 0.04889787877109286, 0.0060500550690697485, 0.4195028769104727, 0.209559422638408, 0.044830301159018204, 0.7621977253010859], \"xaxis\": \"x7\", \"yaxis\": \"y7\"}, {\"line\": {\"color\": \"rgba(128, 128, 128, 1.0)\", \"dash\": \"solid\", \"shape\": \"linear\", \"width\": 1.3}, \"marker\": {\"size\": 2, \"symbol\": \"circle\"}, \"mode\": \"markers\", \"name\": \"b\", \"text\": \"\", \"type\": \"scatter\", \"x\": [0.6049675436787881, 0.26331913223246295, 0.7093497387667826, 0.8302857557323808, 0.48628347640271563, 0.5522401841546365, 0.7228291561339886, 0.3503155514198716, 0.9914397301772295, 0.3954321460490898, 0.7843116835894328, 0.8098075082347174, 0.5932842876821278, 0.02674830381482962, 0.4766817949581674, 0.23002742439608903, 0.4602265437259899, 0.5296780990255819, 0.6942283623392663, 0.6045974354017074, 0.8693925106877225, 0.1021380012277443, 0.7117917702159499, 0.7969334337405094, 0.2717788438852057, 0.43278204581902957, 0.3045708377684585, 0.2282920528355673, 0.04597442807158014, 0.26481441120906113, 0.5211219007698088, 0.27106703862801573, 0.28702898825297607, 0.9765162555913119, 0.008257253692387834, 0.5447918657135943, 0.21141605255341878, 0.09488071847727797, 0.9043563093859569, 0.288312049701824, 0.7012557608593932, 0.7256966546072516, 0.9648880018708532, 0.08717577188783832, 0.4642191069010462, 0.549304958948628, 0.7012884961099369, 0.6533582657360641, 0.6276470849845789, 0.9648159983530032, 0.15600081458444204, 0.5406290404996967, 0.8863212327369236, 0.1677634545916583, 0.5178539995027887, 0.3458429211423141, 0.1448387562693667, 0.381641212123084, 0.3032667861950964, 0.44372221360820363, 0.5546848039087976, 0.9720986463159164, 0.7225295342207287, 0.8947220777447558, 0.9939324520057288, 0.3263708279645252, 0.0389664589280303, 0.3158165877803921, 0.04255771826746191, 0.1849139335235478, 0.3255720367741921, 0.5113739914773018, 0.16448770269175927, 0.6566682569750413, 0.5776520171077744, 0.39676481813118003, 0.8791928748221031, 0.22739878817605397, 0.06252907684031028, 0.6272718635098893, 0.11487809601356624, 0.06732377536573741, 0.5171878499166007, 0.9172784823751415, 0.8984754395357885, 0.6360555404818192, 0.40243266758619434, 0.2475992299753933, 0.1669422365112384, 0.1906078764389888, 0.9050301876983026, 0.13610968306657167, 0.608100963689494, 0.533425961720379, 0.3415471049417095, 0.8586314676846226, 0.9259990637093486, 0.9634106051485283, 0.02013274749745053, 0.840859076418451], \"xaxis\": \"x8\", \"y\": [0.1708528654602024, 0.7947643961159381, 0.12666139207012694, 0.3704731100280987, 0.4268231835968821, 0.35764351148766405, 0.2305666365210597, 0.5538324288018692, 0.594848156221167, 0.9200479583746664, 0.07590398582031088, 0.9671854096015232, 0.7125727126759903, 0.8271226920363048, 0.7927056070623242, 0.8726781316595718, 0.8439521568895053, 0.09259317145482682, 0.23178163096381899, 0.09344484466459091, 0.5209866753943617, 0.2827883678792852, 0.7060326111475312, 0.8269352626736227, 0.07581189650262699, 0.5534557276357995, 0.4709639927533994, 0.5077795018414701, 0.8146512167413209, 0.0632160619388743, 0.3784684778530909, 0.11831403628208981, 0.6604793256512019, 0.8508837419021006, 0.07326909011979632, 0.1707061886641288, 0.24602297556450203, 0.32942390765767826, 0.7827689079006152, 0.5707580434972809, 0.4557217240085497, 0.3213546954349775, 0.959796038755243, 0.6792786524938019, 0.6221080084291316, 0.7916085199812986, 0.196691226645063, 0.23166202663976354, 0.9871650353364658, 0.5609852351224877, 0.23060749190256702, 0.6030149483879629, 0.5418942503693233, 0.8313579981419337, 0.5005334875818716, 0.17581835788597155, 0.06043898969061501, 0.1513690889963779, 0.4965519044757296, 0.6845533661268685, 0.9632402423903895, 0.15123322447511456, 0.05491020331362695, 0.06992307697450528, 0.9251471556135247, 0.07302669974492837, 0.8412452325410701, 0.052016817071149024, 0.8937151859836213, 0.7394998538110885, 0.3726497227625558, 0.6433686562554597, 0.7862230059861702, 0.8116612066335772, 0.38686238605025935, 0.3060482999038615, 0.6352252249607443, 0.7774964614027035, 0.7629484316044388, 0.987975440479305, 0.8664798150644375, 0.020203965710475558, 0.3398395293157366, 0.1122650337145874, 0.07152937015646599, 0.5787200279474213, 0.6593323504043507, 0.37568271757463945, 0.6662653070220816, 0.7340273240332108, 0.8256606515853963, 0.6375461978363576, 0.8841503987586986, 0.7621034473804962, 0.04889787877109286, 0.0060500550690697485, 0.4195028769104727, 0.209559422638408, 0.044830301159018204, 0.7621977253010859], \"yaxis\": \"y8\"}, {\"line\": {\"color\": \"rgba(128, 128, 128, 1.0)\", \"dash\": \"solid\", \"shape\": \"linear\", \"width\": 1.3}, \"marker\": {\"size\": 2, \"symbol\": \"circle\"}, \"mode\": \"markers\", \"name\": \"b\", \"text\": \"\", \"type\": \"scatter\", \"x\": [0.0944209317690835, 0.27888666415576524, 0.8971027826540451, 0.9703086965990342, 0.8817130309071713, 0.09213840503236637, 0.2506508366662863, 0.34751131338191643, 0.5632382537529974, 0.7839079806829057, 0.14136094541839772, 0.1239181574356889, 0.5183709155587094, 0.8879671011492536, 0.8862415126627536, 0.8273976397723527, 0.9681081716610408, 0.6508327487564848, 0.4882846998643292, 0.2111779063802618, 0.429923493368606, 0.053978396884075575, 0.6752913629339222, 0.818297863533424, 0.10834792608354837, 0.7416729809867745, 0.3628775786642817, 0.012018942217303707, 0.7945365042022574, 0.18279967366125482, 0.08793474635131249, 0.28965013916749427, 0.3867428066940999, 0.47335651636728804, 0.9712780949068064, 0.2695543242698041, 0.5920388619175281, 0.8329440168983173, 0.5821376074664862, 0.7341441427248303, 0.6227624864398681, 0.6250052644894432, 0.694038336600421, 0.8832295899648193, 0.6707685780149996, 0.38746302379405706, 0.8033371860928065, 0.5236804851053737, 0.77120374541525, 0.604409150379552, 0.987876295354519, 0.09435569749284856, 0.8072141448542798, 0.5435456856502564, 0.30227499214234754, 0.3214213942919856, 0.8702064837054988, 0.12449571669631243, 0.48026960273559016, 0.45892143122601836, 0.8007569335567352, 0.4519647917046654, 0.7658123844705579, 0.9790941401922512, 0.22129019065848288, 0.8548704194015775, 0.14665882650627815, 0.9265345989674076, 0.26461309397666444, 0.5502597317163734, 0.2839928253284473, 0.7089222343874108, 0.49096149864752403, 0.32516205928596875, 0.03897640035641359, 0.3017764549665125, 0.6906203045462328, 0.7351264083570286, 0.2311181454583905, 0.06924175796310938, 0.6003762149625248, 0.7739289795749544, 0.27240372360692, 0.5774631792329177, 0.9215225335910446, 0.12239180219434853, 0.7578831314505952, 0.2750102253255118, 0.398221968230527, 0.952935903177787, 0.7242616900052973, 0.11175707736807117, 0.5597984111910187, 0.017122938015978084, 0.287362995132462, 0.6575270669889517, 0.6494382732812658, 0.3225819514359911, 0.31842776744005963, 0.2227059466347322], \"xaxis\": \"x9\", \"y\": [0.1708528654602024, 0.7947643961159381, 0.12666139207012694, 0.3704731100280987, 0.4268231835968821, 0.35764351148766405, 0.2305666365210597, 0.5538324288018692, 0.594848156221167, 0.9200479583746664, 0.07590398582031088, 0.9671854096015232, 0.7125727126759903, 0.8271226920363048, 0.7927056070623242, 0.8726781316595718, 0.8439521568895053, 0.09259317145482682, 0.23178163096381899, 0.09344484466459091, 0.5209866753943617, 0.2827883678792852, 0.7060326111475312, 0.8269352626736227, 0.07581189650262699, 0.5534557276357995, 0.4709639927533994, 0.5077795018414701, 0.8146512167413209, 0.0632160619388743, 0.3784684778530909, 0.11831403628208981, 0.6604793256512019, 0.8508837419021006, 0.07326909011979632, 0.1707061886641288, 0.24602297556450203, 0.32942390765767826, 0.7827689079006152, 0.5707580434972809, 0.4557217240085497, 0.3213546954349775, 0.959796038755243, 0.6792786524938019, 0.6221080084291316, 0.7916085199812986, 0.196691226645063, 0.23166202663976354, 0.9871650353364658, 0.5609852351224877, 0.23060749190256702, 0.6030149483879629, 0.5418942503693233, 0.8313579981419337, 0.5005334875818716, 0.17581835788597155, 0.06043898969061501, 0.1513690889963779, 0.4965519044757296, 0.6845533661268685, 0.9632402423903895, 0.15123322447511456, 0.05491020331362695, 0.06992307697450528, 0.9251471556135247, 0.07302669974492837, 0.8412452325410701, 0.052016817071149024, 0.8937151859836213, 0.7394998538110885, 0.3726497227625558, 0.6433686562554597, 0.7862230059861702, 0.8116612066335772, 0.38686238605025935, 0.3060482999038615, 0.6352252249607443, 0.7774964614027035, 0.7629484316044388, 0.987975440479305, 0.8664798150644375, 0.020203965710475558, 0.3398395293157366, 0.1122650337145874, 0.07152937015646599, 0.5787200279474213, 0.6593323504043507, 0.37568271757463945, 0.6662653070220816, 0.7340273240332108, 0.8256606515853963, 0.6375461978363576, 0.8841503987586986, 0.7621034473804962, 0.04889787877109286, 0.0060500550690697485, 0.4195028769104727, 0.209559422638408, 0.044830301159018204, 0.7621977253010859], \"yaxis\": \"y9\"}, {\"line\": {\"color\": \"rgba(128, 128, 128, 1.0)\", \"dash\": \"solid\", \"shape\": \"linear\", \"width\": 1.3}, \"marker\": {\"size\": 2, \"symbol\": \"circle\"}, \"mode\": \"markers\", \"name\": \"b\", \"text\": \"\", \"type\": \"scatter\", \"x\": [0.6386248483159467, 0.5230234794175541, 0.334425400642009, 0.14111906583561784, 0.5436551242044353, 0.057507016432407077, 0.12954892887776326, 0.9474162278384648, 0.8873319252212756, 0.0798116475475571, 0.6845187303329766, 0.9279149655444716, 0.5751229833911761, 0.5385265455177648, 0.41254552892304297, 0.7467804729749405, 0.7303742318613662, 0.19959853092484137, 0.9148640423520675, 0.8952233533479554, 0.3587099037823809, 0.8947079475764166, 0.7527801623028844, 0.43988726169127124, 0.979617189922973, 0.5981527430743774, 0.6613938719103097, 0.9096486529907447, 0.9040336650769615, 0.16372620539699945, 0.8322795437762803, 0.544529289185489, 0.490062206093244, 0.6259842236675176, 0.04725902504622792, 0.3140694265487689, 0.6127478881057613, 0.5722154499196853, 0.8374012010977401, 0.1400318206160982, 0.37280908452990746, 0.6661735631596962, 0.6925771504123995, 0.3853243054847725, 0.6508946678902378, 0.1700645517449968, 0.5857517349687471, 0.1079471753868666, 0.4120106730585339, 0.42498087958855335, 0.47051532678457186, 0.02972428590138876, 0.8474471912941407, 0.22001161029189775, 0.15420345160899263, 0.22976532588681176, 0.3369691691451099, 0.9176119660182019, 0.011858422487131981, 0.010595137724684345, 0.7029634195276654, 0.9154269395651924, 0.048411896943233224, 0.37245727074263757, 0.0970408691674347, 0.628711412980803, 0.1650999098586574, 0.9866845038179446, 0.93974413929864, 0.6074254936914476, 0.881871442159823, 0.484109551417512, 0.7605425257232539, 0.23709920904711146, 0.9376266121601954, 0.3520017586732076, 0.9009032391342261, 0.3524375275421264, 0.6525345794432336, 0.2802068582966859, 0.9769727521546657, 0.6925087981863739, 0.06564350783284423, 0.38019462296902584, 0.11830225307683995, 0.5464968311252386, 0.6515165595388999, 0.5763863815496948, 0.04558971712433424, 0.1096354810225646, 0.13246756152069228, 0.4098089587672449, 0.6538457126437346, 0.823988445540373, 0.451042162777353, 0.3730107195331247, 0.13183630769941235, 0.28695527760987427, 0.6429468693737694, 0.7815839940458188], \"xaxis\": \"x10\", \"y\": [0.1708528654602024, 0.7947643961159381, 0.12666139207012694, 0.3704731100280987, 0.4268231835968821, 0.35764351148766405, 0.2305666365210597, 0.5538324288018692, 0.594848156221167, 0.9200479583746664, 0.07590398582031088, 0.9671854096015232, 0.7125727126759903, 0.8271226920363048, 0.7927056070623242, 0.8726781316595718, 0.8439521568895053, 0.09259317145482682, 0.23178163096381899, 0.09344484466459091, 0.5209866753943617, 0.2827883678792852, 0.7060326111475312, 0.8269352626736227, 0.07581189650262699, 0.5534557276357995, 0.4709639927533994, 0.5077795018414701, 0.8146512167413209, 0.0632160619388743, 0.3784684778530909, 0.11831403628208981, 0.6604793256512019, 0.8508837419021006, 0.07326909011979632, 0.1707061886641288, 0.24602297556450203, 0.32942390765767826, 0.7827689079006152, 0.5707580434972809, 0.4557217240085497, 0.3213546954349775, 0.959796038755243, 0.6792786524938019, 0.6221080084291316, 0.7916085199812986, 0.196691226645063, 0.23166202663976354, 0.9871650353364658, 0.5609852351224877, 0.23060749190256702, 0.6030149483879629, 0.5418942503693233, 0.8313579981419337, 0.5005334875818716, 0.17581835788597155, 0.06043898969061501, 0.1513690889963779, 0.4965519044757296, 0.6845533661268685, 0.9632402423903895, 0.15123322447511456, 0.05491020331362695, 0.06992307697450528, 0.9251471556135247, 0.07302669974492837, 0.8412452325410701, 0.052016817071149024, 0.8937151859836213, 0.7394998538110885, 0.3726497227625558, 0.6433686562554597, 0.7862230059861702, 0.8116612066335772, 0.38686238605025935, 0.3060482999038615, 0.6352252249607443, 0.7774964614027035, 0.7629484316044388, 0.987975440479305, 0.8664798150644375, 0.020203965710475558, 0.3398395293157366, 0.1122650337145874, 0.07152937015646599, 0.5787200279474213, 0.6593323504043507, 0.37568271757463945, 0.6662653070220816, 0.7340273240332108, 0.8256606515853963, 0.6375461978363576, 0.8841503987586986, 0.7621034473804962, 0.04889787877109286, 0.0060500550690697485, 0.4195028769104727, 0.209559422638408, 0.044830301159018204, 0.7621977253010859], \"yaxis\": \"y10\"}, {\"line\": {\"color\": \"rgba(128, 128, 128, 1.0)\", \"dash\": \"solid\", \"shape\": \"linear\", \"width\": 1.3}, \"marker\": {\"size\": 2, \"symbol\": \"circle\"}, \"mode\": \"markers\", \"name\": \"c\", \"text\": \"\", \"type\": \"scatter\", \"x\": [0.06664371620244847, 0.5407620947234574, 0.6689151881233841, 0.721092412348836, 0.3759797914497993, 0.39527735063052827, 0.4934522395805472, 0.855897801465149, 0.7374102580018511, 0.7287535440658456, 0.9087893119029362, 0.0389729107276543, 0.9131979511127855, 0.40962089859421325, 0.47657514104573917, 0.08720299353607297, 0.13690164698888896, 0.5035481247163679, 0.266135761384094, 0.6549949357531493, 0.08051241257947772, 0.9214281008363931, 0.2829524471881053, 0.6527173363263697, 0.18800592724027765, 0.5581934203599891, 0.56098202587155, 0.4601468637306919, 0.7818563913340485, 0.5536017893406393, 0.2076552401035373, 0.35928237992313494, 0.6587218084028461, 0.811613083395124, 0.25420805654115597, 0.6840002810466673, 0.6111164582393296, 0.2938576195012119, 0.5111691101046774, 0.3875542277771037, 0.7451045436127167, 0.9501473884996332, 0.004498032004161545, 0.5092605688140478, 0.6564632643610027, 0.6201931780594065, 0.6842706981054051, 0.2709670378722623, 0.2120575730857116, 0.8134311075392741, 0.24116333321833616, 0.23103251700435679, 0.008515506141043239, 0.39050763129267874, 0.029665479583302568, 0.3045989776296153, 0.26725801998027643, 0.26039194932627807, 0.12224282846630519, 0.6330862699036091, 0.5457474773327132, 0.4180438341797862, 0.46736457227967254, 0.2185566342291806, 0.08059260147056657, 0.38368185010623335, 0.3086118649520281, 0.2908710248091253, 0.21329586658150246, 0.15006898078339448, 0.5450323688265107, 0.5531789726038746, 0.9480092589771546, 0.061642493465942194, 0.4105801261150056, 0.6296851450210539, 0.6368558770397965, 0.01642034253496527, 0.30064919685985814, 0.1130722453206362, 0.9458354659747372, 0.631307464603639, 0.6938179081613992, 0.8876160139563236, 0.2637635757689851, 0.7855477777304667, 0.22261139352906356, 0.004728933024584991, 0.9885717734657872, 0.6468037364293703, 0.8205938194632254, 0.46987932516763353, 0.10891344024228955, 0.5532588345858189, 0.3828403044919656, 0.6048392490123118, 0.12306666157306034, 0.7889998286430977, 0.9125580422545567, 0.013538786394112545], \"xaxis\": \"x11\", \"y\": [0.6049675436787881, 0.26331913223246295, 0.7093497387667826, 0.8302857557323808, 0.48628347640271563, 0.5522401841546365, 0.7228291561339886, 0.3503155514198716, 0.9914397301772295, 0.3954321460490898, 0.7843116835894328, 0.8098075082347174, 0.5932842876821278, 0.02674830381482962, 0.4766817949581674, 0.23002742439608903, 0.4602265437259899, 0.5296780990255819, 0.6942283623392663, 0.6045974354017074, 0.8693925106877225, 0.1021380012277443, 0.7117917702159499, 0.7969334337405094, 0.2717788438852057, 0.43278204581902957, 0.3045708377684585, 0.2282920528355673, 0.04597442807158014, 0.26481441120906113, 0.5211219007698088, 0.27106703862801573, 0.28702898825297607, 0.9765162555913119, 0.008257253692387834, 0.5447918657135943, 0.21141605255341878, 0.09488071847727797, 0.9043563093859569, 0.288312049701824, 0.7012557608593932, 0.7256966546072516, 0.9648880018708532, 0.08717577188783832, 0.4642191069010462, 0.549304958948628, 0.7012884961099369, 0.6533582657360641, 0.6276470849845789, 0.9648159983530032, 0.15600081458444204, 0.5406290404996967, 0.8863212327369236, 0.1677634545916583, 0.5178539995027887, 0.3458429211423141, 0.1448387562693667, 0.381641212123084, 0.3032667861950964, 0.44372221360820363, 0.5546848039087976, 0.9720986463159164, 0.7225295342207287, 0.8947220777447558, 0.9939324520057288, 0.3263708279645252, 0.0389664589280303, 0.3158165877803921, 0.04255771826746191, 0.1849139335235478, 0.3255720367741921, 0.5113739914773018, 0.16448770269175927, 0.6566682569750413, 0.5776520171077744, 0.39676481813118003, 0.8791928748221031, 0.22739878817605397, 0.06252907684031028, 0.6272718635098893, 0.11487809601356624, 0.06732377536573741, 0.5171878499166007, 0.9172784823751415, 0.8984754395357885, 0.6360555404818192, 0.40243266758619434, 0.2475992299753933, 0.1669422365112384, 0.1906078764389888, 0.9050301876983026, 0.13610968306657167, 0.608100963689494, 0.533425961720379, 0.3415471049417095, 0.8586314676846226, 0.9259990637093486, 0.9634106051485283, 0.02013274749745053, 0.840859076418451], \"yaxis\": \"y11\"}, {\"line\": {\"color\": \"rgba(128, 128, 128, 1.0)\", \"dash\": \"solid\", \"shape\": \"linear\", \"width\": 1.3}, \"marker\": {\"size\": 2, \"symbol\": \"circle\"}, \"mode\": \"markers\", \"name\": \"c\", \"text\": \"\", \"type\": \"scatter\", \"x\": [0.1708528654602024, 0.7947643961159381, 0.12666139207012694, 0.3704731100280987, 0.4268231835968821, 0.35764351148766405, 0.2305666365210597, 0.5538324288018692, 0.594848156221167, 0.9200479583746664, 0.07590398582031088, 0.9671854096015232, 0.7125727126759903, 0.8271226920363048, 0.7927056070623242, 0.8726781316595718, 0.8439521568895053, 0.09259317145482682, 0.23178163096381899, 0.09344484466459091, 0.5209866753943617, 0.2827883678792852, 0.7060326111475312, 0.8269352626736227, 0.07581189650262699, 0.5534557276357995, 0.4709639927533994, 0.5077795018414701, 0.8146512167413209, 0.0632160619388743, 0.3784684778530909, 0.11831403628208981, 0.6604793256512019, 0.8508837419021006, 0.07326909011979632, 0.1707061886641288, 0.24602297556450203, 0.32942390765767826, 0.7827689079006152, 0.5707580434972809, 0.4557217240085497, 0.3213546954349775, 0.959796038755243, 0.6792786524938019, 0.6221080084291316, 0.7916085199812986, 0.196691226645063, 0.23166202663976354, 0.9871650353364658, 0.5609852351224877, 0.23060749190256702, 0.6030149483879629, 0.5418942503693233, 0.8313579981419337, 0.5005334875818716, 0.17581835788597155, 0.06043898969061501, 0.1513690889963779, 0.4965519044757296, 0.6845533661268685, 0.9632402423903895, 0.15123322447511456, 0.05491020331362695, 0.06992307697450528, 0.9251471556135247, 0.07302669974492837, 0.8412452325410701, 0.052016817071149024, 0.8937151859836213, 0.7394998538110885, 0.3726497227625558, 0.6433686562554597, 0.7862230059861702, 0.8116612066335772, 0.38686238605025935, 0.3060482999038615, 0.6352252249607443, 0.7774964614027035, 0.7629484316044388, 0.987975440479305, 0.8664798150644375, 0.020203965710475558, 0.3398395293157366, 0.1122650337145874, 0.07152937015646599, 0.5787200279474213, 0.6593323504043507, 0.37568271757463945, 0.6662653070220816, 0.7340273240332108, 0.8256606515853963, 0.6375461978363576, 0.8841503987586986, 0.7621034473804962, 0.04889787877109286, 0.0060500550690697485, 0.4195028769104727, 0.209559422638408, 0.044830301159018204, 0.7621977253010859], \"xaxis\": \"x12\", \"y\": [0.6049675436787881, 0.26331913223246295, 0.7093497387667826, 0.8302857557323808, 0.48628347640271563, 0.5522401841546365, 0.7228291561339886, 0.3503155514198716, 0.9914397301772295, 0.3954321460490898, 0.7843116835894328, 0.8098075082347174, 0.5932842876821278, 0.02674830381482962, 0.4766817949581674, 0.23002742439608903, 0.4602265437259899, 0.5296780990255819, 0.6942283623392663, 0.6045974354017074, 0.8693925106877225, 0.1021380012277443, 0.7117917702159499, 0.7969334337405094, 0.2717788438852057, 0.43278204581902957, 0.3045708377684585, 0.2282920528355673, 0.04597442807158014, 0.26481441120906113, 0.5211219007698088, 0.27106703862801573, 0.28702898825297607, 0.9765162555913119, 0.008257253692387834, 0.5447918657135943, 0.21141605255341878, 0.09488071847727797, 0.9043563093859569, 0.288312049701824, 0.7012557608593932, 0.7256966546072516, 0.9648880018708532, 0.08717577188783832, 0.4642191069010462, 0.549304958948628, 0.7012884961099369, 0.6533582657360641, 0.6276470849845789, 0.9648159983530032, 0.15600081458444204, 0.5406290404996967, 0.8863212327369236, 0.1677634545916583, 0.5178539995027887, 0.3458429211423141, 0.1448387562693667, 0.381641212123084, 0.3032667861950964, 0.44372221360820363, 0.5546848039087976, 0.9720986463159164, 0.7225295342207287, 0.8947220777447558, 0.9939324520057288, 0.3263708279645252, 0.0389664589280303, 0.3158165877803921, 0.04255771826746191, 0.1849139335235478, 0.3255720367741921, 0.5113739914773018, 0.16448770269175927, 0.6566682569750413, 0.5776520171077744, 0.39676481813118003, 0.8791928748221031, 0.22739878817605397, 0.06252907684031028, 0.6272718635098893, 0.11487809601356624, 0.06732377536573741, 0.5171878499166007, 0.9172784823751415, 0.8984754395357885, 0.6360555404818192, 0.40243266758619434, 0.2475992299753933, 0.1669422365112384, 0.1906078764389888, 0.9050301876983026, 0.13610968306657167, 0.608100963689494, 0.533425961720379, 0.3415471049417095, 0.8586314676846226, 0.9259990637093486, 0.9634106051485283, 0.02013274749745053, 0.840859076418451], \"yaxis\": \"y12\"}, {\"histfunc\": \"count\", \"histnorm\": \"\", \"marker\": {\"color\": \"rgba(50, 171, 96, 1.0)\", \"line\": {\"color\": \"#4D5663\", \"width\": 1.3}}, \"name\": \"c\", \"nbinsx\": 10, \"opacity\": 0.8, \"orientation\": \"v\", \"type\": \"histogram\", \"x\": [0.6049675436787881, 0.26331913223246295, 0.7093497387667826, 0.8302857557323808, 0.48628347640271563, 0.5522401841546365, 0.7228291561339886, 0.3503155514198716, 0.9914397301772295, 0.3954321460490898, 0.7843116835894328, 0.8098075082347174, 0.5932842876821278, 0.02674830381482962, 0.4766817949581674, 0.23002742439608903, 0.4602265437259899, 0.5296780990255819, 0.6942283623392663, 0.6045974354017074, 0.8693925106877225, 0.1021380012277443, 0.7117917702159499, 0.7969334337405094, 0.2717788438852057, 0.43278204581902957, 0.3045708377684585, 0.2282920528355673, 0.04597442807158014, 0.26481441120906113, 0.5211219007698088, 0.27106703862801573, 0.28702898825297607, 0.9765162555913119, 0.008257253692387834, 0.5447918657135943, 0.21141605255341878, 0.09488071847727797, 0.9043563093859569, 0.288312049701824, 0.7012557608593932, 0.7256966546072516, 0.9648880018708532, 0.08717577188783832, 0.4642191069010462, 0.549304958948628, 0.7012884961099369, 0.6533582657360641, 0.6276470849845789, 0.9648159983530032, 0.15600081458444204, 0.5406290404996967, 0.8863212327369236, 0.1677634545916583, 0.5178539995027887, 0.3458429211423141, 0.1448387562693667, 0.381641212123084, 0.3032667861950964, 0.44372221360820363, 0.5546848039087976, 0.9720986463159164, 0.7225295342207287, 0.8947220777447558, 0.9939324520057288, 0.3263708279645252, 0.0389664589280303, 0.3158165877803921, 0.04255771826746191, 0.1849139335235478, 0.3255720367741921, 0.5113739914773018, 0.16448770269175927, 0.6566682569750413, 0.5776520171077744, 0.39676481813118003, 0.8791928748221031, 0.22739878817605397, 0.06252907684031028, 0.6272718635098893, 0.11487809601356624, 0.06732377536573741, 0.5171878499166007, 0.9172784823751415, 0.8984754395357885, 0.6360555404818192, 0.40243266758619434, 0.2475992299753933, 0.1669422365112384, 0.1906078764389888, 0.9050301876983026, 0.13610968306657167, 0.608100963689494, 0.533425961720379, 0.3415471049417095, 0.8586314676846226, 0.9259990637093486, 0.9634106051485283, 0.02013274749745053, 0.840859076418451], \"xaxis\": \"x13\", \"yaxis\": \"y13\"}, {\"line\": {\"color\": \"rgba(128, 128, 128, 1.0)\", \"dash\": \"solid\", \"shape\": \"linear\", \"width\": 1.3}, \"marker\": {\"size\": 2, \"symbol\": \"circle\"}, \"mode\": \"markers\", \"name\": \"c\", \"text\": \"\", \"type\": \"scatter\", \"x\": [0.0944209317690835, 0.27888666415576524, 0.8971027826540451, 0.9703086965990342, 0.8817130309071713, 0.09213840503236637, 0.2506508366662863, 0.34751131338191643, 0.5632382537529974, 0.7839079806829057, 0.14136094541839772, 0.1239181574356889, 0.5183709155587094, 0.8879671011492536, 0.8862415126627536, 0.8273976397723527, 0.9681081716610408, 0.6508327487564848, 0.4882846998643292, 0.2111779063802618, 0.429923493368606, 0.053978396884075575, 0.6752913629339222, 0.818297863533424, 0.10834792608354837, 0.7416729809867745, 0.3628775786642817, 0.012018942217303707, 0.7945365042022574, 0.18279967366125482, 0.08793474635131249, 0.28965013916749427, 0.3867428066940999, 0.47335651636728804, 0.9712780949068064, 0.2695543242698041, 0.5920388619175281, 0.8329440168983173, 0.5821376074664862, 0.7341441427248303, 0.6227624864398681, 0.6250052644894432, 0.694038336600421, 0.8832295899648193, 0.6707685780149996, 0.38746302379405706, 0.8033371860928065, 0.5236804851053737, 0.77120374541525, 0.604409150379552, 0.987876295354519, 0.09435569749284856, 0.8072141448542798, 0.5435456856502564, 0.30227499214234754, 0.3214213942919856, 0.8702064837054988, 0.12449571669631243, 0.48026960273559016, 0.45892143122601836, 0.8007569335567352, 0.4519647917046654, 0.7658123844705579, 0.9790941401922512, 0.22129019065848288, 0.8548704194015775, 0.14665882650627815, 0.9265345989674076, 0.26461309397666444, 0.5502597317163734, 0.2839928253284473, 0.7089222343874108, 0.49096149864752403, 0.32516205928596875, 0.03897640035641359, 0.3017764549665125, 0.6906203045462328, 0.7351264083570286, 0.2311181454583905, 0.06924175796310938, 0.6003762149625248, 0.7739289795749544, 0.27240372360692, 0.5774631792329177, 0.9215225335910446, 0.12239180219434853, 0.7578831314505952, 0.2750102253255118, 0.398221968230527, 0.952935903177787, 0.7242616900052973, 0.11175707736807117, 0.5597984111910187, 0.017122938015978084, 0.287362995132462, 0.6575270669889517, 0.6494382732812658, 0.3225819514359911, 0.31842776744005963, 0.2227059466347322], \"xaxis\": \"x14\", \"y\": [0.6049675436787881, 0.26331913223246295, 0.7093497387667826, 0.8302857557323808, 0.48628347640271563, 0.5522401841546365, 0.7228291561339886, 0.3503155514198716, 0.9914397301772295, 0.3954321460490898, 0.7843116835894328, 0.8098075082347174, 0.5932842876821278, 0.02674830381482962, 0.4766817949581674, 0.23002742439608903, 0.4602265437259899, 0.5296780990255819, 0.6942283623392663, 0.6045974354017074, 0.8693925106877225, 0.1021380012277443, 0.7117917702159499, 0.7969334337405094, 0.2717788438852057, 0.43278204581902957, 0.3045708377684585, 0.2282920528355673, 0.04597442807158014, 0.26481441120906113, 0.5211219007698088, 0.27106703862801573, 0.28702898825297607, 0.9765162555913119, 0.008257253692387834, 0.5447918657135943, 0.21141605255341878, 0.09488071847727797, 0.9043563093859569, 0.288312049701824, 0.7012557608593932, 0.7256966546072516, 0.9648880018708532, 0.08717577188783832, 0.4642191069010462, 0.549304958948628, 0.7012884961099369, 0.6533582657360641, 0.6276470849845789, 0.9648159983530032, 0.15600081458444204, 0.5406290404996967, 0.8863212327369236, 0.1677634545916583, 0.5178539995027887, 0.3458429211423141, 0.1448387562693667, 0.381641212123084, 0.3032667861950964, 0.44372221360820363, 0.5546848039087976, 0.9720986463159164, 0.7225295342207287, 0.8947220777447558, 0.9939324520057288, 0.3263708279645252, 0.0389664589280303, 0.3158165877803921, 0.04255771826746191, 0.1849139335235478, 0.3255720367741921, 0.5113739914773018, 0.16448770269175927, 0.6566682569750413, 0.5776520171077744, 0.39676481813118003, 0.8791928748221031, 0.22739878817605397, 0.06252907684031028, 0.6272718635098893, 0.11487809601356624, 0.06732377536573741, 0.5171878499166007, 0.9172784823751415, 0.8984754395357885, 0.6360555404818192, 0.40243266758619434, 0.2475992299753933, 0.1669422365112384, 0.1906078764389888, 0.9050301876983026, 0.13610968306657167, 0.608100963689494, 0.533425961720379, 0.3415471049417095, 0.8586314676846226, 0.9259990637093486, 0.9634106051485283, 0.02013274749745053, 0.840859076418451], \"yaxis\": \"y14\"}, {\"line\": {\"color\": \"rgba(128, 128, 128, 1.0)\", \"dash\": \"solid\", \"shape\": \"linear\", \"width\": 1.3}, \"marker\": {\"size\": 2, \"symbol\": \"circle\"}, \"mode\": \"markers\", \"name\": \"c\", \"text\": \"\", \"type\": \"scatter\", \"x\": [0.6386248483159467, 0.5230234794175541, 0.334425400642009, 0.14111906583561784, 0.5436551242044353, 0.057507016432407077, 0.12954892887776326, 0.9474162278384648, 0.8873319252212756, 0.0798116475475571, 0.6845187303329766, 0.9279149655444716, 0.5751229833911761, 0.5385265455177648, 0.41254552892304297, 0.7467804729749405, 0.7303742318613662, 0.19959853092484137, 0.9148640423520675, 0.8952233533479554, 0.3587099037823809, 0.8947079475764166, 0.7527801623028844, 0.43988726169127124, 0.979617189922973, 0.5981527430743774, 0.6613938719103097, 0.9096486529907447, 0.9040336650769615, 0.16372620539699945, 0.8322795437762803, 0.544529289185489, 0.490062206093244, 0.6259842236675176, 0.04725902504622792, 0.3140694265487689, 0.6127478881057613, 0.5722154499196853, 0.8374012010977401, 0.1400318206160982, 0.37280908452990746, 0.6661735631596962, 0.6925771504123995, 0.3853243054847725, 0.6508946678902378, 0.1700645517449968, 0.5857517349687471, 0.1079471753868666, 0.4120106730585339, 0.42498087958855335, 0.47051532678457186, 0.02972428590138876, 0.8474471912941407, 0.22001161029189775, 0.15420345160899263, 0.22976532588681176, 0.3369691691451099, 0.9176119660182019, 0.011858422487131981, 0.010595137724684345, 0.7029634195276654, 0.9154269395651924, 0.048411896943233224, 0.37245727074263757, 0.0970408691674347, 0.628711412980803, 0.1650999098586574, 0.9866845038179446, 0.93974413929864, 0.6074254936914476, 0.881871442159823, 0.484109551417512, 0.7605425257232539, 0.23709920904711146, 0.9376266121601954, 0.3520017586732076, 0.9009032391342261, 0.3524375275421264, 0.6525345794432336, 0.2802068582966859, 0.9769727521546657, 0.6925087981863739, 0.06564350783284423, 0.38019462296902584, 0.11830225307683995, 0.5464968311252386, 0.6515165595388999, 0.5763863815496948, 0.04558971712433424, 0.1096354810225646, 0.13246756152069228, 0.4098089587672449, 0.6538457126437346, 0.823988445540373, 0.451042162777353, 0.3730107195331247, 0.13183630769941235, 0.28695527760987427, 0.6429468693737694, 0.7815839940458188], \"xaxis\": \"x15\", \"y\": [0.6049675436787881, 0.26331913223246295, 0.7093497387667826, 0.8302857557323808, 0.48628347640271563, 0.5522401841546365, 0.7228291561339886, 0.3503155514198716, 0.9914397301772295, 0.3954321460490898, 0.7843116835894328, 0.8098075082347174, 0.5932842876821278, 0.02674830381482962, 0.4766817949581674, 0.23002742439608903, 0.4602265437259899, 0.5296780990255819, 0.6942283623392663, 0.6045974354017074, 0.8693925106877225, 0.1021380012277443, 0.7117917702159499, 0.7969334337405094, 0.2717788438852057, 0.43278204581902957, 0.3045708377684585, 0.2282920528355673, 0.04597442807158014, 0.26481441120906113, 0.5211219007698088, 0.27106703862801573, 0.28702898825297607, 0.9765162555913119, 0.008257253692387834, 0.5447918657135943, 0.21141605255341878, 0.09488071847727797, 0.9043563093859569, 0.288312049701824, 0.7012557608593932, 0.7256966546072516, 0.9648880018708532, 0.08717577188783832, 0.4642191069010462, 0.549304958948628, 0.7012884961099369, 0.6533582657360641, 0.6276470849845789, 0.9648159983530032, 0.15600081458444204, 0.5406290404996967, 0.8863212327369236, 0.1677634545916583, 0.5178539995027887, 0.3458429211423141, 0.1448387562693667, 0.381641212123084, 0.3032667861950964, 0.44372221360820363, 0.5546848039087976, 0.9720986463159164, 0.7225295342207287, 0.8947220777447558, 0.9939324520057288, 0.3263708279645252, 0.0389664589280303, 0.3158165877803921, 0.04255771826746191, 0.1849139335235478, 0.3255720367741921, 0.5113739914773018, 0.16448770269175927, 0.6566682569750413, 0.5776520171077744, 0.39676481813118003, 0.8791928748221031, 0.22739878817605397, 0.06252907684031028, 0.6272718635098893, 0.11487809601356624, 0.06732377536573741, 0.5171878499166007, 0.9172784823751415, 0.8984754395357885, 0.6360555404818192, 0.40243266758619434, 0.2475992299753933, 0.1669422365112384, 0.1906078764389888, 0.9050301876983026, 0.13610968306657167, 0.608100963689494, 0.533425961720379, 0.3415471049417095, 0.8586314676846226, 0.9259990637093486, 0.9634106051485283, 0.02013274749745053, 0.840859076418451], \"yaxis\": \"y15\"}, {\"line\": {\"color\": \"rgba(128, 128, 128, 1.0)\", \"dash\": \"solid\", \"shape\": \"linear\", \"width\": 1.3}, \"marker\": {\"size\": 2, \"symbol\": \"circle\"}, \"mode\": \"markers\", \"name\": \"d\", \"text\": \"\", \"type\": \"scatter\", \"x\": [0.06664371620244847, 0.5407620947234574, 0.6689151881233841, 0.721092412348836, 0.3759797914497993, 0.39527735063052827, 0.4934522395805472, 0.855897801465149, 0.7374102580018511, 0.7287535440658456, 0.9087893119029362, 0.0389729107276543, 0.9131979511127855, 0.40962089859421325, 0.47657514104573917, 0.08720299353607297, 0.13690164698888896, 0.5035481247163679, 0.266135761384094, 0.6549949357531493, 0.08051241257947772, 0.9214281008363931, 0.2829524471881053, 0.6527173363263697, 0.18800592724027765, 0.5581934203599891, 0.56098202587155, 0.4601468637306919, 0.7818563913340485, 0.5536017893406393, 0.2076552401035373, 0.35928237992313494, 0.6587218084028461, 0.811613083395124, 0.25420805654115597, 0.6840002810466673, 0.6111164582393296, 0.2938576195012119, 0.5111691101046774, 0.3875542277771037, 0.7451045436127167, 0.9501473884996332, 0.004498032004161545, 0.5092605688140478, 0.6564632643610027, 0.6201931780594065, 0.6842706981054051, 0.2709670378722623, 0.2120575730857116, 0.8134311075392741, 0.24116333321833616, 0.23103251700435679, 0.008515506141043239, 0.39050763129267874, 0.029665479583302568, 0.3045989776296153, 0.26725801998027643, 0.26039194932627807, 0.12224282846630519, 0.6330862699036091, 0.5457474773327132, 0.4180438341797862, 0.46736457227967254, 0.2185566342291806, 0.08059260147056657, 0.38368185010623335, 0.3086118649520281, 0.2908710248091253, 0.21329586658150246, 0.15006898078339448, 0.5450323688265107, 0.5531789726038746, 0.9480092589771546, 0.061642493465942194, 0.4105801261150056, 0.6296851450210539, 0.6368558770397965, 0.01642034253496527, 0.30064919685985814, 0.1130722453206362, 0.9458354659747372, 0.631307464603639, 0.6938179081613992, 0.8876160139563236, 0.2637635757689851, 0.7855477777304667, 0.22261139352906356, 0.004728933024584991, 0.9885717734657872, 0.6468037364293703, 0.8205938194632254, 0.46987932516763353, 0.10891344024228955, 0.5532588345858189, 0.3828403044919656, 0.6048392490123118, 0.12306666157306034, 0.7889998286430977, 0.9125580422545567, 0.013538786394112545], \"xaxis\": \"x16\", \"y\": [0.0944209317690835, 0.27888666415576524, 0.8971027826540451, 0.9703086965990342, 0.8817130309071713, 0.09213840503236637, 0.2506508366662863, 0.34751131338191643, 0.5632382537529974, 0.7839079806829057, 0.14136094541839772, 0.1239181574356889, 0.5183709155587094, 0.8879671011492536, 0.8862415126627536, 0.8273976397723527, 0.9681081716610408, 0.6508327487564848, 0.4882846998643292, 0.2111779063802618, 0.429923493368606, 0.053978396884075575, 0.6752913629339222, 0.818297863533424, 0.10834792608354837, 0.7416729809867745, 0.3628775786642817, 0.012018942217303707, 0.7945365042022574, 0.18279967366125482, 0.08793474635131249, 0.28965013916749427, 0.3867428066940999, 0.47335651636728804, 0.9712780949068064, 0.2695543242698041, 0.5920388619175281, 0.8329440168983173, 0.5821376074664862, 0.7341441427248303, 0.6227624864398681, 0.6250052644894432, 0.694038336600421, 0.8832295899648193, 0.6707685780149996, 0.38746302379405706, 0.8033371860928065, 0.5236804851053737, 0.77120374541525, 0.604409150379552, 0.987876295354519, 0.09435569749284856, 0.8072141448542798, 0.5435456856502564, 0.30227499214234754, 0.3214213942919856, 0.8702064837054988, 0.12449571669631243, 0.48026960273559016, 0.45892143122601836, 0.8007569335567352, 0.4519647917046654, 0.7658123844705579, 0.9790941401922512, 0.22129019065848288, 0.8548704194015775, 0.14665882650627815, 0.9265345989674076, 0.26461309397666444, 0.5502597317163734, 0.2839928253284473, 0.7089222343874108, 0.49096149864752403, 0.32516205928596875, 0.03897640035641359, 0.3017764549665125, 0.6906203045462328, 0.7351264083570286, 0.2311181454583905, 0.06924175796310938, 0.6003762149625248, 0.7739289795749544, 0.27240372360692, 0.5774631792329177, 0.9215225335910446, 0.12239180219434853, 0.7578831314505952, 0.2750102253255118, 0.398221968230527, 0.952935903177787, 0.7242616900052973, 0.11175707736807117, 0.5597984111910187, 0.017122938015978084, 0.287362995132462, 0.6575270669889517, 0.6494382732812658, 0.3225819514359911, 0.31842776744005963, 0.2227059466347322], \"yaxis\": \"y16\"}, {\"line\": {\"color\": \"rgba(128, 128, 128, 1.0)\", \"dash\": \"solid\", \"shape\": \"linear\", \"width\": 1.3}, \"marker\": {\"size\": 2, \"symbol\": \"circle\"}, \"mode\": \"markers\", \"name\": \"d\", \"text\": \"\", \"type\": \"scatter\", \"x\": [0.1708528654602024, 0.7947643961159381, 0.12666139207012694, 0.3704731100280987, 0.4268231835968821, 0.35764351148766405, 0.2305666365210597, 0.5538324288018692, 0.594848156221167, 0.9200479583746664, 0.07590398582031088, 0.9671854096015232, 0.7125727126759903, 0.8271226920363048, 0.7927056070623242, 0.8726781316595718, 0.8439521568895053, 0.09259317145482682, 0.23178163096381899, 0.09344484466459091, 0.5209866753943617, 0.2827883678792852, 0.7060326111475312, 0.8269352626736227, 0.07581189650262699, 0.5534557276357995, 0.4709639927533994, 0.5077795018414701, 0.8146512167413209, 0.0632160619388743, 0.3784684778530909, 0.11831403628208981, 0.6604793256512019, 0.8508837419021006, 0.07326909011979632, 0.1707061886641288, 0.24602297556450203, 0.32942390765767826, 0.7827689079006152, 0.5707580434972809, 0.4557217240085497, 0.3213546954349775, 0.959796038755243, 0.6792786524938019, 0.6221080084291316, 0.7916085199812986, 0.196691226645063, 0.23166202663976354, 0.9871650353364658, 0.5609852351224877, 0.23060749190256702, 0.6030149483879629, 0.5418942503693233, 0.8313579981419337, 0.5005334875818716, 0.17581835788597155, 0.06043898969061501, 0.1513690889963779, 0.4965519044757296, 0.6845533661268685, 0.9632402423903895, 0.15123322447511456, 0.05491020331362695, 0.06992307697450528, 0.9251471556135247, 0.07302669974492837, 0.8412452325410701, 0.052016817071149024, 0.8937151859836213, 0.7394998538110885, 0.3726497227625558, 0.6433686562554597, 0.7862230059861702, 0.8116612066335772, 0.38686238605025935, 0.3060482999038615, 0.6352252249607443, 0.7774964614027035, 0.7629484316044388, 0.987975440479305, 0.8664798150644375, 0.020203965710475558, 0.3398395293157366, 0.1122650337145874, 0.07152937015646599, 0.5787200279474213, 0.6593323504043507, 0.37568271757463945, 0.6662653070220816, 0.7340273240332108, 0.8256606515853963, 0.6375461978363576, 0.8841503987586986, 0.7621034473804962, 0.04889787877109286, 0.0060500550690697485, 0.4195028769104727, 0.209559422638408, 0.044830301159018204, 0.7621977253010859], \"xaxis\": \"x17\", \"y\": [0.0944209317690835, 0.27888666415576524, 0.8971027826540451, 0.9703086965990342, 0.8817130309071713, 0.09213840503236637, 0.2506508366662863, 0.34751131338191643, 0.5632382537529974, 0.7839079806829057, 0.14136094541839772, 0.1239181574356889, 0.5183709155587094, 0.8879671011492536, 0.8862415126627536, 0.8273976397723527, 0.9681081716610408, 0.6508327487564848, 0.4882846998643292, 0.2111779063802618, 0.429923493368606, 0.053978396884075575, 0.6752913629339222, 0.818297863533424, 0.10834792608354837, 0.7416729809867745, 0.3628775786642817, 0.012018942217303707, 0.7945365042022574, 0.18279967366125482, 0.08793474635131249, 0.28965013916749427, 0.3867428066940999, 0.47335651636728804, 0.9712780949068064, 0.2695543242698041, 0.5920388619175281, 0.8329440168983173, 0.5821376074664862, 0.7341441427248303, 0.6227624864398681, 0.6250052644894432, 0.694038336600421, 0.8832295899648193, 0.6707685780149996, 0.38746302379405706, 0.8033371860928065, 0.5236804851053737, 0.77120374541525, 0.604409150379552, 0.987876295354519, 0.09435569749284856, 0.8072141448542798, 0.5435456856502564, 0.30227499214234754, 0.3214213942919856, 0.8702064837054988, 0.12449571669631243, 0.48026960273559016, 0.45892143122601836, 0.8007569335567352, 0.4519647917046654, 0.7658123844705579, 0.9790941401922512, 0.22129019065848288, 0.8548704194015775, 0.14665882650627815, 0.9265345989674076, 0.26461309397666444, 0.5502597317163734, 0.2839928253284473, 0.7089222343874108, 0.49096149864752403, 0.32516205928596875, 0.03897640035641359, 0.3017764549665125, 0.6906203045462328, 0.7351264083570286, 0.2311181454583905, 0.06924175796310938, 0.6003762149625248, 0.7739289795749544, 0.27240372360692, 0.5774631792329177, 0.9215225335910446, 0.12239180219434853, 0.7578831314505952, 0.2750102253255118, 0.398221968230527, 0.952935903177787, 0.7242616900052973, 0.11175707736807117, 0.5597984111910187, 0.017122938015978084, 0.287362995132462, 0.6575270669889517, 0.6494382732812658, 0.3225819514359911, 0.31842776744005963, 0.2227059466347322], \"yaxis\": \"y17\"}, {\"line\": {\"color\": \"rgba(128, 128, 128, 1.0)\", \"dash\": \"solid\", \"shape\": \"linear\", \"width\": 1.3}, \"marker\": {\"size\": 2, \"symbol\": \"circle\"}, \"mode\": \"markers\", \"name\": \"d\", \"text\": \"\", \"type\": \"scatter\", \"x\": [0.6049675436787881, 0.26331913223246295, 0.7093497387667826, 0.8302857557323808, 0.48628347640271563, 0.5522401841546365, 0.7228291561339886, 0.3503155514198716, 0.9914397301772295, 0.3954321460490898, 0.7843116835894328, 0.8098075082347174, 0.5932842876821278, 0.02674830381482962, 0.4766817949581674, 0.23002742439608903, 0.4602265437259899, 0.5296780990255819, 0.6942283623392663, 0.6045974354017074, 0.8693925106877225, 0.1021380012277443, 0.7117917702159499, 0.7969334337405094, 0.2717788438852057, 0.43278204581902957, 0.3045708377684585, 0.2282920528355673, 0.04597442807158014, 0.26481441120906113, 0.5211219007698088, 0.27106703862801573, 0.28702898825297607, 0.9765162555913119, 0.008257253692387834, 0.5447918657135943, 0.21141605255341878, 0.09488071847727797, 0.9043563093859569, 0.288312049701824, 0.7012557608593932, 0.7256966546072516, 0.9648880018708532, 0.08717577188783832, 0.4642191069010462, 0.549304958948628, 0.7012884961099369, 0.6533582657360641, 0.6276470849845789, 0.9648159983530032, 0.15600081458444204, 0.5406290404996967, 0.8863212327369236, 0.1677634545916583, 0.5178539995027887, 0.3458429211423141, 0.1448387562693667, 0.381641212123084, 0.3032667861950964, 0.44372221360820363, 0.5546848039087976, 0.9720986463159164, 0.7225295342207287, 0.8947220777447558, 0.9939324520057288, 0.3263708279645252, 0.0389664589280303, 0.3158165877803921, 0.04255771826746191, 0.1849139335235478, 0.3255720367741921, 0.5113739914773018, 0.16448770269175927, 0.6566682569750413, 0.5776520171077744, 0.39676481813118003, 0.8791928748221031, 0.22739878817605397, 0.06252907684031028, 0.6272718635098893, 0.11487809601356624, 0.06732377536573741, 0.5171878499166007, 0.9172784823751415, 0.8984754395357885, 0.6360555404818192, 0.40243266758619434, 0.2475992299753933, 0.1669422365112384, 0.1906078764389888, 0.9050301876983026, 0.13610968306657167, 0.608100963689494, 0.533425961720379, 0.3415471049417095, 0.8586314676846226, 0.9259990637093486, 0.9634106051485283, 0.02013274749745053, 0.840859076418451], \"xaxis\": \"x18\", \"y\": [0.0944209317690835, 0.27888666415576524, 0.8971027826540451, 0.9703086965990342, 0.8817130309071713, 0.09213840503236637, 0.2506508366662863, 0.34751131338191643, 0.5632382537529974, 0.7839079806829057, 0.14136094541839772, 0.1239181574356889, 0.5183709155587094, 0.8879671011492536, 0.8862415126627536, 0.8273976397723527, 0.9681081716610408, 0.6508327487564848, 0.4882846998643292, 0.2111779063802618, 0.429923493368606, 0.053978396884075575, 0.6752913629339222, 0.818297863533424, 0.10834792608354837, 0.7416729809867745, 0.3628775786642817, 0.012018942217303707, 0.7945365042022574, 0.18279967366125482, 0.08793474635131249, 0.28965013916749427, 0.3867428066940999, 0.47335651636728804, 0.9712780949068064, 0.2695543242698041, 0.5920388619175281, 0.8329440168983173, 0.5821376074664862, 0.7341441427248303, 0.6227624864398681, 0.6250052644894432, 0.694038336600421, 0.8832295899648193, 0.6707685780149996, 0.38746302379405706, 0.8033371860928065, 0.5236804851053737, 0.77120374541525, 0.604409150379552, 0.987876295354519, 0.09435569749284856, 0.8072141448542798, 0.5435456856502564, 0.30227499214234754, 0.3214213942919856, 0.8702064837054988, 0.12449571669631243, 0.48026960273559016, 0.45892143122601836, 0.8007569335567352, 0.4519647917046654, 0.7658123844705579, 0.9790941401922512, 0.22129019065848288, 0.8548704194015775, 0.14665882650627815, 0.9265345989674076, 0.26461309397666444, 0.5502597317163734, 0.2839928253284473, 0.7089222343874108, 0.49096149864752403, 0.32516205928596875, 0.03897640035641359, 0.3017764549665125, 0.6906203045462328, 0.7351264083570286, 0.2311181454583905, 0.06924175796310938, 0.6003762149625248, 0.7739289795749544, 0.27240372360692, 0.5774631792329177, 0.9215225335910446, 0.12239180219434853, 0.7578831314505952, 0.2750102253255118, 0.398221968230527, 0.952935903177787, 0.7242616900052973, 0.11175707736807117, 0.5597984111910187, 0.017122938015978084, 0.287362995132462, 0.6575270669889517, 0.6494382732812658, 0.3225819514359911, 0.31842776744005963, 0.2227059466347322], \"yaxis\": \"y18\"}, {\"histfunc\": \"count\", \"histnorm\": \"\", \"marker\": {\"color\": \"rgba(128, 0, 128, 1.0)\", \"line\": {\"color\": \"#4D5663\", \"width\": 1.3}}, \"name\": \"d\", \"nbinsx\": 10, \"opacity\": 0.8, \"orientation\": \"v\", \"type\": \"histogram\", \"x\": [0.0944209317690835, 0.27888666415576524, 0.8971027826540451, 0.9703086965990342, 0.8817130309071713, 0.09213840503236637, 0.2506508366662863, 0.34751131338191643, 0.5632382537529974, 0.7839079806829057, 0.14136094541839772, 0.1239181574356889, 0.5183709155587094, 0.8879671011492536, 0.8862415126627536, 0.8273976397723527, 0.9681081716610408, 0.6508327487564848, 0.4882846998643292, 0.2111779063802618, 0.429923493368606, 0.053978396884075575, 0.6752913629339222, 0.818297863533424, 0.10834792608354837, 0.7416729809867745, 0.3628775786642817, 0.012018942217303707, 0.7945365042022574, 0.18279967366125482, 0.08793474635131249, 0.28965013916749427, 0.3867428066940999, 0.47335651636728804, 0.9712780949068064, 0.2695543242698041, 0.5920388619175281, 0.8329440168983173, 0.5821376074664862, 0.7341441427248303, 0.6227624864398681, 0.6250052644894432, 0.694038336600421, 0.8832295899648193, 0.6707685780149996, 0.38746302379405706, 0.8033371860928065, 0.5236804851053737, 0.77120374541525, 0.604409150379552, 0.987876295354519, 0.09435569749284856, 0.8072141448542798, 0.5435456856502564, 0.30227499214234754, 0.3214213942919856, 0.8702064837054988, 0.12449571669631243, 0.48026960273559016, 0.45892143122601836, 0.8007569335567352, 0.4519647917046654, 0.7658123844705579, 0.9790941401922512, 0.22129019065848288, 0.8548704194015775, 0.14665882650627815, 0.9265345989674076, 0.26461309397666444, 0.5502597317163734, 0.2839928253284473, 0.7089222343874108, 0.49096149864752403, 0.32516205928596875, 0.03897640035641359, 0.3017764549665125, 0.6906203045462328, 0.7351264083570286, 0.2311181454583905, 0.06924175796310938, 0.6003762149625248, 0.7739289795749544, 0.27240372360692, 0.5774631792329177, 0.9215225335910446, 0.12239180219434853, 0.7578831314505952, 0.2750102253255118, 0.398221968230527, 0.952935903177787, 0.7242616900052973, 0.11175707736807117, 0.5597984111910187, 0.017122938015978084, 0.287362995132462, 0.6575270669889517, 0.6494382732812658, 0.3225819514359911, 0.31842776744005963, 0.2227059466347322], \"xaxis\": \"x19\", \"yaxis\": \"y19\"}, {\"line\": {\"color\": \"rgba(128, 128, 128, 1.0)\", \"dash\": \"solid\", \"shape\": \"linear\", \"width\": 1.3}, \"marker\": {\"size\": 2, \"symbol\": \"circle\"}, \"mode\": \"markers\", \"name\": \"d\", \"text\": \"\", \"type\": \"scatter\", \"x\": [0.6386248483159467, 0.5230234794175541, 0.334425400642009, 0.14111906583561784, 0.5436551242044353, 0.057507016432407077, 0.12954892887776326, 0.9474162278384648, 0.8873319252212756, 0.0798116475475571, 0.6845187303329766, 0.9279149655444716, 0.5751229833911761, 0.5385265455177648, 0.41254552892304297, 0.7467804729749405, 0.7303742318613662, 0.19959853092484137, 0.9148640423520675, 0.8952233533479554, 0.3587099037823809, 0.8947079475764166, 0.7527801623028844, 0.43988726169127124, 0.979617189922973, 0.5981527430743774, 0.6613938719103097, 0.9096486529907447, 0.9040336650769615, 0.16372620539699945, 0.8322795437762803, 0.544529289185489, 0.490062206093244, 0.6259842236675176, 0.04725902504622792, 0.3140694265487689, 0.6127478881057613, 0.5722154499196853, 0.8374012010977401, 0.1400318206160982, 0.37280908452990746, 0.6661735631596962, 0.6925771504123995, 0.3853243054847725, 0.6508946678902378, 0.1700645517449968, 0.5857517349687471, 0.1079471753868666, 0.4120106730585339, 0.42498087958855335, 0.47051532678457186, 0.02972428590138876, 0.8474471912941407, 0.22001161029189775, 0.15420345160899263, 0.22976532588681176, 0.3369691691451099, 0.9176119660182019, 0.011858422487131981, 0.010595137724684345, 0.7029634195276654, 0.9154269395651924, 0.048411896943233224, 0.37245727074263757, 0.0970408691674347, 0.628711412980803, 0.1650999098586574, 0.9866845038179446, 0.93974413929864, 0.6074254936914476, 0.881871442159823, 0.484109551417512, 0.7605425257232539, 0.23709920904711146, 0.9376266121601954, 0.3520017586732076, 0.9009032391342261, 0.3524375275421264, 0.6525345794432336, 0.2802068582966859, 0.9769727521546657, 0.6925087981863739, 0.06564350783284423, 0.38019462296902584, 0.11830225307683995, 0.5464968311252386, 0.6515165595388999, 0.5763863815496948, 0.04558971712433424, 0.1096354810225646, 0.13246756152069228, 0.4098089587672449, 0.6538457126437346, 0.823988445540373, 0.451042162777353, 0.3730107195331247, 0.13183630769941235, 0.28695527760987427, 0.6429468693737694, 0.7815839940458188], \"xaxis\": \"x20\", \"y\": [0.0944209317690835, 0.27888666415576524, 0.8971027826540451, 0.9703086965990342, 0.8817130309071713, 0.09213840503236637, 0.2506508366662863, 0.34751131338191643, 0.5632382537529974, 0.7839079806829057, 0.14136094541839772, 0.1239181574356889, 0.5183709155587094, 0.8879671011492536, 0.8862415126627536, 0.8273976397723527, 0.9681081716610408, 0.6508327487564848, 0.4882846998643292, 0.2111779063802618, 0.429923493368606, 0.053978396884075575, 0.6752913629339222, 0.818297863533424, 0.10834792608354837, 0.7416729809867745, 0.3628775786642817, 0.012018942217303707, 0.7945365042022574, 0.18279967366125482, 0.08793474635131249, 0.28965013916749427, 0.3867428066940999, 0.47335651636728804, 0.9712780949068064, 0.2695543242698041, 0.5920388619175281, 0.8329440168983173, 0.5821376074664862, 0.7341441427248303, 0.6227624864398681, 0.6250052644894432, 0.694038336600421, 0.8832295899648193, 0.6707685780149996, 0.38746302379405706, 0.8033371860928065, 0.5236804851053737, 0.77120374541525, 0.604409150379552, 0.987876295354519, 0.09435569749284856, 0.8072141448542798, 0.5435456856502564, 0.30227499214234754, 0.3214213942919856, 0.8702064837054988, 0.12449571669631243, 0.48026960273559016, 0.45892143122601836, 0.8007569335567352, 0.4519647917046654, 0.7658123844705579, 0.9790941401922512, 0.22129019065848288, 0.8548704194015775, 0.14665882650627815, 0.9265345989674076, 0.26461309397666444, 0.5502597317163734, 0.2839928253284473, 0.7089222343874108, 0.49096149864752403, 0.32516205928596875, 0.03897640035641359, 0.3017764549665125, 0.6906203045462328, 0.7351264083570286, 0.2311181454583905, 0.06924175796310938, 0.6003762149625248, 0.7739289795749544, 0.27240372360692, 0.5774631792329177, 0.9215225335910446, 0.12239180219434853, 0.7578831314505952, 0.2750102253255118, 0.398221968230527, 0.952935903177787, 0.7242616900052973, 0.11175707736807117, 0.5597984111910187, 0.017122938015978084, 0.287362995132462, 0.6575270669889517, 0.6494382732812658, 0.3225819514359911, 0.31842776744005963, 0.2227059466347322], \"yaxis\": \"y20\"}, {\"line\": {\"color\": \"rgba(128, 128, 128, 1.0)\", \"dash\": \"solid\", \"shape\": \"linear\", \"width\": 1.3}, \"marker\": {\"size\": 2, \"symbol\": \"circle\"}, \"mode\": \"markers\", \"name\": \"e\", \"text\": \"\", \"type\": \"scatter\", \"x\": [0.06664371620244847, 0.5407620947234574, 0.6689151881233841, 0.721092412348836, 0.3759797914497993, 0.39527735063052827, 0.4934522395805472, 0.855897801465149, 0.7374102580018511, 0.7287535440658456, 0.9087893119029362, 0.0389729107276543, 0.9131979511127855, 0.40962089859421325, 0.47657514104573917, 0.08720299353607297, 0.13690164698888896, 0.5035481247163679, 0.266135761384094, 0.6549949357531493, 0.08051241257947772, 0.9214281008363931, 0.2829524471881053, 0.6527173363263697, 0.18800592724027765, 0.5581934203599891, 0.56098202587155, 0.4601468637306919, 0.7818563913340485, 0.5536017893406393, 0.2076552401035373, 0.35928237992313494, 0.6587218084028461, 0.811613083395124, 0.25420805654115597, 0.6840002810466673, 0.6111164582393296, 0.2938576195012119, 0.5111691101046774, 0.3875542277771037, 0.7451045436127167, 0.9501473884996332, 0.004498032004161545, 0.5092605688140478, 0.6564632643610027, 0.6201931780594065, 0.6842706981054051, 0.2709670378722623, 0.2120575730857116, 0.8134311075392741, 0.24116333321833616, 0.23103251700435679, 0.008515506141043239, 0.39050763129267874, 0.029665479583302568, 0.3045989776296153, 0.26725801998027643, 0.26039194932627807, 0.12224282846630519, 0.6330862699036091, 0.5457474773327132, 0.4180438341797862, 0.46736457227967254, 0.2185566342291806, 0.08059260147056657, 0.38368185010623335, 0.3086118649520281, 0.2908710248091253, 0.21329586658150246, 0.15006898078339448, 0.5450323688265107, 0.5531789726038746, 0.9480092589771546, 0.061642493465942194, 0.4105801261150056, 0.6296851450210539, 0.6368558770397965, 0.01642034253496527, 0.30064919685985814, 0.1130722453206362, 0.9458354659747372, 0.631307464603639, 0.6938179081613992, 0.8876160139563236, 0.2637635757689851, 0.7855477777304667, 0.22261139352906356, 0.004728933024584991, 0.9885717734657872, 0.6468037364293703, 0.8205938194632254, 0.46987932516763353, 0.10891344024228955, 0.5532588345858189, 0.3828403044919656, 0.6048392490123118, 0.12306666157306034, 0.7889998286430977, 0.9125580422545567, 0.013538786394112545], \"xaxis\": \"x21\", \"y\": [0.6386248483159467, 0.5230234794175541, 0.334425400642009, 0.14111906583561784, 0.5436551242044353, 0.057507016432407077, 0.12954892887776326, 0.9474162278384648, 0.8873319252212756, 0.0798116475475571, 0.6845187303329766, 0.9279149655444716, 0.5751229833911761, 0.5385265455177648, 0.41254552892304297, 0.7467804729749405, 0.7303742318613662, 0.19959853092484137, 0.9148640423520675, 0.8952233533479554, 0.3587099037823809, 0.8947079475764166, 0.7527801623028844, 0.43988726169127124, 0.979617189922973, 0.5981527430743774, 0.6613938719103097, 0.9096486529907447, 0.9040336650769615, 0.16372620539699945, 0.8322795437762803, 0.544529289185489, 0.490062206093244, 0.6259842236675176, 0.04725902504622792, 0.3140694265487689, 0.6127478881057613, 0.5722154499196853, 0.8374012010977401, 0.1400318206160982, 0.37280908452990746, 0.6661735631596962, 0.6925771504123995, 0.3853243054847725, 0.6508946678902378, 0.1700645517449968, 0.5857517349687471, 0.1079471753868666, 0.4120106730585339, 0.42498087958855335, 0.47051532678457186, 0.02972428590138876, 0.8474471912941407, 0.22001161029189775, 0.15420345160899263, 0.22976532588681176, 0.3369691691451099, 0.9176119660182019, 0.011858422487131981, 0.010595137724684345, 0.7029634195276654, 0.9154269395651924, 0.048411896943233224, 0.37245727074263757, 0.0970408691674347, 0.628711412980803, 0.1650999098586574, 0.9866845038179446, 0.93974413929864, 0.6074254936914476, 0.881871442159823, 0.484109551417512, 0.7605425257232539, 0.23709920904711146, 0.9376266121601954, 0.3520017586732076, 0.9009032391342261, 0.3524375275421264, 0.6525345794432336, 0.2802068582966859, 0.9769727521546657, 0.6925087981863739, 0.06564350783284423, 0.38019462296902584, 0.11830225307683995, 0.5464968311252386, 0.6515165595388999, 0.5763863815496948, 0.04558971712433424, 0.1096354810225646, 0.13246756152069228, 0.4098089587672449, 0.6538457126437346, 0.823988445540373, 0.451042162777353, 0.3730107195331247, 0.13183630769941235, 0.28695527760987427, 0.6429468693737694, 0.7815839940458188], \"yaxis\": \"y21\"}, {\"line\": {\"color\": \"rgba(128, 128, 128, 1.0)\", \"dash\": \"solid\", \"shape\": \"linear\", \"width\": 1.3}, \"marker\": {\"size\": 2, \"symbol\": \"circle\"}, \"mode\": \"markers\", \"name\": \"e\", \"text\": \"\", \"type\": \"scatter\", \"x\": [0.1708528654602024, 0.7947643961159381, 0.12666139207012694, 0.3704731100280987, 0.4268231835968821, 0.35764351148766405, 0.2305666365210597, 0.5538324288018692, 0.594848156221167, 0.9200479583746664, 0.07590398582031088, 0.9671854096015232, 0.7125727126759903, 0.8271226920363048, 0.7927056070623242, 0.8726781316595718, 0.8439521568895053, 0.09259317145482682, 0.23178163096381899, 0.09344484466459091, 0.5209866753943617, 0.2827883678792852, 0.7060326111475312, 0.8269352626736227, 0.07581189650262699, 0.5534557276357995, 0.4709639927533994, 0.5077795018414701, 0.8146512167413209, 0.0632160619388743, 0.3784684778530909, 0.11831403628208981, 0.6604793256512019, 0.8508837419021006, 0.07326909011979632, 0.1707061886641288, 0.24602297556450203, 0.32942390765767826, 0.7827689079006152, 0.5707580434972809, 0.4557217240085497, 0.3213546954349775, 0.959796038755243, 0.6792786524938019, 0.6221080084291316, 0.7916085199812986, 0.196691226645063, 0.23166202663976354, 0.9871650353364658, 0.5609852351224877, 0.23060749190256702, 0.6030149483879629, 0.5418942503693233, 0.8313579981419337, 0.5005334875818716, 0.17581835788597155, 0.06043898969061501, 0.1513690889963779, 0.4965519044757296, 0.6845533661268685, 0.9632402423903895, 0.15123322447511456, 0.05491020331362695, 0.06992307697450528, 0.9251471556135247, 0.07302669974492837, 0.8412452325410701, 0.052016817071149024, 0.8937151859836213, 0.7394998538110885, 0.3726497227625558, 0.6433686562554597, 0.7862230059861702, 0.8116612066335772, 0.38686238605025935, 0.3060482999038615, 0.6352252249607443, 0.7774964614027035, 0.7629484316044388, 0.987975440479305, 0.8664798150644375, 0.020203965710475558, 0.3398395293157366, 0.1122650337145874, 0.07152937015646599, 0.5787200279474213, 0.6593323504043507, 0.37568271757463945, 0.6662653070220816, 0.7340273240332108, 0.8256606515853963, 0.6375461978363576, 0.8841503987586986, 0.7621034473804962, 0.04889787877109286, 0.0060500550690697485, 0.4195028769104727, 0.209559422638408, 0.044830301159018204, 0.7621977253010859], \"xaxis\": \"x22\", \"y\": [0.6386248483159467, 0.5230234794175541, 0.334425400642009, 0.14111906583561784, 0.5436551242044353, 0.057507016432407077, 0.12954892887776326, 0.9474162278384648, 0.8873319252212756, 0.0798116475475571, 0.6845187303329766, 0.9279149655444716, 0.5751229833911761, 0.5385265455177648, 0.41254552892304297, 0.7467804729749405, 0.7303742318613662, 0.19959853092484137, 0.9148640423520675, 0.8952233533479554, 0.3587099037823809, 0.8947079475764166, 0.7527801623028844, 0.43988726169127124, 0.979617189922973, 0.5981527430743774, 0.6613938719103097, 0.9096486529907447, 0.9040336650769615, 0.16372620539699945, 0.8322795437762803, 0.544529289185489, 0.490062206093244, 0.6259842236675176, 0.04725902504622792, 0.3140694265487689, 0.6127478881057613, 0.5722154499196853, 0.8374012010977401, 0.1400318206160982, 0.37280908452990746, 0.6661735631596962, 0.6925771504123995, 0.3853243054847725, 0.6508946678902378, 0.1700645517449968, 0.5857517349687471, 0.1079471753868666, 0.4120106730585339, 0.42498087958855335, 0.47051532678457186, 0.02972428590138876, 0.8474471912941407, 0.22001161029189775, 0.15420345160899263, 0.22976532588681176, 0.3369691691451099, 0.9176119660182019, 0.011858422487131981, 0.010595137724684345, 0.7029634195276654, 0.9154269395651924, 0.048411896943233224, 0.37245727074263757, 0.0970408691674347, 0.628711412980803, 0.1650999098586574, 0.9866845038179446, 0.93974413929864, 0.6074254936914476, 0.881871442159823, 0.484109551417512, 0.7605425257232539, 0.23709920904711146, 0.9376266121601954, 0.3520017586732076, 0.9009032391342261, 0.3524375275421264, 0.6525345794432336, 0.2802068582966859, 0.9769727521546657, 0.6925087981863739, 0.06564350783284423, 0.38019462296902584, 0.11830225307683995, 0.5464968311252386, 0.6515165595388999, 0.5763863815496948, 0.04558971712433424, 0.1096354810225646, 0.13246756152069228, 0.4098089587672449, 0.6538457126437346, 0.823988445540373, 0.451042162777353, 0.3730107195331247, 0.13183630769941235, 0.28695527760987427, 0.6429468693737694, 0.7815839940458188], \"yaxis\": \"y22\"}, {\"line\": {\"color\": \"rgba(128, 128, 128, 1.0)\", \"dash\": \"solid\", \"shape\": \"linear\", \"width\": 1.3}, \"marker\": {\"size\": 2, \"symbol\": \"circle\"}, \"mode\": \"markers\", \"name\": \"e\", \"text\": \"\", \"type\": \"scatter\", \"x\": [0.6049675436787881, 0.26331913223246295, 0.7093497387667826, 0.8302857557323808, 0.48628347640271563, 0.5522401841546365, 0.7228291561339886, 0.3503155514198716, 0.9914397301772295, 0.3954321460490898, 0.7843116835894328, 0.8098075082347174, 0.5932842876821278, 0.02674830381482962, 0.4766817949581674, 0.23002742439608903, 0.4602265437259899, 0.5296780990255819, 0.6942283623392663, 0.6045974354017074, 0.8693925106877225, 0.1021380012277443, 0.7117917702159499, 0.7969334337405094, 0.2717788438852057, 0.43278204581902957, 0.3045708377684585, 0.2282920528355673, 0.04597442807158014, 0.26481441120906113, 0.5211219007698088, 0.27106703862801573, 0.28702898825297607, 0.9765162555913119, 0.008257253692387834, 0.5447918657135943, 0.21141605255341878, 0.09488071847727797, 0.9043563093859569, 0.288312049701824, 0.7012557608593932, 0.7256966546072516, 0.9648880018708532, 0.08717577188783832, 0.4642191069010462, 0.549304958948628, 0.7012884961099369, 0.6533582657360641, 0.6276470849845789, 0.9648159983530032, 0.15600081458444204, 0.5406290404996967, 0.8863212327369236, 0.1677634545916583, 0.5178539995027887, 0.3458429211423141, 0.1448387562693667, 0.381641212123084, 0.3032667861950964, 0.44372221360820363, 0.5546848039087976, 0.9720986463159164, 0.7225295342207287, 0.8947220777447558, 0.9939324520057288, 0.3263708279645252, 0.0389664589280303, 0.3158165877803921, 0.04255771826746191, 0.1849139335235478, 0.3255720367741921, 0.5113739914773018, 0.16448770269175927, 0.6566682569750413, 0.5776520171077744, 0.39676481813118003, 0.8791928748221031, 0.22739878817605397, 0.06252907684031028, 0.6272718635098893, 0.11487809601356624, 0.06732377536573741, 0.5171878499166007, 0.9172784823751415, 0.8984754395357885, 0.6360555404818192, 0.40243266758619434, 0.2475992299753933, 0.1669422365112384, 0.1906078764389888, 0.9050301876983026, 0.13610968306657167, 0.608100963689494, 0.533425961720379, 0.3415471049417095, 0.8586314676846226, 0.9259990637093486, 0.9634106051485283, 0.02013274749745053, 0.840859076418451], \"xaxis\": \"x23\", \"y\": [0.6386248483159467, 0.5230234794175541, 0.334425400642009, 0.14111906583561784, 0.5436551242044353, 0.057507016432407077, 0.12954892887776326, 0.9474162278384648, 0.8873319252212756, 0.0798116475475571, 0.6845187303329766, 0.9279149655444716, 0.5751229833911761, 0.5385265455177648, 0.41254552892304297, 0.7467804729749405, 0.7303742318613662, 0.19959853092484137, 0.9148640423520675, 0.8952233533479554, 0.3587099037823809, 0.8947079475764166, 0.7527801623028844, 0.43988726169127124, 0.979617189922973, 0.5981527430743774, 0.6613938719103097, 0.9096486529907447, 0.9040336650769615, 0.16372620539699945, 0.8322795437762803, 0.544529289185489, 0.490062206093244, 0.6259842236675176, 0.04725902504622792, 0.3140694265487689, 0.6127478881057613, 0.5722154499196853, 0.8374012010977401, 0.1400318206160982, 0.37280908452990746, 0.6661735631596962, 0.6925771504123995, 0.3853243054847725, 0.6508946678902378, 0.1700645517449968, 0.5857517349687471, 0.1079471753868666, 0.4120106730585339, 0.42498087958855335, 0.47051532678457186, 0.02972428590138876, 0.8474471912941407, 0.22001161029189775, 0.15420345160899263, 0.22976532588681176, 0.3369691691451099, 0.9176119660182019, 0.011858422487131981, 0.010595137724684345, 0.7029634195276654, 0.9154269395651924, 0.048411896943233224, 0.37245727074263757, 0.0970408691674347, 0.628711412980803, 0.1650999098586574, 0.9866845038179446, 0.93974413929864, 0.6074254936914476, 0.881871442159823, 0.484109551417512, 0.7605425257232539, 0.23709920904711146, 0.9376266121601954, 0.3520017586732076, 0.9009032391342261, 0.3524375275421264, 0.6525345794432336, 0.2802068582966859, 0.9769727521546657, 0.6925087981863739, 0.06564350783284423, 0.38019462296902584, 0.11830225307683995, 0.5464968311252386, 0.6515165595388999, 0.5763863815496948, 0.04558971712433424, 0.1096354810225646, 0.13246756152069228, 0.4098089587672449, 0.6538457126437346, 0.823988445540373, 0.451042162777353, 0.3730107195331247, 0.13183630769941235, 0.28695527760987427, 0.6429468693737694, 0.7815839940458188], \"yaxis\": \"y23\"}, {\"line\": {\"color\": \"rgba(128, 128, 128, 1.0)\", \"dash\": \"solid\", \"shape\": \"linear\", \"width\": 1.3}, \"marker\": {\"size\": 2, \"symbol\": \"circle\"}, \"mode\": \"markers\", \"name\": \"e\", \"text\": \"\", \"type\": \"scatter\", \"x\": [0.0944209317690835, 0.27888666415576524, 0.8971027826540451, 0.9703086965990342, 0.8817130309071713, 0.09213840503236637, 0.2506508366662863, 0.34751131338191643, 0.5632382537529974, 0.7839079806829057, 0.14136094541839772, 0.1239181574356889, 0.5183709155587094, 0.8879671011492536, 0.8862415126627536, 0.8273976397723527, 0.9681081716610408, 0.6508327487564848, 0.4882846998643292, 0.2111779063802618, 0.429923493368606, 0.053978396884075575, 0.6752913629339222, 0.818297863533424, 0.10834792608354837, 0.7416729809867745, 0.3628775786642817, 0.012018942217303707, 0.7945365042022574, 0.18279967366125482, 0.08793474635131249, 0.28965013916749427, 0.3867428066940999, 0.47335651636728804, 0.9712780949068064, 0.2695543242698041, 0.5920388619175281, 0.8329440168983173, 0.5821376074664862, 0.7341441427248303, 0.6227624864398681, 0.6250052644894432, 0.694038336600421, 0.8832295899648193, 0.6707685780149996, 0.38746302379405706, 0.8033371860928065, 0.5236804851053737, 0.77120374541525, 0.604409150379552, 0.987876295354519, 0.09435569749284856, 0.8072141448542798, 0.5435456856502564, 0.30227499214234754, 0.3214213942919856, 0.8702064837054988, 0.12449571669631243, 0.48026960273559016, 0.45892143122601836, 0.8007569335567352, 0.4519647917046654, 0.7658123844705579, 0.9790941401922512, 0.22129019065848288, 0.8548704194015775, 0.14665882650627815, 0.9265345989674076, 0.26461309397666444, 0.5502597317163734, 0.2839928253284473, 0.7089222343874108, 0.49096149864752403, 0.32516205928596875, 0.03897640035641359, 0.3017764549665125, 0.6906203045462328, 0.7351264083570286, 0.2311181454583905, 0.06924175796310938, 0.6003762149625248, 0.7739289795749544, 0.27240372360692, 0.5774631792329177, 0.9215225335910446, 0.12239180219434853, 0.7578831314505952, 0.2750102253255118, 0.398221968230527, 0.952935903177787, 0.7242616900052973, 0.11175707736807117, 0.5597984111910187, 0.017122938015978084, 0.287362995132462, 0.6575270669889517, 0.6494382732812658, 0.3225819514359911, 0.31842776744005963, 0.2227059466347322], \"xaxis\": \"x24\", \"y\": [0.6386248483159467, 0.5230234794175541, 0.334425400642009, 0.14111906583561784, 0.5436551242044353, 0.057507016432407077, 0.12954892887776326, 0.9474162278384648, 0.8873319252212756, 0.0798116475475571, 0.6845187303329766, 0.9279149655444716, 0.5751229833911761, 0.5385265455177648, 0.41254552892304297, 0.7467804729749405, 0.7303742318613662, 0.19959853092484137, 0.9148640423520675, 0.8952233533479554, 0.3587099037823809, 0.8947079475764166, 0.7527801623028844, 0.43988726169127124, 0.979617189922973, 0.5981527430743774, 0.6613938719103097, 0.9096486529907447, 0.9040336650769615, 0.16372620539699945, 0.8322795437762803, 0.544529289185489, 0.490062206093244, 0.6259842236675176, 0.04725902504622792, 0.3140694265487689, 0.6127478881057613, 0.5722154499196853, 0.8374012010977401, 0.1400318206160982, 0.37280908452990746, 0.6661735631596962, 0.6925771504123995, 0.3853243054847725, 0.6508946678902378, 0.1700645517449968, 0.5857517349687471, 0.1079471753868666, 0.4120106730585339, 0.42498087958855335, 0.47051532678457186, 0.02972428590138876, 0.8474471912941407, 0.22001161029189775, 0.15420345160899263, 0.22976532588681176, 0.3369691691451099, 0.9176119660182019, 0.011858422487131981, 0.010595137724684345, 0.7029634195276654, 0.9154269395651924, 0.048411896943233224, 0.37245727074263757, 0.0970408691674347, 0.628711412980803, 0.1650999098586574, 0.9866845038179446, 0.93974413929864, 0.6074254936914476, 0.881871442159823, 0.484109551417512, 0.7605425257232539, 0.23709920904711146, 0.9376266121601954, 0.3520017586732076, 0.9009032391342261, 0.3524375275421264, 0.6525345794432336, 0.2802068582966859, 0.9769727521546657, 0.6925087981863739, 0.06564350783284423, 0.38019462296902584, 0.11830225307683995, 0.5464968311252386, 0.6515165595388999, 0.5763863815496948, 0.04558971712433424, 0.1096354810225646, 0.13246756152069228, 0.4098089587672449, 0.6538457126437346, 0.823988445540373, 0.451042162777353, 0.3730107195331247, 0.13183630769941235, 0.28695527760987427, 0.6429468693737694, 0.7815839940458188], \"yaxis\": \"y24\"}, {\"histfunc\": \"count\", \"histnorm\": \"\", \"marker\": {\"color\": \"rgba(219, 64, 82, 1.0)\", \"line\": {\"color\": \"#4D5663\", \"width\": 1.3}}, \"name\": \"e\", \"nbinsx\": 10, \"opacity\": 0.8, \"orientation\": \"v\", \"type\": \"histogram\", \"x\": [0.6386248483159467, 0.5230234794175541, 0.334425400642009, 0.14111906583561784, 0.5436551242044353, 0.057507016432407077, 0.12954892887776326, 0.9474162278384648, 0.8873319252212756, 0.0798116475475571, 0.6845187303329766, 0.9279149655444716, 0.5751229833911761, 0.5385265455177648, 0.41254552892304297, 0.7467804729749405, 0.7303742318613662, 0.19959853092484137, 0.9148640423520675, 0.8952233533479554, 0.3587099037823809, 0.8947079475764166, 0.7527801623028844, 0.43988726169127124, 0.979617189922973, 0.5981527430743774, 0.6613938719103097, 0.9096486529907447, 0.9040336650769615, 0.16372620539699945, 0.8322795437762803, 0.544529289185489, 0.490062206093244, 0.6259842236675176, 0.04725902504622792, 0.3140694265487689, 0.6127478881057613, 0.5722154499196853, 0.8374012010977401, 0.1400318206160982, 0.37280908452990746, 0.6661735631596962, 0.6925771504123995, 0.3853243054847725, 0.6508946678902378, 0.1700645517449968, 0.5857517349687471, 0.1079471753868666, 0.4120106730585339, 0.42498087958855335, 0.47051532678457186, 0.02972428590138876, 0.8474471912941407, 0.22001161029189775, 0.15420345160899263, 0.22976532588681176, 0.3369691691451099, 0.9176119660182019, 0.011858422487131981, 0.010595137724684345, 0.7029634195276654, 0.9154269395651924, 0.048411896943233224, 0.37245727074263757, 0.0970408691674347, 0.628711412980803, 0.1650999098586574, 0.9866845038179446, 0.93974413929864, 0.6074254936914476, 0.881871442159823, 0.484109551417512, 0.7605425257232539, 0.23709920904711146, 0.9376266121601954, 0.3520017586732076, 0.9009032391342261, 0.3524375275421264, 0.6525345794432336, 0.2802068582966859, 0.9769727521546657, 0.6925087981863739, 0.06564350783284423, 0.38019462296902584, 0.11830225307683995, 0.5464968311252386, 0.6515165595388999, 0.5763863815496948, 0.04558971712433424, 0.1096354810225646, 0.13246756152069228, 0.4098089587672449, 0.6538457126437346, 0.823988445540373, 0.451042162777353, 0.3730107195331247, 0.13183630769941235, 0.28695527760987427, 0.6429468693737694, 0.7815839940458188], \"xaxis\": \"x25\", \"yaxis\": \"y25\"}],\n                        {\"bargap\": 0.02, \"legend\": {\"bgcolor\": \"#F5F6F9\", \"font\": {\"color\": \"#4D5663\"}}, \"paper_bgcolor\": \"#F5F6F9\", \"plot_bgcolor\": \"#F5F6F9\", \"showlegend\": false, \"template\": {\"data\": {\"bar\": [{\"error_x\": {\"color\": \"#2a3f5f\"}, \"error_y\": {\"color\": \"#2a3f5f\"}, \"marker\": {\"line\": {\"color\": \"#E5ECF6\", \"width\": 0.5}}, \"type\": \"bar\"}], \"barpolar\": [{\"marker\": {\"line\": {\"color\": \"#E5ECF6\", \"width\": 0.5}}, \"type\": \"barpolar\"}], \"carpet\": [{\"aaxis\": {\"endlinecolor\": \"#2a3f5f\", \"gridcolor\": \"white\", \"linecolor\": \"white\", \"minorgridcolor\": \"white\", \"startlinecolor\": \"#2a3f5f\"}, \"baxis\": {\"endlinecolor\": \"#2a3f5f\", \"gridcolor\": \"white\", \"linecolor\": \"white\", \"minorgridcolor\": \"white\", \"startlinecolor\": \"#2a3f5f\"}, \"type\": \"carpet\"}], \"choropleth\": [{\"colorbar\": {\"outlinewidth\": 0, \"ticks\": \"\"}, \"type\": \"choropleth\"}], \"contour\": [{\"colorbar\": {\"outlinewidth\": 0, \"ticks\": \"\"}, \"colorscale\": [[0.0, \"#0d0887\"], [0.1111111111111111, \"#46039f\"], [0.2222222222222222, \"#7201a8\"], [0.3333333333333333, \"#9c179e\"], [0.4444444444444444, \"#bd3786\"], [0.5555555555555556, \"#d8576b\"], [0.6666666666666666, \"#ed7953\"], [0.7777777777777778, \"#fb9f3a\"], [0.8888888888888888, \"#fdca26\"], [1.0, \"#f0f921\"]], \"type\": \"contour\"}], \"contourcarpet\": [{\"colorbar\": {\"outlinewidth\": 0, \"ticks\": \"\"}, \"type\": \"contourcarpet\"}], \"heatmap\": [{\"colorbar\": {\"outlinewidth\": 0, \"ticks\": \"\"}, \"colorscale\": [[0.0, \"#0d0887\"], [0.1111111111111111, \"#46039f\"], [0.2222222222222222, \"#7201a8\"], [0.3333333333333333, \"#9c179e\"], [0.4444444444444444, \"#bd3786\"], [0.5555555555555556, \"#d8576b\"], [0.6666666666666666, \"#ed7953\"], [0.7777777777777778, \"#fb9f3a\"], [0.8888888888888888, \"#fdca26\"], [1.0, \"#f0f921\"]], \"type\": \"heatmap\"}], \"heatmapgl\": [{\"colorbar\": {\"outlinewidth\": 0, \"ticks\": \"\"}, \"colorscale\": [[0.0, \"#0d0887\"], [0.1111111111111111, \"#46039f\"], [0.2222222222222222, \"#7201a8\"], [0.3333333333333333, \"#9c179e\"], [0.4444444444444444, \"#bd3786\"], [0.5555555555555556, \"#d8576b\"], [0.6666666666666666, \"#ed7953\"], [0.7777777777777778, \"#fb9f3a\"], [0.8888888888888888, \"#fdca26\"], [1.0, \"#f0f921\"]], \"type\": \"heatmapgl\"}], \"histogram\": [{\"marker\": {\"colorbar\": {\"outlinewidth\": 0, \"ticks\": \"\"}}, \"type\": \"histogram\"}], \"histogram2d\": [{\"colorbar\": {\"outlinewidth\": 0, \"ticks\": \"\"}, \"colorscale\": [[0.0, \"#0d0887\"], [0.1111111111111111, \"#46039f\"], [0.2222222222222222, \"#7201a8\"], [0.3333333333333333, \"#9c179e\"], [0.4444444444444444, \"#bd3786\"], [0.5555555555555556, \"#d8576b\"], [0.6666666666666666, \"#ed7953\"], [0.7777777777777778, \"#fb9f3a\"], [0.8888888888888888, \"#fdca26\"], [1.0, \"#f0f921\"]], \"type\": \"histogram2d\"}], \"histogram2dcontour\": [{\"colorbar\": {\"outlinewidth\": 0, \"ticks\": \"\"}, \"colorscale\": [[0.0, \"#0d0887\"], [0.1111111111111111, \"#46039f\"], [0.2222222222222222, \"#7201a8\"], [0.3333333333333333, \"#9c179e\"], [0.4444444444444444, \"#bd3786\"], [0.5555555555555556, \"#d8576b\"], [0.6666666666666666, \"#ed7953\"], [0.7777777777777778, \"#fb9f3a\"], [0.8888888888888888, \"#fdca26\"], [1.0, \"#f0f921\"]], \"type\": \"histogram2dcontour\"}], \"mesh3d\": [{\"colorbar\": {\"outlinewidth\": 0, \"ticks\": \"\"}, \"type\": \"mesh3d\"}], \"parcoords\": [{\"line\": {\"colorbar\": {\"outlinewidth\": 0, \"ticks\": \"\"}}, \"type\": \"parcoords\"}], \"pie\": [{\"automargin\": true, \"type\": \"pie\"}], \"scatter\": [{\"marker\": {\"colorbar\": {\"outlinewidth\": 0, \"ticks\": \"\"}}, \"type\": \"scatter\"}], \"scatter3d\": [{\"line\": {\"colorbar\": {\"outlinewidth\": 0, \"ticks\": \"\"}}, \"marker\": {\"colorbar\": {\"outlinewidth\": 0, \"ticks\": \"\"}}, \"type\": \"scatter3d\"}], \"scattercarpet\": [{\"marker\": {\"colorbar\": {\"outlinewidth\": 0, \"ticks\": \"\"}}, \"type\": \"scattercarpet\"}], \"scattergeo\": [{\"marker\": {\"colorbar\": {\"outlinewidth\": 0, \"ticks\": \"\"}}, \"type\": \"scattergeo\"}], \"scattergl\": [{\"marker\": {\"colorbar\": {\"outlinewidth\": 0, \"ticks\": \"\"}}, \"type\": \"scattergl\"}], \"scattermapbox\": [{\"marker\": {\"colorbar\": {\"outlinewidth\": 0, \"ticks\": \"\"}}, \"type\": \"scattermapbox\"}], \"scatterpolar\": [{\"marker\": {\"colorbar\": {\"outlinewidth\": 0, \"ticks\": \"\"}}, \"type\": \"scatterpolar\"}], \"scatterpolargl\": [{\"marker\": {\"colorbar\": {\"outlinewidth\": 0, \"ticks\": \"\"}}, \"type\": \"scatterpolargl\"}], \"scatterternary\": [{\"marker\": {\"colorbar\": {\"outlinewidth\": 0, \"ticks\": \"\"}}, \"type\": \"scatterternary\"}], \"surface\": [{\"colorbar\": {\"outlinewidth\": 0, \"ticks\": \"\"}, \"colorscale\": [[0.0, \"#0d0887\"], [0.1111111111111111, \"#46039f\"], [0.2222222222222222, \"#7201a8\"], [0.3333333333333333, \"#9c179e\"], [0.4444444444444444, \"#bd3786\"], [0.5555555555555556, \"#d8576b\"], [0.6666666666666666, \"#ed7953\"], [0.7777777777777778, \"#fb9f3a\"], [0.8888888888888888, \"#fdca26\"], [1.0, \"#f0f921\"]], \"type\": \"surface\"}], \"table\": [{\"cells\": {\"fill\": {\"color\": \"#EBF0F8\"}, \"line\": {\"color\": \"white\"}}, \"header\": {\"fill\": {\"color\": \"#C8D4E3\"}, \"line\": {\"color\": \"white\"}}, \"type\": \"table\"}]}, \"layout\": {\"annotationdefaults\": {\"arrowcolor\": \"#2a3f5f\", \"arrowhead\": 0, \"arrowwidth\": 1}, \"coloraxis\": {\"colorbar\": {\"outlinewidth\": 0, \"ticks\": \"\"}}, \"colorscale\": {\"diverging\": [[0, \"#8e0152\"], [0.1, \"#c51b7d\"], [0.2, \"#de77ae\"], [0.3, \"#f1b6da\"], [0.4, \"#fde0ef\"], [0.5, \"#f7f7f7\"], [0.6, \"#e6f5d0\"], [0.7, \"#b8e186\"], [0.8, \"#7fbc41\"], [0.9, \"#4d9221\"], [1, \"#276419\"]], \"sequential\": [[0.0, \"#0d0887\"], [0.1111111111111111, \"#46039f\"], [0.2222222222222222, \"#7201a8\"], [0.3333333333333333, \"#9c179e\"], [0.4444444444444444, \"#bd3786\"], [0.5555555555555556, \"#d8576b\"], [0.6666666666666666, \"#ed7953\"], [0.7777777777777778, \"#fb9f3a\"], [0.8888888888888888, \"#fdca26\"], [1.0, \"#f0f921\"]], \"sequentialminus\": [[0.0, \"#0d0887\"], [0.1111111111111111, \"#46039f\"], [0.2222222222222222, \"#7201a8\"], [0.3333333333333333, \"#9c179e\"], [0.4444444444444444, \"#bd3786\"], [0.5555555555555556, \"#d8576b\"], [0.6666666666666666, \"#ed7953\"], [0.7777777777777778, \"#fb9f3a\"], [0.8888888888888888, \"#fdca26\"], [1.0, \"#f0f921\"]]}, \"colorway\": [\"#636efa\", \"#EF553B\", \"#00cc96\", \"#ab63fa\", \"#FFA15A\", \"#19d3f3\", \"#FF6692\", \"#B6E880\", \"#FF97FF\", \"#FECB52\"], \"font\": {\"color\": \"#2a3f5f\"}, \"geo\": {\"bgcolor\": \"white\", \"lakecolor\": \"white\", \"landcolor\": \"#E5ECF6\", \"showlakes\": true, \"showland\": true, \"subunitcolor\": \"white\"}, \"hoverlabel\": {\"align\": \"left\"}, \"hovermode\": \"closest\", \"mapbox\": {\"style\": \"light\"}, \"paper_bgcolor\": \"white\", \"plot_bgcolor\": \"#E5ECF6\", \"polar\": {\"angularaxis\": {\"gridcolor\": \"white\", \"linecolor\": \"white\", \"ticks\": \"\"}, \"bgcolor\": \"#E5ECF6\", \"radialaxis\": {\"gridcolor\": \"white\", \"linecolor\": \"white\", \"ticks\": \"\"}}, \"scene\": {\"xaxis\": {\"backgroundcolor\": \"#E5ECF6\", \"gridcolor\": \"white\", \"gridwidth\": 2, \"linecolor\": \"white\", \"showbackground\": true, \"ticks\": \"\", \"zerolinecolor\": \"white\"}, \"yaxis\": {\"backgroundcolor\": \"#E5ECF6\", \"gridcolor\": \"white\", \"gridwidth\": 2, \"linecolor\": \"white\", \"showbackground\": true, \"ticks\": \"\", \"zerolinecolor\": \"white\"}, \"zaxis\": {\"backgroundcolor\": \"#E5ECF6\", \"gridcolor\": \"white\", \"gridwidth\": 2, \"linecolor\": \"white\", \"showbackground\": true, \"ticks\": \"\", \"zerolinecolor\": \"white\"}}, \"shapedefaults\": {\"line\": {\"color\": \"#2a3f5f\"}}, \"ternary\": {\"aaxis\": {\"gridcolor\": \"white\", \"linecolor\": \"white\", \"ticks\": \"\"}, \"baxis\": {\"gridcolor\": \"white\", \"linecolor\": \"white\", \"ticks\": \"\"}, \"bgcolor\": \"#E5ECF6\", \"caxis\": {\"gridcolor\": \"white\", \"linecolor\": \"white\", \"ticks\": \"\"}}, \"title\": {\"x\": 0.05}, \"xaxis\": {\"automargin\": true, \"gridcolor\": \"white\", \"linecolor\": \"white\", \"ticks\": \"\", \"title\": {\"standoff\": 15}, \"zerolinecolor\": \"white\", \"zerolinewidth\": 2}, \"yaxis\": {\"automargin\": true, \"gridcolor\": \"white\", \"linecolor\": \"white\", \"ticks\": \"\", \"title\": {\"standoff\": 15}, \"zerolinecolor\": \"white\", \"zerolinewidth\": 2}}}, \"title\": {\"font\": {\"color\": \"#4D5663\"}}, \"xaxis\": {\"anchor\": \"y\", \"domain\": [0.0, 0.16], \"gridcolor\": \"#E1E5ED\", \"showgrid\": false, \"tickfont\": {\"color\": \"#4D5663\"}, \"title\": {\"font\": {\"color\": \"#4D5663\"}, \"text\": \"\"}, \"zerolinecolor\": \"#E1E5ED\"}, \"xaxis10\": {\"anchor\": \"y10\", \"domain\": [0.8400000000000001, 1.0], \"gridcolor\": \"#E1E5ED\", \"showgrid\": false, \"tickfont\": {\"color\": \"#4D5663\"}, \"title\": {\"font\": {\"color\": \"#4D5663\"}, \"text\": \"\"}, \"zerolinecolor\": \"#E1E5ED\"}, \"xaxis11\": {\"anchor\": \"y11\", \"domain\": [0.0, 0.16], \"gridcolor\": \"#E1E5ED\", \"showgrid\": false, \"tickfont\": {\"color\": \"#4D5663\"}, \"title\": {\"font\": {\"color\": \"#4D5663\"}, \"text\": \"\"}, \"zerolinecolor\": \"#E1E5ED\"}, \"xaxis12\": {\"anchor\": \"y12\", \"domain\": [0.21000000000000002, 0.37], \"gridcolor\": \"#E1E5ED\", \"showgrid\": false, \"tickfont\": {\"color\": \"#4D5663\"}, \"title\": {\"font\": {\"color\": \"#4D5663\"}, \"text\": \"\"}, \"zerolinecolor\": \"#E1E5ED\"}, \"xaxis13\": {\"anchor\": \"y13\", \"domain\": [0.42000000000000004, 0.5800000000000001], \"gridcolor\": \"#E1E5ED\", \"showgrid\": false, \"tickfont\": {\"color\": \"#4D5663\"}, \"title\": {\"font\": {\"color\": \"#4D5663\"}, \"text\": \"\"}, \"zerolinecolor\": \"#E1E5ED\"}, \"xaxis14\": {\"anchor\": \"y14\", \"domain\": [0.63, 0.79], \"gridcolor\": \"#E1E5ED\", \"showgrid\": false, \"tickfont\": {\"color\": \"#4D5663\"}, \"title\": {\"font\": {\"color\": \"#4D5663\"}, \"text\": \"\"}, \"zerolinecolor\": \"#E1E5ED\"}, \"xaxis15\": {\"anchor\": \"y15\", \"domain\": [0.8400000000000001, 1.0], \"gridcolor\": \"#E1E5ED\", \"showgrid\": false, \"tickfont\": {\"color\": \"#4D5663\"}, \"title\": {\"font\": {\"color\": \"#4D5663\"}, \"text\": \"\"}, \"zerolinecolor\": \"#E1E5ED\"}, \"xaxis16\": {\"anchor\": \"y16\", \"domain\": [0.0, 0.16], \"gridcolor\": \"#E1E5ED\", \"showgrid\": false, \"tickfont\": {\"color\": \"#4D5663\"}, \"title\": {\"font\": {\"color\": \"#4D5663\"}, \"text\": \"\"}, \"zerolinecolor\": \"#E1E5ED\"}, \"xaxis17\": {\"anchor\": \"y17\", \"domain\": [0.21000000000000002, 0.37], \"gridcolor\": \"#E1E5ED\", \"showgrid\": false, \"tickfont\": {\"color\": \"#4D5663\"}, \"title\": {\"font\": {\"color\": \"#4D5663\"}, \"text\": \"\"}, \"zerolinecolor\": \"#E1E5ED\"}, \"xaxis18\": {\"anchor\": \"y18\", \"domain\": [0.42000000000000004, 0.5800000000000001], \"gridcolor\": \"#E1E5ED\", \"showgrid\": false, \"tickfont\": {\"color\": \"#4D5663\"}, \"title\": {\"font\": {\"color\": \"#4D5663\"}, \"text\": \"\"}, \"zerolinecolor\": \"#E1E5ED\"}, \"xaxis19\": {\"anchor\": \"y19\", \"domain\": [0.63, 0.79], \"gridcolor\": \"#E1E5ED\", \"showgrid\": false, \"tickfont\": {\"color\": \"#4D5663\"}, \"title\": {\"font\": {\"color\": \"#4D5663\"}, \"text\": \"\"}, \"zerolinecolor\": \"#E1E5ED\"}, \"xaxis2\": {\"anchor\": \"y2\", \"domain\": [0.21000000000000002, 0.37], \"gridcolor\": \"#E1E5ED\", \"showgrid\": false, \"tickfont\": {\"color\": \"#4D5663\"}, \"title\": {\"font\": {\"color\": \"#4D5663\"}, \"text\": \"\"}, \"zerolinecolor\": \"#E1E5ED\"}, \"xaxis20\": {\"anchor\": \"y20\", \"domain\": [0.8400000000000001, 1.0], \"gridcolor\": \"#E1E5ED\", \"showgrid\": false, \"tickfont\": {\"color\": \"#4D5663\"}, \"title\": {\"font\": {\"color\": \"#4D5663\"}, \"text\": \"\"}, \"zerolinecolor\": \"#E1E5ED\"}, \"xaxis21\": {\"anchor\": \"y21\", \"domain\": [0.0, 0.16], \"gridcolor\": \"#E1E5ED\", \"showgrid\": false, \"tickfont\": {\"color\": \"#4D5663\"}, \"title\": {\"font\": {\"color\": \"#4D5663\"}, \"text\": \"\"}, \"zerolinecolor\": \"#E1E5ED\"}, \"xaxis22\": {\"anchor\": \"y22\", \"domain\": [0.21000000000000002, 0.37], \"gridcolor\": \"#E1E5ED\", \"showgrid\": false, \"tickfont\": {\"color\": \"#4D5663\"}, \"title\": {\"font\": {\"color\": \"#4D5663\"}, \"text\": \"\"}, \"zerolinecolor\": \"#E1E5ED\"}, \"xaxis23\": {\"anchor\": \"y23\", \"domain\": [0.42000000000000004, 0.5800000000000001], \"gridcolor\": \"#E1E5ED\", \"showgrid\": false, \"tickfont\": {\"color\": \"#4D5663\"}, \"title\": {\"font\": {\"color\": \"#4D5663\"}, \"text\": \"\"}, \"zerolinecolor\": \"#E1E5ED\"}, \"xaxis24\": {\"anchor\": \"y24\", \"domain\": [0.63, 0.79], \"gridcolor\": \"#E1E5ED\", \"showgrid\": false, \"tickfont\": {\"color\": \"#4D5663\"}, \"title\": {\"font\": {\"color\": \"#4D5663\"}, \"text\": \"\"}, \"zerolinecolor\": \"#E1E5ED\"}, \"xaxis25\": {\"anchor\": \"y25\", \"domain\": [0.8400000000000001, 1.0], \"gridcolor\": \"#E1E5ED\", \"showgrid\": false, \"tickfont\": {\"color\": \"#4D5663\"}, \"title\": {\"font\": {\"color\": \"#4D5663\"}, \"text\": \"\"}, \"zerolinecolor\": \"#E1E5ED\"}, \"xaxis3\": {\"anchor\": \"y3\", \"domain\": [0.42000000000000004, 0.5800000000000001], \"gridcolor\": \"#E1E5ED\", \"showgrid\": false, \"tickfont\": {\"color\": \"#4D5663\"}, \"title\": {\"font\": {\"color\": \"#4D5663\"}, \"text\": \"\"}, \"zerolinecolor\": \"#E1E5ED\"}, \"xaxis4\": {\"anchor\": \"y4\", \"domain\": [0.63, 0.79], \"gridcolor\": \"#E1E5ED\", \"showgrid\": false, \"tickfont\": {\"color\": \"#4D5663\"}, \"title\": {\"font\": {\"color\": \"#4D5663\"}, \"text\": \"\"}, \"zerolinecolor\": \"#E1E5ED\"}, \"xaxis5\": {\"anchor\": \"y5\", \"domain\": [0.8400000000000001, 1.0], \"gridcolor\": \"#E1E5ED\", \"showgrid\": false, \"tickfont\": {\"color\": \"#4D5663\"}, \"title\": {\"font\": {\"color\": \"#4D5663\"}, \"text\": \"\"}, \"zerolinecolor\": \"#E1E5ED\"}, \"xaxis6\": {\"anchor\": \"y6\", \"domain\": [0.0, 0.16], \"gridcolor\": \"#E1E5ED\", \"showgrid\": false, \"tickfont\": {\"color\": \"#4D5663\"}, \"title\": {\"font\": {\"color\": \"#4D5663\"}, \"text\": \"\"}, \"zerolinecolor\": \"#E1E5ED\"}, \"xaxis7\": {\"anchor\": \"y7\", \"domain\": [0.21000000000000002, 0.37], \"gridcolor\": \"#E1E5ED\", \"showgrid\": false, \"tickfont\": {\"color\": \"#4D5663\"}, \"title\": {\"font\": {\"color\": \"#4D5663\"}, \"text\": \"\"}, \"zerolinecolor\": \"#E1E5ED\"}, \"xaxis8\": {\"anchor\": \"y8\", \"domain\": [0.42000000000000004, 0.5800000000000001], \"gridcolor\": \"#E1E5ED\", \"showgrid\": false, \"tickfont\": {\"color\": \"#4D5663\"}, \"title\": {\"font\": {\"color\": \"#4D5663\"}, \"text\": \"\"}, \"zerolinecolor\": \"#E1E5ED\"}, \"xaxis9\": {\"anchor\": \"y9\", \"domain\": [0.63, 0.79], \"gridcolor\": \"#E1E5ED\", \"showgrid\": false, \"tickfont\": {\"color\": \"#4D5663\"}, \"title\": {\"font\": {\"color\": \"#4D5663\"}, \"text\": \"\"}, \"zerolinecolor\": \"#E1E5ED\"}, \"yaxis\": {\"anchor\": \"x\", \"domain\": [0.856, 1.0], \"gridcolor\": \"#E1E5ED\", \"showgrid\": false, \"tickfont\": {\"color\": \"#4D5663\"}, \"title\": {\"font\": {\"color\": \"#4D5663\"}, \"text\": \"\"}, \"zerolinecolor\": \"#E1E5ED\"}, \"yaxis10\": {\"anchor\": \"x10\", \"domain\": [0.6419999999999999, 0.7859999999999999], \"gridcolor\": \"#E1E5ED\", \"showgrid\": false, \"tickfont\": {\"color\": \"#4D5663\"}, \"title\": {\"font\": {\"color\": \"#4D5663\"}, \"text\": \"\"}, \"zerolinecolor\": \"#E1E5ED\"}, \"yaxis11\": {\"anchor\": \"x11\", \"domain\": [0.428, 0.572], \"gridcolor\": \"#E1E5ED\", \"showgrid\": false, \"tickfont\": {\"color\": \"#4D5663\"}, \"title\": {\"font\": {\"color\": \"#4D5663\"}, \"text\": \"\"}, \"zerolinecolor\": \"#E1E5ED\"}, \"yaxis12\": {\"anchor\": \"x12\", \"domain\": [0.428, 0.572], \"gridcolor\": \"#E1E5ED\", \"showgrid\": false, \"tickfont\": {\"color\": \"#4D5663\"}, \"title\": {\"font\": {\"color\": \"#4D5663\"}, \"text\": \"\"}, \"zerolinecolor\": \"#E1E5ED\"}, \"yaxis13\": {\"anchor\": \"x13\", \"domain\": [0.428, 0.572], \"gridcolor\": \"#E1E5ED\", \"showgrid\": false, \"tickfont\": {\"color\": \"#4D5663\"}, \"title\": {\"font\": {\"color\": \"#4D5663\"}, \"text\": \"\"}, \"zerolinecolor\": \"#E1E5ED\"}, \"yaxis14\": {\"anchor\": \"x14\", \"domain\": [0.428, 0.572], \"gridcolor\": \"#E1E5ED\", \"showgrid\": false, \"tickfont\": {\"color\": \"#4D5663\"}, \"title\": {\"font\": {\"color\": \"#4D5663\"}, \"text\": \"\"}, \"zerolinecolor\": \"#E1E5ED\"}, \"yaxis15\": {\"anchor\": \"x15\", \"domain\": [0.428, 0.572], \"gridcolor\": \"#E1E5ED\", \"showgrid\": false, \"tickfont\": {\"color\": \"#4D5663\"}, \"title\": {\"font\": {\"color\": \"#4D5663\"}, \"text\": \"\"}, \"zerolinecolor\": \"#E1E5ED\"}, \"yaxis16\": {\"anchor\": \"x16\", \"domain\": [0.214, 0.358], \"gridcolor\": \"#E1E5ED\", \"showgrid\": false, \"tickfont\": {\"color\": \"#4D5663\"}, \"title\": {\"font\": {\"color\": \"#4D5663\"}, \"text\": \"\"}, \"zerolinecolor\": \"#E1E5ED\"}, \"yaxis17\": {\"anchor\": \"x17\", \"domain\": [0.214, 0.358], \"gridcolor\": \"#E1E5ED\", \"showgrid\": false, \"tickfont\": {\"color\": \"#4D5663\"}, \"title\": {\"font\": {\"color\": \"#4D5663\"}, \"text\": \"\"}, \"zerolinecolor\": \"#E1E5ED\"}, \"yaxis18\": {\"anchor\": \"x18\", \"domain\": [0.214, 0.358], \"gridcolor\": \"#E1E5ED\", \"showgrid\": false, \"tickfont\": {\"color\": \"#4D5663\"}, \"title\": {\"font\": {\"color\": \"#4D5663\"}, \"text\": \"\"}, \"zerolinecolor\": \"#E1E5ED\"}, \"yaxis19\": {\"anchor\": \"x19\", \"domain\": [0.214, 0.358], \"gridcolor\": \"#E1E5ED\", \"showgrid\": false, \"tickfont\": {\"color\": \"#4D5663\"}, \"title\": {\"font\": {\"color\": \"#4D5663\"}, \"text\": \"\"}, \"zerolinecolor\": \"#E1E5ED\"}, \"yaxis2\": {\"anchor\": \"x2\", \"domain\": [0.856, 1.0], \"gridcolor\": \"#E1E5ED\", \"showgrid\": false, \"tickfont\": {\"color\": \"#4D5663\"}, \"title\": {\"font\": {\"color\": \"#4D5663\"}, \"text\": \"\"}, \"zerolinecolor\": \"#E1E5ED\"}, \"yaxis20\": {\"anchor\": \"x20\", \"domain\": [0.214, 0.358], \"gridcolor\": \"#E1E5ED\", \"showgrid\": false, \"tickfont\": {\"color\": \"#4D5663\"}, \"title\": {\"font\": {\"color\": \"#4D5663\"}, \"text\": \"\"}, \"zerolinecolor\": \"#E1E5ED\"}, \"yaxis21\": {\"anchor\": \"x21\", \"domain\": [0.0, 0.144], \"gridcolor\": \"#E1E5ED\", \"showgrid\": false, \"tickfont\": {\"color\": \"#4D5663\"}, \"title\": {\"font\": {\"color\": \"#4D5663\"}, \"text\": \"\"}, \"zerolinecolor\": \"#E1E5ED\"}, \"yaxis22\": {\"anchor\": \"x22\", \"domain\": [0.0, 0.144], \"gridcolor\": \"#E1E5ED\", \"showgrid\": false, \"tickfont\": {\"color\": \"#4D5663\"}, \"title\": {\"font\": {\"color\": \"#4D5663\"}, \"text\": \"\"}, \"zerolinecolor\": \"#E1E5ED\"}, \"yaxis23\": {\"anchor\": \"x23\", \"domain\": [0.0, 0.144], \"gridcolor\": \"#E1E5ED\", \"showgrid\": false, \"tickfont\": {\"color\": \"#4D5663\"}, \"title\": {\"font\": {\"color\": \"#4D5663\"}, \"text\": \"\"}, \"zerolinecolor\": \"#E1E5ED\"}, \"yaxis24\": {\"anchor\": \"x24\", \"domain\": [0.0, 0.144], \"gridcolor\": \"#E1E5ED\", \"showgrid\": false, \"tickfont\": {\"color\": \"#4D5663\"}, \"title\": {\"font\": {\"color\": \"#4D5663\"}, \"text\": \"\"}, \"zerolinecolor\": \"#E1E5ED\"}, \"yaxis25\": {\"anchor\": \"x25\", \"domain\": [0.0, 0.144], \"gridcolor\": \"#E1E5ED\", \"showgrid\": false, \"tickfont\": {\"color\": \"#4D5663\"}, \"title\": {\"font\": {\"color\": \"#4D5663\"}, \"text\": \"\"}, \"zerolinecolor\": \"#E1E5ED\"}, \"yaxis3\": {\"anchor\": \"x3\", \"domain\": [0.856, 1.0], \"gridcolor\": \"#E1E5ED\", \"showgrid\": false, \"tickfont\": {\"color\": \"#4D5663\"}, \"title\": {\"font\": {\"color\": \"#4D5663\"}, \"text\": \"\"}, \"zerolinecolor\": \"#E1E5ED\"}, \"yaxis4\": {\"anchor\": \"x4\", \"domain\": [0.856, 1.0], \"gridcolor\": \"#E1E5ED\", \"showgrid\": false, \"tickfont\": {\"color\": \"#4D5663\"}, \"title\": {\"font\": {\"color\": \"#4D5663\"}, \"text\": \"\"}, \"zerolinecolor\": \"#E1E5ED\"}, \"yaxis5\": {\"anchor\": \"x5\", \"domain\": [0.856, 1.0], \"gridcolor\": \"#E1E5ED\", \"showgrid\": false, \"tickfont\": {\"color\": \"#4D5663\"}, \"title\": {\"font\": {\"color\": \"#4D5663\"}, \"text\": \"\"}, \"zerolinecolor\": \"#E1E5ED\"}, \"yaxis6\": {\"anchor\": \"x6\", \"domain\": [0.6419999999999999, 0.7859999999999999], \"gridcolor\": \"#E1E5ED\", \"showgrid\": false, \"tickfont\": {\"color\": \"#4D5663\"}, \"title\": {\"font\": {\"color\": \"#4D5663\"}, \"text\": \"\"}, \"zerolinecolor\": \"#E1E5ED\"}, \"yaxis7\": {\"anchor\": \"x7\", \"domain\": [0.6419999999999999, 0.7859999999999999], \"gridcolor\": \"#E1E5ED\", \"showgrid\": false, \"tickfont\": {\"color\": \"#4D5663\"}, \"title\": {\"font\": {\"color\": \"#4D5663\"}, \"text\": \"\"}, \"zerolinecolor\": \"#E1E5ED\"}, \"yaxis8\": {\"anchor\": \"x8\", \"domain\": [0.6419999999999999, 0.7859999999999999], \"gridcolor\": \"#E1E5ED\", \"showgrid\": false, \"tickfont\": {\"color\": \"#4D5663\"}, \"title\": {\"font\": {\"color\": \"#4D5663\"}, \"text\": \"\"}, \"zerolinecolor\": \"#E1E5ED\"}, \"yaxis9\": {\"anchor\": \"x9\", \"domain\": [0.6419999999999999, 0.7859999999999999], \"gridcolor\": \"#E1E5ED\", \"showgrid\": false, \"tickfont\": {\"color\": \"#4D5663\"}, \"title\": {\"font\": {\"color\": \"#4D5663\"}, \"text\": \"\"}, \"zerolinecolor\": \"#E1E5ED\"}},\n                        {\"showLink\": true, \"linkText\": \"Export to plot.ly\", \"plotlyServerURL\": \"https://plot.ly\", \"responsive\": true}\n                    ).then(function(){\n                            \nvar gd = document.getElementById('e5fce2e9-8343-4b87-bcf5-43bc2e728cbe');\nvar x = new MutationObserver(function (mutations, observer) {{\n        var display = window.getComputedStyle(gd).display;\n        if (!display || display === 'none') {{\n            console.log([gd, 'removed!']);\n            Plotly.purge(gd);\n            observer.disconnect();\n        }}\n}});\n\n// Listen for the removal of the full notebook cells\nvar notebookContainer = gd.closest('#notebook-container');\nif (notebookContainer) {{\n    x.observe(notebookContainer, {childList: true});\n}}\n\n// Listen for the clearing of the current output cell\nvar outputEl = gd.closest('.output');\nif (outputEl) {{\n    x.observe(outputEl, {childList: true});\n}}\n\n                        })\n                };\n                });\n            </script>\n        </div>"
     },
     "metadata": {}
    }
   ],
   "source": [
    "df.scatter_matrix()"
   ]
  },
  {
   "cell_type": "code",
   "execution_count": 16,
   "metadata": {},
   "outputs": [
    {
     "output_type": "display_data",
     "data": {
      "application/vnd.plotly.v1+json": {
       "config": {
        "linkText": "Export to plot.ly",
        "plotlyServerURL": "https://plot.ly",
        "showLink": true
       },
       "data": [
        {
         "colorscale": [
          [
           0,
           "rgb(255, 153, 51)"
          ],
          [
           0.1111111111111111,
           "rgb(55, 128, 191)"
          ],
          [
           0.2222222222222222,
           "rgb(50, 171, 96)"
          ],
          [
           0.3333333333333333,
           "rgb(128, 0, 128)"
          ],
          [
           0.4444444444444444,
           "rgb(219, 64, 82)"
          ],
          [
           0.5555555555555556,
           "rgb(0, 128, 128)"
          ],
          [
           0.6666666666666666,
           "rgb(255, 255, 51)"
          ],
          [
           0.7777777777777778,
           "rgb(128, 128, 0)"
          ],
          [
           0.8888888888888888,
           "rgb(251, 128, 114)"
          ],
          [
           1,
           "rgb(128, 177, 211)"
          ]
         ],
         "type": "surface",
         "x": [
          0,
          1,
          2,
          3,
          4
         ],
         "y": [
          "x",
          "y",
          "z"
         ],
         "z": [
          [
           1,
           2,
           3,
           7,
           12
          ],
          [
           1,
           2,
           3,
           4,
           5
          ],
          [
           6,
           7,
           8,
           9,
           4
          ]
         ]
        }
       ],
       "layout": {
        "legend": {
         "bgcolor": "#F5F6F9",
         "font": {
          "color": "#4D5663"
         }
        },
        "paper_bgcolor": "#F5F6F9",
        "plot_bgcolor": "#F5F6F9",
        "template": {
         "data": {
          "bar": [
           {
            "error_x": {
             "color": "#2a3f5f"
            },
            "error_y": {
             "color": "#2a3f5f"
            },
            "marker": {
             "line": {
              "color": "#E5ECF6",
              "width": 0.5
             }
            },
            "type": "bar"
           }
          ],
          "barpolar": [
           {
            "marker": {
             "line": {
              "color": "#E5ECF6",
              "width": 0.5
             }
            },
            "type": "barpolar"
           }
          ],
          "carpet": [
           {
            "aaxis": {
             "endlinecolor": "#2a3f5f",
             "gridcolor": "white",
             "linecolor": "white",
             "minorgridcolor": "white",
             "startlinecolor": "#2a3f5f"
            },
            "baxis": {
             "endlinecolor": "#2a3f5f",
             "gridcolor": "white",
             "linecolor": "white",
             "minorgridcolor": "white",
             "startlinecolor": "#2a3f5f"
            },
            "type": "carpet"
           }
          ],
          "choropleth": [
           {
            "colorbar": {
             "outlinewidth": 0,
             "ticks": ""
            },
            "type": "choropleth"
           }
          ],
          "contour": [
           {
            "colorbar": {
             "outlinewidth": 0,
             "ticks": ""
            },
            "colorscale": [
             [
              0,
              "#0d0887"
             ],
             [
              0.1111111111111111,
              "#46039f"
             ],
             [
              0.2222222222222222,
              "#7201a8"
             ],
             [
              0.3333333333333333,
              "#9c179e"
             ],
             [
              0.4444444444444444,
              "#bd3786"
             ],
             [
              0.5555555555555556,
              "#d8576b"
             ],
             [
              0.6666666666666666,
              "#ed7953"
             ],
             [
              0.7777777777777778,
              "#fb9f3a"
             ],
             [
              0.8888888888888888,
              "#fdca26"
             ],
             [
              1,
              "#f0f921"
             ]
            ],
            "type": "contour"
           }
          ],
          "contourcarpet": [
           {
            "colorbar": {
             "outlinewidth": 0,
             "ticks": ""
            },
            "type": "contourcarpet"
           }
          ],
          "heatmap": [
           {
            "colorbar": {
             "outlinewidth": 0,
             "ticks": ""
            },
            "colorscale": [
             [
              0,
              "#0d0887"
             ],
             [
              0.1111111111111111,
              "#46039f"
             ],
             [
              0.2222222222222222,
              "#7201a8"
             ],
             [
              0.3333333333333333,
              "#9c179e"
             ],
             [
              0.4444444444444444,
              "#bd3786"
             ],
             [
              0.5555555555555556,
              "#d8576b"
             ],
             [
              0.6666666666666666,
              "#ed7953"
             ],
             [
              0.7777777777777778,
              "#fb9f3a"
             ],
             [
              0.8888888888888888,
              "#fdca26"
             ],
             [
              1,
              "#f0f921"
             ]
            ],
            "type": "heatmap"
           }
          ],
          "heatmapgl": [
           {
            "colorbar": {
             "outlinewidth": 0,
             "ticks": ""
            },
            "colorscale": [
             [
              0,
              "#0d0887"
             ],
             [
              0.1111111111111111,
              "#46039f"
             ],
             [
              0.2222222222222222,
              "#7201a8"
             ],
             [
              0.3333333333333333,
              "#9c179e"
             ],
             [
              0.4444444444444444,
              "#bd3786"
             ],
             [
              0.5555555555555556,
              "#d8576b"
             ],
             [
              0.6666666666666666,
              "#ed7953"
             ],
             [
              0.7777777777777778,
              "#fb9f3a"
             ],
             [
              0.8888888888888888,
              "#fdca26"
             ],
             [
              1,
              "#f0f921"
             ]
            ],
            "type": "heatmapgl"
           }
          ],
          "histogram": [
           {
            "marker": {
             "colorbar": {
              "outlinewidth": 0,
              "ticks": ""
             }
            },
            "type": "histogram"
           }
          ],
          "histogram2d": [
           {
            "colorbar": {
             "outlinewidth": 0,
             "ticks": ""
            },
            "colorscale": [
             [
              0,
              "#0d0887"
             ],
             [
              0.1111111111111111,
              "#46039f"
             ],
             [
              0.2222222222222222,
              "#7201a8"
             ],
             [
              0.3333333333333333,
              "#9c179e"
             ],
             [
              0.4444444444444444,
              "#bd3786"
             ],
             [
              0.5555555555555556,
              "#d8576b"
             ],
             [
              0.6666666666666666,
              "#ed7953"
             ],
             [
              0.7777777777777778,
              "#fb9f3a"
             ],
             [
              0.8888888888888888,
              "#fdca26"
             ],
             [
              1,
              "#f0f921"
             ]
            ],
            "type": "histogram2d"
           }
          ],
          "histogram2dcontour": [
           {
            "colorbar": {
             "outlinewidth": 0,
             "ticks": ""
            },
            "colorscale": [
             [
              0,
              "#0d0887"
             ],
             [
              0.1111111111111111,
              "#46039f"
             ],
             [
              0.2222222222222222,
              "#7201a8"
             ],
             [
              0.3333333333333333,
              "#9c179e"
             ],
             [
              0.4444444444444444,
              "#bd3786"
             ],
             [
              0.5555555555555556,
              "#d8576b"
             ],
             [
              0.6666666666666666,
              "#ed7953"
             ],
             [
              0.7777777777777778,
              "#fb9f3a"
             ],
             [
              0.8888888888888888,
              "#fdca26"
             ],
             [
              1,
              "#f0f921"
             ]
            ],
            "type": "histogram2dcontour"
           }
          ],
          "mesh3d": [
           {
            "colorbar": {
             "outlinewidth": 0,
             "ticks": ""
            },
            "type": "mesh3d"
           }
          ],
          "parcoords": [
           {
            "line": {
             "colorbar": {
              "outlinewidth": 0,
              "ticks": ""
             }
            },
            "type": "parcoords"
           }
          ],
          "pie": [
           {
            "automargin": true,
            "type": "pie"
           }
          ],
          "scatter": [
           {
            "marker": {
             "colorbar": {
              "outlinewidth": 0,
              "ticks": ""
             }
            },
            "type": "scatter"
           }
          ],
          "scatter3d": [
           {
            "line": {
             "colorbar": {
              "outlinewidth": 0,
              "ticks": ""
             }
            },
            "marker": {
             "colorbar": {
              "outlinewidth": 0,
              "ticks": ""
             }
            },
            "type": "scatter3d"
           }
          ],
          "scattercarpet": [
           {
            "marker": {
             "colorbar": {
              "outlinewidth": 0,
              "ticks": ""
             }
            },
            "type": "scattercarpet"
           }
          ],
          "scattergeo": [
           {
            "marker": {
             "colorbar": {
              "outlinewidth": 0,
              "ticks": ""
             }
            },
            "type": "scattergeo"
           }
          ],
          "scattergl": [
           {
            "marker": {
             "colorbar": {
              "outlinewidth": 0,
              "ticks": ""
             }
            },
            "type": "scattergl"
           }
          ],
          "scattermapbox": [
           {
            "marker": {
             "colorbar": {
              "outlinewidth": 0,
              "ticks": ""
             }
            },
            "type": "scattermapbox"
           }
          ],
          "scatterpolar": [
           {
            "marker": {
             "colorbar": {
              "outlinewidth": 0,
              "ticks": ""
             }
            },
            "type": "scatterpolar"
           }
          ],
          "scatterpolargl": [
           {
            "marker": {
             "colorbar": {
              "outlinewidth": 0,
              "ticks": ""
             }
            },
            "type": "scatterpolargl"
           }
          ],
          "scatterternary": [
           {
            "marker": {
             "colorbar": {
              "outlinewidth": 0,
              "ticks": ""
             }
            },
            "type": "scatterternary"
           }
          ],
          "surface": [
           {
            "colorbar": {
             "outlinewidth": 0,
             "ticks": ""
            },
            "colorscale": [
             [
              0,
              "#0d0887"
             ],
             [
              0.1111111111111111,
              "#46039f"
             ],
             [
              0.2222222222222222,
              "#7201a8"
             ],
             [
              0.3333333333333333,
              "#9c179e"
             ],
             [
              0.4444444444444444,
              "#bd3786"
             ],
             [
              0.5555555555555556,
              "#d8576b"
             ],
             [
              0.6666666666666666,
              "#ed7953"
             ],
             [
              0.7777777777777778,
              "#fb9f3a"
             ],
             [
              0.8888888888888888,
              "#fdca26"
             ],
             [
              1,
              "#f0f921"
             ]
            ],
            "type": "surface"
           }
          ],
          "table": [
           {
            "cells": {
             "fill": {
              "color": "#EBF0F8"
             },
             "line": {
              "color": "white"
             }
            },
            "header": {
             "fill": {
              "color": "#C8D4E3"
             },
             "line": {
              "color": "white"
             }
            },
            "type": "table"
           }
          ]
         },
         "layout": {
          "annotationdefaults": {
           "arrowcolor": "#2a3f5f",
           "arrowhead": 0,
           "arrowwidth": 1
          },
          "coloraxis": {
           "colorbar": {
            "outlinewidth": 0,
            "ticks": ""
           }
          },
          "colorscale": {
           "diverging": [
            [
             0,
             "#8e0152"
            ],
            [
             0.1,
             "#c51b7d"
            ],
            [
             0.2,
             "#de77ae"
            ],
            [
             0.3,
             "#f1b6da"
            ],
            [
             0.4,
             "#fde0ef"
            ],
            [
             0.5,
             "#f7f7f7"
            ],
            [
             0.6,
             "#e6f5d0"
            ],
            [
             0.7,
             "#b8e186"
            ],
            [
             0.8,
             "#7fbc41"
            ],
            [
             0.9,
             "#4d9221"
            ],
            [
             1,
             "#276419"
            ]
           ],
           "sequential": [
            [
             0,
             "#0d0887"
            ],
            [
             0.1111111111111111,
             "#46039f"
            ],
            [
             0.2222222222222222,
             "#7201a8"
            ],
            [
             0.3333333333333333,
             "#9c179e"
            ],
            [
             0.4444444444444444,
             "#bd3786"
            ],
            [
             0.5555555555555556,
             "#d8576b"
            ],
            [
             0.6666666666666666,
             "#ed7953"
            ],
            [
             0.7777777777777778,
             "#fb9f3a"
            ],
            [
             0.8888888888888888,
             "#fdca26"
            ],
            [
             1,
             "#f0f921"
            ]
           ],
           "sequentialminus": [
            [
             0,
             "#0d0887"
            ],
            [
             0.1111111111111111,
             "#46039f"
            ],
            [
             0.2222222222222222,
             "#7201a8"
            ],
            [
             0.3333333333333333,
             "#9c179e"
            ],
            [
             0.4444444444444444,
             "#bd3786"
            ],
            [
             0.5555555555555556,
             "#d8576b"
            ],
            [
             0.6666666666666666,
             "#ed7953"
            ],
            [
             0.7777777777777778,
             "#fb9f3a"
            ],
            [
             0.8888888888888888,
             "#fdca26"
            ],
            [
             1,
             "#f0f921"
            ]
           ]
          },
          "colorway": [
           "#636efa",
           "#EF553B",
           "#00cc96",
           "#ab63fa",
           "#FFA15A",
           "#19d3f3",
           "#FF6692",
           "#B6E880",
           "#FF97FF",
           "#FECB52"
          ],
          "font": {
           "color": "#2a3f5f"
          },
          "geo": {
           "bgcolor": "white",
           "lakecolor": "white",
           "landcolor": "#E5ECF6",
           "showlakes": true,
           "showland": true,
           "subunitcolor": "white"
          },
          "hoverlabel": {
           "align": "left"
          },
          "hovermode": "closest",
          "mapbox": {
           "style": "light"
          },
          "paper_bgcolor": "white",
          "plot_bgcolor": "#E5ECF6",
          "polar": {
           "angularaxis": {
            "gridcolor": "white",
            "linecolor": "white",
            "ticks": ""
           },
           "bgcolor": "#E5ECF6",
           "radialaxis": {
            "gridcolor": "white",
            "linecolor": "white",
            "ticks": ""
           }
          },
          "scene": {
           "xaxis": {
            "backgroundcolor": "#E5ECF6",
            "gridcolor": "white",
            "gridwidth": 2,
            "linecolor": "white",
            "showbackground": true,
            "ticks": "",
            "zerolinecolor": "white"
           },
           "yaxis": {
            "backgroundcolor": "#E5ECF6",
            "gridcolor": "white",
            "gridwidth": 2,
            "linecolor": "white",
            "showbackground": true,
            "ticks": "",
            "zerolinecolor": "white"
           },
           "zaxis": {
            "backgroundcolor": "#E5ECF6",
            "gridcolor": "white",
            "gridwidth": 2,
            "linecolor": "white",
            "showbackground": true,
            "ticks": "",
            "zerolinecolor": "white"
           }
          },
          "shapedefaults": {
           "line": {
            "color": "#2a3f5f"
           }
          },
          "ternary": {
           "aaxis": {
            "gridcolor": "white",
            "linecolor": "white",
            "ticks": ""
           },
           "baxis": {
            "gridcolor": "white",
            "linecolor": "white",
            "ticks": ""
           },
           "bgcolor": "#E5ECF6",
           "caxis": {
            "gridcolor": "white",
            "linecolor": "white",
            "ticks": ""
           }
          },
          "title": {
           "x": 0.05
          },
          "xaxis": {
           "automargin": true,
           "gridcolor": "white",
           "linecolor": "white",
           "ticks": "",
           "title": {
            "standoff": 15
           },
           "zerolinecolor": "white",
           "zerolinewidth": 2
          },
          "yaxis": {
           "automargin": true,
           "gridcolor": "white",
           "linecolor": "white",
           "ticks": "",
           "title": {
            "standoff": 15
           },
           "zerolinecolor": "white",
           "zerolinewidth": 2
          }
         }
        },
        "title": {
         "font": {
          "color": "#4D5663"
         }
        },
        "xaxis": {
         "gridcolor": "#E1E5ED",
         "showgrid": true,
         "tickfont": {
          "color": "#4D5663"
         },
         "title": {
          "font": {
           "color": "#4D5663"
          },
          "text": ""
         },
         "zerolinecolor": "#E1E5ED"
        },
        "yaxis": {
         "gridcolor": "#E1E5ED",
         "showgrid": true,
         "tickfont": {
          "color": "#4D5663"
         },
         "title": {
          "font": {
           "color": "#4D5663"
          },
          "text": ""
         },
         "zerolinecolor": "#E1E5ED"
        }
       }
      },
      "text/html": "<div>\n        \n        \n            <div id=\"92ae0a73-81a1-4247-89a0-2375004b53ce\" class=\"plotly-graph-div\" style=\"height:525px; width:100%;\"></div>\n            <script type=\"text/javascript\">\n                require([\"plotly\"], function(Plotly) {\n                    window.PLOTLYENV=window.PLOTLYENV || {};\n                    window.PLOTLYENV.BASE_URL='https://plot.ly';\n                    \n                if (document.getElementById(\"92ae0a73-81a1-4247-89a0-2375004b53ce\")) {\n                    Plotly.newPlot(\n                        '92ae0a73-81a1-4247-89a0-2375004b53ce',\n                        [{\"colorscale\": [[0.0, \"rgb(255, 153, 51)\"], [0.1111111111111111, \"rgb(55, 128, 191)\"], [0.2222222222222222, \"rgb(50, 171, 96)\"], [0.3333333333333333, \"rgb(128, 0, 128)\"], [0.4444444444444444, \"rgb(219, 64, 82)\"], [0.5555555555555556, \"rgb(0, 128, 128)\"], [0.6666666666666666, \"rgb(255, 255, 51)\"], [0.7777777777777778, \"rgb(128, 128, 0)\"], [0.8888888888888888, \"rgb(251, 128, 114)\"], [1.0, \"rgb(128, 177, 211)\"]], \"type\": \"surface\", \"x\": [0, 1, 2, 3, 4], \"y\": [\"x\", \"y\", \"z\"], \"z\": [[1, 2, 3, 7, 12], [1, 2, 3, 4, 5], [6, 7, 8, 9, 4]]}],\n                        {\"legend\": {\"bgcolor\": \"#F5F6F9\", \"font\": {\"color\": \"#4D5663\"}}, \"paper_bgcolor\": \"#F5F6F9\", \"plot_bgcolor\": \"#F5F6F9\", \"template\": {\"data\": {\"bar\": [{\"error_x\": {\"color\": \"#2a3f5f\"}, \"error_y\": {\"color\": \"#2a3f5f\"}, \"marker\": {\"line\": {\"color\": \"#E5ECF6\", \"width\": 0.5}}, \"type\": \"bar\"}], \"barpolar\": [{\"marker\": {\"line\": {\"color\": \"#E5ECF6\", \"width\": 0.5}}, \"type\": \"barpolar\"}], \"carpet\": [{\"aaxis\": {\"endlinecolor\": \"#2a3f5f\", \"gridcolor\": \"white\", \"linecolor\": \"white\", \"minorgridcolor\": \"white\", \"startlinecolor\": \"#2a3f5f\"}, \"baxis\": {\"endlinecolor\": \"#2a3f5f\", \"gridcolor\": \"white\", \"linecolor\": \"white\", \"minorgridcolor\": \"white\", \"startlinecolor\": \"#2a3f5f\"}, \"type\": \"carpet\"}], \"choropleth\": [{\"colorbar\": {\"outlinewidth\": 0, \"ticks\": \"\"}, \"type\": \"choropleth\"}], \"contour\": [{\"colorbar\": {\"outlinewidth\": 0, \"ticks\": \"\"}, \"colorscale\": [[0.0, \"#0d0887\"], [0.1111111111111111, \"#46039f\"], [0.2222222222222222, \"#7201a8\"], [0.3333333333333333, \"#9c179e\"], [0.4444444444444444, \"#bd3786\"], [0.5555555555555556, \"#d8576b\"], [0.6666666666666666, \"#ed7953\"], [0.7777777777777778, \"#fb9f3a\"], [0.8888888888888888, \"#fdca26\"], [1.0, \"#f0f921\"]], \"type\": \"contour\"}], \"contourcarpet\": [{\"colorbar\": {\"outlinewidth\": 0, \"ticks\": \"\"}, \"type\": \"contourcarpet\"}], \"heatmap\": [{\"colorbar\": {\"outlinewidth\": 0, \"ticks\": \"\"}, \"colorscale\": [[0.0, \"#0d0887\"], [0.1111111111111111, \"#46039f\"], [0.2222222222222222, \"#7201a8\"], [0.3333333333333333, \"#9c179e\"], [0.4444444444444444, \"#bd3786\"], [0.5555555555555556, \"#d8576b\"], [0.6666666666666666, \"#ed7953\"], [0.7777777777777778, \"#fb9f3a\"], [0.8888888888888888, \"#fdca26\"], [1.0, \"#f0f921\"]], \"type\": \"heatmap\"}], \"heatmapgl\": [{\"colorbar\": {\"outlinewidth\": 0, \"ticks\": \"\"}, \"colorscale\": [[0.0, \"#0d0887\"], [0.1111111111111111, \"#46039f\"], [0.2222222222222222, \"#7201a8\"], [0.3333333333333333, \"#9c179e\"], [0.4444444444444444, \"#bd3786\"], [0.5555555555555556, \"#d8576b\"], [0.6666666666666666, \"#ed7953\"], [0.7777777777777778, \"#fb9f3a\"], [0.8888888888888888, \"#fdca26\"], [1.0, \"#f0f921\"]], \"type\": \"heatmapgl\"}], \"histogram\": [{\"marker\": {\"colorbar\": {\"outlinewidth\": 0, \"ticks\": \"\"}}, \"type\": \"histogram\"}], \"histogram2d\": [{\"colorbar\": {\"outlinewidth\": 0, \"ticks\": \"\"}, \"colorscale\": [[0.0, \"#0d0887\"], [0.1111111111111111, \"#46039f\"], [0.2222222222222222, \"#7201a8\"], [0.3333333333333333, \"#9c179e\"], [0.4444444444444444, \"#bd3786\"], [0.5555555555555556, \"#d8576b\"], [0.6666666666666666, \"#ed7953\"], [0.7777777777777778, \"#fb9f3a\"], [0.8888888888888888, \"#fdca26\"], [1.0, \"#f0f921\"]], \"type\": \"histogram2d\"}], \"histogram2dcontour\": [{\"colorbar\": {\"outlinewidth\": 0, \"ticks\": \"\"}, \"colorscale\": [[0.0, \"#0d0887\"], [0.1111111111111111, \"#46039f\"], [0.2222222222222222, \"#7201a8\"], [0.3333333333333333, \"#9c179e\"], [0.4444444444444444, \"#bd3786\"], [0.5555555555555556, \"#d8576b\"], [0.6666666666666666, \"#ed7953\"], [0.7777777777777778, \"#fb9f3a\"], [0.8888888888888888, \"#fdca26\"], [1.0, \"#f0f921\"]], \"type\": \"histogram2dcontour\"}], \"mesh3d\": [{\"colorbar\": {\"outlinewidth\": 0, \"ticks\": \"\"}, \"type\": \"mesh3d\"}], \"parcoords\": [{\"line\": {\"colorbar\": {\"outlinewidth\": 0, \"ticks\": \"\"}}, \"type\": \"parcoords\"}], \"pie\": [{\"automargin\": true, \"type\": \"pie\"}], \"scatter\": [{\"marker\": {\"colorbar\": {\"outlinewidth\": 0, \"ticks\": \"\"}}, \"type\": \"scatter\"}], \"scatter3d\": [{\"line\": {\"colorbar\": {\"outlinewidth\": 0, \"ticks\": \"\"}}, \"marker\": {\"colorbar\": {\"outlinewidth\": 0, \"ticks\": \"\"}}, \"type\": \"scatter3d\"}], \"scattercarpet\": [{\"marker\": {\"colorbar\": {\"outlinewidth\": 0, \"ticks\": \"\"}}, \"type\": \"scattercarpet\"}], \"scattergeo\": [{\"marker\": {\"colorbar\": {\"outlinewidth\": 0, \"ticks\": \"\"}}, \"type\": \"scattergeo\"}], \"scattergl\": [{\"marker\": {\"colorbar\": {\"outlinewidth\": 0, \"ticks\": \"\"}}, \"type\": \"scattergl\"}], \"scattermapbox\": [{\"marker\": {\"colorbar\": {\"outlinewidth\": 0, \"ticks\": \"\"}}, \"type\": \"scattermapbox\"}], \"scatterpolar\": [{\"marker\": {\"colorbar\": {\"outlinewidth\": 0, \"ticks\": \"\"}}, \"type\": \"scatterpolar\"}], \"scatterpolargl\": [{\"marker\": {\"colorbar\": {\"outlinewidth\": 0, \"ticks\": \"\"}}, \"type\": \"scatterpolargl\"}], \"scatterternary\": [{\"marker\": {\"colorbar\": {\"outlinewidth\": 0, \"ticks\": \"\"}}, \"type\": \"scatterternary\"}], \"surface\": [{\"colorbar\": {\"outlinewidth\": 0, \"ticks\": \"\"}, \"colorscale\": [[0.0, \"#0d0887\"], [0.1111111111111111, \"#46039f\"], [0.2222222222222222, \"#7201a8\"], [0.3333333333333333, \"#9c179e\"], [0.4444444444444444, \"#bd3786\"], [0.5555555555555556, \"#d8576b\"], [0.6666666666666666, \"#ed7953\"], [0.7777777777777778, \"#fb9f3a\"], [0.8888888888888888, \"#fdca26\"], [1.0, \"#f0f921\"]], \"type\": \"surface\"}], \"table\": [{\"cells\": {\"fill\": {\"color\": \"#EBF0F8\"}, \"line\": {\"color\": \"white\"}}, \"header\": {\"fill\": {\"color\": \"#C8D4E3\"}, \"line\": {\"color\": \"white\"}}, \"type\": \"table\"}]}, \"layout\": {\"annotationdefaults\": {\"arrowcolor\": \"#2a3f5f\", \"arrowhead\": 0, \"arrowwidth\": 1}, \"coloraxis\": {\"colorbar\": {\"outlinewidth\": 0, \"ticks\": \"\"}}, \"colorscale\": {\"diverging\": [[0, \"#8e0152\"], [0.1, \"#c51b7d\"], [0.2, \"#de77ae\"], [0.3, \"#f1b6da\"], [0.4, \"#fde0ef\"], [0.5, \"#f7f7f7\"], [0.6, \"#e6f5d0\"], [0.7, \"#b8e186\"], [0.8, \"#7fbc41\"], [0.9, \"#4d9221\"], [1, \"#276419\"]], \"sequential\": [[0.0, \"#0d0887\"], [0.1111111111111111, \"#46039f\"], [0.2222222222222222, \"#7201a8\"], [0.3333333333333333, \"#9c179e\"], [0.4444444444444444, \"#bd3786\"], [0.5555555555555556, \"#d8576b\"], [0.6666666666666666, \"#ed7953\"], [0.7777777777777778, \"#fb9f3a\"], [0.8888888888888888, \"#fdca26\"], [1.0, \"#f0f921\"]], \"sequentialminus\": [[0.0, \"#0d0887\"], [0.1111111111111111, \"#46039f\"], [0.2222222222222222, \"#7201a8\"], [0.3333333333333333, \"#9c179e\"], [0.4444444444444444, \"#bd3786\"], [0.5555555555555556, \"#d8576b\"], [0.6666666666666666, \"#ed7953\"], [0.7777777777777778, \"#fb9f3a\"], [0.8888888888888888, \"#fdca26\"], [1.0, \"#f0f921\"]]}, \"colorway\": [\"#636efa\", \"#EF553B\", \"#00cc96\", \"#ab63fa\", \"#FFA15A\", \"#19d3f3\", \"#FF6692\", \"#B6E880\", \"#FF97FF\", \"#FECB52\"], \"font\": {\"color\": \"#2a3f5f\"}, \"geo\": {\"bgcolor\": \"white\", \"lakecolor\": \"white\", \"landcolor\": \"#E5ECF6\", \"showlakes\": true, \"showland\": true, \"subunitcolor\": \"white\"}, \"hoverlabel\": {\"align\": \"left\"}, \"hovermode\": \"closest\", \"mapbox\": {\"style\": \"light\"}, \"paper_bgcolor\": \"white\", \"plot_bgcolor\": \"#E5ECF6\", \"polar\": {\"angularaxis\": {\"gridcolor\": \"white\", \"linecolor\": \"white\", \"ticks\": \"\"}, \"bgcolor\": \"#E5ECF6\", \"radialaxis\": {\"gridcolor\": \"white\", \"linecolor\": \"white\", \"ticks\": \"\"}}, \"scene\": {\"xaxis\": {\"backgroundcolor\": \"#E5ECF6\", \"gridcolor\": \"white\", \"gridwidth\": 2, \"linecolor\": \"white\", \"showbackground\": true, \"ticks\": \"\", \"zerolinecolor\": \"white\"}, \"yaxis\": {\"backgroundcolor\": \"#E5ECF6\", \"gridcolor\": \"white\", \"gridwidth\": 2, \"linecolor\": \"white\", \"showbackground\": true, \"ticks\": \"\", \"zerolinecolor\": \"white\"}, \"zaxis\": {\"backgroundcolor\": \"#E5ECF6\", \"gridcolor\": \"white\", \"gridwidth\": 2, \"linecolor\": \"white\", \"showbackground\": true, \"ticks\": \"\", \"zerolinecolor\": \"white\"}}, \"shapedefaults\": {\"line\": {\"color\": \"#2a3f5f\"}}, \"ternary\": {\"aaxis\": {\"gridcolor\": \"white\", \"linecolor\": \"white\", \"ticks\": \"\"}, \"baxis\": {\"gridcolor\": \"white\", \"linecolor\": \"white\", \"ticks\": \"\"}, \"bgcolor\": \"#E5ECF6\", \"caxis\": {\"gridcolor\": \"white\", \"linecolor\": \"white\", \"ticks\": \"\"}}, \"title\": {\"x\": 0.05}, \"xaxis\": {\"automargin\": true, \"gridcolor\": \"white\", \"linecolor\": \"white\", \"ticks\": \"\", \"title\": {\"standoff\": 15}, \"zerolinecolor\": \"white\", \"zerolinewidth\": 2}, \"yaxis\": {\"automargin\": true, \"gridcolor\": \"white\", \"linecolor\": \"white\", \"ticks\": \"\", \"title\": {\"standoff\": 15}, \"zerolinecolor\": \"white\", \"zerolinewidth\": 2}}}, \"title\": {\"font\": {\"color\": \"#4D5663\"}}, \"xaxis\": {\"gridcolor\": \"#E1E5ED\", \"showgrid\": true, \"tickfont\": {\"color\": \"#4D5663\"}, \"title\": {\"font\": {\"color\": \"#4D5663\"}, \"text\": \"\"}, \"zerolinecolor\": \"#E1E5ED\"}, \"yaxis\": {\"gridcolor\": \"#E1E5ED\", \"showgrid\": true, \"tickfont\": {\"color\": \"#4D5663\"}, \"title\": {\"font\": {\"color\": \"#4D5663\"}, \"text\": \"\"}, \"zerolinecolor\": \"#E1E5ED\"}},\n                        {\"showLink\": true, \"linkText\": \"Export to plot.ly\", \"plotlyServerURL\": \"https://plot.ly\", \"responsive\": true}\n                    ).then(function(){\n                            \nvar gd = document.getElementById('92ae0a73-81a1-4247-89a0-2375004b53ce');\nvar x = new MutationObserver(function (mutations, observer) {{\n        var display = window.getComputedStyle(gd).display;\n        if (!display || display === 'none') {{\n            console.log([gd, 'removed!']);\n            Plotly.purge(gd);\n            observer.disconnect();\n        }}\n}});\n\n// Listen for the removal of the full notebook cells\nvar notebookContainer = gd.closest('#notebook-container');\nif (notebookContainer) {{\n    x.observe(notebookContainer, {childList: true});\n}}\n\n// Listen for the clearing of the current output cell\nvar outputEl = gd.closest('.output');\nif (outputEl) {{\n    x.observe(outputEl, {childList: true});\n}}\n\n                        })\n                };\n                });\n            </script>\n        </div>"
     },
     "metadata": {}
    }
   ],
   "source": [
    "df1.iplot(kind='surface')"
   ]
  },
  {
   "cell_type": "code",
   "execution_count": 22,
   "metadata": {},
   "outputs": [
    {
     "output_type": "display_data",
     "data": {
      "application/vnd.plotly.v1+json": {
       "config": {
        "linkText": "Export to plot.ly",
        "plotlyServerURL": "https://plot.ly",
        "showLink": true
       },
       "data": [
        {
         "colorscale": [
          [
           0,
           "rgb(84,48,5)"
          ],
          [
           0.1,
           "rgb(140,81,10)"
          ],
          [
           0.2,
           "rgb(191,129,45)"
          ],
          [
           0.3,
           "rgb(223,194,125)"
          ],
          [
           0.4,
           "rgb(246,232,195)"
          ],
          [
           0.5,
           "rgb(245,245,245)"
          ],
          [
           0.6,
           "rgb(199,234,229)"
          ],
          [
           0.7,
           "rgb(128,205,193)"
          ],
          [
           0.8,
           "rgb(53,151,143)"
          ],
          [
           0.9,
           "rgb(1,102,94)"
          ],
          [
           1,
           "rgb(0,60,48)"
          ]
         ],
         "type": "surface",
         "x": [
          -10,
          -9.75,
          -9.5,
          -9.25,
          -9,
          -8.75,
          -8.5,
          -8.25,
          -8,
          -7.75,
          -7.5,
          -7.25,
          -7,
          -6.75,
          -6.5,
          -6.25,
          -6,
          -5.75,
          -5.5,
          -5.25,
          -5,
          -4.75,
          -4.5,
          -4.25,
          -4,
          -3.75,
          -3.5,
          -3.25,
          -3,
          -2.75,
          -2.5,
          -2.25,
          -2,
          -1.75,
          -1.5,
          -1.25,
          -1,
          -0.75,
          -0.5,
          -0.25,
          0,
          0.25,
          0.5,
          0.75,
          1,
          1.25,
          1.5,
          1.75,
          2,
          2.25,
          2.5,
          2.75,
          3,
          3.25,
          3.5,
          3.75,
          4,
          4.25,
          4.5,
          4.75,
          5,
          5.25,
          5.5,
          5.75,
          6,
          6.25,
          6.5,
          6.75,
          7,
          7.25,
          7.5,
          7.75,
          8,
          8.25,
          8.5,
          8.75,
          9,
          9.25,
          9.5,
          9.75
         ],
         "y": [
          -10,
          -9.75,
          -9.5,
          -9.25,
          -9,
          -8.75,
          -8.5,
          -8.25,
          -8,
          -7.75,
          -7.5,
          -7.25,
          -7,
          -6.75,
          -6.5,
          -6.25,
          -6,
          -5.75,
          -5.5,
          -5.25,
          -5,
          -4.75,
          -4.5,
          -4.25,
          -4,
          -3.75,
          -3.5,
          -3.25,
          -3,
          -2.75,
          -2.5,
          -2.25,
          -2,
          -1.75,
          -1.5,
          -1.25,
          -1,
          -0.75,
          -0.5,
          -0.25,
          0,
          0.25,
          0.5,
          0.75,
          1,
          1.25,
          1.5,
          1.75,
          2,
          2.25,
          2.5,
          2.75,
          3,
          3.25,
          3.5,
          3.75,
          4,
          4.25,
          4.5,
          4.75,
          5,
          5.25,
          5.5,
          5.75,
          6,
          6.25,
          6.5,
          6.75,
          7,
          7.25,
          7.5,
          7.75,
          8,
          8.25,
          8.5,
          8.75,
          9,
          9.25,
          9.5,
          9.75
         ],
         "z": [
          [
           0.14141961054935853,
           0.14111903500315878,
           0.13650222610828716,
           0.12777380562398274,
           0.11526115097856117,
           0.0993958462307399,
           0.08069235790121831,
           0.059725017515438364,
           0.037104384846577534,
           0.013454008098850966,
           -0.01061150357619211,
           -0.0345063152690242,
           -0.05769048962428924,
           -0.07968395387291566,
           -0.10007704610444179,
           -0.11853755153953284,
           -0.13481430178982187,
           -0.1487375524385824,
           -0.16021647158282734,
           -0.16923416092386775,
           -0.17584069010379264,
           -0.1801446545297837,
           -0.18230376872794093,
           -0.18251498442862385,
           -0.18100457917857166,
           -0.17801860199902664,
           -0.1738139924448547,
           -0.16865061331126227,
           -0.16278435980926842,
           -0.15646143337355978,
           -0.1499137997580331,
           -0.14335579129849668,
           -0.13698176393514344,
           -0.13096468174943518,
           -0.1254554756233313,
           -0.12058300781296416,
           -0.1164544699167505,
           -0.1131560467581887,
           -0.1107536917561867,
           -0.10929387900894774,
           -0.10880422217787396,
           -0.10929387900894774,
           -0.1107536917561867,
           -0.1131560467581887,
           -0.1164544699167505,
           -0.12058300781296416,
           -0.1254554756233313,
           -0.13096468174943518,
           -0.13698176393514344,
           -0.14335579129849668,
           -0.1499137997580331,
           -0.15646143337355978,
           -0.16278435980926842,
           -0.16865061331126227,
           -0.1738139924448547,
           -0.17801860199902664,
           -0.18100457917857166,
           -0.18251498442862385,
           -0.18230376872794093,
           -0.1801446545297837,
           -0.17584069010379264,
           -0.16923416092386775,
           -0.16021647158282734,
           -0.1487375524385824,
           -0.13481430178982187,
           -0.11853755153953284,
           -0.10007704610444179,
           -0.07968395387291566,
           -0.05769048962428924,
           -0.0345063152690242,
           -0.01061150357619211,
           0.013454008098850966,
           0.037104384846577534,
           0.059725017515438364,
           0.08069235790121831,
           0.0993958462307399,
           0.11526115097856117,
           0.12777380562398274,
           0.13650222610828716,
           0.14111903500315878
          ],
          [
           0.14111903500315878,
           0.13632396086944565,
           0.12719030582037316,
           0.11405907878471819,
           0.09738828403656238,
           0.07773008237271903,
           0.05570574218106777,
           0.03197958453286062,
           0.007233082355737275,
           -0.017859822184363938,
           -0.042655257000177006,
           -0.06655906279410359,
           -0.08904297911487404,
           -0.10965701691843574,
           -0.12803786284735597,
           -0.14391335124448024,
           -0.15710321083861073,
           -0.16751643729146143,
           -0.1751457556394694,
           -0.1800597155006458,
           -0.18239300622958532,
           -0.18233559039097344,
           -0.18012123502583363,
           -0.1760159755489718,
           -0.17030698199702413,
           -0.16329221750830802,
           -0.15527119023634722,
           -0.14653700801271363,
           -0.13736985507049018,
           -0.12803192632998142,
           -0.11876378051842666,
           -0.10978201113265723,
           -0.10127808535368477,
           -0.09341816596346665,
           -0.08634370978474622,
           -0.08017262722723162,
           -0.0750007897964791,
           -0.07090368426500879,
           -0.06793803188546253,
           -0.06614321685638791,
           -0.06554239869174844,
           -0.06614321685638791,
           -0.06793803188546253,
           -0.07090368426500879,
           -0.0750007897964791,
           -0.08017262722723162,
           -0.08634370978474622,
           -0.09341816596346665,
           -0.10127808535368477,
           -0.10978201113265723,
           -0.11876378051842666,
           -0.12803192632998142,
           -0.13736985507049018,
           -0.14653700801271363,
           -0.15527119023634722,
           -0.16329221750830802,
           -0.17030698199702413,
           -0.1760159755489718,
           -0.18012123502583363,
           -0.18233559039097344,
           -0.18239300622958532,
           -0.1800597155006458,
           -0.1751457556394694,
           -0.16751643729146143,
           -0.15710321083861073,
           -0.14391335124448024,
           -0.12803786284735597,
           -0.10965701691843574,
           -0.08904297911487404,
           -0.06655906279410359,
           -0.042655257000177006,
           -0.017859822184363938,
           0.007233082355737275,
           0.03197958453286062,
           0.05570574218106777,
           0.07773008237271903,
           0.09738828403656238,
           0.11405907878471819,
           0.12719030582037316,
           0.13632396086944565
          ],
          [
           0.13650222610828716,
           0.12719030582037316,
           0.1136526088802527,
           0.09636827159298987,
           0.0759235678781371,
           0.05298490441364873,
           0.028270310898122826,
           0.0025207381574719806,
           -0.023527608249201665,
           -0.04916880920228074,
           -0.07374973820785838,
           -0.09668883252747353,
           -0.11749065565570795,
           -0.13575600794040762,
           -0.1511875643863488,
           -0.163591222139663,
           -0.17287351607260817,
           -0.17903560277058095,
           -0.1821644169794075,
           -0.18242166855756492,
           -0.1800313728705813,
           -0.1752665961050691,
           -0.16843605361995675,
           -0.15987112992755653,
           -0.1499137997580331,
           -0.13890582780165694,
           -0.1271795169340972,
           -0.11505016730310495,
           -0.10281030706494565,
           -0.0907256642328181,
           -0.07903277128303789,
           -0.06793803188546253,
           -0.05761803324395176,
           -0.04822085787410071,
           -0.039868134180728126,
           -0.032657564269347995,
           -0.026665677985416577,
           -0.021950582012676394,
           -0.01855449981019833,
           -0.016505930263581485,
           -0.015821288518275644,
           -0.016505930263581485,
           -0.01855449981019833,
           -0.021950582012676394,
           -0.026665677985416577,
           -0.032657564269347995,
           -0.039868134180728126,
           -0.04822085787410071,
           -0.05761803324395176,
           -0.06793803188546253,
           -0.07903277128303789,
           -0.0907256642328181,
           -0.10281030706494565,
           -0.11505016730310495,
           -0.1271795169340972,
           -0.13890582780165694,
           -0.1499137997580331,
           -0.15987112992755653,
           -0.16843605361995675,
           -0.1752665961050691,
           -0.1800313728705813,
           -0.18242166855756492,
           -0.1821644169794075,
           -0.17903560277058095,
           -0.17287351607260817,
           -0.163591222139663,
           -0.1511875643863488,
           -0.13575600794040762,
           -0.11749065565570795,
           -0.09668883252747353,
           -0.07374973820785838,
           -0.04916880920228074,
           -0.023527608249201665,
           0.0025207381574719806,
           0.028270310898122826,
           0.05298490441364873,
           0.0759235678781371,
           0.09636827159298987,
           0.1136526088802527,
           0.12719030582037316
          ],
          [
           0.12777380562398274,
           0.11405907878471819,
           0.09636827159298987,
           0.07531659368730659,
           0.05161237775613617,
           0.026026147564044762,
           -0.0006409754282528475,
           -0.027588123185645037,
           -0.054043516875550875,
           -0.07929019757294747,
           -0.10268778525178764,
           -0.12368964794720452,
           -0.14185512230149663,
           -0.15685668268767797,
           -0.16848219583369567,
           -0.17663261032673944,
           -0.18131560690315682,
           -0.1826358700412797,
           -0.18078273088932142,
           -0.1760159755489718,
           -0.16865061331126227,
           -0.15904136091487175,
           -0.14756752732225356,
           -0.13461888616197776,
           -0.12058300781296416,
           -0.10583439818051152,
           -0.0907256642328181,
           -0.07558080422426758,
           -0.060690608986011814,
           -0.046310064114579955,
           -0.032657564269347995,
           -0.019915691575644292,
           -0.00823327044894154,
           0.0022716100207446164,
           0.011507919583092052,
           0.019407660252202565,
           0.025921773001301992,
           0.031016232090896562,
           0.03466854669458865,
           0.03686485131708162,
           0.03759772656874239,
           0.03686485131708162,
           0.03466854669458865,
           0.031016232090896562,
           0.025921773001301992,
           0.019407660252202565,
           0.011507919583092052,
           0.0022716100207446164,
           -0.00823327044894154,
           -0.019915691575644292,
           -0.032657564269347995,
           -0.046310064114579955,
           -0.060690608986011814,
           -0.07558080422426758,
           -0.0907256642328181,
           -0.10583439818051152,
           -0.12058300781296416,
           -0.13461888616197776,
           -0.14756752732225356,
           -0.15904136091487175,
           -0.16865061331126227,
           -0.1760159755489718,
           -0.18078273088932142,
           -0.1826358700412797,
           -0.18131560690315682,
           -0.17663261032673944,
           -0.16848219583369567,
           -0.15685668268767797,
           -0.14185512230149663,
           -0.12368964794720452,
           -0.10268778525178764,
           -0.07929019757294747,
           -0.054043516875550875,
           -0.027588123185645037,
           -0.0006409754282528475,
           0.026026147564044762,
           0.05161237775613617,
           0.07531659368730659,
           0.09636827159298987,
           0.11405907878471819
          ],
          [
           0.11526115097856117,
           0.09738828403656238,
           0.0759235678781371,
           0.05161237775613617,
           0.025275083284098894,
           -0.0022274559793407315,
           -0.03002807965783915,
           -0.0572857273340844,
           -0.08321475815193494,
           -0.10711012813756442,
           -0.1283676319466868,
           -0.1464987033293174,
           -0.16113955966514656,
           -0.17205475511311313,
           -0.17913546063850083,
           -0.18239300622958532,
           -0.18194839266053625,
           -0.17801860199902664,
           -0.17090060569317098,
           -0.1609539875623888,
           -0.14858307017251748,
           -0.13421936300715656,
           -0.11830504740258321,
           -0.10127808535368477,
           -0.08355939645450051,
           -0.06554239869174844,
           -0.04758506314163741,
           -0.030004497243790427,
           -0.013073952151520388,
           0.0029779491154211806,
           0.017966041941118966,
           0.031745840459068614,
           0.044209509361482956,
           0.05528095770522729,
           0.0649104168254659,
           0.07306884206017318,
           0.07974244535617742,
           0.08492762656935865,
           0.08862652853638416,
           0.09084339726921295,
           0.09158188560927924,
           0.09084339726921295,
           0.08862652853638416,
           0.08492762656935865,
           0.07974244535617742,
           0.07306884206017318,
           0.0649104168254659,
           0.05528095770522729,
           0.044209509361482956,
           0.031745840459068614,
           0.017966041941118966,
           0.0029779491154211806,
           -0.013073952151520388,
           -0.030004497243790427,
           -0.04758506314163741,
           -0.06554239869174844,
           -0.08355939645450051,
           -0.10127808535368477,
           -0.11830504740258321,
           -0.13421936300715656,
           -0.14858307017251748,
           -0.1609539875623888,
           -0.17090060569317098,
           -0.17801860199902664,
           -0.18194839266053625,
           -0.18239300622958532,
           -0.17913546063850083,
           -0.17205475511311313,
           -0.16113955966514656,
           -0.1464987033293174,
           -0.1283676319466868,
           -0.10711012813756442,
           -0.08321475815193494,
           -0.0572857273340844,
           -0.03002807965783915,
           -0.0022274559793407315,
           0.025275083284098894,
           0.05161237775613617,
           0.0759235678781371,
           0.09738828403656238
          ],
          [
           0.0993958462307399,
           0.07773008237271903,
           0.05298490441364873,
           0.026026147564044762,
           -0.0022274559793407315,
           -0.030841885736018544,
           -0.05890402451081101,
           -0.08555491563889543,
           -0.11001880232017779,
           -0.1316269478872783,
           -0.14983554931501694,
           -0.1642373823959323,
           -0.17456713788189782,
           -0.1807007071005138,
           -0.18264893898060253,
           -0.18054660691367944,
           -0.17463748569481502,
           -0.16525654180237792,
           -0.1528102839666787,
           -0.1377563081818195,
           -0.12058300781296416,
           -0.10179031338845618,
           -0.08187218787401292,
           -0.061301442485772274,
           -0.040517266401149735,
           -0.019915691575644292,
           0.0001569493213448689,
           0.019407660252202565,
           0.03759772656874239,
           0.054541276561040686,
           0.07010183827093616,
           0.08418731130237875,
           0.09674378883254962,
           0.10774865812501504,
           0.11720338291232232,
           0.12512633286074154,
           0.13154597877649798,
           0.13649472168344115,
           0.14000357308347133,
           0.14209785531573388,
           0.14279404657238684,
           0.14209785531573388,
           0.14000357308347133,
           0.13649472168344115,
           0.13154597877649798,
           0.12512633286074154,
           0.11720338291232232,
           0.10774865812501504,
           0.09674378883254962,
           0.08418731130237875,
           0.07010183827093616,
           0.054541276561040686,
           0.03759772656874239,
           0.019407660252202565,
           0.0001569493213448689,
           -0.019915691575644292,
           -0.040517266401149735,
           -0.061301442485772274,
           -0.08187218787401292,
           -0.10179031338845618,
           -0.12058300781296416,
           -0.1377563081818195,
           -0.1528102839666787,
           -0.16525654180237792,
           -0.17463748569481502,
           -0.18054660691367944,
           -0.18264893898060253,
           -0.1807007071005138,
           -0.17456713788189782,
           -0.1642373823959323,
           -0.14983554931501694,
           -0.1316269478872783,
           -0.11001880232017779,
           -0.08555491563889543,
           -0.05890402451081101,
           -0.030841885736018544,
           -0.0022274559793407315,
           0.026026147564044762,
           0.05298490441364873,
           0.07773008237271903
          ],
          [
           0.08069235790121831,
           0.05570574218106777,
           0.028270310898122826,
           -0.0006409754282528475,
           -0.03002807965783915,
           -0.05890402451081101,
           -0.08633239590937543,
           -0.1114606806231028,
           -0.13354819579908725,
           -0.15198770280837584,
           -0.16632015713858264,
           -0.17624240938958516,
           -0.18160802037610754,
           -0.18242166855756492,
           -0.1788278960809016,
           -0.17109514979541934,
           -0.15959621882048483,
           -0.14478624788034108,
           -0.1271795169340972,
           -0.10732612754693129,
           -0.0857896329957062,
           -0.0631265026963309,
           -0.039868134180728126,
           -0.016505930263581485,
           0.0065202421682302655,
           0.02883009042098063,
           0.05010748884225075,
           0.07010183827093616,
           0.08862652853638416,
           0.10555493165712146,
           0.12081441070397907,
           0.13437885433763305,
           0.14626024334832619,
           0.15649972810645998,
           0.16515865057394133,
           0.17230988766358785,
           0.17802983029511174,
           0.18239124981424537,
           0.18545724476618586,
           0.18727640924644018,
           0.18787932061729182,
           0.18727640924644018,
           0.18545724476618586,
           0.18239124981424537,
           0.17802983029511174,
           0.17230988766358785,
           0.16515865057394133,
           0.15649972810645998,
           0.14626024334832619,
           0.13437885433763305,
           0.12081441070397907,
           0.10555493165712146,
           0.08862652853638416,
           0.07010183827093616,
           0.05010748884225075,
           0.02883009042098063,
           0.0065202421682302655,
           -0.016505930263581485,
           -0.039868134180728126,
           -0.0631265026963309,
           -0.0857896329957062,
           -0.10732612754693129,
           -0.1271795169340972,
           -0.14478624788034108,
           -0.15959621882048483,
           -0.17109514979541934,
           -0.1788278960809016,
           -0.18242166855756492,
           -0.18160802037610754,
           -0.17624240938958516,
           -0.16632015713858264,
           -0.15198770280837584,
           -0.13354819579908725,
           -0.1114606806231028,
           -0.08633239590937543,
           -0.05890402451081101,
           -0.03002807965783915,
           -0.0006409754282528475,
           0.028270310898122826,
           0.05570574218106777
          ],
          [
           0.059725017515438364,
           0.03197958453286062,
           0.0025207381574719806,
           -0.027588123185645037,
           -0.0572857273340844,
           -0.08555491563889543,
           -0.1114606806231028,
           -0.13418273806183595,
           -0.15304146672549196,
           -0.16751643729146143,
           -0.17725715646546372,
           -0.18208605074549258,
           -0.18199408570471504,
           -0.17712974307464055,
           -0.16778234479339135,
           -0.1543609103022869,
           -0.13736985507049018,
           -0.11738288358628372,
           -0.0950164022704569,
           -0.07090368426500879,
           -0.045670869380806056,
           -0.019915691575644292,
           0.0058103924762656495,
           0.031016232090896562,
           0.05528095770522729,
           0.07825990831739421,
           0.09968670899986165,
           0.11937185506223688,
           0.13719827990417027,
           0.15311446345017118,
           0.16712567793535366,
           0.1792839709402817,
           0.18967745729212915,
           0.19841943861188654,
           0.20563779959612533,
           0.21146505144444128,
           0.21602931256266372,
           0.21944644111666822,
           0.22181346801290225,
           0.2232034254780841,
           0.22366162672468853,
           0.2232034254780841,
           0.22181346801290225,
           0.21944644111666822,
           0.21602931256266372,
           0.21146505144444128,
           0.20563779959612533,
           0.19841943861188654,
           0.18967745729212915,
           0.1792839709402817,
           0.16712567793535366,
           0.15311446345017118,
           0.13719827990417027,
           0.11937185506223688,
           0.09968670899986165,
           0.07825990831739421,
           0.05528095770522729,
           0.031016232090896562,
           0.0058103924762656495,
           -0.019915691575644292,
           -0.045670869380806056,
           -0.07090368426500879,
           -0.0950164022704569,
           -0.11738288358628372,
           -0.13736985507049018,
           -0.1543609103022869,
           -0.16778234479339135,
           -0.17712974307464055,
           -0.18199408570471504,
           -0.18208605074549258,
           -0.17725715646546372,
           -0.16751643729146143,
           -0.15304146672549196,
           -0.13418273806183595,
           -0.1114606806231028,
           -0.08555491563889543,
           -0.0572857273340844,
           -0.027588123185645037,
           0.0025207381574719806,
           0.03197958453286062
          ],
          [
           0.037104384846577534,
           0.007233082355737275,
           -0.023527608249201665,
           -0.054043516875550875,
           -0.08321475815193494,
           -0.11001880232017779,
           -0.13354819579908725,
           -0.15304146672549196,
           -0.167906160972842,
           -0.17773339606034183,
           -0.18230376872794093,
           -0.18158488243001691,
           -0.17572115154133375,
           -0.16501687105976595,
           -0.1499137997580331,
           -0.13096468174943518,
           -0.10880422217787396,
           -0.08411903827788304,
           -0.05761803324395176,
           -0.030004497243790427,
           -0.001951040868825416,
           0.025921773001301992,
           0.05306249567952219,
           0.07900122348247962,
           0.10335731863015635,
           0.1258425822940911,
           0.14626024334832619,
           0.16450028494360933,
           0.18053174205108255,
           0.1943926655354523,
           0.2061784643801796,
           0.21602931256266372,
           0.22411724822563847,
           0.23063350923189954,
           0.23577655069724138,
           0.23974108638511749,
           0.242708395806646,
           0.24483804991090946,
           0.24626113579560338,
           0.24707500803079696,
           0.24733956165584545,
           0.24707500803079696,
           0.24626113579560338,
           0.24483804991090946,
           0.242708395806646,
           0.23974108638511749,
           0.23577655069724138,
           0.23063350923189954,
           0.22411724822563847,
           0.21602931256266372,
           0.2061784643801796,
           0.1943926655354523,
           0.18053174205108255,
           0.16450028494360933,
           0.14626024334832619,
           0.1258425822940911,
           0.10335731863015635,
           0.07900122348247962,
           0.05306249567952219,
           0.025921773001301992,
           -0.001951040868825416,
           -0.030004497243790427,
           -0.05761803324395176,
           -0.08411903827788304,
           -0.10880422217787396,
           -0.13096468174943518,
           -0.1499137997580331,
           -0.16501687105976595,
           -0.17572115154133375,
           -0.18158488243001691,
           -0.18230376872794093,
           -0.17773339606034183,
           -0.167906160972842,
           -0.15304146672549196,
           -0.13354819579908725,
           -0.11001880232017779,
           -0.08321475815193494,
           -0.054043516875550875,
           -0.023527608249201665,
           0.007233082355737275
          ],
          [
           0.013454008098850966,
           -0.017859822184363938,
           -0.04916880920228074,
           -0.07929019757294747,
           -0.10711012813756442,
           -0.1316269478872783,
           -0.15198770280837584,
           -0.16751643729146143,
           -0.17773339606034183,
           -0.18236471957976835,
           -0.18134271385500067,
           -0.1747972342928682,
           -0.16303912773542587,
           -0.14653700801271363,
           -0.1258888846262905,
           -0.10179031338845618,
           -0.0750007897964791,
           -0.046310064114579955,
           -0.016505930263581485,
           0.013655158230898757,
           0.043473546354522816,
           0.07232710218505171,
           0.09968670899986165,
           0.12512633286074154,
           0.14832776112580212,
           0.16908036038891633,
           0.18727640924644018,
           0.20290271423033404,
           0.21602931256266372,
           0.22679610352037188,
           0.23539823538075702,
           0.2420710146043941,
           0.24707500803079696,
           0.2506818889186662,
           0.2531614457800734,
           0.25477004091850136,
           0.2557406839380664,
           0.2562747828163765,
           0.25653555744366946,
           0.2566430509401283,
           0.2566706526738519,
           0.2566430509401283,
           0.25653555744366946,
           0.2562747828163765,
           0.2557406839380664,
           0.25477004091850136,
           0.2531614457800734,
           0.2506818889186662,
           0.24707500803079696,
           0.2420710146043941,
           0.23539823538075702,
           0.22679610352037188,
           0.21602931256266372,
           0.20290271423033404,
           0.18727640924644018,
           0.16908036038891633,
           0.14832776112580212,
           0.12512633286074154,
           0.09968670899986165,
           0.07232710218505171,
           0.043473546354522816,
           0.013655158230898757,
           -0.016505930263581485,
           -0.046310064114579955,
           -0.0750007897964791,
           -0.10179031338845618,
           -0.1258888846262905,
           -0.14653700801271363,
           -0.16303912773542587,
           -0.1747972342928682,
           -0.18134271385500067,
           -0.18236471957976835,
           -0.17773339606034183,
           -0.16751643729146143,
           -0.15198770280837584,
           -0.1316269478872783,
           -0.10711012813756442,
           -0.07929019757294747,
           -0.04916880920228074,
           -0.017859822184363938
          ],
          [
           -0.01061150357619211,
           -0.042655257000177006,
           -0.07374973820785838,
           -0.10268778525178764,
           -0.1283676319466868,
           -0.14983554931501694,
           -0.16632015713858264,
           -0.17725715646546372,
           -0.18230376872794093,
           -0.18134271385500067,
           -0.17447608825271163,
           -0.16200998595397612,
           -0.14443111863131364,
           -0.12237701362727325,
           -0.09660159075517502,
           -0.06793803188546253,
           -0.03726086233570953,
           -0.005449066140771361,
           0.026648129724923395,
           0.058241427706856384,
           0.08862652853638416,
           0.11720338291232232,
           0.14348926836260514,
           0.16712567793535366,
           0.18787932061729182,
           0.20563779959612533,
           0.22040074178662336,
           0.23226729318028777,
           0.24142096714711753,
           0.24811283911536614,
           0.25264402764959015,
           0.255348298963932,
           0.256575492104657,
           0.2566762997375786,
           0.2559887694405144,
           0.2548267267047997,
           0.25347017586536014,
           0.252157618714697,
           0.25108014921898075,
           0.25037713957121355,
           0.25013332713993036,
           0.25037713957121355,
           0.25108014921898075,
           0.252157618714697,
           0.25347017586536014,
           0.2548267267047997,
           0.2559887694405144,
           0.2566762997375786,
           0.256575492104657,
           0.255348298963932,
           0.25264402764959015,
           0.24811283911536614,
           0.24142096714711753,
           0.23226729318028777,
           0.22040074178662336,
           0.20563779959612533,
           0.18787932061729182,
           0.16712567793535366,
           0.14348926836260514,
           0.11720338291232232,
           0.08862652853638416,
           0.058241427706856384,
           0.026648129724923395,
           -0.005449066140771361,
           -0.03726086233570953,
           -0.06793803188546253,
           -0.09660159075517502,
           -0.12237701362727325,
           -0.14443111863131364,
           -0.16200998595397612,
           -0.17447608825271163,
           -0.18134271385500067,
           -0.18230376872794093,
           -0.17725715646546372,
           -0.16632015713858264,
           -0.14983554931501694,
           -0.1283676319466868,
           -0.10268778525178764,
           -0.07374973820785838,
           -0.042655257000177006
          ],
          [
           -0.0345063152690242,
           -0.06655906279410359,
           -0.09668883252747353,
           -0.12368964794720452,
           -0.1464987033293174,
           -0.1642373823959323,
           -0.17624240938958516,
           -0.18208605074549258,
           -0.18158488243001691,
           -0.1747972342928682,
           -0.16200998595397612,
           -0.1437158894806465,
           -0.12058300781296416,
           -0.09341816596346665,
           -0.0631265026963309,
           -0.03066927919323432,
           0.0029779491154211806,
           0.03686485131708162,
           0.07010183827093616,
           0.1018902143955224,
           0.13154597877649798,
           0.15851669454452746,
           0.18239124981424537,
           0.20290271423033404,
           0.21992483146863692,
           0.23346296309158113,
           0.24364050109720906,
           0.2506818889186662,
           0.254893432701845,
           0.2566430509401283,
           0.2563400102730029,
           0.25441554164532254,
           0.25130504004127213,
           0.24743234013685533,
           0.2431963471432226,
           0.23896010343988033,
           0.23504220166614895,
           0.2317103248693539,
           0.22917661128094333,
           0.22759450814784551,
           0.2270567942100705,
           0.22759450814784551,
           0.22917661128094333,
           0.2317103248693539,
           0.23504220166614895,
           0.23896010343988033,
           0.2431963471432226,
           0.24743234013685533,
           0.25130504004127213,
           0.25441554164532254,
           0.2563400102730029,
           0.2566430509401283,
           0.254893432701845,
           0.2506818889186662,
           0.24364050109720906,
           0.23346296309158113,
           0.21992483146863692,
           0.20290271423033404,
           0.18239124981424537,
           0.15851669454452746,
           0.13154597877649798,
           0.1018902143955224,
           0.07010183827093616,
           0.03686485131708162,
           0.0029779491154211806,
           -0.03066927919323432,
           -0.0631265026963309,
           -0.09341816596346665,
           -0.12058300781296416,
           -0.1437158894806465,
           -0.16200998595397612,
           -0.1747972342928682,
           -0.18158488243001691,
           -0.18208605074549258,
           -0.17624240938958516,
           -0.1642373823959323,
           -0.1464987033293174,
           -0.12368964794720452,
           -0.09668883252747353,
           -0.06655906279410359
          ],
          [
           -0.05769048962428924,
           -0.08904297911487404,
           -0.11749065565570795,
           -0.14185512230149663,
           -0.16113955966514656,
           -0.17456713788189782,
           -0.18160802037610754,
           -0.18199408570471504,
           -0.17572115154133375,
           -0.16303912773542587,
           -0.14443111863131364,
           -0.12058300781296416,
           -0.09234546620178369,
           -0.060690608986011814,
           -0.026665677985416577,
           0.008653858363151095,
           0.044209509361482956,
           0.07900122348247962,
           0.11212338767979044,
           0.14279404657238684,
           0.17037647050011584,
           0.1943926655354523,
           0.2145288714461612,
           0.23063350923189954,
           0.242708395806646,
           0.2508943222213973,
           0.2554522819126627,
           0.2567417315441088,
           0.25519727019112654,
           0.25130504004127213,
           0.2455799958764798,
           0.23854497801642713,
           0.23071227369415245,
           0.2225680860000738,
           0.21456006847846779,
           0.2070878465419809,
           0.20049625055173417,
           0.19507084218595108,
           0.19103523332295086,
           0.18854967763954522,
           0.18771045677679687,
           0.18854967763954522,
           0.19103523332295086,
           0.19507084218595108,
           0.20049625055173417,
           0.2070878465419809,
           0.21456006847846779,
           0.2225680860000738,
           0.23071227369415245,
           0.23854497801642713,
           0.2455799958764798,
           0.25130504004127213,
           0.25519727019112654,
           0.2567417315441088,
           0.2554522819126627,
           0.2508943222213973,
           0.242708395806646,
           0.23063350923189954,
           0.2145288714461612,
           0.1943926655354523,
           0.17037647050011584,
           0.14279404657238684,
           0.11212338767979044,
           0.07900122348247962,
           0.044209509361482956,
           0.008653858363151095,
           -0.026665677985416577,
           -0.060690608986011814,
           -0.09234546620178369,
           -0.12058300781296416,
           -0.14443111863131364,
           -0.16303912773542587,
           -0.17572115154133375,
           -0.18199408570471504,
           -0.18160802037610754,
           -0.17456713788189782,
           -0.16113955966514656,
           -0.14185512230149663,
           -0.11749065565570795,
           -0.08904297911487404
          ],
          [
           -0.07968395387291566,
           -0.10965701691843574,
           -0.13575600794040762,
           -0.15685668268767797,
           -0.17205475511311313,
           -0.1807007071005138,
           -0.18242166855756492,
           -0.17712974307464055,
           -0.16501687105976595,
           -0.14653700801271363,
           -0.12237701362727325,
           -0.09341816596346665,
           -0.060690608986011814,
           -0.02532329427921568,
           0.011507919583092052,
           0.04863139306208121,
           0.08492762656935865,
           0.11937185506223688,
           0.15106960365711752,
           0.1792839709402817,
           0.20345392533496165,
           0.2232034254780841,
           0.2383416766936446,
           0.24885528388828942,
           0.254893432701845,
           0.25674750760048576,
           0.2548267267047997,
           0.24963143467045815,
           0.24172565029557566,
           0.2317103248693539,
           0.22019854657881394,
           0.20779364608280457,
           0.19507084218595108,
           0.18256273925541686,
           0.17074867404778504,
           0.16004763127913005,
           0.15081422331281308,
           0.1433370736825879,
           0.13783886506830845,
           0.134477311926808,
           0.1333463922312941,
           0.134477311926808,
           0.13783886506830845,
           0.1433370736825879,
           0.15081422331281308,
           0.16004763127913005,
           0.17074867404778504,
           0.18256273925541686,
           0.19507084218595108,
           0.20779364608280457,
           0.22019854657881394,
           0.2317103248693539,
           0.24172565029557566,
           0.24963143467045815,
           0.2548267267047997,
           0.25674750760048576,
           0.254893432701845,
           0.24885528388828942,
           0.2383416766936446,
           0.2232034254780841,
           0.20345392533496165,
           0.1792839709402817,
           0.15106960365711752,
           0.11937185506223688,
           0.08492762656935865,
           0.04863139306208121,
           0.011507919583092052,
           -0.02532329427921568,
           -0.060690608986011814,
           -0.09341816596346665,
           -0.12237701362727325,
           -0.14653700801271363,
           -0.16501687105976595,
           -0.17712974307464055,
           -0.18242166855756492,
           -0.1807007071005138,
           -0.17205475511311313,
           -0.15685668268767797,
           -0.13575600794040762,
           -0.10965701691843574
          ],
          [
           -0.10007704610444179,
           -0.12803786284735597,
           -0.1511875643863488,
           -0.16848219583369567,
           -0.17913546063850083,
           -0.18264893898060253,
           -0.1788278960809016,
           -0.16778234479339135,
           -0.1499137997580331,
           -0.1258888846262905,
           -0.09660159075517502,
           -0.0631265026963309,
           -0.026665677985416577,
           0.011507919583092052,
           0.05010748884225075,
           0.0878871354792479,
           0.12369173187889267,
           0.15649972810645998,
           0.18545724476618586,
           0.20990234059772522,
           0.22937894091767205,
           0.24364050109720906,
           0.25264402764959015,
           0.25653555744366946,
           0.25562857790064414,
           0.25037713957121355,
           0.2413455569066888,
           0.22917661128094333,
           0.21456006847846779,
           0.1982031145119569,
           0.18080401871815463,
           0.1630299764243758,
           0.14549969299473817,
           0.12877087581897034,
           0.11333242903336226,
           0.09960082298540655,
           0.08791985781076668,
           0.07856287339249271,
           0.07173638515428266,
           0.06758414818694233,
           0.0661907655654817,
           0.06758414818694233,
           0.07173638515428266,
           0.07856287339249271,
           0.08791985781076668,
           0.09960082298540655,
           0.11333242903336226,
           0.12877087581897034,
           0.14549969299473817,
           0.1630299764243758,
           0.18080401871815463,
           0.1982031145119569,
           0.21456006847846779,
           0.22917661128094333,
           0.2413455569066888,
           0.25037713957121355,
           0.25562857790064414,
           0.25653555744366946,
           0.25264402764959015,
           0.24364050109720906,
           0.22937894091767205,
           0.20990234059772522,
           0.18545724476618586,
           0.15649972810645998,
           0.12369173187889267,
           0.0878871354792479,
           0.05010748884225075,
           0.011507919583092052,
           -0.026665677985416577,
           -0.0631265026963309,
           -0.09660159075517502,
           -0.1258888846262905,
           -0.1499137997580331,
           -0.16778234479339135,
           -0.1788278960809016,
           -0.18264893898060253,
           -0.17913546063850083,
           -0.16848219583369567,
           -0.1511875643863488,
           -0.12803786284735597
          ],
          [
           -0.11853755153953284,
           -0.14391335124448024,
           -0.163591222139663,
           -0.17663261032673944,
           -0.18239300622958532,
           -0.18054660691367944,
           -0.17109514979541934,
           -0.1543609103022869,
           -0.13096468174943518,
           -0.10179031338845618,
           -0.06793803188546253,
           -0.03066927919323432,
           0.008653858363151095,
           0.04863139306208121,
           0.0878871354792479,
           0.12512633286074154,
           0.15918658398472915,
           0.1890798565922851,
           0.21402402107025095,
           0.23346296309158113,
           0.24707500803079696,
           0.25477004091850136,
           0.2566762997375786,
           0.25311832399967577,
           0.24458792842044305,
           0.2317103248693539,
           0.2152076253393881,
           0.19586192453391038,
           0.17447999195279823,
           0.15186131748507978,
           0.12877087581897034,
           0.10591753298818528,
           0.08393854575868848,
           0.06339013493636744,
           0.044743679368913644,
           0.02838670735216783,
           0.014627580006334946,
           0.0037025838949493145,
           -0.004215913110515241,
           -0.009011537058698997,
           -0.010617349295218181,
           -0.009011537058698997,
           -0.004215913110515241,
           0.0037025838949493145,
           0.014627580006334946,
           0.02838670735216783,
           0.044743679368913644,
           0.06339013493636744,
           0.08393854575868848,
           0.10591753298818528,
           0.12877087581897034,
           0.15186131748507978,
           0.17447999195279823,
           0.19586192453391038,
           0.2152076253393881,
           0.2317103248693539,
           0.24458792842044305,
           0.25311832399967577,
           0.2566762997375786,
           0.25477004091850136,
           0.24707500803079696,
           0.23346296309158113,
           0.21402402107025095,
           0.1890798565922851,
           0.15918658398472915,
           0.12512633286074154,
           0.0878871354792479,
           0.04863139306208121,
           0.008653858363151095,
           -0.03066927919323432,
           -0.06793803188546253,
           -0.10179031338845618,
           -0.13096468174943518,
           -0.1543609103022869,
           -0.17109514979541934,
           -0.18054660691367944,
           -0.18239300622958532,
           -0.17663261032673944,
           -0.163591222139663,
           -0.14391335124448024
          ],
          [
           -0.13481430178982187,
           -0.15710321083861073,
           -0.17287351607260817,
           -0.18131560690315682,
           -0.18194839266053625,
           -0.17463748569481502,
           -0.15959621882048483,
           -0.13736985507049018,
           -0.10880422217787396,
           -0.0750007897964791,
           -0.03726086233570953,
           0.0029779491154211806,
           0.044209509361482956,
           0.08492762656935865,
           0.12369173187889267,
           0.15918658398472915,
           0.1902732638436695,
           0.21602931256266372,
           0.23577655069724138,
           0.24909585663212155,
           0.25582893038458626,
           0.2560677827399544,
           0.25013332713993036,
           0.23854497801642713,
           0.22198354690007724,
           0.20124995852555586,
           0.17722237538812438,
           0.15081422331281308,
           0.12293536517635703,
           0.09445829662141196,
           0.0661907655654817,
           0.03885568116655977,
           0.013078615468659323,
           -0.010617349295218181,
           -0.03181017613329085,
           -0.050171999808914604,
           -0.06545830501430487,
           -0.07749482277960204,
           -0.08616386191642225,
           -0.09139170665445415,
           -0.09313849939964196,
           -0.09139170665445415,
           -0.08616386191642225,
           -0.07749482277960204,
           -0.06545830501430487,
           -0.050171999808914604,
           -0.03181017613329085,
           -0.010617349295218181,
           0.013078615468659323,
           0.03885568116655977,
           0.0661907655654817,
           0.09445829662141196,
           0.12293536517635703,
           0.15081422331281308,
           0.17722237538812438,
           0.20124995852555586,
           0.22198354690007724,
           0.23854497801642713,
           0.25013332713993036,
           0.2560677827399544,
           0.25582893038458626,
           0.24909585663212155,
           0.23577655069724138,
           0.21602931256266372,
           0.1902732638436695,
           0.15918658398472915,
           0.12369173187889267,
           0.08492762656935865,
           0.044209509361482956,
           0.0029779491154211806,
           -0.03726086233570953,
           -0.0750007897964791,
           -0.10880422217787396,
           -0.13736985507049018,
           -0.15959621882048483,
           -0.17463748569481502,
           -0.18194839266053625,
           -0.18131560690315682,
           -0.17287351607260817,
           -0.15710321083861073
          ],
          [
           -0.1487375524385824,
           -0.16751643729146143,
           -0.17903560277058095,
           -0.1826358700412797,
           -0.17801860199902664,
           -0.16525654180237792,
           -0.14478624788034108,
           -0.11738288358628372,
           -0.08411903827788304,
           -0.046310064114579955,
           -0.005449066140771361,
           0.03686485131708162,
           0.07900122348247962,
           0.11937185506223688,
           0.15649972810645998,
           0.1890798565922851,
           0.21602931256266372,
           0.2365243422174828,
           0.25002327766855664,
           0.2562747828163765,
           0.2553118000893658,
           0.24743234013685533,
           0.23316893482082693,
           0.21324911772700825,
           0.18854967763954522,
           0.16004763127913005,
           0.12877087581897034,
           0.0957513146109,
           0.06198291759831892,
           0.02838670735216783,
           -0.004215913110515241,
           -0.03512071345143313,
           -0.06374895250625122,
           -0.08964697741323371,
           -0.11247819731414006,
           -0.132008995765264,
           -0.14809048863531396,
           -0.16063822727306362,
           -0.1696119802323752,
           -0.17499760171649797,
           -0.17679272260843765,
           -0.17499760171649797,
           -0.1696119802323752,
           -0.16063822727306362,
           -0.14809048863531396,
           -0.132008995765264,
           -0.11247819731414006,
           -0.08964697741323371,
           -0.06374895250625122,
           -0.03512071345143313,
           -0.004215913110515241,
           0.02838670735216783,
           0.06198291759831892,
           0.0957513146109,
           0.12877087581897034,
           0.16004763127913005,
           0.18854967763954522,
           0.21324911772700825,
           0.23316893482082693,
           0.24743234013685533,
           0.2553118000893658,
           0.2562747828163765,
           0.25002327766855664,
           0.2365243422174828,
           0.21602931256266372,
           0.1890798565922851,
           0.15649972810645998,
           0.11937185506223688,
           0.07900122348247962,
           0.03686485131708162,
           -0.005449066140771361,
           -0.046310064114579955,
           -0.08411903827788304,
           -0.11738288358628372,
           -0.14478624788034108,
           -0.16525654180237792,
           -0.17801860199902664,
           -0.1826358700412797,
           -0.17903560277058095,
           -0.16751643729146143
          ],
          [
           -0.16021647158282734,
           -0.1751457556394694,
           -0.1821644169794075,
           -0.18078273088932142,
           -0.17090060569317098,
           -0.1528102839666787,
           -0.1271795169340972,
           -0.0950164022704569,
           -0.05761803324395176,
           -0.016505930263581485,
           0.026648129724923395,
           0.07010183827093616,
           0.11212338767979044,
           0.15106960365711752,
           0.18545724476618586,
           0.21402402107025095,
           0.23577655069724138,
           0.25002327766855664,
           0.25639126767027576,
           0.2548267267047997,
           0.2455799958764798,
           0.22917661128094333,
           0.2063767337439853,
           0.17812580971586786,
           0.14549969299473817,
           0.1096476200446325,
           0.07173638515428266,
           0.032898814044057145,
           -0.005810793613848673,
           -0.043452159632214875,
           -0.0792240541655952,
           -0.11247819731414006,
           -0.1427221428215067,
           -0.1696119802323752,
           -0.1929363397545002,
           -0.2125937105436689,
           -0.22856545626592412,
           -0.24088710992360066,
           -0.24962054293732017,
           -0.254829433326894,
           -0.2565601183892334,
           -0.254829433326894,
           -0.24962054293732017,
           -0.24088710992360066,
           -0.22856545626592412,
           -0.2125937105436689,
           -0.1929363397545002,
           -0.1696119802323752,
           -0.1427221428215067,
           -0.11247819731414006,
           -0.0792240541655952,
           -0.043452159632214875,
           -0.005810793613848673,
           0.032898814044057145,
           0.07173638515428266,
           0.1096476200446325,
           0.14549969299473817,
           0.17812580971586786,
           0.2063767337439853,
           0.22917661128094333,
           0.2455799958764798,
           0.2548267267047997,
           0.25639126767027576,
           0.25002327766855664,
           0.23577655069724138,
           0.21402402107025095,
           0.18545724476618586,
           0.15106960365711752,
           0.11212338767979044,
           0.07010183827093616,
           0.026648129724923395,
           -0.016505930263581485,
           -0.05761803324395176,
           -0.0950164022704569,
           -0.1271795169340972,
           -0.1528102839666787,
           -0.17090060569317098,
           -0.18078273088932142,
           -0.1821644169794075,
           -0.1751457556394694
          ],
          [
           -0.16923416092386775,
           -0.1800597155006458,
           -0.18242166855756492,
           -0.1760159755489718,
           -0.1609539875623888,
           -0.1377563081818195,
           -0.10732612754693129,
           -0.07090368426500879,
           -0.030004497243790427,
           0.013655158230898757,
           0.058241427706856384,
           0.1018902143955224,
           0.14279404657238684,
           0.1792839709402817,
           0.20990234059772522,
           0.23346296309158113,
           0.24909585663212155,
           0.2562747828163765,
           0.2548267267047997,
           0.24492352037505036,
           0.2270567942100705,
           0.20199833430642128,
           0.17074867404778504,
           0.134477311926808,
           0.09445829662141196,
           0.05200503792795912,
           0.00840808631479302,
           -0.03512071345143313,
           -0.07749482277960204,
           -0.1177881852505473,
           -0.15525760655490364,
           -0.18935183535374994,
           -0.21970771693043264,
           -0.24613461781837798,
           -0.268589046149572,
           -0.28714197491104243,
           -0.30194177876754097,
           -0.31317589634427284,
           -0.3210343185560354,
           -0.32567778292945404,
           -0.32721314035298743,
           -0.32567778292945404,
           -0.3210343185560354,
           -0.31317589634427284,
           -0.30194177876754097,
           -0.28714197491104243,
           -0.268589046149572,
           -0.24613461781837798,
           -0.21970771693043264,
           -0.18935183535374994,
           -0.15525760655490364,
           -0.1177881852505473,
           -0.07749482277960204,
           -0.03512071345143313,
           0.00840808631479302,
           0.05200503792795912,
           0.09445829662141196,
           0.134477311926808,
           0.17074867404778504,
           0.20199833430642128,
           0.2270567942100705,
           0.24492352037505036,
           0.2548267267047997,
           0.2562747828163765,
           0.24909585663212155,
           0.23346296309158113,
           0.20990234059772522,
           0.1792839709402817,
           0.14279404657238684,
           0.1018902143955224,
           0.058241427706856384,
           0.013655158230898757,
           -0.030004497243790427,
           -0.07090368426500879,
           -0.10732612754693129,
           -0.1377563081818195,
           -0.1609539875623888,
           -0.1760159755489718,
           -0.18242166855756492,
           -0.1800597155006458
          ],
          [
           -0.17584069010379264,
           -0.18239300622958532,
           -0.1800313728705813,
           -0.16865061331126227,
           -0.14858307017251748,
           -0.12058300781296416,
           -0.0857896329957062,
           -0.045670869380806056,
           -0.001951040868825416,
           0.043473546354522816,
           0.08862652853638416,
           0.13154597877649798,
           0.17037647050011584,
           0.20345392533496165,
           0.22937894091767205,
           0.24707500803079696,
           0.25582893038458626,
           0.2553118000893658,
           0.2455799958764798,
           0.2270567942100705,
           0.20049625055173417,
           0.16693195814109418,
           0.12761407121954643,
           0.08393854575868848,
           0.037372873633869375,
           -0.010617349295218181,
           -0.05863687417657578,
           -0.10542055787501849,
           -0.14988136590815446,
           -0.19114437378651342,
           -0.22856545626592412,
           -0.2617343483375656,
           -0.29046275344788247,
           -0.31475910259630246,
           -0.33479237619194996,
           -0.35084804028714445,
           -0.3632795822101567,
           -0.37245933283868765,
           -0.3787322233669178,
           -0.382375848005458,
           -0.3835697098652554,
           -0.382375848005458,
           -0.3787322233669178,
           -0.37245933283868765,
           -0.3632795822101567,
           -0.35084804028714445,
           -0.33479237619194996,
           -0.31475910259630246,
           -0.29046275344788247,
           -0.2617343483375656,
           -0.22856545626592412,
           -0.19114437378651342,
           -0.14988136590815446,
           -0.10542055787501849,
           -0.05863687417657578,
           -0.010617349295218181,
           0.037372873633869375,
           0.08393854575868848,
           0.12761407121954643,
           0.16693195814109418,
           0.20049625055173417,
           0.2270567942100705,
           0.2455799958764798,
           0.2553118000893658,
           0.25582893038458626,
           0.24707500803079696,
           0.22937894091767205,
           0.20345392533496165,
           0.17037647050011584,
           0.13154597877649798,
           0.08862652853638416,
           0.043473546354522816,
           -0.001951040868825416,
           -0.045670869380806056,
           -0.0857896329957062,
           -0.12058300781296416,
           -0.14858307017251748,
           -0.16865061331126227,
           -0.1800313728705813,
           -0.18239300622958532
          ],
          [
           -0.1801446545297837,
           -0.18233559039097344,
           -0.1752665961050691,
           -0.15904136091487175,
           -0.13421936300715656,
           -0.10179031338845618,
           -0.0631265026963309,
           -0.019915691575644292,
           0.025921773001301992,
           0.07232710218505171,
           0.11720338291232232,
           0.15851669454452746,
           0.1943926655354523,
           0.2232034254780841,
           0.24364050109720906,
           0.25477004091850136,
           0.2560677827399544,
           0.24743234013685533,
           0.22917661128094333,
           0.20199833430642128,
           0.16693195814109418,
           0.12528500092613942,
           0.07856287339249271,
           0.02838670735216783,
           -0.02359098016854476,
           -0.0757679524450742,
           -0.12666669235949252,
           -0.17499760171649797,
           -0.21970771693043264,
           -0.26001264723920775,
           -0.29541051237375787,
           -0.32567778292945404,
           -0.35084804028714445,
           -0.37117570680030565,
           -0.38708768931988075,
           -0.3991265770886398,
           -0.407889497747319,
           -0.41396693622794944,
           -0.417885750201407,
           -0.4200602785751461,
           -0.4207548585159486,
           -0.4200602785751461,
           -0.417885750201407,
           -0.41396693622794944,
           -0.407889497747319,
           -0.3991265770886398,
           -0.38708768931988075,
           -0.37117570680030565,
           -0.35084804028714445,
           -0.32567778292945404,
           -0.29541051237375787,
           -0.26001264723920775,
           -0.21970771693043264,
           -0.17499760171649797,
           -0.12666669235949252,
           -0.0757679524450742,
           -0.02359098016854476,
           0.02838670735216783,
           0.07856287339249271,
           0.12528500092613942,
           0.16693195814109418,
           0.20199833430642128,
           0.22917661128094333,
           0.24743234013685533,
           0.2560677827399544,
           0.25477004091850136,
           0.24364050109720906,
           0.2232034254780841,
           0.1943926655354523,
           0.15851669454452746,
           0.11720338291232232,
           0.07232710218505171,
           0.025921773001301992,
           -0.019915691575644292,
           -0.0631265026963309,
           -0.10179031338845618,
           -0.13421936300715656,
           -0.15904136091487175,
           -0.1752665961050691,
           -0.18233559039097344
          ],
          [
           -0.18230376872794093,
           -0.18012123502583363,
           -0.16843605361995675,
           -0.14756752732225356,
           -0.11830504740258321,
           -0.08187218787401292,
           -0.039868134180728126,
           0.0058103924762656495,
           0.05306249567952219,
           0.09968670899986165,
           0.14348926836260514,
           0.18239124981424537,
           0.2145288714461612,
           0.2383416766936446,
           0.25264402764959015,
           0.2566762997375786,
           0.25013332713993036,
           0.23316893482082693,
           0.2063767337439853,
           0.17074867404778504,
           0.12761407121954643,
           0.07856287339249271,
           0.02535776443828009,
           -0.030159748399708135,
           -0.08616386191642225,
           -0.1409342819269669,
           -0.1929363397545002,
           -0.24088710992360066,
           -0.2838041182964338,
           -0.3210343185560354,
           -0.35226222727992795,
           -0.37749737145928347,
           -0.3970424421347404,
           -0.41144469052055266,
           -0.42143408131469146,
           -0.42785247459104203,
           -0.43157859884674826,
           -0.4334537754581445,
           -0.434213248547002,
           -0.43442757176285574,
           -0.43445783007337646,
           -0.43442757176285574,
           -0.434213248547002,
           -0.4334537754581445,
           -0.43157859884674826,
           -0.42785247459104203,
           -0.42143408131469146,
           -0.41144469052055266,
           -0.3970424421347404,
           -0.37749737145928347,
           -0.35226222727992795,
           -0.3210343185560354,
           -0.2838041182964338,
           -0.24088710992360066,
           -0.1929363397545002,
           -0.1409342819269669,
           -0.08616386191642225,
           -0.030159748399708135,
           0.02535776443828009,
           0.07856287339249271,
           0.12761407121954643,
           0.17074867404778504,
           0.2063767337439853,
           0.23316893482082693,
           0.25013332713993036,
           0.2566762997375786,
           0.25264402764959015,
           0.2383416766936446,
           0.2145288714461612,
           0.18239124981424537,
           0.14348926836260514,
           0.09968670899986165,
           0.05306249567952219,
           0.0058103924762656495,
           -0.039868134180728126,
           -0.08187218787401292,
           -0.11830504740258321,
           -0.14756752732225356,
           -0.16843605361995675,
           -0.18012123502583363
          ],
          [
           -0.18251498442862385,
           -0.1760159755489718,
           -0.15987112992755653,
           -0.13461888616197776,
           -0.10127808535368477,
           -0.061301442485772274,
           -0.016505930263581485,
           0.031016232090896562,
           0.07900122348247962,
           0.12512633286074154,
           0.16712567793535366,
           0.20290271423033404,
           0.23063350923189954,
           0.24885528388828942,
           0.25653555744366946,
           0.25311832399967577,
           0.23854497801642713,
           0.21324911772700825,
           0.17812580971586786,
           0.134477311926808,
           0.08393854575868848,
           0.02838670735216783,
           -0.030159748399708135,
           -0.08964697741323371,
           -0.14809048863531396,
           -0.2036729142303004,
           -0.254829433326894,
           -0.3003162506586467,
           -0.3392585664190622,
           -0.37117570680030565,
           -0.39598244357893553,
           -0.41396693622794944,
           -0.42574709936268906,
           -0.43220845214435083,
           -0.43442757176285574,
           -0.4335860886421158,
           -0.4308806796227811,
           -0.4274347075936389,
           -0.42421701152445723,
           -0.42197287899622543,
           -0.421171462695804,
           -0.42197287899622543,
           -0.42421701152445723,
           -0.4274347075936389,
           -0.4308806796227811,
           -0.4335860886421158,
           -0.43442757176285574,
           -0.43220845214435083,
           -0.42574709936268906,
           -0.41396693622794944,
           -0.39598244357893553,
           -0.37117570680030565,
           -0.3392585664190622,
           -0.3003162506586467,
           -0.254829433326894,
           -0.2036729142303004,
           -0.14809048863531396,
           -0.08964697741323371,
           -0.030159748399708135,
           0.02838670735216783,
           0.08393854575868848,
           0.134477311926808,
           0.17812580971586786,
           0.21324911772700825,
           0.23854497801642713,
           0.25311832399967577,
           0.25653555744366946,
           0.24885528388828942,
           0.23063350923189954,
           0.20290271423033404,
           0.16712567793535366,
           0.12512633286074154,
           0.07900122348247962,
           0.031016232090896562,
           -0.016505930263581485,
           -0.061301442485772274,
           -0.10127808535368477,
           -0.13461888616197776,
           -0.15987112992755653,
           -0.1760159755489718
          ],
          [
           -0.18100457917857166,
           -0.17030698199702413,
           -0.1499137997580331,
           -0.12058300781296416,
           -0.08355939645450051,
           -0.040517266401149735,
           0.0065202421682302655,
           0.05528095770522729,
           0.10335731863015635,
           0.14832776112580212,
           0.18787932061729182,
           0.21992483146863692,
           0.242708395806646,
           0.254893432701845,
           0.25562857790064414,
           0.24458792842044305,
           0.22198354690007724,
           0.18854967763954522,
           0.14549969299473817,
           0.09445829662141196,
           0.037372873633869375,
           -0.02359098016854476,
           -0.08616386191642225,
           -0.14809048863531396,
           -0.20724458052139974,
           -0.2617343483375656,
           -0.309992807249447,
           -0.35084804028714445,
           -0.3835697098652554,
           -0.407889497747319,
           -0.42399466300627076,
           -0.43249545715781157,
           -0.43436863670247905,
           -0.4308806796227811,
           -0.42349546556438716,
           -0.4137720534188708,
           -0.40325873487122593,
           -0.39338972722403176,
           -0.3853906832849483,
           -0.3801986514917913,
           -0.3784012476539641,
           -0.3801986514917913,
           -0.3853906832849483,
           -0.39338972722403176,
           -0.40325873487122593,
           -0.4137720534188708,
           -0.42349546556438716,
           -0.4308806796227811,
           -0.43436863670247905,
           -0.43249545715781157,
           -0.42399466300627076,
           -0.407889497747319,
           -0.3835697098652554,
           -0.35084804028714445,
           -0.309992807249447,
           -0.2617343483375656,
           -0.20724458052139974,
           -0.14809048863531396,
           -0.08616386191642225,
           -0.02359098016854476,
           0.037372873633869375,
           0.09445829662141196,
           0.14549969299473817,
           0.18854967763954522,
           0.22198354690007724,
           0.24458792842044305,
           0.25562857790064414,
           0.254893432701845,
           0.242708395806646,
           0.21992483146863692,
           0.18787932061729182,
           0.14832776112580212,
           0.10335731863015635,
           0.05528095770522729,
           0.0065202421682302655,
           -0.040517266401149735,
           -0.08355939645450051,
           -0.12058300781296416,
           -0.1499137997580331,
           -0.17030698199702413
          ],
          [
           -0.17801860199902664,
           -0.16329221750830802,
           -0.13890582780165694,
           -0.10583439818051152,
           -0.06554239869174844,
           -0.019915691575644292,
           0.02883009042098063,
           0.07825990831739421,
           0.1258425822940911,
           0.16908036038891633,
           0.20563779959612533,
           0.23346296309158113,
           0.2508943222213973,
           0.25674750760048576,
           0.25037713957121355,
           0.2317103248693539,
           0.20124995852555586,
           0.16004763127913005,
           0.1096476200446325,
           0.05200503792795912,
           -0.010617349295218181,
           -0.0757679524450742,
           -0.1409342819269669,
           -0.2036729142303004,
           -0.2617343483375656,
           -0.31317589634427284,
           -0.3564564355250057,
           -0.3905078789395116,
           -0.4147795406040892,
           -0.42925310491460716,
           -0.43442757176285574,
           -0.4312752446188071,
           -0.421171462695804,
           -0.40580225753498556,
           -0.38705535500366767,
           -0.36690087535799776,
           -0.3472686537517362,
           -0.32992927901128904,
           -0.3163857196862348,
           -0.3077817863653888,
           -0.30483270332925,
           -0.3077817863653888,
           -0.3163857196862348,
           -0.32992927901128904,
           -0.3472686537517362,
           -0.36690087535799776,
           -0.38705535500366767,
           -0.40580225753498556,
           -0.421171462695804,
           -0.4312752446188071,
           -0.43442757176285574,
           -0.42925310491460716,
           -0.4147795406040892,
           -0.3905078789395116,
           -0.3564564355250057,
           -0.31317589634427284,
           -0.2617343483375656,
           -0.2036729142303004,
           -0.1409342819269669,
           -0.0757679524450742,
           -0.010617349295218181,
           0.05200503792795912,
           0.1096476200446325,
           0.16004763127913005,
           0.20124995852555586,
           0.2317103248693539,
           0.25037713957121355,
           0.25674750760048576,
           0.2508943222213973,
           0.23346296309158113,
           0.20563779959612533,
           0.16908036038891633,
           0.1258425822940911,
           0.07825990831739421,
           0.02883009042098063,
           -0.019915691575644292,
           -0.06554239869174844,
           -0.10583439818051152,
           -0.13890582780165694,
           -0.16329221750830802
          ],
          [
           -0.1738139924448547,
           -0.15527119023634722,
           -0.1271795169340972,
           -0.0907256642328181,
           -0.04758506314163741,
           0.0001569493213448689,
           0.05010748884225075,
           0.09968670899986165,
           0.14626024334832619,
           0.18727640924644018,
           0.22040074178662336,
           0.24364050109720906,
           0.2554522819126627,
           0.2548267267047997,
           0.2413455569066888,
           0.2152076253393881,
           0.17722237538812438,
           0.12877087581897034,
           0.07173638515428266,
           0.00840808631479302,
           -0.05863687417657578,
           -0.12666669235949252,
           -0.1929363397545002,
           -0.254829433326894,
           -0.309992807249447,
           -0.3564564355250057,
           -0.39273214882544505,
           -0.417885750201407,
           -0.43157859884674826,
           -0.434076417833265,
           -0.42622489689420734,
           -0.4093935036702951,
           -0.3853906832849483,
           -0.35635521764627226,
           -0.324629843053556,
           -0.2926242127644853,
           -0.2626748843273063,
           -0.23691017597600564,
           -0.21712746254366178,
           -0.20468978410715197,
           -0.20044755867978276,
           -0.20468978410715197,
           -0.21712746254366178,
           -0.23691017597600564,
           -0.2626748843273063,
           -0.2926242127644853,
           -0.324629843053556,
           -0.35635521764627226,
           -0.3853906832849483,
           -0.4093935036702951,
           -0.42622489689420734,
           -0.434076417833265,
           -0.43157859884674826,
           -0.417885750201407,
           -0.39273214882544505,
           -0.3564564355250057,
           -0.309992807249447,
           -0.254829433326894,
           -0.1929363397545002,
           -0.12666669235949252,
           -0.05863687417657578,
           0.00840808631479302,
           0.07173638515428266,
           0.12877087581897034,
           0.17722237538812438,
           0.2152076253393881,
           0.2413455569066888,
           0.2548267267047997,
           0.2554522819126627,
           0.24364050109720906,
           0.22040074178662336,
           0.18727640924644018,
           0.14626024334832619,
           0.09968670899986165,
           0.05010748884225075,
           0.0001569493213448689,
           -0.04758506314163741,
           -0.0907256642328181,
           -0.1271795169340972,
           -0.15527119023634722
          ],
          [
           -0.16865061331126227,
           -0.14653700801271363,
           -0.11505016730310495,
           -0.07558080422426758,
           -0.030004497243790427,
           0.019407660252202565,
           0.07010183827093616,
           0.11937185506223688,
           0.16450028494360933,
           0.20290271423033404,
           0.23226729318028777,
           0.2506818889186662,
           0.2567417315441088,
           0.24963143467045815,
           0.22917661128094333,
           0.19586192453391038,
           0.15081422331281308,
           0.0957513146109,
           0.032898814044057145,
           -0.03512071345143313,
           -0.10542055787501849,
           -0.17499760171649797,
           -0.24088710992360066,
           -0.3003162506586467,
           -0.35084804028714445,
           -0.3905078789395116,
           -0.417885750201407,
           -0.43220845214435083,
           -0.4333778373354074,
           -0.42197287899622543,
           -0.39921534828629784,
           -0.36690087535799776,
           -0.32729906443176787,
           -0.28302803533990717,
           -0.23691017597600564,
           -0.19181693290541052,
           -0.15051108239111077,
           -0.11549507625799743,
           -0.08887373699192957,
           -0.0722388011028484,
           -0.06658162124929747,
           -0.0722388011028484,
           -0.08887373699192957,
           -0.11549507625799743,
           -0.15051108239111077,
           -0.19181693290541052,
           -0.23691017597600564,
           -0.28302803533990717,
           -0.32729906443176787,
           -0.36690087535799776,
           -0.39921534828629784,
           -0.42197287899622543,
           -0.4333778373354074,
           -0.43220845214435083,
           -0.417885750201407,
           -0.3905078789395116,
           -0.35084804028714445,
           -0.3003162506586467,
           -0.24088710992360066,
           -0.17499760171649797,
           -0.10542055787501849,
           -0.03512071345143313,
           0.032898814044057145,
           0.0957513146109,
           0.15081422331281308,
           0.19586192453391038,
           0.22917661128094333,
           0.24963143467045815,
           0.2567417315441088,
           0.2506818889186662,
           0.23226729318028777,
           0.20290271423033404,
           0.16450028494360933,
           0.11937185506223688,
           0.07010183827093616,
           0.019407660252202565,
           -0.030004497243790427,
           -0.07558080422426758,
           -0.11505016730310495,
           -0.14653700801271363
          ],
          [
           -0.16278435980926842,
           -0.13736985507049018,
           -0.10281030706494565,
           -0.060690608986011814,
           -0.013073952151520388,
           0.03759772656874239,
           0.08862652853638416,
           0.13719827990417027,
           0.18053174205108255,
           0.21602931256266372,
           0.24142096714711753,
           0.254893432701845,
           0.25519727019112654,
           0.24172565029557566,
           0.21456006847846779,
           0.17447999195279823,
           0.12293536517635703,
           0.06198291759831892,
           -0.005810793613848673,
           -0.07749482277960204,
           -0.14988136590815446,
           -0.21970771693043264,
           -0.2838041182964338,
           -0.3392585664190622,
           -0.3835697098652554,
           -0.4147795406040892,
           -0.43157859884674826,
           -0.4333778373354074,
           -0.4203430458705095,
           -0.39338972722403176,
           -0.3541384336243295,
           -0.30483270332925,
           -0.24822376277499153,
           -0.187427969950852,
           -0.1257644689695074,
           -0.06658162124929747,
           -0.0130814139378774,
           0.03184881503912622,
           0.0657883626364726,
           0.08691073780520595,
           0.0940800053732448,
           0.08691073780520595,
           0.0657883626364726,
           0.03184881503912622,
           -0.0130814139378774,
           -0.06658162124929747,
           -0.1257644689695074,
           -0.187427969950852,
           -0.24822376277499153,
           -0.30483270332925,
           -0.3541384336243295,
           -0.39338972722403176,
           -0.4203430458705095,
           -0.4333778373354074,
           -0.43157859884674826,
           -0.4147795406040892,
           -0.3835697098652554,
           -0.3392585664190622,
           -0.2838041182964338,
           -0.21970771693043264,
           -0.14988136590815446,
           -0.07749482277960204,
           -0.005810793613848673,
           0.06198291759831892,
           0.12293536517635703,
           0.17447999195279823,
           0.21456006847846779,
           0.24172565029557566,
           0.25519727019112654,
           0.254893432701845,
           0.24142096714711753,
           0.21602931256266372,
           0.18053174205108255,
           0.13719827990417027,
           0.08862652853638416,
           0.03759772656874239,
           -0.013073952151520388,
           -0.060690608986011814,
           -0.10281030706494565,
           -0.13736985507049018
          ],
          [
           -0.15646143337355978,
           -0.12803192632998142,
           -0.0907256642328181,
           -0.046310064114579955,
           0.0029779491154211806,
           0.054541276561040686,
           0.10555493165712146,
           0.15311446345017118,
           0.1943926655354523,
           0.22679610352037188,
           0.24811283911536614,
           0.2566430509401283,
           0.25130504004127213,
           0.2317103248693539,
           0.1982031145119569,
           0.15186131748507978,
           0.09445829662141196,
           0.02838670735216783,
           -0.043452159632214875,
           -0.1177881852505473,
           -0.19114437378651342,
           -0.26001264723920775,
           -0.3210343185560354,
           -0.37117570680030565,
           -0.407889497747319,
           -0.42925310491460716,
           -0.434076417833265,
           -0.42197287899622543,
           -0.39338972722403176,
           -0.3495953826561967,
           -0.2926242127644853,
           -0.22518118755916025,
           -0.15051108239111077,
           -0.0722388011028484,
           0.005811034304373925,
           0.07980593576993696,
           0.14609889758077332,
           0.20141317105264114,
           0.24300880867803662,
           0.2688222513075441,
           0.277571630583514,
           0.2688222513075441,
           0.24300880867803662,
           0.20141317105264114,
           0.14609889758077332,
           0.07980593576993696,
           0.005811034304373925,
           -0.0722388011028484,
           -0.15051108239111077,
           -0.22518118755916025,
           -0.2926242127644853,
           -0.3495953826561967,
           -0.39338972722403176,
           -0.42197287899622543,
           -0.434076417833265,
           -0.42925310491460716,
           -0.407889497747319,
           -0.37117570680030565,
           -0.3210343185560354,
           -0.26001264723920775,
           -0.19114437378651342,
           -0.1177881852505473,
           -0.043452159632214875,
           0.02838670735216783,
           0.09445829662141196,
           0.15186131748507978,
           0.1982031145119569,
           0.2317103248693539,
           0.25130504004127213,
           0.2566430509401283,
           0.24811283911536614,
           0.22679610352037188,
           0.1943926655354523,
           0.15311446345017118,
           0.10555493165712146,
           0.054541276561040686,
           0.0029779491154211806,
           -0.046310064114579955,
           -0.0907256642328181,
           -0.12803192632998142
          ],
          [
           -0.1499137997580331,
           -0.11876378051842666,
           -0.07903277128303789,
           -0.032657564269347995,
           0.017966041941118966,
           0.07010183827093616,
           0.12081441070397907,
           0.16712567793535366,
           0.2061784643801796,
           0.23539823538075702,
           0.25264402764959015,
           0.2563400102730029,
           0.2455799958764798,
           0.22019854657881394,
           0.18080401871815463,
           0.12877087581897034,
           0.0661907655654817,
           -0.004215913110515241,
           -0.0792240541655952,
           -0.15525760655490364,
           -0.22856545626592412,
           -0.29541051237375787,
           -0.35226222727992795,
           -0.39598244357893553,
           -0.42399466300627076,
           -0.43442757176285574,
           -0.42622489689420734,
           -0.39921534828629784,
           -0.3541384336243295,
           -0.2926242127644853,
           -0.21712746254366178,
           -0.13081912452072303,
           -0.03744017720227128,
           0.05887491198907235,
           0.1537963512162099,
           0.24300880867803662,
           0.32242214992953067,
           0.38837235101706136,
           0.43780226922078175,
           0.4684129583840573,
           0.47877771528316515,
           0.4684129583840573,
           0.43780226922078175,
           0.38837235101706136,
           0.32242214992953067,
           0.24300880867803662,
           0.1537963512162099,
           0.05887491198907235,
           -0.03744017720227128,
           -0.13081912452072303,
           -0.21712746254366178,
           -0.2926242127644853,
           -0.3541384336243295,
           -0.39921534828629784,
           -0.42622489689420734,
           -0.43442757176285574,
           -0.42399466300627076,
           -0.39598244357893553,
           -0.35226222727992795,
           -0.29541051237375787,
           -0.22856545626592412,
           -0.15525760655490364,
           -0.0792240541655952,
           -0.004215913110515241,
           0.0661907655654817,
           0.12877087581897034,
           0.18080401871815463,
           0.22019854657881394,
           0.2455799958764798,
           0.2563400102730029,
           0.25264402764959015,
           0.23539823538075702,
           0.2061784643801796,
           0.16712567793535366,
           0.12081441070397907,
           0.07010183827093616,
           0.017966041941118966,
           -0.032657564269347995,
           -0.07903277128303789,
           -0.11876378051842666
          ],
          [
           -0.14335579129849668,
           -0.10978201113265723,
           -0.06793803188546253,
           -0.019915691575644292,
           0.031745840459068614,
           0.08418731130237875,
           0.13437885433763305,
           0.1792839709402817,
           0.21602931256266372,
           0.2420710146043941,
           0.255348298963932,
           0.25441554164532254,
           0.23854497801642713,
           0.20779364608280457,
           0.1630299764243758,
           0.10591753298818528,
           0.03885568116655977,
           -0.03512071345143313,
           -0.11247819731414006,
           -0.18935183535374994,
           -0.2617343483375656,
           -0.32567778292945404,
           -0.37749737145928347,
           -0.41396693622794944,
           -0.43249545715781157,
           -0.4312752446188071,
           -0.4093935036702951,
           -0.36690087535799776,
           -0.30483270332925,
           -0.22518118755916025,
           -0.13081912452072303,
           -0.025378460035175753,
           0.08691073780520595,
           0.20141317105264114,
           0.3133036361206578,
           0.4177941096414197,
           0.5103612401471838,
           0.5869627944413911,
           0.6442321103834694,
           0.6796406846183429,
           0.69162061945593,
           0.6796406846183429,
           0.6442321103834694,
           0.5869627944413911,
           0.5103612401471838,
           0.4177941096414197,
           0.3133036361206578,
           0.20141317105264114,
           0.08691073780520595,
           -0.025378460035175753,
           -0.13081912452072303,
           -0.22518118755916025,
           -0.30483270332925,
           -0.36690087535799776,
           -0.4093935036702951,
           -0.4312752446188071,
           -0.43249545715781157,
           -0.41396693622794944,
           -0.37749737145928347,
           -0.32567778292945404,
           -0.2617343483375656,
           -0.18935183535374994,
           -0.11247819731414006,
           -0.03512071345143313,
           0.03885568116655977,
           0.10591753298818528,
           0.1630299764243758,
           0.20779364608280457,
           0.23854497801642713,
           0.25441554164532254,
           0.255348298963932,
           0.2420710146043941,
           0.21602931256266372,
           0.1792839709402817,
           0.13437885433763305,
           0.08418731130237875,
           0.031745840459068614,
           -0.019915691575644292,
           -0.06793803188546253,
           -0.10978201113265723
          ],
          [
           -0.13698176393514344,
           -0.10127808535368477,
           -0.05761803324395176,
           -0.00823327044894154,
           0.044209509361482956,
           0.09674378883254962,
           0.14626024334832619,
           0.18967745729212915,
           0.22411724822563847,
           0.24707500803079696,
           0.256575492104657,
           0.25130504004127213,
           0.23071227369415245,
           0.19507084218595108,
           0.14549969299473817,
           0.08393854575868848,
           0.013078615468659323,
           -0.06374895250625122,
           -0.1427221428215067,
           -0.21970771693043264,
           -0.29046275344788247,
           -0.35084804028714445,
           -0.3970424421347404,
           -0.42574709936268906,
           -0.43436863670247905,
           -0.421171462695804,
           -0.3853906832849483,
           -0.32729906443176787,
           -0.24822376277499153,
           -0.15051108239111077,
           -0.03744017720227128,
           0.08691073780520595,
           0.21783961811686398,
           0.35022902170777614,
           0.47877771528316515,
           0.5982441516081277,
           0.7036898157513979,
           0.7907103570985019,
           0.8556429685382863,
           0.8957396184216221,
           0.9092974268256817,
           0.8957396184216221,
           0.8556429685382863,
           0.7907103570985019,
           0.7036898157513979,
           0.5982441516081277,
           0.47877771528316515,
           0.35022902170777614,
           0.21783961811686398,
           0.08691073780520595,
           -0.03744017720227128,
           -0.15051108239111077,
           -0.24822376277499153,
           -0.32729906443176787,
           -0.3853906832849483,
           -0.421171462695804,
           -0.43436863670247905,
           -0.42574709936268906,
           -0.3970424421347404,
           -0.35084804028714445,
           -0.29046275344788247,
           -0.21970771693043264,
           -0.1427221428215067,
           -0.06374895250625122,
           0.013078615468659323,
           0.08393854575868848,
           0.14549969299473817,
           0.19507084218595108,
           0.23071227369415245,
           0.25130504004127213,
           0.256575492104657,
           0.24707500803079696,
           0.22411724822563847,
           0.18967745729212915,
           0.14626024334832619,
           0.09674378883254962,
           0.044209509361482956,
           -0.00823327044894154,
           -0.05761803324395176,
           -0.10127808535368477
          ],
          [
           -0.13096468174943518,
           -0.09341816596346665,
           -0.04822085787410071,
           0.0022716100207446164,
           0.05528095770522729,
           0.10774865812501504,
           0.15649972810645998,
           0.19841943861188654,
           0.23063350923189954,
           0.2506818889186662,
           0.2566762997375786,
           0.24743234013685533,
           0.2225680860000738,
           0.18256273925541686,
           0.12877087581897034,
           0.06339013493636744,
           -0.010617349295218181,
           -0.08964697741323371,
           -0.1696119802323752,
           -0.24613461781837798,
           -0.31475910259630246,
           -0.37117570680030565,
           -0.41144469052055266,
           -0.43220845214435083,
           -0.4308806796227811,
           -0.40580225753498556,
           -0.35635521764627226,
           -0.28302803533990717,
           -0.187427969950852,
           -0.0722388011028484,
           0.05887491198907235,
           0.20141317105264114,
           0.35022902170777614,
           0.49975144871271493,
           0.6442321103834694,
           0.7780040258931075,
           0.8957396184216221,
           0.992695449836068,
           1.0649315658049785,
           1.1094945766040856,
           1.124555367855928,
           1.1094945766040856,
           1.0649315658049785,
           0.992695449836068,
           0.8957396184216221,
           0.7780040258931075,
           0.6442321103834694,
           0.49975144871271493,
           0.35022902170777614,
           0.20141317105264114,
           0.05887491198907235,
           -0.0722388011028484,
           -0.187427969950852,
           -0.28302803533990717,
           -0.35635521764627226,
           -0.40580225753498556,
           -0.4308806796227811,
           -0.43220845214435083,
           -0.41144469052055266,
           -0.37117570680030565,
           -0.31475910259630246,
           -0.24613461781837798,
           -0.1696119802323752,
           -0.08964697741323371,
           -0.010617349295218181,
           0.06339013493636744,
           0.12877087581897034,
           0.18256273925541686,
           0.2225680860000738,
           0.24743234013685533,
           0.2566762997375786,
           0.2506818889186662,
           0.23063350923189954,
           0.19841943861188654,
           0.15649972810645998,
           0.10774865812501504,
           0.05528095770522729,
           0.0022716100207446164,
           -0.04822085787410071,
           -0.09341816596346665
          ],
          [
           -0.1254554756233313,
           -0.08634370978474622,
           -0.039868134180728126,
           0.011507919583092052,
           0.0649104168254659,
           0.11720338291232232,
           0.16515865057394133,
           0.20563779959612533,
           0.23577655069724138,
           0.2531614457800734,
           0.2559887694405144,
           0.2431963471432226,
           0.21456006847846779,
           0.17074867404778504,
           0.11333242903336226,
           0.044743679368913644,
           -0.03181017613329085,
           -0.11247819731414006,
           -0.1929363397545002,
           -0.268589046149572,
           -0.33479237619194996,
           -0.38708768931988075,
           -0.42143408131469146,
           -0.43442757176285574,
           -0.42349546556438716,
           -0.38705535500366767,
           -0.324629843053556,
           -0.23691017597600564,
           -0.1257644689695074,
           0.005811034304373925,
           0.1537963512162099,
           0.3133036361206578,
           0.47877771528316515,
           0.6442321103834694,
           0.803509484779075,
           0.9505541014891831,
           1.0796831610910465,
           1.1858438330909473,
           1.2648434125627805,
           1.3135412961886945,
           1.3299933154720727,
           1.3135412961886945,
           1.2648434125627805,
           1.1858438330909473,
           1.0796831610910465,
           0.9505541014891831,
           0.803509484779075,
           0.6442321103834694,
           0.47877771528316515,
           0.3133036361206578,
           0.1537963512162099,
           0.005811034304373925,
           -0.1257644689695074,
           -0.23691017597600564,
           -0.324629843053556,
           -0.38705535500366767,
           -0.42349546556438716,
           -0.43442757176285574,
           -0.42143408131469146,
           -0.38708768931988075,
           -0.33479237619194996,
           -0.268589046149572,
           -0.1929363397545002,
           -0.11247819731414006,
           -0.03181017613329085,
           0.044743679368913644,
           0.11333242903336226,
           0.17074867404778504,
           0.21456006847846779,
           0.2431963471432226,
           0.2559887694405144,
           0.2531614457800734,
           0.23577655069724138,
           0.20563779959612533,
           0.16515865057394133,
           0.11720338291232232,
           0.0649104168254659,
           0.011507919583092052,
           -0.039868134180728126,
           -0.08634370978474622
          ],
          [
           -0.12058300781296416,
           -0.08017262722723162,
           -0.032657564269347995,
           0.019407660252202565,
           0.07306884206017318,
           0.12512633286074154,
           0.17230988766358785,
           0.21146505144444128,
           0.23974108638511749,
           0.25477004091850136,
           0.2548267267047997,
           0.23896010343988033,
           0.2070878465419809,
           0.16004763127913005,
           0.09960082298540655,
           0.02838670735216783,
           -0.050171999808914604,
           -0.132008995765264,
           -0.2125937105436689,
           -0.28714197491104243,
           -0.35084804028714445,
           -0.3991265770886398,
           -0.42785247459104203,
           -0.4335860886421158,
           -0.4137720534188708,
           -0.36690087535799776,
           -0.2926242127644853,
           -0.19181693290541052,
           -0.06658162124929747,
           0.07980593576993696,
           0.24300880867803662,
           0.4177941096414197,
           0.5982441516081277,
           0.7780040258931075,
           0.9505541014891831,
           1.1094945766040856,
           1.2488284837498442,
           1.3632295064019535,
           1.4482816142111579,
           1.500678835049543,
           1.518375390968938,
           1.500678835049543,
           1.4482816142111579,
           1.3632295064019535,
           1.2488284837498442,
           1.1094945766040856,
           0.9505541014891831,
           0.7780040258931075,
           0.5982441516081277,
           0.4177941096414197,
           0.24300880867803662,
           0.07980593576993696,
           -0.06658162124929747,
           -0.19181693290541052,
           -0.2926242127644853,
           -0.36690087535799776,
           -0.4137720534188708,
           -0.4335860886421158,
           -0.42785247459104203,
           -0.3991265770886398,
           -0.35084804028714445,
           -0.28714197491104243,
           -0.2125937105436689,
           -0.132008995765264,
           -0.050171999808914604,
           0.02838670735216783,
           0.09960082298540655,
           0.16004763127913005,
           0.2070878465419809,
           0.23896010343988033,
           0.2548267267047997,
           0.25477004091850136,
           0.23974108638511749,
           0.21146505144444128,
           0.17230988766358785,
           0.12512633286074154,
           0.07306884206017318,
           0.019407660252202565,
           -0.032657564269347995,
           -0.08017262722723162
          ],
          [
           -0.1164544699167505,
           -0.0750007897964791,
           -0.026665677985416577,
           0.025921773001301992,
           0.07974244535617742,
           0.13154597877649798,
           0.17802983029511174,
           0.21602931256266372,
           0.242708395806646,
           0.2557406839380664,
           0.25347017586536014,
           0.23504220166614895,
           0.20049625055173417,
           0.15081422331281308,
           0.08791985781076668,
           0.014627580006334946,
           -0.06545830501430487,
           -0.14809048863531396,
           -0.22856545626592412,
           -0.30194177876754097,
           -0.3632795822101567,
           -0.407889497747319,
           -0.43157859884674826,
           -0.4308806796227811,
           -0.40325873487122593,
           -0.3472686537517362,
           -0.2626748843273063,
           -0.15051108239111077,
           -0.0130814139378774,
           0.14609889758077332,
           0.32242214992953067,
           0.5103612401471838,
           0.7036898157513979,
           0.8957396184216221,
           1.0796831610910465,
           1.2488284837498442,
           1.3969119972732167,
           1.518375390968938,
           1.608613254431116,
           1.6641794167481594,
           1.682941969615793,
           1.6641794167481594,
           1.608613254431116,
           1.518375390968938,
           1.3969119972732167,
           1.2488284837498442,
           1.0796831610910465,
           0.8957396184216221,
           0.7036898157513979,
           0.5103612401471838,
           0.32242214992953067,
           0.14609889758077332,
           -0.0130814139378774,
           -0.15051108239111077,
           -0.2626748843273063,
           -0.3472686537517362,
           -0.40325873487122593,
           -0.4308806796227811,
           -0.43157859884674826,
           -0.407889497747319,
           -0.3632795822101567,
           -0.30194177876754097,
           -0.22856545626592412,
           -0.14809048863531396,
           -0.06545830501430487,
           0.014627580006334946,
           0.08791985781076668,
           0.15081422331281308,
           0.20049625055173417,
           0.23504220166614895,
           0.25347017586536014,
           0.2557406839380664,
           0.242708395806646,
           0.21602931256266372,
           0.17802983029511174,
           0.13154597877649798,
           0.07974244535617742,
           0.025921773001301992,
           -0.026665677985416577,
           -0.0750007897964791
          ],
          [
           -0.1131560467581887,
           -0.07090368426500879,
           -0.021950582012676394,
           0.031016232090896562,
           0.08492762656935865,
           0.13649472168344115,
           0.18239124981424537,
           0.21944644111666822,
           0.24483804991090946,
           0.2562747828163765,
           0.252157618714697,
           0.2317103248693539,
           0.19507084218595108,
           0.1433370736825879,
           0.07856287339249271,
           0.0037025838949493145,
           -0.07749482277960204,
           -0.16063822727306362,
           -0.24088710992360066,
           -0.31317589634427284,
           -0.37245933283868765,
           -0.41396693622794944,
           -0.4334537754581445,
           -0.4274347075936389,
           -0.39338972722403176,
           -0.32992927901128904,
           -0.23691017597600564,
           -0.11549507625799743,
           0.03184881503912622,
           0.20141317105264114,
           0.38837235101706136,
           0.5869627944413911,
           0.7907103570985019,
           0.992695449836068,
           1.1858438330909473,
           1.3632295064019535,
           1.518375390968938,
           1.6455374774968983,
           1.7399588071171015,
           1.7980810383563555,
           1.8177033600622243,
           1.7980810383563555,
           1.7399588071171015,
           1.6455374774968983,
           1.518375390968938,
           1.3632295064019535,
           1.1858438330909473,
           0.992695449836068,
           0.7907103570985019,
           0.5869627944413911,
           0.38837235101706136,
           0.20141317105264114,
           0.03184881503912622,
           -0.11549507625799743,
           -0.23691017597600564,
           -0.32992927901128904,
           -0.39338972722403176,
           -0.4274347075936389,
           -0.4334537754581445,
           -0.41396693622794944,
           -0.37245933283868765,
           -0.31317589634427284,
           -0.24088710992360066,
           -0.16063822727306362,
           -0.07749482277960204,
           0.0037025838949493145,
           0.07856287339249271,
           0.1433370736825879,
           0.19507084218595108,
           0.2317103248693539,
           0.252157618714697,
           0.2562747828163765,
           0.24483804991090946,
           0.21944644111666822,
           0.18239124981424537,
           0.13649472168344115,
           0.08492762656935865,
           0.031016232090896562,
           -0.021950582012676394,
           -0.07090368426500879
          ],
          [
           -0.1107536917561867,
           -0.06793803188546253,
           -0.01855449981019833,
           0.03466854669458865,
           0.08862652853638416,
           0.14000357308347133,
           0.18545724476618586,
           0.22181346801290225,
           0.24626113579560338,
           0.25653555744366946,
           0.25108014921898075,
           0.22917661128094333,
           0.19103523332295086,
           0.13783886506830845,
           0.07173638515428266,
           -0.004215913110515241,
           -0.08616386191642225,
           -0.1696119802323752,
           -0.24962054293732017,
           -0.3210343185560354,
           -0.3787322233669178,
           -0.417885750201407,
           -0.434213248547002,
           -0.42421701152445723,
           -0.3853906832849483,
           -0.3163857196862348,
           -0.21712746254366178,
           -0.08887373699192957,
           0.0657883626364726,
           0.24300880867803662,
           0.43780226922078175,
           0.6442321103834694,
           0.8556429685382863,
           1.0649315658049785,
           1.2648434125627805,
           1.4482816142111579,
           1.608613254431116,
           1.7399588071171015,
           1.8374507397311368,
           1.8974488797623419,
           1.917702154416812,
           1.8974488797623419,
           1.8374507397311368,
           1.7399588071171015,
           1.608613254431116,
           1.4482816142111579,
           1.2648434125627805,
           1.0649315658049785,
           0.8556429685382863,
           0.6442321103834694,
           0.43780226922078175,
           0.24300880867803662,
           0.0657883626364726,
           -0.08887373699192957,
           -0.21712746254366178,
           -0.3163857196862348,
           -0.3853906832849483,
           -0.42421701152445723,
           -0.434213248547002,
           -0.417885750201407,
           -0.3787322233669178,
           -0.3210343185560354,
           -0.24962054293732017,
           -0.1696119802323752,
           -0.08616386191642225,
           -0.004215913110515241,
           0.07173638515428266,
           0.13783886506830845,
           0.19103523332295086,
           0.22917661128094333,
           0.25108014921898075,
           0.25653555744366946,
           0.24626113579560338,
           0.22181346801290225,
           0.18545724476618586,
           0.14000357308347133,
           0.08862652853638416,
           0.03466854669458865,
           -0.01855449981019833,
           -0.06793803188546253
          ],
          [
           -0.10929387900894774,
           -0.06614321685638791,
           -0.016505930263581485,
           0.03686485131708162,
           0.09084339726921295,
           0.14209785531573388,
           0.18727640924644018,
           0.2232034254780841,
           0.24707500803079696,
           0.2566430509401283,
           0.25037713957121355,
           0.22759450814784551,
           0.18854967763954522,
           0.134477311926808,
           0.06758414818694233,
           -0.009011537058698997,
           -0.09139170665445415,
           -0.17499760171649797,
           -0.254829433326894,
           -0.32567778292945404,
           -0.382375848005458,
           -0.4200602785751461,
           -0.43442757176285574,
           -0.42197287899622543,
           -0.3801986514917913,
           -0.3077817863653888,
           -0.20468978410715197,
           -0.0722388011028484,
           0.08691073780520595,
           0.2688222513075441,
           0.4684129583840573,
           0.6796406846183429,
           0.8957396184216221,
           1.1094945766040856,
           1.3135412961886945,
           1.500678835049543,
           1.6641794167481594,
           1.7980810383563555,
           1.8974488797623419,
           1.9585929762944412,
           1.9792316740361835,
           1.9585929762944412,
           1.8974488797623419,
           1.7980810383563555,
           1.6641794167481594,
           1.500678835049543,
           1.3135412961886945,
           1.1094945766040856,
           0.8957396184216221,
           0.6796406846183429,
           0.4684129583840573,
           0.2688222513075441,
           0.08691073780520595,
           -0.0722388011028484,
           -0.20468978410715197,
           -0.3077817863653888,
           -0.3801986514917913,
           -0.42197287899622543,
           -0.43442757176285574,
           -0.4200602785751461,
           -0.382375848005458,
           -0.32567778292945404,
           -0.254829433326894,
           -0.17499760171649797,
           -0.09139170665445415,
           -0.009011537058698997,
           0.06758414818694233,
           0.134477311926808,
           0.18854967763954522,
           0.22759450814784551,
           0.25037713957121355,
           0.2566430509401283,
           0.24707500803079696,
           0.2232034254780841,
           0.18727640924644018,
           0.14209785531573388,
           0.09084339726921295,
           0.03686485131708162,
           -0.016505930263581485,
           -0.06614321685638791
          ],
          [
           -0.10880422217787396,
           -0.06554239869174844,
           -0.015821288518275644,
           0.03759772656874239,
           0.09158188560927924,
           0.14279404657238684,
           0.18787932061729182,
           0.22366162672468853,
           0.24733956165584545,
           0.2566706526738519,
           0.25013332713993036,
           0.2270567942100705,
           0.18771045677679687,
           0.1333463922312941,
           0.0661907655654817,
           -0.010617349295218181,
           -0.09313849939964196,
           -0.17679272260843765,
           -0.2565601183892334,
           -0.32721314035298743,
           -0.3835697098652554,
           -0.4207548585159486,
           -0.43445783007337646,
           -0.421171462695804,
           -0.3784012476539641,
           -0.30483270332925,
           -0.20044755867978276,
           -0.06658162124929747,
           0.0940800053732448,
           0.277571630583514,
           0.47877771528316515,
           0.69162061945593,
           0.9092974268256817,
           1.124555367855928,
           1.3299933154720727,
           1.518375390968938,
           1.682941969615793,
           1.8177033600622243,
           1.917702154416812,
           1.9792316740361835,
           null,
           1.9792316740361835,
           1.917702154416812,
           1.8177033600622243,
           1.682941969615793,
           1.518375390968938,
           1.3299933154720727,
           1.124555367855928,
           0.9092974268256817,
           0.69162061945593,
           0.47877771528316515,
           0.277571630583514,
           0.0940800053732448,
           -0.06658162124929747,
           -0.20044755867978276,
           -0.30483270332925,
           -0.3784012476539641,
           -0.421171462695804,
           -0.43445783007337646,
           -0.4207548585159486,
           -0.3835697098652554,
           -0.32721314035298743,
           -0.2565601183892334,
           -0.17679272260843765,
           -0.09313849939964196,
           -0.010617349295218181,
           0.0661907655654817,
           0.1333463922312941,
           0.18771045677679687,
           0.2270567942100705,
           0.25013332713993036,
           0.2566706526738519,
           0.24733956165584545,
           0.22366162672468853,
           0.18787932061729182,
           0.14279404657238684,
           0.09158188560927924,
           0.03759772656874239,
           -0.015821288518275644,
           -0.06554239869174844
          ],
          [
           -0.10929387900894774,
           -0.06614321685638791,
           -0.016505930263581485,
           0.03686485131708162,
           0.09084339726921295,
           0.14209785531573388,
           0.18727640924644018,
           0.2232034254780841,
           0.24707500803079696,
           0.2566430509401283,
           0.25037713957121355,
           0.22759450814784551,
           0.18854967763954522,
           0.134477311926808,
           0.06758414818694233,
           -0.009011537058698997,
           -0.09139170665445415,
           -0.17499760171649797,
           -0.254829433326894,
           -0.32567778292945404,
           -0.382375848005458,
           -0.4200602785751461,
           -0.43442757176285574,
           -0.42197287899622543,
           -0.3801986514917913,
           -0.3077817863653888,
           -0.20468978410715197,
           -0.0722388011028484,
           0.08691073780520595,
           0.2688222513075441,
           0.4684129583840573,
           0.6796406846183429,
           0.8957396184216221,
           1.1094945766040856,
           1.3135412961886945,
           1.500678835049543,
           1.6641794167481594,
           1.7980810383563555,
           1.8974488797623419,
           1.9585929762944412,
           1.9792316740361835,
           1.9585929762944412,
           1.8974488797623419,
           1.7980810383563555,
           1.6641794167481594,
           1.500678835049543,
           1.3135412961886945,
           1.1094945766040856,
           0.8957396184216221,
           0.6796406846183429,
           0.4684129583840573,
           0.2688222513075441,
           0.08691073780520595,
           -0.0722388011028484,
           -0.20468978410715197,
           -0.3077817863653888,
           -0.3801986514917913,
           -0.42197287899622543,
           -0.43442757176285574,
           -0.4200602785751461,
           -0.382375848005458,
           -0.32567778292945404,
           -0.254829433326894,
           -0.17499760171649797,
           -0.09139170665445415,
           -0.009011537058698997,
           0.06758414818694233,
           0.134477311926808,
           0.18854967763954522,
           0.22759450814784551,
           0.25037713957121355,
           0.2566430509401283,
           0.24707500803079696,
           0.2232034254780841,
           0.18727640924644018,
           0.14209785531573388,
           0.09084339726921295,
           0.03686485131708162,
           -0.016505930263581485,
           -0.06614321685638791
          ],
          [
           -0.1107536917561867,
           -0.06793803188546253,
           -0.01855449981019833,
           0.03466854669458865,
           0.08862652853638416,
           0.14000357308347133,
           0.18545724476618586,
           0.22181346801290225,
           0.24626113579560338,
           0.25653555744366946,
           0.25108014921898075,
           0.22917661128094333,
           0.19103523332295086,
           0.13783886506830845,
           0.07173638515428266,
           -0.004215913110515241,
           -0.08616386191642225,
           -0.1696119802323752,
           -0.24962054293732017,
           -0.3210343185560354,
           -0.3787322233669178,
           -0.417885750201407,
           -0.434213248547002,
           -0.42421701152445723,
           -0.3853906832849483,
           -0.3163857196862348,
           -0.21712746254366178,
           -0.08887373699192957,
           0.0657883626364726,
           0.24300880867803662,
           0.43780226922078175,
           0.6442321103834694,
           0.8556429685382863,
           1.0649315658049785,
           1.2648434125627805,
           1.4482816142111579,
           1.608613254431116,
           1.7399588071171015,
           1.8374507397311368,
           1.8974488797623419,
           1.917702154416812,
           1.8974488797623419,
           1.8374507397311368,
           1.7399588071171015,
           1.608613254431116,
           1.4482816142111579,
           1.2648434125627805,
           1.0649315658049785,
           0.8556429685382863,
           0.6442321103834694,
           0.43780226922078175,
           0.24300880867803662,
           0.0657883626364726,
           -0.08887373699192957,
           -0.21712746254366178,
           -0.3163857196862348,
           -0.3853906832849483,
           -0.42421701152445723,
           -0.434213248547002,
           -0.417885750201407,
           -0.3787322233669178,
           -0.3210343185560354,
           -0.24962054293732017,
           -0.1696119802323752,
           -0.08616386191642225,
           -0.004215913110515241,
           0.07173638515428266,
           0.13783886506830845,
           0.19103523332295086,
           0.22917661128094333,
           0.25108014921898075,
           0.25653555744366946,
           0.24626113579560338,
           0.22181346801290225,
           0.18545724476618586,
           0.14000357308347133,
           0.08862652853638416,
           0.03466854669458865,
           -0.01855449981019833,
           -0.06793803188546253
          ],
          [
           -0.1131560467581887,
           -0.07090368426500879,
           -0.021950582012676394,
           0.031016232090896562,
           0.08492762656935865,
           0.13649472168344115,
           0.18239124981424537,
           0.21944644111666822,
           0.24483804991090946,
           0.2562747828163765,
           0.252157618714697,
           0.2317103248693539,
           0.19507084218595108,
           0.1433370736825879,
           0.07856287339249271,
           0.0037025838949493145,
           -0.07749482277960204,
           -0.16063822727306362,
           -0.24088710992360066,
           -0.31317589634427284,
           -0.37245933283868765,
           -0.41396693622794944,
           -0.4334537754581445,
           -0.4274347075936389,
           -0.39338972722403176,
           -0.32992927901128904,
           -0.23691017597600564,
           -0.11549507625799743,
           0.03184881503912622,
           0.20141317105264114,
           0.38837235101706136,
           0.5869627944413911,
           0.7907103570985019,
           0.992695449836068,
           1.1858438330909473,
           1.3632295064019535,
           1.518375390968938,
           1.6455374774968983,
           1.7399588071171015,
           1.7980810383563555,
           1.8177033600622243,
           1.7980810383563555,
           1.7399588071171015,
           1.6455374774968983,
           1.518375390968938,
           1.3632295064019535,
           1.1858438330909473,
           0.992695449836068,
           0.7907103570985019,
           0.5869627944413911,
           0.38837235101706136,
           0.20141317105264114,
           0.03184881503912622,
           -0.11549507625799743,
           -0.23691017597600564,
           -0.32992927901128904,
           -0.39338972722403176,
           -0.4274347075936389,
           -0.4334537754581445,
           -0.41396693622794944,
           -0.37245933283868765,
           -0.31317589634427284,
           -0.24088710992360066,
           -0.16063822727306362,
           -0.07749482277960204,
           0.0037025838949493145,
           0.07856287339249271,
           0.1433370736825879,
           0.19507084218595108,
           0.2317103248693539,
           0.252157618714697,
           0.2562747828163765,
           0.24483804991090946,
           0.21944644111666822,
           0.18239124981424537,
           0.13649472168344115,
           0.08492762656935865,
           0.031016232090896562,
           -0.021950582012676394,
           -0.07090368426500879
          ],
          [
           -0.1164544699167505,
           -0.0750007897964791,
           -0.026665677985416577,
           0.025921773001301992,
           0.07974244535617742,
           0.13154597877649798,
           0.17802983029511174,
           0.21602931256266372,
           0.242708395806646,
           0.2557406839380664,
           0.25347017586536014,
           0.23504220166614895,
           0.20049625055173417,
           0.15081422331281308,
           0.08791985781076668,
           0.014627580006334946,
           -0.06545830501430487,
           -0.14809048863531396,
           -0.22856545626592412,
           -0.30194177876754097,
           -0.3632795822101567,
           -0.407889497747319,
           -0.43157859884674826,
           -0.4308806796227811,
           -0.40325873487122593,
           -0.3472686537517362,
           -0.2626748843273063,
           -0.15051108239111077,
           -0.0130814139378774,
           0.14609889758077332,
           0.32242214992953067,
           0.5103612401471838,
           0.7036898157513979,
           0.8957396184216221,
           1.0796831610910465,
           1.2488284837498442,
           1.3969119972732167,
           1.518375390968938,
           1.608613254431116,
           1.6641794167481594,
           1.682941969615793,
           1.6641794167481594,
           1.608613254431116,
           1.518375390968938,
           1.3969119972732167,
           1.2488284837498442,
           1.0796831610910465,
           0.8957396184216221,
           0.7036898157513979,
           0.5103612401471838,
           0.32242214992953067,
           0.14609889758077332,
           -0.0130814139378774,
           -0.15051108239111077,
           -0.2626748843273063,
           -0.3472686537517362,
           -0.40325873487122593,
           -0.4308806796227811,
           -0.43157859884674826,
           -0.407889497747319,
           -0.3632795822101567,
           -0.30194177876754097,
           -0.22856545626592412,
           -0.14809048863531396,
           -0.06545830501430487,
           0.014627580006334946,
           0.08791985781076668,
           0.15081422331281308,
           0.20049625055173417,
           0.23504220166614895,
           0.25347017586536014,
           0.2557406839380664,
           0.242708395806646,
           0.21602931256266372,
           0.17802983029511174,
           0.13154597877649798,
           0.07974244535617742,
           0.025921773001301992,
           -0.026665677985416577,
           -0.0750007897964791
          ],
          [
           -0.12058300781296416,
           -0.08017262722723162,
           -0.032657564269347995,
           0.019407660252202565,
           0.07306884206017318,
           0.12512633286074154,
           0.17230988766358785,
           0.21146505144444128,
           0.23974108638511749,
           0.25477004091850136,
           0.2548267267047997,
           0.23896010343988033,
           0.2070878465419809,
           0.16004763127913005,
           0.09960082298540655,
           0.02838670735216783,
           -0.050171999808914604,
           -0.132008995765264,
           -0.2125937105436689,
           -0.28714197491104243,
           -0.35084804028714445,
           -0.3991265770886398,
           -0.42785247459104203,
           -0.4335860886421158,
           -0.4137720534188708,
           -0.36690087535799776,
           -0.2926242127644853,
           -0.19181693290541052,
           -0.06658162124929747,
           0.07980593576993696,
           0.24300880867803662,
           0.4177941096414197,
           0.5982441516081277,
           0.7780040258931075,
           0.9505541014891831,
           1.1094945766040856,
           1.2488284837498442,
           1.3632295064019535,
           1.4482816142111579,
           1.500678835049543,
           1.518375390968938,
           1.500678835049543,
           1.4482816142111579,
           1.3632295064019535,
           1.2488284837498442,
           1.1094945766040856,
           0.9505541014891831,
           0.7780040258931075,
           0.5982441516081277,
           0.4177941096414197,
           0.24300880867803662,
           0.07980593576993696,
           -0.06658162124929747,
           -0.19181693290541052,
           -0.2926242127644853,
           -0.36690087535799776,
           -0.4137720534188708,
           -0.4335860886421158,
           -0.42785247459104203,
           -0.3991265770886398,
           -0.35084804028714445,
           -0.28714197491104243,
           -0.2125937105436689,
           -0.132008995765264,
           -0.050171999808914604,
           0.02838670735216783,
           0.09960082298540655,
           0.16004763127913005,
           0.2070878465419809,
           0.23896010343988033,
           0.2548267267047997,
           0.25477004091850136,
           0.23974108638511749,
           0.21146505144444128,
           0.17230988766358785,
           0.12512633286074154,
           0.07306884206017318,
           0.019407660252202565,
           -0.032657564269347995,
           -0.08017262722723162
          ],
          [
           -0.1254554756233313,
           -0.08634370978474622,
           -0.039868134180728126,
           0.011507919583092052,
           0.0649104168254659,
           0.11720338291232232,
           0.16515865057394133,
           0.20563779959612533,
           0.23577655069724138,
           0.2531614457800734,
           0.2559887694405144,
           0.2431963471432226,
           0.21456006847846779,
           0.17074867404778504,
           0.11333242903336226,
           0.044743679368913644,
           -0.03181017613329085,
           -0.11247819731414006,
           -0.1929363397545002,
           -0.268589046149572,
           -0.33479237619194996,
           -0.38708768931988075,
           -0.42143408131469146,
           -0.43442757176285574,
           -0.42349546556438716,
           -0.38705535500366767,
           -0.324629843053556,
           -0.23691017597600564,
           -0.1257644689695074,
           0.005811034304373925,
           0.1537963512162099,
           0.3133036361206578,
           0.47877771528316515,
           0.6442321103834694,
           0.803509484779075,
           0.9505541014891831,
           1.0796831610910465,
           1.1858438330909473,
           1.2648434125627805,
           1.3135412961886945,
           1.3299933154720727,
           1.3135412961886945,
           1.2648434125627805,
           1.1858438330909473,
           1.0796831610910465,
           0.9505541014891831,
           0.803509484779075,
           0.6442321103834694,
           0.47877771528316515,
           0.3133036361206578,
           0.1537963512162099,
           0.005811034304373925,
           -0.1257644689695074,
           -0.23691017597600564,
           -0.324629843053556,
           -0.38705535500366767,
           -0.42349546556438716,
           -0.43442757176285574,
           -0.42143408131469146,
           -0.38708768931988075,
           -0.33479237619194996,
           -0.268589046149572,
           -0.1929363397545002,
           -0.11247819731414006,
           -0.03181017613329085,
           0.044743679368913644,
           0.11333242903336226,
           0.17074867404778504,
           0.21456006847846779,
           0.2431963471432226,
           0.2559887694405144,
           0.2531614457800734,
           0.23577655069724138,
           0.20563779959612533,
           0.16515865057394133,
           0.11720338291232232,
           0.0649104168254659,
           0.011507919583092052,
           -0.039868134180728126,
           -0.08634370978474622
          ],
          [
           -0.13096468174943518,
           -0.09341816596346665,
           -0.04822085787410071,
           0.0022716100207446164,
           0.05528095770522729,
           0.10774865812501504,
           0.15649972810645998,
           0.19841943861188654,
           0.23063350923189954,
           0.2506818889186662,
           0.2566762997375786,
           0.24743234013685533,
           0.2225680860000738,
           0.18256273925541686,
           0.12877087581897034,
           0.06339013493636744,
           -0.010617349295218181,
           -0.08964697741323371,
           -0.1696119802323752,
           -0.24613461781837798,
           -0.31475910259630246,
           -0.37117570680030565,
           -0.41144469052055266,
           -0.43220845214435083,
           -0.4308806796227811,
           -0.40580225753498556,
           -0.35635521764627226,
           -0.28302803533990717,
           -0.187427969950852,
           -0.0722388011028484,
           0.05887491198907235,
           0.20141317105264114,
           0.35022902170777614,
           0.49975144871271493,
           0.6442321103834694,
           0.7780040258931075,
           0.8957396184216221,
           0.992695449836068,
           1.0649315658049785,
           1.1094945766040856,
           1.124555367855928,
           1.1094945766040856,
           1.0649315658049785,
           0.992695449836068,
           0.8957396184216221,
           0.7780040258931075,
           0.6442321103834694,
           0.49975144871271493,
           0.35022902170777614,
           0.20141317105264114,
           0.05887491198907235,
           -0.0722388011028484,
           -0.187427969950852,
           -0.28302803533990717,
           -0.35635521764627226,
           -0.40580225753498556,
           -0.4308806796227811,
           -0.43220845214435083,
           -0.41144469052055266,
           -0.37117570680030565,
           -0.31475910259630246,
           -0.24613461781837798,
           -0.1696119802323752,
           -0.08964697741323371,
           -0.010617349295218181,
           0.06339013493636744,
           0.12877087581897034,
           0.18256273925541686,
           0.2225680860000738,
           0.24743234013685533,
           0.2566762997375786,
           0.2506818889186662,
           0.23063350923189954,
           0.19841943861188654,
           0.15649972810645998,
           0.10774865812501504,
           0.05528095770522729,
           0.0022716100207446164,
           -0.04822085787410071,
           -0.09341816596346665
          ],
          [
           -0.13698176393514344,
           -0.10127808535368477,
           -0.05761803324395176,
           -0.00823327044894154,
           0.044209509361482956,
           0.09674378883254962,
           0.14626024334832619,
           0.18967745729212915,
           0.22411724822563847,
           0.24707500803079696,
           0.256575492104657,
           0.25130504004127213,
           0.23071227369415245,
           0.19507084218595108,
           0.14549969299473817,
           0.08393854575868848,
           0.013078615468659323,
           -0.06374895250625122,
           -0.1427221428215067,
           -0.21970771693043264,
           -0.29046275344788247,
           -0.35084804028714445,
           -0.3970424421347404,
           -0.42574709936268906,
           -0.43436863670247905,
           -0.421171462695804,
           -0.3853906832849483,
           -0.32729906443176787,
           -0.24822376277499153,
           -0.15051108239111077,
           -0.03744017720227128,
           0.08691073780520595,
           0.21783961811686398,
           0.35022902170777614,
           0.47877771528316515,
           0.5982441516081277,
           0.7036898157513979,
           0.7907103570985019,
           0.8556429685382863,
           0.8957396184216221,
           0.9092974268256817,
           0.8957396184216221,
           0.8556429685382863,
           0.7907103570985019,
           0.7036898157513979,
           0.5982441516081277,
           0.47877771528316515,
           0.35022902170777614,
           0.21783961811686398,
           0.08691073780520595,
           -0.03744017720227128,
           -0.15051108239111077,
           -0.24822376277499153,
           -0.32729906443176787,
           -0.3853906832849483,
           -0.421171462695804,
           -0.43436863670247905,
           -0.42574709936268906,
           -0.3970424421347404,
           -0.35084804028714445,
           -0.29046275344788247,
           -0.21970771693043264,
           -0.1427221428215067,
           -0.06374895250625122,
           0.013078615468659323,
           0.08393854575868848,
           0.14549969299473817,
           0.19507084218595108,
           0.23071227369415245,
           0.25130504004127213,
           0.256575492104657,
           0.24707500803079696,
           0.22411724822563847,
           0.18967745729212915,
           0.14626024334832619,
           0.09674378883254962,
           0.044209509361482956,
           -0.00823327044894154,
           -0.05761803324395176,
           -0.10127808535368477
          ],
          [
           -0.14335579129849668,
           -0.10978201113265723,
           -0.06793803188546253,
           -0.019915691575644292,
           0.031745840459068614,
           0.08418731130237875,
           0.13437885433763305,
           0.1792839709402817,
           0.21602931256266372,
           0.2420710146043941,
           0.255348298963932,
           0.25441554164532254,
           0.23854497801642713,
           0.20779364608280457,
           0.1630299764243758,
           0.10591753298818528,
           0.03885568116655977,
           -0.03512071345143313,
           -0.11247819731414006,
           -0.18935183535374994,
           -0.2617343483375656,
           -0.32567778292945404,
           -0.37749737145928347,
           -0.41396693622794944,
           -0.43249545715781157,
           -0.4312752446188071,
           -0.4093935036702951,
           -0.36690087535799776,
           -0.30483270332925,
           -0.22518118755916025,
           -0.13081912452072303,
           -0.025378460035175753,
           0.08691073780520595,
           0.20141317105264114,
           0.3133036361206578,
           0.4177941096414197,
           0.5103612401471838,
           0.5869627944413911,
           0.6442321103834694,
           0.6796406846183429,
           0.69162061945593,
           0.6796406846183429,
           0.6442321103834694,
           0.5869627944413911,
           0.5103612401471838,
           0.4177941096414197,
           0.3133036361206578,
           0.20141317105264114,
           0.08691073780520595,
           -0.025378460035175753,
           -0.13081912452072303,
           -0.22518118755916025,
           -0.30483270332925,
           -0.36690087535799776,
           -0.4093935036702951,
           -0.4312752446188071,
           -0.43249545715781157,
           -0.41396693622794944,
           -0.37749737145928347,
           -0.32567778292945404,
           -0.2617343483375656,
           -0.18935183535374994,
           -0.11247819731414006,
           -0.03512071345143313,
           0.03885568116655977,
           0.10591753298818528,
           0.1630299764243758,
           0.20779364608280457,
           0.23854497801642713,
           0.25441554164532254,
           0.255348298963932,
           0.2420710146043941,
           0.21602931256266372,
           0.1792839709402817,
           0.13437885433763305,
           0.08418731130237875,
           0.031745840459068614,
           -0.019915691575644292,
           -0.06793803188546253,
           -0.10978201113265723
          ],
          [
           -0.1499137997580331,
           -0.11876378051842666,
           -0.07903277128303789,
           -0.032657564269347995,
           0.017966041941118966,
           0.07010183827093616,
           0.12081441070397907,
           0.16712567793535366,
           0.2061784643801796,
           0.23539823538075702,
           0.25264402764959015,
           0.2563400102730029,
           0.2455799958764798,
           0.22019854657881394,
           0.18080401871815463,
           0.12877087581897034,
           0.0661907655654817,
           -0.004215913110515241,
           -0.0792240541655952,
           -0.15525760655490364,
           -0.22856545626592412,
           -0.29541051237375787,
           -0.35226222727992795,
           -0.39598244357893553,
           -0.42399466300627076,
           -0.43442757176285574,
           -0.42622489689420734,
           -0.39921534828629784,
           -0.3541384336243295,
           -0.2926242127644853,
           -0.21712746254366178,
           -0.13081912452072303,
           -0.03744017720227128,
           0.05887491198907235,
           0.1537963512162099,
           0.24300880867803662,
           0.32242214992953067,
           0.38837235101706136,
           0.43780226922078175,
           0.4684129583840573,
           0.47877771528316515,
           0.4684129583840573,
           0.43780226922078175,
           0.38837235101706136,
           0.32242214992953067,
           0.24300880867803662,
           0.1537963512162099,
           0.05887491198907235,
           -0.03744017720227128,
           -0.13081912452072303,
           -0.21712746254366178,
           -0.2926242127644853,
           -0.3541384336243295,
           -0.39921534828629784,
           -0.42622489689420734,
           -0.43442757176285574,
           -0.42399466300627076,
           -0.39598244357893553,
           -0.35226222727992795,
           -0.29541051237375787,
           -0.22856545626592412,
           -0.15525760655490364,
           -0.0792240541655952,
           -0.004215913110515241,
           0.0661907655654817,
           0.12877087581897034,
           0.18080401871815463,
           0.22019854657881394,
           0.2455799958764798,
           0.2563400102730029,
           0.25264402764959015,
           0.23539823538075702,
           0.2061784643801796,
           0.16712567793535366,
           0.12081441070397907,
           0.07010183827093616,
           0.017966041941118966,
           -0.032657564269347995,
           -0.07903277128303789,
           -0.11876378051842666
          ],
          [
           -0.15646143337355978,
           -0.12803192632998142,
           -0.0907256642328181,
           -0.046310064114579955,
           0.0029779491154211806,
           0.054541276561040686,
           0.10555493165712146,
           0.15311446345017118,
           0.1943926655354523,
           0.22679610352037188,
           0.24811283911536614,
           0.2566430509401283,
           0.25130504004127213,
           0.2317103248693539,
           0.1982031145119569,
           0.15186131748507978,
           0.09445829662141196,
           0.02838670735216783,
           -0.043452159632214875,
           -0.1177881852505473,
           -0.19114437378651342,
           -0.26001264723920775,
           -0.3210343185560354,
           -0.37117570680030565,
           -0.407889497747319,
           -0.42925310491460716,
           -0.434076417833265,
           -0.42197287899622543,
           -0.39338972722403176,
           -0.3495953826561967,
           -0.2926242127644853,
           -0.22518118755916025,
           -0.15051108239111077,
           -0.0722388011028484,
           0.005811034304373925,
           0.07980593576993696,
           0.14609889758077332,
           0.20141317105264114,
           0.24300880867803662,
           0.2688222513075441,
           0.277571630583514,
           0.2688222513075441,
           0.24300880867803662,
           0.20141317105264114,
           0.14609889758077332,
           0.07980593576993696,
           0.005811034304373925,
           -0.0722388011028484,
           -0.15051108239111077,
           -0.22518118755916025,
           -0.2926242127644853,
           -0.3495953826561967,
           -0.39338972722403176,
           -0.42197287899622543,
           -0.434076417833265,
           -0.42925310491460716,
           -0.407889497747319,
           -0.37117570680030565,
           -0.3210343185560354,
           -0.26001264723920775,
           -0.19114437378651342,
           -0.1177881852505473,
           -0.043452159632214875,
           0.02838670735216783,
           0.09445829662141196,
           0.15186131748507978,
           0.1982031145119569,
           0.2317103248693539,
           0.25130504004127213,
           0.2566430509401283,
           0.24811283911536614,
           0.22679610352037188,
           0.1943926655354523,
           0.15311446345017118,
           0.10555493165712146,
           0.054541276561040686,
           0.0029779491154211806,
           -0.046310064114579955,
           -0.0907256642328181,
           -0.12803192632998142
          ],
          [
           -0.16278435980926842,
           -0.13736985507049018,
           -0.10281030706494565,
           -0.060690608986011814,
           -0.013073952151520388,
           0.03759772656874239,
           0.08862652853638416,
           0.13719827990417027,
           0.18053174205108255,
           0.21602931256266372,
           0.24142096714711753,
           0.254893432701845,
           0.25519727019112654,
           0.24172565029557566,
           0.21456006847846779,
           0.17447999195279823,
           0.12293536517635703,
           0.06198291759831892,
           -0.005810793613848673,
           -0.07749482277960204,
           -0.14988136590815446,
           -0.21970771693043264,
           -0.2838041182964338,
           -0.3392585664190622,
           -0.3835697098652554,
           -0.4147795406040892,
           -0.43157859884674826,
           -0.4333778373354074,
           -0.4203430458705095,
           -0.39338972722403176,
           -0.3541384336243295,
           -0.30483270332925,
           -0.24822376277499153,
           -0.187427969950852,
           -0.1257644689695074,
           -0.06658162124929747,
           -0.0130814139378774,
           0.03184881503912622,
           0.0657883626364726,
           0.08691073780520595,
           0.0940800053732448,
           0.08691073780520595,
           0.0657883626364726,
           0.03184881503912622,
           -0.0130814139378774,
           -0.06658162124929747,
           -0.1257644689695074,
           -0.187427969950852,
           -0.24822376277499153,
           -0.30483270332925,
           -0.3541384336243295,
           -0.39338972722403176,
           -0.4203430458705095,
           -0.4333778373354074,
           -0.43157859884674826,
           -0.4147795406040892,
           -0.3835697098652554,
           -0.3392585664190622,
           -0.2838041182964338,
           -0.21970771693043264,
           -0.14988136590815446,
           -0.07749482277960204,
           -0.005810793613848673,
           0.06198291759831892,
           0.12293536517635703,
           0.17447999195279823,
           0.21456006847846779,
           0.24172565029557566,
           0.25519727019112654,
           0.254893432701845,
           0.24142096714711753,
           0.21602931256266372,
           0.18053174205108255,
           0.13719827990417027,
           0.08862652853638416,
           0.03759772656874239,
           -0.013073952151520388,
           -0.060690608986011814,
           -0.10281030706494565,
           -0.13736985507049018
          ],
          [
           -0.16865061331126227,
           -0.14653700801271363,
           -0.11505016730310495,
           -0.07558080422426758,
           -0.030004497243790427,
           0.019407660252202565,
           0.07010183827093616,
           0.11937185506223688,
           0.16450028494360933,
           0.20290271423033404,
           0.23226729318028777,
           0.2506818889186662,
           0.2567417315441088,
           0.24963143467045815,
           0.22917661128094333,
           0.19586192453391038,
           0.15081422331281308,
           0.0957513146109,
           0.032898814044057145,
           -0.03512071345143313,
           -0.10542055787501849,
           -0.17499760171649797,
           -0.24088710992360066,
           -0.3003162506586467,
           -0.35084804028714445,
           -0.3905078789395116,
           -0.417885750201407,
           -0.43220845214435083,
           -0.4333778373354074,
           -0.42197287899622543,
           -0.39921534828629784,
           -0.36690087535799776,
           -0.32729906443176787,
           -0.28302803533990717,
           -0.23691017597600564,
           -0.19181693290541052,
           -0.15051108239111077,
           -0.11549507625799743,
           -0.08887373699192957,
           -0.0722388011028484,
           -0.06658162124929747,
           -0.0722388011028484,
           -0.08887373699192957,
           -0.11549507625799743,
           -0.15051108239111077,
           -0.19181693290541052,
           -0.23691017597600564,
           -0.28302803533990717,
           -0.32729906443176787,
           -0.36690087535799776,
           -0.39921534828629784,
           -0.42197287899622543,
           -0.4333778373354074,
           -0.43220845214435083,
           -0.417885750201407,
           -0.3905078789395116,
           -0.35084804028714445,
           -0.3003162506586467,
           -0.24088710992360066,
           -0.17499760171649797,
           -0.10542055787501849,
           -0.03512071345143313,
           0.032898814044057145,
           0.0957513146109,
           0.15081422331281308,
           0.19586192453391038,
           0.22917661128094333,
           0.24963143467045815,
           0.2567417315441088,
           0.2506818889186662,
           0.23226729318028777,
           0.20290271423033404,
           0.16450028494360933,
           0.11937185506223688,
           0.07010183827093616,
           0.019407660252202565,
           -0.030004497243790427,
           -0.07558080422426758,
           -0.11505016730310495,
           -0.14653700801271363
          ],
          [
           -0.1738139924448547,
           -0.15527119023634722,
           -0.1271795169340972,
           -0.0907256642328181,
           -0.04758506314163741,
           0.0001569493213448689,
           0.05010748884225075,
           0.09968670899986165,
           0.14626024334832619,
           0.18727640924644018,
           0.22040074178662336,
           0.24364050109720906,
           0.2554522819126627,
           0.2548267267047997,
           0.2413455569066888,
           0.2152076253393881,
           0.17722237538812438,
           0.12877087581897034,
           0.07173638515428266,
           0.00840808631479302,
           -0.05863687417657578,
           -0.12666669235949252,
           -0.1929363397545002,
           -0.254829433326894,
           -0.309992807249447,
           -0.3564564355250057,
           -0.39273214882544505,
           -0.417885750201407,
           -0.43157859884674826,
           -0.434076417833265,
           -0.42622489689420734,
           -0.4093935036702951,
           -0.3853906832849483,
           -0.35635521764627226,
           -0.324629843053556,
           -0.2926242127644853,
           -0.2626748843273063,
           -0.23691017597600564,
           -0.21712746254366178,
           -0.20468978410715197,
           -0.20044755867978276,
           -0.20468978410715197,
           -0.21712746254366178,
           -0.23691017597600564,
           -0.2626748843273063,
           -0.2926242127644853,
           -0.324629843053556,
           -0.35635521764627226,
           -0.3853906832849483,
           -0.4093935036702951,
           -0.42622489689420734,
           -0.434076417833265,
           -0.43157859884674826,
           -0.417885750201407,
           -0.39273214882544505,
           -0.3564564355250057,
           -0.309992807249447,
           -0.254829433326894,
           -0.1929363397545002,
           -0.12666669235949252,
           -0.05863687417657578,
           0.00840808631479302,
           0.07173638515428266,
           0.12877087581897034,
           0.17722237538812438,
           0.2152076253393881,
           0.2413455569066888,
           0.2548267267047997,
           0.2554522819126627,
           0.24364050109720906,
           0.22040074178662336,
           0.18727640924644018,
           0.14626024334832619,
           0.09968670899986165,
           0.05010748884225075,
           0.0001569493213448689,
           -0.04758506314163741,
           -0.0907256642328181,
           -0.1271795169340972,
           -0.15527119023634722
          ],
          [
           -0.17801860199902664,
           -0.16329221750830802,
           -0.13890582780165694,
           -0.10583439818051152,
           -0.06554239869174844,
           -0.019915691575644292,
           0.02883009042098063,
           0.07825990831739421,
           0.1258425822940911,
           0.16908036038891633,
           0.20563779959612533,
           0.23346296309158113,
           0.2508943222213973,
           0.25674750760048576,
           0.25037713957121355,
           0.2317103248693539,
           0.20124995852555586,
           0.16004763127913005,
           0.1096476200446325,
           0.05200503792795912,
           -0.010617349295218181,
           -0.0757679524450742,
           -0.1409342819269669,
           -0.2036729142303004,
           -0.2617343483375656,
           -0.31317589634427284,
           -0.3564564355250057,
           -0.3905078789395116,
           -0.4147795406040892,
           -0.42925310491460716,
           -0.43442757176285574,
           -0.4312752446188071,
           -0.421171462695804,
           -0.40580225753498556,
           -0.38705535500366767,
           -0.36690087535799776,
           -0.3472686537517362,
           -0.32992927901128904,
           -0.3163857196862348,
           -0.3077817863653888,
           -0.30483270332925,
           -0.3077817863653888,
           -0.3163857196862348,
           -0.32992927901128904,
           -0.3472686537517362,
           -0.36690087535799776,
           -0.38705535500366767,
           -0.40580225753498556,
           -0.421171462695804,
           -0.4312752446188071,
           -0.43442757176285574,
           -0.42925310491460716,
           -0.4147795406040892,
           -0.3905078789395116,
           -0.3564564355250057,
           -0.31317589634427284,
           -0.2617343483375656,
           -0.2036729142303004,
           -0.1409342819269669,
           -0.0757679524450742,
           -0.010617349295218181,
           0.05200503792795912,
           0.1096476200446325,
           0.16004763127913005,
           0.20124995852555586,
           0.2317103248693539,
           0.25037713957121355,
           0.25674750760048576,
           0.2508943222213973,
           0.23346296309158113,
           0.20563779959612533,
           0.16908036038891633,
           0.1258425822940911,
           0.07825990831739421,
           0.02883009042098063,
           -0.019915691575644292,
           -0.06554239869174844,
           -0.10583439818051152,
           -0.13890582780165694,
           -0.16329221750830802
          ],
          [
           -0.18100457917857166,
           -0.17030698199702413,
           -0.1499137997580331,
           -0.12058300781296416,
           -0.08355939645450051,
           -0.040517266401149735,
           0.0065202421682302655,
           0.05528095770522729,
           0.10335731863015635,
           0.14832776112580212,
           0.18787932061729182,
           0.21992483146863692,
           0.242708395806646,
           0.254893432701845,
           0.25562857790064414,
           0.24458792842044305,
           0.22198354690007724,
           0.18854967763954522,
           0.14549969299473817,
           0.09445829662141196,
           0.037372873633869375,
           -0.02359098016854476,
           -0.08616386191642225,
           -0.14809048863531396,
           -0.20724458052139974,
           -0.2617343483375656,
           -0.309992807249447,
           -0.35084804028714445,
           -0.3835697098652554,
           -0.407889497747319,
           -0.42399466300627076,
           -0.43249545715781157,
           -0.43436863670247905,
           -0.4308806796227811,
           -0.42349546556438716,
           -0.4137720534188708,
           -0.40325873487122593,
           -0.39338972722403176,
           -0.3853906832849483,
           -0.3801986514917913,
           -0.3784012476539641,
           -0.3801986514917913,
           -0.3853906832849483,
           -0.39338972722403176,
           -0.40325873487122593,
           -0.4137720534188708,
           -0.42349546556438716,
           -0.4308806796227811,
           -0.43436863670247905,
           -0.43249545715781157,
           -0.42399466300627076,
           -0.407889497747319,
           -0.3835697098652554,
           -0.35084804028714445,
           -0.309992807249447,
           -0.2617343483375656,
           -0.20724458052139974,
           -0.14809048863531396,
           -0.08616386191642225,
           -0.02359098016854476,
           0.037372873633869375,
           0.09445829662141196,
           0.14549969299473817,
           0.18854967763954522,
           0.22198354690007724,
           0.24458792842044305,
           0.25562857790064414,
           0.254893432701845,
           0.242708395806646,
           0.21992483146863692,
           0.18787932061729182,
           0.14832776112580212,
           0.10335731863015635,
           0.05528095770522729,
           0.0065202421682302655,
           -0.040517266401149735,
           -0.08355939645450051,
           -0.12058300781296416,
           -0.1499137997580331,
           -0.17030698199702413
          ],
          [
           -0.18251498442862385,
           -0.1760159755489718,
           -0.15987112992755653,
           -0.13461888616197776,
           -0.10127808535368477,
           -0.061301442485772274,
           -0.016505930263581485,
           0.031016232090896562,
           0.07900122348247962,
           0.12512633286074154,
           0.16712567793535366,
           0.20290271423033404,
           0.23063350923189954,
           0.24885528388828942,
           0.25653555744366946,
           0.25311832399967577,
           0.23854497801642713,
           0.21324911772700825,
           0.17812580971586786,
           0.134477311926808,
           0.08393854575868848,
           0.02838670735216783,
           -0.030159748399708135,
           -0.08964697741323371,
           -0.14809048863531396,
           -0.2036729142303004,
           -0.254829433326894,
           -0.3003162506586467,
           -0.3392585664190622,
           -0.37117570680030565,
           -0.39598244357893553,
           -0.41396693622794944,
           -0.42574709936268906,
           -0.43220845214435083,
           -0.43442757176285574,
           -0.4335860886421158,
           -0.4308806796227811,
           -0.4274347075936389,
           -0.42421701152445723,
           -0.42197287899622543,
           -0.421171462695804,
           -0.42197287899622543,
           -0.42421701152445723,
           -0.4274347075936389,
           -0.4308806796227811,
           -0.4335860886421158,
           -0.43442757176285574,
           -0.43220845214435083,
           -0.42574709936268906,
           -0.41396693622794944,
           -0.39598244357893553,
           -0.37117570680030565,
           -0.3392585664190622,
           -0.3003162506586467,
           -0.254829433326894,
           -0.2036729142303004,
           -0.14809048863531396,
           -0.08964697741323371,
           -0.030159748399708135,
           0.02838670735216783,
           0.08393854575868848,
           0.134477311926808,
           0.17812580971586786,
           0.21324911772700825,
           0.23854497801642713,
           0.25311832399967577,
           0.25653555744366946,
           0.24885528388828942,
           0.23063350923189954,
           0.20290271423033404,
           0.16712567793535366,
           0.12512633286074154,
           0.07900122348247962,
           0.031016232090896562,
           -0.016505930263581485,
           -0.061301442485772274,
           -0.10127808535368477,
           -0.13461888616197776,
           -0.15987112992755653,
           -0.1760159755489718
          ],
          [
           -0.18230376872794093,
           -0.18012123502583363,
           -0.16843605361995675,
           -0.14756752732225356,
           -0.11830504740258321,
           -0.08187218787401292,
           -0.039868134180728126,
           0.0058103924762656495,
           0.05306249567952219,
           0.09968670899986165,
           0.14348926836260514,
           0.18239124981424537,
           0.2145288714461612,
           0.2383416766936446,
           0.25264402764959015,
           0.2566762997375786,
           0.25013332713993036,
           0.23316893482082693,
           0.2063767337439853,
           0.17074867404778504,
           0.12761407121954643,
           0.07856287339249271,
           0.02535776443828009,
           -0.030159748399708135,
           -0.08616386191642225,
           -0.1409342819269669,
           -0.1929363397545002,
           -0.24088710992360066,
           -0.2838041182964338,
           -0.3210343185560354,
           -0.35226222727992795,
           -0.37749737145928347,
           -0.3970424421347404,
           -0.41144469052055266,
           -0.42143408131469146,
           -0.42785247459104203,
           -0.43157859884674826,
           -0.4334537754581445,
           -0.434213248547002,
           -0.43442757176285574,
           -0.43445783007337646,
           -0.43442757176285574,
           -0.434213248547002,
           -0.4334537754581445,
           -0.43157859884674826,
           -0.42785247459104203,
           -0.42143408131469146,
           -0.41144469052055266,
           -0.3970424421347404,
           -0.37749737145928347,
           -0.35226222727992795,
           -0.3210343185560354,
           -0.2838041182964338,
           -0.24088710992360066,
           -0.1929363397545002,
           -0.1409342819269669,
           -0.08616386191642225,
           -0.030159748399708135,
           0.02535776443828009,
           0.07856287339249271,
           0.12761407121954643,
           0.17074867404778504,
           0.2063767337439853,
           0.23316893482082693,
           0.25013332713993036,
           0.2566762997375786,
           0.25264402764959015,
           0.2383416766936446,
           0.2145288714461612,
           0.18239124981424537,
           0.14348926836260514,
           0.09968670899986165,
           0.05306249567952219,
           0.0058103924762656495,
           -0.039868134180728126,
           -0.08187218787401292,
           -0.11830504740258321,
           -0.14756752732225356,
           -0.16843605361995675,
           -0.18012123502583363
          ],
          [
           -0.1801446545297837,
           -0.18233559039097344,
           -0.1752665961050691,
           -0.15904136091487175,
           -0.13421936300715656,
           -0.10179031338845618,
           -0.0631265026963309,
           -0.019915691575644292,
           0.025921773001301992,
           0.07232710218505171,
           0.11720338291232232,
           0.15851669454452746,
           0.1943926655354523,
           0.2232034254780841,
           0.24364050109720906,
           0.25477004091850136,
           0.2560677827399544,
           0.24743234013685533,
           0.22917661128094333,
           0.20199833430642128,
           0.16693195814109418,
           0.12528500092613942,
           0.07856287339249271,
           0.02838670735216783,
           -0.02359098016854476,
           -0.0757679524450742,
           -0.12666669235949252,
           -0.17499760171649797,
           -0.21970771693043264,
           -0.26001264723920775,
           -0.29541051237375787,
           -0.32567778292945404,
           -0.35084804028714445,
           -0.37117570680030565,
           -0.38708768931988075,
           -0.3991265770886398,
           -0.407889497747319,
           -0.41396693622794944,
           -0.417885750201407,
           -0.4200602785751461,
           -0.4207548585159486,
           -0.4200602785751461,
           -0.417885750201407,
           -0.41396693622794944,
           -0.407889497747319,
           -0.3991265770886398,
           -0.38708768931988075,
           -0.37117570680030565,
           -0.35084804028714445,
           -0.32567778292945404,
           -0.29541051237375787,
           -0.26001264723920775,
           -0.21970771693043264,
           -0.17499760171649797,
           -0.12666669235949252,
           -0.0757679524450742,
           -0.02359098016854476,
           0.02838670735216783,
           0.07856287339249271,
           0.12528500092613942,
           0.16693195814109418,
           0.20199833430642128,
           0.22917661128094333,
           0.24743234013685533,
           0.2560677827399544,
           0.25477004091850136,
           0.24364050109720906,
           0.2232034254780841,
           0.1943926655354523,
           0.15851669454452746,
           0.11720338291232232,
           0.07232710218505171,
           0.025921773001301992,
           -0.019915691575644292,
           -0.0631265026963309,
           -0.10179031338845618,
           -0.13421936300715656,
           -0.15904136091487175,
           -0.1752665961050691,
           -0.18233559039097344
          ],
          [
           -0.17584069010379264,
           -0.18239300622958532,
           -0.1800313728705813,
           -0.16865061331126227,
           -0.14858307017251748,
           -0.12058300781296416,
           -0.0857896329957062,
           -0.045670869380806056,
           -0.001951040868825416,
           0.043473546354522816,
           0.08862652853638416,
           0.13154597877649798,
           0.17037647050011584,
           0.20345392533496165,
           0.22937894091767205,
           0.24707500803079696,
           0.25582893038458626,
           0.2553118000893658,
           0.2455799958764798,
           0.2270567942100705,
           0.20049625055173417,
           0.16693195814109418,
           0.12761407121954643,
           0.08393854575868848,
           0.037372873633869375,
           -0.010617349295218181,
           -0.05863687417657578,
           -0.10542055787501849,
           -0.14988136590815446,
           -0.19114437378651342,
           -0.22856545626592412,
           -0.2617343483375656,
           -0.29046275344788247,
           -0.31475910259630246,
           -0.33479237619194996,
           -0.35084804028714445,
           -0.3632795822101567,
           -0.37245933283868765,
           -0.3787322233669178,
           -0.382375848005458,
           -0.3835697098652554,
           -0.382375848005458,
           -0.3787322233669178,
           -0.37245933283868765,
           -0.3632795822101567,
           -0.35084804028714445,
           -0.33479237619194996,
           -0.31475910259630246,
           -0.29046275344788247,
           -0.2617343483375656,
           -0.22856545626592412,
           -0.19114437378651342,
           -0.14988136590815446,
           -0.10542055787501849,
           -0.05863687417657578,
           -0.010617349295218181,
           0.037372873633869375,
           0.08393854575868848,
           0.12761407121954643,
           0.16693195814109418,
           0.20049625055173417,
           0.2270567942100705,
           0.2455799958764798,
           0.2553118000893658,
           0.25582893038458626,
           0.24707500803079696,
           0.22937894091767205,
           0.20345392533496165,
           0.17037647050011584,
           0.13154597877649798,
           0.08862652853638416,
           0.043473546354522816,
           -0.001951040868825416,
           -0.045670869380806056,
           -0.0857896329957062,
           -0.12058300781296416,
           -0.14858307017251748,
           -0.16865061331126227,
           -0.1800313728705813,
           -0.18239300622958532
          ],
          [
           -0.16923416092386775,
           -0.1800597155006458,
           -0.18242166855756492,
           -0.1760159755489718,
           -0.1609539875623888,
           -0.1377563081818195,
           -0.10732612754693129,
           -0.07090368426500879,
           -0.030004497243790427,
           0.013655158230898757,
           0.058241427706856384,
           0.1018902143955224,
           0.14279404657238684,
           0.1792839709402817,
           0.20990234059772522,
           0.23346296309158113,
           0.24909585663212155,
           0.2562747828163765,
           0.2548267267047997,
           0.24492352037505036,
           0.2270567942100705,
           0.20199833430642128,
           0.17074867404778504,
           0.134477311926808,
           0.09445829662141196,
           0.05200503792795912,
           0.00840808631479302,
           -0.03512071345143313,
           -0.07749482277960204,
           -0.1177881852505473,
           -0.15525760655490364,
           -0.18935183535374994,
           -0.21970771693043264,
           -0.24613461781837798,
           -0.268589046149572,
           -0.28714197491104243,
           -0.30194177876754097,
           -0.31317589634427284,
           -0.3210343185560354,
           -0.32567778292945404,
           -0.32721314035298743,
           -0.32567778292945404,
           -0.3210343185560354,
           -0.31317589634427284,
           -0.30194177876754097,
           -0.28714197491104243,
           -0.268589046149572,
           -0.24613461781837798,
           -0.21970771693043264,
           -0.18935183535374994,
           -0.15525760655490364,
           -0.1177881852505473,
           -0.07749482277960204,
           -0.03512071345143313,
           0.00840808631479302,
           0.05200503792795912,
           0.09445829662141196,
           0.134477311926808,
           0.17074867404778504,
           0.20199833430642128,
           0.2270567942100705,
           0.24492352037505036,
           0.2548267267047997,
           0.2562747828163765,
           0.24909585663212155,
           0.23346296309158113,
           0.20990234059772522,
           0.1792839709402817,
           0.14279404657238684,
           0.1018902143955224,
           0.058241427706856384,
           0.013655158230898757,
           -0.030004497243790427,
           -0.07090368426500879,
           -0.10732612754693129,
           -0.1377563081818195,
           -0.1609539875623888,
           -0.1760159755489718,
           -0.18242166855756492,
           -0.1800597155006458
          ],
          [
           -0.16021647158282734,
           -0.1751457556394694,
           -0.1821644169794075,
           -0.18078273088932142,
           -0.17090060569317098,
           -0.1528102839666787,
           -0.1271795169340972,
           -0.0950164022704569,
           -0.05761803324395176,
           -0.016505930263581485,
           0.026648129724923395,
           0.07010183827093616,
           0.11212338767979044,
           0.15106960365711752,
           0.18545724476618586,
           0.21402402107025095,
           0.23577655069724138,
           0.25002327766855664,
           0.25639126767027576,
           0.2548267267047997,
           0.2455799958764798,
           0.22917661128094333,
           0.2063767337439853,
           0.17812580971586786,
           0.14549969299473817,
           0.1096476200446325,
           0.07173638515428266,
           0.032898814044057145,
           -0.005810793613848673,
           -0.043452159632214875,
           -0.0792240541655952,
           -0.11247819731414006,
           -0.1427221428215067,
           -0.1696119802323752,
           -0.1929363397545002,
           -0.2125937105436689,
           -0.22856545626592412,
           -0.24088710992360066,
           -0.24962054293732017,
           -0.254829433326894,
           -0.2565601183892334,
           -0.254829433326894,
           -0.24962054293732017,
           -0.24088710992360066,
           -0.22856545626592412,
           -0.2125937105436689,
           -0.1929363397545002,
           -0.1696119802323752,
           -0.1427221428215067,
           -0.11247819731414006,
           -0.0792240541655952,
           -0.043452159632214875,
           -0.005810793613848673,
           0.032898814044057145,
           0.07173638515428266,
           0.1096476200446325,
           0.14549969299473817,
           0.17812580971586786,
           0.2063767337439853,
           0.22917661128094333,
           0.2455799958764798,
           0.2548267267047997,
           0.25639126767027576,
           0.25002327766855664,
           0.23577655069724138,
           0.21402402107025095,
           0.18545724476618586,
           0.15106960365711752,
           0.11212338767979044,
           0.07010183827093616,
           0.026648129724923395,
           -0.016505930263581485,
           -0.05761803324395176,
           -0.0950164022704569,
           -0.1271795169340972,
           -0.1528102839666787,
           -0.17090060569317098,
           -0.18078273088932142,
           -0.1821644169794075,
           -0.1751457556394694
          ],
          [
           -0.1487375524385824,
           -0.16751643729146143,
           -0.17903560277058095,
           -0.1826358700412797,
           -0.17801860199902664,
           -0.16525654180237792,
           -0.14478624788034108,
           -0.11738288358628372,
           -0.08411903827788304,
           -0.046310064114579955,
           -0.005449066140771361,
           0.03686485131708162,
           0.07900122348247962,
           0.11937185506223688,
           0.15649972810645998,
           0.1890798565922851,
           0.21602931256266372,
           0.2365243422174828,
           0.25002327766855664,
           0.2562747828163765,
           0.2553118000893658,
           0.24743234013685533,
           0.23316893482082693,
           0.21324911772700825,
           0.18854967763954522,
           0.16004763127913005,
           0.12877087581897034,
           0.0957513146109,
           0.06198291759831892,
           0.02838670735216783,
           -0.004215913110515241,
           -0.03512071345143313,
           -0.06374895250625122,
           -0.08964697741323371,
           -0.11247819731414006,
           -0.132008995765264,
           -0.14809048863531396,
           -0.16063822727306362,
           -0.1696119802323752,
           -0.17499760171649797,
           -0.17679272260843765,
           -0.17499760171649797,
           -0.1696119802323752,
           -0.16063822727306362,
           -0.14809048863531396,
           -0.132008995765264,
           -0.11247819731414006,
           -0.08964697741323371,
           -0.06374895250625122,
           -0.03512071345143313,
           -0.004215913110515241,
           0.02838670735216783,
           0.06198291759831892,
           0.0957513146109,
           0.12877087581897034,
           0.16004763127913005,
           0.18854967763954522,
           0.21324911772700825,
           0.23316893482082693,
           0.24743234013685533,
           0.2553118000893658,
           0.2562747828163765,
           0.25002327766855664,
           0.2365243422174828,
           0.21602931256266372,
           0.1890798565922851,
           0.15649972810645998,
           0.11937185506223688,
           0.07900122348247962,
           0.03686485131708162,
           -0.005449066140771361,
           -0.046310064114579955,
           -0.08411903827788304,
           -0.11738288358628372,
           -0.14478624788034108,
           -0.16525654180237792,
           -0.17801860199902664,
           -0.1826358700412797,
           -0.17903560277058095,
           -0.16751643729146143
          ],
          [
           -0.13481430178982187,
           -0.15710321083861073,
           -0.17287351607260817,
           -0.18131560690315682,
           -0.18194839266053625,
           -0.17463748569481502,
           -0.15959621882048483,
           -0.13736985507049018,
           -0.10880422217787396,
           -0.0750007897964791,
           -0.03726086233570953,
           0.0029779491154211806,
           0.044209509361482956,
           0.08492762656935865,
           0.12369173187889267,
           0.15918658398472915,
           0.1902732638436695,
           0.21602931256266372,
           0.23577655069724138,
           0.24909585663212155,
           0.25582893038458626,
           0.2560677827399544,
           0.25013332713993036,
           0.23854497801642713,
           0.22198354690007724,
           0.20124995852555586,
           0.17722237538812438,
           0.15081422331281308,
           0.12293536517635703,
           0.09445829662141196,
           0.0661907655654817,
           0.03885568116655977,
           0.013078615468659323,
           -0.010617349295218181,
           -0.03181017613329085,
           -0.050171999808914604,
           -0.06545830501430487,
           -0.07749482277960204,
           -0.08616386191642225,
           -0.09139170665445415,
           -0.09313849939964196,
           -0.09139170665445415,
           -0.08616386191642225,
           -0.07749482277960204,
           -0.06545830501430487,
           -0.050171999808914604,
           -0.03181017613329085,
           -0.010617349295218181,
           0.013078615468659323,
           0.03885568116655977,
           0.0661907655654817,
           0.09445829662141196,
           0.12293536517635703,
           0.15081422331281308,
           0.17722237538812438,
           0.20124995852555586,
           0.22198354690007724,
           0.23854497801642713,
           0.25013332713993036,
           0.2560677827399544,
           0.25582893038458626,
           0.24909585663212155,
           0.23577655069724138,
           0.21602931256266372,
           0.1902732638436695,
           0.15918658398472915,
           0.12369173187889267,
           0.08492762656935865,
           0.044209509361482956,
           0.0029779491154211806,
           -0.03726086233570953,
           -0.0750007897964791,
           -0.10880422217787396,
           -0.13736985507049018,
           -0.15959621882048483,
           -0.17463748569481502,
           -0.18194839266053625,
           -0.18131560690315682,
           -0.17287351607260817,
           -0.15710321083861073
          ],
          [
           -0.11853755153953284,
           -0.14391335124448024,
           -0.163591222139663,
           -0.17663261032673944,
           -0.18239300622958532,
           -0.18054660691367944,
           -0.17109514979541934,
           -0.1543609103022869,
           -0.13096468174943518,
           -0.10179031338845618,
           -0.06793803188546253,
           -0.03066927919323432,
           0.008653858363151095,
           0.04863139306208121,
           0.0878871354792479,
           0.12512633286074154,
           0.15918658398472915,
           0.1890798565922851,
           0.21402402107025095,
           0.23346296309158113,
           0.24707500803079696,
           0.25477004091850136,
           0.2566762997375786,
           0.25311832399967577,
           0.24458792842044305,
           0.2317103248693539,
           0.2152076253393881,
           0.19586192453391038,
           0.17447999195279823,
           0.15186131748507978,
           0.12877087581897034,
           0.10591753298818528,
           0.08393854575868848,
           0.06339013493636744,
           0.044743679368913644,
           0.02838670735216783,
           0.014627580006334946,
           0.0037025838949493145,
           -0.004215913110515241,
           -0.009011537058698997,
           -0.010617349295218181,
           -0.009011537058698997,
           -0.004215913110515241,
           0.0037025838949493145,
           0.014627580006334946,
           0.02838670735216783,
           0.044743679368913644,
           0.06339013493636744,
           0.08393854575868848,
           0.10591753298818528,
           0.12877087581897034,
           0.15186131748507978,
           0.17447999195279823,
           0.19586192453391038,
           0.2152076253393881,
           0.2317103248693539,
           0.24458792842044305,
           0.25311832399967577,
           0.2566762997375786,
           0.25477004091850136,
           0.24707500803079696,
           0.23346296309158113,
           0.21402402107025095,
           0.1890798565922851,
           0.15918658398472915,
           0.12512633286074154,
           0.0878871354792479,
           0.04863139306208121,
           0.008653858363151095,
           -0.03066927919323432,
           -0.06793803188546253,
           -0.10179031338845618,
           -0.13096468174943518,
           -0.1543609103022869,
           -0.17109514979541934,
           -0.18054660691367944,
           -0.18239300622958532,
           -0.17663261032673944,
           -0.163591222139663,
           -0.14391335124448024
          ],
          [
           -0.10007704610444179,
           -0.12803786284735597,
           -0.1511875643863488,
           -0.16848219583369567,
           -0.17913546063850083,
           -0.18264893898060253,
           -0.1788278960809016,
           -0.16778234479339135,
           -0.1499137997580331,
           -0.1258888846262905,
           -0.09660159075517502,
           -0.0631265026963309,
           -0.026665677985416577,
           0.011507919583092052,
           0.05010748884225075,
           0.0878871354792479,
           0.12369173187889267,
           0.15649972810645998,
           0.18545724476618586,
           0.20990234059772522,
           0.22937894091767205,
           0.24364050109720906,
           0.25264402764959015,
           0.25653555744366946,
           0.25562857790064414,
           0.25037713957121355,
           0.2413455569066888,
           0.22917661128094333,
           0.21456006847846779,
           0.1982031145119569,
           0.18080401871815463,
           0.1630299764243758,
           0.14549969299473817,
           0.12877087581897034,
           0.11333242903336226,
           0.09960082298540655,
           0.08791985781076668,
           0.07856287339249271,
           0.07173638515428266,
           0.06758414818694233,
           0.0661907655654817,
           0.06758414818694233,
           0.07173638515428266,
           0.07856287339249271,
           0.08791985781076668,
           0.09960082298540655,
           0.11333242903336226,
           0.12877087581897034,
           0.14549969299473817,
           0.1630299764243758,
           0.18080401871815463,
           0.1982031145119569,
           0.21456006847846779,
           0.22917661128094333,
           0.2413455569066888,
           0.25037713957121355,
           0.25562857790064414,
           0.25653555744366946,
           0.25264402764959015,
           0.24364050109720906,
           0.22937894091767205,
           0.20990234059772522,
           0.18545724476618586,
           0.15649972810645998,
           0.12369173187889267,
           0.0878871354792479,
           0.05010748884225075,
           0.011507919583092052,
           -0.026665677985416577,
           -0.0631265026963309,
           -0.09660159075517502,
           -0.1258888846262905,
           -0.1499137997580331,
           -0.16778234479339135,
           -0.1788278960809016,
           -0.18264893898060253,
           -0.17913546063850083,
           -0.16848219583369567,
           -0.1511875643863488,
           -0.12803786284735597
          ],
          [
           -0.07968395387291566,
           -0.10965701691843574,
           -0.13575600794040762,
           -0.15685668268767797,
           -0.17205475511311313,
           -0.1807007071005138,
           -0.18242166855756492,
           -0.17712974307464055,
           -0.16501687105976595,
           -0.14653700801271363,
           -0.12237701362727325,
           -0.09341816596346665,
           -0.060690608986011814,
           -0.02532329427921568,
           0.011507919583092052,
           0.04863139306208121,
           0.08492762656935865,
           0.11937185506223688,
           0.15106960365711752,
           0.1792839709402817,
           0.20345392533496165,
           0.2232034254780841,
           0.2383416766936446,
           0.24885528388828942,
           0.254893432701845,
           0.25674750760048576,
           0.2548267267047997,
           0.24963143467045815,
           0.24172565029557566,
           0.2317103248693539,
           0.22019854657881394,
           0.20779364608280457,
           0.19507084218595108,
           0.18256273925541686,
           0.17074867404778504,
           0.16004763127913005,
           0.15081422331281308,
           0.1433370736825879,
           0.13783886506830845,
           0.134477311926808,
           0.1333463922312941,
           0.134477311926808,
           0.13783886506830845,
           0.1433370736825879,
           0.15081422331281308,
           0.16004763127913005,
           0.17074867404778504,
           0.18256273925541686,
           0.19507084218595108,
           0.20779364608280457,
           0.22019854657881394,
           0.2317103248693539,
           0.24172565029557566,
           0.24963143467045815,
           0.2548267267047997,
           0.25674750760048576,
           0.254893432701845,
           0.24885528388828942,
           0.2383416766936446,
           0.2232034254780841,
           0.20345392533496165,
           0.1792839709402817,
           0.15106960365711752,
           0.11937185506223688,
           0.08492762656935865,
           0.04863139306208121,
           0.011507919583092052,
           -0.02532329427921568,
           -0.060690608986011814,
           -0.09341816596346665,
           -0.12237701362727325,
           -0.14653700801271363,
           -0.16501687105976595,
           -0.17712974307464055,
           -0.18242166855756492,
           -0.1807007071005138,
           -0.17205475511311313,
           -0.15685668268767797,
           -0.13575600794040762,
           -0.10965701691843574
          ],
          [
           -0.05769048962428924,
           -0.08904297911487404,
           -0.11749065565570795,
           -0.14185512230149663,
           -0.16113955966514656,
           -0.17456713788189782,
           -0.18160802037610754,
           -0.18199408570471504,
           -0.17572115154133375,
           -0.16303912773542587,
           -0.14443111863131364,
           -0.12058300781296416,
           -0.09234546620178369,
           -0.060690608986011814,
           -0.026665677985416577,
           0.008653858363151095,
           0.044209509361482956,
           0.07900122348247962,
           0.11212338767979044,
           0.14279404657238684,
           0.17037647050011584,
           0.1943926655354523,
           0.2145288714461612,
           0.23063350923189954,
           0.242708395806646,
           0.2508943222213973,
           0.2554522819126627,
           0.2567417315441088,
           0.25519727019112654,
           0.25130504004127213,
           0.2455799958764798,
           0.23854497801642713,
           0.23071227369415245,
           0.2225680860000738,
           0.21456006847846779,
           0.2070878465419809,
           0.20049625055173417,
           0.19507084218595108,
           0.19103523332295086,
           0.18854967763954522,
           0.18771045677679687,
           0.18854967763954522,
           0.19103523332295086,
           0.19507084218595108,
           0.20049625055173417,
           0.2070878465419809,
           0.21456006847846779,
           0.2225680860000738,
           0.23071227369415245,
           0.23854497801642713,
           0.2455799958764798,
           0.25130504004127213,
           0.25519727019112654,
           0.2567417315441088,
           0.2554522819126627,
           0.2508943222213973,
           0.242708395806646,
           0.23063350923189954,
           0.2145288714461612,
           0.1943926655354523,
           0.17037647050011584,
           0.14279404657238684,
           0.11212338767979044,
           0.07900122348247962,
           0.044209509361482956,
           0.008653858363151095,
           -0.026665677985416577,
           -0.060690608986011814,
           -0.09234546620178369,
           -0.12058300781296416,
           -0.14443111863131364,
           -0.16303912773542587,
           -0.17572115154133375,
           -0.18199408570471504,
           -0.18160802037610754,
           -0.17456713788189782,
           -0.16113955966514656,
           -0.14185512230149663,
           -0.11749065565570795,
           -0.08904297911487404
          ],
          [
           -0.0345063152690242,
           -0.06655906279410359,
           -0.09668883252747353,
           -0.12368964794720452,
           -0.1464987033293174,
           -0.1642373823959323,
           -0.17624240938958516,
           -0.18208605074549258,
           -0.18158488243001691,
           -0.1747972342928682,
           -0.16200998595397612,
           -0.1437158894806465,
           -0.12058300781296416,
           -0.09341816596346665,
           -0.0631265026963309,
           -0.03066927919323432,
           0.0029779491154211806,
           0.03686485131708162,
           0.07010183827093616,
           0.1018902143955224,
           0.13154597877649798,
           0.15851669454452746,
           0.18239124981424537,
           0.20290271423033404,
           0.21992483146863692,
           0.23346296309158113,
           0.24364050109720906,
           0.2506818889186662,
           0.254893432701845,
           0.2566430509401283,
           0.2563400102730029,
           0.25441554164532254,
           0.25130504004127213,
           0.24743234013685533,
           0.2431963471432226,
           0.23896010343988033,
           0.23504220166614895,
           0.2317103248693539,
           0.22917661128094333,
           0.22759450814784551,
           0.2270567942100705,
           0.22759450814784551,
           0.22917661128094333,
           0.2317103248693539,
           0.23504220166614895,
           0.23896010343988033,
           0.2431963471432226,
           0.24743234013685533,
           0.25130504004127213,
           0.25441554164532254,
           0.2563400102730029,
           0.2566430509401283,
           0.254893432701845,
           0.2506818889186662,
           0.24364050109720906,
           0.23346296309158113,
           0.21992483146863692,
           0.20290271423033404,
           0.18239124981424537,
           0.15851669454452746,
           0.13154597877649798,
           0.1018902143955224,
           0.07010183827093616,
           0.03686485131708162,
           0.0029779491154211806,
           -0.03066927919323432,
           -0.0631265026963309,
           -0.09341816596346665,
           -0.12058300781296416,
           -0.1437158894806465,
           -0.16200998595397612,
           -0.1747972342928682,
           -0.18158488243001691,
           -0.18208605074549258,
           -0.17624240938958516,
           -0.1642373823959323,
           -0.1464987033293174,
           -0.12368964794720452,
           -0.09668883252747353,
           -0.06655906279410359
          ],
          [
           -0.01061150357619211,
           -0.042655257000177006,
           -0.07374973820785838,
           -0.10268778525178764,
           -0.1283676319466868,
           -0.14983554931501694,
           -0.16632015713858264,
           -0.17725715646546372,
           -0.18230376872794093,
           -0.18134271385500067,
           -0.17447608825271163,
           -0.16200998595397612,
           -0.14443111863131364,
           -0.12237701362727325,
           -0.09660159075517502,
           -0.06793803188546253,
           -0.03726086233570953,
           -0.005449066140771361,
           0.026648129724923395,
           0.058241427706856384,
           0.08862652853638416,
           0.11720338291232232,
           0.14348926836260514,
           0.16712567793535366,
           0.18787932061729182,
           0.20563779959612533,
           0.22040074178662336,
           0.23226729318028777,
           0.24142096714711753,
           0.24811283911536614,
           0.25264402764959015,
           0.255348298963932,
           0.256575492104657,
           0.2566762997375786,
           0.2559887694405144,
           0.2548267267047997,
           0.25347017586536014,
           0.252157618714697,
           0.25108014921898075,
           0.25037713957121355,
           0.25013332713993036,
           0.25037713957121355,
           0.25108014921898075,
           0.252157618714697,
           0.25347017586536014,
           0.2548267267047997,
           0.2559887694405144,
           0.2566762997375786,
           0.256575492104657,
           0.255348298963932,
           0.25264402764959015,
           0.24811283911536614,
           0.24142096714711753,
           0.23226729318028777,
           0.22040074178662336,
           0.20563779959612533,
           0.18787932061729182,
           0.16712567793535366,
           0.14348926836260514,
           0.11720338291232232,
           0.08862652853638416,
           0.058241427706856384,
           0.026648129724923395,
           -0.005449066140771361,
           -0.03726086233570953,
           -0.06793803188546253,
           -0.09660159075517502,
           -0.12237701362727325,
           -0.14443111863131364,
           -0.16200998595397612,
           -0.17447608825271163,
           -0.18134271385500067,
           -0.18230376872794093,
           -0.17725715646546372,
           -0.16632015713858264,
           -0.14983554931501694,
           -0.1283676319466868,
           -0.10268778525178764,
           -0.07374973820785838,
           -0.042655257000177006
          ],
          [
           0.013454008098850966,
           -0.017859822184363938,
           -0.04916880920228074,
           -0.07929019757294747,
           -0.10711012813756442,
           -0.1316269478872783,
           -0.15198770280837584,
           -0.16751643729146143,
           -0.17773339606034183,
           -0.18236471957976835,
           -0.18134271385500067,
           -0.1747972342928682,
           -0.16303912773542587,
           -0.14653700801271363,
           -0.1258888846262905,
           -0.10179031338845618,
           -0.0750007897964791,
           -0.046310064114579955,
           -0.016505930263581485,
           0.013655158230898757,
           0.043473546354522816,
           0.07232710218505171,
           0.09968670899986165,
           0.12512633286074154,
           0.14832776112580212,
           0.16908036038891633,
           0.18727640924644018,
           0.20290271423033404,
           0.21602931256266372,
           0.22679610352037188,
           0.23539823538075702,
           0.2420710146043941,
           0.24707500803079696,
           0.2506818889186662,
           0.2531614457800734,
           0.25477004091850136,
           0.2557406839380664,
           0.2562747828163765,
           0.25653555744366946,
           0.2566430509401283,
           0.2566706526738519,
           0.2566430509401283,
           0.25653555744366946,
           0.2562747828163765,
           0.2557406839380664,
           0.25477004091850136,
           0.2531614457800734,
           0.2506818889186662,
           0.24707500803079696,
           0.2420710146043941,
           0.23539823538075702,
           0.22679610352037188,
           0.21602931256266372,
           0.20290271423033404,
           0.18727640924644018,
           0.16908036038891633,
           0.14832776112580212,
           0.12512633286074154,
           0.09968670899986165,
           0.07232710218505171,
           0.043473546354522816,
           0.013655158230898757,
           -0.016505930263581485,
           -0.046310064114579955,
           -0.0750007897964791,
           -0.10179031338845618,
           -0.1258888846262905,
           -0.14653700801271363,
           -0.16303912773542587,
           -0.1747972342928682,
           -0.18134271385500067,
           -0.18236471957976835,
           -0.17773339606034183,
           -0.16751643729146143,
           -0.15198770280837584,
           -0.1316269478872783,
           -0.10711012813756442,
           -0.07929019757294747,
           -0.04916880920228074,
           -0.017859822184363938
          ],
          [
           0.037104384846577534,
           0.007233082355737275,
           -0.023527608249201665,
           -0.054043516875550875,
           -0.08321475815193494,
           -0.11001880232017779,
           -0.13354819579908725,
           -0.15304146672549196,
           -0.167906160972842,
           -0.17773339606034183,
           -0.18230376872794093,
           -0.18158488243001691,
           -0.17572115154133375,
           -0.16501687105976595,
           -0.1499137997580331,
           -0.13096468174943518,
           -0.10880422217787396,
           -0.08411903827788304,
           -0.05761803324395176,
           -0.030004497243790427,
           -0.001951040868825416,
           0.025921773001301992,
           0.05306249567952219,
           0.07900122348247962,
           0.10335731863015635,
           0.1258425822940911,
           0.14626024334832619,
           0.16450028494360933,
           0.18053174205108255,
           0.1943926655354523,
           0.2061784643801796,
           0.21602931256266372,
           0.22411724822563847,
           0.23063350923189954,
           0.23577655069724138,
           0.23974108638511749,
           0.242708395806646,
           0.24483804991090946,
           0.24626113579560338,
           0.24707500803079696,
           0.24733956165584545,
           0.24707500803079696,
           0.24626113579560338,
           0.24483804991090946,
           0.242708395806646,
           0.23974108638511749,
           0.23577655069724138,
           0.23063350923189954,
           0.22411724822563847,
           0.21602931256266372,
           0.2061784643801796,
           0.1943926655354523,
           0.18053174205108255,
           0.16450028494360933,
           0.14626024334832619,
           0.1258425822940911,
           0.10335731863015635,
           0.07900122348247962,
           0.05306249567952219,
           0.025921773001301992,
           -0.001951040868825416,
           -0.030004497243790427,
           -0.05761803324395176,
           -0.08411903827788304,
           -0.10880422217787396,
           -0.13096468174943518,
           -0.1499137997580331,
           -0.16501687105976595,
           -0.17572115154133375,
           -0.18158488243001691,
           -0.18230376872794093,
           -0.17773339606034183,
           -0.167906160972842,
           -0.15304146672549196,
           -0.13354819579908725,
           -0.11001880232017779,
           -0.08321475815193494,
           -0.054043516875550875,
           -0.023527608249201665,
           0.007233082355737275
          ],
          [
           0.059725017515438364,
           0.03197958453286062,
           0.0025207381574719806,
           -0.027588123185645037,
           -0.0572857273340844,
           -0.08555491563889543,
           -0.1114606806231028,
           -0.13418273806183595,
           -0.15304146672549196,
           -0.16751643729146143,
           -0.17725715646546372,
           -0.18208605074549258,
           -0.18199408570471504,
           -0.17712974307464055,
           -0.16778234479339135,
           -0.1543609103022869,
           -0.13736985507049018,
           -0.11738288358628372,
           -0.0950164022704569,
           -0.07090368426500879,
           -0.045670869380806056,
           -0.019915691575644292,
           0.0058103924762656495,
           0.031016232090896562,
           0.05528095770522729,
           0.07825990831739421,
           0.09968670899986165,
           0.11937185506223688,
           0.13719827990417027,
           0.15311446345017118,
           0.16712567793535366,
           0.1792839709402817,
           0.18967745729212915,
           0.19841943861188654,
           0.20563779959612533,
           0.21146505144444128,
           0.21602931256266372,
           0.21944644111666822,
           0.22181346801290225,
           0.2232034254780841,
           0.22366162672468853,
           0.2232034254780841,
           0.22181346801290225,
           0.21944644111666822,
           0.21602931256266372,
           0.21146505144444128,
           0.20563779959612533,
           0.19841943861188654,
           0.18967745729212915,
           0.1792839709402817,
           0.16712567793535366,
           0.15311446345017118,
           0.13719827990417027,
           0.11937185506223688,
           0.09968670899986165,
           0.07825990831739421,
           0.05528095770522729,
           0.031016232090896562,
           0.0058103924762656495,
           -0.019915691575644292,
           -0.045670869380806056,
           -0.07090368426500879,
           -0.0950164022704569,
           -0.11738288358628372,
           -0.13736985507049018,
           -0.1543609103022869,
           -0.16778234479339135,
           -0.17712974307464055,
           -0.18199408570471504,
           -0.18208605074549258,
           -0.17725715646546372,
           -0.16751643729146143,
           -0.15304146672549196,
           -0.13418273806183595,
           -0.1114606806231028,
           -0.08555491563889543,
           -0.0572857273340844,
           -0.027588123185645037,
           0.0025207381574719806,
           0.03197958453286062
          ],
          [
           0.08069235790121831,
           0.05570574218106777,
           0.028270310898122826,
           -0.0006409754282528475,
           -0.03002807965783915,
           -0.05890402451081101,
           -0.08633239590937543,
           -0.1114606806231028,
           -0.13354819579908725,
           -0.15198770280837584,
           -0.16632015713858264,
           -0.17624240938958516,
           -0.18160802037610754,
           -0.18242166855756492,
           -0.1788278960809016,
           -0.17109514979541934,
           -0.15959621882048483,
           -0.14478624788034108,
           -0.1271795169340972,
           -0.10732612754693129,
           -0.0857896329957062,
           -0.0631265026963309,
           -0.039868134180728126,
           -0.016505930263581485,
           0.0065202421682302655,
           0.02883009042098063,
           0.05010748884225075,
           0.07010183827093616,
           0.08862652853638416,
           0.10555493165712146,
           0.12081441070397907,
           0.13437885433763305,
           0.14626024334832619,
           0.15649972810645998,
           0.16515865057394133,
           0.17230988766358785,
           0.17802983029511174,
           0.18239124981424537,
           0.18545724476618586,
           0.18727640924644018,
           0.18787932061729182,
           0.18727640924644018,
           0.18545724476618586,
           0.18239124981424537,
           0.17802983029511174,
           0.17230988766358785,
           0.16515865057394133,
           0.15649972810645998,
           0.14626024334832619,
           0.13437885433763305,
           0.12081441070397907,
           0.10555493165712146,
           0.08862652853638416,
           0.07010183827093616,
           0.05010748884225075,
           0.02883009042098063,
           0.0065202421682302655,
           -0.016505930263581485,
           -0.039868134180728126,
           -0.0631265026963309,
           -0.0857896329957062,
           -0.10732612754693129,
           -0.1271795169340972,
           -0.14478624788034108,
           -0.15959621882048483,
           -0.17109514979541934,
           -0.1788278960809016,
           -0.18242166855756492,
           -0.18160802037610754,
           -0.17624240938958516,
           -0.16632015713858264,
           -0.15198770280837584,
           -0.13354819579908725,
           -0.1114606806231028,
           -0.08633239590937543,
           -0.05890402451081101,
           -0.03002807965783915,
           -0.0006409754282528475,
           0.028270310898122826,
           0.05570574218106777
          ],
          [
           0.0993958462307399,
           0.07773008237271903,
           0.05298490441364873,
           0.026026147564044762,
           -0.0022274559793407315,
           -0.030841885736018544,
           -0.05890402451081101,
           -0.08555491563889543,
           -0.11001880232017779,
           -0.1316269478872783,
           -0.14983554931501694,
           -0.1642373823959323,
           -0.17456713788189782,
           -0.1807007071005138,
           -0.18264893898060253,
           -0.18054660691367944,
           -0.17463748569481502,
           -0.16525654180237792,
           -0.1528102839666787,
           -0.1377563081818195,
           -0.12058300781296416,
           -0.10179031338845618,
           -0.08187218787401292,
           -0.061301442485772274,
           -0.040517266401149735,
           -0.019915691575644292,
           0.0001569493213448689,
           0.019407660252202565,
           0.03759772656874239,
           0.054541276561040686,
           0.07010183827093616,
           0.08418731130237875,
           0.09674378883254962,
           0.10774865812501504,
           0.11720338291232232,
           0.12512633286074154,
           0.13154597877649798,
           0.13649472168344115,
           0.14000357308347133,
           0.14209785531573388,
           0.14279404657238684,
           0.14209785531573388,
           0.14000357308347133,
           0.13649472168344115,
           0.13154597877649798,
           0.12512633286074154,
           0.11720338291232232,
           0.10774865812501504,
           0.09674378883254962,
           0.08418731130237875,
           0.07010183827093616,
           0.054541276561040686,
           0.03759772656874239,
           0.019407660252202565,
           0.0001569493213448689,
           -0.019915691575644292,
           -0.040517266401149735,
           -0.061301442485772274,
           -0.08187218787401292,
           -0.10179031338845618,
           -0.12058300781296416,
           -0.1377563081818195,
           -0.1528102839666787,
           -0.16525654180237792,
           -0.17463748569481502,
           -0.18054660691367944,
           -0.18264893898060253,
           -0.1807007071005138,
           -0.17456713788189782,
           -0.1642373823959323,
           -0.14983554931501694,
           -0.1316269478872783,
           -0.11001880232017779,
           -0.08555491563889543,
           -0.05890402451081101,
           -0.030841885736018544,
           -0.0022274559793407315,
           0.026026147564044762,
           0.05298490441364873,
           0.07773008237271903
          ],
          [
           0.11526115097856117,
           0.09738828403656238,
           0.0759235678781371,
           0.05161237775613617,
           0.025275083284098894,
           -0.0022274559793407315,
           -0.03002807965783915,
           -0.0572857273340844,
           -0.08321475815193494,
           -0.10711012813756442,
           -0.1283676319466868,
           -0.1464987033293174,
           -0.16113955966514656,
           -0.17205475511311313,
           -0.17913546063850083,
           -0.18239300622958532,
           -0.18194839266053625,
           -0.17801860199902664,
           -0.17090060569317098,
           -0.1609539875623888,
           -0.14858307017251748,
           -0.13421936300715656,
           -0.11830504740258321,
           -0.10127808535368477,
           -0.08355939645450051,
           -0.06554239869174844,
           -0.04758506314163741,
           -0.030004497243790427,
           -0.013073952151520388,
           0.0029779491154211806,
           0.017966041941118966,
           0.031745840459068614,
           0.044209509361482956,
           0.05528095770522729,
           0.0649104168254659,
           0.07306884206017318,
           0.07974244535617742,
           0.08492762656935865,
           0.08862652853638416,
           0.09084339726921295,
           0.09158188560927924,
           0.09084339726921295,
           0.08862652853638416,
           0.08492762656935865,
           0.07974244535617742,
           0.07306884206017318,
           0.0649104168254659,
           0.05528095770522729,
           0.044209509361482956,
           0.031745840459068614,
           0.017966041941118966,
           0.0029779491154211806,
           -0.013073952151520388,
           -0.030004497243790427,
           -0.04758506314163741,
           -0.06554239869174844,
           -0.08355939645450051,
           -0.10127808535368477,
           -0.11830504740258321,
           -0.13421936300715656,
           -0.14858307017251748,
           -0.1609539875623888,
           -0.17090060569317098,
           -0.17801860199902664,
           -0.18194839266053625,
           -0.18239300622958532,
           -0.17913546063850083,
           -0.17205475511311313,
           -0.16113955966514656,
           -0.1464987033293174,
           -0.1283676319466868,
           -0.10711012813756442,
           -0.08321475815193494,
           -0.0572857273340844,
           -0.03002807965783915,
           -0.0022274559793407315,
           0.025275083284098894,
           0.05161237775613617,
           0.0759235678781371,
           0.09738828403656238
          ],
          [
           0.12777380562398274,
           0.11405907878471819,
           0.09636827159298987,
           0.07531659368730659,
           0.05161237775613617,
           0.026026147564044762,
           -0.0006409754282528475,
           -0.027588123185645037,
           -0.054043516875550875,
           -0.07929019757294747,
           -0.10268778525178764,
           -0.12368964794720452,
           -0.14185512230149663,
           -0.15685668268767797,
           -0.16848219583369567,
           -0.17663261032673944,
           -0.18131560690315682,
           -0.1826358700412797,
           -0.18078273088932142,
           -0.1760159755489718,
           -0.16865061331126227,
           -0.15904136091487175,
           -0.14756752732225356,
           -0.13461888616197776,
           -0.12058300781296416,
           -0.10583439818051152,
           -0.0907256642328181,
           -0.07558080422426758,
           -0.060690608986011814,
           -0.046310064114579955,
           -0.032657564269347995,
           -0.019915691575644292,
           -0.00823327044894154,
           0.0022716100207446164,
           0.011507919583092052,
           0.019407660252202565,
           0.025921773001301992,
           0.031016232090896562,
           0.03466854669458865,
           0.03686485131708162,
           0.03759772656874239,
           0.03686485131708162,
           0.03466854669458865,
           0.031016232090896562,
           0.025921773001301992,
           0.019407660252202565,
           0.011507919583092052,
           0.0022716100207446164,
           -0.00823327044894154,
           -0.019915691575644292,
           -0.032657564269347995,
           -0.046310064114579955,
           -0.060690608986011814,
           -0.07558080422426758,
           -0.0907256642328181,
           -0.10583439818051152,
           -0.12058300781296416,
           -0.13461888616197776,
           -0.14756752732225356,
           -0.15904136091487175,
           -0.16865061331126227,
           -0.1760159755489718,
           -0.18078273088932142,
           -0.1826358700412797,
           -0.18131560690315682,
           -0.17663261032673944,
           -0.16848219583369567,
           -0.15685668268767797,
           -0.14185512230149663,
           -0.12368964794720452,
           -0.10268778525178764,
           -0.07929019757294747,
           -0.054043516875550875,
           -0.027588123185645037,
           -0.0006409754282528475,
           0.026026147564044762,
           0.05161237775613617,
           0.07531659368730659,
           0.09636827159298987,
           0.11405907878471819
          ],
          [
           0.13650222610828716,
           0.12719030582037316,
           0.1136526088802527,
           0.09636827159298987,
           0.0759235678781371,
           0.05298490441364873,
           0.028270310898122826,
           0.0025207381574719806,
           -0.023527608249201665,
           -0.04916880920228074,
           -0.07374973820785838,
           -0.09668883252747353,
           -0.11749065565570795,
           -0.13575600794040762,
           -0.1511875643863488,
           -0.163591222139663,
           -0.17287351607260817,
           -0.17903560277058095,
           -0.1821644169794075,
           -0.18242166855756492,
           -0.1800313728705813,
           -0.1752665961050691,
           -0.16843605361995675,
           -0.15987112992755653,
           -0.1499137997580331,
           -0.13890582780165694,
           -0.1271795169340972,
           -0.11505016730310495,
           -0.10281030706494565,
           -0.0907256642328181,
           -0.07903277128303789,
           -0.06793803188546253,
           -0.05761803324395176,
           -0.04822085787410071,
           -0.039868134180728126,
           -0.032657564269347995,
           -0.026665677985416577,
           -0.021950582012676394,
           -0.01855449981019833,
           -0.016505930263581485,
           -0.015821288518275644,
           -0.016505930263581485,
           -0.01855449981019833,
           -0.021950582012676394,
           -0.026665677985416577,
           -0.032657564269347995,
           -0.039868134180728126,
           -0.04822085787410071,
           -0.05761803324395176,
           -0.06793803188546253,
           -0.07903277128303789,
           -0.0907256642328181,
           -0.10281030706494565,
           -0.11505016730310495,
           -0.1271795169340972,
           -0.13890582780165694,
           -0.1499137997580331,
           -0.15987112992755653,
           -0.16843605361995675,
           -0.1752665961050691,
           -0.1800313728705813,
           -0.18242166855756492,
           -0.1821644169794075,
           -0.17903560277058095,
           -0.17287351607260817,
           -0.163591222139663,
           -0.1511875643863488,
           -0.13575600794040762,
           -0.11749065565570795,
           -0.09668883252747353,
           -0.07374973820785838,
           -0.04916880920228074,
           -0.023527608249201665,
           0.0025207381574719806,
           0.028270310898122826,
           0.05298490441364873,
           0.0759235678781371,
           0.09636827159298987,
           0.1136526088802527,
           0.12719030582037316
          ],
          [
           0.14111903500315878,
           0.13632396086944565,
           0.12719030582037316,
           0.11405907878471819,
           0.09738828403656238,
           0.07773008237271903,
           0.05570574218106777,
           0.03197958453286062,
           0.007233082355737275,
           -0.017859822184363938,
           -0.042655257000177006,
           -0.06655906279410359,
           -0.08904297911487404,
           -0.10965701691843574,
           -0.12803786284735597,
           -0.14391335124448024,
           -0.15710321083861073,
           -0.16751643729146143,
           -0.1751457556394694,
           -0.1800597155006458,
           -0.18239300622958532,
           -0.18233559039097344,
           -0.18012123502583363,
           -0.1760159755489718,
           -0.17030698199702413,
           -0.16329221750830802,
           -0.15527119023634722,
           -0.14653700801271363,
           -0.13736985507049018,
           -0.12803192632998142,
           -0.11876378051842666,
           -0.10978201113265723,
           -0.10127808535368477,
           -0.09341816596346665,
           -0.08634370978474622,
           -0.08017262722723162,
           -0.0750007897964791,
           -0.07090368426500879,
           -0.06793803188546253,
           -0.06614321685638791,
           -0.06554239869174844,
           -0.06614321685638791,
           -0.06793803188546253,
           -0.07090368426500879,
           -0.0750007897964791,
           -0.08017262722723162,
           -0.08634370978474622,
           -0.09341816596346665,
           -0.10127808535368477,
           -0.10978201113265723,
           -0.11876378051842666,
           -0.12803192632998142,
           -0.13736985507049018,
           -0.14653700801271363,
           -0.15527119023634722,
           -0.16329221750830802,
           -0.17030698199702413,
           -0.1760159755489718,
           -0.18012123502583363,
           -0.18233559039097344,
           -0.18239300622958532,
           -0.1800597155006458,
           -0.1751457556394694,
           -0.16751643729146143,
           -0.15710321083861073,
           -0.14391335124448024,
           -0.12803786284735597,
           -0.10965701691843574,
           -0.08904297911487404,
           -0.06655906279410359,
           -0.042655257000177006,
           -0.017859822184363938,
           0.007233082355737275,
           0.03197958453286062,
           0.05570574218106777,
           0.07773008237271903,
           0.09738828403656238,
           0.11405907878471819,
           0.12719030582037316,
           0.13632396086944565
          ]
         ]
        }
       ],
       "layout": {
        "legend": {
         "bgcolor": "#151516",
         "font": {
          "color": "#D9D9D9"
         }
        },
        "margin": {
         "b": 0,
         "l": 0,
         "r": 0,
         "t": 0
        },
        "paper_bgcolor": "#151516",
        "plot_bgcolor": "#151516",
        "template": {
         "data": {
          "bar": [
           {
            "error_x": {
             "color": "#2a3f5f"
            },
            "error_y": {
             "color": "#2a3f5f"
            },
            "marker": {
             "line": {
              "color": "#E5ECF6",
              "width": 0.5
             }
            },
            "type": "bar"
           }
          ],
          "barpolar": [
           {
            "marker": {
             "line": {
              "color": "#E5ECF6",
              "width": 0.5
             }
            },
            "type": "barpolar"
           }
          ],
          "carpet": [
           {
            "aaxis": {
             "endlinecolor": "#2a3f5f",
             "gridcolor": "white",
             "linecolor": "white",
             "minorgridcolor": "white",
             "startlinecolor": "#2a3f5f"
            },
            "baxis": {
             "endlinecolor": "#2a3f5f",
             "gridcolor": "white",
             "linecolor": "white",
             "minorgridcolor": "white",
             "startlinecolor": "#2a3f5f"
            },
            "type": "carpet"
           }
          ],
          "choropleth": [
           {
            "colorbar": {
             "outlinewidth": 0,
             "ticks": ""
            },
            "type": "choropleth"
           }
          ],
          "contour": [
           {
            "colorbar": {
             "outlinewidth": 0,
             "ticks": ""
            },
            "colorscale": [
             [
              0,
              "#0d0887"
             ],
             [
              0.1111111111111111,
              "#46039f"
             ],
             [
              0.2222222222222222,
              "#7201a8"
             ],
             [
              0.3333333333333333,
              "#9c179e"
             ],
             [
              0.4444444444444444,
              "#bd3786"
             ],
             [
              0.5555555555555556,
              "#d8576b"
             ],
             [
              0.6666666666666666,
              "#ed7953"
             ],
             [
              0.7777777777777778,
              "#fb9f3a"
             ],
             [
              0.8888888888888888,
              "#fdca26"
             ],
             [
              1,
              "#f0f921"
             ]
            ],
            "type": "contour"
           }
          ],
          "contourcarpet": [
           {
            "colorbar": {
             "outlinewidth": 0,
             "ticks": ""
            },
            "type": "contourcarpet"
           }
          ],
          "heatmap": [
           {
            "colorbar": {
             "outlinewidth": 0,
             "ticks": ""
            },
            "colorscale": [
             [
              0,
              "#0d0887"
             ],
             [
              0.1111111111111111,
              "#46039f"
             ],
             [
              0.2222222222222222,
              "#7201a8"
             ],
             [
              0.3333333333333333,
              "#9c179e"
             ],
             [
              0.4444444444444444,
              "#bd3786"
             ],
             [
              0.5555555555555556,
              "#d8576b"
             ],
             [
              0.6666666666666666,
              "#ed7953"
             ],
             [
              0.7777777777777778,
              "#fb9f3a"
             ],
             [
              0.8888888888888888,
              "#fdca26"
             ],
             [
              1,
              "#f0f921"
             ]
            ],
            "type": "heatmap"
           }
          ],
          "heatmapgl": [
           {
            "colorbar": {
             "outlinewidth": 0,
             "ticks": ""
            },
            "colorscale": [
             [
              0,
              "#0d0887"
             ],
             [
              0.1111111111111111,
              "#46039f"
             ],
             [
              0.2222222222222222,
              "#7201a8"
             ],
             [
              0.3333333333333333,
              "#9c179e"
             ],
             [
              0.4444444444444444,
              "#bd3786"
             ],
             [
              0.5555555555555556,
              "#d8576b"
             ],
             [
              0.6666666666666666,
              "#ed7953"
             ],
             [
              0.7777777777777778,
              "#fb9f3a"
             ],
             [
              0.8888888888888888,
              "#fdca26"
             ],
             [
              1,
              "#f0f921"
             ]
            ],
            "type": "heatmapgl"
           }
          ],
          "histogram": [
           {
            "marker": {
             "colorbar": {
              "outlinewidth": 0,
              "ticks": ""
             }
            },
            "type": "histogram"
           }
          ],
          "histogram2d": [
           {
            "colorbar": {
             "outlinewidth": 0,
             "ticks": ""
            },
            "colorscale": [
             [
              0,
              "#0d0887"
             ],
             [
              0.1111111111111111,
              "#46039f"
             ],
             [
              0.2222222222222222,
              "#7201a8"
             ],
             [
              0.3333333333333333,
              "#9c179e"
             ],
             [
              0.4444444444444444,
              "#bd3786"
             ],
             [
              0.5555555555555556,
              "#d8576b"
             ],
             [
              0.6666666666666666,
              "#ed7953"
             ],
             [
              0.7777777777777778,
              "#fb9f3a"
             ],
             [
              0.8888888888888888,
              "#fdca26"
             ],
             [
              1,
              "#f0f921"
             ]
            ],
            "type": "histogram2d"
           }
          ],
          "histogram2dcontour": [
           {
            "colorbar": {
             "outlinewidth": 0,
             "ticks": ""
            },
            "colorscale": [
             [
              0,
              "#0d0887"
             ],
             [
              0.1111111111111111,
              "#46039f"
             ],
             [
              0.2222222222222222,
              "#7201a8"
             ],
             [
              0.3333333333333333,
              "#9c179e"
             ],
             [
              0.4444444444444444,
              "#bd3786"
             ],
             [
              0.5555555555555556,
              "#d8576b"
             ],
             [
              0.6666666666666666,
              "#ed7953"
             ],
             [
              0.7777777777777778,
              "#fb9f3a"
             ],
             [
              0.8888888888888888,
              "#fdca26"
             ],
             [
              1,
              "#f0f921"
             ]
            ],
            "type": "histogram2dcontour"
           }
          ],
          "mesh3d": [
           {
            "colorbar": {
             "outlinewidth": 0,
             "ticks": ""
            },
            "type": "mesh3d"
           }
          ],
          "parcoords": [
           {
            "line": {
             "colorbar": {
              "outlinewidth": 0,
              "ticks": ""
             }
            },
            "type": "parcoords"
           }
          ],
          "pie": [
           {
            "automargin": true,
            "type": "pie"
           }
          ],
          "scatter": [
           {
            "marker": {
             "colorbar": {
              "outlinewidth": 0,
              "ticks": ""
             }
            },
            "type": "scatter"
           }
          ],
          "scatter3d": [
           {
            "line": {
             "colorbar": {
              "outlinewidth": 0,
              "ticks": ""
             }
            },
            "marker": {
             "colorbar": {
              "outlinewidth": 0,
              "ticks": ""
             }
            },
            "type": "scatter3d"
           }
          ],
          "scattercarpet": [
           {
            "marker": {
             "colorbar": {
              "outlinewidth": 0,
              "ticks": ""
             }
            },
            "type": "scattercarpet"
           }
          ],
          "scattergeo": [
           {
            "marker": {
             "colorbar": {
              "outlinewidth": 0,
              "ticks": ""
             }
            },
            "type": "scattergeo"
           }
          ],
          "scattergl": [
           {
            "marker": {
             "colorbar": {
              "outlinewidth": 0,
              "ticks": ""
             }
            },
            "type": "scattergl"
           }
          ],
          "scattermapbox": [
           {
            "marker": {
             "colorbar": {
              "outlinewidth": 0,
              "ticks": ""
             }
            },
            "type": "scattermapbox"
           }
          ],
          "scatterpolar": [
           {
            "marker": {
             "colorbar": {
              "outlinewidth": 0,
              "ticks": ""
             }
            },
            "type": "scatterpolar"
           }
          ],
          "scatterpolargl": [
           {
            "marker": {
             "colorbar": {
              "outlinewidth": 0,
              "ticks": ""
             }
            },
            "type": "scatterpolargl"
           }
          ],
          "scatterternary": [
           {
            "marker": {
             "colorbar": {
              "outlinewidth": 0,
              "ticks": ""
             }
            },
            "type": "scatterternary"
           }
          ],
          "surface": [
           {
            "colorbar": {
             "outlinewidth": 0,
             "ticks": ""
            },
            "colorscale": [
             [
              0,
              "#0d0887"
             ],
             [
              0.1111111111111111,
              "#46039f"
             ],
             [
              0.2222222222222222,
              "#7201a8"
             ],
             [
              0.3333333333333333,
              "#9c179e"
             ],
             [
              0.4444444444444444,
              "#bd3786"
             ],
             [
              0.5555555555555556,
              "#d8576b"
             ],
             [
              0.6666666666666666,
              "#ed7953"
             ],
             [
              0.7777777777777778,
              "#fb9f3a"
             ],
             [
              0.8888888888888888,
              "#fdca26"
             ],
             [
              1,
              "#f0f921"
             ]
            ],
            "type": "surface"
           }
          ],
          "table": [
           {
            "cells": {
             "fill": {
              "color": "#EBF0F8"
             },
             "line": {
              "color": "white"
             }
            },
            "header": {
             "fill": {
              "color": "#C8D4E3"
             },
             "line": {
              "color": "white"
             }
            },
            "type": "table"
           }
          ]
         },
         "layout": {
          "annotationdefaults": {
           "arrowcolor": "#2a3f5f",
           "arrowhead": 0,
           "arrowwidth": 1
          },
          "coloraxis": {
           "colorbar": {
            "outlinewidth": 0,
            "ticks": ""
           }
          },
          "colorscale": {
           "diverging": [
            [
             0,
             "#8e0152"
            ],
            [
             0.1,
             "#c51b7d"
            ],
            [
             0.2,
             "#de77ae"
            ],
            [
             0.3,
             "#f1b6da"
            ],
            [
             0.4,
             "#fde0ef"
            ],
            [
             0.5,
             "#f7f7f7"
            ],
            [
             0.6,
             "#e6f5d0"
            ],
            [
             0.7,
             "#b8e186"
            ],
            [
             0.8,
             "#7fbc41"
            ],
            [
             0.9,
             "#4d9221"
            ],
            [
             1,
             "#276419"
            ]
           ],
           "sequential": [
            [
             0,
             "#0d0887"
            ],
            [
             0.1111111111111111,
             "#46039f"
            ],
            [
             0.2222222222222222,
             "#7201a8"
            ],
            [
             0.3333333333333333,
             "#9c179e"
            ],
            [
             0.4444444444444444,
             "#bd3786"
            ],
            [
             0.5555555555555556,
             "#d8576b"
            ],
            [
             0.6666666666666666,
             "#ed7953"
            ],
            [
             0.7777777777777778,
             "#fb9f3a"
            ],
            [
             0.8888888888888888,
             "#fdca26"
            ],
            [
             1,
             "#f0f921"
            ]
           ],
           "sequentialminus": [
            [
             0,
             "#0d0887"
            ],
            [
             0.1111111111111111,
             "#46039f"
            ],
            [
             0.2222222222222222,
             "#7201a8"
            ],
            [
             0.3333333333333333,
             "#9c179e"
            ],
            [
             0.4444444444444444,
             "#bd3786"
            ],
            [
             0.5555555555555556,
             "#d8576b"
            ],
            [
             0.6666666666666666,
             "#ed7953"
            ],
            [
             0.7777777777777778,
             "#fb9f3a"
            ],
            [
             0.8888888888888888,
             "#fdca26"
            ],
            [
             1,
             "#f0f921"
            ]
           ]
          },
          "colorway": [
           "#636efa",
           "#EF553B",
           "#00cc96",
           "#ab63fa",
           "#FFA15A",
           "#19d3f3",
           "#FF6692",
           "#B6E880",
           "#FF97FF",
           "#FECB52"
          ],
          "font": {
           "color": "#2a3f5f"
          },
          "geo": {
           "bgcolor": "white",
           "lakecolor": "white",
           "landcolor": "#E5ECF6",
           "showlakes": true,
           "showland": true,
           "subunitcolor": "white"
          },
          "hoverlabel": {
           "align": "left"
          },
          "hovermode": "closest",
          "mapbox": {
           "style": "light"
          },
          "paper_bgcolor": "white",
          "plot_bgcolor": "#E5ECF6",
          "polar": {
           "angularaxis": {
            "gridcolor": "white",
            "linecolor": "white",
            "ticks": ""
           },
           "bgcolor": "#E5ECF6",
           "radialaxis": {
            "gridcolor": "white",
            "linecolor": "white",
            "ticks": ""
           }
          },
          "scene": {
           "xaxis": {
            "backgroundcolor": "#E5ECF6",
            "gridcolor": "white",
            "gridwidth": 2,
            "linecolor": "white",
            "showbackground": true,
            "ticks": "",
            "zerolinecolor": "white"
           },
           "yaxis": {
            "backgroundcolor": "#E5ECF6",
            "gridcolor": "white",
            "gridwidth": 2,
            "linecolor": "white",
            "showbackground": true,
            "ticks": "",
            "zerolinecolor": "white"
           },
           "zaxis": {
            "backgroundcolor": "#E5ECF6",
            "gridcolor": "white",
            "gridwidth": 2,
            "linecolor": "white",
            "showbackground": true,
            "ticks": "",
            "zerolinecolor": "white"
           }
          },
          "shapedefaults": {
           "line": {
            "color": "#2a3f5f"
           }
          },
          "ternary": {
           "aaxis": {
            "gridcolor": "white",
            "linecolor": "white",
            "ticks": ""
           },
           "baxis": {
            "gridcolor": "white",
            "linecolor": "white",
            "ticks": ""
           },
           "bgcolor": "#E5ECF6",
           "caxis": {
            "gridcolor": "white",
            "linecolor": "white",
            "ticks": ""
           }
          },
          "title": {
           "x": 0.05
          },
          "xaxis": {
           "automargin": true,
           "gridcolor": "white",
           "linecolor": "white",
           "ticks": "",
           "title": {
            "standoff": 15
           },
           "zerolinecolor": "white",
           "zerolinewidth": 2
          },
          "yaxis": {
           "automargin": true,
           "gridcolor": "white",
           "linecolor": "white",
           "ticks": "",
           "title": {
            "standoff": 15
           },
           "zerolinecolor": "white",
           "zerolinewidth": 2
          }
         }
        },
        "title": {
         "font": {
          "color": "#D9D9D9"
         }
        },
        "xaxis": {
         "gridcolor": "#434343",
         "showgrid": true,
         "tickfont": {
          "color": "#C2C2C2"
         },
         "title": {
          "font": {
           "color": "#D9D9D9"
          },
          "text": ""
         },
         "zerolinecolor": "#666570"
        },
        "yaxis": {
         "gridcolor": "#434343",
         "showgrid": true,
         "tickfont": {
          "color": "#C2C2C2"
         },
         "title": {
          "font": {
           "color": "#D9D9D9"
          },
          "text": ""
         },
         "zerolinecolor": "#666570"
        }
       }
      },
      "text/html": "<div>\n        \n        \n            <div id=\"11038b34-ee8b-4ba6-ac3d-6d20109c6c16\" class=\"plotly-graph-div\" style=\"height:525px; width:100%;\"></div>\n            <script type=\"text/javascript\">\n                require([\"plotly\"], function(Plotly) {\n                    window.PLOTLYENV=window.PLOTLYENV || {};\n                    window.PLOTLYENV.BASE_URL='https://plot.ly';\n                    \n                if (document.getElementById(\"11038b34-ee8b-4ba6-ac3d-6d20109c6c16\")) {\n                    Plotly.newPlot(\n                        '11038b34-ee8b-4ba6-ac3d-6d20109c6c16',\n                        [{\"colorscale\": [[0.0, \"rgb(84,48,5)\"], [0.1, \"rgb(140,81,10)\"], [0.2, \"rgb(191,129,45)\"], [0.3, \"rgb(223,194,125)\"], [0.4, \"rgb(246,232,195)\"], [0.5, \"rgb(245,245,245)\"], [0.6, \"rgb(199,234,229)\"], [0.7, \"rgb(128,205,193)\"], [0.8, \"rgb(53,151,143)\"], [0.9, \"rgb(1,102,94)\"], [1.0, \"rgb(0,60,48)\"]], \"type\": \"surface\", \"x\": [-10.0, -9.75, -9.5, -9.25, -9.0, -8.75, -8.5, -8.25, -8.0, -7.75, -7.5, -7.25, -7.0, -6.75, -6.5, -6.25, -6.0, -5.75, -5.5, -5.25, -5.0, -4.75, -4.5, -4.25, -4.0, -3.75, -3.5, -3.25, -3.0, -2.75, -2.5, -2.25, -2.0, -1.75, -1.5, -1.25, -1.0, -0.75, -0.5, -0.25, 0.0, 0.25, 0.5, 0.75, 1.0, 1.25, 1.5, 1.75, 2.0, 2.25, 2.5, 2.75, 3.0, 3.25, 3.5, 3.75, 4.0, 4.25, 4.5, 4.75, 5.0, 5.25, 5.5, 5.75, 6.0, 6.25, 6.5, 6.75, 7.0, 7.25, 7.5, 7.75, 8.0, 8.25, 8.5, 8.75, 9.0, 9.25, 9.5, 9.75], \"y\": [-10.0, -9.75, -9.5, -9.25, -9.0, -8.75, -8.5, -8.25, -8.0, -7.75, -7.5, -7.25, -7.0, -6.75, -6.5, -6.25, -6.0, -5.75, -5.5, -5.25, -5.0, -4.75, -4.5, -4.25, -4.0, -3.75, -3.5, -3.25, -3.0, -2.75, -2.5, -2.25, -2.0, -1.75, -1.5, -1.25, -1.0, -0.75, -0.5, -0.25, 0.0, 0.25, 0.5, 0.75, 1.0, 1.25, 1.5, 1.75, 2.0, 2.25, 2.5, 2.75, 3.0, 3.25, 3.5, 3.75, 4.0, 4.25, 4.5, 4.75, 5.0, 5.25, 5.5, 5.75, 6.0, 6.25, 6.5, 6.75, 7.0, 7.25, 7.5, 7.75, 8.0, 8.25, 8.5, 8.75, 9.0, 9.25, 9.5, 9.75], \"z\": [[0.14141961054935853, 0.14111903500315878, 0.13650222610828716, 0.12777380562398274, 0.11526115097856117, 0.0993958462307399, 0.08069235790121831, 0.059725017515438364, 0.037104384846577534, 0.013454008098850966, -0.01061150357619211, -0.0345063152690242, -0.05769048962428924, -0.07968395387291566, -0.10007704610444179, -0.11853755153953284, -0.13481430178982187, -0.1487375524385824, -0.16021647158282734, -0.16923416092386775, -0.17584069010379264, -0.1801446545297837, -0.18230376872794093, -0.18251498442862385, -0.18100457917857166, -0.17801860199902664, -0.1738139924448547, -0.16865061331126227, -0.16278435980926842, -0.15646143337355978, -0.1499137997580331, -0.14335579129849668, -0.13698176393514344, -0.13096468174943518, -0.1254554756233313, -0.12058300781296416, -0.1164544699167505, -0.1131560467581887, -0.1107536917561867, -0.10929387900894774, -0.10880422217787396, -0.10929387900894774, -0.1107536917561867, -0.1131560467581887, -0.1164544699167505, -0.12058300781296416, -0.1254554756233313, -0.13096468174943518, -0.13698176393514344, -0.14335579129849668, -0.1499137997580331, -0.15646143337355978, -0.16278435980926842, -0.16865061331126227, -0.1738139924448547, -0.17801860199902664, -0.18100457917857166, -0.18251498442862385, -0.18230376872794093, -0.1801446545297837, -0.17584069010379264, -0.16923416092386775, -0.16021647158282734, -0.1487375524385824, -0.13481430178982187, -0.11853755153953284, -0.10007704610444179, -0.07968395387291566, -0.05769048962428924, -0.0345063152690242, -0.01061150357619211, 0.013454008098850966, 0.037104384846577534, 0.059725017515438364, 0.08069235790121831, 0.0993958462307399, 0.11526115097856117, 0.12777380562398274, 0.13650222610828716, 0.14111903500315878], [0.14111903500315878, 0.13632396086944565, 0.12719030582037316, 0.11405907878471819, 0.09738828403656238, 0.07773008237271903, 0.05570574218106777, 0.03197958453286062, 0.007233082355737275, -0.017859822184363938, -0.042655257000177006, -0.06655906279410359, -0.08904297911487404, -0.10965701691843574, -0.12803786284735597, -0.14391335124448024, -0.15710321083861073, -0.16751643729146143, -0.1751457556394694, -0.1800597155006458, -0.18239300622958532, -0.18233559039097344, -0.18012123502583363, -0.1760159755489718, -0.17030698199702413, -0.16329221750830802, -0.15527119023634722, -0.14653700801271363, -0.13736985507049018, -0.12803192632998142, -0.11876378051842666, -0.10978201113265723, -0.10127808535368477, -0.09341816596346665, -0.08634370978474622, -0.08017262722723162, -0.0750007897964791, -0.07090368426500879, -0.06793803188546253, -0.06614321685638791, -0.06554239869174844, -0.06614321685638791, -0.06793803188546253, -0.07090368426500879, -0.0750007897964791, -0.08017262722723162, -0.08634370978474622, -0.09341816596346665, -0.10127808535368477, -0.10978201113265723, -0.11876378051842666, -0.12803192632998142, -0.13736985507049018, -0.14653700801271363, -0.15527119023634722, -0.16329221750830802, -0.17030698199702413, -0.1760159755489718, -0.18012123502583363, -0.18233559039097344, -0.18239300622958532, -0.1800597155006458, -0.1751457556394694, -0.16751643729146143, -0.15710321083861073, -0.14391335124448024, -0.12803786284735597, -0.10965701691843574, -0.08904297911487404, -0.06655906279410359, -0.042655257000177006, -0.017859822184363938, 0.007233082355737275, 0.03197958453286062, 0.05570574218106777, 0.07773008237271903, 0.09738828403656238, 0.11405907878471819, 0.12719030582037316, 0.13632396086944565], [0.13650222610828716, 0.12719030582037316, 0.1136526088802527, 0.09636827159298987, 0.0759235678781371, 0.05298490441364873, 0.028270310898122826, 0.0025207381574719806, -0.023527608249201665, -0.04916880920228074, -0.07374973820785838, -0.09668883252747353, -0.11749065565570795, -0.13575600794040762, -0.1511875643863488, -0.163591222139663, -0.17287351607260817, -0.17903560277058095, -0.1821644169794075, -0.18242166855756492, -0.1800313728705813, -0.1752665961050691, -0.16843605361995675, -0.15987112992755653, -0.1499137997580331, -0.13890582780165694, -0.1271795169340972, -0.11505016730310495, -0.10281030706494565, -0.0907256642328181, -0.07903277128303789, -0.06793803188546253, -0.05761803324395176, -0.04822085787410071, -0.039868134180728126, -0.032657564269347995, -0.026665677985416577, -0.021950582012676394, -0.01855449981019833, -0.016505930263581485, -0.015821288518275644, -0.016505930263581485, -0.01855449981019833, -0.021950582012676394, -0.026665677985416577, -0.032657564269347995, -0.039868134180728126, -0.04822085787410071, -0.05761803324395176, -0.06793803188546253, -0.07903277128303789, -0.0907256642328181, -0.10281030706494565, -0.11505016730310495, -0.1271795169340972, -0.13890582780165694, -0.1499137997580331, -0.15987112992755653, -0.16843605361995675, -0.1752665961050691, -0.1800313728705813, -0.18242166855756492, -0.1821644169794075, -0.17903560277058095, -0.17287351607260817, -0.163591222139663, -0.1511875643863488, -0.13575600794040762, -0.11749065565570795, -0.09668883252747353, -0.07374973820785838, -0.04916880920228074, -0.023527608249201665, 0.0025207381574719806, 0.028270310898122826, 0.05298490441364873, 0.0759235678781371, 0.09636827159298987, 0.1136526088802527, 0.12719030582037316], [0.12777380562398274, 0.11405907878471819, 0.09636827159298987, 0.07531659368730659, 0.05161237775613617, 0.026026147564044762, -0.0006409754282528475, -0.027588123185645037, -0.054043516875550875, -0.07929019757294747, -0.10268778525178764, -0.12368964794720452, -0.14185512230149663, -0.15685668268767797, -0.16848219583369567, -0.17663261032673944, -0.18131560690315682, -0.1826358700412797, -0.18078273088932142, -0.1760159755489718, -0.16865061331126227, -0.15904136091487175, -0.14756752732225356, -0.13461888616197776, -0.12058300781296416, -0.10583439818051152, -0.0907256642328181, -0.07558080422426758, -0.060690608986011814, -0.046310064114579955, -0.032657564269347995, -0.019915691575644292, -0.00823327044894154, 0.0022716100207446164, 0.011507919583092052, 0.019407660252202565, 0.025921773001301992, 0.031016232090896562, 0.03466854669458865, 0.03686485131708162, 0.03759772656874239, 0.03686485131708162, 0.03466854669458865, 0.031016232090896562, 0.025921773001301992, 0.019407660252202565, 0.011507919583092052, 0.0022716100207446164, -0.00823327044894154, -0.019915691575644292, -0.032657564269347995, -0.046310064114579955, -0.060690608986011814, -0.07558080422426758, -0.0907256642328181, -0.10583439818051152, -0.12058300781296416, -0.13461888616197776, -0.14756752732225356, -0.15904136091487175, -0.16865061331126227, -0.1760159755489718, -0.18078273088932142, -0.1826358700412797, -0.18131560690315682, -0.17663261032673944, -0.16848219583369567, -0.15685668268767797, -0.14185512230149663, -0.12368964794720452, -0.10268778525178764, -0.07929019757294747, -0.054043516875550875, -0.027588123185645037, -0.0006409754282528475, 0.026026147564044762, 0.05161237775613617, 0.07531659368730659, 0.09636827159298987, 0.11405907878471819], [0.11526115097856117, 0.09738828403656238, 0.0759235678781371, 0.05161237775613617, 0.025275083284098894, -0.0022274559793407315, -0.03002807965783915, -0.0572857273340844, -0.08321475815193494, -0.10711012813756442, -0.1283676319466868, -0.1464987033293174, -0.16113955966514656, -0.17205475511311313, -0.17913546063850083, -0.18239300622958532, -0.18194839266053625, -0.17801860199902664, -0.17090060569317098, -0.1609539875623888, -0.14858307017251748, -0.13421936300715656, -0.11830504740258321, -0.10127808535368477, -0.08355939645450051, -0.06554239869174844, -0.04758506314163741, -0.030004497243790427, -0.013073952151520388, 0.0029779491154211806, 0.017966041941118966, 0.031745840459068614, 0.044209509361482956, 0.05528095770522729, 0.0649104168254659, 0.07306884206017318, 0.07974244535617742, 0.08492762656935865, 0.08862652853638416, 0.09084339726921295, 0.09158188560927924, 0.09084339726921295, 0.08862652853638416, 0.08492762656935865, 0.07974244535617742, 0.07306884206017318, 0.0649104168254659, 0.05528095770522729, 0.044209509361482956, 0.031745840459068614, 0.017966041941118966, 0.0029779491154211806, -0.013073952151520388, -0.030004497243790427, -0.04758506314163741, -0.06554239869174844, -0.08355939645450051, -0.10127808535368477, -0.11830504740258321, -0.13421936300715656, -0.14858307017251748, -0.1609539875623888, -0.17090060569317098, -0.17801860199902664, -0.18194839266053625, -0.18239300622958532, -0.17913546063850083, -0.17205475511311313, -0.16113955966514656, -0.1464987033293174, -0.1283676319466868, -0.10711012813756442, -0.08321475815193494, -0.0572857273340844, -0.03002807965783915, -0.0022274559793407315, 0.025275083284098894, 0.05161237775613617, 0.0759235678781371, 0.09738828403656238], [0.0993958462307399, 0.07773008237271903, 0.05298490441364873, 0.026026147564044762, -0.0022274559793407315, -0.030841885736018544, -0.05890402451081101, -0.08555491563889543, -0.11001880232017779, -0.1316269478872783, -0.14983554931501694, -0.1642373823959323, -0.17456713788189782, -0.1807007071005138, -0.18264893898060253, -0.18054660691367944, -0.17463748569481502, -0.16525654180237792, -0.1528102839666787, -0.1377563081818195, -0.12058300781296416, -0.10179031338845618, -0.08187218787401292, -0.061301442485772274, -0.040517266401149735, -0.019915691575644292, 0.0001569493213448689, 0.019407660252202565, 0.03759772656874239, 0.054541276561040686, 0.07010183827093616, 0.08418731130237875, 0.09674378883254962, 0.10774865812501504, 0.11720338291232232, 0.12512633286074154, 0.13154597877649798, 0.13649472168344115, 0.14000357308347133, 0.14209785531573388, 0.14279404657238684, 0.14209785531573388, 0.14000357308347133, 0.13649472168344115, 0.13154597877649798, 0.12512633286074154, 0.11720338291232232, 0.10774865812501504, 0.09674378883254962, 0.08418731130237875, 0.07010183827093616, 0.054541276561040686, 0.03759772656874239, 0.019407660252202565, 0.0001569493213448689, -0.019915691575644292, -0.040517266401149735, -0.061301442485772274, -0.08187218787401292, -0.10179031338845618, -0.12058300781296416, -0.1377563081818195, -0.1528102839666787, -0.16525654180237792, -0.17463748569481502, -0.18054660691367944, -0.18264893898060253, -0.1807007071005138, -0.17456713788189782, -0.1642373823959323, -0.14983554931501694, -0.1316269478872783, -0.11001880232017779, -0.08555491563889543, -0.05890402451081101, -0.030841885736018544, -0.0022274559793407315, 0.026026147564044762, 0.05298490441364873, 0.07773008237271903], [0.08069235790121831, 0.05570574218106777, 0.028270310898122826, -0.0006409754282528475, -0.03002807965783915, -0.05890402451081101, -0.08633239590937543, -0.1114606806231028, -0.13354819579908725, -0.15198770280837584, -0.16632015713858264, -0.17624240938958516, -0.18160802037610754, -0.18242166855756492, -0.1788278960809016, -0.17109514979541934, -0.15959621882048483, -0.14478624788034108, -0.1271795169340972, -0.10732612754693129, -0.0857896329957062, -0.0631265026963309, -0.039868134180728126, -0.016505930263581485, 0.0065202421682302655, 0.02883009042098063, 0.05010748884225075, 0.07010183827093616, 0.08862652853638416, 0.10555493165712146, 0.12081441070397907, 0.13437885433763305, 0.14626024334832619, 0.15649972810645998, 0.16515865057394133, 0.17230988766358785, 0.17802983029511174, 0.18239124981424537, 0.18545724476618586, 0.18727640924644018, 0.18787932061729182, 0.18727640924644018, 0.18545724476618586, 0.18239124981424537, 0.17802983029511174, 0.17230988766358785, 0.16515865057394133, 0.15649972810645998, 0.14626024334832619, 0.13437885433763305, 0.12081441070397907, 0.10555493165712146, 0.08862652853638416, 0.07010183827093616, 0.05010748884225075, 0.02883009042098063, 0.0065202421682302655, -0.016505930263581485, -0.039868134180728126, -0.0631265026963309, -0.0857896329957062, -0.10732612754693129, -0.1271795169340972, -0.14478624788034108, -0.15959621882048483, -0.17109514979541934, -0.1788278960809016, -0.18242166855756492, -0.18160802037610754, -0.17624240938958516, -0.16632015713858264, -0.15198770280837584, -0.13354819579908725, -0.1114606806231028, -0.08633239590937543, -0.05890402451081101, -0.03002807965783915, -0.0006409754282528475, 0.028270310898122826, 0.05570574218106777], [0.059725017515438364, 0.03197958453286062, 0.0025207381574719806, -0.027588123185645037, -0.0572857273340844, -0.08555491563889543, -0.1114606806231028, -0.13418273806183595, -0.15304146672549196, -0.16751643729146143, -0.17725715646546372, -0.18208605074549258, -0.18199408570471504, -0.17712974307464055, -0.16778234479339135, -0.1543609103022869, -0.13736985507049018, -0.11738288358628372, -0.0950164022704569, -0.07090368426500879, -0.045670869380806056, -0.019915691575644292, 0.0058103924762656495, 0.031016232090896562, 0.05528095770522729, 0.07825990831739421, 0.09968670899986165, 0.11937185506223688, 0.13719827990417027, 0.15311446345017118, 0.16712567793535366, 0.1792839709402817, 0.18967745729212915, 0.19841943861188654, 0.20563779959612533, 0.21146505144444128, 0.21602931256266372, 0.21944644111666822, 0.22181346801290225, 0.2232034254780841, 0.22366162672468853, 0.2232034254780841, 0.22181346801290225, 0.21944644111666822, 0.21602931256266372, 0.21146505144444128, 0.20563779959612533, 0.19841943861188654, 0.18967745729212915, 0.1792839709402817, 0.16712567793535366, 0.15311446345017118, 0.13719827990417027, 0.11937185506223688, 0.09968670899986165, 0.07825990831739421, 0.05528095770522729, 0.031016232090896562, 0.0058103924762656495, -0.019915691575644292, -0.045670869380806056, -0.07090368426500879, -0.0950164022704569, -0.11738288358628372, -0.13736985507049018, -0.1543609103022869, -0.16778234479339135, -0.17712974307464055, -0.18199408570471504, -0.18208605074549258, -0.17725715646546372, -0.16751643729146143, -0.15304146672549196, -0.13418273806183595, -0.1114606806231028, -0.08555491563889543, -0.0572857273340844, -0.027588123185645037, 0.0025207381574719806, 0.03197958453286062], [0.037104384846577534, 0.007233082355737275, -0.023527608249201665, -0.054043516875550875, -0.08321475815193494, -0.11001880232017779, -0.13354819579908725, -0.15304146672549196, -0.167906160972842, -0.17773339606034183, -0.18230376872794093, -0.18158488243001691, -0.17572115154133375, -0.16501687105976595, -0.1499137997580331, -0.13096468174943518, -0.10880422217787396, -0.08411903827788304, -0.05761803324395176, -0.030004497243790427, -0.001951040868825416, 0.025921773001301992, 0.05306249567952219, 0.07900122348247962, 0.10335731863015635, 0.1258425822940911, 0.14626024334832619, 0.16450028494360933, 0.18053174205108255, 0.1943926655354523, 0.2061784643801796, 0.21602931256266372, 0.22411724822563847, 0.23063350923189954, 0.23577655069724138, 0.23974108638511749, 0.242708395806646, 0.24483804991090946, 0.24626113579560338, 0.24707500803079696, 0.24733956165584545, 0.24707500803079696, 0.24626113579560338, 0.24483804991090946, 0.242708395806646, 0.23974108638511749, 0.23577655069724138, 0.23063350923189954, 0.22411724822563847, 0.21602931256266372, 0.2061784643801796, 0.1943926655354523, 0.18053174205108255, 0.16450028494360933, 0.14626024334832619, 0.1258425822940911, 0.10335731863015635, 0.07900122348247962, 0.05306249567952219, 0.025921773001301992, -0.001951040868825416, -0.030004497243790427, -0.05761803324395176, -0.08411903827788304, -0.10880422217787396, -0.13096468174943518, -0.1499137997580331, -0.16501687105976595, -0.17572115154133375, -0.18158488243001691, -0.18230376872794093, -0.17773339606034183, -0.167906160972842, -0.15304146672549196, -0.13354819579908725, -0.11001880232017779, -0.08321475815193494, -0.054043516875550875, -0.023527608249201665, 0.007233082355737275], [0.013454008098850966, -0.017859822184363938, -0.04916880920228074, -0.07929019757294747, -0.10711012813756442, -0.1316269478872783, -0.15198770280837584, -0.16751643729146143, -0.17773339606034183, -0.18236471957976835, -0.18134271385500067, -0.1747972342928682, -0.16303912773542587, -0.14653700801271363, -0.1258888846262905, -0.10179031338845618, -0.0750007897964791, -0.046310064114579955, -0.016505930263581485, 0.013655158230898757, 0.043473546354522816, 0.07232710218505171, 0.09968670899986165, 0.12512633286074154, 0.14832776112580212, 0.16908036038891633, 0.18727640924644018, 0.20290271423033404, 0.21602931256266372, 0.22679610352037188, 0.23539823538075702, 0.2420710146043941, 0.24707500803079696, 0.2506818889186662, 0.2531614457800734, 0.25477004091850136, 0.2557406839380664, 0.2562747828163765, 0.25653555744366946, 0.2566430509401283, 0.2566706526738519, 0.2566430509401283, 0.25653555744366946, 0.2562747828163765, 0.2557406839380664, 0.25477004091850136, 0.2531614457800734, 0.2506818889186662, 0.24707500803079696, 0.2420710146043941, 0.23539823538075702, 0.22679610352037188, 0.21602931256266372, 0.20290271423033404, 0.18727640924644018, 0.16908036038891633, 0.14832776112580212, 0.12512633286074154, 0.09968670899986165, 0.07232710218505171, 0.043473546354522816, 0.013655158230898757, -0.016505930263581485, -0.046310064114579955, -0.0750007897964791, -0.10179031338845618, -0.1258888846262905, -0.14653700801271363, -0.16303912773542587, -0.1747972342928682, -0.18134271385500067, -0.18236471957976835, -0.17773339606034183, -0.16751643729146143, -0.15198770280837584, -0.1316269478872783, -0.10711012813756442, -0.07929019757294747, -0.04916880920228074, -0.017859822184363938], [-0.01061150357619211, -0.042655257000177006, -0.07374973820785838, -0.10268778525178764, -0.1283676319466868, -0.14983554931501694, -0.16632015713858264, -0.17725715646546372, -0.18230376872794093, -0.18134271385500067, -0.17447608825271163, -0.16200998595397612, -0.14443111863131364, -0.12237701362727325, -0.09660159075517502, -0.06793803188546253, -0.03726086233570953, -0.005449066140771361, 0.026648129724923395, 0.058241427706856384, 0.08862652853638416, 0.11720338291232232, 0.14348926836260514, 0.16712567793535366, 0.18787932061729182, 0.20563779959612533, 0.22040074178662336, 0.23226729318028777, 0.24142096714711753, 0.24811283911536614, 0.25264402764959015, 0.255348298963932, 0.256575492104657, 0.2566762997375786, 0.2559887694405144, 0.2548267267047997, 0.25347017586536014, 0.252157618714697, 0.25108014921898075, 0.25037713957121355, 0.25013332713993036, 0.25037713957121355, 0.25108014921898075, 0.252157618714697, 0.25347017586536014, 0.2548267267047997, 0.2559887694405144, 0.2566762997375786, 0.256575492104657, 0.255348298963932, 0.25264402764959015, 0.24811283911536614, 0.24142096714711753, 0.23226729318028777, 0.22040074178662336, 0.20563779959612533, 0.18787932061729182, 0.16712567793535366, 0.14348926836260514, 0.11720338291232232, 0.08862652853638416, 0.058241427706856384, 0.026648129724923395, -0.005449066140771361, -0.03726086233570953, -0.06793803188546253, -0.09660159075517502, -0.12237701362727325, -0.14443111863131364, -0.16200998595397612, -0.17447608825271163, -0.18134271385500067, -0.18230376872794093, -0.17725715646546372, -0.16632015713858264, -0.14983554931501694, -0.1283676319466868, -0.10268778525178764, -0.07374973820785838, -0.042655257000177006], [-0.0345063152690242, -0.06655906279410359, -0.09668883252747353, -0.12368964794720452, -0.1464987033293174, -0.1642373823959323, -0.17624240938958516, -0.18208605074549258, -0.18158488243001691, -0.1747972342928682, -0.16200998595397612, -0.1437158894806465, -0.12058300781296416, -0.09341816596346665, -0.0631265026963309, -0.03066927919323432, 0.0029779491154211806, 0.03686485131708162, 0.07010183827093616, 0.1018902143955224, 0.13154597877649798, 0.15851669454452746, 0.18239124981424537, 0.20290271423033404, 0.21992483146863692, 0.23346296309158113, 0.24364050109720906, 0.2506818889186662, 0.254893432701845, 0.2566430509401283, 0.2563400102730029, 0.25441554164532254, 0.25130504004127213, 0.24743234013685533, 0.2431963471432226, 0.23896010343988033, 0.23504220166614895, 0.2317103248693539, 0.22917661128094333, 0.22759450814784551, 0.2270567942100705, 0.22759450814784551, 0.22917661128094333, 0.2317103248693539, 0.23504220166614895, 0.23896010343988033, 0.2431963471432226, 0.24743234013685533, 0.25130504004127213, 0.25441554164532254, 0.2563400102730029, 0.2566430509401283, 0.254893432701845, 0.2506818889186662, 0.24364050109720906, 0.23346296309158113, 0.21992483146863692, 0.20290271423033404, 0.18239124981424537, 0.15851669454452746, 0.13154597877649798, 0.1018902143955224, 0.07010183827093616, 0.03686485131708162, 0.0029779491154211806, -0.03066927919323432, -0.0631265026963309, -0.09341816596346665, -0.12058300781296416, -0.1437158894806465, -0.16200998595397612, -0.1747972342928682, -0.18158488243001691, -0.18208605074549258, -0.17624240938958516, -0.1642373823959323, -0.1464987033293174, -0.12368964794720452, -0.09668883252747353, -0.06655906279410359], [-0.05769048962428924, -0.08904297911487404, -0.11749065565570795, -0.14185512230149663, -0.16113955966514656, -0.17456713788189782, -0.18160802037610754, -0.18199408570471504, -0.17572115154133375, -0.16303912773542587, -0.14443111863131364, -0.12058300781296416, -0.09234546620178369, -0.060690608986011814, -0.026665677985416577, 0.008653858363151095, 0.044209509361482956, 0.07900122348247962, 0.11212338767979044, 0.14279404657238684, 0.17037647050011584, 0.1943926655354523, 0.2145288714461612, 0.23063350923189954, 0.242708395806646, 0.2508943222213973, 0.2554522819126627, 0.2567417315441088, 0.25519727019112654, 0.25130504004127213, 0.2455799958764798, 0.23854497801642713, 0.23071227369415245, 0.2225680860000738, 0.21456006847846779, 0.2070878465419809, 0.20049625055173417, 0.19507084218595108, 0.19103523332295086, 0.18854967763954522, 0.18771045677679687, 0.18854967763954522, 0.19103523332295086, 0.19507084218595108, 0.20049625055173417, 0.2070878465419809, 0.21456006847846779, 0.2225680860000738, 0.23071227369415245, 0.23854497801642713, 0.2455799958764798, 0.25130504004127213, 0.25519727019112654, 0.2567417315441088, 0.2554522819126627, 0.2508943222213973, 0.242708395806646, 0.23063350923189954, 0.2145288714461612, 0.1943926655354523, 0.17037647050011584, 0.14279404657238684, 0.11212338767979044, 0.07900122348247962, 0.044209509361482956, 0.008653858363151095, -0.026665677985416577, -0.060690608986011814, -0.09234546620178369, -0.12058300781296416, -0.14443111863131364, -0.16303912773542587, -0.17572115154133375, -0.18199408570471504, -0.18160802037610754, -0.17456713788189782, -0.16113955966514656, -0.14185512230149663, -0.11749065565570795, -0.08904297911487404], [-0.07968395387291566, -0.10965701691843574, -0.13575600794040762, -0.15685668268767797, -0.17205475511311313, -0.1807007071005138, -0.18242166855756492, -0.17712974307464055, -0.16501687105976595, -0.14653700801271363, -0.12237701362727325, -0.09341816596346665, -0.060690608986011814, -0.02532329427921568, 0.011507919583092052, 0.04863139306208121, 0.08492762656935865, 0.11937185506223688, 0.15106960365711752, 0.1792839709402817, 0.20345392533496165, 0.2232034254780841, 0.2383416766936446, 0.24885528388828942, 0.254893432701845, 0.25674750760048576, 0.2548267267047997, 0.24963143467045815, 0.24172565029557566, 0.2317103248693539, 0.22019854657881394, 0.20779364608280457, 0.19507084218595108, 0.18256273925541686, 0.17074867404778504, 0.16004763127913005, 0.15081422331281308, 0.1433370736825879, 0.13783886506830845, 0.134477311926808, 0.1333463922312941, 0.134477311926808, 0.13783886506830845, 0.1433370736825879, 0.15081422331281308, 0.16004763127913005, 0.17074867404778504, 0.18256273925541686, 0.19507084218595108, 0.20779364608280457, 0.22019854657881394, 0.2317103248693539, 0.24172565029557566, 0.24963143467045815, 0.2548267267047997, 0.25674750760048576, 0.254893432701845, 0.24885528388828942, 0.2383416766936446, 0.2232034254780841, 0.20345392533496165, 0.1792839709402817, 0.15106960365711752, 0.11937185506223688, 0.08492762656935865, 0.04863139306208121, 0.011507919583092052, -0.02532329427921568, -0.060690608986011814, -0.09341816596346665, -0.12237701362727325, -0.14653700801271363, -0.16501687105976595, -0.17712974307464055, -0.18242166855756492, -0.1807007071005138, -0.17205475511311313, -0.15685668268767797, -0.13575600794040762, -0.10965701691843574], [-0.10007704610444179, -0.12803786284735597, -0.1511875643863488, -0.16848219583369567, -0.17913546063850083, -0.18264893898060253, -0.1788278960809016, -0.16778234479339135, -0.1499137997580331, -0.1258888846262905, -0.09660159075517502, -0.0631265026963309, -0.026665677985416577, 0.011507919583092052, 0.05010748884225075, 0.0878871354792479, 0.12369173187889267, 0.15649972810645998, 0.18545724476618586, 0.20990234059772522, 0.22937894091767205, 0.24364050109720906, 0.25264402764959015, 0.25653555744366946, 0.25562857790064414, 0.25037713957121355, 0.2413455569066888, 0.22917661128094333, 0.21456006847846779, 0.1982031145119569, 0.18080401871815463, 0.1630299764243758, 0.14549969299473817, 0.12877087581897034, 0.11333242903336226, 0.09960082298540655, 0.08791985781076668, 0.07856287339249271, 0.07173638515428266, 0.06758414818694233, 0.0661907655654817, 0.06758414818694233, 0.07173638515428266, 0.07856287339249271, 0.08791985781076668, 0.09960082298540655, 0.11333242903336226, 0.12877087581897034, 0.14549969299473817, 0.1630299764243758, 0.18080401871815463, 0.1982031145119569, 0.21456006847846779, 0.22917661128094333, 0.2413455569066888, 0.25037713957121355, 0.25562857790064414, 0.25653555744366946, 0.25264402764959015, 0.24364050109720906, 0.22937894091767205, 0.20990234059772522, 0.18545724476618586, 0.15649972810645998, 0.12369173187889267, 0.0878871354792479, 0.05010748884225075, 0.011507919583092052, -0.026665677985416577, -0.0631265026963309, -0.09660159075517502, -0.1258888846262905, -0.1499137997580331, -0.16778234479339135, -0.1788278960809016, -0.18264893898060253, -0.17913546063850083, -0.16848219583369567, -0.1511875643863488, -0.12803786284735597], [-0.11853755153953284, -0.14391335124448024, -0.163591222139663, -0.17663261032673944, -0.18239300622958532, -0.18054660691367944, -0.17109514979541934, -0.1543609103022869, -0.13096468174943518, -0.10179031338845618, -0.06793803188546253, -0.03066927919323432, 0.008653858363151095, 0.04863139306208121, 0.0878871354792479, 0.12512633286074154, 0.15918658398472915, 0.1890798565922851, 0.21402402107025095, 0.23346296309158113, 0.24707500803079696, 0.25477004091850136, 0.2566762997375786, 0.25311832399967577, 0.24458792842044305, 0.2317103248693539, 0.2152076253393881, 0.19586192453391038, 0.17447999195279823, 0.15186131748507978, 0.12877087581897034, 0.10591753298818528, 0.08393854575868848, 0.06339013493636744, 0.044743679368913644, 0.02838670735216783, 0.014627580006334946, 0.0037025838949493145, -0.004215913110515241, -0.009011537058698997, -0.010617349295218181, -0.009011537058698997, -0.004215913110515241, 0.0037025838949493145, 0.014627580006334946, 0.02838670735216783, 0.044743679368913644, 0.06339013493636744, 0.08393854575868848, 0.10591753298818528, 0.12877087581897034, 0.15186131748507978, 0.17447999195279823, 0.19586192453391038, 0.2152076253393881, 0.2317103248693539, 0.24458792842044305, 0.25311832399967577, 0.2566762997375786, 0.25477004091850136, 0.24707500803079696, 0.23346296309158113, 0.21402402107025095, 0.1890798565922851, 0.15918658398472915, 0.12512633286074154, 0.0878871354792479, 0.04863139306208121, 0.008653858363151095, -0.03066927919323432, -0.06793803188546253, -0.10179031338845618, -0.13096468174943518, -0.1543609103022869, -0.17109514979541934, -0.18054660691367944, -0.18239300622958532, -0.17663261032673944, -0.163591222139663, -0.14391335124448024], [-0.13481430178982187, -0.15710321083861073, -0.17287351607260817, -0.18131560690315682, -0.18194839266053625, -0.17463748569481502, -0.15959621882048483, -0.13736985507049018, -0.10880422217787396, -0.0750007897964791, -0.03726086233570953, 0.0029779491154211806, 0.044209509361482956, 0.08492762656935865, 0.12369173187889267, 0.15918658398472915, 0.1902732638436695, 0.21602931256266372, 0.23577655069724138, 0.24909585663212155, 0.25582893038458626, 0.2560677827399544, 0.25013332713993036, 0.23854497801642713, 0.22198354690007724, 0.20124995852555586, 0.17722237538812438, 0.15081422331281308, 0.12293536517635703, 0.09445829662141196, 0.0661907655654817, 0.03885568116655977, 0.013078615468659323, -0.010617349295218181, -0.03181017613329085, -0.050171999808914604, -0.06545830501430487, -0.07749482277960204, -0.08616386191642225, -0.09139170665445415, -0.09313849939964196, -0.09139170665445415, -0.08616386191642225, -0.07749482277960204, -0.06545830501430487, -0.050171999808914604, -0.03181017613329085, -0.010617349295218181, 0.013078615468659323, 0.03885568116655977, 0.0661907655654817, 0.09445829662141196, 0.12293536517635703, 0.15081422331281308, 0.17722237538812438, 0.20124995852555586, 0.22198354690007724, 0.23854497801642713, 0.25013332713993036, 0.2560677827399544, 0.25582893038458626, 0.24909585663212155, 0.23577655069724138, 0.21602931256266372, 0.1902732638436695, 0.15918658398472915, 0.12369173187889267, 0.08492762656935865, 0.044209509361482956, 0.0029779491154211806, -0.03726086233570953, -0.0750007897964791, -0.10880422217787396, -0.13736985507049018, -0.15959621882048483, -0.17463748569481502, -0.18194839266053625, -0.18131560690315682, -0.17287351607260817, -0.15710321083861073], [-0.1487375524385824, -0.16751643729146143, -0.17903560277058095, -0.1826358700412797, -0.17801860199902664, -0.16525654180237792, -0.14478624788034108, -0.11738288358628372, -0.08411903827788304, -0.046310064114579955, -0.005449066140771361, 0.03686485131708162, 0.07900122348247962, 0.11937185506223688, 0.15649972810645998, 0.1890798565922851, 0.21602931256266372, 0.2365243422174828, 0.25002327766855664, 0.2562747828163765, 0.2553118000893658, 0.24743234013685533, 0.23316893482082693, 0.21324911772700825, 0.18854967763954522, 0.16004763127913005, 0.12877087581897034, 0.0957513146109, 0.06198291759831892, 0.02838670735216783, -0.004215913110515241, -0.03512071345143313, -0.06374895250625122, -0.08964697741323371, -0.11247819731414006, -0.132008995765264, -0.14809048863531396, -0.16063822727306362, -0.1696119802323752, -0.17499760171649797, -0.17679272260843765, -0.17499760171649797, -0.1696119802323752, -0.16063822727306362, -0.14809048863531396, -0.132008995765264, -0.11247819731414006, -0.08964697741323371, -0.06374895250625122, -0.03512071345143313, -0.004215913110515241, 0.02838670735216783, 0.06198291759831892, 0.0957513146109, 0.12877087581897034, 0.16004763127913005, 0.18854967763954522, 0.21324911772700825, 0.23316893482082693, 0.24743234013685533, 0.2553118000893658, 0.2562747828163765, 0.25002327766855664, 0.2365243422174828, 0.21602931256266372, 0.1890798565922851, 0.15649972810645998, 0.11937185506223688, 0.07900122348247962, 0.03686485131708162, -0.005449066140771361, -0.046310064114579955, -0.08411903827788304, -0.11738288358628372, -0.14478624788034108, -0.16525654180237792, -0.17801860199902664, -0.1826358700412797, -0.17903560277058095, -0.16751643729146143], [-0.16021647158282734, -0.1751457556394694, -0.1821644169794075, -0.18078273088932142, -0.17090060569317098, -0.1528102839666787, -0.1271795169340972, -0.0950164022704569, -0.05761803324395176, -0.016505930263581485, 0.026648129724923395, 0.07010183827093616, 0.11212338767979044, 0.15106960365711752, 0.18545724476618586, 0.21402402107025095, 0.23577655069724138, 0.25002327766855664, 0.25639126767027576, 0.2548267267047997, 0.2455799958764798, 0.22917661128094333, 0.2063767337439853, 0.17812580971586786, 0.14549969299473817, 0.1096476200446325, 0.07173638515428266, 0.032898814044057145, -0.005810793613848673, -0.043452159632214875, -0.0792240541655952, -0.11247819731414006, -0.1427221428215067, -0.1696119802323752, -0.1929363397545002, -0.2125937105436689, -0.22856545626592412, -0.24088710992360066, -0.24962054293732017, -0.254829433326894, -0.2565601183892334, -0.254829433326894, -0.24962054293732017, -0.24088710992360066, -0.22856545626592412, -0.2125937105436689, -0.1929363397545002, -0.1696119802323752, -0.1427221428215067, -0.11247819731414006, -0.0792240541655952, -0.043452159632214875, -0.005810793613848673, 0.032898814044057145, 0.07173638515428266, 0.1096476200446325, 0.14549969299473817, 0.17812580971586786, 0.2063767337439853, 0.22917661128094333, 0.2455799958764798, 0.2548267267047997, 0.25639126767027576, 0.25002327766855664, 0.23577655069724138, 0.21402402107025095, 0.18545724476618586, 0.15106960365711752, 0.11212338767979044, 0.07010183827093616, 0.026648129724923395, -0.016505930263581485, -0.05761803324395176, -0.0950164022704569, -0.1271795169340972, -0.1528102839666787, -0.17090060569317098, -0.18078273088932142, -0.1821644169794075, -0.1751457556394694], [-0.16923416092386775, -0.1800597155006458, -0.18242166855756492, -0.1760159755489718, -0.1609539875623888, -0.1377563081818195, -0.10732612754693129, -0.07090368426500879, -0.030004497243790427, 0.013655158230898757, 0.058241427706856384, 0.1018902143955224, 0.14279404657238684, 0.1792839709402817, 0.20990234059772522, 0.23346296309158113, 0.24909585663212155, 0.2562747828163765, 0.2548267267047997, 0.24492352037505036, 0.2270567942100705, 0.20199833430642128, 0.17074867404778504, 0.134477311926808, 0.09445829662141196, 0.05200503792795912, 0.00840808631479302, -0.03512071345143313, -0.07749482277960204, -0.1177881852505473, -0.15525760655490364, -0.18935183535374994, -0.21970771693043264, -0.24613461781837798, -0.268589046149572, -0.28714197491104243, -0.30194177876754097, -0.31317589634427284, -0.3210343185560354, -0.32567778292945404, -0.32721314035298743, -0.32567778292945404, -0.3210343185560354, -0.31317589634427284, -0.30194177876754097, -0.28714197491104243, -0.268589046149572, -0.24613461781837798, -0.21970771693043264, -0.18935183535374994, -0.15525760655490364, -0.1177881852505473, -0.07749482277960204, -0.03512071345143313, 0.00840808631479302, 0.05200503792795912, 0.09445829662141196, 0.134477311926808, 0.17074867404778504, 0.20199833430642128, 0.2270567942100705, 0.24492352037505036, 0.2548267267047997, 0.2562747828163765, 0.24909585663212155, 0.23346296309158113, 0.20990234059772522, 0.1792839709402817, 0.14279404657238684, 0.1018902143955224, 0.058241427706856384, 0.013655158230898757, -0.030004497243790427, -0.07090368426500879, -0.10732612754693129, -0.1377563081818195, -0.1609539875623888, -0.1760159755489718, -0.18242166855756492, -0.1800597155006458], [-0.17584069010379264, -0.18239300622958532, -0.1800313728705813, -0.16865061331126227, -0.14858307017251748, -0.12058300781296416, -0.0857896329957062, -0.045670869380806056, -0.001951040868825416, 0.043473546354522816, 0.08862652853638416, 0.13154597877649798, 0.17037647050011584, 0.20345392533496165, 0.22937894091767205, 0.24707500803079696, 0.25582893038458626, 0.2553118000893658, 0.2455799958764798, 0.2270567942100705, 0.20049625055173417, 0.16693195814109418, 0.12761407121954643, 0.08393854575868848, 0.037372873633869375, -0.010617349295218181, -0.05863687417657578, -0.10542055787501849, -0.14988136590815446, -0.19114437378651342, -0.22856545626592412, -0.2617343483375656, -0.29046275344788247, -0.31475910259630246, -0.33479237619194996, -0.35084804028714445, -0.3632795822101567, -0.37245933283868765, -0.3787322233669178, -0.382375848005458, -0.3835697098652554, -0.382375848005458, -0.3787322233669178, -0.37245933283868765, -0.3632795822101567, -0.35084804028714445, -0.33479237619194996, -0.31475910259630246, -0.29046275344788247, -0.2617343483375656, -0.22856545626592412, -0.19114437378651342, -0.14988136590815446, -0.10542055787501849, -0.05863687417657578, -0.010617349295218181, 0.037372873633869375, 0.08393854575868848, 0.12761407121954643, 0.16693195814109418, 0.20049625055173417, 0.2270567942100705, 0.2455799958764798, 0.2553118000893658, 0.25582893038458626, 0.24707500803079696, 0.22937894091767205, 0.20345392533496165, 0.17037647050011584, 0.13154597877649798, 0.08862652853638416, 0.043473546354522816, -0.001951040868825416, -0.045670869380806056, -0.0857896329957062, -0.12058300781296416, -0.14858307017251748, -0.16865061331126227, -0.1800313728705813, -0.18239300622958532], [-0.1801446545297837, -0.18233559039097344, -0.1752665961050691, -0.15904136091487175, -0.13421936300715656, -0.10179031338845618, -0.0631265026963309, -0.019915691575644292, 0.025921773001301992, 0.07232710218505171, 0.11720338291232232, 0.15851669454452746, 0.1943926655354523, 0.2232034254780841, 0.24364050109720906, 0.25477004091850136, 0.2560677827399544, 0.24743234013685533, 0.22917661128094333, 0.20199833430642128, 0.16693195814109418, 0.12528500092613942, 0.07856287339249271, 0.02838670735216783, -0.02359098016854476, -0.0757679524450742, -0.12666669235949252, -0.17499760171649797, -0.21970771693043264, -0.26001264723920775, -0.29541051237375787, -0.32567778292945404, -0.35084804028714445, -0.37117570680030565, -0.38708768931988075, -0.3991265770886398, -0.407889497747319, -0.41396693622794944, -0.417885750201407, -0.4200602785751461, -0.4207548585159486, -0.4200602785751461, -0.417885750201407, -0.41396693622794944, -0.407889497747319, -0.3991265770886398, -0.38708768931988075, -0.37117570680030565, -0.35084804028714445, -0.32567778292945404, -0.29541051237375787, -0.26001264723920775, -0.21970771693043264, -0.17499760171649797, -0.12666669235949252, -0.0757679524450742, -0.02359098016854476, 0.02838670735216783, 0.07856287339249271, 0.12528500092613942, 0.16693195814109418, 0.20199833430642128, 0.22917661128094333, 0.24743234013685533, 0.2560677827399544, 0.25477004091850136, 0.24364050109720906, 0.2232034254780841, 0.1943926655354523, 0.15851669454452746, 0.11720338291232232, 0.07232710218505171, 0.025921773001301992, -0.019915691575644292, -0.0631265026963309, -0.10179031338845618, -0.13421936300715656, -0.15904136091487175, -0.1752665961050691, -0.18233559039097344], [-0.18230376872794093, -0.18012123502583363, -0.16843605361995675, -0.14756752732225356, -0.11830504740258321, -0.08187218787401292, -0.039868134180728126, 0.0058103924762656495, 0.05306249567952219, 0.09968670899986165, 0.14348926836260514, 0.18239124981424537, 0.2145288714461612, 0.2383416766936446, 0.25264402764959015, 0.2566762997375786, 0.25013332713993036, 0.23316893482082693, 0.2063767337439853, 0.17074867404778504, 0.12761407121954643, 0.07856287339249271, 0.02535776443828009, -0.030159748399708135, -0.08616386191642225, -0.1409342819269669, -0.1929363397545002, -0.24088710992360066, -0.2838041182964338, -0.3210343185560354, -0.35226222727992795, -0.37749737145928347, -0.3970424421347404, -0.41144469052055266, -0.42143408131469146, -0.42785247459104203, -0.43157859884674826, -0.4334537754581445, -0.434213248547002, -0.43442757176285574, -0.43445783007337646, -0.43442757176285574, -0.434213248547002, -0.4334537754581445, -0.43157859884674826, -0.42785247459104203, -0.42143408131469146, -0.41144469052055266, -0.3970424421347404, -0.37749737145928347, -0.35226222727992795, -0.3210343185560354, -0.2838041182964338, -0.24088710992360066, -0.1929363397545002, -0.1409342819269669, -0.08616386191642225, -0.030159748399708135, 0.02535776443828009, 0.07856287339249271, 0.12761407121954643, 0.17074867404778504, 0.2063767337439853, 0.23316893482082693, 0.25013332713993036, 0.2566762997375786, 0.25264402764959015, 0.2383416766936446, 0.2145288714461612, 0.18239124981424537, 0.14348926836260514, 0.09968670899986165, 0.05306249567952219, 0.0058103924762656495, -0.039868134180728126, -0.08187218787401292, -0.11830504740258321, -0.14756752732225356, -0.16843605361995675, -0.18012123502583363], [-0.18251498442862385, -0.1760159755489718, -0.15987112992755653, -0.13461888616197776, -0.10127808535368477, -0.061301442485772274, -0.016505930263581485, 0.031016232090896562, 0.07900122348247962, 0.12512633286074154, 0.16712567793535366, 0.20290271423033404, 0.23063350923189954, 0.24885528388828942, 0.25653555744366946, 0.25311832399967577, 0.23854497801642713, 0.21324911772700825, 0.17812580971586786, 0.134477311926808, 0.08393854575868848, 0.02838670735216783, -0.030159748399708135, -0.08964697741323371, -0.14809048863531396, -0.2036729142303004, -0.254829433326894, -0.3003162506586467, -0.3392585664190622, -0.37117570680030565, -0.39598244357893553, -0.41396693622794944, -0.42574709936268906, -0.43220845214435083, -0.43442757176285574, -0.4335860886421158, -0.4308806796227811, -0.4274347075936389, -0.42421701152445723, -0.42197287899622543, -0.421171462695804, -0.42197287899622543, -0.42421701152445723, -0.4274347075936389, -0.4308806796227811, -0.4335860886421158, -0.43442757176285574, -0.43220845214435083, -0.42574709936268906, -0.41396693622794944, -0.39598244357893553, -0.37117570680030565, -0.3392585664190622, -0.3003162506586467, -0.254829433326894, -0.2036729142303004, -0.14809048863531396, -0.08964697741323371, -0.030159748399708135, 0.02838670735216783, 0.08393854575868848, 0.134477311926808, 0.17812580971586786, 0.21324911772700825, 0.23854497801642713, 0.25311832399967577, 0.25653555744366946, 0.24885528388828942, 0.23063350923189954, 0.20290271423033404, 0.16712567793535366, 0.12512633286074154, 0.07900122348247962, 0.031016232090896562, -0.016505930263581485, -0.061301442485772274, -0.10127808535368477, -0.13461888616197776, -0.15987112992755653, -0.1760159755489718], [-0.18100457917857166, -0.17030698199702413, -0.1499137997580331, -0.12058300781296416, -0.08355939645450051, -0.040517266401149735, 0.0065202421682302655, 0.05528095770522729, 0.10335731863015635, 0.14832776112580212, 0.18787932061729182, 0.21992483146863692, 0.242708395806646, 0.254893432701845, 0.25562857790064414, 0.24458792842044305, 0.22198354690007724, 0.18854967763954522, 0.14549969299473817, 0.09445829662141196, 0.037372873633869375, -0.02359098016854476, -0.08616386191642225, -0.14809048863531396, -0.20724458052139974, -0.2617343483375656, -0.309992807249447, -0.35084804028714445, -0.3835697098652554, -0.407889497747319, -0.42399466300627076, -0.43249545715781157, -0.43436863670247905, -0.4308806796227811, -0.42349546556438716, -0.4137720534188708, -0.40325873487122593, -0.39338972722403176, -0.3853906832849483, -0.3801986514917913, -0.3784012476539641, -0.3801986514917913, -0.3853906832849483, -0.39338972722403176, -0.40325873487122593, -0.4137720534188708, -0.42349546556438716, -0.4308806796227811, -0.43436863670247905, -0.43249545715781157, -0.42399466300627076, -0.407889497747319, -0.3835697098652554, -0.35084804028714445, -0.309992807249447, -0.2617343483375656, -0.20724458052139974, -0.14809048863531396, -0.08616386191642225, -0.02359098016854476, 0.037372873633869375, 0.09445829662141196, 0.14549969299473817, 0.18854967763954522, 0.22198354690007724, 0.24458792842044305, 0.25562857790064414, 0.254893432701845, 0.242708395806646, 0.21992483146863692, 0.18787932061729182, 0.14832776112580212, 0.10335731863015635, 0.05528095770522729, 0.0065202421682302655, -0.040517266401149735, -0.08355939645450051, -0.12058300781296416, -0.1499137997580331, -0.17030698199702413], [-0.17801860199902664, -0.16329221750830802, -0.13890582780165694, -0.10583439818051152, -0.06554239869174844, -0.019915691575644292, 0.02883009042098063, 0.07825990831739421, 0.1258425822940911, 0.16908036038891633, 0.20563779959612533, 0.23346296309158113, 0.2508943222213973, 0.25674750760048576, 0.25037713957121355, 0.2317103248693539, 0.20124995852555586, 0.16004763127913005, 0.1096476200446325, 0.05200503792795912, -0.010617349295218181, -0.0757679524450742, -0.1409342819269669, -0.2036729142303004, -0.2617343483375656, -0.31317589634427284, -0.3564564355250057, -0.3905078789395116, -0.4147795406040892, -0.42925310491460716, -0.43442757176285574, -0.4312752446188071, -0.421171462695804, -0.40580225753498556, -0.38705535500366767, -0.36690087535799776, -0.3472686537517362, -0.32992927901128904, -0.3163857196862348, -0.3077817863653888, -0.30483270332925, -0.3077817863653888, -0.3163857196862348, -0.32992927901128904, -0.3472686537517362, -0.36690087535799776, -0.38705535500366767, -0.40580225753498556, -0.421171462695804, -0.4312752446188071, -0.43442757176285574, -0.42925310491460716, -0.4147795406040892, -0.3905078789395116, -0.3564564355250057, -0.31317589634427284, -0.2617343483375656, -0.2036729142303004, -0.1409342819269669, -0.0757679524450742, -0.010617349295218181, 0.05200503792795912, 0.1096476200446325, 0.16004763127913005, 0.20124995852555586, 0.2317103248693539, 0.25037713957121355, 0.25674750760048576, 0.2508943222213973, 0.23346296309158113, 0.20563779959612533, 0.16908036038891633, 0.1258425822940911, 0.07825990831739421, 0.02883009042098063, -0.019915691575644292, -0.06554239869174844, -0.10583439818051152, -0.13890582780165694, -0.16329221750830802], [-0.1738139924448547, -0.15527119023634722, -0.1271795169340972, -0.0907256642328181, -0.04758506314163741, 0.0001569493213448689, 0.05010748884225075, 0.09968670899986165, 0.14626024334832619, 0.18727640924644018, 0.22040074178662336, 0.24364050109720906, 0.2554522819126627, 0.2548267267047997, 0.2413455569066888, 0.2152076253393881, 0.17722237538812438, 0.12877087581897034, 0.07173638515428266, 0.00840808631479302, -0.05863687417657578, -0.12666669235949252, -0.1929363397545002, -0.254829433326894, -0.309992807249447, -0.3564564355250057, -0.39273214882544505, -0.417885750201407, -0.43157859884674826, -0.434076417833265, -0.42622489689420734, -0.4093935036702951, -0.3853906832849483, -0.35635521764627226, -0.324629843053556, -0.2926242127644853, -0.2626748843273063, -0.23691017597600564, -0.21712746254366178, -0.20468978410715197, -0.20044755867978276, -0.20468978410715197, -0.21712746254366178, -0.23691017597600564, -0.2626748843273063, -0.2926242127644853, -0.324629843053556, -0.35635521764627226, -0.3853906832849483, -0.4093935036702951, -0.42622489689420734, -0.434076417833265, -0.43157859884674826, -0.417885750201407, -0.39273214882544505, -0.3564564355250057, -0.309992807249447, -0.254829433326894, -0.1929363397545002, -0.12666669235949252, -0.05863687417657578, 0.00840808631479302, 0.07173638515428266, 0.12877087581897034, 0.17722237538812438, 0.2152076253393881, 0.2413455569066888, 0.2548267267047997, 0.2554522819126627, 0.24364050109720906, 0.22040074178662336, 0.18727640924644018, 0.14626024334832619, 0.09968670899986165, 0.05010748884225075, 0.0001569493213448689, -0.04758506314163741, -0.0907256642328181, -0.1271795169340972, -0.15527119023634722], [-0.16865061331126227, -0.14653700801271363, -0.11505016730310495, -0.07558080422426758, -0.030004497243790427, 0.019407660252202565, 0.07010183827093616, 0.11937185506223688, 0.16450028494360933, 0.20290271423033404, 0.23226729318028777, 0.2506818889186662, 0.2567417315441088, 0.24963143467045815, 0.22917661128094333, 0.19586192453391038, 0.15081422331281308, 0.0957513146109, 0.032898814044057145, -0.03512071345143313, -0.10542055787501849, -0.17499760171649797, -0.24088710992360066, -0.3003162506586467, -0.35084804028714445, -0.3905078789395116, -0.417885750201407, -0.43220845214435083, -0.4333778373354074, -0.42197287899622543, -0.39921534828629784, -0.36690087535799776, -0.32729906443176787, -0.28302803533990717, -0.23691017597600564, -0.19181693290541052, -0.15051108239111077, -0.11549507625799743, -0.08887373699192957, -0.0722388011028484, -0.06658162124929747, -0.0722388011028484, -0.08887373699192957, -0.11549507625799743, -0.15051108239111077, -0.19181693290541052, -0.23691017597600564, -0.28302803533990717, -0.32729906443176787, -0.36690087535799776, -0.39921534828629784, -0.42197287899622543, -0.4333778373354074, -0.43220845214435083, -0.417885750201407, -0.3905078789395116, -0.35084804028714445, -0.3003162506586467, -0.24088710992360066, -0.17499760171649797, -0.10542055787501849, -0.03512071345143313, 0.032898814044057145, 0.0957513146109, 0.15081422331281308, 0.19586192453391038, 0.22917661128094333, 0.24963143467045815, 0.2567417315441088, 0.2506818889186662, 0.23226729318028777, 0.20290271423033404, 0.16450028494360933, 0.11937185506223688, 0.07010183827093616, 0.019407660252202565, -0.030004497243790427, -0.07558080422426758, -0.11505016730310495, -0.14653700801271363], [-0.16278435980926842, -0.13736985507049018, -0.10281030706494565, -0.060690608986011814, -0.013073952151520388, 0.03759772656874239, 0.08862652853638416, 0.13719827990417027, 0.18053174205108255, 0.21602931256266372, 0.24142096714711753, 0.254893432701845, 0.25519727019112654, 0.24172565029557566, 0.21456006847846779, 0.17447999195279823, 0.12293536517635703, 0.06198291759831892, -0.005810793613848673, -0.07749482277960204, -0.14988136590815446, -0.21970771693043264, -0.2838041182964338, -0.3392585664190622, -0.3835697098652554, -0.4147795406040892, -0.43157859884674826, -0.4333778373354074, -0.4203430458705095, -0.39338972722403176, -0.3541384336243295, -0.30483270332925, -0.24822376277499153, -0.187427969950852, -0.1257644689695074, -0.06658162124929747, -0.0130814139378774, 0.03184881503912622, 0.0657883626364726, 0.08691073780520595, 0.0940800053732448, 0.08691073780520595, 0.0657883626364726, 0.03184881503912622, -0.0130814139378774, -0.06658162124929747, -0.1257644689695074, -0.187427969950852, -0.24822376277499153, -0.30483270332925, -0.3541384336243295, -0.39338972722403176, -0.4203430458705095, -0.4333778373354074, -0.43157859884674826, -0.4147795406040892, -0.3835697098652554, -0.3392585664190622, -0.2838041182964338, -0.21970771693043264, -0.14988136590815446, -0.07749482277960204, -0.005810793613848673, 0.06198291759831892, 0.12293536517635703, 0.17447999195279823, 0.21456006847846779, 0.24172565029557566, 0.25519727019112654, 0.254893432701845, 0.24142096714711753, 0.21602931256266372, 0.18053174205108255, 0.13719827990417027, 0.08862652853638416, 0.03759772656874239, -0.013073952151520388, -0.060690608986011814, -0.10281030706494565, -0.13736985507049018], [-0.15646143337355978, -0.12803192632998142, -0.0907256642328181, -0.046310064114579955, 0.0029779491154211806, 0.054541276561040686, 0.10555493165712146, 0.15311446345017118, 0.1943926655354523, 0.22679610352037188, 0.24811283911536614, 0.2566430509401283, 0.25130504004127213, 0.2317103248693539, 0.1982031145119569, 0.15186131748507978, 0.09445829662141196, 0.02838670735216783, -0.043452159632214875, -0.1177881852505473, -0.19114437378651342, -0.26001264723920775, -0.3210343185560354, -0.37117570680030565, -0.407889497747319, -0.42925310491460716, -0.434076417833265, -0.42197287899622543, -0.39338972722403176, -0.3495953826561967, -0.2926242127644853, -0.22518118755916025, -0.15051108239111077, -0.0722388011028484, 0.005811034304373925, 0.07980593576993696, 0.14609889758077332, 0.20141317105264114, 0.24300880867803662, 0.2688222513075441, 0.277571630583514, 0.2688222513075441, 0.24300880867803662, 0.20141317105264114, 0.14609889758077332, 0.07980593576993696, 0.005811034304373925, -0.0722388011028484, -0.15051108239111077, -0.22518118755916025, -0.2926242127644853, -0.3495953826561967, -0.39338972722403176, -0.42197287899622543, -0.434076417833265, -0.42925310491460716, -0.407889497747319, -0.37117570680030565, -0.3210343185560354, -0.26001264723920775, -0.19114437378651342, -0.1177881852505473, -0.043452159632214875, 0.02838670735216783, 0.09445829662141196, 0.15186131748507978, 0.1982031145119569, 0.2317103248693539, 0.25130504004127213, 0.2566430509401283, 0.24811283911536614, 0.22679610352037188, 0.1943926655354523, 0.15311446345017118, 0.10555493165712146, 0.054541276561040686, 0.0029779491154211806, -0.046310064114579955, -0.0907256642328181, -0.12803192632998142], [-0.1499137997580331, -0.11876378051842666, -0.07903277128303789, -0.032657564269347995, 0.017966041941118966, 0.07010183827093616, 0.12081441070397907, 0.16712567793535366, 0.2061784643801796, 0.23539823538075702, 0.25264402764959015, 0.2563400102730029, 0.2455799958764798, 0.22019854657881394, 0.18080401871815463, 0.12877087581897034, 0.0661907655654817, -0.004215913110515241, -0.0792240541655952, -0.15525760655490364, -0.22856545626592412, -0.29541051237375787, -0.35226222727992795, -0.39598244357893553, -0.42399466300627076, -0.43442757176285574, -0.42622489689420734, -0.39921534828629784, -0.3541384336243295, -0.2926242127644853, -0.21712746254366178, -0.13081912452072303, -0.03744017720227128, 0.05887491198907235, 0.1537963512162099, 0.24300880867803662, 0.32242214992953067, 0.38837235101706136, 0.43780226922078175, 0.4684129583840573, 0.47877771528316515, 0.4684129583840573, 0.43780226922078175, 0.38837235101706136, 0.32242214992953067, 0.24300880867803662, 0.1537963512162099, 0.05887491198907235, -0.03744017720227128, -0.13081912452072303, -0.21712746254366178, -0.2926242127644853, -0.3541384336243295, -0.39921534828629784, -0.42622489689420734, -0.43442757176285574, -0.42399466300627076, -0.39598244357893553, -0.35226222727992795, -0.29541051237375787, -0.22856545626592412, -0.15525760655490364, -0.0792240541655952, -0.004215913110515241, 0.0661907655654817, 0.12877087581897034, 0.18080401871815463, 0.22019854657881394, 0.2455799958764798, 0.2563400102730029, 0.25264402764959015, 0.23539823538075702, 0.2061784643801796, 0.16712567793535366, 0.12081441070397907, 0.07010183827093616, 0.017966041941118966, -0.032657564269347995, -0.07903277128303789, -0.11876378051842666], [-0.14335579129849668, -0.10978201113265723, -0.06793803188546253, -0.019915691575644292, 0.031745840459068614, 0.08418731130237875, 0.13437885433763305, 0.1792839709402817, 0.21602931256266372, 0.2420710146043941, 0.255348298963932, 0.25441554164532254, 0.23854497801642713, 0.20779364608280457, 0.1630299764243758, 0.10591753298818528, 0.03885568116655977, -0.03512071345143313, -0.11247819731414006, -0.18935183535374994, -0.2617343483375656, -0.32567778292945404, -0.37749737145928347, -0.41396693622794944, -0.43249545715781157, -0.4312752446188071, -0.4093935036702951, -0.36690087535799776, -0.30483270332925, -0.22518118755916025, -0.13081912452072303, -0.025378460035175753, 0.08691073780520595, 0.20141317105264114, 0.3133036361206578, 0.4177941096414197, 0.5103612401471838, 0.5869627944413911, 0.6442321103834694, 0.6796406846183429, 0.69162061945593, 0.6796406846183429, 0.6442321103834694, 0.5869627944413911, 0.5103612401471838, 0.4177941096414197, 0.3133036361206578, 0.20141317105264114, 0.08691073780520595, -0.025378460035175753, -0.13081912452072303, -0.22518118755916025, -0.30483270332925, -0.36690087535799776, -0.4093935036702951, -0.4312752446188071, -0.43249545715781157, -0.41396693622794944, -0.37749737145928347, -0.32567778292945404, -0.2617343483375656, -0.18935183535374994, -0.11247819731414006, -0.03512071345143313, 0.03885568116655977, 0.10591753298818528, 0.1630299764243758, 0.20779364608280457, 0.23854497801642713, 0.25441554164532254, 0.255348298963932, 0.2420710146043941, 0.21602931256266372, 0.1792839709402817, 0.13437885433763305, 0.08418731130237875, 0.031745840459068614, -0.019915691575644292, -0.06793803188546253, -0.10978201113265723], [-0.13698176393514344, -0.10127808535368477, -0.05761803324395176, -0.00823327044894154, 0.044209509361482956, 0.09674378883254962, 0.14626024334832619, 0.18967745729212915, 0.22411724822563847, 0.24707500803079696, 0.256575492104657, 0.25130504004127213, 0.23071227369415245, 0.19507084218595108, 0.14549969299473817, 0.08393854575868848, 0.013078615468659323, -0.06374895250625122, -0.1427221428215067, -0.21970771693043264, -0.29046275344788247, -0.35084804028714445, -0.3970424421347404, -0.42574709936268906, -0.43436863670247905, -0.421171462695804, -0.3853906832849483, -0.32729906443176787, -0.24822376277499153, -0.15051108239111077, -0.03744017720227128, 0.08691073780520595, 0.21783961811686398, 0.35022902170777614, 0.47877771528316515, 0.5982441516081277, 0.7036898157513979, 0.7907103570985019, 0.8556429685382863, 0.8957396184216221, 0.9092974268256817, 0.8957396184216221, 0.8556429685382863, 0.7907103570985019, 0.7036898157513979, 0.5982441516081277, 0.47877771528316515, 0.35022902170777614, 0.21783961811686398, 0.08691073780520595, -0.03744017720227128, -0.15051108239111077, -0.24822376277499153, -0.32729906443176787, -0.3853906832849483, -0.421171462695804, -0.43436863670247905, -0.42574709936268906, -0.3970424421347404, -0.35084804028714445, -0.29046275344788247, -0.21970771693043264, -0.1427221428215067, -0.06374895250625122, 0.013078615468659323, 0.08393854575868848, 0.14549969299473817, 0.19507084218595108, 0.23071227369415245, 0.25130504004127213, 0.256575492104657, 0.24707500803079696, 0.22411724822563847, 0.18967745729212915, 0.14626024334832619, 0.09674378883254962, 0.044209509361482956, -0.00823327044894154, -0.05761803324395176, -0.10127808535368477], [-0.13096468174943518, -0.09341816596346665, -0.04822085787410071, 0.0022716100207446164, 0.05528095770522729, 0.10774865812501504, 0.15649972810645998, 0.19841943861188654, 0.23063350923189954, 0.2506818889186662, 0.2566762997375786, 0.24743234013685533, 0.2225680860000738, 0.18256273925541686, 0.12877087581897034, 0.06339013493636744, -0.010617349295218181, -0.08964697741323371, -0.1696119802323752, -0.24613461781837798, -0.31475910259630246, -0.37117570680030565, -0.41144469052055266, -0.43220845214435083, -0.4308806796227811, -0.40580225753498556, -0.35635521764627226, -0.28302803533990717, -0.187427969950852, -0.0722388011028484, 0.05887491198907235, 0.20141317105264114, 0.35022902170777614, 0.49975144871271493, 0.6442321103834694, 0.7780040258931075, 0.8957396184216221, 0.992695449836068, 1.0649315658049785, 1.1094945766040856, 1.124555367855928, 1.1094945766040856, 1.0649315658049785, 0.992695449836068, 0.8957396184216221, 0.7780040258931075, 0.6442321103834694, 0.49975144871271493, 0.35022902170777614, 0.20141317105264114, 0.05887491198907235, -0.0722388011028484, -0.187427969950852, -0.28302803533990717, -0.35635521764627226, -0.40580225753498556, -0.4308806796227811, -0.43220845214435083, -0.41144469052055266, -0.37117570680030565, -0.31475910259630246, -0.24613461781837798, -0.1696119802323752, -0.08964697741323371, -0.010617349295218181, 0.06339013493636744, 0.12877087581897034, 0.18256273925541686, 0.2225680860000738, 0.24743234013685533, 0.2566762997375786, 0.2506818889186662, 0.23063350923189954, 0.19841943861188654, 0.15649972810645998, 0.10774865812501504, 0.05528095770522729, 0.0022716100207446164, -0.04822085787410071, -0.09341816596346665], [-0.1254554756233313, -0.08634370978474622, -0.039868134180728126, 0.011507919583092052, 0.0649104168254659, 0.11720338291232232, 0.16515865057394133, 0.20563779959612533, 0.23577655069724138, 0.2531614457800734, 0.2559887694405144, 0.2431963471432226, 0.21456006847846779, 0.17074867404778504, 0.11333242903336226, 0.044743679368913644, -0.03181017613329085, -0.11247819731414006, -0.1929363397545002, -0.268589046149572, -0.33479237619194996, -0.38708768931988075, -0.42143408131469146, -0.43442757176285574, -0.42349546556438716, -0.38705535500366767, -0.324629843053556, -0.23691017597600564, -0.1257644689695074, 0.005811034304373925, 0.1537963512162099, 0.3133036361206578, 0.47877771528316515, 0.6442321103834694, 0.803509484779075, 0.9505541014891831, 1.0796831610910465, 1.1858438330909473, 1.2648434125627805, 1.3135412961886945, 1.3299933154720727, 1.3135412961886945, 1.2648434125627805, 1.1858438330909473, 1.0796831610910465, 0.9505541014891831, 0.803509484779075, 0.6442321103834694, 0.47877771528316515, 0.3133036361206578, 0.1537963512162099, 0.005811034304373925, -0.1257644689695074, -0.23691017597600564, -0.324629843053556, -0.38705535500366767, -0.42349546556438716, -0.43442757176285574, -0.42143408131469146, -0.38708768931988075, -0.33479237619194996, -0.268589046149572, -0.1929363397545002, -0.11247819731414006, -0.03181017613329085, 0.044743679368913644, 0.11333242903336226, 0.17074867404778504, 0.21456006847846779, 0.2431963471432226, 0.2559887694405144, 0.2531614457800734, 0.23577655069724138, 0.20563779959612533, 0.16515865057394133, 0.11720338291232232, 0.0649104168254659, 0.011507919583092052, -0.039868134180728126, -0.08634370978474622], [-0.12058300781296416, -0.08017262722723162, -0.032657564269347995, 0.019407660252202565, 0.07306884206017318, 0.12512633286074154, 0.17230988766358785, 0.21146505144444128, 0.23974108638511749, 0.25477004091850136, 0.2548267267047997, 0.23896010343988033, 0.2070878465419809, 0.16004763127913005, 0.09960082298540655, 0.02838670735216783, -0.050171999808914604, -0.132008995765264, -0.2125937105436689, -0.28714197491104243, -0.35084804028714445, -0.3991265770886398, -0.42785247459104203, -0.4335860886421158, -0.4137720534188708, -0.36690087535799776, -0.2926242127644853, -0.19181693290541052, -0.06658162124929747, 0.07980593576993696, 0.24300880867803662, 0.4177941096414197, 0.5982441516081277, 0.7780040258931075, 0.9505541014891831, 1.1094945766040856, 1.2488284837498442, 1.3632295064019535, 1.4482816142111579, 1.500678835049543, 1.518375390968938, 1.500678835049543, 1.4482816142111579, 1.3632295064019535, 1.2488284837498442, 1.1094945766040856, 0.9505541014891831, 0.7780040258931075, 0.5982441516081277, 0.4177941096414197, 0.24300880867803662, 0.07980593576993696, -0.06658162124929747, -0.19181693290541052, -0.2926242127644853, -0.36690087535799776, -0.4137720534188708, -0.4335860886421158, -0.42785247459104203, -0.3991265770886398, -0.35084804028714445, -0.28714197491104243, -0.2125937105436689, -0.132008995765264, -0.050171999808914604, 0.02838670735216783, 0.09960082298540655, 0.16004763127913005, 0.2070878465419809, 0.23896010343988033, 0.2548267267047997, 0.25477004091850136, 0.23974108638511749, 0.21146505144444128, 0.17230988766358785, 0.12512633286074154, 0.07306884206017318, 0.019407660252202565, -0.032657564269347995, -0.08017262722723162], [-0.1164544699167505, -0.0750007897964791, -0.026665677985416577, 0.025921773001301992, 0.07974244535617742, 0.13154597877649798, 0.17802983029511174, 0.21602931256266372, 0.242708395806646, 0.2557406839380664, 0.25347017586536014, 0.23504220166614895, 0.20049625055173417, 0.15081422331281308, 0.08791985781076668, 0.014627580006334946, -0.06545830501430487, -0.14809048863531396, -0.22856545626592412, -0.30194177876754097, -0.3632795822101567, -0.407889497747319, -0.43157859884674826, -0.4308806796227811, -0.40325873487122593, -0.3472686537517362, -0.2626748843273063, -0.15051108239111077, -0.0130814139378774, 0.14609889758077332, 0.32242214992953067, 0.5103612401471838, 0.7036898157513979, 0.8957396184216221, 1.0796831610910465, 1.2488284837498442, 1.3969119972732167, 1.518375390968938, 1.608613254431116, 1.6641794167481594, 1.682941969615793, 1.6641794167481594, 1.608613254431116, 1.518375390968938, 1.3969119972732167, 1.2488284837498442, 1.0796831610910465, 0.8957396184216221, 0.7036898157513979, 0.5103612401471838, 0.32242214992953067, 0.14609889758077332, -0.0130814139378774, -0.15051108239111077, -0.2626748843273063, -0.3472686537517362, -0.40325873487122593, -0.4308806796227811, -0.43157859884674826, -0.407889497747319, -0.3632795822101567, -0.30194177876754097, -0.22856545626592412, -0.14809048863531396, -0.06545830501430487, 0.014627580006334946, 0.08791985781076668, 0.15081422331281308, 0.20049625055173417, 0.23504220166614895, 0.25347017586536014, 0.2557406839380664, 0.242708395806646, 0.21602931256266372, 0.17802983029511174, 0.13154597877649798, 0.07974244535617742, 0.025921773001301992, -0.026665677985416577, -0.0750007897964791], [-0.1131560467581887, -0.07090368426500879, -0.021950582012676394, 0.031016232090896562, 0.08492762656935865, 0.13649472168344115, 0.18239124981424537, 0.21944644111666822, 0.24483804991090946, 0.2562747828163765, 0.252157618714697, 0.2317103248693539, 0.19507084218595108, 0.1433370736825879, 0.07856287339249271, 0.0037025838949493145, -0.07749482277960204, -0.16063822727306362, -0.24088710992360066, -0.31317589634427284, -0.37245933283868765, -0.41396693622794944, -0.4334537754581445, -0.4274347075936389, -0.39338972722403176, -0.32992927901128904, -0.23691017597600564, -0.11549507625799743, 0.03184881503912622, 0.20141317105264114, 0.38837235101706136, 0.5869627944413911, 0.7907103570985019, 0.992695449836068, 1.1858438330909473, 1.3632295064019535, 1.518375390968938, 1.6455374774968983, 1.7399588071171015, 1.7980810383563555, 1.8177033600622243, 1.7980810383563555, 1.7399588071171015, 1.6455374774968983, 1.518375390968938, 1.3632295064019535, 1.1858438330909473, 0.992695449836068, 0.7907103570985019, 0.5869627944413911, 0.38837235101706136, 0.20141317105264114, 0.03184881503912622, -0.11549507625799743, -0.23691017597600564, -0.32992927901128904, -0.39338972722403176, -0.4274347075936389, -0.4334537754581445, -0.41396693622794944, -0.37245933283868765, -0.31317589634427284, -0.24088710992360066, -0.16063822727306362, -0.07749482277960204, 0.0037025838949493145, 0.07856287339249271, 0.1433370736825879, 0.19507084218595108, 0.2317103248693539, 0.252157618714697, 0.2562747828163765, 0.24483804991090946, 0.21944644111666822, 0.18239124981424537, 0.13649472168344115, 0.08492762656935865, 0.031016232090896562, -0.021950582012676394, -0.07090368426500879], [-0.1107536917561867, -0.06793803188546253, -0.01855449981019833, 0.03466854669458865, 0.08862652853638416, 0.14000357308347133, 0.18545724476618586, 0.22181346801290225, 0.24626113579560338, 0.25653555744366946, 0.25108014921898075, 0.22917661128094333, 0.19103523332295086, 0.13783886506830845, 0.07173638515428266, -0.004215913110515241, -0.08616386191642225, -0.1696119802323752, -0.24962054293732017, -0.3210343185560354, -0.3787322233669178, -0.417885750201407, -0.434213248547002, -0.42421701152445723, -0.3853906832849483, -0.3163857196862348, -0.21712746254366178, -0.08887373699192957, 0.0657883626364726, 0.24300880867803662, 0.43780226922078175, 0.6442321103834694, 0.8556429685382863, 1.0649315658049785, 1.2648434125627805, 1.4482816142111579, 1.608613254431116, 1.7399588071171015, 1.8374507397311368, 1.8974488797623419, 1.917702154416812, 1.8974488797623419, 1.8374507397311368, 1.7399588071171015, 1.608613254431116, 1.4482816142111579, 1.2648434125627805, 1.0649315658049785, 0.8556429685382863, 0.6442321103834694, 0.43780226922078175, 0.24300880867803662, 0.0657883626364726, -0.08887373699192957, -0.21712746254366178, -0.3163857196862348, -0.3853906832849483, -0.42421701152445723, -0.434213248547002, -0.417885750201407, -0.3787322233669178, -0.3210343185560354, -0.24962054293732017, -0.1696119802323752, -0.08616386191642225, -0.004215913110515241, 0.07173638515428266, 0.13783886506830845, 0.19103523332295086, 0.22917661128094333, 0.25108014921898075, 0.25653555744366946, 0.24626113579560338, 0.22181346801290225, 0.18545724476618586, 0.14000357308347133, 0.08862652853638416, 0.03466854669458865, -0.01855449981019833, -0.06793803188546253], [-0.10929387900894774, -0.06614321685638791, -0.016505930263581485, 0.03686485131708162, 0.09084339726921295, 0.14209785531573388, 0.18727640924644018, 0.2232034254780841, 0.24707500803079696, 0.2566430509401283, 0.25037713957121355, 0.22759450814784551, 0.18854967763954522, 0.134477311926808, 0.06758414818694233, -0.009011537058698997, -0.09139170665445415, -0.17499760171649797, -0.254829433326894, -0.32567778292945404, -0.382375848005458, -0.4200602785751461, -0.43442757176285574, -0.42197287899622543, -0.3801986514917913, -0.3077817863653888, -0.20468978410715197, -0.0722388011028484, 0.08691073780520595, 0.2688222513075441, 0.4684129583840573, 0.6796406846183429, 0.8957396184216221, 1.1094945766040856, 1.3135412961886945, 1.500678835049543, 1.6641794167481594, 1.7980810383563555, 1.8974488797623419, 1.9585929762944412, 1.9792316740361835, 1.9585929762944412, 1.8974488797623419, 1.7980810383563555, 1.6641794167481594, 1.500678835049543, 1.3135412961886945, 1.1094945766040856, 0.8957396184216221, 0.6796406846183429, 0.4684129583840573, 0.2688222513075441, 0.08691073780520595, -0.0722388011028484, -0.20468978410715197, -0.3077817863653888, -0.3801986514917913, -0.42197287899622543, -0.43442757176285574, -0.4200602785751461, -0.382375848005458, -0.32567778292945404, -0.254829433326894, -0.17499760171649797, -0.09139170665445415, -0.009011537058698997, 0.06758414818694233, 0.134477311926808, 0.18854967763954522, 0.22759450814784551, 0.25037713957121355, 0.2566430509401283, 0.24707500803079696, 0.2232034254780841, 0.18727640924644018, 0.14209785531573388, 0.09084339726921295, 0.03686485131708162, -0.016505930263581485, -0.06614321685638791], [-0.10880422217787396, -0.06554239869174844, -0.015821288518275644, 0.03759772656874239, 0.09158188560927924, 0.14279404657238684, 0.18787932061729182, 0.22366162672468853, 0.24733956165584545, 0.2566706526738519, 0.25013332713993036, 0.2270567942100705, 0.18771045677679687, 0.1333463922312941, 0.0661907655654817, -0.010617349295218181, -0.09313849939964196, -0.17679272260843765, -0.2565601183892334, -0.32721314035298743, -0.3835697098652554, -0.4207548585159486, -0.43445783007337646, -0.421171462695804, -0.3784012476539641, -0.30483270332925, -0.20044755867978276, -0.06658162124929747, 0.0940800053732448, 0.277571630583514, 0.47877771528316515, 0.69162061945593, 0.9092974268256817, 1.124555367855928, 1.3299933154720727, 1.518375390968938, 1.682941969615793, 1.8177033600622243, 1.917702154416812, 1.9792316740361835, null, 1.9792316740361835, 1.917702154416812, 1.8177033600622243, 1.682941969615793, 1.518375390968938, 1.3299933154720727, 1.124555367855928, 0.9092974268256817, 0.69162061945593, 0.47877771528316515, 0.277571630583514, 0.0940800053732448, -0.06658162124929747, -0.20044755867978276, -0.30483270332925, -0.3784012476539641, -0.421171462695804, -0.43445783007337646, -0.4207548585159486, -0.3835697098652554, -0.32721314035298743, -0.2565601183892334, -0.17679272260843765, -0.09313849939964196, -0.010617349295218181, 0.0661907655654817, 0.1333463922312941, 0.18771045677679687, 0.2270567942100705, 0.25013332713993036, 0.2566706526738519, 0.24733956165584545, 0.22366162672468853, 0.18787932061729182, 0.14279404657238684, 0.09158188560927924, 0.03759772656874239, -0.015821288518275644, -0.06554239869174844], [-0.10929387900894774, -0.06614321685638791, -0.016505930263581485, 0.03686485131708162, 0.09084339726921295, 0.14209785531573388, 0.18727640924644018, 0.2232034254780841, 0.24707500803079696, 0.2566430509401283, 0.25037713957121355, 0.22759450814784551, 0.18854967763954522, 0.134477311926808, 0.06758414818694233, -0.009011537058698997, -0.09139170665445415, -0.17499760171649797, -0.254829433326894, -0.32567778292945404, -0.382375848005458, -0.4200602785751461, -0.43442757176285574, -0.42197287899622543, -0.3801986514917913, -0.3077817863653888, -0.20468978410715197, -0.0722388011028484, 0.08691073780520595, 0.2688222513075441, 0.4684129583840573, 0.6796406846183429, 0.8957396184216221, 1.1094945766040856, 1.3135412961886945, 1.500678835049543, 1.6641794167481594, 1.7980810383563555, 1.8974488797623419, 1.9585929762944412, 1.9792316740361835, 1.9585929762944412, 1.8974488797623419, 1.7980810383563555, 1.6641794167481594, 1.500678835049543, 1.3135412961886945, 1.1094945766040856, 0.8957396184216221, 0.6796406846183429, 0.4684129583840573, 0.2688222513075441, 0.08691073780520595, -0.0722388011028484, -0.20468978410715197, -0.3077817863653888, -0.3801986514917913, -0.42197287899622543, -0.43442757176285574, -0.4200602785751461, -0.382375848005458, -0.32567778292945404, -0.254829433326894, -0.17499760171649797, -0.09139170665445415, -0.009011537058698997, 0.06758414818694233, 0.134477311926808, 0.18854967763954522, 0.22759450814784551, 0.25037713957121355, 0.2566430509401283, 0.24707500803079696, 0.2232034254780841, 0.18727640924644018, 0.14209785531573388, 0.09084339726921295, 0.03686485131708162, -0.016505930263581485, -0.06614321685638791], [-0.1107536917561867, -0.06793803188546253, -0.01855449981019833, 0.03466854669458865, 0.08862652853638416, 0.14000357308347133, 0.18545724476618586, 0.22181346801290225, 0.24626113579560338, 0.25653555744366946, 0.25108014921898075, 0.22917661128094333, 0.19103523332295086, 0.13783886506830845, 0.07173638515428266, -0.004215913110515241, -0.08616386191642225, -0.1696119802323752, -0.24962054293732017, -0.3210343185560354, -0.3787322233669178, -0.417885750201407, -0.434213248547002, -0.42421701152445723, -0.3853906832849483, -0.3163857196862348, -0.21712746254366178, -0.08887373699192957, 0.0657883626364726, 0.24300880867803662, 0.43780226922078175, 0.6442321103834694, 0.8556429685382863, 1.0649315658049785, 1.2648434125627805, 1.4482816142111579, 1.608613254431116, 1.7399588071171015, 1.8374507397311368, 1.8974488797623419, 1.917702154416812, 1.8974488797623419, 1.8374507397311368, 1.7399588071171015, 1.608613254431116, 1.4482816142111579, 1.2648434125627805, 1.0649315658049785, 0.8556429685382863, 0.6442321103834694, 0.43780226922078175, 0.24300880867803662, 0.0657883626364726, -0.08887373699192957, -0.21712746254366178, -0.3163857196862348, -0.3853906832849483, -0.42421701152445723, -0.434213248547002, -0.417885750201407, -0.3787322233669178, -0.3210343185560354, -0.24962054293732017, -0.1696119802323752, -0.08616386191642225, -0.004215913110515241, 0.07173638515428266, 0.13783886506830845, 0.19103523332295086, 0.22917661128094333, 0.25108014921898075, 0.25653555744366946, 0.24626113579560338, 0.22181346801290225, 0.18545724476618586, 0.14000357308347133, 0.08862652853638416, 0.03466854669458865, -0.01855449981019833, -0.06793803188546253], [-0.1131560467581887, -0.07090368426500879, -0.021950582012676394, 0.031016232090896562, 0.08492762656935865, 0.13649472168344115, 0.18239124981424537, 0.21944644111666822, 0.24483804991090946, 0.2562747828163765, 0.252157618714697, 0.2317103248693539, 0.19507084218595108, 0.1433370736825879, 0.07856287339249271, 0.0037025838949493145, -0.07749482277960204, -0.16063822727306362, -0.24088710992360066, -0.31317589634427284, -0.37245933283868765, -0.41396693622794944, -0.4334537754581445, -0.4274347075936389, -0.39338972722403176, -0.32992927901128904, -0.23691017597600564, -0.11549507625799743, 0.03184881503912622, 0.20141317105264114, 0.38837235101706136, 0.5869627944413911, 0.7907103570985019, 0.992695449836068, 1.1858438330909473, 1.3632295064019535, 1.518375390968938, 1.6455374774968983, 1.7399588071171015, 1.7980810383563555, 1.8177033600622243, 1.7980810383563555, 1.7399588071171015, 1.6455374774968983, 1.518375390968938, 1.3632295064019535, 1.1858438330909473, 0.992695449836068, 0.7907103570985019, 0.5869627944413911, 0.38837235101706136, 0.20141317105264114, 0.03184881503912622, -0.11549507625799743, -0.23691017597600564, -0.32992927901128904, -0.39338972722403176, -0.4274347075936389, -0.4334537754581445, -0.41396693622794944, -0.37245933283868765, -0.31317589634427284, -0.24088710992360066, -0.16063822727306362, -0.07749482277960204, 0.0037025838949493145, 0.07856287339249271, 0.1433370736825879, 0.19507084218595108, 0.2317103248693539, 0.252157618714697, 0.2562747828163765, 0.24483804991090946, 0.21944644111666822, 0.18239124981424537, 0.13649472168344115, 0.08492762656935865, 0.031016232090896562, -0.021950582012676394, -0.07090368426500879], [-0.1164544699167505, -0.0750007897964791, -0.026665677985416577, 0.025921773001301992, 0.07974244535617742, 0.13154597877649798, 0.17802983029511174, 0.21602931256266372, 0.242708395806646, 0.2557406839380664, 0.25347017586536014, 0.23504220166614895, 0.20049625055173417, 0.15081422331281308, 0.08791985781076668, 0.014627580006334946, -0.06545830501430487, -0.14809048863531396, -0.22856545626592412, -0.30194177876754097, -0.3632795822101567, -0.407889497747319, -0.43157859884674826, -0.4308806796227811, -0.40325873487122593, -0.3472686537517362, -0.2626748843273063, -0.15051108239111077, -0.0130814139378774, 0.14609889758077332, 0.32242214992953067, 0.5103612401471838, 0.7036898157513979, 0.8957396184216221, 1.0796831610910465, 1.2488284837498442, 1.3969119972732167, 1.518375390968938, 1.608613254431116, 1.6641794167481594, 1.682941969615793, 1.6641794167481594, 1.608613254431116, 1.518375390968938, 1.3969119972732167, 1.2488284837498442, 1.0796831610910465, 0.8957396184216221, 0.7036898157513979, 0.5103612401471838, 0.32242214992953067, 0.14609889758077332, -0.0130814139378774, -0.15051108239111077, -0.2626748843273063, -0.3472686537517362, -0.40325873487122593, -0.4308806796227811, -0.43157859884674826, -0.407889497747319, -0.3632795822101567, -0.30194177876754097, -0.22856545626592412, -0.14809048863531396, -0.06545830501430487, 0.014627580006334946, 0.08791985781076668, 0.15081422331281308, 0.20049625055173417, 0.23504220166614895, 0.25347017586536014, 0.2557406839380664, 0.242708395806646, 0.21602931256266372, 0.17802983029511174, 0.13154597877649798, 0.07974244535617742, 0.025921773001301992, -0.026665677985416577, -0.0750007897964791], [-0.12058300781296416, -0.08017262722723162, -0.032657564269347995, 0.019407660252202565, 0.07306884206017318, 0.12512633286074154, 0.17230988766358785, 0.21146505144444128, 0.23974108638511749, 0.25477004091850136, 0.2548267267047997, 0.23896010343988033, 0.2070878465419809, 0.16004763127913005, 0.09960082298540655, 0.02838670735216783, -0.050171999808914604, -0.132008995765264, -0.2125937105436689, -0.28714197491104243, -0.35084804028714445, -0.3991265770886398, -0.42785247459104203, -0.4335860886421158, -0.4137720534188708, -0.36690087535799776, -0.2926242127644853, -0.19181693290541052, -0.06658162124929747, 0.07980593576993696, 0.24300880867803662, 0.4177941096414197, 0.5982441516081277, 0.7780040258931075, 0.9505541014891831, 1.1094945766040856, 1.2488284837498442, 1.3632295064019535, 1.4482816142111579, 1.500678835049543, 1.518375390968938, 1.500678835049543, 1.4482816142111579, 1.3632295064019535, 1.2488284837498442, 1.1094945766040856, 0.9505541014891831, 0.7780040258931075, 0.5982441516081277, 0.4177941096414197, 0.24300880867803662, 0.07980593576993696, -0.06658162124929747, -0.19181693290541052, -0.2926242127644853, -0.36690087535799776, -0.4137720534188708, -0.4335860886421158, -0.42785247459104203, -0.3991265770886398, -0.35084804028714445, -0.28714197491104243, -0.2125937105436689, -0.132008995765264, -0.050171999808914604, 0.02838670735216783, 0.09960082298540655, 0.16004763127913005, 0.2070878465419809, 0.23896010343988033, 0.2548267267047997, 0.25477004091850136, 0.23974108638511749, 0.21146505144444128, 0.17230988766358785, 0.12512633286074154, 0.07306884206017318, 0.019407660252202565, -0.032657564269347995, -0.08017262722723162], [-0.1254554756233313, -0.08634370978474622, -0.039868134180728126, 0.011507919583092052, 0.0649104168254659, 0.11720338291232232, 0.16515865057394133, 0.20563779959612533, 0.23577655069724138, 0.2531614457800734, 0.2559887694405144, 0.2431963471432226, 0.21456006847846779, 0.17074867404778504, 0.11333242903336226, 0.044743679368913644, -0.03181017613329085, -0.11247819731414006, -0.1929363397545002, -0.268589046149572, -0.33479237619194996, -0.38708768931988075, -0.42143408131469146, -0.43442757176285574, -0.42349546556438716, -0.38705535500366767, -0.324629843053556, -0.23691017597600564, -0.1257644689695074, 0.005811034304373925, 0.1537963512162099, 0.3133036361206578, 0.47877771528316515, 0.6442321103834694, 0.803509484779075, 0.9505541014891831, 1.0796831610910465, 1.1858438330909473, 1.2648434125627805, 1.3135412961886945, 1.3299933154720727, 1.3135412961886945, 1.2648434125627805, 1.1858438330909473, 1.0796831610910465, 0.9505541014891831, 0.803509484779075, 0.6442321103834694, 0.47877771528316515, 0.3133036361206578, 0.1537963512162099, 0.005811034304373925, -0.1257644689695074, -0.23691017597600564, -0.324629843053556, -0.38705535500366767, -0.42349546556438716, -0.43442757176285574, -0.42143408131469146, -0.38708768931988075, -0.33479237619194996, -0.268589046149572, -0.1929363397545002, -0.11247819731414006, -0.03181017613329085, 0.044743679368913644, 0.11333242903336226, 0.17074867404778504, 0.21456006847846779, 0.2431963471432226, 0.2559887694405144, 0.2531614457800734, 0.23577655069724138, 0.20563779959612533, 0.16515865057394133, 0.11720338291232232, 0.0649104168254659, 0.011507919583092052, -0.039868134180728126, -0.08634370978474622], [-0.13096468174943518, -0.09341816596346665, -0.04822085787410071, 0.0022716100207446164, 0.05528095770522729, 0.10774865812501504, 0.15649972810645998, 0.19841943861188654, 0.23063350923189954, 0.2506818889186662, 0.2566762997375786, 0.24743234013685533, 0.2225680860000738, 0.18256273925541686, 0.12877087581897034, 0.06339013493636744, -0.010617349295218181, -0.08964697741323371, -0.1696119802323752, -0.24613461781837798, -0.31475910259630246, -0.37117570680030565, -0.41144469052055266, -0.43220845214435083, -0.4308806796227811, -0.40580225753498556, -0.35635521764627226, -0.28302803533990717, -0.187427969950852, -0.0722388011028484, 0.05887491198907235, 0.20141317105264114, 0.35022902170777614, 0.49975144871271493, 0.6442321103834694, 0.7780040258931075, 0.8957396184216221, 0.992695449836068, 1.0649315658049785, 1.1094945766040856, 1.124555367855928, 1.1094945766040856, 1.0649315658049785, 0.992695449836068, 0.8957396184216221, 0.7780040258931075, 0.6442321103834694, 0.49975144871271493, 0.35022902170777614, 0.20141317105264114, 0.05887491198907235, -0.0722388011028484, -0.187427969950852, -0.28302803533990717, -0.35635521764627226, -0.40580225753498556, -0.4308806796227811, -0.43220845214435083, -0.41144469052055266, -0.37117570680030565, -0.31475910259630246, -0.24613461781837798, -0.1696119802323752, -0.08964697741323371, -0.010617349295218181, 0.06339013493636744, 0.12877087581897034, 0.18256273925541686, 0.2225680860000738, 0.24743234013685533, 0.2566762997375786, 0.2506818889186662, 0.23063350923189954, 0.19841943861188654, 0.15649972810645998, 0.10774865812501504, 0.05528095770522729, 0.0022716100207446164, -0.04822085787410071, -0.09341816596346665], [-0.13698176393514344, -0.10127808535368477, -0.05761803324395176, -0.00823327044894154, 0.044209509361482956, 0.09674378883254962, 0.14626024334832619, 0.18967745729212915, 0.22411724822563847, 0.24707500803079696, 0.256575492104657, 0.25130504004127213, 0.23071227369415245, 0.19507084218595108, 0.14549969299473817, 0.08393854575868848, 0.013078615468659323, -0.06374895250625122, -0.1427221428215067, -0.21970771693043264, -0.29046275344788247, -0.35084804028714445, -0.3970424421347404, -0.42574709936268906, -0.43436863670247905, -0.421171462695804, -0.3853906832849483, -0.32729906443176787, -0.24822376277499153, -0.15051108239111077, -0.03744017720227128, 0.08691073780520595, 0.21783961811686398, 0.35022902170777614, 0.47877771528316515, 0.5982441516081277, 0.7036898157513979, 0.7907103570985019, 0.8556429685382863, 0.8957396184216221, 0.9092974268256817, 0.8957396184216221, 0.8556429685382863, 0.7907103570985019, 0.7036898157513979, 0.5982441516081277, 0.47877771528316515, 0.35022902170777614, 0.21783961811686398, 0.08691073780520595, -0.03744017720227128, -0.15051108239111077, -0.24822376277499153, -0.32729906443176787, -0.3853906832849483, -0.421171462695804, -0.43436863670247905, -0.42574709936268906, -0.3970424421347404, -0.35084804028714445, -0.29046275344788247, -0.21970771693043264, -0.1427221428215067, -0.06374895250625122, 0.013078615468659323, 0.08393854575868848, 0.14549969299473817, 0.19507084218595108, 0.23071227369415245, 0.25130504004127213, 0.256575492104657, 0.24707500803079696, 0.22411724822563847, 0.18967745729212915, 0.14626024334832619, 0.09674378883254962, 0.044209509361482956, -0.00823327044894154, -0.05761803324395176, -0.10127808535368477], [-0.14335579129849668, -0.10978201113265723, -0.06793803188546253, -0.019915691575644292, 0.031745840459068614, 0.08418731130237875, 0.13437885433763305, 0.1792839709402817, 0.21602931256266372, 0.2420710146043941, 0.255348298963932, 0.25441554164532254, 0.23854497801642713, 0.20779364608280457, 0.1630299764243758, 0.10591753298818528, 0.03885568116655977, -0.03512071345143313, -0.11247819731414006, -0.18935183535374994, -0.2617343483375656, -0.32567778292945404, -0.37749737145928347, -0.41396693622794944, -0.43249545715781157, -0.4312752446188071, -0.4093935036702951, -0.36690087535799776, -0.30483270332925, -0.22518118755916025, -0.13081912452072303, -0.025378460035175753, 0.08691073780520595, 0.20141317105264114, 0.3133036361206578, 0.4177941096414197, 0.5103612401471838, 0.5869627944413911, 0.6442321103834694, 0.6796406846183429, 0.69162061945593, 0.6796406846183429, 0.6442321103834694, 0.5869627944413911, 0.5103612401471838, 0.4177941096414197, 0.3133036361206578, 0.20141317105264114, 0.08691073780520595, -0.025378460035175753, -0.13081912452072303, -0.22518118755916025, -0.30483270332925, -0.36690087535799776, -0.4093935036702951, -0.4312752446188071, -0.43249545715781157, -0.41396693622794944, -0.37749737145928347, -0.32567778292945404, -0.2617343483375656, -0.18935183535374994, -0.11247819731414006, -0.03512071345143313, 0.03885568116655977, 0.10591753298818528, 0.1630299764243758, 0.20779364608280457, 0.23854497801642713, 0.25441554164532254, 0.255348298963932, 0.2420710146043941, 0.21602931256266372, 0.1792839709402817, 0.13437885433763305, 0.08418731130237875, 0.031745840459068614, -0.019915691575644292, -0.06793803188546253, -0.10978201113265723], [-0.1499137997580331, -0.11876378051842666, -0.07903277128303789, -0.032657564269347995, 0.017966041941118966, 0.07010183827093616, 0.12081441070397907, 0.16712567793535366, 0.2061784643801796, 0.23539823538075702, 0.25264402764959015, 0.2563400102730029, 0.2455799958764798, 0.22019854657881394, 0.18080401871815463, 0.12877087581897034, 0.0661907655654817, -0.004215913110515241, -0.0792240541655952, -0.15525760655490364, -0.22856545626592412, -0.29541051237375787, -0.35226222727992795, -0.39598244357893553, -0.42399466300627076, -0.43442757176285574, -0.42622489689420734, -0.39921534828629784, -0.3541384336243295, -0.2926242127644853, -0.21712746254366178, -0.13081912452072303, -0.03744017720227128, 0.05887491198907235, 0.1537963512162099, 0.24300880867803662, 0.32242214992953067, 0.38837235101706136, 0.43780226922078175, 0.4684129583840573, 0.47877771528316515, 0.4684129583840573, 0.43780226922078175, 0.38837235101706136, 0.32242214992953067, 0.24300880867803662, 0.1537963512162099, 0.05887491198907235, -0.03744017720227128, -0.13081912452072303, -0.21712746254366178, -0.2926242127644853, -0.3541384336243295, -0.39921534828629784, -0.42622489689420734, -0.43442757176285574, -0.42399466300627076, -0.39598244357893553, -0.35226222727992795, -0.29541051237375787, -0.22856545626592412, -0.15525760655490364, -0.0792240541655952, -0.004215913110515241, 0.0661907655654817, 0.12877087581897034, 0.18080401871815463, 0.22019854657881394, 0.2455799958764798, 0.2563400102730029, 0.25264402764959015, 0.23539823538075702, 0.2061784643801796, 0.16712567793535366, 0.12081441070397907, 0.07010183827093616, 0.017966041941118966, -0.032657564269347995, -0.07903277128303789, -0.11876378051842666], [-0.15646143337355978, -0.12803192632998142, -0.0907256642328181, -0.046310064114579955, 0.0029779491154211806, 0.054541276561040686, 0.10555493165712146, 0.15311446345017118, 0.1943926655354523, 0.22679610352037188, 0.24811283911536614, 0.2566430509401283, 0.25130504004127213, 0.2317103248693539, 0.1982031145119569, 0.15186131748507978, 0.09445829662141196, 0.02838670735216783, -0.043452159632214875, -0.1177881852505473, -0.19114437378651342, -0.26001264723920775, -0.3210343185560354, -0.37117570680030565, -0.407889497747319, -0.42925310491460716, -0.434076417833265, -0.42197287899622543, -0.39338972722403176, -0.3495953826561967, -0.2926242127644853, -0.22518118755916025, -0.15051108239111077, -0.0722388011028484, 0.005811034304373925, 0.07980593576993696, 0.14609889758077332, 0.20141317105264114, 0.24300880867803662, 0.2688222513075441, 0.277571630583514, 0.2688222513075441, 0.24300880867803662, 0.20141317105264114, 0.14609889758077332, 0.07980593576993696, 0.005811034304373925, -0.0722388011028484, -0.15051108239111077, -0.22518118755916025, -0.2926242127644853, -0.3495953826561967, -0.39338972722403176, -0.42197287899622543, -0.434076417833265, -0.42925310491460716, -0.407889497747319, -0.37117570680030565, -0.3210343185560354, -0.26001264723920775, -0.19114437378651342, -0.1177881852505473, -0.043452159632214875, 0.02838670735216783, 0.09445829662141196, 0.15186131748507978, 0.1982031145119569, 0.2317103248693539, 0.25130504004127213, 0.2566430509401283, 0.24811283911536614, 0.22679610352037188, 0.1943926655354523, 0.15311446345017118, 0.10555493165712146, 0.054541276561040686, 0.0029779491154211806, -0.046310064114579955, -0.0907256642328181, -0.12803192632998142], [-0.16278435980926842, -0.13736985507049018, -0.10281030706494565, -0.060690608986011814, -0.013073952151520388, 0.03759772656874239, 0.08862652853638416, 0.13719827990417027, 0.18053174205108255, 0.21602931256266372, 0.24142096714711753, 0.254893432701845, 0.25519727019112654, 0.24172565029557566, 0.21456006847846779, 0.17447999195279823, 0.12293536517635703, 0.06198291759831892, -0.005810793613848673, -0.07749482277960204, -0.14988136590815446, -0.21970771693043264, -0.2838041182964338, -0.3392585664190622, -0.3835697098652554, -0.4147795406040892, -0.43157859884674826, -0.4333778373354074, -0.4203430458705095, -0.39338972722403176, -0.3541384336243295, -0.30483270332925, -0.24822376277499153, -0.187427969950852, -0.1257644689695074, -0.06658162124929747, -0.0130814139378774, 0.03184881503912622, 0.0657883626364726, 0.08691073780520595, 0.0940800053732448, 0.08691073780520595, 0.0657883626364726, 0.03184881503912622, -0.0130814139378774, -0.06658162124929747, -0.1257644689695074, -0.187427969950852, -0.24822376277499153, -0.30483270332925, -0.3541384336243295, -0.39338972722403176, -0.4203430458705095, -0.4333778373354074, -0.43157859884674826, -0.4147795406040892, -0.3835697098652554, -0.3392585664190622, -0.2838041182964338, -0.21970771693043264, -0.14988136590815446, -0.07749482277960204, -0.005810793613848673, 0.06198291759831892, 0.12293536517635703, 0.17447999195279823, 0.21456006847846779, 0.24172565029557566, 0.25519727019112654, 0.254893432701845, 0.24142096714711753, 0.21602931256266372, 0.18053174205108255, 0.13719827990417027, 0.08862652853638416, 0.03759772656874239, -0.013073952151520388, -0.060690608986011814, -0.10281030706494565, -0.13736985507049018], [-0.16865061331126227, -0.14653700801271363, -0.11505016730310495, -0.07558080422426758, -0.030004497243790427, 0.019407660252202565, 0.07010183827093616, 0.11937185506223688, 0.16450028494360933, 0.20290271423033404, 0.23226729318028777, 0.2506818889186662, 0.2567417315441088, 0.24963143467045815, 0.22917661128094333, 0.19586192453391038, 0.15081422331281308, 0.0957513146109, 0.032898814044057145, -0.03512071345143313, -0.10542055787501849, -0.17499760171649797, -0.24088710992360066, -0.3003162506586467, -0.35084804028714445, -0.3905078789395116, -0.417885750201407, -0.43220845214435083, -0.4333778373354074, -0.42197287899622543, -0.39921534828629784, -0.36690087535799776, -0.32729906443176787, -0.28302803533990717, -0.23691017597600564, -0.19181693290541052, -0.15051108239111077, -0.11549507625799743, -0.08887373699192957, -0.0722388011028484, -0.06658162124929747, -0.0722388011028484, -0.08887373699192957, -0.11549507625799743, -0.15051108239111077, -0.19181693290541052, -0.23691017597600564, -0.28302803533990717, -0.32729906443176787, -0.36690087535799776, -0.39921534828629784, -0.42197287899622543, -0.4333778373354074, -0.43220845214435083, -0.417885750201407, -0.3905078789395116, -0.35084804028714445, -0.3003162506586467, -0.24088710992360066, -0.17499760171649797, -0.10542055787501849, -0.03512071345143313, 0.032898814044057145, 0.0957513146109, 0.15081422331281308, 0.19586192453391038, 0.22917661128094333, 0.24963143467045815, 0.2567417315441088, 0.2506818889186662, 0.23226729318028777, 0.20290271423033404, 0.16450028494360933, 0.11937185506223688, 0.07010183827093616, 0.019407660252202565, -0.030004497243790427, -0.07558080422426758, -0.11505016730310495, -0.14653700801271363], [-0.1738139924448547, -0.15527119023634722, -0.1271795169340972, -0.0907256642328181, -0.04758506314163741, 0.0001569493213448689, 0.05010748884225075, 0.09968670899986165, 0.14626024334832619, 0.18727640924644018, 0.22040074178662336, 0.24364050109720906, 0.2554522819126627, 0.2548267267047997, 0.2413455569066888, 0.2152076253393881, 0.17722237538812438, 0.12877087581897034, 0.07173638515428266, 0.00840808631479302, -0.05863687417657578, -0.12666669235949252, -0.1929363397545002, -0.254829433326894, -0.309992807249447, -0.3564564355250057, -0.39273214882544505, -0.417885750201407, -0.43157859884674826, -0.434076417833265, -0.42622489689420734, -0.4093935036702951, -0.3853906832849483, -0.35635521764627226, -0.324629843053556, -0.2926242127644853, -0.2626748843273063, -0.23691017597600564, -0.21712746254366178, -0.20468978410715197, -0.20044755867978276, -0.20468978410715197, -0.21712746254366178, -0.23691017597600564, -0.2626748843273063, -0.2926242127644853, -0.324629843053556, -0.35635521764627226, -0.3853906832849483, -0.4093935036702951, -0.42622489689420734, -0.434076417833265, -0.43157859884674826, -0.417885750201407, -0.39273214882544505, -0.3564564355250057, -0.309992807249447, -0.254829433326894, -0.1929363397545002, -0.12666669235949252, -0.05863687417657578, 0.00840808631479302, 0.07173638515428266, 0.12877087581897034, 0.17722237538812438, 0.2152076253393881, 0.2413455569066888, 0.2548267267047997, 0.2554522819126627, 0.24364050109720906, 0.22040074178662336, 0.18727640924644018, 0.14626024334832619, 0.09968670899986165, 0.05010748884225075, 0.0001569493213448689, -0.04758506314163741, -0.0907256642328181, -0.1271795169340972, -0.15527119023634722], [-0.17801860199902664, -0.16329221750830802, -0.13890582780165694, -0.10583439818051152, -0.06554239869174844, -0.019915691575644292, 0.02883009042098063, 0.07825990831739421, 0.1258425822940911, 0.16908036038891633, 0.20563779959612533, 0.23346296309158113, 0.2508943222213973, 0.25674750760048576, 0.25037713957121355, 0.2317103248693539, 0.20124995852555586, 0.16004763127913005, 0.1096476200446325, 0.05200503792795912, -0.010617349295218181, -0.0757679524450742, -0.1409342819269669, -0.2036729142303004, -0.2617343483375656, -0.31317589634427284, -0.3564564355250057, -0.3905078789395116, -0.4147795406040892, -0.42925310491460716, -0.43442757176285574, -0.4312752446188071, -0.421171462695804, -0.40580225753498556, -0.38705535500366767, -0.36690087535799776, -0.3472686537517362, -0.32992927901128904, -0.3163857196862348, -0.3077817863653888, -0.30483270332925, -0.3077817863653888, -0.3163857196862348, -0.32992927901128904, -0.3472686537517362, -0.36690087535799776, -0.38705535500366767, -0.40580225753498556, -0.421171462695804, -0.4312752446188071, -0.43442757176285574, -0.42925310491460716, -0.4147795406040892, -0.3905078789395116, -0.3564564355250057, -0.31317589634427284, -0.2617343483375656, -0.2036729142303004, -0.1409342819269669, -0.0757679524450742, -0.010617349295218181, 0.05200503792795912, 0.1096476200446325, 0.16004763127913005, 0.20124995852555586, 0.2317103248693539, 0.25037713957121355, 0.25674750760048576, 0.2508943222213973, 0.23346296309158113, 0.20563779959612533, 0.16908036038891633, 0.1258425822940911, 0.07825990831739421, 0.02883009042098063, -0.019915691575644292, -0.06554239869174844, -0.10583439818051152, -0.13890582780165694, -0.16329221750830802], [-0.18100457917857166, -0.17030698199702413, -0.1499137997580331, -0.12058300781296416, -0.08355939645450051, -0.040517266401149735, 0.0065202421682302655, 0.05528095770522729, 0.10335731863015635, 0.14832776112580212, 0.18787932061729182, 0.21992483146863692, 0.242708395806646, 0.254893432701845, 0.25562857790064414, 0.24458792842044305, 0.22198354690007724, 0.18854967763954522, 0.14549969299473817, 0.09445829662141196, 0.037372873633869375, -0.02359098016854476, -0.08616386191642225, -0.14809048863531396, -0.20724458052139974, -0.2617343483375656, -0.309992807249447, -0.35084804028714445, -0.3835697098652554, -0.407889497747319, -0.42399466300627076, -0.43249545715781157, -0.43436863670247905, -0.4308806796227811, -0.42349546556438716, -0.4137720534188708, -0.40325873487122593, -0.39338972722403176, -0.3853906832849483, -0.3801986514917913, -0.3784012476539641, -0.3801986514917913, -0.3853906832849483, -0.39338972722403176, -0.40325873487122593, -0.4137720534188708, -0.42349546556438716, -0.4308806796227811, -0.43436863670247905, -0.43249545715781157, -0.42399466300627076, -0.407889497747319, -0.3835697098652554, -0.35084804028714445, -0.309992807249447, -0.2617343483375656, -0.20724458052139974, -0.14809048863531396, -0.08616386191642225, -0.02359098016854476, 0.037372873633869375, 0.09445829662141196, 0.14549969299473817, 0.18854967763954522, 0.22198354690007724, 0.24458792842044305, 0.25562857790064414, 0.254893432701845, 0.242708395806646, 0.21992483146863692, 0.18787932061729182, 0.14832776112580212, 0.10335731863015635, 0.05528095770522729, 0.0065202421682302655, -0.040517266401149735, -0.08355939645450051, -0.12058300781296416, -0.1499137997580331, -0.17030698199702413], [-0.18251498442862385, -0.1760159755489718, -0.15987112992755653, -0.13461888616197776, -0.10127808535368477, -0.061301442485772274, -0.016505930263581485, 0.031016232090896562, 0.07900122348247962, 0.12512633286074154, 0.16712567793535366, 0.20290271423033404, 0.23063350923189954, 0.24885528388828942, 0.25653555744366946, 0.25311832399967577, 0.23854497801642713, 0.21324911772700825, 0.17812580971586786, 0.134477311926808, 0.08393854575868848, 0.02838670735216783, -0.030159748399708135, -0.08964697741323371, -0.14809048863531396, -0.2036729142303004, -0.254829433326894, -0.3003162506586467, -0.3392585664190622, -0.37117570680030565, -0.39598244357893553, -0.41396693622794944, -0.42574709936268906, -0.43220845214435083, -0.43442757176285574, -0.4335860886421158, -0.4308806796227811, -0.4274347075936389, -0.42421701152445723, -0.42197287899622543, -0.421171462695804, -0.42197287899622543, -0.42421701152445723, -0.4274347075936389, -0.4308806796227811, -0.4335860886421158, -0.43442757176285574, -0.43220845214435083, -0.42574709936268906, -0.41396693622794944, -0.39598244357893553, -0.37117570680030565, -0.3392585664190622, -0.3003162506586467, -0.254829433326894, -0.2036729142303004, -0.14809048863531396, -0.08964697741323371, -0.030159748399708135, 0.02838670735216783, 0.08393854575868848, 0.134477311926808, 0.17812580971586786, 0.21324911772700825, 0.23854497801642713, 0.25311832399967577, 0.25653555744366946, 0.24885528388828942, 0.23063350923189954, 0.20290271423033404, 0.16712567793535366, 0.12512633286074154, 0.07900122348247962, 0.031016232090896562, -0.016505930263581485, -0.061301442485772274, -0.10127808535368477, -0.13461888616197776, -0.15987112992755653, -0.1760159755489718], [-0.18230376872794093, -0.18012123502583363, -0.16843605361995675, -0.14756752732225356, -0.11830504740258321, -0.08187218787401292, -0.039868134180728126, 0.0058103924762656495, 0.05306249567952219, 0.09968670899986165, 0.14348926836260514, 0.18239124981424537, 0.2145288714461612, 0.2383416766936446, 0.25264402764959015, 0.2566762997375786, 0.25013332713993036, 0.23316893482082693, 0.2063767337439853, 0.17074867404778504, 0.12761407121954643, 0.07856287339249271, 0.02535776443828009, -0.030159748399708135, -0.08616386191642225, -0.1409342819269669, -0.1929363397545002, -0.24088710992360066, -0.2838041182964338, -0.3210343185560354, -0.35226222727992795, -0.37749737145928347, -0.3970424421347404, -0.41144469052055266, -0.42143408131469146, -0.42785247459104203, -0.43157859884674826, -0.4334537754581445, -0.434213248547002, -0.43442757176285574, -0.43445783007337646, -0.43442757176285574, -0.434213248547002, -0.4334537754581445, -0.43157859884674826, -0.42785247459104203, -0.42143408131469146, -0.41144469052055266, -0.3970424421347404, -0.37749737145928347, -0.35226222727992795, -0.3210343185560354, -0.2838041182964338, -0.24088710992360066, -0.1929363397545002, -0.1409342819269669, -0.08616386191642225, -0.030159748399708135, 0.02535776443828009, 0.07856287339249271, 0.12761407121954643, 0.17074867404778504, 0.2063767337439853, 0.23316893482082693, 0.25013332713993036, 0.2566762997375786, 0.25264402764959015, 0.2383416766936446, 0.2145288714461612, 0.18239124981424537, 0.14348926836260514, 0.09968670899986165, 0.05306249567952219, 0.0058103924762656495, -0.039868134180728126, -0.08187218787401292, -0.11830504740258321, -0.14756752732225356, -0.16843605361995675, -0.18012123502583363], [-0.1801446545297837, -0.18233559039097344, -0.1752665961050691, -0.15904136091487175, -0.13421936300715656, -0.10179031338845618, -0.0631265026963309, -0.019915691575644292, 0.025921773001301992, 0.07232710218505171, 0.11720338291232232, 0.15851669454452746, 0.1943926655354523, 0.2232034254780841, 0.24364050109720906, 0.25477004091850136, 0.2560677827399544, 0.24743234013685533, 0.22917661128094333, 0.20199833430642128, 0.16693195814109418, 0.12528500092613942, 0.07856287339249271, 0.02838670735216783, -0.02359098016854476, -0.0757679524450742, -0.12666669235949252, -0.17499760171649797, -0.21970771693043264, -0.26001264723920775, -0.29541051237375787, -0.32567778292945404, -0.35084804028714445, -0.37117570680030565, -0.38708768931988075, -0.3991265770886398, -0.407889497747319, -0.41396693622794944, -0.417885750201407, -0.4200602785751461, -0.4207548585159486, -0.4200602785751461, -0.417885750201407, -0.41396693622794944, -0.407889497747319, -0.3991265770886398, -0.38708768931988075, -0.37117570680030565, -0.35084804028714445, -0.32567778292945404, -0.29541051237375787, -0.26001264723920775, -0.21970771693043264, -0.17499760171649797, -0.12666669235949252, -0.0757679524450742, -0.02359098016854476, 0.02838670735216783, 0.07856287339249271, 0.12528500092613942, 0.16693195814109418, 0.20199833430642128, 0.22917661128094333, 0.24743234013685533, 0.2560677827399544, 0.25477004091850136, 0.24364050109720906, 0.2232034254780841, 0.1943926655354523, 0.15851669454452746, 0.11720338291232232, 0.07232710218505171, 0.025921773001301992, -0.019915691575644292, -0.0631265026963309, -0.10179031338845618, -0.13421936300715656, -0.15904136091487175, -0.1752665961050691, -0.18233559039097344], [-0.17584069010379264, -0.18239300622958532, -0.1800313728705813, -0.16865061331126227, -0.14858307017251748, -0.12058300781296416, -0.0857896329957062, -0.045670869380806056, -0.001951040868825416, 0.043473546354522816, 0.08862652853638416, 0.13154597877649798, 0.17037647050011584, 0.20345392533496165, 0.22937894091767205, 0.24707500803079696, 0.25582893038458626, 0.2553118000893658, 0.2455799958764798, 0.2270567942100705, 0.20049625055173417, 0.16693195814109418, 0.12761407121954643, 0.08393854575868848, 0.037372873633869375, -0.010617349295218181, -0.05863687417657578, -0.10542055787501849, -0.14988136590815446, -0.19114437378651342, -0.22856545626592412, -0.2617343483375656, -0.29046275344788247, -0.31475910259630246, -0.33479237619194996, -0.35084804028714445, -0.3632795822101567, -0.37245933283868765, -0.3787322233669178, -0.382375848005458, -0.3835697098652554, -0.382375848005458, -0.3787322233669178, -0.37245933283868765, -0.3632795822101567, -0.35084804028714445, -0.33479237619194996, -0.31475910259630246, -0.29046275344788247, -0.2617343483375656, -0.22856545626592412, -0.19114437378651342, -0.14988136590815446, -0.10542055787501849, -0.05863687417657578, -0.010617349295218181, 0.037372873633869375, 0.08393854575868848, 0.12761407121954643, 0.16693195814109418, 0.20049625055173417, 0.2270567942100705, 0.2455799958764798, 0.2553118000893658, 0.25582893038458626, 0.24707500803079696, 0.22937894091767205, 0.20345392533496165, 0.17037647050011584, 0.13154597877649798, 0.08862652853638416, 0.043473546354522816, -0.001951040868825416, -0.045670869380806056, -0.0857896329957062, -0.12058300781296416, -0.14858307017251748, -0.16865061331126227, -0.1800313728705813, -0.18239300622958532], [-0.16923416092386775, -0.1800597155006458, -0.18242166855756492, -0.1760159755489718, -0.1609539875623888, -0.1377563081818195, -0.10732612754693129, -0.07090368426500879, -0.030004497243790427, 0.013655158230898757, 0.058241427706856384, 0.1018902143955224, 0.14279404657238684, 0.1792839709402817, 0.20990234059772522, 0.23346296309158113, 0.24909585663212155, 0.2562747828163765, 0.2548267267047997, 0.24492352037505036, 0.2270567942100705, 0.20199833430642128, 0.17074867404778504, 0.134477311926808, 0.09445829662141196, 0.05200503792795912, 0.00840808631479302, -0.03512071345143313, -0.07749482277960204, -0.1177881852505473, -0.15525760655490364, -0.18935183535374994, -0.21970771693043264, -0.24613461781837798, -0.268589046149572, -0.28714197491104243, -0.30194177876754097, -0.31317589634427284, -0.3210343185560354, -0.32567778292945404, -0.32721314035298743, -0.32567778292945404, -0.3210343185560354, -0.31317589634427284, -0.30194177876754097, -0.28714197491104243, -0.268589046149572, -0.24613461781837798, -0.21970771693043264, -0.18935183535374994, -0.15525760655490364, -0.1177881852505473, -0.07749482277960204, -0.03512071345143313, 0.00840808631479302, 0.05200503792795912, 0.09445829662141196, 0.134477311926808, 0.17074867404778504, 0.20199833430642128, 0.2270567942100705, 0.24492352037505036, 0.2548267267047997, 0.2562747828163765, 0.24909585663212155, 0.23346296309158113, 0.20990234059772522, 0.1792839709402817, 0.14279404657238684, 0.1018902143955224, 0.058241427706856384, 0.013655158230898757, -0.030004497243790427, -0.07090368426500879, -0.10732612754693129, -0.1377563081818195, -0.1609539875623888, -0.1760159755489718, -0.18242166855756492, -0.1800597155006458], [-0.16021647158282734, -0.1751457556394694, -0.1821644169794075, -0.18078273088932142, -0.17090060569317098, -0.1528102839666787, -0.1271795169340972, -0.0950164022704569, -0.05761803324395176, -0.016505930263581485, 0.026648129724923395, 0.07010183827093616, 0.11212338767979044, 0.15106960365711752, 0.18545724476618586, 0.21402402107025095, 0.23577655069724138, 0.25002327766855664, 0.25639126767027576, 0.2548267267047997, 0.2455799958764798, 0.22917661128094333, 0.2063767337439853, 0.17812580971586786, 0.14549969299473817, 0.1096476200446325, 0.07173638515428266, 0.032898814044057145, -0.005810793613848673, -0.043452159632214875, -0.0792240541655952, -0.11247819731414006, -0.1427221428215067, -0.1696119802323752, -0.1929363397545002, -0.2125937105436689, -0.22856545626592412, -0.24088710992360066, -0.24962054293732017, -0.254829433326894, -0.2565601183892334, -0.254829433326894, -0.24962054293732017, -0.24088710992360066, -0.22856545626592412, -0.2125937105436689, -0.1929363397545002, -0.1696119802323752, -0.1427221428215067, -0.11247819731414006, -0.0792240541655952, -0.043452159632214875, -0.005810793613848673, 0.032898814044057145, 0.07173638515428266, 0.1096476200446325, 0.14549969299473817, 0.17812580971586786, 0.2063767337439853, 0.22917661128094333, 0.2455799958764798, 0.2548267267047997, 0.25639126767027576, 0.25002327766855664, 0.23577655069724138, 0.21402402107025095, 0.18545724476618586, 0.15106960365711752, 0.11212338767979044, 0.07010183827093616, 0.026648129724923395, -0.016505930263581485, -0.05761803324395176, -0.0950164022704569, -0.1271795169340972, -0.1528102839666787, -0.17090060569317098, -0.18078273088932142, -0.1821644169794075, -0.1751457556394694], [-0.1487375524385824, -0.16751643729146143, -0.17903560277058095, -0.1826358700412797, -0.17801860199902664, -0.16525654180237792, -0.14478624788034108, -0.11738288358628372, -0.08411903827788304, -0.046310064114579955, -0.005449066140771361, 0.03686485131708162, 0.07900122348247962, 0.11937185506223688, 0.15649972810645998, 0.1890798565922851, 0.21602931256266372, 0.2365243422174828, 0.25002327766855664, 0.2562747828163765, 0.2553118000893658, 0.24743234013685533, 0.23316893482082693, 0.21324911772700825, 0.18854967763954522, 0.16004763127913005, 0.12877087581897034, 0.0957513146109, 0.06198291759831892, 0.02838670735216783, -0.004215913110515241, -0.03512071345143313, -0.06374895250625122, -0.08964697741323371, -0.11247819731414006, -0.132008995765264, -0.14809048863531396, -0.16063822727306362, -0.1696119802323752, -0.17499760171649797, -0.17679272260843765, -0.17499760171649797, -0.1696119802323752, -0.16063822727306362, -0.14809048863531396, -0.132008995765264, -0.11247819731414006, -0.08964697741323371, -0.06374895250625122, -0.03512071345143313, -0.004215913110515241, 0.02838670735216783, 0.06198291759831892, 0.0957513146109, 0.12877087581897034, 0.16004763127913005, 0.18854967763954522, 0.21324911772700825, 0.23316893482082693, 0.24743234013685533, 0.2553118000893658, 0.2562747828163765, 0.25002327766855664, 0.2365243422174828, 0.21602931256266372, 0.1890798565922851, 0.15649972810645998, 0.11937185506223688, 0.07900122348247962, 0.03686485131708162, -0.005449066140771361, -0.046310064114579955, -0.08411903827788304, -0.11738288358628372, -0.14478624788034108, -0.16525654180237792, -0.17801860199902664, -0.1826358700412797, -0.17903560277058095, -0.16751643729146143], [-0.13481430178982187, -0.15710321083861073, -0.17287351607260817, -0.18131560690315682, -0.18194839266053625, -0.17463748569481502, -0.15959621882048483, -0.13736985507049018, -0.10880422217787396, -0.0750007897964791, -0.03726086233570953, 0.0029779491154211806, 0.044209509361482956, 0.08492762656935865, 0.12369173187889267, 0.15918658398472915, 0.1902732638436695, 0.21602931256266372, 0.23577655069724138, 0.24909585663212155, 0.25582893038458626, 0.2560677827399544, 0.25013332713993036, 0.23854497801642713, 0.22198354690007724, 0.20124995852555586, 0.17722237538812438, 0.15081422331281308, 0.12293536517635703, 0.09445829662141196, 0.0661907655654817, 0.03885568116655977, 0.013078615468659323, -0.010617349295218181, -0.03181017613329085, -0.050171999808914604, -0.06545830501430487, -0.07749482277960204, -0.08616386191642225, -0.09139170665445415, -0.09313849939964196, -0.09139170665445415, -0.08616386191642225, -0.07749482277960204, -0.06545830501430487, -0.050171999808914604, -0.03181017613329085, -0.010617349295218181, 0.013078615468659323, 0.03885568116655977, 0.0661907655654817, 0.09445829662141196, 0.12293536517635703, 0.15081422331281308, 0.17722237538812438, 0.20124995852555586, 0.22198354690007724, 0.23854497801642713, 0.25013332713993036, 0.2560677827399544, 0.25582893038458626, 0.24909585663212155, 0.23577655069724138, 0.21602931256266372, 0.1902732638436695, 0.15918658398472915, 0.12369173187889267, 0.08492762656935865, 0.044209509361482956, 0.0029779491154211806, -0.03726086233570953, -0.0750007897964791, -0.10880422217787396, -0.13736985507049018, -0.15959621882048483, -0.17463748569481502, -0.18194839266053625, -0.18131560690315682, -0.17287351607260817, -0.15710321083861073], [-0.11853755153953284, -0.14391335124448024, -0.163591222139663, -0.17663261032673944, -0.18239300622958532, -0.18054660691367944, -0.17109514979541934, -0.1543609103022869, -0.13096468174943518, -0.10179031338845618, -0.06793803188546253, -0.03066927919323432, 0.008653858363151095, 0.04863139306208121, 0.0878871354792479, 0.12512633286074154, 0.15918658398472915, 0.1890798565922851, 0.21402402107025095, 0.23346296309158113, 0.24707500803079696, 0.25477004091850136, 0.2566762997375786, 0.25311832399967577, 0.24458792842044305, 0.2317103248693539, 0.2152076253393881, 0.19586192453391038, 0.17447999195279823, 0.15186131748507978, 0.12877087581897034, 0.10591753298818528, 0.08393854575868848, 0.06339013493636744, 0.044743679368913644, 0.02838670735216783, 0.014627580006334946, 0.0037025838949493145, -0.004215913110515241, -0.009011537058698997, -0.010617349295218181, -0.009011537058698997, -0.004215913110515241, 0.0037025838949493145, 0.014627580006334946, 0.02838670735216783, 0.044743679368913644, 0.06339013493636744, 0.08393854575868848, 0.10591753298818528, 0.12877087581897034, 0.15186131748507978, 0.17447999195279823, 0.19586192453391038, 0.2152076253393881, 0.2317103248693539, 0.24458792842044305, 0.25311832399967577, 0.2566762997375786, 0.25477004091850136, 0.24707500803079696, 0.23346296309158113, 0.21402402107025095, 0.1890798565922851, 0.15918658398472915, 0.12512633286074154, 0.0878871354792479, 0.04863139306208121, 0.008653858363151095, -0.03066927919323432, -0.06793803188546253, -0.10179031338845618, -0.13096468174943518, -0.1543609103022869, -0.17109514979541934, -0.18054660691367944, -0.18239300622958532, -0.17663261032673944, -0.163591222139663, -0.14391335124448024], [-0.10007704610444179, -0.12803786284735597, -0.1511875643863488, -0.16848219583369567, -0.17913546063850083, -0.18264893898060253, -0.1788278960809016, -0.16778234479339135, -0.1499137997580331, -0.1258888846262905, -0.09660159075517502, -0.0631265026963309, -0.026665677985416577, 0.011507919583092052, 0.05010748884225075, 0.0878871354792479, 0.12369173187889267, 0.15649972810645998, 0.18545724476618586, 0.20990234059772522, 0.22937894091767205, 0.24364050109720906, 0.25264402764959015, 0.25653555744366946, 0.25562857790064414, 0.25037713957121355, 0.2413455569066888, 0.22917661128094333, 0.21456006847846779, 0.1982031145119569, 0.18080401871815463, 0.1630299764243758, 0.14549969299473817, 0.12877087581897034, 0.11333242903336226, 0.09960082298540655, 0.08791985781076668, 0.07856287339249271, 0.07173638515428266, 0.06758414818694233, 0.0661907655654817, 0.06758414818694233, 0.07173638515428266, 0.07856287339249271, 0.08791985781076668, 0.09960082298540655, 0.11333242903336226, 0.12877087581897034, 0.14549969299473817, 0.1630299764243758, 0.18080401871815463, 0.1982031145119569, 0.21456006847846779, 0.22917661128094333, 0.2413455569066888, 0.25037713957121355, 0.25562857790064414, 0.25653555744366946, 0.25264402764959015, 0.24364050109720906, 0.22937894091767205, 0.20990234059772522, 0.18545724476618586, 0.15649972810645998, 0.12369173187889267, 0.0878871354792479, 0.05010748884225075, 0.011507919583092052, -0.026665677985416577, -0.0631265026963309, -0.09660159075517502, -0.1258888846262905, -0.1499137997580331, -0.16778234479339135, -0.1788278960809016, -0.18264893898060253, -0.17913546063850083, -0.16848219583369567, -0.1511875643863488, -0.12803786284735597], [-0.07968395387291566, -0.10965701691843574, -0.13575600794040762, -0.15685668268767797, -0.17205475511311313, -0.1807007071005138, -0.18242166855756492, -0.17712974307464055, -0.16501687105976595, -0.14653700801271363, -0.12237701362727325, -0.09341816596346665, -0.060690608986011814, -0.02532329427921568, 0.011507919583092052, 0.04863139306208121, 0.08492762656935865, 0.11937185506223688, 0.15106960365711752, 0.1792839709402817, 0.20345392533496165, 0.2232034254780841, 0.2383416766936446, 0.24885528388828942, 0.254893432701845, 0.25674750760048576, 0.2548267267047997, 0.24963143467045815, 0.24172565029557566, 0.2317103248693539, 0.22019854657881394, 0.20779364608280457, 0.19507084218595108, 0.18256273925541686, 0.17074867404778504, 0.16004763127913005, 0.15081422331281308, 0.1433370736825879, 0.13783886506830845, 0.134477311926808, 0.1333463922312941, 0.134477311926808, 0.13783886506830845, 0.1433370736825879, 0.15081422331281308, 0.16004763127913005, 0.17074867404778504, 0.18256273925541686, 0.19507084218595108, 0.20779364608280457, 0.22019854657881394, 0.2317103248693539, 0.24172565029557566, 0.24963143467045815, 0.2548267267047997, 0.25674750760048576, 0.254893432701845, 0.24885528388828942, 0.2383416766936446, 0.2232034254780841, 0.20345392533496165, 0.1792839709402817, 0.15106960365711752, 0.11937185506223688, 0.08492762656935865, 0.04863139306208121, 0.011507919583092052, -0.02532329427921568, -0.060690608986011814, -0.09341816596346665, -0.12237701362727325, -0.14653700801271363, -0.16501687105976595, -0.17712974307464055, -0.18242166855756492, -0.1807007071005138, -0.17205475511311313, -0.15685668268767797, -0.13575600794040762, -0.10965701691843574], [-0.05769048962428924, -0.08904297911487404, -0.11749065565570795, -0.14185512230149663, -0.16113955966514656, -0.17456713788189782, -0.18160802037610754, -0.18199408570471504, -0.17572115154133375, -0.16303912773542587, -0.14443111863131364, -0.12058300781296416, -0.09234546620178369, -0.060690608986011814, -0.026665677985416577, 0.008653858363151095, 0.044209509361482956, 0.07900122348247962, 0.11212338767979044, 0.14279404657238684, 0.17037647050011584, 0.1943926655354523, 0.2145288714461612, 0.23063350923189954, 0.242708395806646, 0.2508943222213973, 0.2554522819126627, 0.2567417315441088, 0.25519727019112654, 0.25130504004127213, 0.2455799958764798, 0.23854497801642713, 0.23071227369415245, 0.2225680860000738, 0.21456006847846779, 0.2070878465419809, 0.20049625055173417, 0.19507084218595108, 0.19103523332295086, 0.18854967763954522, 0.18771045677679687, 0.18854967763954522, 0.19103523332295086, 0.19507084218595108, 0.20049625055173417, 0.2070878465419809, 0.21456006847846779, 0.2225680860000738, 0.23071227369415245, 0.23854497801642713, 0.2455799958764798, 0.25130504004127213, 0.25519727019112654, 0.2567417315441088, 0.2554522819126627, 0.2508943222213973, 0.242708395806646, 0.23063350923189954, 0.2145288714461612, 0.1943926655354523, 0.17037647050011584, 0.14279404657238684, 0.11212338767979044, 0.07900122348247962, 0.044209509361482956, 0.008653858363151095, -0.026665677985416577, -0.060690608986011814, -0.09234546620178369, -0.12058300781296416, -0.14443111863131364, -0.16303912773542587, -0.17572115154133375, -0.18199408570471504, -0.18160802037610754, -0.17456713788189782, -0.16113955966514656, -0.14185512230149663, -0.11749065565570795, -0.08904297911487404], [-0.0345063152690242, -0.06655906279410359, -0.09668883252747353, -0.12368964794720452, -0.1464987033293174, -0.1642373823959323, -0.17624240938958516, -0.18208605074549258, -0.18158488243001691, -0.1747972342928682, -0.16200998595397612, -0.1437158894806465, -0.12058300781296416, -0.09341816596346665, -0.0631265026963309, -0.03066927919323432, 0.0029779491154211806, 0.03686485131708162, 0.07010183827093616, 0.1018902143955224, 0.13154597877649798, 0.15851669454452746, 0.18239124981424537, 0.20290271423033404, 0.21992483146863692, 0.23346296309158113, 0.24364050109720906, 0.2506818889186662, 0.254893432701845, 0.2566430509401283, 0.2563400102730029, 0.25441554164532254, 0.25130504004127213, 0.24743234013685533, 0.2431963471432226, 0.23896010343988033, 0.23504220166614895, 0.2317103248693539, 0.22917661128094333, 0.22759450814784551, 0.2270567942100705, 0.22759450814784551, 0.22917661128094333, 0.2317103248693539, 0.23504220166614895, 0.23896010343988033, 0.2431963471432226, 0.24743234013685533, 0.25130504004127213, 0.25441554164532254, 0.2563400102730029, 0.2566430509401283, 0.254893432701845, 0.2506818889186662, 0.24364050109720906, 0.23346296309158113, 0.21992483146863692, 0.20290271423033404, 0.18239124981424537, 0.15851669454452746, 0.13154597877649798, 0.1018902143955224, 0.07010183827093616, 0.03686485131708162, 0.0029779491154211806, -0.03066927919323432, -0.0631265026963309, -0.09341816596346665, -0.12058300781296416, -0.1437158894806465, -0.16200998595397612, -0.1747972342928682, -0.18158488243001691, -0.18208605074549258, -0.17624240938958516, -0.1642373823959323, -0.1464987033293174, -0.12368964794720452, -0.09668883252747353, -0.06655906279410359], [-0.01061150357619211, -0.042655257000177006, -0.07374973820785838, -0.10268778525178764, -0.1283676319466868, -0.14983554931501694, -0.16632015713858264, -0.17725715646546372, -0.18230376872794093, -0.18134271385500067, -0.17447608825271163, -0.16200998595397612, -0.14443111863131364, -0.12237701362727325, -0.09660159075517502, -0.06793803188546253, -0.03726086233570953, -0.005449066140771361, 0.026648129724923395, 0.058241427706856384, 0.08862652853638416, 0.11720338291232232, 0.14348926836260514, 0.16712567793535366, 0.18787932061729182, 0.20563779959612533, 0.22040074178662336, 0.23226729318028777, 0.24142096714711753, 0.24811283911536614, 0.25264402764959015, 0.255348298963932, 0.256575492104657, 0.2566762997375786, 0.2559887694405144, 0.2548267267047997, 0.25347017586536014, 0.252157618714697, 0.25108014921898075, 0.25037713957121355, 0.25013332713993036, 0.25037713957121355, 0.25108014921898075, 0.252157618714697, 0.25347017586536014, 0.2548267267047997, 0.2559887694405144, 0.2566762997375786, 0.256575492104657, 0.255348298963932, 0.25264402764959015, 0.24811283911536614, 0.24142096714711753, 0.23226729318028777, 0.22040074178662336, 0.20563779959612533, 0.18787932061729182, 0.16712567793535366, 0.14348926836260514, 0.11720338291232232, 0.08862652853638416, 0.058241427706856384, 0.026648129724923395, -0.005449066140771361, -0.03726086233570953, -0.06793803188546253, -0.09660159075517502, -0.12237701362727325, -0.14443111863131364, -0.16200998595397612, -0.17447608825271163, -0.18134271385500067, -0.18230376872794093, -0.17725715646546372, -0.16632015713858264, -0.14983554931501694, -0.1283676319466868, -0.10268778525178764, -0.07374973820785838, -0.042655257000177006], [0.013454008098850966, -0.017859822184363938, -0.04916880920228074, -0.07929019757294747, -0.10711012813756442, -0.1316269478872783, -0.15198770280837584, -0.16751643729146143, -0.17773339606034183, -0.18236471957976835, -0.18134271385500067, -0.1747972342928682, -0.16303912773542587, -0.14653700801271363, -0.1258888846262905, -0.10179031338845618, -0.0750007897964791, -0.046310064114579955, -0.016505930263581485, 0.013655158230898757, 0.043473546354522816, 0.07232710218505171, 0.09968670899986165, 0.12512633286074154, 0.14832776112580212, 0.16908036038891633, 0.18727640924644018, 0.20290271423033404, 0.21602931256266372, 0.22679610352037188, 0.23539823538075702, 0.2420710146043941, 0.24707500803079696, 0.2506818889186662, 0.2531614457800734, 0.25477004091850136, 0.2557406839380664, 0.2562747828163765, 0.25653555744366946, 0.2566430509401283, 0.2566706526738519, 0.2566430509401283, 0.25653555744366946, 0.2562747828163765, 0.2557406839380664, 0.25477004091850136, 0.2531614457800734, 0.2506818889186662, 0.24707500803079696, 0.2420710146043941, 0.23539823538075702, 0.22679610352037188, 0.21602931256266372, 0.20290271423033404, 0.18727640924644018, 0.16908036038891633, 0.14832776112580212, 0.12512633286074154, 0.09968670899986165, 0.07232710218505171, 0.043473546354522816, 0.013655158230898757, -0.016505930263581485, -0.046310064114579955, -0.0750007897964791, -0.10179031338845618, -0.1258888846262905, -0.14653700801271363, -0.16303912773542587, -0.1747972342928682, -0.18134271385500067, -0.18236471957976835, -0.17773339606034183, -0.16751643729146143, -0.15198770280837584, -0.1316269478872783, -0.10711012813756442, -0.07929019757294747, -0.04916880920228074, -0.017859822184363938], [0.037104384846577534, 0.007233082355737275, -0.023527608249201665, -0.054043516875550875, -0.08321475815193494, -0.11001880232017779, -0.13354819579908725, -0.15304146672549196, -0.167906160972842, -0.17773339606034183, -0.18230376872794093, -0.18158488243001691, -0.17572115154133375, -0.16501687105976595, -0.1499137997580331, -0.13096468174943518, -0.10880422217787396, -0.08411903827788304, -0.05761803324395176, -0.030004497243790427, -0.001951040868825416, 0.025921773001301992, 0.05306249567952219, 0.07900122348247962, 0.10335731863015635, 0.1258425822940911, 0.14626024334832619, 0.16450028494360933, 0.18053174205108255, 0.1943926655354523, 0.2061784643801796, 0.21602931256266372, 0.22411724822563847, 0.23063350923189954, 0.23577655069724138, 0.23974108638511749, 0.242708395806646, 0.24483804991090946, 0.24626113579560338, 0.24707500803079696, 0.24733956165584545, 0.24707500803079696, 0.24626113579560338, 0.24483804991090946, 0.242708395806646, 0.23974108638511749, 0.23577655069724138, 0.23063350923189954, 0.22411724822563847, 0.21602931256266372, 0.2061784643801796, 0.1943926655354523, 0.18053174205108255, 0.16450028494360933, 0.14626024334832619, 0.1258425822940911, 0.10335731863015635, 0.07900122348247962, 0.05306249567952219, 0.025921773001301992, -0.001951040868825416, -0.030004497243790427, -0.05761803324395176, -0.08411903827788304, -0.10880422217787396, -0.13096468174943518, -0.1499137997580331, -0.16501687105976595, -0.17572115154133375, -0.18158488243001691, -0.18230376872794093, -0.17773339606034183, -0.167906160972842, -0.15304146672549196, -0.13354819579908725, -0.11001880232017779, -0.08321475815193494, -0.054043516875550875, -0.023527608249201665, 0.007233082355737275], [0.059725017515438364, 0.03197958453286062, 0.0025207381574719806, -0.027588123185645037, -0.0572857273340844, -0.08555491563889543, -0.1114606806231028, -0.13418273806183595, -0.15304146672549196, -0.16751643729146143, -0.17725715646546372, -0.18208605074549258, -0.18199408570471504, -0.17712974307464055, -0.16778234479339135, -0.1543609103022869, -0.13736985507049018, -0.11738288358628372, -0.0950164022704569, -0.07090368426500879, -0.045670869380806056, -0.019915691575644292, 0.0058103924762656495, 0.031016232090896562, 0.05528095770522729, 0.07825990831739421, 0.09968670899986165, 0.11937185506223688, 0.13719827990417027, 0.15311446345017118, 0.16712567793535366, 0.1792839709402817, 0.18967745729212915, 0.19841943861188654, 0.20563779959612533, 0.21146505144444128, 0.21602931256266372, 0.21944644111666822, 0.22181346801290225, 0.2232034254780841, 0.22366162672468853, 0.2232034254780841, 0.22181346801290225, 0.21944644111666822, 0.21602931256266372, 0.21146505144444128, 0.20563779959612533, 0.19841943861188654, 0.18967745729212915, 0.1792839709402817, 0.16712567793535366, 0.15311446345017118, 0.13719827990417027, 0.11937185506223688, 0.09968670899986165, 0.07825990831739421, 0.05528095770522729, 0.031016232090896562, 0.0058103924762656495, -0.019915691575644292, -0.045670869380806056, -0.07090368426500879, -0.0950164022704569, -0.11738288358628372, -0.13736985507049018, -0.1543609103022869, -0.16778234479339135, -0.17712974307464055, -0.18199408570471504, -0.18208605074549258, -0.17725715646546372, -0.16751643729146143, -0.15304146672549196, -0.13418273806183595, -0.1114606806231028, -0.08555491563889543, -0.0572857273340844, -0.027588123185645037, 0.0025207381574719806, 0.03197958453286062], [0.08069235790121831, 0.05570574218106777, 0.028270310898122826, -0.0006409754282528475, -0.03002807965783915, -0.05890402451081101, -0.08633239590937543, -0.1114606806231028, -0.13354819579908725, -0.15198770280837584, -0.16632015713858264, -0.17624240938958516, -0.18160802037610754, -0.18242166855756492, -0.1788278960809016, -0.17109514979541934, -0.15959621882048483, -0.14478624788034108, -0.1271795169340972, -0.10732612754693129, -0.0857896329957062, -0.0631265026963309, -0.039868134180728126, -0.016505930263581485, 0.0065202421682302655, 0.02883009042098063, 0.05010748884225075, 0.07010183827093616, 0.08862652853638416, 0.10555493165712146, 0.12081441070397907, 0.13437885433763305, 0.14626024334832619, 0.15649972810645998, 0.16515865057394133, 0.17230988766358785, 0.17802983029511174, 0.18239124981424537, 0.18545724476618586, 0.18727640924644018, 0.18787932061729182, 0.18727640924644018, 0.18545724476618586, 0.18239124981424537, 0.17802983029511174, 0.17230988766358785, 0.16515865057394133, 0.15649972810645998, 0.14626024334832619, 0.13437885433763305, 0.12081441070397907, 0.10555493165712146, 0.08862652853638416, 0.07010183827093616, 0.05010748884225075, 0.02883009042098063, 0.0065202421682302655, -0.016505930263581485, -0.039868134180728126, -0.0631265026963309, -0.0857896329957062, -0.10732612754693129, -0.1271795169340972, -0.14478624788034108, -0.15959621882048483, -0.17109514979541934, -0.1788278960809016, -0.18242166855756492, -0.18160802037610754, -0.17624240938958516, -0.16632015713858264, -0.15198770280837584, -0.13354819579908725, -0.1114606806231028, -0.08633239590937543, -0.05890402451081101, -0.03002807965783915, -0.0006409754282528475, 0.028270310898122826, 0.05570574218106777], [0.0993958462307399, 0.07773008237271903, 0.05298490441364873, 0.026026147564044762, -0.0022274559793407315, -0.030841885736018544, -0.05890402451081101, -0.08555491563889543, -0.11001880232017779, -0.1316269478872783, -0.14983554931501694, -0.1642373823959323, -0.17456713788189782, -0.1807007071005138, -0.18264893898060253, -0.18054660691367944, -0.17463748569481502, -0.16525654180237792, -0.1528102839666787, -0.1377563081818195, -0.12058300781296416, -0.10179031338845618, -0.08187218787401292, -0.061301442485772274, -0.040517266401149735, -0.019915691575644292, 0.0001569493213448689, 0.019407660252202565, 0.03759772656874239, 0.054541276561040686, 0.07010183827093616, 0.08418731130237875, 0.09674378883254962, 0.10774865812501504, 0.11720338291232232, 0.12512633286074154, 0.13154597877649798, 0.13649472168344115, 0.14000357308347133, 0.14209785531573388, 0.14279404657238684, 0.14209785531573388, 0.14000357308347133, 0.13649472168344115, 0.13154597877649798, 0.12512633286074154, 0.11720338291232232, 0.10774865812501504, 0.09674378883254962, 0.08418731130237875, 0.07010183827093616, 0.054541276561040686, 0.03759772656874239, 0.019407660252202565, 0.0001569493213448689, -0.019915691575644292, -0.040517266401149735, -0.061301442485772274, -0.08187218787401292, -0.10179031338845618, -0.12058300781296416, -0.1377563081818195, -0.1528102839666787, -0.16525654180237792, -0.17463748569481502, -0.18054660691367944, -0.18264893898060253, -0.1807007071005138, -0.17456713788189782, -0.1642373823959323, -0.14983554931501694, -0.1316269478872783, -0.11001880232017779, -0.08555491563889543, -0.05890402451081101, -0.030841885736018544, -0.0022274559793407315, 0.026026147564044762, 0.05298490441364873, 0.07773008237271903], [0.11526115097856117, 0.09738828403656238, 0.0759235678781371, 0.05161237775613617, 0.025275083284098894, -0.0022274559793407315, -0.03002807965783915, -0.0572857273340844, -0.08321475815193494, -0.10711012813756442, -0.1283676319466868, -0.1464987033293174, -0.16113955966514656, -0.17205475511311313, -0.17913546063850083, -0.18239300622958532, -0.18194839266053625, -0.17801860199902664, -0.17090060569317098, -0.1609539875623888, -0.14858307017251748, -0.13421936300715656, -0.11830504740258321, -0.10127808535368477, -0.08355939645450051, -0.06554239869174844, -0.04758506314163741, -0.030004497243790427, -0.013073952151520388, 0.0029779491154211806, 0.017966041941118966, 0.031745840459068614, 0.044209509361482956, 0.05528095770522729, 0.0649104168254659, 0.07306884206017318, 0.07974244535617742, 0.08492762656935865, 0.08862652853638416, 0.09084339726921295, 0.09158188560927924, 0.09084339726921295, 0.08862652853638416, 0.08492762656935865, 0.07974244535617742, 0.07306884206017318, 0.0649104168254659, 0.05528095770522729, 0.044209509361482956, 0.031745840459068614, 0.017966041941118966, 0.0029779491154211806, -0.013073952151520388, -0.030004497243790427, -0.04758506314163741, -0.06554239869174844, -0.08355939645450051, -0.10127808535368477, -0.11830504740258321, -0.13421936300715656, -0.14858307017251748, -0.1609539875623888, -0.17090060569317098, -0.17801860199902664, -0.18194839266053625, -0.18239300622958532, -0.17913546063850083, -0.17205475511311313, -0.16113955966514656, -0.1464987033293174, -0.1283676319466868, -0.10711012813756442, -0.08321475815193494, -0.0572857273340844, -0.03002807965783915, -0.0022274559793407315, 0.025275083284098894, 0.05161237775613617, 0.0759235678781371, 0.09738828403656238], [0.12777380562398274, 0.11405907878471819, 0.09636827159298987, 0.07531659368730659, 0.05161237775613617, 0.026026147564044762, -0.0006409754282528475, -0.027588123185645037, -0.054043516875550875, -0.07929019757294747, -0.10268778525178764, -0.12368964794720452, -0.14185512230149663, -0.15685668268767797, -0.16848219583369567, -0.17663261032673944, -0.18131560690315682, -0.1826358700412797, -0.18078273088932142, -0.1760159755489718, -0.16865061331126227, -0.15904136091487175, -0.14756752732225356, -0.13461888616197776, -0.12058300781296416, -0.10583439818051152, -0.0907256642328181, -0.07558080422426758, -0.060690608986011814, -0.046310064114579955, -0.032657564269347995, -0.019915691575644292, -0.00823327044894154, 0.0022716100207446164, 0.011507919583092052, 0.019407660252202565, 0.025921773001301992, 0.031016232090896562, 0.03466854669458865, 0.03686485131708162, 0.03759772656874239, 0.03686485131708162, 0.03466854669458865, 0.031016232090896562, 0.025921773001301992, 0.019407660252202565, 0.011507919583092052, 0.0022716100207446164, -0.00823327044894154, -0.019915691575644292, -0.032657564269347995, -0.046310064114579955, -0.060690608986011814, -0.07558080422426758, -0.0907256642328181, -0.10583439818051152, -0.12058300781296416, -0.13461888616197776, -0.14756752732225356, -0.15904136091487175, -0.16865061331126227, -0.1760159755489718, -0.18078273088932142, -0.1826358700412797, -0.18131560690315682, -0.17663261032673944, -0.16848219583369567, -0.15685668268767797, -0.14185512230149663, -0.12368964794720452, -0.10268778525178764, -0.07929019757294747, -0.054043516875550875, -0.027588123185645037, -0.0006409754282528475, 0.026026147564044762, 0.05161237775613617, 0.07531659368730659, 0.09636827159298987, 0.11405907878471819], [0.13650222610828716, 0.12719030582037316, 0.1136526088802527, 0.09636827159298987, 0.0759235678781371, 0.05298490441364873, 0.028270310898122826, 0.0025207381574719806, -0.023527608249201665, -0.04916880920228074, -0.07374973820785838, -0.09668883252747353, -0.11749065565570795, -0.13575600794040762, -0.1511875643863488, -0.163591222139663, -0.17287351607260817, -0.17903560277058095, -0.1821644169794075, -0.18242166855756492, -0.1800313728705813, -0.1752665961050691, -0.16843605361995675, -0.15987112992755653, -0.1499137997580331, -0.13890582780165694, -0.1271795169340972, -0.11505016730310495, -0.10281030706494565, -0.0907256642328181, -0.07903277128303789, -0.06793803188546253, -0.05761803324395176, -0.04822085787410071, -0.039868134180728126, -0.032657564269347995, -0.026665677985416577, -0.021950582012676394, -0.01855449981019833, -0.016505930263581485, -0.015821288518275644, -0.016505930263581485, -0.01855449981019833, -0.021950582012676394, -0.026665677985416577, -0.032657564269347995, -0.039868134180728126, -0.04822085787410071, -0.05761803324395176, -0.06793803188546253, -0.07903277128303789, -0.0907256642328181, -0.10281030706494565, -0.11505016730310495, -0.1271795169340972, -0.13890582780165694, -0.1499137997580331, -0.15987112992755653, -0.16843605361995675, -0.1752665961050691, -0.1800313728705813, -0.18242166855756492, -0.1821644169794075, -0.17903560277058095, -0.17287351607260817, -0.163591222139663, -0.1511875643863488, -0.13575600794040762, -0.11749065565570795, -0.09668883252747353, -0.07374973820785838, -0.04916880920228074, -0.023527608249201665, 0.0025207381574719806, 0.028270310898122826, 0.05298490441364873, 0.0759235678781371, 0.09636827159298987, 0.1136526088802527, 0.12719030582037316], [0.14111903500315878, 0.13632396086944565, 0.12719030582037316, 0.11405907878471819, 0.09738828403656238, 0.07773008237271903, 0.05570574218106777, 0.03197958453286062, 0.007233082355737275, -0.017859822184363938, -0.042655257000177006, -0.06655906279410359, -0.08904297911487404, -0.10965701691843574, -0.12803786284735597, -0.14391335124448024, -0.15710321083861073, -0.16751643729146143, -0.1751457556394694, -0.1800597155006458, -0.18239300622958532, -0.18233559039097344, -0.18012123502583363, -0.1760159755489718, -0.17030698199702413, -0.16329221750830802, -0.15527119023634722, -0.14653700801271363, -0.13736985507049018, -0.12803192632998142, -0.11876378051842666, -0.10978201113265723, -0.10127808535368477, -0.09341816596346665, -0.08634370978474622, -0.08017262722723162, -0.0750007897964791, -0.07090368426500879, -0.06793803188546253, -0.06614321685638791, -0.06554239869174844, -0.06614321685638791, -0.06793803188546253, -0.07090368426500879, -0.0750007897964791, -0.08017262722723162, -0.08634370978474622, -0.09341816596346665, -0.10127808535368477, -0.10978201113265723, -0.11876378051842666, -0.12803192632998142, -0.13736985507049018, -0.14653700801271363, -0.15527119023634722, -0.16329221750830802, -0.17030698199702413, -0.1760159755489718, -0.18012123502583363, -0.18233559039097344, -0.18239300622958532, -0.1800597155006458, -0.1751457556394694, -0.16751643729146143, -0.15710321083861073, -0.14391335124448024, -0.12803786284735597, -0.10965701691843574, -0.08904297911487404, -0.06655906279410359, -0.042655257000177006, -0.017859822184363938, 0.007233082355737275, 0.03197958453286062, 0.05570574218106777, 0.07773008237271903, 0.09738828403656238, 0.11405907878471819, 0.12719030582037316, 0.13632396086944565]]}],\n                        {\"legend\": {\"bgcolor\": \"#151516\", \"font\": {\"color\": \"#D9D9D9\"}}, \"margin\": {\"b\": 0, \"l\": 0, \"r\": 0, \"t\": 0}, \"paper_bgcolor\": \"#151516\", \"plot_bgcolor\": \"#151516\", \"template\": {\"data\": {\"bar\": [{\"error_x\": {\"color\": \"#2a3f5f\"}, \"error_y\": {\"color\": \"#2a3f5f\"}, \"marker\": {\"line\": {\"color\": \"#E5ECF6\", \"width\": 0.5}}, \"type\": \"bar\"}], \"barpolar\": [{\"marker\": {\"line\": {\"color\": \"#E5ECF6\", \"width\": 0.5}}, \"type\": \"barpolar\"}], \"carpet\": [{\"aaxis\": {\"endlinecolor\": \"#2a3f5f\", \"gridcolor\": \"white\", \"linecolor\": \"white\", \"minorgridcolor\": \"white\", \"startlinecolor\": \"#2a3f5f\"}, \"baxis\": {\"endlinecolor\": \"#2a3f5f\", \"gridcolor\": \"white\", \"linecolor\": \"white\", \"minorgridcolor\": \"white\", \"startlinecolor\": \"#2a3f5f\"}, \"type\": \"carpet\"}], \"choropleth\": [{\"colorbar\": {\"outlinewidth\": 0, \"ticks\": \"\"}, \"type\": \"choropleth\"}], \"contour\": [{\"colorbar\": {\"outlinewidth\": 0, \"ticks\": \"\"}, \"colorscale\": [[0.0, \"#0d0887\"], [0.1111111111111111, \"#46039f\"], [0.2222222222222222, \"#7201a8\"], [0.3333333333333333, \"#9c179e\"], [0.4444444444444444, \"#bd3786\"], [0.5555555555555556, \"#d8576b\"], [0.6666666666666666, \"#ed7953\"], [0.7777777777777778, \"#fb9f3a\"], [0.8888888888888888, \"#fdca26\"], [1.0, \"#f0f921\"]], \"type\": \"contour\"}], \"contourcarpet\": [{\"colorbar\": {\"outlinewidth\": 0, \"ticks\": \"\"}, \"type\": \"contourcarpet\"}], \"heatmap\": [{\"colorbar\": {\"outlinewidth\": 0, \"ticks\": \"\"}, \"colorscale\": [[0.0, \"#0d0887\"], [0.1111111111111111, \"#46039f\"], [0.2222222222222222, \"#7201a8\"], [0.3333333333333333, \"#9c179e\"], [0.4444444444444444, \"#bd3786\"], [0.5555555555555556, \"#d8576b\"], [0.6666666666666666, \"#ed7953\"], [0.7777777777777778, \"#fb9f3a\"], [0.8888888888888888, \"#fdca26\"], [1.0, \"#f0f921\"]], \"type\": \"heatmap\"}], \"heatmapgl\": [{\"colorbar\": {\"outlinewidth\": 0, \"ticks\": \"\"}, \"colorscale\": [[0.0, \"#0d0887\"], [0.1111111111111111, \"#46039f\"], [0.2222222222222222, \"#7201a8\"], [0.3333333333333333, \"#9c179e\"], [0.4444444444444444, \"#bd3786\"], [0.5555555555555556, \"#d8576b\"], [0.6666666666666666, \"#ed7953\"], [0.7777777777777778, \"#fb9f3a\"], [0.8888888888888888, \"#fdca26\"], [1.0, \"#f0f921\"]], \"type\": \"heatmapgl\"}], \"histogram\": [{\"marker\": {\"colorbar\": {\"outlinewidth\": 0, \"ticks\": \"\"}}, \"type\": \"histogram\"}], \"histogram2d\": [{\"colorbar\": {\"outlinewidth\": 0, \"ticks\": \"\"}, \"colorscale\": [[0.0, \"#0d0887\"], [0.1111111111111111, \"#46039f\"], [0.2222222222222222, \"#7201a8\"], [0.3333333333333333, \"#9c179e\"], [0.4444444444444444, \"#bd3786\"], [0.5555555555555556, \"#d8576b\"], [0.6666666666666666, \"#ed7953\"], [0.7777777777777778, \"#fb9f3a\"], [0.8888888888888888, \"#fdca26\"], [1.0, \"#f0f921\"]], \"type\": \"histogram2d\"}], \"histogram2dcontour\": [{\"colorbar\": {\"outlinewidth\": 0, \"ticks\": \"\"}, \"colorscale\": [[0.0, \"#0d0887\"], [0.1111111111111111, \"#46039f\"], [0.2222222222222222, \"#7201a8\"], [0.3333333333333333, \"#9c179e\"], [0.4444444444444444, \"#bd3786\"], [0.5555555555555556, \"#d8576b\"], [0.6666666666666666, \"#ed7953\"], [0.7777777777777778, \"#fb9f3a\"], [0.8888888888888888, \"#fdca26\"], [1.0, \"#f0f921\"]], \"type\": \"histogram2dcontour\"}], \"mesh3d\": [{\"colorbar\": {\"outlinewidth\": 0, \"ticks\": \"\"}, \"type\": \"mesh3d\"}], \"parcoords\": [{\"line\": {\"colorbar\": {\"outlinewidth\": 0, \"ticks\": \"\"}}, \"type\": \"parcoords\"}], \"pie\": [{\"automargin\": true, \"type\": \"pie\"}], \"scatter\": [{\"marker\": {\"colorbar\": {\"outlinewidth\": 0, \"ticks\": \"\"}}, \"type\": \"scatter\"}], \"scatter3d\": [{\"line\": {\"colorbar\": {\"outlinewidth\": 0, \"ticks\": \"\"}}, \"marker\": {\"colorbar\": {\"outlinewidth\": 0, \"ticks\": \"\"}}, \"type\": \"scatter3d\"}], \"scattercarpet\": [{\"marker\": {\"colorbar\": {\"outlinewidth\": 0, \"ticks\": \"\"}}, \"type\": \"scattercarpet\"}], \"scattergeo\": [{\"marker\": {\"colorbar\": {\"outlinewidth\": 0, \"ticks\": \"\"}}, \"type\": \"scattergeo\"}], \"scattergl\": [{\"marker\": {\"colorbar\": {\"outlinewidth\": 0, \"ticks\": \"\"}}, \"type\": \"scattergl\"}], \"scattermapbox\": [{\"marker\": {\"colorbar\": {\"outlinewidth\": 0, \"ticks\": \"\"}}, \"type\": \"scattermapbox\"}], \"scatterpolar\": [{\"marker\": {\"colorbar\": {\"outlinewidth\": 0, \"ticks\": \"\"}}, \"type\": \"scatterpolar\"}], \"scatterpolargl\": [{\"marker\": {\"colorbar\": {\"outlinewidth\": 0, \"ticks\": \"\"}}, \"type\": \"scatterpolargl\"}], \"scatterternary\": [{\"marker\": {\"colorbar\": {\"outlinewidth\": 0, \"ticks\": \"\"}}, \"type\": \"scatterternary\"}], \"surface\": [{\"colorbar\": {\"outlinewidth\": 0, \"ticks\": \"\"}, \"colorscale\": [[0.0, \"#0d0887\"], [0.1111111111111111, \"#46039f\"], [0.2222222222222222, \"#7201a8\"], [0.3333333333333333, \"#9c179e\"], [0.4444444444444444, \"#bd3786\"], [0.5555555555555556, \"#d8576b\"], [0.6666666666666666, \"#ed7953\"], [0.7777777777777778, \"#fb9f3a\"], [0.8888888888888888, \"#fdca26\"], [1.0, \"#f0f921\"]], \"type\": \"surface\"}], \"table\": [{\"cells\": {\"fill\": {\"color\": \"#EBF0F8\"}, \"line\": {\"color\": \"white\"}}, \"header\": {\"fill\": {\"color\": \"#C8D4E3\"}, \"line\": {\"color\": \"white\"}}, \"type\": \"table\"}]}, \"layout\": {\"annotationdefaults\": {\"arrowcolor\": \"#2a3f5f\", \"arrowhead\": 0, \"arrowwidth\": 1}, \"coloraxis\": {\"colorbar\": {\"outlinewidth\": 0, \"ticks\": \"\"}}, \"colorscale\": {\"diverging\": [[0, \"#8e0152\"], [0.1, \"#c51b7d\"], [0.2, \"#de77ae\"], [0.3, \"#f1b6da\"], [0.4, \"#fde0ef\"], [0.5, \"#f7f7f7\"], [0.6, \"#e6f5d0\"], [0.7, \"#b8e186\"], [0.8, \"#7fbc41\"], [0.9, \"#4d9221\"], [1, \"#276419\"]], \"sequential\": [[0.0, \"#0d0887\"], [0.1111111111111111, \"#46039f\"], [0.2222222222222222, \"#7201a8\"], [0.3333333333333333, \"#9c179e\"], [0.4444444444444444, \"#bd3786\"], [0.5555555555555556, \"#d8576b\"], [0.6666666666666666, \"#ed7953\"], [0.7777777777777778, \"#fb9f3a\"], [0.8888888888888888, \"#fdca26\"], [1.0, \"#f0f921\"]], \"sequentialminus\": [[0.0, \"#0d0887\"], [0.1111111111111111, \"#46039f\"], [0.2222222222222222, \"#7201a8\"], [0.3333333333333333, \"#9c179e\"], [0.4444444444444444, \"#bd3786\"], [0.5555555555555556, \"#d8576b\"], [0.6666666666666666, \"#ed7953\"], [0.7777777777777778, \"#fb9f3a\"], [0.8888888888888888, \"#fdca26\"], [1.0, \"#f0f921\"]]}, \"colorway\": [\"#636efa\", \"#EF553B\", \"#00cc96\", \"#ab63fa\", \"#FFA15A\", \"#19d3f3\", \"#FF6692\", \"#B6E880\", \"#FF97FF\", \"#FECB52\"], \"font\": {\"color\": \"#2a3f5f\"}, \"geo\": {\"bgcolor\": \"white\", \"lakecolor\": \"white\", \"landcolor\": \"#E5ECF6\", \"showlakes\": true, \"showland\": true, \"subunitcolor\": \"white\"}, \"hoverlabel\": {\"align\": \"left\"}, \"hovermode\": \"closest\", \"mapbox\": {\"style\": \"light\"}, \"paper_bgcolor\": \"white\", \"plot_bgcolor\": \"#E5ECF6\", \"polar\": {\"angularaxis\": {\"gridcolor\": \"white\", \"linecolor\": \"white\", \"ticks\": \"\"}, \"bgcolor\": \"#E5ECF6\", \"radialaxis\": {\"gridcolor\": \"white\", \"linecolor\": \"white\", \"ticks\": \"\"}}, \"scene\": {\"xaxis\": {\"backgroundcolor\": \"#E5ECF6\", \"gridcolor\": \"white\", \"gridwidth\": 2, \"linecolor\": \"white\", \"showbackground\": true, \"ticks\": \"\", \"zerolinecolor\": \"white\"}, \"yaxis\": {\"backgroundcolor\": \"#E5ECF6\", \"gridcolor\": \"white\", \"gridwidth\": 2, \"linecolor\": \"white\", \"showbackground\": true, \"ticks\": \"\", \"zerolinecolor\": \"white\"}, \"zaxis\": {\"backgroundcolor\": \"#E5ECF6\", \"gridcolor\": \"white\", \"gridwidth\": 2, \"linecolor\": \"white\", \"showbackground\": true, \"ticks\": \"\", \"zerolinecolor\": \"white\"}}, \"shapedefaults\": {\"line\": {\"color\": \"#2a3f5f\"}}, \"ternary\": {\"aaxis\": {\"gridcolor\": \"white\", \"linecolor\": \"white\", \"ticks\": \"\"}, \"baxis\": {\"gridcolor\": \"white\", \"linecolor\": \"white\", \"ticks\": \"\"}, \"bgcolor\": \"#E5ECF6\", \"caxis\": {\"gridcolor\": \"white\", \"linecolor\": \"white\", \"ticks\": \"\"}}, \"title\": {\"x\": 0.05}, \"xaxis\": {\"automargin\": true, \"gridcolor\": \"white\", \"linecolor\": \"white\", \"ticks\": \"\", \"title\": {\"standoff\": 15}, \"zerolinecolor\": \"white\", \"zerolinewidth\": 2}, \"yaxis\": {\"automargin\": true, \"gridcolor\": \"white\", \"linecolor\": \"white\", \"ticks\": \"\", \"title\": {\"standoff\": 15}, \"zerolinecolor\": \"white\", \"zerolinewidth\": 2}}}, \"title\": {\"font\": {\"color\": \"#D9D9D9\"}}, \"xaxis\": {\"gridcolor\": \"#434343\", \"showgrid\": true, \"tickfont\": {\"color\": \"#C2C2C2\"}, \"title\": {\"font\": {\"color\": \"#D9D9D9\"}, \"text\": \"\"}, \"zerolinecolor\": \"#666570\"}, \"yaxis\": {\"gridcolor\": \"#434343\", \"showgrid\": true, \"tickfont\": {\"color\": \"#C2C2C2\"}, \"title\": {\"font\": {\"color\": \"#D9D9D9\"}, \"text\": \"\"}, \"zerolinecolor\": \"#666570\"}},\n                        {\"showLink\": true, \"linkText\": \"Export to plot.ly\", \"plotlyServerURL\": \"https://plot.ly\", \"responsive\": true}\n                    ).then(function(){\n                            \nvar gd = document.getElementById('11038b34-ee8b-4ba6-ac3d-6d20109c6c16');\nvar x = new MutationObserver(function (mutations, observer) {{\n        var display = window.getComputedStyle(gd).display;\n        if (!display || display === 'none') {{\n            console.log([gd, 'removed!']);\n            Plotly.purge(gd);\n            observer.disconnect();\n        }}\n}});\n\n// Listen for the removal of the full notebook cells\nvar notebookContainer = gd.closest('#notebook-container');\nif (notebookContainer) {{\n    x.observe(notebookContainer, {childList: true});\n}}\n\n// Listen for the clearing of the current output cell\nvar outputEl = gd.closest('.output');\nif (outputEl) {{\n    x.observe(outputEl, {childList: true});\n}}\n\n                        })\n                };\n                });\n            </script>\n        </div>"
     },
     "metadata": {}
    }
   ],
   "source": [
    "cf.datagen.sinwave(10,.25).iplot(kind='surface',theme='solar',colorscale='brbg',margin=(0,0,0,0))"
   ]
  },
  {
   "cell_type": "code",
   "execution_count": 26,
   "metadata": {},
   "outputs": [],
   "source": [
    "df3=pd.DataFrame({'x':['a','b','c','d','e'],'y':[1,2,3,4,5],'z':[6,7,8,9,5]})"
   ]
  },
  {
   "cell_type": "code",
   "execution_count": 28,
   "metadata": {},
   "outputs": [
    {
     "output_type": "execute_result",
     "data": {
      "text/plain": "   x  y  z\n0  a  1  6\n1  b  2  7\n2  c  3  8\n3  d  4  9\n4  e  5  5",
      "text/html": "<div>\n<style scoped>\n    .dataframe tbody tr th:only-of-type {\n        vertical-align: middle;\n    }\n\n    .dataframe tbody tr th {\n        vertical-align: top;\n    }\n\n    .dataframe thead th {\n        text-align: right;\n    }\n</style>\n<table border=\"1\" class=\"dataframe\">\n  <thead>\n    <tr style=\"text-align: right;\">\n      <th></th>\n      <th>x</th>\n      <th>y</th>\n      <th>z</th>\n    </tr>\n  </thead>\n  <tbody>\n    <tr>\n      <th>0</th>\n      <td>a</td>\n      <td>1</td>\n      <td>6</td>\n    </tr>\n    <tr>\n      <th>1</th>\n      <td>b</td>\n      <td>2</td>\n      <td>7</td>\n    </tr>\n    <tr>\n      <th>2</th>\n      <td>c</td>\n      <td>3</td>\n      <td>8</td>\n    </tr>\n    <tr>\n      <th>3</th>\n      <td>d</td>\n      <td>4</td>\n      <td>9</td>\n    </tr>\n    <tr>\n      <th>4</th>\n      <td>e</td>\n      <td>5</td>\n      <td>5</td>\n    </tr>\n  </tbody>\n</table>\n</div>"
     },
     "metadata": {},
     "execution_count": 28
    }
   ],
   "source": [
    "df3"
   ]
  },
  {
   "cell_type": "code",
   "execution_count": 35,
   "metadata": {},
   "outputs": [
    {
     "output_type": "display_data",
     "data": {
      "application/vnd.plotly.v1+json": {
       "config": {
        "linkText": "Export to plot.ly",
        "plotlyServerURL": "https://plot.ly",
        "showLink": true
       },
       "data": [
        {
         "boxpoints": false,
         "line": {
          "width": 1.3
         },
         "marker": {
          "color": "rgba(255, 153, 51, 1.0)"
         },
         "name": "a",
         "orientation": "v",
         "type": "box",
         "y": [
          0.06664371620244847,
          0.5407620947234574,
          0.6689151881233841,
          0.721092412348836,
          0.3759797914497993,
          0.39527735063052827,
          0.4934522395805472,
          0.855897801465149,
          0.7374102580018511,
          0.7287535440658456,
          0.9087893119029362,
          0.0389729107276543,
          0.9131979511127855,
          0.40962089859421325,
          0.47657514104573917,
          0.08720299353607297,
          0.13690164698888896,
          0.5035481247163679,
          0.266135761384094,
          0.6549949357531493,
          0.08051241257947772,
          0.9214281008363931,
          0.2829524471881053,
          0.6527173363263697,
          0.18800592724027765,
          0.5581934203599891,
          0.56098202587155,
          0.4601468637306919,
          0.7818563913340485,
          0.5536017893406393,
          0.2076552401035373,
          0.35928237992313494,
          0.6587218084028461,
          0.811613083395124,
          0.25420805654115597,
          0.6840002810466673,
          0.6111164582393296,
          0.2938576195012119,
          0.5111691101046774,
          0.3875542277771037,
          0.7451045436127167,
          0.9501473884996332,
          0.004498032004161545,
          0.5092605688140478,
          0.6564632643610027,
          0.6201931780594065,
          0.6842706981054051,
          0.2709670378722623,
          0.2120575730857116,
          0.8134311075392741,
          0.24116333321833616,
          0.23103251700435679,
          0.008515506141043239,
          0.39050763129267874,
          0.029665479583302568,
          0.3045989776296153,
          0.26725801998027643,
          0.26039194932627807,
          0.12224282846630519,
          0.6330862699036091,
          0.5457474773327132,
          0.4180438341797862,
          0.46736457227967254,
          0.2185566342291806,
          0.08059260147056657,
          0.38368185010623335,
          0.3086118649520281,
          0.2908710248091253,
          0.21329586658150246,
          0.15006898078339448,
          0.5450323688265107,
          0.5531789726038746,
          0.9480092589771546,
          0.061642493465942194,
          0.4105801261150056,
          0.6296851450210539,
          0.6368558770397965,
          0.01642034253496527,
          0.30064919685985814,
          0.1130722453206362,
          0.9458354659747372,
          0.631307464603639,
          0.6938179081613992,
          0.8876160139563236,
          0.2637635757689851,
          0.7855477777304667,
          0.22261139352906356,
          0.004728933024584991,
          0.9885717734657872,
          0.6468037364293703,
          0.8205938194632254,
          0.46987932516763353,
          0.10891344024228955,
          0.5532588345858189,
          0.3828403044919656,
          0.6048392490123118,
          0.12306666157306034,
          0.7889998286430977,
          0.9125580422545567,
          0.013538786394112545
         ]
        },
        {
         "boxpoints": false,
         "line": {
          "width": 1.3
         },
         "marker": {
          "color": "rgba(55, 128, 191, 1.0)"
         },
         "name": "b",
         "orientation": "v",
         "type": "box",
         "y": [
          0.1708528654602024,
          0.7947643961159381,
          0.12666139207012694,
          0.3704731100280987,
          0.4268231835968821,
          0.35764351148766405,
          0.2305666365210597,
          0.5538324288018692,
          0.594848156221167,
          0.9200479583746664,
          0.07590398582031088,
          0.9671854096015232,
          0.7125727126759903,
          0.8271226920363048,
          0.7927056070623242,
          0.8726781316595718,
          0.8439521568895053,
          0.09259317145482682,
          0.23178163096381899,
          0.09344484466459091,
          0.5209866753943617,
          0.2827883678792852,
          0.7060326111475312,
          0.8269352626736227,
          0.07581189650262699,
          0.5534557276357995,
          0.4709639927533994,
          0.5077795018414701,
          0.8146512167413209,
          0.0632160619388743,
          0.3784684778530909,
          0.11831403628208981,
          0.6604793256512019,
          0.8508837419021006,
          0.07326909011979632,
          0.1707061886641288,
          0.24602297556450203,
          0.32942390765767826,
          0.7827689079006152,
          0.5707580434972809,
          0.4557217240085497,
          0.3213546954349775,
          0.959796038755243,
          0.6792786524938019,
          0.6221080084291316,
          0.7916085199812986,
          0.196691226645063,
          0.23166202663976354,
          0.9871650353364658,
          0.5609852351224877,
          0.23060749190256702,
          0.6030149483879629,
          0.5418942503693233,
          0.8313579981419337,
          0.5005334875818716,
          0.17581835788597155,
          0.06043898969061501,
          0.1513690889963779,
          0.4965519044757296,
          0.6845533661268685,
          0.9632402423903895,
          0.15123322447511456,
          0.05491020331362695,
          0.06992307697450528,
          0.9251471556135247,
          0.07302669974492837,
          0.8412452325410701,
          0.052016817071149024,
          0.8937151859836213,
          0.7394998538110885,
          0.3726497227625558,
          0.6433686562554597,
          0.7862230059861702,
          0.8116612066335772,
          0.38686238605025935,
          0.3060482999038615,
          0.6352252249607443,
          0.7774964614027035,
          0.7629484316044388,
          0.987975440479305,
          0.8664798150644375,
          0.020203965710475558,
          0.3398395293157366,
          0.1122650337145874,
          0.07152937015646599,
          0.5787200279474213,
          0.6593323504043507,
          0.37568271757463945,
          0.6662653070220816,
          0.7340273240332108,
          0.8256606515853963,
          0.6375461978363576,
          0.8841503987586986,
          0.7621034473804962,
          0.04889787877109286,
          0.0060500550690697485,
          0.4195028769104727,
          0.209559422638408,
          0.044830301159018204,
          0.7621977253010859
         ]
        },
        {
         "boxpoints": false,
         "line": {
          "width": 1.3
         },
         "marker": {
          "color": "rgba(50, 171, 96, 1.0)"
         },
         "name": "c",
         "orientation": "v",
         "type": "box",
         "y": [
          0.6049675436787881,
          0.26331913223246295,
          0.7093497387667826,
          0.8302857557323808,
          0.48628347640271563,
          0.5522401841546365,
          0.7228291561339886,
          0.3503155514198716,
          0.9914397301772295,
          0.3954321460490898,
          0.7843116835894328,
          0.8098075082347174,
          0.5932842876821278,
          0.02674830381482962,
          0.4766817949581674,
          0.23002742439608903,
          0.4602265437259899,
          0.5296780990255819,
          0.6942283623392663,
          0.6045974354017074,
          0.8693925106877225,
          0.1021380012277443,
          0.7117917702159499,
          0.7969334337405094,
          0.2717788438852057,
          0.43278204581902957,
          0.3045708377684585,
          0.2282920528355673,
          0.04597442807158014,
          0.26481441120906113,
          0.5211219007698088,
          0.27106703862801573,
          0.28702898825297607,
          0.9765162555913119,
          0.008257253692387834,
          0.5447918657135943,
          0.21141605255341878,
          0.09488071847727797,
          0.9043563093859569,
          0.288312049701824,
          0.7012557608593932,
          0.7256966546072516,
          0.9648880018708532,
          0.08717577188783832,
          0.4642191069010462,
          0.549304958948628,
          0.7012884961099369,
          0.6533582657360641,
          0.6276470849845789,
          0.9648159983530032,
          0.15600081458444204,
          0.5406290404996967,
          0.8863212327369236,
          0.1677634545916583,
          0.5178539995027887,
          0.3458429211423141,
          0.1448387562693667,
          0.381641212123084,
          0.3032667861950964,
          0.44372221360820363,
          0.5546848039087976,
          0.9720986463159164,
          0.7225295342207287,
          0.8947220777447558,
          0.9939324520057288,
          0.3263708279645252,
          0.0389664589280303,
          0.3158165877803921,
          0.04255771826746191,
          0.1849139335235478,
          0.3255720367741921,
          0.5113739914773018,
          0.16448770269175927,
          0.6566682569750413,
          0.5776520171077744,
          0.39676481813118003,
          0.8791928748221031,
          0.22739878817605397,
          0.06252907684031028,
          0.6272718635098893,
          0.11487809601356624,
          0.06732377536573741,
          0.5171878499166007,
          0.9172784823751415,
          0.8984754395357885,
          0.6360555404818192,
          0.40243266758619434,
          0.2475992299753933,
          0.1669422365112384,
          0.1906078764389888,
          0.9050301876983026,
          0.13610968306657167,
          0.608100963689494,
          0.533425961720379,
          0.3415471049417095,
          0.8586314676846226,
          0.9259990637093486,
          0.9634106051485283,
          0.02013274749745053,
          0.840859076418451
         ]
        },
        {
         "boxpoints": false,
         "line": {
          "width": 1.3
         },
         "marker": {
          "color": "rgba(128, 0, 128, 1.0)"
         },
         "name": "d",
         "orientation": "v",
         "type": "box",
         "y": [
          0.0944209317690835,
          0.27888666415576524,
          0.8971027826540451,
          0.9703086965990342,
          0.8817130309071713,
          0.09213840503236637,
          0.2506508366662863,
          0.34751131338191643,
          0.5632382537529974,
          0.7839079806829057,
          0.14136094541839772,
          0.1239181574356889,
          0.5183709155587094,
          0.8879671011492536,
          0.8862415126627536,
          0.8273976397723527,
          0.9681081716610408,
          0.6508327487564848,
          0.4882846998643292,
          0.2111779063802618,
          0.429923493368606,
          0.053978396884075575,
          0.6752913629339222,
          0.818297863533424,
          0.10834792608354837,
          0.7416729809867745,
          0.3628775786642817,
          0.012018942217303707,
          0.7945365042022574,
          0.18279967366125482,
          0.08793474635131249,
          0.28965013916749427,
          0.3867428066940999,
          0.47335651636728804,
          0.9712780949068064,
          0.2695543242698041,
          0.5920388619175281,
          0.8329440168983173,
          0.5821376074664862,
          0.7341441427248303,
          0.6227624864398681,
          0.6250052644894432,
          0.694038336600421,
          0.8832295899648193,
          0.6707685780149996,
          0.38746302379405706,
          0.8033371860928065,
          0.5236804851053737,
          0.77120374541525,
          0.604409150379552,
          0.987876295354519,
          0.09435569749284856,
          0.8072141448542798,
          0.5435456856502564,
          0.30227499214234754,
          0.3214213942919856,
          0.8702064837054988,
          0.12449571669631243,
          0.48026960273559016,
          0.45892143122601836,
          0.8007569335567352,
          0.4519647917046654,
          0.7658123844705579,
          0.9790941401922512,
          0.22129019065848288,
          0.8548704194015775,
          0.14665882650627815,
          0.9265345989674076,
          0.26461309397666444,
          0.5502597317163734,
          0.2839928253284473,
          0.7089222343874108,
          0.49096149864752403,
          0.32516205928596875,
          0.03897640035641359,
          0.3017764549665125,
          0.6906203045462328,
          0.7351264083570286,
          0.2311181454583905,
          0.06924175796310938,
          0.6003762149625248,
          0.7739289795749544,
          0.27240372360692,
          0.5774631792329177,
          0.9215225335910446,
          0.12239180219434853,
          0.7578831314505952,
          0.2750102253255118,
          0.398221968230527,
          0.952935903177787,
          0.7242616900052973,
          0.11175707736807117,
          0.5597984111910187,
          0.017122938015978084,
          0.287362995132462,
          0.6575270669889517,
          0.6494382732812658,
          0.3225819514359911,
          0.31842776744005963,
          0.2227059466347322
         ]
        },
        {
         "boxpoints": false,
         "line": {
          "width": 1.3
         },
         "marker": {
          "color": "rgba(219, 64, 82, 1.0)"
         },
         "name": "e",
         "orientation": "v",
         "type": "box",
         "y": [
          0.6386248483159467,
          0.5230234794175541,
          0.334425400642009,
          0.14111906583561784,
          0.5436551242044353,
          0.057507016432407077,
          0.12954892887776326,
          0.9474162278384648,
          0.8873319252212756,
          0.0798116475475571,
          0.6845187303329766,
          0.9279149655444716,
          0.5751229833911761,
          0.5385265455177648,
          0.41254552892304297,
          0.7467804729749405,
          0.7303742318613662,
          0.19959853092484137,
          0.9148640423520675,
          0.8952233533479554,
          0.3587099037823809,
          0.8947079475764166,
          0.7527801623028844,
          0.43988726169127124,
          0.979617189922973,
          0.5981527430743774,
          0.6613938719103097,
          0.9096486529907447,
          0.9040336650769615,
          0.16372620539699945,
          0.8322795437762803,
          0.544529289185489,
          0.490062206093244,
          0.6259842236675176,
          0.04725902504622792,
          0.3140694265487689,
          0.6127478881057613,
          0.5722154499196853,
          0.8374012010977401,
          0.1400318206160982,
          0.37280908452990746,
          0.6661735631596962,
          0.6925771504123995,
          0.3853243054847725,
          0.6508946678902378,
          0.1700645517449968,
          0.5857517349687471,
          0.1079471753868666,
          0.4120106730585339,
          0.42498087958855335,
          0.47051532678457186,
          0.02972428590138876,
          0.8474471912941407,
          0.22001161029189775,
          0.15420345160899263,
          0.22976532588681176,
          0.3369691691451099,
          0.9176119660182019,
          0.011858422487131981,
          0.010595137724684345,
          0.7029634195276654,
          0.9154269395651924,
          0.048411896943233224,
          0.37245727074263757,
          0.0970408691674347,
          0.628711412980803,
          0.1650999098586574,
          0.9866845038179446,
          0.93974413929864,
          0.6074254936914476,
          0.881871442159823,
          0.484109551417512,
          0.7605425257232539,
          0.23709920904711146,
          0.9376266121601954,
          0.3520017586732076,
          0.9009032391342261,
          0.3524375275421264,
          0.6525345794432336,
          0.2802068582966859,
          0.9769727521546657,
          0.6925087981863739,
          0.06564350783284423,
          0.38019462296902584,
          0.11830225307683995,
          0.5464968311252386,
          0.6515165595388999,
          0.5763863815496948,
          0.04558971712433424,
          0.1096354810225646,
          0.13246756152069228,
          0.4098089587672449,
          0.6538457126437346,
          0.823988445540373,
          0.451042162777353,
          0.3730107195331247,
          0.13183630769941235,
          0.28695527760987427,
          0.6429468693737694,
          0.7815839940458188
         ]
        }
       ],
       "layout": {
        "legend": {
         "bgcolor": "#F5F6F9",
         "font": {
          "color": "#4D5663"
         }
        },
        "paper_bgcolor": "#F5F6F9",
        "plot_bgcolor": "#F5F6F9",
        "template": {
         "data": {
          "bar": [
           {
            "error_x": {
             "color": "#2a3f5f"
            },
            "error_y": {
             "color": "#2a3f5f"
            },
            "marker": {
             "line": {
              "color": "#E5ECF6",
              "width": 0.5
             }
            },
            "type": "bar"
           }
          ],
          "barpolar": [
           {
            "marker": {
             "line": {
              "color": "#E5ECF6",
              "width": 0.5
             }
            },
            "type": "barpolar"
           }
          ],
          "carpet": [
           {
            "aaxis": {
             "endlinecolor": "#2a3f5f",
             "gridcolor": "white",
             "linecolor": "white",
             "minorgridcolor": "white",
             "startlinecolor": "#2a3f5f"
            },
            "baxis": {
             "endlinecolor": "#2a3f5f",
             "gridcolor": "white",
             "linecolor": "white",
             "minorgridcolor": "white",
             "startlinecolor": "#2a3f5f"
            },
            "type": "carpet"
           }
          ],
          "choropleth": [
           {
            "colorbar": {
             "outlinewidth": 0,
             "ticks": ""
            },
            "type": "choropleth"
           }
          ],
          "contour": [
           {
            "colorbar": {
             "outlinewidth": 0,
             "ticks": ""
            },
            "colorscale": [
             [
              0,
              "#0d0887"
             ],
             [
              0.1111111111111111,
              "#46039f"
             ],
             [
              0.2222222222222222,
              "#7201a8"
             ],
             [
              0.3333333333333333,
              "#9c179e"
             ],
             [
              0.4444444444444444,
              "#bd3786"
             ],
             [
              0.5555555555555556,
              "#d8576b"
             ],
             [
              0.6666666666666666,
              "#ed7953"
             ],
             [
              0.7777777777777778,
              "#fb9f3a"
             ],
             [
              0.8888888888888888,
              "#fdca26"
             ],
             [
              1,
              "#f0f921"
             ]
            ],
            "type": "contour"
           }
          ],
          "contourcarpet": [
           {
            "colorbar": {
             "outlinewidth": 0,
             "ticks": ""
            },
            "type": "contourcarpet"
           }
          ],
          "heatmap": [
           {
            "colorbar": {
             "outlinewidth": 0,
             "ticks": ""
            },
            "colorscale": [
             [
              0,
              "#0d0887"
             ],
             [
              0.1111111111111111,
              "#46039f"
             ],
             [
              0.2222222222222222,
              "#7201a8"
             ],
             [
              0.3333333333333333,
              "#9c179e"
             ],
             [
              0.4444444444444444,
              "#bd3786"
             ],
             [
              0.5555555555555556,
              "#d8576b"
             ],
             [
              0.6666666666666666,
              "#ed7953"
             ],
             [
              0.7777777777777778,
              "#fb9f3a"
             ],
             [
              0.8888888888888888,
              "#fdca26"
             ],
             [
              1,
              "#f0f921"
             ]
            ],
            "type": "heatmap"
           }
          ],
          "heatmapgl": [
           {
            "colorbar": {
             "outlinewidth": 0,
             "ticks": ""
            },
            "colorscale": [
             [
              0,
              "#0d0887"
             ],
             [
              0.1111111111111111,
              "#46039f"
             ],
             [
              0.2222222222222222,
              "#7201a8"
             ],
             [
              0.3333333333333333,
              "#9c179e"
             ],
             [
              0.4444444444444444,
              "#bd3786"
             ],
             [
              0.5555555555555556,
              "#d8576b"
             ],
             [
              0.6666666666666666,
              "#ed7953"
             ],
             [
              0.7777777777777778,
              "#fb9f3a"
             ],
             [
              0.8888888888888888,
              "#fdca26"
             ],
             [
              1,
              "#f0f921"
             ]
            ],
            "type": "heatmapgl"
           }
          ],
          "histogram": [
           {
            "marker": {
             "colorbar": {
              "outlinewidth": 0,
              "ticks": ""
             }
            },
            "type": "histogram"
           }
          ],
          "histogram2d": [
           {
            "colorbar": {
             "outlinewidth": 0,
             "ticks": ""
            },
            "colorscale": [
             [
              0,
              "#0d0887"
             ],
             [
              0.1111111111111111,
              "#46039f"
             ],
             [
              0.2222222222222222,
              "#7201a8"
             ],
             [
              0.3333333333333333,
              "#9c179e"
             ],
             [
              0.4444444444444444,
              "#bd3786"
             ],
             [
              0.5555555555555556,
              "#d8576b"
             ],
             [
              0.6666666666666666,
              "#ed7953"
             ],
             [
              0.7777777777777778,
              "#fb9f3a"
             ],
             [
              0.8888888888888888,
              "#fdca26"
             ],
             [
              1,
              "#f0f921"
             ]
            ],
            "type": "histogram2d"
           }
          ],
          "histogram2dcontour": [
           {
            "colorbar": {
             "outlinewidth": 0,
             "ticks": ""
            },
            "colorscale": [
             [
              0,
              "#0d0887"
             ],
             [
              0.1111111111111111,
              "#46039f"
             ],
             [
              0.2222222222222222,
              "#7201a8"
             ],
             [
              0.3333333333333333,
              "#9c179e"
             ],
             [
              0.4444444444444444,
              "#bd3786"
             ],
             [
              0.5555555555555556,
              "#d8576b"
             ],
             [
              0.6666666666666666,
              "#ed7953"
             ],
             [
              0.7777777777777778,
              "#fb9f3a"
             ],
             [
              0.8888888888888888,
              "#fdca26"
             ],
             [
              1,
              "#f0f921"
             ]
            ],
            "type": "histogram2dcontour"
           }
          ],
          "mesh3d": [
           {
            "colorbar": {
             "outlinewidth": 0,
             "ticks": ""
            },
            "type": "mesh3d"
           }
          ],
          "parcoords": [
           {
            "line": {
             "colorbar": {
              "outlinewidth": 0,
              "ticks": ""
             }
            },
            "type": "parcoords"
           }
          ],
          "pie": [
           {
            "automargin": true,
            "type": "pie"
           }
          ],
          "scatter": [
           {
            "marker": {
             "colorbar": {
              "outlinewidth": 0,
              "ticks": ""
             }
            },
            "type": "scatter"
           }
          ],
          "scatter3d": [
           {
            "line": {
             "colorbar": {
              "outlinewidth": 0,
              "ticks": ""
             }
            },
            "marker": {
             "colorbar": {
              "outlinewidth": 0,
              "ticks": ""
             }
            },
            "type": "scatter3d"
           }
          ],
          "scattercarpet": [
           {
            "marker": {
             "colorbar": {
              "outlinewidth": 0,
              "ticks": ""
             }
            },
            "type": "scattercarpet"
           }
          ],
          "scattergeo": [
           {
            "marker": {
             "colorbar": {
              "outlinewidth": 0,
              "ticks": ""
             }
            },
            "type": "scattergeo"
           }
          ],
          "scattergl": [
           {
            "marker": {
             "colorbar": {
              "outlinewidth": 0,
              "ticks": ""
             }
            },
            "type": "scattergl"
           }
          ],
          "scattermapbox": [
           {
            "marker": {
             "colorbar": {
              "outlinewidth": 0,
              "ticks": ""
             }
            },
            "type": "scattermapbox"
           }
          ],
          "scatterpolar": [
           {
            "marker": {
             "colorbar": {
              "outlinewidth": 0,
              "ticks": ""
             }
            },
            "type": "scatterpolar"
           }
          ],
          "scatterpolargl": [
           {
            "marker": {
             "colorbar": {
              "outlinewidth": 0,
              "ticks": ""
             }
            },
            "type": "scatterpolargl"
           }
          ],
          "scatterternary": [
           {
            "marker": {
             "colorbar": {
              "outlinewidth": 0,
              "ticks": ""
             }
            },
            "type": "scatterternary"
           }
          ],
          "surface": [
           {
            "colorbar": {
             "outlinewidth": 0,
             "ticks": ""
            },
            "colorscale": [
             [
              0,
              "#0d0887"
             ],
             [
              0.1111111111111111,
              "#46039f"
             ],
             [
              0.2222222222222222,
              "#7201a8"
             ],
             [
              0.3333333333333333,
              "#9c179e"
             ],
             [
              0.4444444444444444,
              "#bd3786"
             ],
             [
              0.5555555555555556,
              "#d8576b"
             ],
             [
              0.6666666666666666,
              "#ed7953"
             ],
             [
              0.7777777777777778,
              "#fb9f3a"
             ],
             [
              0.8888888888888888,
              "#fdca26"
             ],
             [
              1,
              "#f0f921"
             ]
            ],
            "type": "surface"
           }
          ],
          "table": [
           {
            "cells": {
             "fill": {
              "color": "#EBF0F8"
             },
             "line": {
              "color": "white"
             }
            },
            "header": {
             "fill": {
              "color": "#C8D4E3"
             },
             "line": {
              "color": "white"
             }
            },
            "type": "table"
           }
          ]
         },
         "layout": {
          "annotationdefaults": {
           "arrowcolor": "#2a3f5f",
           "arrowhead": 0,
           "arrowwidth": 1
          },
          "coloraxis": {
           "colorbar": {
            "outlinewidth": 0,
            "ticks": ""
           }
          },
          "colorscale": {
           "diverging": [
            [
             0,
             "#8e0152"
            ],
            [
             0.1,
             "#c51b7d"
            ],
            [
             0.2,
             "#de77ae"
            ],
            [
             0.3,
             "#f1b6da"
            ],
            [
             0.4,
             "#fde0ef"
            ],
            [
             0.5,
             "#f7f7f7"
            ],
            [
             0.6,
             "#e6f5d0"
            ],
            [
             0.7,
             "#b8e186"
            ],
            [
             0.8,
             "#7fbc41"
            ],
            [
             0.9,
             "#4d9221"
            ],
            [
             1,
             "#276419"
            ]
           ],
           "sequential": [
            [
             0,
             "#0d0887"
            ],
            [
             0.1111111111111111,
             "#46039f"
            ],
            [
             0.2222222222222222,
             "#7201a8"
            ],
            [
             0.3333333333333333,
             "#9c179e"
            ],
            [
             0.4444444444444444,
             "#bd3786"
            ],
            [
             0.5555555555555556,
             "#d8576b"
            ],
            [
             0.6666666666666666,
             "#ed7953"
            ],
            [
             0.7777777777777778,
             "#fb9f3a"
            ],
            [
             0.8888888888888888,
             "#fdca26"
            ],
            [
             1,
             "#f0f921"
            ]
           ],
           "sequentialminus": [
            [
             0,
             "#0d0887"
            ],
            [
             0.1111111111111111,
             "#46039f"
            ],
            [
             0.2222222222222222,
             "#7201a8"
            ],
            [
             0.3333333333333333,
             "#9c179e"
            ],
            [
             0.4444444444444444,
             "#bd3786"
            ],
            [
             0.5555555555555556,
             "#d8576b"
            ],
            [
             0.6666666666666666,
             "#ed7953"
            ],
            [
             0.7777777777777778,
             "#fb9f3a"
            ],
            [
             0.8888888888888888,
             "#fdca26"
            ],
            [
             1,
             "#f0f921"
            ]
           ]
          },
          "colorway": [
           "#636efa",
           "#EF553B",
           "#00cc96",
           "#ab63fa",
           "#FFA15A",
           "#19d3f3",
           "#FF6692",
           "#B6E880",
           "#FF97FF",
           "#FECB52"
          ],
          "font": {
           "color": "#2a3f5f"
          },
          "geo": {
           "bgcolor": "white",
           "lakecolor": "white",
           "landcolor": "#E5ECF6",
           "showlakes": true,
           "showland": true,
           "subunitcolor": "white"
          },
          "hoverlabel": {
           "align": "left"
          },
          "hovermode": "closest",
          "mapbox": {
           "style": "light"
          },
          "paper_bgcolor": "white",
          "plot_bgcolor": "#E5ECF6",
          "polar": {
           "angularaxis": {
            "gridcolor": "white",
            "linecolor": "white",
            "ticks": ""
           },
           "bgcolor": "#E5ECF6",
           "radialaxis": {
            "gridcolor": "white",
            "linecolor": "white",
            "ticks": ""
           }
          },
          "scene": {
           "xaxis": {
            "backgroundcolor": "#E5ECF6",
            "gridcolor": "white",
            "gridwidth": 2,
            "linecolor": "white",
            "showbackground": true,
            "ticks": "",
            "zerolinecolor": "white"
           },
           "yaxis": {
            "backgroundcolor": "#E5ECF6",
            "gridcolor": "white",
            "gridwidth": 2,
            "linecolor": "white",
            "showbackground": true,
            "ticks": "",
            "zerolinecolor": "white"
           },
           "zaxis": {
            "backgroundcolor": "#E5ECF6",
            "gridcolor": "white",
            "gridwidth": 2,
            "linecolor": "white",
            "showbackground": true,
            "ticks": "",
            "zerolinecolor": "white"
           }
          },
          "shapedefaults": {
           "line": {
            "color": "#2a3f5f"
           }
          },
          "ternary": {
           "aaxis": {
            "gridcolor": "white",
            "linecolor": "white",
            "ticks": ""
           },
           "baxis": {
            "gridcolor": "white",
            "linecolor": "white",
            "ticks": ""
           },
           "bgcolor": "#E5ECF6",
           "caxis": {
            "gridcolor": "white",
            "linecolor": "white",
            "ticks": ""
           }
          },
          "title": {
           "x": 0.05
          },
          "xaxis": {
           "automargin": true,
           "gridcolor": "white",
           "linecolor": "white",
           "ticks": "",
           "title": {
            "standoff": 15
           },
           "zerolinecolor": "white",
           "zerolinewidth": 2
          },
          "yaxis": {
           "automargin": true,
           "gridcolor": "white",
           "linecolor": "white",
           "ticks": "",
           "title": {
            "standoff": 15
           },
           "zerolinecolor": "white",
           "zerolinewidth": 2
          }
         }
        },
        "title": {
         "font": {
          "color": "#4D5663"
         }
        },
        "xaxis": {
         "gridcolor": "#E1E5ED",
         "showgrid": true,
         "tickfont": {
          "color": "#4D5663"
         },
         "title": {
          "font": {
           "color": "#4D5663"
          },
          "text": ""
         },
         "zerolinecolor": "#E1E5ED"
        },
        "yaxis": {
         "gridcolor": "#E1E5ED",
         "showgrid": true,
         "tickfont": {
          "color": "#4D5663"
         },
         "title": {
          "font": {
           "color": "#4D5663"
          },
          "text": ""
         },
         "zerolinecolor": "#E1E5ED"
        }
       }
      },
      "text/html": "<div>\n        \n        \n            <div id=\"465205c9-f4d9-413f-bf99-8a9a85bc687e\" class=\"plotly-graph-div\" style=\"height:525px; width:100%;\"></div>\n            <script type=\"text/javascript\">\n                require([\"plotly\"], function(Plotly) {\n                    window.PLOTLYENV=window.PLOTLYENV || {};\n                    window.PLOTLYENV.BASE_URL='https://plot.ly';\n                    \n                if (document.getElementById(\"465205c9-f4d9-413f-bf99-8a9a85bc687e\")) {\n                    Plotly.newPlot(\n                        '465205c9-f4d9-413f-bf99-8a9a85bc687e',\n                        [{\"boxpoints\": false, \"line\": {\"width\": 1.3}, \"marker\": {\"color\": \"rgba(255, 153, 51, 1.0)\"}, \"name\": \"a\", \"orientation\": \"v\", \"type\": \"box\", \"y\": [0.06664371620244847, 0.5407620947234574, 0.6689151881233841, 0.721092412348836, 0.3759797914497993, 0.39527735063052827, 0.4934522395805472, 0.855897801465149, 0.7374102580018511, 0.7287535440658456, 0.9087893119029362, 0.0389729107276543, 0.9131979511127855, 0.40962089859421325, 0.47657514104573917, 0.08720299353607297, 0.13690164698888896, 0.5035481247163679, 0.266135761384094, 0.6549949357531493, 0.08051241257947772, 0.9214281008363931, 0.2829524471881053, 0.6527173363263697, 0.18800592724027765, 0.5581934203599891, 0.56098202587155, 0.4601468637306919, 0.7818563913340485, 0.5536017893406393, 0.2076552401035373, 0.35928237992313494, 0.6587218084028461, 0.811613083395124, 0.25420805654115597, 0.6840002810466673, 0.6111164582393296, 0.2938576195012119, 0.5111691101046774, 0.3875542277771037, 0.7451045436127167, 0.9501473884996332, 0.004498032004161545, 0.5092605688140478, 0.6564632643610027, 0.6201931780594065, 0.6842706981054051, 0.2709670378722623, 0.2120575730857116, 0.8134311075392741, 0.24116333321833616, 0.23103251700435679, 0.008515506141043239, 0.39050763129267874, 0.029665479583302568, 0.3045989776296153, 0.26725801998027643, 0.26039194932627807, 0.12224282846630519, 0.6330862699036091, 0.5457474773327132, 0.4180438341797862, 0.46736457227967254, 0.2185566342291806, 0.08059260147056657, 0.38368185010623335, 0.3086118649520281, 0.2908710248091253, 0.21329586658150246, 0.15006898078339448, 0.5450323688265107, 0.5531789726038746, 0.9480092589771546, 0.061642493465942194, 0.4105801261150056, 0.6296851450210539, 0.6368558770397965, 0.01642034253496527, 0.30064919685985814, 0.1130722453206362, 0.9458354659747372, 0.631307464603639, 0.6938179081613992, 0.8876160139563236, 0.2637635757689851, 0.7855477777304667, 0.22261139352906356, 0.004728933024584991, 0.9885717734657872, 0.6468037364293703, 0.8205938194632254, 0.46987932516763353, 0.10891344024228955, 0.5532588345858189, 0.3828403044919656, 0.6048392490123118, 0.12306666157306034, 0.7889998286430977, 0.9125580422545567, 0.013538786394112545]}, {\"boxpoints\": false, \"line\": {\"width\": 1.3}, \"marker\": {\"color\": \"rgba(55, 128, 191, 1.0)\"}, \"name\": \"b\", \"orientation\": \"v\", \"type\": \"box\", \"y\": [0.1708528654602024, 0.7947643961159381, 0.12666139207012694, 0.3704731100280987, 0.4268231835968821, 0.35764351148766405, 0.2305666365210597, 0.5538324288018692, 0.594848156221167, 0.9200479583746664, 0.07590398582031088, 0.9671854096015232, 0.7125727126759903, 0.8271226920363048, 0.7927056070623242, 0.8726781316595718, 0.8439521568895053, 0.09259317145482682, 0.23178163096381899, 0.09344484466459091, 0.5209866753943617, 0.2827883678792852, 0.7060326111475312, 0.8269352626736227, 0.07581189650262699, 0.5534557276357995, 0.4709639927533994, 0.5077795018414701, 0.8146512167413209, 0.0632160619388743, 0.3784684778530909, 0.11831403628208981, 0.6604793256512019, 0.8508837419021006, 0.07326909011979632, 0.1707061886641288, 0.24602297556450203, 0.32942390765767826, 0.7827689079006152, 0.5707580434972809, 0.4557217240085497, 0.3213546954349775, 0.959796038755243, 0.6792786524938019, 0.6221080084291316, 0.7916085199812986, 0.196691226645063, 0.23166202663976354, 0.9871650353364658, 0.5609852351224877, 0.23060749190256702, 0.6030149483879629, 0.5418942503693233, 0.8313579981419337, 0.5005334875818716, 0.17581835788597155, 0.06043898969061501, 0.1513690889963779, 0.4965519044757296, 0.6845533661268685, 0.9632402423903895, 0.15123322447511456, 0.05491020331362695, 0.06992307697450528, 0.9251471556135247, 0.07302669974492837, 0.8412452325410701, 0.052016817071149024, 0.8937151859836213, 0.7394998538110885, 0.3726497227625558, 0.6433686562554597, 0.7862230059861702, 0.8116612066335772, 0.38686238605025935, 0.3060482999038615, 0.6352252249607443, 0.7774964614027035, 0.7629484316044388, 0.987975440479305, 0.8664798150644375, 0.020203965710475558, 0.3398395293157366, 0.1122650337145874, 0.07152937015646599, 0.5787200279474213, 0.6593323504043507, 0.37568271757463945, 0.6662653070220816, 0.7340273240332108, 0.8256606515853963, 0.6375461978363576, 0.8841503987586986, 0.7621034473804962, 0.04889787877109286, 0.0060500550690697485, 0.4195028769104727, 0.209559422638408, 0.044830301159018204, 0.7621977253010859]}, {\"boxpoints\": false, \"line\": {\"width\": 1.3}, \"marker\": {\"color\": \"rgba(50, 171, 96, 1.0)\"}, \"name\": \"c\", \"orientation\": \"v\", \"type\": \"box\", \"y\": [0.6049675436787881, 0.26331913223246295, 0.7093497387667826, 0.8302857557323808, 0.48628347640271563, 0.5522401841546365, 0.7228291561339886, 0.3503155514198716, 0.9914397301772295, 0.3954321460490898, 0.7843116835894328, 0.8098075082347174, 0.5932842876821278, 0.02674830381482962, 0.4766817949581674, 0.23002742439608903, 0.4602265437259899, 0.5296780990255819, 0.6942283623392663, 0.6045974354017074, 0.8693925106877225, 0.1021380012277443, 0.7117917702159499, 0.7969334337405094, 0.2717788438852057, 0.43278204581902957, 0.3045708377684585, 0.2282920528355673, 0.04597442807158014, 0.26481441120906113, 0.5211219007698088, 0.27106703862801573, 0.28702898825297607, 0.9765162555913119, 0.008257253692387834, 0.5447918657135943, 0.21141605255341878, 0.09488071847727797, 0.9043563093859569, 0.288312049701824, 0.7012557608593932, 0.7256966546072516, 0.9648880018708532, 0.08717577188783832, 0.4642191069010462, 0.549304958948628, 0.7012884961099369, 0.6533582657360641, 0.6276470849845789, 0.9648159983530032, 0.15600081458444204, 0.5406290404996967, 0.8863212327369236, 0.1677634545916583, 0.5178539995027887, 0.3458429211423141, 0.1448387562693667, 0.381641212123084, 0.3032667861950964, 0.44372221360820363, 0.5546848039087976, 0.9720986463159164, 0.7225295342207287, 0.8947220777447558, 0.9939324520057288, 0.3263708279645252, 0.0389664589280303, 0.3158165877803921, 0.04255771826746191, 0.1849139335235478, 0.3255720367741921, 0.5113739914773018, 0.16448770269175927, 0.6566682569750413, 0.5776520171077744, 0.39676481813118003, 0.8791928748221031, 0.22739878817605397, 0.06252907684031028, 0.6272718635098893, 0.11487809601356624, 0.06732377536573741, 0.5171878499166007, 0.9172784823751415, 0.8984754395357885, 0.6360555404818192, 0.40243266758619434, 0.2475992299753933, 0.1669422365112384, 0.1906078764389888, 0.9050301876983026, 0.13610968306657167, 0.608100963689494, 0.533425961720379, 0.3415471049417095, 0.8586314676846226, 0.9259990637093486, 0.9634106051485283, 0.02013274749745053, 0.840859076418451]}, {\"boxpoints\": false, \"line\": {\"width\": 1.3}, \"marker\": {\"color\": \"rgba(128, 0, 128, 1.0)\"}, \"name\": \"d\", \"orientation\": \"v\", \"type\": \"box\", \"y\": [0.0944209317690835, 0.27888666415576524, 0.8971027826540451, 0.9703086965990342, 0.8817130309071713, 0.09213840503236637, 0.2506508366662863, 0.34751131338191643, 0.5632382537529974, 0.7839079806829057, 0.14136094541839772, 0.1239181574356889, 0.5183709155587094, 0.8879671011492536, 0.8862415126627536, 0.8273976397723527, 0.9681081716610408, 0.6508327487564848, 0.4882846998643292, 0.2111779063802618, 0.429923493368606, 0.053978396884075575, 0.6752913629339222, 0.818297863533424, 0.10834792608354837, 0.7416729809867745, 0.3628775786642817, 0.012018942217303707, 0.7945365042022574, 0.18279967366125482, 0.08793474635131249, 0.28965013916749427, 0.3867428066940999, 0.47335651636728804, 0.9712780949068064, 0.2695543242698041, 0.5920388619175281, 0.8329440168983173, 0.5821376074664862, 0.7341441427248303, 0.6227624864398681, 0.6250052644894432, 0.694038336600421, 0.8832295899648193, 0.6707685780149996, 0.38746302379405706, 0.8033371860928065, 0.5236804851053737, 0.77120374541525, 0.604409150379552, 0.987876295354519, 0.09435569749284856, 0.8072141448542798, 0.5435456856502564, 0.30227499214234754, 0.3214213942919856, 0.8702064837054988, 0.12449571669631243, 0.48026960273559016, 0.45892143122601836, 0.8007569335567352, 0.4519647917046654, 0.7658123844705579, 0.9790941401922512, 0.22129019065848288, 0.8548704194015775, 0.14665882650627815, 0.9265345989674076, 0.26461309397666444, 0.5502597317163734, 0.2839928253284473, 0.7089222343874108, 0.49096149864752403, 0.32516205928596875, 0.03897640035641359, 0.3017764549665125, 0.6906203045462328, 0.7351264083570286, 0.2311181454583905, 0.06924175796310938, 0.6003762149625248, 0.7739289795749544, 0.27240372360692, 0.5774631792329177, 0.9215225335910446, 0.12239180219434853, 0.7578831314505952, 0.2750102253255118, 0.398221968230527, 0.952935903177787, 0.7242616900052973, 0.11175707736807117, 0.5597984111910187, 0.017122938015978084, 0.287362995132462, 0.6575270669889517, 0.6494382732812658, 0.3225819514359911, 0.31842776744005963, 0.2227059466347322]}, {\"boxpoints\": false, \"line\": {\"width\": 1.3}, \"marker\": {\"color\": \"rgba(219, 64, 82, 1.0)\"}, \"name\": \"e\", \"orientation\": \"v\", \"type\": \"box\", \"y\": [0.6386248483159467, 0.5230234794175541, 0.334425400642009, 0.14111906583561784, 0.5436551242044353, 0.057507016432407077, 0.12954892887776326, 0.9474162278384648, 0.8873319252212756, 0.0798116475475571, 0.6845187303329766, 0.9279149655444716, 0.5751229833911761, 0.5385265455177648, 0.41254552892304297, 0.7467804729749405, 0.7303742318613662, 0.19959853092484137, 0.9148640423520675, 0.8952233533479554, 0.3587099037823809, 0.8947079475764166, 0.7527801623028844, 0.43988726169127124, 0.979617189922973, 0.5981527430743774, 0.6613938719103097, 0.9096486529907447, 0.9040336650769615, 0.16372620539699945, 0.8322795437762803, 0.544529289185489, 0.490062206093244, 0.6259842236675176, 0.04725902504622792, 0.3140694265487689, 0.6127478881057613, 0.5722154499196853, 0.8374012010977401, 0.1400318206160982, 0.37280908452990746, 0.6661735631596962, 0.6925771504123995, 0.3853243054847725, 0.6508946678902378, 0.1700645517449968, 0.5857517349687471, 0.1079471753868666, 0.4120106730585339, 0.42498087958855335, 0.47051532678457186, 0.02972428590138876, 0.8474471912941407, 0.22001161029189775, 0.15420345160899263, 0.22976532588681176, 0.3369691691451099, 0.9176119660182019, 0.011858422487131981, 0.010595137724684345, 0.7029634195276654, 0.9154269395651924, 0.048411896943233224, 0.37245727074263757, 0.0970408691674347, 0.628711412980803, 0.1650999098586574, 0.9866845038179446, 0.93974413929864, 0.6074254936914476, 0.881871442159823, 0.484109551417512, 0.7605425257232539, 0.23709920904711146, 0.9376266121601954, 0.3520017586732076, 0.9009032391342261, 0.3524375275421264, 0.6525345794432336, 0.2802068582966859, 0.9769727521546657, 0.6925087981863739, 0.06564350783284423, 0.38019462296902584, 0.11830225307683995, 0.5464968311252386, 0.6515165595388999, 0.5763863815496948, 0.04558971712433424, 0.1096354810225646, 0.13246756152069228, 0.4098089587672449, 0.6538457126437346, 0.823988445540373, 0.451042162777353, 0.3730107195331247, 0.13183630769941235, 0.28695527760987427, 0.6429468693737694, 0.7815839940458188]}],\n                        {\"legend\": {\"bgcolor\": \"#F5F6F9\", \"font\": {\"color\": \"#4D5663\"}}, \"paper_bgcolor\": \"#F5F6F9\", \"plot_bgcolor\": \"#F5F6F9\", \"template\": {\"data\": {\"bar\": [{\"error_x\": {\"color\": \"#2a3f5f\"}, \"error_y\": {\"color\": \"#2a3f5f\"}, \"marker\": {\"line\": {\"color\": \"#E5ECF6\", \"width\": 0.5}}, \"type\": \"bar\"}], \"barpolar\": [{\"marker\": {\"line\": {\"color\": \"#E5ECF6\", \"width\": 0.5}}, \"type\": \"barpolar\"}], \"carpet\": [{\"aaxis\": {\"endlinecolor\": \"#2a3f5f\", \"gridcolor\": \"white\", \"linecolor\": \"white\", \"minorgridcolor\": \"white\", \"startlinecolor\": \"#2a3f5f\"}, \"baxis\": {\"endlinecolor\": \"#2a3f5f\", \"gridcolor\": \"white\", \"linecolor\": \"white\", \"minorgridcolor\": \"white\", \"startlinecolor\": \"#2a3f5f\"}, \"type\": \"carpet\"}], \"choropleth\": [{\"colorbar\": {\"outlinewidth\": 0, \"ticks\": \"\"}, \"type\": \"choropleth\"}], \"contour\": [{\"colorbar\": {\"outlinewidth\": 0, \"ticks\": \"\"}, \"colorscale\": [[0.0, \"#0d0887\"], [0.1111111111111111, \"#46039f\"], [0.2222222222222222, \"#7201a8\"], [0.3333333333333333, \"#9c179e\"], [0.4444444444444444, \"#bd3786\"], [0.5555555555555556, \"#d8576b\"], [0.6666666666666666, \"#ed7953\"], [0.7777777777777778, \"#fb9f3a\"], [0.8888888888888888, \"#fdca26\"], [1.0, \"#f0f921\"]], \"type\": \"contour\"}], \"contourcarpet\": [{\"colorbar\": {\"outlinewidth\": 0, \"ticks\": \"\"}, \"type\": \"contourcarpet\"}], \"heatmap\": [{\"colorbar\": {\"outlinewidth\": 0, \"ticks\": \"\"}, \"colorscale\": [[0.0, \"#0d0887\"], [0.1111111111111111, \"#46039f\"], [0.2222222222222222, \"#7201a8\"], [0.3333333333333333, \"#9c179e\"], [0.4444444444444444, \"#bd3786\"], [0.5555555555555556, \"#d8576b\"], [0.6666666666666666, \"#ed7953\"], [0.7777777777777778, \"#fb9f3a\"], [0.8888888888888888, \"#fdca26\"], [1.0, \"#f0f921\"]], \"type\": \"heatmap\"}], \"heatmapgl\": [{\"colorbar\": {\"outlinewidth\": 0, \"ticks\": \"\"}, \"colorscale\": [[0.0, \"#0d0887\"], [0.1111111111111111, \"#46039f\"], [0.2222222222222222, \"#7201a8\"], [0.3333333333333333, \"#9c179e\"], [0.4444444444444444, \"#bd3786\"], [0.5555555555555556, \"#d8576b\"], [0.6666666666666666, \"#ed7953\"], [0.7777777777777778, \"#fb9f3a\"], [0.8888888888888888, \"#fdca26\"], [1.0, \"#f0f921\"]], \"type\": \"heatmapgl\"}], \"histogram\": [{\"marker\": {\"colorbar\": {\"outlinewidth\": 0, \"ticks\": \"\"}}, \"type\": \"histogram\"}], \"histogram2d\": [{\"colorbar\": {\"outlinewidth\": 0, \"ticks\": \"\"}, \"colorscale\": [[0.0, \"#0d0887\"], [0.1111111111111111, \"#46039f\"], [0.2222222222222222, \"#7201a8\"], [0.3333333333333333, \"#9c179e\"], [0.4444444444444444, \"#bd3786\"], [0.5555555555555556, \"#d8576b\"], [0.6666666666666666, \"#ed7953\"], [0.7777777777777778, \"#fb9f3a\"], [0.8888888888888888, \"#fdca26\"], [1.0, \"#f0f921\"]], \"type\": \"histogram2d\"}], \"histogram2dcontour\": [{\"colorbar\": {\"outlinewidth\": 0, \"ticks\": \"\"}, \"colorscale\": [[0.0, \"#0d0887\"], [0.1111111111111111, \"#46039f\"], [0.2222222222222222, \"#7201a8\"], [0.3333333333333333, \"#9c179e\"], [0.4444444444444444, \"#bd3786\"], [0.5555555555555556, \"#d8576b\"], [0.6666666666666666, \"#ed7953\"], [0.7777777777777778, \"#fb9f3a\"], [0.8888888888888888, \"#fdca26\"], [1.0, \"#f0f921\"]], \"type\": \"histogram2dcontour\"}], \"mesh3d\": [{\"colorbar\": {\"outlinewidth\": 0, \"ticks\": \"\"}, \"type\": \"mesh3d\"}], \"parcoords\": [{\"line\": {\"colorbar\": {\"outlinewidth\": 0, \"ticks\": \"\"}}, \"type\": \"parcoords\"}], \"pie\": [{\"automargin\": true, \"type\": \"pie\"}], \"scatter\": [{\"marker\": {\"colorbar\": {\"outlinewidth\": 0, \"ticks\": \"\"}}, \"type\": \"scatter\"}], \"scatter3d\": [{\"line\": {\"colorbar\": {\"outlinewidth\": 0, \"ticks\": \"\"}}, \"marker\": {\"colorbar\": {\"outlinewidth\": 0, \"ticks\": \"\"}}, \"type\": \"scatter3d\"}], \"scattercarpet\": [{\"marker\": {\"colorbar\": {\"outlinewidth\": 0, \"ticks\": \"\"}}, \"type\": \"scattercarpet\"}], \"scattergeo\": [{\"marker\": {\"colorbar\": {\"outlinewidth\": 0, \"ticks\": \"\"}}, \"type\": \"scattergeo\"}], \"scattergl\": [{\"marker\": {\"colorbar\": {\"outlinewidth\": 0, \"ticks\": \"\"}}, \"type\": \"scattergl\"}], \"scattermapbox\": [{\"marker\": {\"colorbar\": {\"outlinewidth\": 0, \"ticks\": \"\"}}, \"type\": \"scattermapbox\"}], \"scatterpolar\": [{\"marker\": {\"colorbar\": {\"outlinewidth\": 0, \"ticks\": \"\"}}, \"type\": \"scatterpolar\"}], \"scatterpolargl\": [{\"marker\": {\"colorbar\": {\"outlinewidth\": 0, \"ticks\": \"\"}}, \"type\": \"scatterpolargl\"}], \"scatterternary\": [{\"marker\": {\"colorbar\": {\"outlinewidth\": 0, \"ticks\": \"\"}}, \"type\": \"scatterternary\"}], \"surface\": [{\"colorbar\": {\"outlinewidth\": 0, \"ticks\": \"\"}, \"colorscale\": [[0.0, \"#0d0887\"], [0.1111111111111111, \"#46039f\"], [0.2222222222222222, \"#7201a8\"], [0.3333333333333333, \"#9c179e\"], [0.4444444444444444, \"#bd3786\"], [0.5555555555555556, \"#d8576b\"], [0.6666666666666666, \"#ed7953\"], [0.7777777777777778, \"#fb9f3a\"], [0.8888888888888888, \"#fdca26\"], [1.0, \"#f0f921\"]], \"type\": \"surface\"}], \"table\": [{\"cells\": {\"fill\": {\"color\": \"#EBF0F8\"}, \"line\": {\"color\": \"white\"}}, \"header\": {\"fill\": {\"color\": \"#C8D4E3\"}, \"line\": {\"color\": \"white\"}}, \"type\": \"table\"}]}, \"layout\": {\"annotationdefaults\": {\"arrowcolor\": \"#2a3f5f\", \"arrowhead\": 0, \"arrowwidth\": 1}, \"coloraxis\": {\"colorbar\": {\"outlinewidth\": 0, \"ticks\": \"\"}}, \"colorscale\": {\"diverging\": [[0, \"#8e0152\"], [0.1, \"#c51b7d\"], [0.2, \"#de77ae\"], [0.3, \"#f1b6da\"], [0.4, \"#fde0ef\"], [0.5, \"#f7f7f7\"], [0.6, \"#e6f5d0\"], [0.7, \"#b8e186\"], [0.8, \"#7fbc41\"], [0.9, \"#4d9221\"], [1, \"#276419\"]], \"sequential\": [[0.0, \"#0d0887\"], [0.1111111111111111, \"#46039f\"], [0.2222222222222222, \"#7201a8\"], [0.3333333333333333, \"#9c179e\"], [0.4444444444444444, \"#bd3786\"], [0.5555555555555556, \"#d8576b\"], [0.6666666666666666, \"#ed7953\"], [0.7777777777777778, \"#fb9f3a\"], [0.8888888888888888, \"#fdca26\"], [1.0, \"#f0f921\"]], \"sequentialminus\": [[0.0, \"#0d0887\"], [0.1111111111111111, \"#46039f\"], [0.2222222222222222, \"#7201a8\"], [0.3333333333333333, \"#9c179e\"], [0.4444444444444444, \"#bd3786\"], [0.5555555555555556, \"#d8576b\"], [0.6666666666666666, \"#ed7953\"], [0.7777777777777778, \"#fb9f3a\"], [0.8888888888888888, \"#fdca26\"], [1.0, \"#f0f921\"]]}, \"colorway\": [\"#636efa\", \"#EF553B\", \"#00cc96\", \"#ab63fa\", \"#FFA15A\", \"#19d3f3\", \"#FF6692\", \"#B6E880\", \"#FF97FF\", \"#FECB52\"], \"font\": {\"color\": \"#2a3f5f\"}, \"geo\": {\"bgcolor\": \"white\", \"lakecolor\": \"white\", \"landcolor\": \"#E5ECF6\", \"showlakes\": true, \"showland\": true, \"subunitcolor\": \"white\"}, \"hoverlabel\": {\"align\": \"left\"}, \"hovermode\": \"closest\", \"mapbox\": {\"style\": \"light\"}, \"paper_bgcolor\": \"white\", \"plot_bgcolor\": \"#E5ECF6\", \"polar\": {\"angularaxis\": {\"gridcolor\": \"white\", \"linecolor\": \"white\", \"ticks\": \"\"}, \"bgcolor\": \"#E5ECF6\", \"radialaxis\": {\"gridcolor\": \"white\", \"linecolor\": \"white\", \"ticks\": \"\"}}, \"scene\": {\"xaxis\": {\"backgroundcolor\": \"#E5ECF6\", \"gridcolor\": \"white\", \"gridwidth\": 2, \"linecolor\": \"white\", \"showbackground\": true, \"ticks\": \"\", \"zerolinecolor\": \"white\"}, \"yaxis\": {\"backgroundcolor\": \"#E5ECF6\", \"gridcolor\": \"white\", \"gridwidth\": 2, \"linecolor\": \"white\", \"showbackground\": true, \"ticks\": \"\", \"zerolinecolor\": \"white\"}, \"zaxis\": {\"backgroundcolor\": \"#E5ECF6\", \"gridcolor\": \"white\", \"gridwidth\": 2, \"linecolor\": \"white\", \"showbackground\": true, \"ticks\": \"\", \"zerolinecolor\": \"white\"}}, \"shapedefaults\": {\"line\": {\"color\": \"#2a3f5f\"}}, \"ternary\": {\"aaxis\": {\"gridcolor\": \"white\", \"linecolor\": \"white\", \"ticks\": \"\"}, \"baxis\": {\"gridcolor\": \"white\", \"linecolor\": \"white\", \"ticks\": \"\"}, \"bgcolor\": \"#E5ECF6\", \"caxis\": {\"gridcolor\": \"white\", \"linecolor\": \"white\", \"ticks\": \"\"}}, \"title\": {\"x\": 0.05}, \"xaxis\": {\"automargin\": true, \"gridcolor\": \"white\", \"linecolor\": \"white\", \"ticks\": \"\", \"title\": {\"standoff\": 15}, \"zerolinecolor\": \"white\", \"zerolinewidth\": 2}, \"yaxis\": {\"automargin\": true, \"gridcolor\": \"white\", \"linecolor\": \"white\", \"ticks\": \"\", \"title\": {\"standoff\": 15}, \"zerolinecolor\": \"white\", \"zerolinewidth\": 2}}}, \"title\": {\"font\": {\"color\": \"#4D5663\"}}, \"xaxis\": {\"gridcolor\": \"#E1E5ED\", \"showgrid\": true, \"tickfont\": {\"color\": \"#4D5663\"}, \"title\": {\"font\": {\"color\": \"#4D5663\"}, \"text\": \"\"}, \"zerolinecolor\": \"#E1E5ED\"}, \"yaxis\": {\"gridcolor\": \"#E1E5ED\", \"showgrid\": true, \"tickfont\": {\"color\": \"#4D5663\"}, \"title\": {\"font\": {\"color\": \"#4D5663\"}, \"text\": \"\"}, \"zerolinecolor\": \"#E1E5ED\"}},\n                        {\"showLink\": true, \"linkText\": \"Export to plot.ly\", \"plotlyServerURL\": \"https://plot.ly\", \"responsive\": true}\n                    ).then(function(){\n                            \nvar gd = document.getElementById('465205c9-f4d9-413f-bf99-8a9a85bc687e');\nvar x = new MutationObserver(function (mutations, observer) {{\n        var display = window.getComputedStyle(gd).display;\n        if (!display || display === 'none') {{\n            console.log([gd, 'removed!']);\n            Plotly.purge(gd);\n            observer.disconnect();\n        }}\n}});\n\n// Listen for the removal of the full notebook cells\nvar notebookContainer = gd.closest('#notebook-container');\nif (notebookContainer) {{\n    x.observe(notebookContainer, {childList: true});\n}}\n\n// Listen for the clearing of the current output cell\nvar outputEl = gd.closest('.output');\nif (outputEl) {{\n    x.observe(outputEl, {childList: true});\n}}\n\n                        })\n                };\n                });\n            </script>\n        </div>"
     },
     "metadata": {}
    }
   ],
   "source": [
    "df.iplot(kind='box')"
   ]
  },
  {
   "cell_type": "code",
   "execution_count": 39,
   "metadata": {},
   "outputs": [
    {
     "output_type": "display_data",
     "data": {
      "application/vnd.plotly.v1+json": {
       "config": {
        "linkText": "Export to plot.ly",
        "plotlyServerURL": "https://plot.ly",
        "showLink": true
       },
       "data": [
        {
         "histfunc": "count",
         "histnorm": "",
         "marker": {
          "color": "rgba(255, 153, 51, 1.0)",
          "line": {
           "color": "#4D5663",
           "width": 1.3
          }
         },
         "name": "a",
         "opacity": 0.8,
         "orientation": "v",
         "type": "histogram",
         "x": [
          0.06664371620244847,
          0.5407620947234574,
          0.6689151881233841,
          0.721092412348836,
          0.3759797914497993,
          0.39527735063052827,
          0.4934522395805472,
          0.855897801465149,
          0.7374102580018511,
          0.7287535440658456,
          0.9087893119029362,
          0.0389729107276543,
          0.9131979511127855,
          0.40962089859421325,
          0.47657514104573917,
          0.08720299353607297,
          0.13690164698888896,
          0.5035481247163679,
          0.266135761384094,
          0.6549949357531493,
          0.08051241257947772,
          0.9214281008363931,
          0.2829524471881053,
          0.6527173363263697,
          0.18800592724027765,
          0.5581934203599891,
          0.56098202587155,
          0.4601468637306919,
          0.7818563913340485,
          0.5536017893406393,
          0.2076552401035373,
          0.35928237992313494,
          0.6587218084028461,
          0.811613083395124,
          0.25420805654115597,
          0.6840002810466673,
          0.6111164582393296,
          0.2938576195012119,
          0.5111691101046774,
          0.3875542277771037,
          0.7451045436127167,
          0.9501473884996332,
          0.004498032004161545,
          0.5092605688140478,
          0.6564632643610027,
          0.6201931780594065,
          0.6842706981054051,
          0.2709670378722623,
          0.2120575730857116,
          0.8134311075392741,
          0.24116333321833616,
          0.23103251700435679,
          0.008515506141043239,
          0.39050763129267874,
          0.029665479583302568,
          0.3045989776296153,
          0.26725801998027643,
          0.26039194932627807,
          0.12224282846630519,
          0.6330862699036091,
          0.5457474773327132,
          0.4180438341797862,
          0.46736457227967254,
          0.2185566342291806,
          0.08059260147056657,
          0.38368185010623335,
          0.3086118649520281,
          0.2908710248091253,
          0.21329586658150246,
          0.15006898078339448,
          0.5450323688265107,
          0.5531789726038746,
          0.9480092589771546,
          0.061642493465942194,
          0.4105801261150056,
          0.6296851450210539,
          0.6368558770397965,
          0.01642034253496527,
          0.30064919685985814,
          0.1130722453206362,
          0.9458354659747372,
          0.631307464603639,
          0.6938179081613992,
          0.8876160139563236,
          0.2637635757689851,
          0.7855477777304667,
          0.22261139352906356,
          0.004728933024584991,
          0.9885717734657872,
          0.6468037364293703,
          0.8205938194632254,
          0.46987932516763353,
          0.10891344024228955,
          0.5532588345858189,
          0.3828403044919656,
          0.6048392490123118,
          0.12306666157306034,
          0.7889998286430977,
          0.9125580422545567,
          0.013538786394112545
         ]
        },
        {
         "histfunc": "count",
         "histnorm": "",
         "marker": {
          "color": "rgba(55, 128, 191, 1.0)",
          "line": {
           "color": "#4D5663",
           "width": 1.3
          }
         },
         "name": "b",
         "opacity": 0.8,
         "orientation": "v",
         "type": "histogram",
         "x": [
          0.1708528654602024,
          0.7947643961159381,
          0.12666139207012694,
          0.3704731100280987,
          0.4268231835968821,
          0.35764351148766405,
          0.2305666365210597,
          0.5538324288018692,
          0.594848156221167,
          0.9200479583746664,
          0.07590398582031088,
          0.9671854096015232,
          0.7125727126759903,
          0.8271226920363048,
          0.7927056070623242,
          0.8726781316595718,
          0.8439521568895053,
          0.09259317145482682,
          0.23178163096381899,
          0.09344484466459091,
          0.5209866753943617,
          0.2827883678792852,
          0.7060326111475312,
          0.8269352626736227,
          0.07581189650262699,
          0.5534557276357995,
          0.4709639927533994,
          0.5077795018414701,
          0.8146512167413209,
          0.0632160619388743,
          0.3784684778530909,
          0.11831403628208981,
          0.6604793256512019,
          0.8508837419021006,
          0.07326909011979632,
          0.1707061886641288,
          0.24602297556450203,
          0.32942390765767826,
          0.7827689079006152,
          0.5707580434972809,
          0.4557217240085497,
          0.3213546954349775,
          0.959796038755243,
          0.6792786524938019,
          0.6221080084291316,
          0.7916085199812986,
          0.196691226645063,
          0.23166202663976354,
          0.9871650353364658,
          0.5609852351224877,
          0.23060749190256702,
          0.6030149483879629,
          0.5418942503693233,
          0.8313579981419337,
          0.5005334875818716,
          0.17581835788597155,
          0.06043898969061501,
          0.1513690889963779,
          0.4965519044757296,
          0.6845533661268685,
          0.9632402423903895,
          0.15123322447511456,
          0.05491020331362695,
          0.06992307697450528,
          0.9251471556135247,
          0.07302669974492837,
          0.8412452325410701,
          0.052016817071149024,
          0.8937151859836213,
          0.7394998538110885,
          0.3726497227625558,
          0.6433686562554597,
          0.7862230059861702,
          0.8116612066335772,
          0.38686238605025935,
          0.3060482999038615,
          0.6352252249607443,
          0.7774964614027035,
          0.7629484316044388,
          0.987975440479305,
          0.8664798150644375,
          0.020203965710475558,
          0.3398395293157366,
          0.1122650337145874,
          0.07152937015646599,
          0.5787200279474213,
          0.6593323504043507,
          0.37568271757463945,
          0.6662653070220816,
          0.7340273240332108,
          0.8256606515853963,
          0.6375461978363576,
          0.8841503987586986,
          0.7621034473804962,
          0.04889787877109286,
          0.0060500550690697485,
          0.4195028769104727,
          0.209559422638408,
          0.044830301159018204,
          0.7621977253010859
         ]
        },
        {
         "histfunc": "count",
         "histnorm": "",
         "marker": {
          "color": "rgba(50, 171, 96, 1.0)",
          "line": {
           "color": "#4D5663",
           "width": 1.3
          }
         },
         "name": "c",
         "opacity": 0.8,
         "orientation": "v",
         "type": "histogram",
         "x": [
          0.6049675436787881,
          0.26331913223246295,
          0.7093497387667826,
          0.8302857557323808,
          0.48628347640271563,
          0.5522401841546365,
          0.7228291561339886,
          0.3503155514198716,
          0.9914397301772295,
          0.3954321460490898,
          0.7843116835894328,
          0.8098075082347174,
          0.5932842876821278,
          0.02674830381482962,
          0.4766817949581674,
          0.23002742439608903,
          0.4602265437259899,
          0.5296780990255819,
          0.6942283623392663,
          0.6045974354017074,
          0.8693925106877225,
          0.1021380012277443,
          0.7117917702159499,
          0.7969334337405094,
          0.2717788438852057,
          0.43278204581902957,
          0.3045708377684585,
          0.2282920528355673,
          0.04597442807158014,
          0.26481441120906113,
          0.5211219007698088,
          0.27106703862801573,
          0.28702898825297607,
          0.9765162555913119,
          0.008257253692387834,
          0.5447918657135943,
          0.21141605255341878,
          0.09488071847727797,
          0.9043563093859569,
          0.288312049701824,
          0.7012557608593932,
          0.7256966546072516,
          0.9648880018708532,
          0.08717577188783832,
          0.4642191069010462,
          0.549304958948628,
          0.7012884961099369,
          0.6533582657360641,
          0.6276470849845789,
          0.9648159983530032,
          0.15600081458444204,
          0.5406290404996967,
          0.8863212327369236,
          0.1677634545916583,
          0.5178539995027887,
          0.3458429211423141,
          0.1448387562693667,
          0.381641212123084,
          0.3032667861950964,
          0.44372221360820363,
          0.5546848039087976,
          0.9720986463159164,
          0.7225295342207287,
          0.8947220777447558,
          0.9939324520057288,
          0.3263708279645252,
          0.0389664589280303,
          0.3158165877803921,
          0.04255771826746191,
          0.1849139335235478,
          0.3255720367741921,
          0.5113739914773018,
          0.16448770269175927,
          0.6566682569750413,
          0.5776520171077744,
          0.39676481813118003,
          0.8791928748221031,
          0.22739878817605397,
          0.06252907684031028,
          0.6272718635098893,
          0.11487809601356624,
          0.06732377536573741,
          0.5171878499166007,
          0.9172784823751415,
          0.8984754395357885,
          0.6360555404818192,
          0.40243266758619434,
          0.2475992299753933,
          0.1669422365112384,
          0.1906078764389888,
          0.9050301876983026,
          0.13610968306657167,
          0.608100963689494,
          0.533425961720379,
          0.3415471049417095,
          0.8586314676846226,
          0.9259990637093486,
          0.9634106051485283,
          0.02013274749745053,
          0.840859076418451
         ]
        },
        {
         "histfunc": "count",
         "histnorm": "",
         "marker": {
          "color": "rgba(128, 0, 128, 1.0)",
          "line": {
           "color": "#4D5663",
           "width": 1.3
          }
         },
         "name": "d",
         "opacity": 0.8,
         "orientation": "v",
         "type": "histogram",
         "x": [
          0.0944209317690835,
          0.27888666415576524,
          0.8971027826540451,
          0.9703086965990342,
          0.8817130309071713,
          0.09213840503236637,
          0.2506508366662863,
          0.34751131338191643,
          0.5632382537529974,
          0.7839079806829057,
          0.14136094541839772,
          0.1239181574356889,
          0.5183709155587094,
          0.8879671011492536,
          0.8862415126627536,
          0.8273976397723527,
          0.9681081716610408,
          0.6508327487564848,
          0.4882846998643292,
          0.2111779063802618,
          0.429923493368606,
          0.053978396884075575,
          0.6752913629339222,
          0.818297863533424,
          0.10834792608354837,
          0.7416729809867745,
          0.3628775786642817,
          0.012018942217303707,
          0.7945365042022574,
          0.18279967366125482,
          0.08793474635131249,
          0.28965013916749427,
          0.3867428066940999,
          0.47335651636728804,
          0.9712780949068064,
          0.2695543242698041,
          0.5920388619175281,
          0.8329440168983173,
          0.5821376074664862,
          0.7341441427248303,
          0.6227624864398681,
          0.6250052644894432,
          0.694038336600421,
          0.8832295899648193,
          0.6707685780149996,
          0.38746302379405706,
          0.8033371860928065,
          0.5236804851053737,
          0.77120374541525,
          0.604409150379552,
          0.987876295354519,
          0.09435569749284856,
          0.8072141448542798,
          0.5435456856502564,
          0.30227499214234754,
          0.3214213942919856,
          0.8702064837054988,
          0.12449571669631243,
          0.48026960273559016,
          0.45892143122601836,
          0.8007569335567352,
          0.4519647917046654,
          0.7658123844705579,
          0.9790941401922512,
          0.22129019065848288,
          0.8548704194015775,
          0.14665882650627815,
          0.9265345989674076,
          0.26461309397666444,
          0.5502597317163734,
          0.2839928253284473,
          0.7089222343874108,
          0.49096149864752403,
          0.32516205928596875,
          0.03897640035641359,
          0.3017764549665125,
          0.6906203045462328,
          0.7351264083570286,
          0.2311181454583905,
          0.06924175796310938,
          0.6003762149625248,
          0.7739289795749544,
          0.27240372360692,
          0.5774631792329177,
          0.9215225335910446,
          0.12239180219434853,
          0.7578831314505952,
          0.2750102253255118,
          0.398221968230527,
          0.952935903177787,
          0.7242616900052973,
          0.11175707736807117,
          0.5597984111910187,
          0.017122938015978084,
          0.287362995132462,
          0.6575270669889517,
          0.6494382732812658,
          0.3225819514359911,
          0.31842776744005963,
          0.2227059466347322
         ]
        },
        {
         "histfunc": "count",
         "histnorm": "",
         "marker": {
          "color": "rgba(219, 64, 82, 1.0)",
          "line": {
           "color": "#4D5663",
           "width": 1.3
          }
         },
         "name": "e",
         "opacity": 0.8,
         "orientation": "v",
         "type": "histogram",
         "x": [
          0.6386248483159467,
          0.5230234794175541,
          0.334425400642009,
          0.14111906583561784,
          0.5436551242044353,
          0.057507016432407077,
          0.12954892887776326,
          0.9474162278384648,
          0.8873319252212756,
          0.0798116475475571,
          0.6845187303329766,
          0.9279149655444716,
          0.5751229833911761,
          0.5385265455177648,
          0.41254552892304297,
          0.7467804729749405,
          0.7303742318613662,
          0.19959853092484137,
          0.9148640423520675,
          0.8952233533479554,
          0.3587099037823809,
          0.8947079475764166,
          0.7527801623028844,
          0.43988726169127124,
          0.979617189922973,
          0.5981527430743774,
          0.6613938719103097,
          0.9096486529907447,
          0.9040336650769615,
          0.16372620539699945,
          0.8322795437762803,
          0.544529289185489,
          0.490062206093244,
          0.6259842236675176,
          0.04725902504622792,
          0.3140694265487689,
          0.6127478881057613,
          0.5722154499196853,
          0.8374012010977401,
          0.1400318206160982,
          0.37280908452990746,
          0.6661735631596962,
          0.6925771504123995,
          0.3853243054847725,
          0.6508946678902378,
          0.1700645517449968,
          0.5857517349687471,
          0.1079471753868666,
          0.4120106730585339,
          0.42498087958855335,
          0.47051532678457186,
          0.02972428590138876,
          0.8474471912941407,
          0.22001161029189775,
          0.15420345160899263,
          0.22976532588681176,
          0.3369691691451099,
          0.9176119660182019,
          0.011858422487131981,
          0.010595137724684345,
          0.7029634195276654,
          0.9154269395651924,
          0.048411896943233224,
          0.37245727074263757,
          0.0970408691674347,
          0.628711412980803,
          0.1650999098586574,
          0.9866845038179446,
          0.93974413929864,
          0.6074254936914476,
          0.881871442159823,
          0.484109551417512,
          0.7605425257232539,
          0.23709920904711146,
          0.9376266121601954,
          0.3520017586732076,
          0.9009032391342261,
          0.3524375275421264,
          0.6525345794432336,
          0.2802068582966859,
          0.9769727521546657,
          0.6925087981863739,
          0.06564350783284423,
          0.38019462296902584,
          0.11830225307683995,
          0.5464968311252386,
          0.6515165595388999,
          0.5763863815496948,
          0.04558971712433424,
          0.1096354810225646,
          0.13246756152069228,
          0.4098089587672449,
          0.6538457126437346,
          0.823988445540373,
          0.451042162777353,
          0.3730107195331247,
          0.13183630769941235,
          0.28695527760987427,
          0.6429468693737694,
          0.7815839940458188
         ]
        }
       ],
       "layout": {
        "barmode": "overlay",
        "legend": {
         "bgcolor": "#F5F6F9",
         "font": {
          "color": "#4D5663"
         }
        },
        "paper_bgcolor": "#F5F6F9",
        "plot_bgcolor": "#F5F6F9",
        "template": {
         "data": {
          "bar": [
           {
            "error_x": {
             "color": "#2a3f5f"
            },
            "error_y": {
             "color": "#2a3f5f"
            },
            "marker": {
             "line": {
              "color": "#E5ECF6",
              "width": 0.5
             }
            },
            "type": "bar"
           }
          ],
          "barpolar": [
           {
            "marker": {
             "line": {
              "color": "#E5ECF6",
              "width": 0.5
             }
            },
            "type": "barpolar"
           }
          ],
          "carpet": [
           {
            "aaxis": {
             "endlinecolor": "#2a3f5f",
             "gridcolor": "white",
             "linecolor": "white",
             "minorgridcolor": "white",
             "startlinecolor": "#2a3f5f"
            },
            "baxis": {
             "endlinecolor": "#2a3f5f",
             "gridcolor": "white",
             "linecolor": "white",
             "minorgridcolor": "white",
             "startlinecolor": "#2a3f5f"
            },
            "type": "carpet"
           }
          ],
          "choropleth": [
           {
            "colorbar": {
             "outlinewidth": 0,
             "ticks": ""
            },
            "type": "choropleth"
           }
          ],
          "contour": [
           {
            "colorbar": {
             "outlinewidth": 0,
             "ticks": ""
            },
            "colorscale": [
             [
              0,
              "#0d0887"
             ],
             [
              0.1111111111111111,
              "#46039f"
             ],
             [
              0.2222222222222222,
              "#7201a8"
             ],
             [
              0.3333333333333333,
              "#9c179e"
             ],
             [
              0.4444444444444444,
              "#bd3786"
             ],
             [
              0.5555555555555556,
              "#d8576b"
             ],
             [
              0.6666666666666666,
              "#ed7953"
             ],
             [
              0.7777777777777778,
              "#fb9f3a"
             ],
             [
              0.8888888888888888,
              "#fdca26"
             ],
             [
              1,
              "#f0f921"
             ]
            ],
            "type": "contour"
           }
          ],
          "contourcarpet": [
           {
            "colorbar": {
             "outlinewidth": 0,
             "ticks": ""
            },
            "type": "contourcarpet"
           }
          ],
          "heatmap": [
           {
            "colorbar": {
             "outlinewidth": 0,
             "ticks": ""
            },
            "colorscale": [
             [
              0,
              "#0d0887"
             ],
             [
              0.1111111111111111,
              "#46039f"
             ],
             [
              0.2222222222222222,
              "#7201a8"
             ],
             [
              0.3333333333333333,
              "#9c179e"
             ],
             [
              0.4444444444444444,
              "#bd3786"
             ],
             [
              0.5555555555555556,
              "#d8576b"
             ],
             [
              0.6666666666666666,
              "#ed7953"
             ],
             [
              0.7777777777777778,
              "#fb9f3a"
             ],
             [
              0.8888888888888888,
              "#fdca26"
             ],
             [
              1,
              "#f0f921"
             ]
            ],
            "type": "heatmap"
           }
          ],
          "heatmapgl": [
           {
            "colorbar": {
             "outlinewidth": 0,
             "ticks": ""
            },
            "colorscale": [
             [
              0,
              "#0d0887"
             ],
             [
              0.1111111111111111,
              "#46039f"
             ],
             [
              0.2222222222222222,
              "#7201a8"
             ],
             [
              0.3333333333333333,
              "#9c179e"
             ],
             [
              0.4444444444444444,
              "#bd3786"
             ],
             [
              0.5555555555555556,
              "#d8576b"
             ],
             [
              0.6666666666666666,
              "#ed7953"
             ],
             [
              0.7777777777777778,
              "#fb9f3a"
             ],
             [
              0.8888888888888888,
              "#fdca26"
             ],
             [
              1,
              "#f0f921"
             ]
            ],
            "type": "heatmapgl"
           }
          ],
          "histogram": [
           {
            "marker": {
             "colorbar": {
              "outlinewidth": 0,
              "ticks": ""
             }
            },
            "type": "histogram"
           }
          ],
          "histogram2d": [
           {
            "colorbar": {
             "outlinewidth": 0,
             "ticks": ""
            },
            "colorscale": [
             [
              0,
              "#0d0887"
             ],
             [
              0.1111111111111111,
              "#46039f"
             ],
             [
              0.2222222222222222,
              "#7201a8"
             ],
             [
              0.3333333333333333,
              "#9c179e"
             ],
             [
              0.4444444444444444,
              "#bd3786"
             ],
             [
              0.5555555555555556,
              "#d8576b"
             ],
             [
              0.6666666666666666,
              "#ed7953"
             ],
             [
              0.7777777777777778,
              "#fb9f3a"
             ],
             [
              0.8888888888888888,
              "#fdca26"
             ],
             [
              1,
              "#f0f921"
             ]
            ],
            "type": "histogram2d"
           }
          ],
          "histogram2dcontour": [
           {
            "colorbar": {
             "outlinewidth": 0,
             "ticks": ""
            },
            "colorscale": [
             [
              0,
              "#0d0887"
             ],
             [
              0.1111111111111111,
              "#46039f"
             ],
             [
              0.2222222222222222,
              "#7201a8"
             ],
             [
              0.3333333333333333,
              "#9c179e"
             ],
             [
              0.4444444444444444,
              "#bd3786"
             ],
             [
              0.5555555555555556,
              "#d8576b"
             ],
             [
              0.6666666666666666,
              "#ed7953"
             ],
             [
              0.7777777777777778,
              "#fb9f3a"
             ],
             [
              0.8888888888888888,
              "#fdca26"
             ],
             [
              1,
              "#f0f921"
             ]
            ],
            "type": "histogram2dcontour"
           }
          ],
          "mesh3d": [
           {
            "colorbar": {
             "outlinewidth": 0,
             "ticks": ""
            },
            "type": "mesh3d"
           }
          ],
          "parcoords": [
           {
            "line": {
             "colorbar": {
              "outlinewidth": 0,
              "ticks": ""
             }
            },
            "type": "parcoords"
           }
          ],
          "pie": [
           {
            "automargin": true,
            "type": "pie"
           }
          ],
          "scatter": [
           {
            "marker": {
             "colorbar": {
              "outlinewidth": 0,
              "ticks": ""
             }
            },
            "type": "scatter"
           }
          ],
          "scatter3d": [
           {
            "line": {
             "colorbar": {
              "outlinewidth": 0,
              "ticks": ""
             }
            },
            "marker": {
             "colorbar": {
              "outlinewidth": 0,
              "ticks": ""
             }
            },
            "type": "scatter3d"
           }
          ],
          "scattercarpet": [
           {
            "marker": {
             "colorbar": {
              "outlinewidth": 0,
              "ticks": ""
             }
            },
            "type": "scattercarpet"
           }
          ],
          "scattergeo": [
           {
            "marker": {
             "colorbar": {
              "outlinewidth": 0,
              "ticks": ""
             }
            },
            "type": "scattergeo"
           }
          ],
          "scattergl": [
           {
            "marker": {
             "colorbar": {
              "outlinewidth": 0,
              "ticks": ""
             }
            },
            "type": "scattergl"
           }
          ],
          "scattermapbox": [
           {
            "marker": {
             "colorbar": {
              "outlinewidth": 0,
              "ticks": ""
             }
            },
            "type": "scattermapbox"
           }
          ],
          "scatterpolar": [
           {
            "marker": {
             "colorbar": {
              "outlinewidth": 0,
              "ticks": ""
             }
            },
            "type": "scatterpolar"
           }
          ],
          "scatterpolargl": [
           {
            "marker": {
             "colorbar": {
              "outlinewidth": 0,
              "ticks": ""
             }
            },
            "type": "scatterpolargl"
           }
          ],
          "scatterternary": [
           {
            "marker": {
             "colorbar": {
              "outlinewidth": 0,
              "ticks": ""
             }
            },
            "type": "scatterternary"
           }
          ],
          "surface": [
           {
            "colorbar": {
             "outlinewidth": 0,
             "ticks": ""
            },
            "colorscale": [
             [
              0,
              "#0d0887"
             ],
             [
              0.1111111111111111,
              "#46039f"
             ],
             [
              0.2222222222222222,
              "#7201a8"
             ],
             [
              0.3333333333333333,
              "#9c179e"
             ],
             [
              0.4444444444444444,
              "#bd3786"
             ],
             [
              0.5555555555555556,
              "#d8576b"
             ],
             [
              0.6666666666666666,
              "#ed7953"
             ],
             [
              0.7777777777777778,
              "#fb9f3a"
             ],
             [
              0.8888888888888888,
              "#fdca26"
             ],
             [
              1,
              "#f0f921"
             ]
            ],
            "type": "surface"
           }
          ],
          "table": [
           {
            "cells": {
             "fill": {
              "color": "#EBF0F8"
             },
             "line": {
              "color": "white"
             }
            },
            "header": {
             "fill": {
              "color": "#C8D4E3"
             },
             "line": {
              "color": "white"
             }
            },
            "type": "table"
           }
          ]
         },
         "layout": {
          "annotationdefaults": {
           "arrowcolor": "#2a3f5f",
           "arrowhead": 0,
           "arrowwidth": 1
          },
          "coloraxis": {
           "colorbar": {
            "outlinewidth": 0,
            "ticks": ""
           }
          },
          "colorscale": {
           "diverging": [
            [
             0,
             "#8e0152"
            ],
            [
             0.1,
             "#c51b7d"
            ],
            [
             0.2,
             "#de77ae"
            ],
            [
             0.3,
             "#f1b6da"
            ],
            [
             0.4,
             "#fde0ef"
            ],
            [
             0.5,
             "#f7f7f7"
            ],
            [
             0.6,
             "#e6f5d0"
            ],
            [
             0.7,
             "#b8e186"
            ],
            [
             0.8,
             "#7fbc41"
            ],
            [
             0.9,
             "#4d9221"
            ],
            [
             1,
             "#276419"
            ]
           ],
           "sequential": [
            [
             0,
             "#0d0887"
            ],
            [
             0.1111111111111111,
             "#46039f"
            ],
            [
             0.2222222222222222,
             "#7201a8"
            ],
            [
             0.3333333333333333,
             "#9c179e"
            ],
            [
             0.4444444444444444,
             "#bd3786"
            ],
            [
             0.5555555555555556,
             "#d8576b"
            ],
            [
             0.6666666666666666,
             "#ed7953"
            ],
            [
             0.7777777777777778,
             "#fb9f3a"
            ],
            [
             0.8888888888888888,
             "#fdca26"
            ],
            [
             1,
             "#f0f921"
            ]
           ],
           "sequentialminus": [
            [
             0,
             "#0d0887"
            ],
            [
             0.1111111111111111,
             "#46039f"
            ],
            [
             0.2222222222222222,
             "#7201a8"
            ],
            [
             0.3333333333333333,
             "#9c179e"
            ],
            [
             0.4444444444444444,
             "#bd3786"
            ],
            [
             0.5555555555555556,
             "#d8576b"
            ],
            [
             0.6666666666666666,
             "#ed7953"
            ],
            [
             0.7777777777777778,
             "#fb9f3a"
            ],
            [
             0.8888888888888888,
             "#fdca26"
            ],
            [
             1,
             "#f0f921"
            ]
           ]
          },
          "colorway": [
           "#636efa",
           "#EF553B",
           "#00cc96",
           "#ab63fa",
           "#FFA15A",
           "#19d3f3",
           "#FF6692",
           "#B6E880",
           "#FF97FF",
           "#FECB52"
          ],
          "font": {
           "color": "#2a3f5f"
          },
          "geo": {
           "bgcolor": "white",
           "lakecolor": "white",
           "landcolor": "#E5ECF6",
           "showlakes": true,
           "showland": true,
           "subunitcolor": "white"
          },
          "hoverlabel": {
           "align": "left"
          },
          "hovermode": "closest",
          "mapbox": {
           "style": "light"
          },
          "paper_bgcolor": "white",
          "plot_bgcolor": "#E5ECF6",
          "polar": {
           "angularaxis": {
            "gridcolor": "white",
            "linecolor": "white",
            "ticks": ""
           },
           "bgcolor": "#E5ECF6",
           "radialaxis": {
            "gridcolor": "white",
            "linecolor": "white",
            "ticks": ""
           }
          },
          "scene": {
           "xaxis": {
            "backgroundcolor": "#E5ECF6",
            "gridcolor": "white",
            "gridwidth": 2,
            "linecolor": "white",
            "showbackground": true,
            "ticks": "",
            "zerolinecolor": "white"
           },
           "yaxis": {
            "backgroundcolor": "#E5ECF6",
            "gridcolor": "white",
            "gridwidth": 2,
            "linecolor": "white",
            "showbackground": true,
            "ticks": "",
            "zerolinecolor": "white"
           },
           "zaxis": {
            "backgroundcolor": "#E5ECF6",
            "gridcolor": "white",
            "gridwidth": 2,
            "linecolor": "white",
            "showbackground": true,
            "ticks": "",
            "zerolinecolor": "white"
           }
          },
          "shapedefaults": {
           "line": {
            "color": "#2a3f5f"
           }
          },
          "ternary": {
           "aaxis": {
            "gridcolor": "white",
            "linecolor": "white",
            "ticks": ""
           },
           "baxis": {
            "gridcolor": "white",
            "linecolor": "white",
            "ticks": ""
           },
           "bgcolor": "#E5ECF6",
           "caxis": {
            "gridcolor": "white",
            "linecolor": "white",
            "ticks": ""
           }
          },
          "title": {
           "x": 0.05
          },
          "xaxis": {
           "automargin": true,
           "gridcolor": "white",
           "linecolor": "white",
           "ticks": "",
           "title": {
            "standoff": 15
           },
           "zerolinecolor": "white",
           "zerolinewidth": 2
          },
          "yaxis": {
           "automargin": true,
           "gridcolor": "white",
           "linecolor": "white",
           "ticks": "",
           "title": {
            "standoff": 15
           },
           "zerolinecolor": "white",
           "zerolinewidth": 2
          }
         }
        },
        "title": {
         "font": {
          "color": "#4D5663"
         }
        },
        "xaxis": {
         "gridcolor": "#E1E5ED",
         "showgrid": true,
         "tickfont": {
          "color": "#4D5663"
         },
         "title": {
          "font": {
           "color": "#4D5663"
          },
          "text": ""
         },
         "zerolinecolor": "#E1E5ED"
        },
        "yaxis": {
         "gridcolor": "#E1E5ED",
         "showgrid": true,
         "tickfont": {
          "color": "#4D5663"
         },
         "title": {
          "font": {
           "color": "#4D5663"
          },
          "text": ""
         },
         "zerolinecolor": "#E1E5ED"
        }
       }
      },
      "text/html": "<div>\n        \n        \n            <div id=\"fc43c170-fb99-40bd-b798-41c80d239a85\" class=\"plotly-graph-div\" style=\"height:525px; width:100%;\"></div>\n            <script type=\"text/javascript\">\n                require([\"plotly\"], function(Plotly) {\n                    window.PLOTLYENV=window.PLOTLYENV || {};\n                    window.PLOTLYENV.BASE_URL='https://plot.ly';\n                    \n                if (document.getElementById(\"fc43c170-fb99-40bd-b798-41c80d239a85\")) {\n                    Plotly.newPlot(\n                        'fc43c170-fb99-40bd-b798-41c80d239a85',\n                        [{\"histfunc\": \"count\", \"histnorm\": \"\", \"marker\": {\"color\": \"rgba(255, 153, 51, 1.0)\", \"line\": {\"color\": \"#4D5663\", \"width\": 1.3}}, \"name\": \"a\", \"opacity\": 0.8, \"orientation\": \"v\", \"type\": \"histogram\", \"x\": [0.06664371620244847, 0.5407620947234574, 0.6689151881233841, 0.721092412348836, 0.3759797914497993, 0.39527735063052827, 0.4934522395805472, 0.855897801465149, 0.7374102580018511, 0.7287535440658456, 0.9087893119029362, 0.0389729107276543, 0.9131979511127855, 0.40962089859421325, 0.47657514104573917, 0.08720299353607297, 0.13690164698888896, 0.5035481247163679, 0.266135761384094, 0.6549949357531493, 0.08051241257947772, 0.9214281008363931, 0.2829524471881053, 0.6527173363263697, 0.18800592724027765, 0.5581934203599891, 0.56098202587155, 0.4601468637306919, 0.7818563913340485, 0.5536017893406393, 0.2076552401035373, 0.35928237992313494, 0.6587218084028461, 0.811613083395124, 0.25420805654115597, 0.6840002810466673, 0.6111164582393296, 0.2938576195012119, 0.5111691101046774, 0.3875542277771037, 0.7451045436127167, 0.9501473884996332, 0.004498032004161545, 0.5092605688140478, 0.6564632643610027, 0.6201931780594065, 0.6842706981054051, 0.2709670378722623, 0.2120575730857116, 0.8134311075392741, 0.24116333321833616, 0.23103251700435679, 0.008515506141043239, 0.39050763129267874, 0.029665479583302568, 0.3045989776296153, 0.26725801998027643, 0.26039194932627807, 0.12224282846630519, 0.6330862699036091, 0.5457474773327132, 0.4180438341797862, 0.46736457227967254, 0.2185566342291806, 0.08059260147056657, 0.38368185010623335, 0.3086118649520281, 0.2908710248091253, 0.21329586658150246, 0.15006898078339448, 0.5450323688265107, 0.5531789726038746, 0.9480092589771546, 0.061642493465942194, 0.4105801261150056, 0.6296851450210539, 0.6368558770397965, 0.01642034253496527, 0.30064919685985814, 0.1130722453206362, 0.9458354659747372, 0.631307464603639, 0.6938179081613992, 0.8876160139563236, 0.2637635757689851, 0.7855477777304667, 0.22261139352906356, 0.004728933024584991, 0.9885717734657872, 0.6468037364293703, 0.8205938194632254, 0.46987932516763353, 0.10891344024228955, 0.5532588345858189, 0.3828403044919656, 0.6048392490123118, 0.12306666157306034, 0.7889998286430977, 0.9125580422545567, 0.013538786394112545]}, {\"histfunc\": \"count\", \"histnorm\": \"\", \"marker\": {\"color\": \"rgba(55, 128, 191, 1.0)\", \"line\": {\"color\": \"#4D5663\", \"width\": 1.3}}, \"name\": \"b\", \"opacity\": 0.8, \"orientation\": \"v\", \"type\": \"histogram\", \"x\": [0.1708528654602024, 0.7947643961159381, 0.12666139207012694, 0.3704731100280987, 0.4268231835968821, 0.35764351148766405, 0.2305666365210597, 0.5538324288018692, 0.594848156221167, 0.9200479583746664, 0.07590398582031088, 0.9671854096015232, 0.7125727126759903, 0.8271226920363048, 0.7927056070623242, 0.8726781316595718, 0.8439521568895053, 0.09259317145482682, 0.23178163096381899, 0.09344484466459091, 0.5209866753943617, 0.2827883678792852, 0.7060326111475312, 0.8269352626736227, 0.07581189650262699, 0.5534557276357995, 0.4709639927533994, 0.5077795018414701, 0.8146512167413209, 0.0632160619388743, 0.3784684778530909, 0.11831403628208981, 0.6604793256512019, 0.8508837419021006, 0.07326909011979632, 0.1707061886641288, 0.24602297556450203, 0.32942390765767826, 0.7827689079006152, 0.5707580434972809, 0.4557217240085497, 0.3213546954349775, 0.959796038755243, 0.6792786524938019, 0.6221080084291316, 0.7916085199812986, 0.196691226645063, 0.23166202663976354, 0.9871650353364658, 0.5609852351224877, 0.23060749190256702, 0.6030149483879629, 0.5418942503693233, 0.8313579981419337, 0.5005334875818716, 0.17581835788597155, 0.06043898969061501, 0.1513690889963779, 0.4965519044757296, 0.6845533661268685, 0.9632402423903895, 0.15123322447511456, 0.05491020331362695, 0.06992307697450528, 0.9251471556135247, 0.07302669974492837, 0.8412452325410701, 0.052016817071149024, 0.8937151859836213, 0.7394998538110885, 0.3726497227625558, 0.6433686562554597, 0.7862230059861702, 0.8116612066335772, 0.38686238605025935, 0.3060482999038615, 0.6352252249607443, 0.7774964614027035, 0.7629484316044388, 0.987975440479305, 0.8664798150644375, 0.020203965710475558, 0.3398395293157366, 0.1122650337145874, 0.07152937015646599, 0.5787200279474213, 0.6593323504043507, 0.37568271757463945, 0.6662653070220816, 0.7340273240332108, 0.8256606515853963, 0.6375461978363576, 0.8841503987586986, 0.7621034473804962, 0.04889787877109286, 0.0060500550690697485, 0.4195028769104727, 0.209559422638408, 0.044830301159018204, 0.7621977253010859]}, {\"histfunc\": \"count\", \"histnorm\": \"\", \"marker\": {\"color\": \"rgba(50, 171, 96, 1.0)\", \"line\": {\"color\": \"#4D5663\", \"width\": 1.3}}, \"name\": \"c\", \"opacity\": 0.8, \"orientation\": \"v\", \"type\": \"histogram\", \"x\": [0.6049675436787881, 0.26331913223246295, 0.7093497387667826, 0.8302857557323808, 0.48628347640271563, 0.5522401841546365, 0.7228291561339886, 0.3503155514198716, 0.9914397301772295, 0.3954321460490898, 0.7843116835894328, 0.8098075082347174, 0.5932842876821278, 0.02674830381482962, 0.4766817949581674, 0.23002742439608903, 0.4602265437259899, 0.5296780990255819, 0.6942283623392663, 0.6045974354017074, 0.8693925106877225, 0.1021380012277443, 0.7117917702159499, 0.7969334337405094, 0.2717788438852057, 0.43278204581902957, 0.3045708377684585, 0.2282920528355673, 0.04597442807158014, 0.26481441120906113, 0.5211219007698088, 0.27106703862801573, 0.28702898825297607, 0.9765162555913119, 0.008257253692387834, 0.5447918657135943, 0.21141605255341878, 0.09488071847727797, 0.9043563093859569, 0.288312049701824, 0.7012557608593932, 0.7256966546072516, 0.9648880018708532, 0.08717577188783832, 0.4642191069010462, 0.549304958948628, 0.7012884961099369, 0.6533582657360641, 0.6276470849845789, 0.9648159983530032, 0.15600081458444204, 0.5406290404996967, 0.8863212327369236, 0.1677634545916583, 0.5178539995027887, 0.3458429211423141, 0.1448387562693667, 0.381641212123084, 0.3032667861950964, 0.44372221360820363, 0.5546848039087976, 0.9720986463159164, 0.7225295342207287, 0.8947220777447558, 0.9939324520057288, 0.3263708279645252, 0.0389664589280303, 0.3158165877803921, 0.04255771826746191, 0.1849139335235478, 0.3255720367741921, 0.5113739914773018, 0.16448770269175927, 0.6566682569750413, 0.5776520171077744, 0.39676481813118003, 0.8791928748221031, 0.22739878817605397, 0.06252907684031028, 0.6272718635098893, 0.11487809601356624, 0.06732377536573741, 0.5171878499166007, 0.9172784823751415, 0.8984754395357885, 0.6360555404818192, 0.40243266758619434, 0.2475992299753933, 0.1669422365112384, 0.1906078764389888, 0.9050301876983026, 0.13610968306657167, 0.608100963689494, 0.533425961720379, 0.3415471049417095, 0.8586314676846226, 0.9259990637093486, 0.9634106051485283, 0.02013274749745053, 0.840859076418451]}, {\"histfunc\": \"count\", \"histnorm\": \"\", \"marker\": {\"color\": \"rgba(128, 0, 128, 1.0)\", \"line\": {\"color\": \"#4D5663\", \"width\": 1.3}}, \"name\": \"d\", \"opacity\": 0.8, \"orientation\": \"v\", \"type\": \"histogram\", \"x\": [0.0944209317690835, 0.27888666415576524, 0.8971027826540451, 0.9703086965990342, 0.8817130309071713, 0.09213840503236637, 0.2506508366662863, 0.34751131338191643, 0.5632382537529974, 0.7839079806829057, 0.14136094541839772, 0.1239181574356889, 0.5183709155587094, 0.8879671011492536, 0.8862415126627536, 0.8273976397723527, 0.9681081716610408, 0.6508327487564848, 0.4882846998643292, 0.2111779063802618, 0.429923493368606, 0.053978396884075575, 0.6752913629339222, 0.818297863533424, 0.10834792608354837, 0.7416729809867745, 0.3628775786642817, 0.012018942217303707, 0.7945365042022574, 0.18279967366125482, 0.08793474635131249, 0.28965013916749427, 0.3867428066940999, 0.47335651636728804, 0.9712780949068064, 0.2695543242698041, 0.5920388619175281, 0.8329440168983173, 0.5821376074664862, 0.7341441427248303, 0.6227624864398681, 0.6250052644894432, 0.694038336600421, 0.8832295899648193, 0.6707685780149996, 0.38746302379405706, 0.8033371860928065, 0.5236804851053737, 0.77120374541525, 0.604409150379552, 0.987876295354519, 0.09435569749284856, 0.8072141448542798, 0.5435456856502564, 0.30227499214234754, 0.3214213942919856, 0.8702064837054988, 0.12449571669631243, 0.48026960273559016, 0.45892143122601836, 0.8007569335567352, 0.4519647917046654, 0.7658123844705579, 0.9790941401922512, 0.22129019065848288, 0.8548704194015775, 0.14665882650627815, 0.9265345989674076, 0.26461309397666444, 0.5502597317163734, 0.2839928253284473, 0.7089222343874108, 0.49096149864752403, 0.32516205928596875, 0.03897640035641359, 0.3017764549665125, 0.6906203045462328, 0.7351264083570286, 0.2311181454583905, 0.06924175796310938, 0.6003762149625248, 0.7739289795749544, 0.27240372360692, 0.5774631792329177, 0.9215225335910446, 0.12239180219434853, 0.7578831314505952, 0.2750102253255118, 0.398221968230527, 0.952935903177787, 0.7242616900052973, 0.11175707736807117, 0.5597984111910187, 0.017122938015978084, 0.287362995132462, 0.6575270669889517, 0.6494382732812658, 0.3225819514359911, 0.31842776744005963, 0.2227059466347322]}, {\"histfunc\": \"count\", \"histnorm\": \"\", \"marker\": {\"color\": \"rgba(219, 64, 82, 1.0)\", \"line\": {\"color\": \"#4D5663\", \"width\": 1.3}}, \"name\": \"e\", \"opacity\": 0.8, \"orientation\": \"v\", \"type\": \"histogram\", \"x\": [0.6386248483159467, 0.5230234794175541, 0.334425400642009, 0.14111906583561784, 0.5436551242044353, 0.057507016432407077, 0.12954892887776326, 0.9474162278384648, 0.8873319252212756, 0.0798116475475571, 0.6845187303329766, 0.9279149655444716, 0.5751229833911761, 0.5385265455177648, 0.41254552892304297, 0.7467804729749405, 0.7303742318613662, 0.19959853092484137, 0.9148640423520675, 0.8952233533479554, 0.3587099037823809, 0.8947079475764166, 0.7527801623028844, 0.43988726169127124, 0.979617189922973, 0.5981527430743774, 0.6613938719103097, 0.9096486529907447, 0.9040336650769615, 0.16372620539699945, 0.8322795437762803, 0.544529289185489, 0.490062206093244, 0.6259842236675176, 0.04725902504622792, 0.3140694265487689, 0.6127478881057613, 0.5722154499196853, 0.8374012010977401, 0.1400318206160982, 0.37280908452990746, 0.6661735631596962, 0.6925771504123995, 0.3853243054847725, 0.6508946678902378, 0.1700645517449968, 0.5857517349687471, 0.1079471753868666, 0.4120106730585339, 0.42498087958855335, 0.47051532678457186, 0.02972428590138876, 0.8474471912941407, 0.22001161029189775, 0.15420345160899263, 0.22976532588681176, 0.3369691691451099, 0.9176119660182019, 0.011858422487131981, 0.010595137724684345, 0.7029634195276654, 0.9154269395651924, 0.048411896943233224, 0.37245727074263757, 0.0970408691674347, 0.628711412980803, 0.1650999098586574, 0.9866845038179446, 0.93974413929864, 0.6074254936914476, 0.881871442159823, 0.484109551417512, 0.7605425257232539, 0.23709920904711146, 0.9376266121601954, 0.3520017586732076, 0.9009032391342261, 0.3524375275421264, 0.6525345794432336, 0.2802068582966859, 0.9769727521546657, 0.6925087981863739, 0.06564350783284423, 0.38019462296902584, 0.11830225307683995, 0.5464968311252386, 0.6515165595388999, 0.5763863815496948, 0.04558971712433424, 0.1096354810225646, 0.13246756152069228, 0.4098089587672449, 0.6538457126437346, 0.823988445540373, 0.451042162777353, 0.3730107195331247, 0.13183630769941235, 0.28695527760987427, 0.6429468693737694, 0.7815839940458188]}],\n                        {\"barmode\": \"overlay\", \"legend\": {\"bgcolor\": \"#F5F6F9\", \"font\": {\"color\": \"#4D5663\"}}, \"paper_bgcolor\": \"#F5F6F9\", \"plot_bgcolor\": \"#F5F6F9\", \"template\": {\"data\": {\"bar\": [{\"error_x\": {\"color\": \"#2a3f5f\"}, \"error_y\": {\"color\": \"#2a3f5f\"}, \"marker\": {\"line\": {\"color\": \"#E5ECF6\", \"width\": 0.5}}, \"type\": \"bar\"}], \"barpolar\": [{\"marker\": {\"line\": {\"color\": \"#E5ECF6\", \"width\": 0.5}}, \"type\": \"barpolar\"}], \"carpet\": [{\"aaxis\": {\"endlinecolor\": \"#2a3f5f\", \"gridcolor\": \"white\", \"linecolor\": \"white\", \"minorgridcolor\": \"white\", \"startlinecolor\": \"#2a3f5f\"}, \"baxis\": {\"endlinecolor\": \"#2a3f5f\", \"gridcolor\": \"white\", \"linecolor\": \"white\", \"minorgridcolor\": \"white\", \"startlinecolor\": \"#2a3f5f\"}, \"type\": \"carpet\"}], \"choropleth\": [{\"colorbar\": {\"outlinewidth\": 0, \"ticks\": \"\"}, \"type\": \"choropleth\"}], \"contour\": [{\"colorbar\": {\"outlinewidth\": 0, \"ticks\": \"\"}, \"colorscale\": [[0.0, \"#0d0887\"], [0.1111111111111111, \"#46039f\"], [0.2222222222222222, \"#7201a8\"], [0.3333333333333333, \"#9c179e\"], [0.4444444444444444, \"#bd3786\"], [0.5555555555555556, \"#d8576b\"], [0.6666666666666666, \"#ed7953\"], [0.7777777777777778, \"#fb9f3a\"], [0.8888888888888888, \"#fdca26\"], [1.0, \"#f0f921\"]], \"type\": \"contour\"}], \"contourcarpet\": [{\"colorbar\": {\"outlinewidth\": 0, \"ticks\": \"\"}, \"type\": \"contourcarpet\"}], \"heatmap\": [{\"colorbar\": {\"outlinewidth\": 0, \"ticks\": \"\"}, \"colorscale\": [[0.0, \"#0d0887\"], [0.1111111111111111, \"#46039f\"], [0.2222222222222222, \"#7201a8\"], [0.3333333333333333, \"#9c179e\"], [0.4444444444444444, \"#bd3786\"], [0.5555555555555556, \"#d8576b\"], [0.6666666666666666, \"#ed7953\"], [0.7777777777777778, \"#fb9f3a\"], [0.8888888888888888, \"#fdca26\"], [1.0, \"#f0f921\"]], \"type\": \"heatmap\"}], \"heatmapgl\": [{\"colorbar\": {\"outlinewidth\": 0, \"ticks\": \"\"}, \"colorscale\": [[0.0, \"#0d0887\"], [0.1111111111111111, \"#46039f\"], [0.2222222222222222, \"#7201a8\"], [0.3333333333333333, \"#9c179e\"], [0.4444444444444444, \"#bd3786\"], [0.5555555555555556, \"#d8576b\"], [0.6666666666666666, \"#ed7953\"], [0.7777777777777778, \"#fb9f3a\"], [0.8888888888888888, \"#fdca26\"], [1.0, \"#f0f921\"]], \"type\": \"heatmapgl\"}], \"histogram\": [{\"marker\": {\"colorbar\": {\"outlinewidth\": 0, \"ticks\": \"\"}}, \"type\": \"histogram\"}], \"histogram2d\": [{\"colorbar\": {\"outlinewidth\": 0, \"ticks\": \"\"}, \"colorscale\": [[0.0, \"#0d0887\"], [0.1111111111111111, \"#46039f\"], [0.2222222222222222, \"#7201a8\"], [0.3333333333333333, \"#9c179e\"], [0.4444444444444444, \"#bd3786\"], [0.5555555555555556, \"#d8576b\"], [0.6666666666666666, \"#ed7953\"], [0.7777777777777778, \"#fb9f3a\"], [0.8888888888888888, \"#fdca26\"], [1.0, \"#f0f921\"]], \"type\": \"histogram2d\"}], \"histogram2dcontour\": [{\"colorbar\": {\"outlinewidth\": 0, \"ticks\": \"\"}, \"colorscale\": [[0.0, \"#0d0887\"], [0.1111111111111111, \"#46039f\"], [0.2222222222222222, \"#7201a8\"], [0.3333333333333333, \"#9c179e\"], [0.4444444444444444, \"#bd3786\"], [0.5555555555555556, \"#d8576b\"], [0.6666666666666666, \"#ed7953\"], [0.7777777777777778, \"#fb9f3a\"], [0.8888888888888888, \"#fdca26\"], [1.0, \"#f0f921\"]], \"type\": \"histogram2dcontour\"}], \"mesh3d\": [{\"colorbar\": {\"outlinewidth\": 0, \"ticks\": \"\"}, \"type\": \"mesh3d\"}], \"parcoords\": [{\"line\": {\"colorbar\": {\"outlinewidth\": 0, \"ticks\": \"\"}}, \"type\": \"parcoords\"}], \"pie\": [{\"automargin\": true, \"type\": \"pie\"}], \"scatter\": [{\"marker\": {\"colorbar\": {\"outlinewidth\": 0, \"ticks\": \"\"}}, \"type\": \"scatter\"}], \"scatter3d\": [{\"line\": {\"colorbar\": {\"outlinewidth\": 0, \"ticks\": \"\"}}, \"marker\": {\"colorbar\": {\"outlinewidth\": 0, \"ticks\": \"\"}}, \"type\": \"scatter3d\"}], \"scattercarpet\": [{\"marker\": {\"colorbar\": {\"outlinewidth\": 0, \"ticks\": \"\"}}, \"type\": \"scattercarpet\"}], \"scattergeo\": [{\"marker\": {\"colorbar\": {\"outlinewidth\": 0, \"ticks\": \"\"}}, \"type\": \"scattergeo\"}], \"scattergl\": [{\"marker\": {\"colorbar\": {\"outlinewidth\": 0, \"ticks\": \"\"}}, \"type\": \"scattergl\"}], \"scattermapbox\": [{\"marker\": {\"colorbar\": {\"outlinewidth\": 0, \"ticks\": \"\"}}, \"type\": \"scattermapbox\"}], \"scatterpolar\": [{\"marker\": {\"colorbar\": {\"outlinewidth\": 0, \"ticks\": \"\"}}, \"type\": \"scatterpolar\"}], \"scatterpolargl\": [{\"marker\": {\"colorbar\": {\"outlinewidth\": 0, \"ticks\": \"\"}}, \"type\": \"scatterpolargl\"}], \"scatterternary\": [{\"marker\": {\"colorbar\": {\"outlinewidth\": 0, \"ticks\": \"\"}}, \"type\": \"scatterternary\"}], \"surface\": [{\"colorbar\": {\"outlinewidth\": 0, \"ticks\": \"\"}, \"colorscale\": [[0.0, \"#0d0887\"], [0.1111111111111111, \"#46039f\"], [0.2222222222222222, \"#7201a8\"], [0.3333333333333333, \"#9c179e\"], [0.4444444444444444, \"#bd3786\"], [0.5555555555555556, \"#d8576b\"], [0.6666666666666666, \"#ed7953\"], [0.7777777777777778, \"#fb9f3a\"], [0.8888888888888888, \"#fdca26\"], [1.0, \"#f0f921\"]], \"type\": \"surface\"}], \"table\": [{\"cells\": {\"fill\": {\"color\": \"#EBF0F8\"}, \"line\": {\"color\": \"white\"}}, \"header\": {\"fill\": {\"color\": \"#C8D4E3\"}, \"line\": {\"color\": \"white\"}}, \"type\": \"table\"}]}, \"layout\": {\"annotationdefaults\": {\"arrowcolor\": \"#2a3f5f\", \"arrowhead\": 0, \"arrowwidth\": 1}, \"coloraxis\": {\"colorbar\": {\"outlinewidth\": 0, \"ticks\": \"\"}}, \"colorscale\": {\"diverging\": [[0, \"#8e0152\"], [0.1, \"#c51b7d\"], [0.2, \"#de77ae\"], [0.3, \"#f1b6da\"], [0.4, \"#fde0ef\"], [0.5, \"#f7f7f7\"], [0.6, \"#e6f5d0\"], [0.7, \"#b8e186\"], [0.8, \"#7fbc41\"], [0.9, \"#4d9221\"], [1, \"#276419\"]], \"sequential\": [[0.0, \"#0d0887\"], [0.1111111111111111, \"#46039f\"], [0.2222222222222222, \"#7201a8\"], [0.3333333333333333, \"#9c179e\"], [0.4444444444444444, \"#bd3786\"], [0.5555555555555556, \"#d8576b\"], [0.6666666666666666, \"#ed7953\"], [0.7777777777777778, \"#fb9f3a\"], [0.8888888888888888, \"#fdca26\"], [1.0, \"#f0f921\"]], \"sequentialminus\": [[0.0, \"#0d0887\"], [0.1111111111111111, \"#46039f\"], [0.2222222222222222, \"#7201a8\"], [0.3333333333333333, \"#9c179e\"], [0.4444444444444444, \"#bd3786\"], [0.5555555555555556, \"#d8576b\"], [0.6666666666666666, \"#ed7953\"], [0.7777777777777778, \"#fb9f3a\"], [0.8888888888888888, \"#fdca26\"], [1.0, \"#f0f921\"]]}, \"colorway\": [\"#636efa\", \"#EF553B\", \"#00cc96\", \"#ab63fa\", \"#FFA15A\", \"#19d3f3\", \"#FF6692\", \"#B6E880\", \"#FF97FF\", \"#FECB52\"], \"font\": {\"color\": \"#2a3f5f\"}, \"geo\": {\"bgcolor\": \"white\", \"lakecolor\": \"white\", \"landcolor\": \"#E5ECF6\", \"showlakes\": true, \"showland\": true, \"subunitcolor\": \"white\"}, \"hoverlabel\": {\"align\": \"left\"}, \"hovermode\": \"closest\", \"mapbox\": {\"style\": \"light\"}, \"paper_bgcolor\": \"white\", \"plot_bgcolor\": \"#E5ECF6\", \"polar\": {\"angularaxis\": {\"gridcolor\": \"white\", \"linecolor\": \"white\", \"ticks\": \"\"}, \"bgcolor\": \"#E5ECF6\", \"radialaxis\": {\"gridcolor\": \"white\", \"linecolor\": \"white\", \"ticks\": \"\"}}, \"scene\": {\"xaxis\": {\"backgroundcolor\": \"#E5ECF6\", \"gridcolor\": \"white\", \"gridwidth\": 2, \"linecolor\": \"white\", \"showbackground\": true, \"ticks\": \"\", \"zerolinecolor\": \"white\"}, \"yaxis\": {\"backgroundcolor\": \"#E5ECF6\", \"gridcolor\": \"white\", \"gridwidth\": 2, \"linecolor\": \"white\", \"showbackground\": true, \"ticks\": \"\", \"zerolinecolor\": \"white\"}, \"zaxis\": {\"backgroundcolor\": \"#E5ECF6\", \"gridcolor\": \"white\", \"gridwidth\": 2, \"linecolor\": \"white\", \"showbackground\": true, \"ticks\": \"\", \"zerolinecolor\": \"white\"}}, \"shapedefaults\": {\"line\": {\"color\": \"#2a3f5f\"}}, \"ternary\": {\"aaxis\": {\"gridcolor\": \"white\", \"linecolor\": \"white\", \"ticks\": \"\"}, \"baxis\": {\"gridcolor\": \"white\", \"linecolor\": \"white\", \"ticks\": \"\"}, \"bgcolor\": \"#E5ECF6\", \"caxis\": {\"gridcolor\": \"white\", \"linecolor\": \"white\", \"ticks\": \"\"}}, \"title\": {\"x\": 0.05}, \"xaxis\": {\"automargin\": true, \"gridcolor\": \"white\", \"linecolor\": \"white\", \"ticks\": \"\", \"title\": {\"standoff\": 15}, \"zerolinecolor\": \"white\", \"zerolinewidth\": 2}, \"yaxis\": {\"automargin\": true, \"gridcolor\": \"white\", \"linecolor\": \"white\", \"ticks\": \"\", \"title\": {\"standoff\": 15}, \"zerolinecolor\": \"white\", \"zerolinewidth\": 2}}}, \"title\": {\"font\": {\"color\": \"#4D5663\"}}, \"xaxis\": {\"gridcolor\": \"#E1E5ED\", \"showgrid\": true, \"tickfont\": {\"color\": \"#4D5663\"}, \"title\": {\"font\": {\"color\": \"#4D5663\"}, \"text\": \"\"}, \"zerolinecolor\": \"#E1E5ED\"}, \"yaxis\": {\"gridcolor\": \"#E1E5ED\", \"showgrid\": true, \"tickfont\": {\"color\": \"#4D5663\"}, \"title\": {\"font\": {\"color\": \"#4D5663\"}, \"text\": \"\"}, \"zerolinecolor\": \"#E1E5ED\"}},\n                        {\"showLink\": true, \"linkText\": \"Export to plot.ly\", \"plotlyServerURL\": \"https://plot.ly\", \"responsive\": true}\n                    ).then(function(){\n                            \nvar gd = document.getElementById('fc43c170-fb99-40bd-b798-41c80d239a85');\nvar x = new MutationObserver(function (mutations, observer) {{\n        var display = window.getComputedStyle(gd).display;\n        if (!display || display === 'none') {{\n            console.log([gd, 'removed!']);\n            Plotly.purge(gd);\n            observer.disconnect();\n        }}\n}});\n\n// Listen for the removal of the full notebook cells\nvar notebookContainer = gd.closest('#notebook-container');\nif (notebookContainer) {{\n    x.observe(notebookContainer, {childList: true});\n}}\n\n// Listen for the clearing of the current output cell\nvar outputEl = gd.closest('.output');\nif (outputEl) {{\n    x.observe(outputEl, {childList: true});\n}}\n\n                        })\n                };\n                });\n            </script>\n        </div>"
     },
     "metadata": {}
    }
   ],
   "source": [
    "df.iplot(kind='hist')"
   ]
  },
  {
   "cell_type": "code",
   "execution_count": 40,
   "metadata": {},
   "outputs": [
    {
     "output_type": "display_data",
     "data": {
      "application/vnd.plotly.v1+json": {
       "config": {
        "linkText": "Export to plot.ly",
        "plotlyServerURL": "https://plot.ly",
        "showLink": true
       },
       "data": [
        {
         "marker": {
          "color": [
           "rgb(255, 153, 51)",
           "rgb(55, 128, 191)",
           "rgb(50, 171, 96)",
           "rgb(128, 0, 128)",
           "rgb(219, 64, 82)",
           "rgb(0, 128, 128)",
           "rgb(255, 255, 51)",
           "rgb(128, 128, 0)",
           "rgb(251, 128, 114)",
           "rgb(128, 177, 211)"
          ],
          "line": {
           "width": 1.3
          },
          "size": [
           72,
           37,
           83,
           95,
           60,
           67,
           84,
           46,
           111,
           51,
           90,
           93,
           71,
           13,
           59,
           34,
           57,
           64,
           81,
           72,
           99,
           21,
           83,
           92,
           38,
           55,
           42,
           34,
           15,
           38,
           64,
           38,
           40,
           110,
           12,
           66,
           32,
           20,
           102,
           40,
           82,
           84,
           109,
           20,
           58,
           66,
           82,
           77,
           74,
           109,
           26,
           66,
           101,
           28,
           63,
           46,
           25,
           49,
           41,
           56,
           67,
           109,
           84,
           101,
           112,
           44,
           15,
           43,
           15,
           29,
           44,
           63,
           27,
           77,
           69,
           51,
           100,
           34,
           17,
           74,
           22,
           17,
           63,
           104,
           102,
           75,
           51,
           36,
           28,
           30,
           102,
           24,
           72,
           65,
           45,
           98,
           105,
           108,
           13,
           96
          ],
          "symbol": "circle"
         },
         "mode": "markers",
         "text": "",
         "type": "scatter",
         "x": [
          0.06664371620244847,
          0.5407620947234574,
          0.6689151881233841,
          0.721092412348836,
          0.3759797914497993,
          0.39527735063052827,
          0.4934522395805472,
          0.855897801465149,
          0.7374102580018511,
          0.7287535440658456,
          0.9087893119029362,
          0.0389729107276543,
          0.9131979511127855,
          0.40962089859421325,
          0.47657514104573917,
          0.08720299353607297,
          0.13690164698888896,
          0.5035481247163679,
          0.266135761384094,
          0.6549949357531493,
          0.08051241257947772,
          0.9214281008363931,
          0.2829524471881053,
          0.6527173363263697,
          0.18800592724027765,
          0.5581934203599891,
          0.56098202587155,
          0.4601468637306919,
          0.7818563913340485,
          0.5536017893406393,
          0.2076552401035373,
          0.35928237992313494,
          0.6587218084028461,
          0.811613083395124,
          0.25420805654115597,
          0.6840002810466673,
          0.6111164582393296,
          0.2938576195012119,
          0.5111691101046774,
          0.3875542277771037,
          0.7451045436127167,
          0.9501473884996332,
          0.004498032004161545,
          0.5092605688140478,
          0.6564632643610027,
          0.6201931780594065,
          0.6842706981054051,
          0.2709670378722623,
          0.2120575730857116,
          0.8134311075392741,
          0.24116333321833616,
          0.23103251700435679,
          0.008515506141043239,
          0.39050763129267874,
          0.029665479583302568,
          0.3045989776296153,
          0.26725801998027643,
          0.26039194932627807,
          0.12224282846630519,
          0.6330862699036091,
          0.5457474773327132,
          0.4180438341797862,
          0.46736457227967254,
          0.2185566342291806,
          0.08059260147056657,
          0.38368185010623335,
          0.3086118649520281,
          0.2908710248091253,
          0.21329586658150246,
          0.15006898078339448,
          0.5450323688265107,
          0.5531789726038746,
          0.9480092589771546,
          0.061642493465942194,
          0.4105801261150056,
          0.6296851450210539,
          0.6368558770397965,
          0.01642034253496527,
          0.30064919685985814,
          0.1130722453206362,
          0.9458354659747372,
          0.631307464603639,
          0.6938179081613992,
          0.8876160139563236,
          0.2637635757689851,
          0.7855477777304667,
          0.22261139352906356,
          0.004728933024584991,
          0.9885717734657872,
          0.6468037364293703,
          0.8205938194632254,
          0.46987932516763353,
          0.10891344024228955,
          0.5532588345858189,
          0.3828403044919656,
          0.6048392490123118,
          0.12306666157306034,
          0.7889998286430977,
          0.9125580422545567,
          0.013538786394112545
         ],
         "y": [
          0.1708528654602024,
          0.7947643961159381,
          0.12666139207012694,
          0.3704731100280987,
          0.4268231835968821,
          0.35764351148766405,
          0.2305666365210597,
          0.5538324288018692,
          0.594848156221167,
          0.9200479583746664,
          0.07590398582031088,
          0.9671854096015232,
          0.7125727126759903,
          0.8271226920363048,
          0.7927056070623242,
          0.8726781316595718,
          0.8439521568895053,
          0.09259317145482682,
          0.23178163096381899,
          0.09344484466459091,
          0.5209866753943617,
          0.2827883678792852,
          0.7060326111475312,
          0.8269352626736227,
          0.07581189650262699,
          0.5534557276357995,
          0.4709639927533994,
          0.5077795018414701,
          0.8146512167413209,
          0.0632160619388743,
          0.3784684778530909,
          0.11831403628208981,
          0.6604793256512019,
          0.8508837419021006,
          0.07326909011979632,
          0.1707061886641288,
          0.24602297556450203,
          0.32942390765767826,
          0.7827689079006152,
          0.5707580434972809,
          0.4557217240085497,
          0.3213546954349775,
          0.959796038755243,
          0.6792786524938019,
          0.6221080084291316,
          0.7916085199812986,
          0.196691226645063,
          0.23166202663976354,
          0.9871650353364658,
          0.5609852351224877,
          0.23060749190256702,
          0.6030149483879629,
          0.5418942503693233,
          0.8313579981419337,
          0.5005334875818716,
          0.17581835788597155,
          0.06043898969061501,
          0.1513690889963779,
          0.4965519044757296,
          0.6845533661268685,
          0.9632402423903895,
          0.15123322447511456,
          0.05491020331362695,
          0.06992307697450528,
          0.9251471556135247,
          0.07302669974492837,
          0.8412452325410701,
          0.052016817071149024,
          0.8937151859836213,
          0.7394998538110885,
          0.3726497227625558,
          0.6433686562554597,
          0.7862230059861702,
          0.8116612066335772,
          0.38686238605025935,
          0.3060482999038615,
          0.6352252249607443,
          0.7774964614027035,
          0.7629484316044388,
          0.987975440479305,
          0.8664798150644375,
          0.020203965710475558,
          0.3398395293157366,
          0.1122650337145874,
          0.07152937015646599,
          0.5787200279474213,
          0.6593323504043507,
          0.37568271757463945,
          0.6662653070220816,
          0.7340273240332108,
          0.8256606515853963,
          0.6375461978363576,
          0.8841503987586986,
          0.7621034473804962,
          0.04889787877109286,
          0.0060500550690697485,
          0.4195028769104727,
          0.209559422638408,
          0.044830301159018204,
          0.7621977253010859
         ]
        }
       ],
       "layout": {
        "legend": {
         "bgcolor": "#F5F6F9",
         "font": {
          "color": "#4D5663"
         }
        },
        "paper_bgcolor": "#F5F6F9",
        "plot_bgcolor": "#F5F6F9",
        "template": {
         "data": {
          "bar": [
           {
            "error_x": {
             "color": "#2a3f5f"
            },
            "error_y": {
             "color": "#2a3f5f"
            },
            "marker": {
             "line": {
              "color": "#E5ECF6",
              "width": 0.5
             }
            },
            "type": "bar"
           }
          ],
          "barpolar": [
           {
            "marker": {
             "line": {
              "color": "#E5ECF6",
              "width": 0.5
             }
            },
            "type": "barpolar"
           }
          ],
          "carpet": [
           {
            "aaxis": {
             "endlinecolor": "#2a3f5f",
             "gridcolor": "white",
             "linecolor": "white",
             "minorgridcolor": "white",
             "startlinecolor": "#2a3f5f"
            },
            "baxis": {
             "endlinecolor": "#2a3f5f",
             "gridcolor": "white",
             "linecolor": "white",
             "minorgridcolor": "white",
             "startlinecolor": "#2a3f5f"
            },
            "type": "carpet"
           }
          ],
          "choropleth": [
           {
            "colorbar": {
             "outlinewidth": 0,
             "ticks": ""
            },
            "type": "choropleth"
           }
          ],
          "contour": [
           {
            "colorbar": {
             "outlinewidth": 0,
             "ticks": ""
            },
            "colorscale": [
             [
              0,
              "#0d0887"
             ],
             [
              0.1111111111111111,
              "#46039f"
             ],
             [
              0.2222222222222222,
              "#7201a8"
             ],
             [
              0.3333333333333333,
              "#9c179e"
             ],
             [
              0.4444444444444444,
              "#bd3786"
             ],
             [
              0.5555555555555556,
              "#d8576b"
             ],
             [
              0.6666666666666666,
              "#ed7953"
             ],
             [
              0.7777777777777778,
              "#fb9f3a"
             ],
             [
              0.8888888888888888,
              "#fdca26"
             ],
             [
              1,
              "#f0f921"
             ]
            ],
            "type": "contour"
           }
          ],
          "contourcarpet": [
           {
            "colorbar": {
             "outlinewidth": 0,
             "ticks": ""
            },
            "type": "contourcarpet"
           }
          ],
          "heatmap": [
           {
            "colorbar": {
             "outlinewidth": 0,
             "ticks": ""
            },
            "colorscale": [
             [
              0,
              "#0d0887"
             ],
             [
              0.1111111111111111,
              "#46039f"
             ],
             [
              0.2222222222222222,
              "#7201a8"
             ],
             [
              0.3333333333333333,
              "#9c179e"
             ],
             [
              0.4444444444444444,
              "#bd3786"
             ],
             [
              0.5555555555555556,
              "#d8576b"
             ],
             [
              0.6666666666666666,
              "#ed7953"
             ],
             [
              0.7777777777777778,
              "#fb9f3a"
             ],
             [
              0.8888888888888888,
              "#fdca26"
             ],
             [
              1,
              "#f0f921"
             ]
            ],
            "type": "heatmap"
           }
          ],
          "heatmapgl": [
           {
            "colorbar": {
             "outlinewidth": 0,
             "ticks": ""
            },
            "colorscale": [
             [
              0,
              "#0d0887"
             ],
             [
              0.1111111111111111,
              "#46039f"
             ],
             [
              0.2222222222222222,
              "#7201a8"
             ],
             [
              0.3333333333333333,
              "#9c179e"
             ],
             [
              0.4444444444444444,
              "#bd3786"
             ],
             [
              0.5555555555555556,
              "#d8576b"
             ],
             [
              0.6666666666666666,
              "#ed7953"
             ],
             [
              0.7777777777777778,
              "#fb9f3a"
             ],
             [
              0.8888888888888888,
              "#fdca26"
             ],
             [
              1,
              "#f0f921"
             ]
            ],
            "type": "heatmapgl"
           }
          ],
          "histogram": [
           {
            "marker": {
             "colorbar": {
              "outlinewidth": 0,
              "ticks": ""
             }
            },
            "type": "histogram"
           }
          ],
          "histogram2d": [
           {
            "colorbar": {
             "outlinewidth": 0,
             "ticks": ""
            },
            "colorscale": [
             [
              0,
              "#0d0887"
             ],
             [
              0.1111111111111111,
              "#46039f"
             ],
             [
              0.2222222222222222,
              "#7201a8"
             ],
             [
              0.3333333333333333,
              "#9c179e"
             ],
             [
              0.4444444444444444,
              "#bd3786"
             ],
             [
              0.5555555555555556,
              "#d8576b"
             ],
             [
              0.6666666666666666,
              "#ed7953"
             ],
             [
              0.7777777777777778,
              "#fb9f3a"
             ],
             [
              0.8888888888888888,
              "#fdca26"
             ],
             [
              1,
              "#f0f921"
             ]
            ],
            "type": "histogram2d"
           }
          ],
          "histogram2dcontour": [
           {
            "colorbar": {
             "outlinewidth": 0,
             "ticks": ""
            },
            "colorscale": [
             [
              0,
              "#0d0887"
             ],
             [
              0.1111111111111111,
              "#46039f"
             ],
             [
              0.2222222222222222,
              "#7201a8"
             ],
             [
              0.3333333333333333,
              "#9c179e"
             ],
             [
              0.4444444444444444,
              "#bd3786"
             ],
             [
              0.5555555555555556,
              "#d8576b"
             ],
             [
              0.6666666666666666,
              "#ed7953"
             ],
             [
              0.7777777777777778,
              "#fb9f3a"
             ],
             [
              0.8888888888888888,
              "#fdca26"
             ],
             [
              1,
              "#f0f921"
             ]
            ],
            "type": "histogram2dcontour"
           }
          ],
          "mesh3d": [
           {
            "colorbar": {
             "outlinewidth": 0,
             "ticks": ""
            },
            "type": "mesh3d"
           }
          ],
          "parcoords": [
           {
            "line": {
             "colorbar": {
              "outlinewidth": 0,
              "ticks": ""
             }
            },
            "type": "parcoords"
           }
          ],
          "pie": [
           {
            "automargin": true,
            "type": "pie"
           }
          ],
          "scatter": [
           {
            "marker": {
             "colorbar": {
              "outlinewidth": 0,
              "ticks": ""
             }
            },
            "type": "scatter"
           }
          ],
          "scatter3d": [
           {
            "line": {
             "colorbar": {
              "outlinewidth": 0,
              "ticks": ""
             }
            },
            "marker": {
             "colorbar": {
              "outlinewidth": 0,
              "ticks": ""
             }
            },
            "type": "scatter3d"
           }
          ],
          "scattercarpet": [
           {
            "marker": {
             "colorbar": {
              "outlinewidth": 0,
              "ticks": ""
             }
            },
            "type": "scattercarpet"
           }
          ],
          "scattergeo": [
           {
            "marker": {
             "colorbar": {
              "outlinewidth": 0,
              "ticks": ""
             }
            },
            "type": "scattergeo"
           }
          ],
          "scattergl": [
           {
            "marker": {
             "colorbar": {
              "outlinewidth": 0,
              "ticks": ""
             }
            },
            "type": "scattergl"
           }
          ],
          "scattermapbox": [
           {
            "marker": {
             "colorbar": {
              "outlinewidth": 0,
              "ticks": ""
             }
            },
            "type": "scattermapbox"
           }
          ],
          "scatterpolar": [
           {
            "marker": {
             "colorbar": {
              "outlinewidth": 0,
              "ticks": ""
             }
            },
            "type": "scatterpolar"
           }
          ],
          "scatterpolargl": [
           {
            "marker": {
             "colorbar": {
              "outlinewidth": 0,
              "ticks": ""
             }
            },
            "type": "scatterpolargl"
           }
          ],
          "scatterternary": [
           {
            "marker": {
             "colorbar": {
              "outlinewidth": 0,
              "ticks": ""
             }
            },
            "type": "scatterternary"
           }
          ],
          "surface": [
           {
            "colorbar": {
             "outlinewidth": 0,
             "ticks": ""
            },
            "colorscale": [
             [
              0,
              "#0d0887"
             ],
             [
              0.1111111111111111,
              "#46039f"
             ],
             [
              0.2222222222222222,
              "#7201a8"
             ],
             [
              0.3333333333333333,
              "#9c179e"
             ],
             [
              0.4444444444444444,
              "#bd3786"
             ],
             [
              0.5555555555555556,
              "#d8576b"
             ],
             [
              0.6666666666666666,
              "#ed7953"
             ],
             [
              0.7777777777777778,
              "#fb9f3a"
             ],
             [
              0.8888888888888888,
              "#fdca26"
             ],
             [
              1,
              "#f0f921"
             ]
            ],
            "type": "surface"
           }
          ],
          "table": [
           {
            "cells": {
             "fill": {
              "color": "#EBF0F8"
             },
             "line": {
              "color": "white"
             }
            },
            "header": {
             "fill": {
              "color": "#C8D4E3"
             },
             "line": {
              "color": "white"
             }
            },
            "type": "table"
           }
          ]
         },
         "layout": {
          "annotationdefaults": {
           "arrowcolor": "#2a3f5f",
           "arrowhead": 0,
           "arrowwidth": 1
          },
          "coloraxis": {
           "colorbar": {
            "outlinewidth": 0,
            "ticks": ""
           }
          },
          "colorscale": {
           "diverging": [
            [
             0,
             "#8e0152"
            ],
            [
             0.1,
             "#c51b7d"
            ],
            [
             0.2,
             "#de77ae"
            ],
            [
             0.3,
             "#f1b6da"
            ],
            [
             0.4,
             "#fde0ef"
            ],
            [
             0.5,
             "#f7f7f7"
            ],
            [
             0.6,
             "#e6f5d0"
            ],
            [
             0.7,
             "#b8e186"
            ],
            [
             0.8,
             "#7fbc41"
            ],
            [
             0.9,
             "#4d9221"
            ],
            [
             1,
             "#276419"
            ]
           ],
           "sequential": [
            [
             0,
             "#0d0887"
            ],
            [
             0.1111111111111111,
             "#46039f"
            ],
            [
             0.2222222222222222,
             "#7201a8"
            ],
            [
             0.3333333333333333,
             "#9c179e"
            ],
            [
             0.4444444444444444,
             "#bd3786"
            ],
            [
             0.5555555555555556,
             "#d8576b"
            ],
            [
             0.6666666666666666,
             "#ed7953"
            ],
            [
             0.7777777777777778,
             "#fb9f3a"
            ],
            [
             0.8888888888888888,
             "#fdca26"
            ],
            [
             1,
             "#f0f921"
            ]
           ],
           "sequentialminus": [
            [
             0,
             "#0d0887"
            ],
            [
             0.1111111111111111,
             "#46039f"
            ],
            [
             0.2222222222222222,
             "#7201a8"
            ],
            [
             0.3333333333333333,
             "#9c179e"
            ],
            [
             0.4444444444444444,
             "#bd3786"
            ],
            [
             0.5555555555555556,
             "#d8576b"
            ],
            [
             0.6666666666666666,
             "#ed7953"
            ],
            [
             0.7777777777777778,
             "#fb9f3a"
            ],
            [
             0.8888888888888888,
             "#fdca26"
            ],
            [
             1,
             "#f0f921"
            ]
           ]
          },
          "colorway": [
           "#636efa",
           "#EF553B",
           "#00cc96",
           "#ab63fa",
           "#FFA15A",
           "#19d3f3",
           "#FF6692",
           "#B6E880",
           "#FF97FF",
           "#FECB52"
          ],
          "font": {
           "color": "#2a3f5f"
          },
          "geo": {
           "bgcolor": "white",
           "lakecolor": "white",
           "landcolor": "#E5ECF6",
           "showlakes": true,
           "showland": true,
           "subunitcolor": "white"
          },
          "hoverlabel": {
           "align": "left"
          },
          "hovermode": "closest",
          "mapbox": {
           "style": "light"
          },
          "paper_bgcolor": "white",
          "plot_bgcolor": "#E5ECF6",
          "polar": {
           "angularaxis": {
            "gridcolor": "white",
            "linecolor": "white",
            "ticks": ""
           },
           "bgcolor": "#E5ECF6",
           "radialaxis": {
            "gridcolor": "white",
            "linecolor": "white",
            "ticks": ""
           }
          },
          "scene": {
           "xaxis": {
            "backgroundcolor": "#E5ECF6",
            "gridcolor": "white",
            "gridwidth": 2,
            "linecolor": "white",
            "showbackground": true,
            "ticks": "",
            "zerolinecolor": "white"
           },
           "yaxis": {
            "backgroundcolor": "#E5ECF6",
            "gridcolor": "white",
            "gridwidth": 2,
            "linecolor": "white",
            "showbackground": true,
            "ticks": "",
            "zerolinecolor": "white"
           },
           "zaxis": {
            "backgroundcolor": "#E5ECF6",
            "gridcolor": "white",
            "gridwidth": 2,
            "linecolor": "white",
            "showbackground": true,
            "ticks": "",
            "zerolinecolor": "white"
           }
          },
          "shapedefaults": {
           "line": {
            "color": "#2a3f5f"
           }
          },
          "ternary": {
           "aaxis": {
            "gridcolor": "white",
            "linecolor": "white",
            "ticks": ""
           },
           "baxis": {
            "gridcolor": "white",
            "linecolor": "white",
            "ticks": ""
           },
           "bgcolor": "#E5ECF6",
           "caxis": {
            "gridcolor": "white",
            "linecolor": "white",
            "ticks": ""
           }
          },
          "title": {
           "x": 0.05
          },
          "xaxis": {
           "automargin": true,
           "gridcolor": "white",
           "linecolor": "white",
           "ticks": "",
           "title": {
            "standoff": 15
           },
           "zerolinecolor": "white",
           "zerolinewidth": 2
          },
          "yaxis": {
           "automargin": true,
           "gridcolor": "white",
           "linecolor": "white",
           "ticks": "",
           "title": {
            "standoff": 15
           },
           "zerolinecolor": "white",
           "zerolinewidth": 2
          }
         }
        },
        "title": {
         "font": {
          "color": "#4D5663"
         }
        },
        "xaxis": {
         "gridcolor": "#E1E5ED",
         "showgrid": true,
         "tickfont": {
          "color": "#4D5663"
         },
         "title": {
          "font": {
           "color": "#4D5663"
          },
          "text": ""
         },
         "zerolinecolor": "#E1E5ED"
        },
        "yaxis": {
         "gridcolor": "#E1E5ED",
         "showgrid": true,
         "tickfont": {
          "color": "#4D5663"
         },
         "title": {
          "font": {
           "color": "#4D5663"
          },
          "text": ""
         },
         "zerolinecolor": "#E1E5ED"
        }
       }
      },
      "text/html": "<div>\n        \n        \n            <div id=\"5dbca099-af94-4342-b546-2b464c65d282\" class=\"plotly-graph-div\" style=\"height:525px; width:100%;\"></div>\n            <script type=\"text/javascript\">\n                require([\"plotly\"], function(Plotly) {\n                    window.PLOTLYENV=window.PLOTLYENV || {};\n                    window.PLOTLYENV.BASE_URL='https://plot.ly';\n                    \n                if (document.getElementById(\"5dbca099-af94-4342-b546-2b464c65d282\")) {\n                    Plotly.newPlot(\n                        '5dbca099-af94-4342-b546-2b464c65d282',\n                        [{\"marker\": {\"color\": [\"rgb(255, 153, 51)\", \"rgb(55, 128, 191)\", \"rgb(50, 171, 96)\", \"rgb(128, 0, 128)\", \"rgb(219, 64, 82)\", \"rgb(0, 128, 128)\", \"rgb(255, 255, 51)\", \"rgb(128, 128, 0)\", \"rgb(251, 128, 114)\", \"rgb(128, 177, 211)\"], \"line\": {\"width\": 1.3}, \"size\": [72, 37, 83, 95, 60, 67, 84, 46, 111, 51, 90, 93, 71, 13, 59, 34, 57, 64, 81, 72, 99, 21, 83, 92, 38, 55, 42, 34, 15, 38, 64, 38, 40, 110, 12, 66, 32, 20, 102, 40, 82, 84, 109, 20, 58, 66, 82, 77, 74, 109, 26, 66, 101, 28, 63, 46, 25, 49, 41, 56, 67, 109, 84, 101, 112, 44, 15, 43, 15, 29, 44, 63, 27, 77, 69, 51, 100, 34, 17, 74, 22, 17, 63, 104, 102, 75, 51, 36, 28, 30, 102, 24, 72, 65, 45, 98, 105, 108, 13, 96], \"symbol\": \"circle\"}, \"mode\": \"markers\", \"text\": \"\", \"type\": \"scatter\", \"x\": [0.06664371620244847, 0.5407620947234574, 0.6689151881233841, 0.721092412348836, 0.3759797914497993, 0.39527735063052827, 0.4934522395805472, 0.855897801465149, 0.7374102580018511, 0.7287535440658456, 0.9087893119029362, 0.0389729107276543, 0.9131979511127855, 0.40962089859421325, 0.47657514104573917, 0.08720299353607297, 0.13690164698888896, 0.5035481247163679, 0.266135761384094, 0.6549949357531493, 0.08051241257947772, 0.9214281008363931, 0.2829524471881053, 0.6527173363263697, 0.18800592724027765, 0.5581934203599891, 0.56098202587155, 0.4601468637306919, 0.7818563913340485, 0.5536017893406393, 0.2076552401035373, 0.35928237992313494, 0.6587218084028461, 0.811613083395124, 0.25420805654115597, 0.6840002810466673, 0.6111164582393296, 0.2938576195012119, 0.5111691101046774, 0.3875542277771037, 0.7451045436127167, 0.9501473884996332, 0.004498032004161545, 0.5092605688140478, 0.6564632643610027, 0.6201931780594065, 0.6842706981054051, 0.2709670378722623, 0.2120575730857116, 0.8134311075392741, 0.24116333321833616, 0.23103251700435679, 0.008515506141043239, 0.39050763129267874, 0.029665479583302568, 0.3045989776296153, 0.26725801998027643, 0.26039194932627807, 0.12224282846630519, 0.6330862699036091, 0.5457474773327132, 0.4180438341797862, 0.46736457227967254, 0.2185566342291806, 0.08059260147056657, 0.38368185010623335, 0.3086118649520281, 0.2908710248091253, 0.21329586658150246, 0.15006898078339448, 0.5450323688265107, 0.5531789726038746, 0.9480092589771546, 0.061642493465942194, 0.4105801261150056, 0.6296851450210539, 0.6368558770397965, 0.01642034253496527, 0.30064919685985814, 0.1130722453206362, 0.9458354659747372, 0.631307464603639, 0.6938179081613992, 0.8876160139563236, 0.2637635757689851, 0.7855477777304667, 0.22261139352906356, 0.004728933024584991, 0.9885717734657872, 0.6468037364293703, 0.8205938194632254, 0.46987932516763353, 0.10891344024228955, 0.5532588345858189, 0.3828403044919656, 0.6048392490123118, 0.12306666157306034, 0.7889998286430977, 0.9125580422545567, 0.013538786394112545], \"y\": [0.1708528654602024, 0.7947643961159381, 0.12666139207012694, 0.3704731100280987, 0.4268231835968821, 0.35764351148766405, 0.2305666365210597, 0.5538324288018692, 0.594848156221167, 0.9200479583746664, 0.07590398582031088, 0.9671854096015232, 0.7125727126759903, 0.8271226920363048, 0.7927056070623242, 0.8726781316595718, 0.8439521568895053, 0.09259317145482682, 0.23178163096381899, 0.09344484466459091, 0.5209866753943617, 0.2827883678792852, 0.7060326111475312, 0.8269352626736227, 0.07581189650262699, 0.5534557276357995, 0.4709639927533994, 0.5077795018414701, 0.8146512167413209, 0.0632160619388743, 0.3784684778530909, 0.11831403628208981, 0.6604793256512019, 0.8508837419021006, 0.07326909011979632, 0.1707061886641288, 0.24602297556450203, 0.32942390765767826, 0.7827689079006152, 0.5707580434972809, 0.4557217240085497, 0.3213546954349775, 0.959796038755243, 0.6792786524938019, 0.6221080084291316, 0.7916085199812986, 0.196691226645063, 0.23166202663976354, 0.9871650353364658, 0.5609852351224877, 0.23060749190256702, 0.6030149483879629, 0.5418942503693233, 0.8313579981419337, 0.5005334875818716, 0.17581835788597155, 0.06043898969061501, 0.1513690889963779, 0.4965519044757296, 0.6845533661268685, 0.9632402423903895, 0.15123322447511456, 0.05491020331362695, 0.06992307697450528, 0.9251471556135247, 0.07302669974492837, 0.8412452325410701, 0.052016817071149024, 0.8937151859836213, 0.7394998538110885, 0.3726497227625558, 0.6433686562554597, 0.7862230059861702, 0.8116612066335772, 0.38686238605025935, 0.3060482999038615, 0.6352252249607443, 0.7774964614027035, 0.7629484316044388, 0.987975440479305, 0.8664798150644375, 0.020203965710475558, 0.3398395293157366, 0.1122650337145874, 0.07152937015646599, 0.5787200279474213, 0.6593323504043507, 0.37568271757463945, 0.6662653070220816, 0.7340273240332108, 0.8256606515853963, 0.6375461978363576, 0.8841503987586986, 0.7621034473804962, 0.04889787877109286, 0.0060500550690697485, 0.4195028769104727, 0.209559422638408, 0.044830301159018204, 0.7621977253010859]}],\n                        {\"legend\": {\"bgcolor\": \"#F5F6F9\", \"font\": {\"color\": \"#4D5663\"}}, \"paper_bgcolor\": \"#F5F6F9\", \"plot_bgcolor\": \"#F5F6F9\", \"template\": {\"data\": {\"bar\": [{\"error_x\": {\"color\": \"#2a3f5f\"}, \"error_y\": {\"color\": \"#2a3f5f\"}, \"marker\": {\"line\": {\"color\": \"#E5ECF6\", \"width\": 0.5}}, \"type\": \"bar\"}], \"barpolar\": [{\"marker\": {\"line\": {\"color\": \"#E5ECF6\", \"width\": 0.5}}, \"type\": \"barpolar\"}], \"carpet\": [{\"aaxis\": {\"endlinecolor\": \"#2a3f5f\", \"gridcolor\": \"white\", \"linecolor\": \"white\", \"minorgridcolor\": \"white\", \"startlinecolor\": \"#2a3f5f\"}, \"baxis\": {\"endlinecolor\": \"#2a3f5f\", \"gridcolor\": \"white\", \"linecolor\": \"white\", \"minorgridcolor\": \"white\", \"startlinecolor\": \"#2a3f5f\"}, \"type\": \"carpet\"}], \"choropleth\": [{\"colorbar\": {\"outlinewidth\": 0, \"ticks\": \"\"}, \"type\": \"choropleth\"}], \"contour\": [{\"colorbar\": {\"outlinewidth\": 0, \"ticks\": \"\"}, \"colorscale\": [[0.0, \"#0d0887\"], [0.1111111111111111, \"#46039f\"], [0.2222222222222222, \"#7201a8\"], [0.3333333333333333, \"#9c179e\"], [0.4444444444444444, \"#bd3786\"], [0.5555555555555556, \"#d8576b\"], [0.6666666666666666, \"#ed7953\"], [0.7777777777777778, \"#fb9f3a\"], [0.8888888888888888, \"#fdca26\"], [1.0, \"#f0f921\"]], \"type\": \"contour\"}], \"contourcarpet\": [{\"colorbar\": {\"outlinewidth\": 0, \"ticks\": \"\"}, \"type\": \"contourcarpet\"}], \"heatmap\": [{\"colorbar\": {\"outlinewidth\": 0, \"ticks\": \"\"}, \"colorscale\": [[0.0, \"#0d0887\"], [0.1111111111111111, \"#46039f\"], [0.2222222222222222, \"#7201a8\"], [0.3333333333333333, \"#9c179e\"], [0.4444444444444444, \"#bd3786\"], [0.5555555555555556, \"#d8576b\"], [0.6666666666666666, \"#ed7953\"], [0.7777777777777778, \"#fb9f3a\"], [0.8888888888888888, \"#fdca26\"], [1.0, \"#f0f921\"]], \"type\": \"heatmap\"}], \"heatmapgl\": [{\"colorbar\": {\"outlinewidth\": 0, \"ticks\": \"\"}, \"colorscale\": [[0.0, \"#0d0887\"], [0.1111111111111111, \"#46039f\"], [0.2222222222222222, \"#7201a8\"], [0.3333333333333333, \"#9c179e\"], [0.4444444444444444, \"#bd3786\"], [0.5555555555555556, \"#d8576b\"], [0.6666666666666666, \"#ed7953\"], [0.7777777777777778, \"#fb9f3a\"], [0.8888888888888888, \"#fdca26\"], [1.0, \"#f0f921\"]], \"type\": \"heatmapgl\"}], \"histogram\": [{\"marker\": {\"colorbar\": {\"outlinewidth\": 0, \"ticks\": \"\"}}, \"type\": \"histogram\"}], \"histogram2d\": [{\"colorbar\": {\"outlinewidth\": 0, \"ticks\": \"\"}, \"colorscale\": [[0.0, \"#0d0887\"], [0.1111111111111111, \"#46039f\"], [0.2222222222222222, \"#7201a8\"], [0.3333333333333333, \"#9c179e\"], [0.4444444444444444, \"#bd3786\"], [0.5555555555555556, \"#d8576b\"], [0.6666666666666666, \"#ed7953\"], [0.7777777777777778, \"#fb9f3a\"], [0.8888888888888888, \"#fdca26\"], [1.0, \"#f0f921\"]], \"type\": \"histogram2d\"}], \"histogram2dcontour\": [{\"colorbar\": {\"outlinewidth\": 0, \"ticks\": \"\"}, \"colorscale\": [[0.0, \"#0d0887\"], [0.1111111111111111, \"#46039f\"], [0.2222222222222222, \"#7201a8\"], [0.3333333333333333, \"#9c179e\"], [0.4444444444444444, \"#bd3786\"], [0.5555555555555556, \"#d8576b\"], [0.6666666666666666, \"#ed7953\"], [0.7777777777777778, \"#fb9f3a\"], [0.8888888888888888, \"#fdca26\"], [1.0, \"#f0f921\"]], \"type\": \"histogram2dcontour\"}], \"mesh3d\": [{\"colorbar\": {\"outlinewidth\": 0, \"ticks\": \"\"}, \"type\": \"mesh3d\"}], \"parcoords\": [{\"line\": {\"colorbar\": {\"outlinewidth\": 0, \"ticks\": \"\"}}, \"type\": \"parcoords\"}], \"pie\": [{\"automargin\": true, \"type\": \"pie\"}], \"scatter\": [{\"marker\": {\"colorbar\": {\"outlinewidth\": 0, \"ticks\": \"\"}}, \"type\": \"scatter\"}], \"scatter3d\": [{\"line\": {\"colorbar\": {\"outlinewidth\": 0, \"ticks\": \"\"}}, \"marker\": {\"colorbar\": {\"outlinewidth\": 0, \"ticks\": \"\"}}, \"type\": \"scatter3d\"}], \"scattercarpet\": [{\"marker\": {\"colorbar\": {\"outlinewidth\": 0, \"ticks\": \"\"}}, \"type\": \"scattercarpet\"}], \"scattergeo\": [{\"marker\": {\"colorbar\": {\"outlinewidth\": 0, \"ticks\": \"\"}}, \"type\": \"scattergeo\"}], \"scattergl\": [{\"marker\": {\"colorbar\": {\"outlinewidth\": 0, \"ticks\": \"\"}}, \"type\": \"scattergl\"}], \"scattermapbox\": [{\"marker\": {\"colorbar\": {\"outlinewidth\": 0, \"ticks\": \"\"}}, \"type\": \"scattermapbox\"}], \"scatterpolar\": [{\"marker\": {\"colorbar\": {\"outlinewidth\": 0, \"ticks\": \"\"}}, \"type\": \"scatterpolar\"}], \"scatterpolargl\": [{\"marker\": {\"colorbar\": {\"outlinewidth\": 0, \"ticks\": \"\"}}, \"type\": \"scatterpolargl\"}], \"scatterternary\": [{\"marker\": {\"colorbar\": {\"outlinewidth\": 0, \"ticks\": \"\"}}, \"type\": \"scatterternary\"}], \"surface\": [{\"colorbar\": {\"outlinewidth\": 0, \"ticks\": \"\"}, \"colorscale\": [[0.0, \"#0d0887\"], [0.1111111111111111, \"#46039f\"], [0.2222222222222222, \"#7201a8\"], [0.3333333333333333, \"#9c179e\"], [0.4444444444444444, \"#bd3786\"], [0.5555555555555556, \"#d8576b\"], [0.6666666666666666, \"#ed7953\"], [0.7777777777777778, \"#fb9f3a\"], [0.8888888888888888, \"#fdca26\"], [1.0, \"#f0f921\"]], \"type\": \"surface\"}], \"table\": [{\"cells\": {\"fill\": {\"color\": \"#EBF0F8\"}, \"line\": {\"color\": \"white\"}}, \"header\": {\"fill\": {\"color\": \"#C8D4E3\"}, \"line\": {\"color\": \"white\"}}, \"type\": \"table\"}]}, \"layout\": {\"annotationdefaults\": {\"arrowcolor\": \"#2a3f5f\", \"arrowhead\": 0, \"arrowwidth\": 1}, \"coloraxis\": {\"colorbar\": {\"outlinewidth\": 0, \"ticks\": \"\"}}, \"colorscale\": {\"diverging\": [[0, \"#8e0152\"], [0.1, \"#c51b7d\"], [0.2, \"#de77ae\"], [0.3, \"#f1b6da\"], [0.4, \"#fde0ef\"], [0.5, \"#f7f7f7\"], [0.6, \"#e6f5d0\"], [0.7, \"#b8e186\"], [0.8, \"#7fbc41\"], [0.9, \"#4d9221\"], [1, \"#276419\"]], \"sequential\": [[0.0, \"#0d0887\"], [0.1111111111111111, \"#46039f\"], [0.2222222222222222, \"#7201a8\"], [0.3333333333333333, \"#9c179e\"], [0.4444444444444444, \"#bd3786\"], [0.5555555555555556, \"#d8576b\"], [0.6666666666666666, \"#ed7953\"], [0.7777777777777778, \"#fb9f3a\"], [0.8888888888888888, \"#fdca26\"], [1.0, \"#f0f921\"]], \"sequentialminus\": [[0.0, \"#0d0887\"], [0.1111111111111111, \"#46039f\"], [0.2222222222222222, \"#7201a8\"], [0.3333333333333333, \"#9c179e\"], [0.4444444444444444, \"#bd3786\"], [0.5555555555555556, \"#d8576b\"], [0.6666666666666666, \"#ed7953\"], [0.7777777777777778, \"#fb9f3a\"], [0.8888888888888888, \"#fdca26\"], [1.0, \"#f0f921\"]]}, \"colorway\": [\"#636efa\", \"#EF553B\", \"#00cc96\", \"#ab63fa\", \"#FFA15A\", \"#19d3f3\", \"#FF6692\", \"#B6E880\", \"#FF97FF\", \"#FECB52\"], \"font\": {\"color\": \"#2a3f5f\"}, \"geo\": {\"bgcolor\": \"white\", \"lakecolor\": \"white\", \"landcolor\": \"#E5ECF6\", \"showlakes\": true, \"showland\": true, \"subunitcolor\": \"white\"}, \"hoverlabel\": {\"align\": \"left\"}, \"hovermode\": \"closest\", \"mapbox\": {\"style\": \"light\"}, \"paper_bgcolor\": \"white\", \"plot_bgcolor\": \"#E5ECF6\", \"polar\": {\"angularaxis\": {\"gridcolor\": \"white\", \"linecolor\": \"white\", \"ticks\": \"\"}, \"bgcolor\": \"#E5ECF6\", \"radialaxis\": {\"gridcolor\": \"white\", \"linecolor\": \"white\", \"ticks\": \"\"}}, \"scene\": {\"xaxis\": {\"backgroundcolor\": \"#E5ECF6\", \"gridcolor\": \"white\", \"gridwidth\": 2, \"linecolor\": \"white\", \"showbackground\": true, \"ticks\": \"\", \"zerolinecolor\": \"white\"}, \"yaxis\": {\"backgroundcolor\": \"#E5ECF6\", \"gridcolor\": \"white\", \"gridwidth\": 2, \"linecolor\": \"white\", \"showbackground\": true, \"ticks\": \"\", \"zerolinecolor\": \"white\"}, \"zaxis\": {\"backgroundcolor\": \"#E5ECF6\", \"gridcolor\": \"white\", \"gridwidth\": 2, \"linecolor\": \"white\", \"showbackground\": true, \"ticks\": \"\", \"zerolinecolor\": \"white\"}}, \"shapedefaults\": {\"line\": {\"color\": \"#2a3f5f\"}}, \"ternary\": {\"aaxis\": {\"gridcolor\": \"white\", \"linecolor\": \"white\", \"ticks\": \"\"}, \"baxis\": {\"gridcolor\": \"white\", \"linecolor\": \"white\", \"ticks\": \"\"}, \"bgcolor\": \"#E5ECF6\", \"caxis\": {\"gridcolor\": \"white\", \"linecolor\": \"white\", \"ticks\": \"\"}}, \"title\": {\"x\": 0.05}, \"xaxis\": {\"automargin\": true, \"gridcolor\": \"white\", \"linecolor\": \"white\", \"ticks\": \"\", \"title\": {\"standoff\": 15}, \"zerolinecolor\": \"white\", \"zerolinewidth\": 2}, \"yaxis\": {\"automargin\": true, \"gridcolor\": \"white\", \"linecolor\": \"white\", \"ticks\": \"\", \"title\": {\"standoff\": 15}, \"zerolinecolor\": \"white\", \"zerolinewidth\": 2}}}, \"title\": {\"font\": {\"color\": \"#4D5663\"}}, \"xaxis\": {\"gridcolor\": \"#E1E5ED\", \"showgrid\": true, \"tickfont\": {\"color\": \"#4D5663\"}, \"title\": {\"font\": {\"color\": \"#4D5663\"}, \"text\": \"\"}, \"zerolinecolor\": \"#E1E5ED\"}, \"yaxis\": {\"gridcolor\": \"#E1E5ED\", \"showgrid\": true, \"tickfont\": {\"color\": \"#4D5663\"}, \"title\": {\"font\": {\"color\": \"#4D5663\"}, \"text\": \"\"}, \"zerolinecolor\": \"#E1E5ED\"}},\n                        {\"showLink\": true, \"linkText\": \"Export to plot.ly\", \"plotlyServerURL\": \"https://plot.ly\", \"responsive\": true}\n                    ).then(function(){\n                            \nvar gd = document.getElementById('5dbca099-af94-4342-b546-2b464c65d282');\nvar x = new MutationObserver(function (mutations, observer) {{\n        var display = window.getComputedStyle(gd).display;\n        if (!display || display === 'none') {{\n            console.log([gd, 'removed!']);\n            Plotly.purge(gd);\n            observer.disconnect();\n        }}\n}});\n\n// Listen for the removal of the full notebook cells\nvar notebookContainer = gd.closest('#notebook-container');\nif (notebookContainer) {{\n    x.observe(notebookContainer, {childList: true});\n}}\n\n// Listen for the clearing of the current output cell\nvar outputEl = gd.closest('.output');\nif (outputEl) {{\n    x.observe(outputEl, {childList: true});\n}}\n\n                        })\n                };\n                });\n            </script>\n        </div>"
     },
     "metadata": {}
    }
   ],
   "source": [
    "df.iplot(kind='bubble',x='a',y='b',size='d')"
   ]
  },
  {
   "cell_type": "code",
   "execution_count": null,
   "metadata": {},
   "outputs": [],
   "source": []
  }
 ]
}